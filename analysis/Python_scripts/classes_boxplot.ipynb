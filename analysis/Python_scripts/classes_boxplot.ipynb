{
 "cells": [
  {
   "cell_type": "code",
   "execution_count": null,
   "metadata": {},
   "outputs": [],
   "source": [
    "import pandas as pd\n",
    "import os\n",
    "import numpy as np\n",
    "import math\n",
    "from matplotlib import pyplot as plt\n",
    "from rdkit import Chem\n",
    "import plotly.graph_objs as go\n",
    "from plotly.subplots import make_subplots\n",
    "\n",
    "from utils import *\n",
    "from plotting import *"
   ]
  },
  {
   "cell_type": "code",
   "execution_count": null,
   "metadata": {},
   "outputs": [],
   "source": [
    "matchms_scores = pd.read_csv(\"../data/output_matching/matchms/matchms_tol_0.0035_1%I_all_peaks_with_0s_only_matching.tsv\", sep=\"\\t\")\n",
    "matchms_scores.rename(columns={'CosineHungarian_0.0035_0.0_1.0_scores': 'scores'}, inplace=True)\n",
    "matchms_scores.rename(columns={'CosineHungarian_0.0035_0.0_1.0_matches': 'matches'}, inplace=True)\n",
    "matchms_scores = append_classes(matchms_scores, 'query')\n",
    "matchms_scores = append_spectrum_metadata(matchms_scores)"
   ]
  },
  {
   "cell_type": "code",
   "execution_count": null,
   "metadata": {},
   "outputs": [],
   "source": [
    "matchms_scores_superclass = preprocess_data(normalize_df(matchms_scores.copy()), [\"superclass\"])\n",
    "larger_superclasses = matchms_scores_superclass.groupby(\"superclass\").filter(lambda x: len(x) > 2)\n",
    "create_plot(larger_superclasses, \"superclass\", normalized_matches=True).show()"
   ]
  },
  {
   "cell_type": "code",
   "execution_count": null,
   "metadata": {},
   "outputs": [],
   "source": [
    "matchms_scores_top5 = pd.read_csv(\"../data/output_matching/matchms/matchms_tol_0.0035_1%I_top5_with_0s_only_matching.tsv\", sep=\"\\t\")\n",
    "matchms_scores_top5.rename(columns={'CosineHungarian_0.0035_0.0_1.0_scores': 'scores'}, inplace=True)\n",
    "matchms_scores_top5.rename(columns={'CosineHungarian_0.0035_0.0_1.0_matches': 'matches'}, inplace=True)\n",
    "matchms_scores_top5 = append_classes(matchms_scores_top5, 'query')\n",
    "matchms_scores_top5 = append_spectrum_metadata(matchms_scores_top5)"
   ]
  },
  {
   "cell_type": "code",
   "execution_count": null,
   "metadata": {},
   "outputs": [],
   "source": [
    "matchms_scores_superclass_top5 = preprocess_data(normalize_df(matchms_scores_top5.copy(), matches_norm_col=None), [\"superclass\"])\n",
    "larger_superclasses_top5 = matchms_scores_superclass_top5.groupby(\"superclass\").filter(lambda x: len(x) > 2)\n",
    "create_plot(larger_superclasses_top5, \"superclass\", normalized_matches=False).show()"
   ]
  },
  {
   "cell_type": "code",
   "execution_count": null,
   "metadata": {},
   "outputs": [],
   "source": [
    "merged = normalize_df(matchms_scores.copy())\n",
    "\n",
    "scores_preprocessed_hierarchy = preprocess_data(merged, [\"superclass\", \"class\", \"subclass\"]).groupby(\"superclass\")\n",
    "\n",
    "grouping = \"class\"\n",
    "\n",
    "for group in scores_preprocessed_hierarchy.groups:\n",
    "    grp = scores_preprocessed_hierarchy.get_group(group).groupby(grouping).filter(lambda x: len(x) > 2)\n",
    "    if len(grp) > 0:\n",
    "        fig = create_plot(grp, grouping, showlegend=False, hide_labels=True)\n",
    "        plt.show()"
   ]
  }
 ],
 "metadata": {
  "kernelspec": {
   "display_name": "Python 3",
   "language": "python",
   "name": "python3"
  },
  "language_info": {
   "codemirror_mode": {
    "name": "ipython",
    "version": 3
   },
   "file_extension": ".py",
   "mimetype": "text/x-python",
   "name": "python",
   "nbconvert_exporter": "python",
   "pygments_lexer": "ipython3",
   "version": "3.10.0"
  }
 },
 "nbformat": 4,
 "nbformat_minor": 2
}
