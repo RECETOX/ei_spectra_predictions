{
 "cells": [
  {
   "cell_type": "code",
   "execution_count": 11,
   "metadata": {},
   "outputs": [],
   "source": [
    "from matchms.importing import load_from_msp\n",
    "from matchms.plotting import plot_spectra_mirror\n",
    "import pandas as pd\n",
    "from matplotlib import pyplot as plt\n",
    "from pathlib import Path\n",
    "\n"
   ]
  },
  {
   "cell_type": "code",
   "execution_count": 12,
   "metadata": {},
   "outputs": [],
   "source": [
    "scores = pd.read_csv(\"../data/output_matching/matchms/matchms_tol_0.0035_1%I_all_peaks_with_0s_only_matching.tsv\", sep='\\t')"
   ]
  },
  {
   "cell_type": "code",
   "execution_count": 13,
   "metadata": {},
   "outputs": [
    {
     "name": "stdout",
     "output_type": "stream",
     "text": [
      "2024-07-15 11:25:04,537:WARNING:matchms:add_precursor_mz:No precursor_mz found in metadata.\n",
      "2024-07-15 11:25:04,538:WARNING:matchms:add_retention:None can't be converted to float.\n",
      "2024-07-15 11:25:04,538:WARNING:matchms:add_retention:None can't be converted to float.\n",
      "2024-07-15 11:25:04,540:WARNING:matchms:add_precursor_mz:No precursor_mz found in metadata.\n",
      "2024-07-15 11:25:04,541:WARNING:matchms:add_retention:None can't be converted to float.\n",
      "2024-07-15 11:25:04,542:WARNING:matchms:add_retention:None can't be converted to float.\n",
      "2024-07-15 11:25:04,544:WARNING:matchms:add_precursor_mz:No precursor_mz found in metadata.\n",
      "2024-07-15 11:25:04,545:WARNING:matchms:add_retention:None can't be converted to float.\n",
      "2024-07-15 11:25:04,545:WARNING:matchms:add_retention:None can't be converted to float.\n",
      "2024-07-15 11:25:04,546:WARNING:matchms:add_precursor_mz:No precursor_mz found in metadata.\n",
      "2024-07-15 11:25:04,546:WARNING:matchms:add_retention:None can't be converted to float.\n",
      "2024-07-15 11:25:04,547:WARNING:matchms:add_retention:None can't be converted to float.\n",
      "2024-07-15 11:25:04,548:WARNING:matchms:add_precursor_mz:No precursor_mz found in metadata.\n",
      "2024-07-15 11:25:04,549:WARNING:matchms:add_retention:None can't be converted to float.\n",
      "2024-07-15 11:25:04,549:WARNING:matchms:add_retention:None can't be converted to float.\n",
      "2024-07-15 11:25:04,551:WARNING:matchms:add_precursor_mz:No precursor_mz found in metadata.\n",
      "2024-07-15 11:25:04,552:WARNING:matchms:add_retention:None can't be converted to float.\n",
      "2024-07-15 11:25:04,552:WARNING:matchms:add_retention:None can't be converted to float.\n",
      "2024-07-15 11:25:04,553:WARNING:matchms:add_precursor_mz:No precursor_mz found in metadata.\n",
      "2024-07-15 11:25:04,553:WARNING:matchms:add_retention:None can't be converted to float.\n",
      "2024-07-15 11:25:04,554:WARNING:matchms:add_retention:None can't be converted to float.\n",
      "2024-07-15 11:25:04,555:WARNING:matchms:add_precursor_mz:No precursor_mz found in metadata.\n",
      "2024-07-15 11:25:04,556:WARNING:matchms:add_retention:None can't be converted to float.\n",
      "2024-07-15 11:25:04,556:WARNING:matchms:add_retention:None can't be converted to float.\n",
      "2024-07-15 11:25:04,557:WARNING:matchms:add_precursor_mz:No precursor_mz found in metadata.\n",
      "2024-07-15 11:25:04,557:WARNING:matchms:add_retention:None can't be converted to float.\n",
      "2024-07-15 11:25:04,558:WARNING:matchms:add_retention:None can't be converted to float.\n",
      "2024-07-15 11:25:04,559:WARNING:matchms:add_precursor_mz:No precursor_mz found in metadata.\n",
      "2024-07-15 11:25:04,559:WARNING:matchms:add_retention:None can't be converted to float.\n",
      "2024-07-15 11:25:04,559:WARNING:matchms:add_retention:None can't be converted to float.\n",
      "2024-07-15 11:25:04,560:WARNING:matchms:add_precursor_mz:No precursor_mz found in metadata.\n",
      "2024-07-15 11:25:04,561:WARNING:matchms:add_retention:None can't be converted to float.\n",
      "2024-07-15 11:25:04,561:WARNING:matchms:add_retention:None can't be converted to float.\n",
      "2024-07-15 11:25:04,564:WARNING:matchms:add_precursor_mz:No precursor_mz found in metadata.\n",
      "2024-07-15 11:25:04,564:WARNING:matchms:add_retention:None can't be converted to float.\n",
      "2024-07-15 11:25:04,564:WARNING:matchms:add_retention:None can't be converted to float.\n",
      "2024-07-15 11:25:04,567:WARNING:matchms:add_precursor_mz:No precursor_mz found in metadata.\n",
      "2024-07-15 11:25:04,567:WARNING:matchms:add_retention:None can't be converted to float.\n",
      "2024-07-15 11:25:04,567:WARNING:matchms:add_retention:None can't be converted to float.\n",
      "2024-07-15 11:25:04,569:WARNING:matchms:add_precursor_mz:No precursor_mz found in metadata.\n",
      "2024-07-15 11:25:04,569:WARNING:matchms:add_retention:None can't be converted to float.\n",
      "2024-07-15 11:25:04,569:WARNING:matchms:add_retention:None can't be converted to float.\n",
      "2024-07-15 11:25:04,571:WARNING:matchms:add_precursor_mz:No precursor_mz found in metadata.\n",
      "2024-07-15 11:25:04,571:WARNING:matchms:add_retention:None can't be converted to float.\n",
      "2024-07-15 11:25:04,572:WARNING:matchms:add_retention:None can't be converted to float.\n",
      "2024-07-15 11:25:04,573:WARNING:matchms:add_precursor_mz:No precursor_mz found in metadata.\n",
      "2024-07-15 11:25:04,574:WARNING:matchms:add_retention:None can't be converted to float.\n",
      "2024-07-15 11:25:04,574:WARNING:matchms:add_retention:None can't be converted to float.\n",
      "2024-07-15 11:25:04,575:WARNING:matchms:add_precursor_mz:No precursor_mz found in metadata.\n",
      "2024-07-15 11:25:04,575:WARNING:matchms:add_retention:None can't be converted to float.\n",
      "2024-07-15 11:25:04,575:WARNING:matchms:add_retention:None can't be converted to float.\n",
      "2024-07-15 11:25:04,578:WARNING:matchms:add_precursor_mz:No precursor_mz found in metadata.\n",
      "2024-07-15 11:25:04,578:WARNING:matchms:add_retention:None can't be converted to float.\n",
      "2024-07-15 11:25:04,578:WARNING:matchms:add_retention:None can't be converted to float.\n",
      "2024-07-15 11:25:04,579:WARNING:matchms:add_precursor_mz:No precursor_mz found in metadata.\n",
      "2024-07-15 11:25:04,579:WARNING:matchms:add_retention:None can't be converted to float.\n",
      "2024-07-15 11:25:04,579:WARNING:matchms:add_retention:None can't be converted to float.\n",
      "2024-07-15 11:25:04,580:WARNING:matchms:add_precursor_mz:No precursor_mz found in metadata.\n",
      "2024-07-15 11:25:04,581:WARNING:matchms:add_retention:None can't be converted to float.\n",
      "2024-07-15 11:25:04,581:WARNING:matchms:add_retention:None can't be converted to float.\n",
      "2024-07-15 11:25:04,583:WARNING:matchms:add_precursor_mz:No precursor_mz found in metadata.\n",
      "2024-07-15 11:25:04,584:WARNING:matchms:add_retention:None can't be converted to float.\n",
      "2024-07-15 11:25:04,584:WARNING:matchms:add_retention:None can't be converted to float.\n",
      "2024-07-15 11:25:04,586:WARNING:matchms:add_precursor_mz:No precursor_mz found in metadata.\n",
      "2024-07-15 11:25:04,587:WARNING:matchms:add_retention:None can't be converted to float.\n",
      "2024-07-15 11:25:04,587:WARNING:matchms:add_retention:None can't be converted to float.\n",
      "2024-07-15 11:25:04,590:WARNING:matchms:add_precursor_mz:No precursor_mz found in metadata.\n",
      "2024-07-15 11:25:04,591:WARNING:matchms:add_retention:None can't be converted to float.\n",
      "2024-07-15 11:25:04,591:WARNING:matchms:add_retention:None can't be converted to float.\n",
      "2024-07-15 11:25:04,592:WARNING:matchms:add_precursor_mz:No precursor_mz found in metadata.\n",
      "2024-07-15 11:25:04,592:WARNING:matchms:add_retention:None can't be converted to float.\n",
      "2024-07-15 11:25:04,593:WARNING:matchms:add_retention:None can't be converted to float.\n",
      "2024-07-15 11:25:04,595:WARNING:matchms:add_precursor_mz:No precursor_mz found in metadata.\n",
      "2024-07-15 11:25:04,595:WARNING:matchms:add_retention:None can't be converted to float.\n",
      "2024-07-15 11:25:04,596:WARNING:matchms:add_retention:None can't be converted to float.\n",
      "2024-07-15 11:25:04,597:WARNING:matchms:add_precursor_mz:No precursor_mz found in metadata.\n",
      "2024-07-15 11:25:04,597:WARNING:matchms:add_retention:None can't be converted to float.\n",
      "2024-07-15 11:25:04,597:WARNING:matchms:add_retention:None can't be converted to float.\n",
      "2024-07-15 11:25:04,598:WARNING:matchms:add_precursor_mz:No precursor_mz found in metadata.\n",
      "2024-07-15 11:25:04,599:WARNING:matchms:add_retention:None can't be converted to float.\n",
      "2024-07-15 11:25:04,599:WARNING:matchms:add_retention:None can't be converted to float.\n",
      "2024-07-15 11:25:04,601:WARNING:matchms:add_precursor_mz:No precursor_mz found in metadata.\n",
      "2024-07-15 11:25:04,601:WARNING:matchms:add_retention:None can't be converted to float.\n",
      "2024-07-15 11:25:04,601:WARNING:matchms:add_retention:None can't be converted to float.\n",
      "2024-07-15 11:25:04,604:WARNING:matchms:add_precursor_mz:No precursor_mz found in metadata.\n",
      "2024-07-15 11:25:04,604:WARNING:matchms:add_retention:None can't be converted to float.\n",
      "2024-07-15 11:25:04,604:WARNING:matchms:add_retention:None can't be converted to float.\n",
      "2024-07-15 11:25:04,605:WARNING:matchms:add_precursor_mz:No precursor_mz found in metadata.\n",
      "2024-07-15 11:25:04,605:WARNING:matchms:add_retention:None can't be converted to float.\n",
      "2024-07-15 11:25:04,606:WARNING:matchms:add_retention:None can't be converted to float.\n",
      "2024-07-15 11:25:04,608:WARNING:matchms:add_precursor_mz:No precursor_mz found in metadata.\n",
      "2024-07-15 11:25:04,608:WARNING:matchms:add_retention:None can't be converted to float.\n",
      "2024-07-15 11:25:04,608:WARNING:matchms:add_retention:None can't be converted to float.\n",
      "2024-07-15 11:25:04,610:WARNING:matchms:add_precursor_mz:No precursor_mz found in metadata.\n",
      "2024-07-15 11:25:04,610:WARNING:matchms:add_retention:None can't be converted to float.\n",
      "2024-07-15 11:25:04,610:WARNING:matchms:add_retention:None can't be converted to float.\n",
      "2024-07-15 11:25:04,612:WARNING:matchms:add_precursor_mz:No precursor_mz found in metadata.\n",
      "2024-07-15 11:25:04,612:WARNING:matchms:add_retention:None can't be converted to float.\n",
      "2024-07-15 11:25:04,612:WARNING:matchms:add_retention:None can't be converted to float.\n",
      "2024-07-15 11:25:04,614:WARNING:matchms:add_precursor_mz:No precursor_mz found in metadata.\n",
      "2024-07-15 11:25:04,614:WARNING:matchms:add_retention:None can't be converted to float.\n",
      "2024-07-15 11:25:04,614:WARNING:matchms:add_retention:None can't be converted to float.\n",
      "2024-07-15 11:25:04,616:WARNING:matchms:add_precursor_mz:No precursor_mz found in metadata.\n",
      "2024-07-15 11:25:04,616:WARNING:matchms:add_retention:None can't be converted to float.\n",
      "2024-07-15 11:25:04,616:WARNING:matchms:add_retention:None can't be converted to float.\n",
      "2024-07-15 11:25:04,618:WARNING:matchms:add_precursor_mz:No precursor_mz found in metadata.\n",
      "2024-07-15 11:25:04,618:WARNING:matchms:add_retention:None can't be converted to float.\n",
      "2024-07-15 11:25:04,618:WARNING:matchms:add_retention:None can't be converted to float.\n",
      "2024-07-15 11:25:04,620:WARNING:matchms:add_precursor_mz:No precursor_mz found in metadata.\n",
      "2024-07-15 11:25:04,620:WARNING:matchms:add_retention:None can't be converted to float.\n",
      "2024-07-15 11:25:04,620:WARNING:matchms:add_retention:None can't be converted to float.\n",
      "2024-07-15 11:25:04,623:WARNING:matchms:add_precursor_mz:No precursor_mz found in metadata.\n",
      "2024-07-15 11:25:04,624:WARNING:matchms:add_retention:None can't be converted to float.\n",
      "2024-07-15 11:25:04,624:WARNING:matchms:add_retention:None can't be converted to float.\n",
      "2024-07-15 11:25:04,625:WARNING:matchms:add_precursor_mz:No precursor_mz found in metadata.\n",
      "2024-07-15 11:25:04,625:WARNING:matchms:add_retention:None can't be converted to float.\n",
      "2024-07-15 11:25:04,626:WARNING:matchms:add_retention:None can't be converted to float.\n",
      "2024-07-15 11:25:04,628:WARNING:matchms:add_precursor_mz:No precursor_mz found in metadata.\n",
      "2024-07-15 11:25:04,628:WARNING:matchms:add_retention:None can't be converted to float.\n",
      "2024-07-15 11:25:04,629:WARNING:matchms:add_retention:None can't be converted to float.\n",
      "2024-07-15 11:25:04,631:WARNING:matchms:add_precursor_mz:No precursor_mz found in metadata.\n",
      "2024-07-15 11:25:04,631:WARNING:matchms:add_retention:None can't be converted to float.\n",
      "2024-07-15 11:25:04,631:WARNING:matchms:add_retention:None can't be converted to float.\n",
      "2024-07-15 11:25:04,633:WARNING:matchms:add_precursor_mz:No precursor_mz found in metadata.\n",
      "2024-07-15 11:25:04,633:WARNING:matchms:add_retention:None can't be converted to float.\n",
      "2024-07-15 11:25:04,634:WARNING:matchms:add_retention:None can't be converted to float.\n",
      "2024-07-15 11:25:04,635:WARNING:matchms:add_precursor_mz:No precursor_mz found in metadata.\n",
      "2024-07-15 11:25:04,635:WARNING:matchms:add_retention:None can't be converted to float.\n",
      "2024-07-15 11:25:04,636:WARNING:matchms:add_retention:None can't be converted to float.\n",
      "2024-07-15 11:25:04,637:WARNING:matchms:add_precursor_mz:No precursor_mz found in metadata.\n",
      "2024-07-15 11:25:04,637:WARNING:matchms:add_retention:None can't be converted to float.\n",
      "2024-07-15 11:25:04,638:WARNING:matchms:add_retention:None can't be converted to float.\n",
      "2024-07-15 11:25:04,638:WARNING:matchms:add_precursor_mz:No precursor_mz found in metadata.\n",
      "2024-07-15 11:25:04,639:WARNING:matchms:add_retention:None can't be converted to float.\n",
      "2024-07-15 11:25:04,639:WARNING:matchms:add_retention:None can't be converted to float.\n",
      "2024-07-15 11:25:04,640:WARNING:matchms:add_precursor_mz:No precursor_mz found in metadata.\n",
      "2024-07-15 11:25:04,641:WARNING:matchms:add_retention:None can't be converted to float.\n",
      "2024-07-15 11:25:04,641:WARNING:matchms:add_retention:None can't be converted to float.\n",
      "2024-07-15 11:25:04,644:WARNING:matchms:add_precursor_mz:No precursor_mz found in metadata.\n",
      "2024-07-15 11:25:04,644:WARNING:matchms:add_retention:None can't be converted to float.\n",
      "2024-07-15 11:25:04,644:WARNING:matchms:add_retention:None can't be converted to float.\n",
      "2024-07-15 11:25:04,647:WARNING:matchms:add_precursor_mz:No precursor_mz found in metadata.\n",
      "2024-07-15 11:25:04,648:WARNING:matchms:add_retention:None can't be converted to float.\n",
      "2024-07-15 11:25:04,648:WARNING:matchms:add_retention:None can't be converted to float.\n",
      "2024-07-15 11:25:04,649:WARNING:matchms:add_precursor_mz:No precursor_mz found in metadata.\n",
      "2024-07-15 11:25:04,650:WARNING:matchms:add_retention:None can't be converted to float.\n",
      "2024-07-15 11:25:04,650:WARNING:matchms:add_retention:None can't be converted to float.\n",
      "2024-07-15 11:25:04,653:WARNING:matchms:add_precursor_mz:No precursor_mz found in metadata.\n",
      "2024-07-15 11:25:04,653:WARNING:matchms:add_retention:None can't be converted to float.\n",
      "2024-07-15 11:25:04,653:WARNING:matchms:add_retention:None can't be converted to float.\n",
      "2024-07-15 11:25:04,655:WARNING:matchms:add_precursor_mz:No precursor_mz found in metadata.\n",
      "2024-07-15 11:25:04,656:WARNING:matchms:add_retention:None can't be converted to float.\n",
      "2024-07-15 11:25:04,656:WARNING:matchms:add_retention:None can't be converted to float.\n",
      "2024-07-15 11:25:04,657:WARNING:matchms:add_precursor_mz:No precursor_mz found in metadata.\n",
      "2024-07-15 11:25:04,657:WARNING:matchms:add_retention:None can't be converted to float.\n",
      "2024-07-15 11:25:04,658:WARNING:matchms:add_retention:None can't be converted to float.\n",
      "2024-07-15 11:25:04,658:WARNING:matchms:add_precursor_mz:No precursor_mz found in metadata.\n",
      "2024-07-15 11:25:04,659:WARNING:matchms:add_retention:None can't be converted to float.\n",
      "2024-07-15 11:25:04,659:WARNING:matchms:add_retention:None can't be converted to float.\n",
      "2024-07-15 11:25:04,661:WARNING:matchms:add_precursor_mz:No precursor_mz found in metadata.\n",
      "2024-07-15 11:25:04,662:WARNING:matchms:add_retention:None can't be converted to float.\n",
      "2024-07-15 11:25:04,662:WARNING:matchms:add_retention:None can't be converted to float.\n",
      "2024-07-15 11:25:04,665:WARNING:matchms:add_precursor_mz:No precursor_mz found in metadata.\n",
      "2024-07-15 11:25:04,666:WARNING:matchms:add_retention:None can't be converted to float.\n",
      "2024-07-15 11:25:04,666:WARNING:matchms:add_retention:None can't be converted to float.\n",
      "2024-07-15 11:25:04,667:WARNING:matchms:add_precursor_mz:No precursor_mz found in metadata.\n",
      "2024-07-15 11:25:04,668:WARNING:matchms:add_retention:None can't be converted to float.\n",
      "2024-07-15 11:25:04,668:WARNING:matchms:add_retention:None can't be converted to float.\n",
      "2024-07-15 11:25:04,670:WARNING:matchms:add_precursor_mz:No precursor_mz found in metadata.\n",
      "2024-07-15 11:25:04,670:WARNING:matchms:add_retention:None can't be converted to float.\n",
      "2024-07-15 11:25:04,671:WARNING:matchms:add_retention:None can't be converted to float.\n",
      "2024-07-15 11:25:04,672:WARNING:matchms:add_precursor_mz:No precursor_mz found in metadata.\n",
      "2024-07-15 11:25:04,672:WARNING:matchms:add_retention:None can't be converted to float.\n",
      "2024-07-15 11:25:04,672:WARNING:matchms:add_retention:None can't be converted to float.\n",
      "2024-07-15 11:25:04,674:WARNING:matchms:add_precursor_mz:No precursor_mz found in metadata.\n",
      "2024-07-15 11:25:04,674:WARNING:matchms:add_retention:None can't be converted to float.\n",
      "2024-07-15 11:25:04,675:WARNING:matchms:add_retention:None can't be converted to float.\n",
      "2024-07-15 11:25:04,676:WARNING:matchms:add_precursor_mz:No precursor_mz found in metadata.\n",
      "2024-07-15 11:25:04,677:WARNING:matchms:add_retention:None can't be converted to float.\n",
      "2024-07-15 11:25:04,677:WARNING:matchms:add_retention:None can't be converted to float.\n",
      "2024-07-15 11:25:04,677:WARNING:matchms:add_precursor_mz:No precursor_mz found in metadata.\n",
      "2024-07-15 11:25:04,678:WARNING:matchms:add_retention:None can't be converted to float.\n",
      "2024-07-15 11:25:04,678:WARNING:matchms:add_retention:None can't be converted to float.\n",
      "2024-07-15 11:25:04,679:WARNING:matchms:add_precursor_mz:No precursor_mz found in metadata.\n",
      "2024-07-15 11:25:04,680:WARNING:matchms:add_retention:None can't be converted to float.\n",
      "2024-07-15 11:25:04,680:WARNING:matchms:add_retention:None can't be converted to float.\n",
      "2024-07-15 11:25:04,682:WARNING:matchms:add_precursor_mz:No precursor_mz found in metadata.\n",
      "2024-07-15 11:25:04,683:WARNING:matchms:add_retention:None can't be converted to float.\n",
      "2024-07-15 11:25:04,683:WARNING:matchms:add_retention:None can't be converted to float.\n",
      "2024-07-15 11:25:04,684:WARNING:matchms:add_precursor_mz:No precursor_mz found in metadata.\n",
      "2024-07-15 11:25:04,684:WARNING:matchms:add_retention:None can't be converted to float.\n",
      "2024-07-15 11:25:04,685:WARNING:matchms:add_retention:None can't be converted to float.\n",
      "2024-07-15 11:25:04,687:WARNING:matchms:add_precursor_mz:No precursor_mz found in metadata.\n",
      "2024-07-15 11:25:04,688:WARNING:matchms:add_retention:None can't be converted to float.\n",
      "2024-07-15 11:25:04,688:WARNING:matchms:add_retention:None can't be converted to float.\n",
      "2024-07-15 11:25:04,689:WARNING:matchms:add_precursor_mz:No precursor_mz found in metadata.\n",
      "2024-07-15 11:25:04,689:WARNING:matchms:add_retention:None can't be converted to float.\n",
      "2024-07-15 11:25:04,690:WARNING:matchms:add_retention:None can't be converted to float.\n",
      "2024-07-15 11:25:04,691:WARNING:matchms:add_precursor_mz:No precursor_mz found in metadata.\n",
      "2024-07-15 11:25:04,691:WARNING:matchms:add_retention:None can't be converted to float.\n",
      "2024-07-15 11:25:04,691:WARNING:matchms:add_retention:None can't be converted to float.\n",
      "2024-07-15 11:25:04,694:WARNING:matchms:add_precursor_mz:No precursor_mz found in metadata.\n",
      "2024-07-15 11:25:04,694:WARNING:matchms:add_retention:None can't be converted to float.\n",
      "2024-07-15 11:25:04,694:WARNING:matchms:add_retention:None can't be converted to float.\n",
      "2024-07-15 11:25:04,696:WARNING:matchms:add_precursor_mz:No precursor_mz found in metadata.\n",
      "2024-07-15 11:25:04,696:WARNING:matchms:add_retention:None can't be converted to float.\n",
      "2024-07-15 11:25:04,696:WARNING:matchms:add_retention:None can't be converted to float.\n",
      "2024-07-15 11:25:04,699:WARNING:matchms:add_precursor_mz:No precursor_mz found in metadata.\n",
      "2024-07-15 11:25:04,699:WARNING:matchms:add_retention:None can't be converted to float.\n",
      "2024-07-15 11:25:04,700:WARNING:matchms:add_retention:None can't be converted to float.\n",
      "2024-07-15 11:25:04,701:WARNING:matchms:add_precursor_mz:No precursor_mz found in metadata.\n",
      "2024-07-15 11:25:04,702:WARNING:matchms:add_retention:None can't be converted to float.\n",
      "2024-07-15 11:25:04,702:WARNING:matchms:add_retention:None can't be converted to float.\n",
      "2024-07-15 11:25:04,704:WARNING:matchms:add_precursor_mz:No precursor_mz found in metadata.\n",
      "2024-07-15 11:25:04,704:WARNING:matchms:add_retention:None can't be converted to float.\n",
      "2024-07-15 11:25:04,705:WARNING:matchms:add_retention:None can't be converted to float.\n",
      "2024-07-15 11:25:04,705:WARNING:matchms:add_precursor_mz:No precursor_mz found in metadata.\n",
      "2024-07-15 11:25:04,706:WARNING:matchms:add_retention:None can't be converted to float.\n",
      "2024-07-15 11:25:04,706:WARNING:matchms:add_retention:None can't be converted to float.\n",
      "2024-07-15 11:25:04,707:WARNING:matchms:add_precursor_mz:No precursor_mz found in metadata.\n",
      "2024-07-15 11:25:04,707:WARNING:matchms:add_retention:None can't be converted to float.\n",
      "2024-07-15 11:25:04,708:WARNING:matchms:add_retention:None can't be converted to float.\n",
      "2024-07-15 11:25:04,709:WARNING:matchms:add_precursor_mz:No precursor_mz found in metadata.\n",
      "2024-07-15 11:25:04,709:WARNING:matchms:add_retention:None can't be converted to float.\n",
      "2024-07-15 11:25:04,710:WARNING:matchms:add_retention:None can't be converted to float.\n",
      "2024-07-15 11:25:04,714:WARNING:matchms:add_precursor_mz:No precursor_mz found in metadata.\n",
      "2024-07-15 11:25:04,714:WARNING:matchms:add_retention:None can't be converted to float.\n",
      "2024-07-15 11:25:04,715:WARNING:matchms:add_retention:None can't be converted to float.\n",
      "2024-07-15 11:25:04,717:WARNING:matchms:add_precursor_mz:No precursor_mz found in metadata.\n",
      "2024-07-15 11:25:04,717:WARNING:matchms:add_retention:None can't be converted to float.\n",
      "2024-07-15 11:25:04,718:WARNING:matchms:add_retention:None can't be converted to float.\n",
      "2024-07-15 11:25:04,719:WARNING:matchms:add_precursor_mz:No precursor_mz found in metadata.\n",
      "2024-07-15 11:25:04,720:WARNING:matchms:add_retention:None can't be converted to float.\n",
      "2024-07-15 11:25:04,720:WARNING:matchms:add_retention:None can't be converted to float.\n",
      "2024-07-15 11:25:04,721:WARNING:matchms:add_precursor_mz:No precursor_mz found in metadata.\n",
      "2024-07-15 11:25:04,721:WARNING:matchms:add_retention:None can't be converted to float.\n",
      "2024-07-15 11:25:04,721:WARNING:matchms:add_retention:None can't be converted to float.\n",
      "2024-07-15 11:25:04,722:WARNING:matchms:add_precursor_mz:No precursor_mz found in metadata.\n",
      "2024-07-15 11:25:04,722:WARNING:matchms:add_retention:None can't be converted to float.\n",
      "2024-07-15 11:25:04,723:WARNING:matchms:add_retention:None can't be converted to float.\n",
      "2024-07-15 11:25:04,724:WARNING:matchms:add_precursor_mz:No precursor_mz found in metadata.\n",
      "2024-07-15 11:25:04,724:WARNING:matchms:add_retention:None can't be converted to float.\n",
      "2024-07-15 11:25:04,724:WARNING:matchms:add_retention:None can't be converted to float.\n",
      "2024-07-15 11:25:04,725:WARNING:matchms:add_precursor_mz:No precursor_mz found in metadata.\n",
      "2024-07-15 11:25:04,725:WARNING:matchms:add_retention:None can't be converted to float.\n",
      "2024-07-15 11:25:04,726:WARNING:matchms:add_retention:None can't be converted to float.\n",
      "2024-07-15 11:25:04,727:WARNING:matchms:add_precursor_mz:No precursor_mz found in metadata.\n",
      "2024-07-15 11:25:04,728:WARNING:matchms:add_retention:None can't be converted to float.\n",
      "2024-07-15 11:25:04,729:WARNING:matchms:add_retention:None can't be converted to float.\n",
      "2024-07-15 11:25:04,729:WARNING:matchms:add_precursor_mz:No precursor_mz found in metadata.\n",
      "2024-07-15 11:25:04,730:WARNING:matchms:add_retention:None can't be converted to float.\n",
      "2024-07-15 11:25:04,730:WARNING:matchms:add_retention:None can't be converted to float.\n",
      "2024-07-15 11:25:04,733:WARNING:matchms:add_precursor_mz:No precursor_mz found in metadata.\n",
      "2024-07-15 11:25:04,733:WARNING:matchms:add_retention:None can't be converted to float.\n",
      "2024-07-15 11:25:04,733:WARNING:matchms:add_retention:None can't be converted to float.\n",
      "2024-07-15 11:25:04,736:WARNING:matchms:add_precursor_mz:No precursor_mz found in metadata.\n",
      "2024-07-15 11:25:04,736:WARNING:matchms:add_retention:None can't be converted to float.\n",
      "2024-07-15 11:25:04,736:WARNING:matchms:add_retention:None can't be converted to float.\n",
      "2024-07-15 11:25:04,737:WARNING:matchms:add_precursor_mz:No precursor_mz found in metadata.\n",
      "2024-07-15 11:25:04,738:WARNING:matchms:add_retention:None can't be converted to float.\n",
      "2024-07-15 11:25:04,738:WARNING:matchms:add_retention:None can't be converted to float.\n",
      "2024-07-15 11:25:04,739:WARNING:matchms:add_precursor_mz:No precursor_mz found in metadata.\n",
      "2024-07-15 11:25:04,740:WARNING:matchms:add_retention:None can't be converted to float.\n",
      "2024-07-15 11:25:04,740:WARNING:matchms:add_retention:None can't be converted to float.\n",
      "2024-07-15 11:25:04,741:WARNING:matchms:add_precursor_mz:No precursor_mz found in metadata.\n",
      "2024-07-15 11:25:04,741:WARNING:matchms:add_retention:None can't be converted to float.\n",
      "2024-07-15 11:25:04,741:WARNING:matchms:add_retention:None can't be converted to float.\n",
      "2024-07-15 11:25:04,742:WARNING:matchms:add_precursor_mz:No precursor_mz found in metadata.\n",
      "2024-07-15 11:25:04,742:WARNING:matchms:add_retention:None can't be converted to float.\n",
      "2024-07-15 11:25:04,743:WARNING:matchms:add_retention:None can't be converted to float.\n",
      "2024-07-15 11:25:04,744:WARNING:matchms:add_precursor_mz:No precursor_mz found in metadata.\n",
      "2024-07-15 11:25:04,744:WARNING:matchms:add_retention:None can't be converted to float.\n",
      "2024-07-15 11:25:04,745:WARNING:matchms:add_retention:None can't be converted to float.\n",
      "2024-07-15 11:25:04,746:WARNING:matchms:add_precursor_mz:No precursor_mz found in metadata.\n",
      "2024-07-15 11:25:04,747:WARNING:matchms:add_retention:None can't be converted to float.\n",
      "2024-07-15 11:25:04,747:WARNING:matchms:add_retention:None can't be converted to float.\n",
      "2024-07-15 11:25:04,749:WARNING:matchms:add_precursor_mz:No precursor_mz found in metadata.\n",
      "2024-07-15 11:25:04,750:WARNING:matchms:add_retention:None can't be converted to float.\n",
      "2024-07-15 11:25:04,750:WARNING:matchms:add_retention:None can't be converted to float.\n",
      "2024-07-15 11:25:04,752:WARNING:matchms:add_precursor_mz:No precursor_mz found in metadata.\n",
      "2024-07-15 11:25:04,752:WARNING:matchms:add_retention:None can't be converted to float.\n",
      "2024-07-15 11:25:04,752:WARNING:matchms:add_retention:None can't be converted to float.\n",
      "2024-07-15 11:25:04,755:WARNING:matchms:add_precursor_mz:No precursor_mz found in metadata.\n",
      "2024-07-15 11:25:04,755:WARNING:matchms:add_retention:None can't be converted to float.\n",
      "2024-07-15 11:25:04,755:WARNING:matchms:add_retention:None can't be converted to float.\n",
      "2024-07-15 11:25:04,758:WARNING:matchms:add_precursor_mz:No precursor_mz found in metadata.\n",
      "2024-07-15 11:25:04,758:WARNING:matchms:add_retention:None can't be converted to float.\n",
      "2024-07-15 11:25:04,758:WARNING:matchms:add_retention:None can't be converted to float.\n",
      "2024-07-15 11:25:04,759:WARNING:matchms:add_precursor_mz:No precursor_mz found in metadata.\n",
      "2024-07-15 11:25:04,760:WARNING:matchms:add_retention:None can't be converted to float.\n",
      "2024-07-15 11:25:04,760:WARNING:matchms:add_retention:None can't be converted to float.\n",
      "2024-07-15 11:25:04,761:WARNING:matchms:add_precursor_mz:No precursor_mz found in metadata.\n",
      "2024-07-15 11:25:04,761:WARNING:matchms:add_retention:None can't be converted to float.\n",
      "2024-07-15 11:25:04,761:WARNING:matchms:add_retention:None can't be converted to float.\n",
      "2024-07-15 11:25:04,762:WARNING:matchms:add_precursor_mz:No precursor_mz found in metadata.\n",
      "2024-07-15 11:25:04,762:WARNING:matchms:add_retention:None can't be converted to float.\n",
      "2024-07-15 11:25:04,763:WARNING:matchms:add_retention:None can't be converted to float.\n",
      "2024-07-15 11:25:04,765:WARNING:matchms:add_precursor_mz:No precursor_mz found in metadata.\n",
      "2024-07-15 11:25:04,766:WARNING:matchms:add_retention:None can't be converted to float.\n",
      "2024-07-15 11:25:04,766:WARNING:matchms:add_retention:None can't be converted to float.\n",
      "2024-07-15 11:25:04,767:WARNING:matchms:add_precursor_mz:No precursor_mz found in metadata.\n",
      "2024-07-15 11:25:04,768:WARNING:matchms:add_retention:None can't be converted to float.\n",
      "2024-07-15 11:25:04,768:WARNING:matchms:add_retention:None can't be converted to float.\n",
      "2024-07-15 11:25:04,769:WARNING:matchms:add_precursor_mz:No precursor_mz found in metadata.\n",
      "2024-07-15 11:25:04,769:WARNING:matchms:add_retention:None can't be converted to float.\n",
      "2024-07-15 11:25:04,770:WARNING:matchms:add_retention:None can't be converted to float.\n",
      "2024-07-15 11:25:04,771:WARNING:matchms:add_precursor_mz:No precursor_mz found in metadata.\n",
      "2024-07-15 11:25:04,771:WARNING:matchms:add_retention:None can't be converted to float.\n",
      "2024-07-15 11:25:04,771:WARNING:matchms:add_retention:None can't be converted to float.\n",
      "2024-07-15 11:25:04,776:WARNING:matchms:add_precursor_mz:No precursor_mz found in metadata.\n",
      "2024-07-15 11:25:04,776:WARNING:matchms:add_retention:None can't be converted to float.\n",
      "2024-07-15 11:25:04,776:WARNING:matchms:add_retention:None can't be converted to float.\n",
      "2024-07-15 11:25:04,777:WARNING:matchms:add_precursor_mz:No precursor_mz found in metadata.\n",
      "2024-07-15 11:25:04,777:WARNING:matchms:add_retention:None can't be converted to float.\n",
      "2024-07-15 11:25:04,778:WARNING:matchms:add_retention:None can't be converted to float.\n",
      "2024-07-15 11:25:04,779:WARNING:matchms:add_precursor_mz:No precursor_mz found in metadata.\n",
      "2024-07-15 11:25:04,780:WARNING:matchms:add_retention:None can't be converted to float.\n",
      "2024-07-15 11:25:04,780:WARNING:matchms:add_retention:None can't be converted to float.\n",
      "2024-07-15 11:25:04,781:WARNING:matchms:add_precursor_mz:No precursor_mz found in metadata.\n",
      "2024-07-15 11:25:04,782:WARNING:matchms:add_retention:None can't be converted to float.\n",
      "2024-07-15 11:25:04,782:WARNING:matchms:add_retention:None can't be converted to float.\n",
      "2024-07-15 11:25:04,783:WARNING:matchms:add_precursor_mz:No precursor_mz found in metadata.\n",
      "2024-07-15 11:25:04,783:WARNING:matchms:add_retention:None can't be converted to float.\n",
      "2024-07-15 11:25:04,784:WARNING:matchms:add_retention:None can't be converted to float.\n",
      "2024-07-15 11:25:04,786:WARNING:matchms:add_precursor_mz:No precursor_mz found in metadata.\n",
      "2024-07-15 11:25:04,786:WARNING:matchms:add_retention:None can't be converted to float.\n",
      "2024-07-15 11:25:04,786:WARNING:matchms:add_retention:None can't be converted to float.\n",
      "2024-07-15 11:25:04,788:WARNING:matchms:add_precursor_mz:No precursor_mz found in metadata.\n",
      "2024-07-15 11:25:04,789:WARNING:matchms:add_retention:None can't be converted to float.\n",
      "2024-07-15 11:25:04,789:WARNING:matchms:add_retention:None can't be converted to float.\n",
      "2024-07-15 11:25:04,790:WARNING:matchms:add_precursor_mz:No precursor_mz found in metadata.\n",
      "2024-07-15 11:25:04,791:WARNING:matchms:add_retention:None can't be converted to float.\n",
      "2024-07-15 11:25:04,791:WARNING:matchms:add_retention:None can't be converted to float.\n",
      "2024-07-15 11:25:04,794:WARNING:matchms:add_precursor_mz:No precursor_mz found in metadata.\n",
      "2024-07-15 11:25:04,794:WARNING:matchms:add_retention:None can't be converted to float.\n",
      "2024-07-15 11:25:04,795:WARNING:matchms:add_retention:None can't be converted to float.\n",
      "2024-07-15 11:25:04,797:WARNING:matchms:add_precursor_mz:No precursor_mz found in metadata.\n",
      "2024-07-15 11:25:04,798:WARNING:matchms:add_retention:None can't be converted to float.\n",
      "2024-07-15 11:25:04,798:WARNING:matchms:add_retention:None can't be converted to float.\n",
      "2024-07-15 11:25:04,801:WARNING:matchms:add_precursor_mz:No precursor_mz found in metadata.\n",
      "2024-07-15 11:25:04,802:WARNING:matchms:add_retention:None can't be converted to float.\n",
      "2024-07-15 11:25:04,802:WARNING:matchms:add_retention:None can't be converted to float.\n",
      "2024-07-15 11:25:04,803:WARNING:matchms:add_precursor_mz:No precursor_mz found in metadata.\n",
      "2024-07-15 11:25:04,803:WARNING:matchms:add_retention:None can't be converted to float.\n",
      "2024-07-15 11:25:04,803:WARNING:matchms:add_retention:None can't be converted to float.\n",
      "2024-07-15 11:25:04,804:WARNING:matchms:add_precursor_mz:No precursor_mz found in metadata.\n",
      "2024-07-15 11:25:04,804:WARNING:matchms:add_retention:None can't be converted to float.\n",
      "2024-07-15 11:25:04,805:WARNING:matchms:add_retention:None can't be converted to float.\n",
      "2024-07-15 11:25:04,806:WARNING:matchms:add_precursor_mz:No precursor_mz found in metadata.\n",
      "2024-07-15 11:25:04,807:WARNING:matchms:add_retention:None can't be converted to float.\n",
      "2024-07-15 11:25:04,807:WARNING:matchms:add_retention:None can't be converted to float.\n",
      "2024-07-15 11:25:04,807:WARNING:matchms:add_precursor_mz:No precursor_mz found in metadata.\n",
      "2024-07-15 11:25:04,808:WARNING:matchms:add_retention:None can't be converted to float.\n",
      "2024-07-15 11:25:04,808:WARNING:matchms:add_retention:None can't be converted to float.\n",
      "2024-07-15 11:25:04,810:WARNING:matchms:add_precursor_mz:No precursor_mz found in metadata.\n",
      "2024-07-15 11:25:04,810:WARNING:matchms:add_retention:None can't be converted to float.\n",
      "2024-07-15 11:25:04,810:WARNING:matchms:add_retention:None can't be converted to float.\n",
      "2024-07-15 11:25:04,813:WARNING:matchms:add_precursor_mz:No precursor_mz found in metadata.\n",
      "2024-07-15 11:25:04,814:WARNING:matchms:add_retention:None can't be converted to float.\n",
      "2024-07-15 11:25:04,814:WARNING:matchms:add_retention:None can't be converted to float.\n",
      "2024-07-15 11:25:04,815:WARNING:matchms:add_precursor_mz:No precursor_mz found in metadata.\n",
      "2024-07-15 11:25:04,816:WARNING:matchms:add_retention:None can't be converted to float.\n",
      "2024-07-15 11:25:04,816:WARNING:matchms:add_retention:None can't be converted to float.\n",
      "2024-07-15 11:25:04,818:WARNING:matchms:add_precursor_mz:No precursor_mz found in metadata.\n",
      "2024-07-15 11:25:04,819:WARNING:matchms:add_retention:None can't be converted to float.\n",
      "2024-07-15 11:25:04,819:WARNING:matchms:add_retention:None can't be converted to float.\n",
      "2024-07-15 11:25:04,821:WARNING:matchms:add_precursor_mz:No precursor_mz found in metadata.\n",
      "2024-07-15 11:25:04,822:WARNING:matchms:add_retention:None can't be converted to float.\n",
      "2024-07-15 11:25:04,822:WARNING:matchms:add_retention:None can't be converted to float.\n",
      "2024-07-15 11:25:04,824:WARNING:matchms:add_precursor_mz:No precursor_mz found in metadata.\n",
      "2024-07-15 11:25:04,824:WARNING:matchms:add_retention:None can't be converted to float.\n",
      "2024-07-15 11:25:04,824:WARNING:matchms:add_retention:None can't be converted to float.\n",
      "2024-07-15 11:25:04,826:WARNING:matchms:add_precursor_mz:No precursor_mz found in metadata.\n",
      "2024-07-15 11:25:04,826:WARNING:matchms:add_retention:None can't be converted to float.\n",
      "2024-07-15 11:25:04,826:WARNING:matchms:add_retention:None can't be converted to float.\n",
      "2024-07-15 11:25:04,829:WARNING:matchms:add_precursor_mz:No precursor_mz found in metadata.\n",
      "2024-07-15 11:25:04,829:WARNING:matchms:add_retention:None can't be converted to float.\n",
      "2024-07-15 11:25:04,830:WARNING:matchms:add_retention:None can't be converted to float.\n",
      "2024-07-15 11:25:04,831:WARNING:matchms:add_precursor_mz:No precursor_mz found in metadata.\n",
      "2024-07-15 11:25:04,832:WARNING:matchms:add_retention:None can't be converted to float.\n",
      "2024-07-15 11:25:04,832:WARNING:matchms:add_retention:None can't be converted to float.\n",
      "2024-07-15 11:25:04,834:WARNING:matchms:add_precursor_mz:No precursor_mz found in metadata.\n",
      "2024-07-15 11:25:04,835:WARNING:matchms:add_retention:None can't be converted to float.\n",
      "2024-07-15 11:25:04,835:WARNING:matchms:add_retention:None can't be converted to float.\n",
      "2024-07-15 11:25:04,837:WARNING:matchms:add_precursor_mz:No precursor_mz found in metadata.\n",
      "2024-07-15 11:25:04,837:WARNING:matchms:add_retention:None can't be converted to float.\n",
      "2024-07-15 11:25:04,837:WARNING:matchms:add_retention:None can't be converted to float.\n",
      "2024-07-15 11:25:04,839:WARNING:matchms:add_precursor_mz:No precursor_mz found in metadata.\n",
      "2024-07-15 11:25:04,839:WARNING:matchms:add_retention:None can't be converted to float.\n",
      "2024-07-15 11:25:04,839:WARNING:matchms:add_retention:None can't be converted to float.\n",
      "2024-07-15 11:25:04,842:WARNING:matchms:add_precursor_mz:No precursor_mz found in metadata.\n",
      "2024-07-15 11:25:04,842:WARNING:matchms:add_retention:None can't be converted to float.\n",
      "2024-07-15 11:25:04,842:WARNING:matchms:add_retention:None can't be converted to float.\n",
      "2024-07-15 11:25:04,844:WARNING:matchms:add_precursor_mz:No precursor_mz found in metadata.\n",
      "2024-07-15 11:25:04,844:WARNING:matchms:add_retention:None can't be converted to float.\n",
      "2024-07-15 11:25:04,844:WARNING:matchms:add_retention:None can't be converted to float.\n",
      "2024-07-15 11:25:04,846:WARNING:matchms:add_precursor_mz:No precursor_mz found in metadata.\n",
      "2024-07-15 11:25:04,846:WARNING:matchms:add_retention:None can't be converted to float.\n",
      "2024-07-15 11:25:04,846:WARNING:matchms:add_retention:None can't be converted to float.\n",
      "2024-07-15 11:25:04,848:WARNING:matchms:add_precursor_mz:No precursor_mz found in metadata.\n",
      "2024-07-15 11:25:04,849:WARNING:matchms:add_retention:None can't be converted to float.\n",
      "2024-07-15 11:25:04,849:WARNING:matchms:add_retention:None can't be converted to float.\n",
      "2024-07-15 11:25:04,850:WARNING:matchms:add_precursor_mz:No precursor_mz found in metadata.\n",
      "2024-07-15 11:25:04,850:WARNING:matchms:add_retention:None can't be converted to float.\n",
      "2024-07-15 11:25:04,850:WARNING:matchms:add_retention:None can't be converted to float.\n",
      "2024-07-15 11:25:04,852:WARNING:matchms:add_precursor_mz:No precursor_mz found in metadata.\n",
      "2024-07-15 11:25:04,852:WARNING:matchms:add_retention:None can't be converted to float.\n",
      "2024-07-15 11:25:04,853:WARNING:matchms:add_retention:None can't be converted to float.\n",
      "2024-07-15 11:25:04,855:WARNING:matchms:add_precursor_mz:No precursor_mz found in metadata.\n",
      "2024-07-15 11:25:04,855:WARNING:matchms:add_retention:None can't be converted to float.\n",
      "2024-07-15 11:25:04,856:WARNING:matchms:add_retention:None can't be converted to float.\n",
      "2024-07-15 11:25:04,858:WARNING:matchms:add_precursor_mz:No precursor_mz found in metadata.\n",
      "2024-07-15 11:25:04,858:WARNING:matchms:add_retention:None can't be converted to float.\n",
      "2024-07-15 11:25:04,858:WARNING:matchms:add_retention:None can't be converted to float.\n",
      "2024-07-15 11:25:04,860:WARNING:matchms:add_precursor_mz:No precursor_mz found in metadata.\n",
      "2024-07-15 11:25:04,860:WARNING:matchms:add_retention:None can't be converted to float.\n",
      "2024-07-15 11:25:04,860:WARNING:matchms:add_retention:None can't be converted to float.\n",
      "2024-07-15 11:25:04,862:WARNING:matchms:add_precursor_mz:No precursor_mz found in metadata.\n",
      "2024-07-15 11:25:04,862:WARNING:matchms:add_retention:None can't be converted to float.\n",
      "2024-07-15 11:25:04,863:WARNING:matchms:add_retention:None can't be converted to float.\n",
      "2024-07-15 11:25:04,863:WARNING:matchms:add_precursor_mz:No precursor_mz found in metadata.\n",
      "2024-07-15 11:25:04,863:WARNING:matchms:add_retention:None can't be converted to float.\n",
      "2024-07-15 11:25:04,863:WARNING:matchms:add_retention:None can't be converted to float.\n",
      "2024-07-15 11:25:04,865:WARNING:matchms:add_precursor_mz:No precursor_mz found in metadata.\n",
      "2024-07-15 11:25:04,866:WARNING:matchms:add_retention:None can't be converted to float.\n",
      "2024-07-15 11:25:04,866:WARNING:matchms:add_retention:None can't be converted to float.\n",
      "2024-07-15 11:25:04,868:WARNING:matchms:add_precursor_mz:No precursor_mz found in metadata.\n",
      "2024-07-15 11:25:04,868:WARNING:matchms:add_retention:None can't be converted to float.\n",
      "2024-07-15 11:25:04,868:WARNING:matchms:add_retention:None can't be converted to float.\n",
      "2024-07-15 11:25:04,871:WARNING:matchms:add_precursor_mz:No precursor_mz found in metadata.\n",
      "2024-07-15 11:25:04,871:WARNING:matchms:add_retention:None can't be converted to float.\n",
      "2024-07-15 11:25:04,871:WARNING:matchms:add_retention:None can't be converted to float.\n",
      "2024-07-15 11:25:04,873:WARNING:matchms:add_precursor_mz:No precursor_mz found in metadata.\n",
      "2024-07-15 11:25:04,873:WARNING:matchms:add_retention:None can't be converted to float.\n",
      "2024-07-15 11:25:04,874:WARNING:matchms:add_retention:None can't be converted to float.\n",
      "2024-07-15 11:25:04,876:WARNING:matchms:add_precursor_mz:No precursor_mz found in metadata.\n",
      "2024-07-15 11:25:04,876:WARNING:matchms:add_retention:None can't be converted to float.\n",
      "2024-07-15 11:25:04,876:WARNING:matchms:add_retention:None can't be converted to float.\n",
      "2024-07-15 11:25:04,877:WARNING:matchms:add_precursor_mz:No precursor_mz found in metadata.\n",
      "2024-07-15 11:25:04,878:WARNING:matchms:add_retention:None can't be converted to float.\n",
      "2024-07-15 11:25:04,878:WARNING:matchms:add_retention:None can't be converted to float.\n",
      "2024-07-15 11:25:04,880:WARNING:matchms:add_precursor_mz:No precursor_mz found in metadata.\n",
      "2024-07-15 11:25:04,880:WARNING:matchms:add_retention:None can't be converted to float.\n",
      "2024-07-15 11:25:04,880:WARNING:matchms:add_retention:None can't be converted to float.\n",
      "2024-07-15 11:25:04,881:WARNING:matchms:add_precursor_mz:No precursor_mz found in metadata.\n",
      "2024-07-15 11:25:04,881:WARNING:matchms:add_retention:None can't be converted to float.\n",
      "2024-07-15 11:25:04,881:WARNING:matchms:add_retention:None can't be converted to float.\n",
      "2024-07-15 11:25:04,882:WARNING:matchms:add_precursor_mz:No precursor_mz found in metadata.\n",
      "2024-07-15 11:25:04,883:WARNING:matchms:add_retention:None can't be converted to float.\n",
      "2024-07-15 11:25:04,883:WARNING:matchms:add_retention:None can't be converted to float.\n",
      "2024-07-15 11:25:04,884:WARNING:matchms:add_precursor_mz:No precursor_mz found in metadata.\n",
      "2024-07-15 11:25:04,885:WARNING:matchms:add_retention:None can't be converted to float.\n",
      "2024-07-15 11:25:04,885:WARNING:matchms:add_retention:None can't be converted to float.\n",
      "2024-07-15 11:25:04,886:WARNING:matchms:add_precursor_mz:No precursor_mz found in metadata.\n",
      "2024-07-15 11:25:04,886:WARNING:matchms:add_retention:None can't be converted to float.\n",
      "2024-07-15 11:25:04,886:WARNING:matchms:add_retention:None can't be converted to float.\n",
      "2024-07-15 11:25:04,887:WARNING:matchms:add_precursor_mz:No precursor_mz found in metadata.\n",
      "2024-07-15 11:25:04,887:WARNING:matchms:add_retention:None can't be converted to float.\n",
      "2024-07-15 11:25:04,888:WARNING:matchms:add_retention:None can't be converted to float.\n",
      "2024-07-15 11:25:04,889:WARNING:matchms:add_precursor_mz:No precursor_mz found in metadata.\n",
      "2024-07-15 11:25:04,889:WARNING:matchms:add_retention:None can't be converted to float.\n",
      "2024-07-15 11:25:04,890:WARNING:matchms:add_retention:None can't be converted to float.\n",
      "2024-07-15 11:25:04,892:WARNING:matchms:add_precursor_mz:No precursor_mz found in metadata.\n",
      "2024-07-15 11:25:04,892:WARNING:matchms:add_retention:None can't be converted to float.\n",
      "2024-07-15 11:25:04,892:WARNING:matchms:add_retention:None can't be converted to float.\n",
      "2024-07-15 11:25:04,893:WARNING:matchms:add_precursor_mz:No precursor_mz found in metadata.\n",
      "2024-07-15 11:25:04,894:WARNING:matchms:add_retention:None can't be converted to float.\n",
      "2024-07-15 11:25:04,894:WARNING:matchms:add_retention:None can't be converted to float.\n",
      "2024-07-15 11:25:04,895:WARNING:matchms:add_precursor_mz:No precursor_mz found in metadata.\n",
      "2024-07-15 11:25:04,896:WARNING:matchms:add_retention:None can't be converted to float.\n",
      "2024-07-15 11:25:04,896:WARNING:matchms:add_retention:None can't be converted to float.\n",
      "2024-07-15 11:25:04,897:WARNING:matchms:add_precursor_mz:No precursor_mz found in metadata.\n",
      "2024-07-15 11:25:04,897:WARNING:matchms:add_retention:None can't be converted to float.\n",
      "2024-07-15 11:25:04,898:WARNING:matchms:add_retention:None can't be converted to float.\n",
      "2024-07-15 11:25:04,899:WARNING:matchms:add_precursor_mz:No precursor_mz found in metadata.\n",
      "2024-07-15 11:25:04,899:WARNING:matchms:add_retention:None can't be converted to float.\n",
      "2024-07-15 11:25:04,899:WARNING:matchms:add_retention:None can't be converted to float.\n",
      "2024-07-15 11:25:04,900:WARNING:matchms:add_precursor_mz:No precursor_mz found in metadata.\n",
      "2024-07-15 11:25:04,901:WARNING:matchms:add_retention:None can't be converted to float.\n",
      "2024-07-15 11:25:04,901:WARNING:matchms:add_retention:None can't be converted to float.\n",
      "2024-07-15 11:25:04,903:WARNING:matchms:add_precursor_mz:No precursor_mz found in metadata.\n",
      "2024-07-15 11:25:04,904:WARNING:matchms:add_retention:None can't be converted to float.\n",
      "2024-07-15 11:25:04,904:WARNING:matchms:add_retention:None can't be converted to float.\n",
      "2024-07-15 11:25:04,906:WARNING:matchms:add_precursor_mz:No precursor_mz found in metadata.\n",
      "2024-07-15 11:25:04,907:WARNING:matchms:add_retention:None can't be converted to float.\n",
      "2024-07-15 11:25:04,907:WARNING:matchms:add_retention:None can't be converted to float.\n",
      "2024-07-15 11:25:04,908:WARNING:matchms:add_precursor_mz:No precursor_mz found in metadata.\n",
      "2024-07-15 11:25:04,908:WARNING:matchms:add_retention:None can't be converted to float.\n",
      "2024-07-15 11:25:04,908:WARNING:matchms:add_retention:None can't be converted to float.\n",
      "2024-07-15 11:25:04,911:WARNING:matchms:add_precursor_mz:No precursor_mz found in metadata.\n",
      "2024-07-15 11:25:04,911:WARNING:matchms:add_retention:None can't be converted to float.\n",
      "2024-07-15 11:25:04,911:WARNING:matchms:add_retention:None can't be converted to float.\n",
      "2024-07-15 11:25:04,913:WARNING:matchms:add_precursor_mz:No precursor_mz found in metadata.\n",
      "2024-07-15 11:25:04,914:WARNING:matchms:add_retention:None can't be converted to float.\n",
      "2024-07-15 11:25:04,914:WARNING:matchms:add_retention:None can't be converted to float.\n",
      "2024-07-15 11:25:04,915:WARNING:matchms:add_precursor_mz:No precursor_mz found in metadata.\n",
      "2024-07-15 11:25:04,916:WARNING:matchms:add_retention:None can't be converted to float.\n",
      "2024-07-15 11:25:04,916:WARNING:matchms:add_retention:None can't be converted to float.\n",
      "2024-07-15 11:25:04,917:WARNING:matchms:add_precursor_mz:No precursor_mz found in metadata.\n",
      "2024-07-15 11:25:04,917:WARNING:matchms:add_retention:None can't be converted to float.\n",
      "2024-07-15 11:25:04,918:WARNING:matchms:add_retention:None can't be converted to float.\n",
      "2024-07-15 11:25:04,919:WARNING:matchms:add_precursor_mz:No precursor_mz found in metadata.\n",
      "2024-07-15 11:25:04,920:WARNING:matchms:add_retention:None can't be converted to float.\n",
      "2024-07-15 11:25:04,920:WARNING:matchms:add_retention:None can't be converted to float.\n",
      "2024-07-15 11:25:04,922:WARNING:matchms:add_precursor_mz:No precursor_mz found in metadata.\n",
      "2024-07-15 11:25:04,922:WARNING:matchms:add_retention:None can't be converted to float.\n",
      "2024-07-15 11:25:04,922:WARNING:matchms:add_retention:None can't be converted to float.\n",
      "2024-07-15 11:25:04,924:WARNING:matchms:add_precursor_mz:No precursor_mz found in metadata.\n",
      "2024-07-15 11:25:04,925:WARNING:matchms:add_retention:None can't be converted to float.\n",
      "2024-07-15 11:25:04,926:WARNING:matchms:add_retention:None can't be converted to float.\n",
      "2024-07-15 11:25:04,927:WARNING:matchms:add_precursor_mz:No precursor_mz found in metadata.\n",
      "2024-07-15 11:25:04,927:WARNING:matchms:add_retention:None can't be converted to float.\n",
      "2024-07-15 11:25:04,928:WARNING:matchms:add_retention:None can't be converted to float.\n",
      "2024-07-15 11:25:04,929:WARNING:matchms:add_precursor_mz:No precursor_mz found in metadata.\n",
      "2024-07-15 11:25:04,929:WARNING:matchms:add_retention:None can't be converted to float.\n",
      "2024-07-15 11:25:04,930:WARNING:matchms:add_retention:None can't be converted to float.\n",
      "2024-07-15 11:25:04,932:WARNING:matchms:add_precursor_mz:No precursor_mz found in metadata.\n",
      "2024-07-15 11:25:04,933:WARNING:matchms:add_retention:None can't be converted to float.\n",
      "2024-07-15 11:25:04,933:WARNING:matchms:add_retention:None can't be converted to float.\n",
      "2024-07-15 11:25:04,936:WARNING:matchms:add_precursor_mz:No precursor_mz found in metadata.\n",
      "2024-07-15 11:25:04,936:WARNING:matchms:add_retention:None can't be converted to float.\n",
      "2024-07-15 11:25:04,936:WARNING:matchms:add_retention:None can't be converted to float.\n",
      "2024-07-15 11:25:04,938:WARNING:matchms:add_precursor_mz:No precursor_mz found in metadata.\n",
      "2024-07-15 11:25:04,938:WARNING:matchms:add_retention:None can't be converted to float.\n",
      "2024-07-15 11:25:04,939:WARNING:matchms:add_retention:None can't be converted to float.\n",
      "2024-07-15 11:25:04,940:WARNING:matchms:add_precursor_mz:No precursor_mz found in metadata.\n",
      "2024-07-15 11:25:04,940:WARNING:matchms:add_retention:None can't be converted to float.\n",
      "2024-07-15 11:25:04,941:WARNING:matchms:add_retention:None can't be converted to float.\n",
      "2024-07-15 11:25:04,942:WARNING:matchms:add_precursor_mz:No precursor_mz found in metadata.\n",
      "2024-07-15 11:25:04,943:WARNING:matchms:add_retention:None can't be converted to float.\n",
      "2024-07-15 11:25:04,943:WARNING:matchms:add_retention:None can't be converted to float.\n",
      "2024-07-15 11:25:04,945:WARNING:matchms:add_precursor_mz:No precursor_mz found in metadata.\n",
      "2024-07-15 11:25:04,945:WARNING:matchms:add_retention:None can't be converted to float.\n",
      "2024-07-15 11:25:04,945:WARNING:matchms:add_retention:None can't be converted to float.\n",
      "2024-07-15 11:25:04,947:WARNING:matchms:add_precursor_mz:No precursor_mz found in metadata.\n",
      "2024-07-15 11:25:04,947:WARNING:matchms:add_retention:None can't be converted to float.\n",
      "2024-07-15 11:25:04,947:WARNING:matchms:add_retention:None can't be converted to float.\n",
      "2024-07-15 11:25:04,949:WARNING:matchms:add_precursor_mz:No precursor_mz found in metadata.\n",
      "2024-07-15 11:25:04,949:WARNING:matchms:add_retention:None can't be converted to float.\n",
      "2024-07-15 11:25:04,950:WARNING:matchms:add_retention:None can't be converted to float.\n",
      "2024-07-15 11:25:04,951:WARNING:matchms:add_precursor_mz:No precursor_mz found in metadata.\n",
      "2024-07-15 11:25:04,951:WARNING:matchms:add_retention:None can't be converted to float.\n",
      "2024-07-15 11:25:04,951:WARNING:matchms:add_retention:None can't be converted to float.\n",
      "2024-07-15 11:25:04,952:WARNING:matchms:add_precursor_mz:No precursor_mz found in metadata.\n",
      "2024-07-15 11:25:04,953:WARNING:matchms:add_retention:None can't be converted to float.\n",
      "2024-07-15 11:25:04,953:WARNING:matchms:add_retention:None can't be converted to float.\n",
      "2024-07-15 11:25:04,955:WARNING:matchms:add_precursor_mz:No precursor_mz found in metadata.\n",
      "2024-07-15 11:25:04,956:WARNING:matchms:add_retention:None can't be converted to float.\n",
      "2024-07-15 11:25:04,956:WARNING:matchms:add_retention:None can't be converted to float.\n",
      "2024-07-15 11:25:04,959:WARNING:matchms:add_precursor_mz:No precursor_mz found in metadata.\n",
      "2024-07-15 11:25:04,960:WARNING:matchms:add_retention:None can't be converted to float.\n",
      "2024-07-15 11:25:04,960:WARNING:matchms:add_retention:None can't be converted to float.\n",
      "2024-07-15 11:25:04,963:WARNING:matchms:add_precursor_mz:No precursor_mz found in metadata.\n",
      "2024-07-15 11:25:04,963:WARNING:matchms:add_retention:None can't be converted to float.\n",
      "2024-07-15 11:25:04,963:WARNING:matchms:add_retention:None can't be converted to float.\n",
      "2024-07-15 11:25:04,966:WARNING:matchms:add_precursor_mz:No precursor_mz found in metadata.\n",
      "2024-07-15 11:25:04,966:WARNING:matchms:add_retention:None can't be converted to float.\n",
      "2024-07-15 11:25:04,966:WARNING:matchms:add_retention:None can't be converted to float.\n",
      "2024-07-15 11:25:04,968:WARNING:matchms:add_precursor_mz:No precursor_mz found in metadata.\n",
      "2024-07-15 11:25:04,969:WARNING:matchms:add_retention:None can't be converted to float.\n",
      "2024-07-15 11:25:04,969:WARNING:matchms:add_retention:None can't be converted to float.\n",
      "2024-07-15 11:25:04,971:WARNING:matchms:add_precursor_mz:No precursor_mz found in metadata.\n",
      "2024-07-15 11:25:04,971:WARNING:matchms:add_retention:None can't be converted to float.\n",
      "2024-07-15 11:25:04,972:WARNING:matchms:add_retention:None can't be converted to float.\n",
      "2024-07-15 11:25:04,973:WARNING:matchms:add_precursor_mz:No precursor_mz found in metadata.\n",
      "2024-07-15 11:25:04,974:WARNING:matchms:add_retention:None can't be converted to float.\n",
      "2024-07-15 11:25:04,974:WARNING:matchms:add_retention:None can't be converted to float.\n",
      "2024-07-15 11:25:04,975:WARNING:matchms:add_precursor_mz:No precursor_mz found in metadata.\n",
      "2024-07-15 11:25:04,975:WARNING:matchms:add_retention:None can't be converted to float.\n",
      "2024-07-15 11:25:04,975:WARNING:matchms:add_retention:None can't be converted to float.\n",
      "2024-07-15 11:25:04,976:WARNING:matchms:add_precursor_mz:No precursor_mz found in metadata.\n",
      "2024-07-15 11:25:04,976:WARNING:matchms:add_retention:None can't be converted to float.\n",
      "2024-07-15 11:25:04,977:WARNING:matchms:add_retention:None can't be converted to float.\n",
      "2024-07-15 11:25:04,978:WARNING:matchms:add_precursor_mz:No precursor_mz found in metadata.\n",
      "2024-07-15 11:25:04,979:WARNING:matchms:add_retention:None can't be converted to float.\n",
      "2024-07-15 11:25:04,979:WARNING:matchms:add_retention:None can't be converted to float.\n",
      "2024-07-15 11:25:04,980:WARNING:matchms:add_precursor_mz:No precursor_mz found in metadata.\n",
      "2024-07-15 11:25:04,980:WARNING:matchms:add_retention:None can't be converted to float.\n",
      "2024-07-15 11:25:04,980:WARNING:matchms:add_retention:None can't be converted to float.\n",
      "2024-07-15 11:25:04,981:WARNING:matchms:add_precursor_mz:No precursor_mz found in metadata.\n",
      "2024-07-15 11:25:04,981:WARNING:matchms:add_retention:None can't be converted to float.\n",
      "2024-07-15 11:25:04,982:WARNING:matchms:add_retention:None can't be converted to float.\n",
      "2024-07-15 11:25:04,982:WARNING:matchms:add_precursor_mz:No precursor_mz found in metadata.\n",
      "2024-07-15 11:25:04,983:WARNING:matchms:add_retention:None can't be converted to float.\n",
      "2024-07-15 11:25:04,983:WARNING:matchms:add_retention:None can't be converted to float.\n",
      "2024-07-15 11:25:04,985:WARNING:matchms:add_precursor_mz:No precursor_mz found in metadata.\n",
      "2024-07-15 11:25:04,985:WARNING:matchms:add_retention:None can't be converted to float.\n",
      "2024-07-15 11:25:04,985:WARNING:matchms:add_retention:None can't be converted to float.\n",
      "2024-07-15 11:25:04,987:WARNING:matchms:add_precursor_mz:No precursor_mz found in metadata.\n",
      "2024-07-15 11:25:04,987:WARNING:matchms:add_retention:None can't be converted to float.\n",
      "2024-07-15 11:25:04,988:WARNING:matchms:add_retention:None can't be converted to float.\n",
      "2024-07-15 11:25:04,989:WARNING:matchms:add_precursor_mz:No precursor_mz found in metadata.\n",
      "2024-07-15 11:25:04,989:WARNING:matchms:add_retention:None can't be converted to float.\n",
      "2024-07-15 11:25:04,989:WARNING:matchms:add_retention:None can't be converted to float.\n",
      "2024-07-15 11:25:04,990:WARNING:matchms:add_precursor_mz:No precursor_mz found in metadata.\n",
      "2024-07-15 11:25:04,990:WARNING:matchms:add_retention:None can't be converted to float.\n",
      "2024-07-15 11:25:04,991:WARNING:matchms:add_retention:None can't be converted to float.\n",
      "2024-07-15 11:25:04,992:WARNING:matchms:add_precursor_mz:No precursor_mz found in metadata.\n",
      "2024-07-15 11:25:04,992:WARNING:matchms:add_retention:None can't be converted to float.\n",
      "2024-07-15 11:25:04,993:WARNING:matchms:add_retention:None can't be converted to float.\n",
      "2024-07-15 11:25:04,994:WARNING:matchms:add_precursor_mz:No precursor_mz found in metadata.\n",
      "2024-07-15 11:25:04,994:WARNING:matchms:add_retention:None can't be converted to float.\n",
      "2024-07-15 11:25:04,994:WARNING:matchms:add_retention:None can't be converted to float.\n",
      "2024-07-15 11:25:04,995:WARNING:matchms:add_precursor_mz:No precursor_mz found in metadata.\n",
      "2024-07-15 11:25:04,996:WARNING:matchms:add_retention:None can't be converted to float.\n",
      "2024-07-15 11:25:04,996:WARNING:matchms:add_retention:None can't be converted to float.\n",
      "2024-07-15 11:25:04,997:WARNING:matchms:add_precursor_mz:No precursor_mz found in metadata.\n",
      "2024-07-15 11:25:04,997:WARNING:matchms:add_retention:None can't be converted to float.\n",
      "2024-07-15 11:25:04,997:WARNING:matchms:add_retention:None can't be converted to float.\n",
      "2024-07-15 11:25:04,999:WARNING:matchms:add_precursor_mz:No precursor_mz found in metadata.\n",
      "2024-07-15 11:25:04,999:WARNING:matchms:add_retention:None can't be converted to float.\n",
      "2024-07-15 11:25:05,000:WARNING:matchms:add_retention:None can't be converted to float.\n",
      "2024-07-15 11:25:05,001:WARNING:matchms:add_precursor_mz:No precursor_mz found in metadata.\n",
      "2024-07-15 11:25:05,001:WARNING:matchms:add_retention:None can't be converted to float.\n",
      "2024-07-15 11:25:05,001:WARNING:matchms:add_retention:None can't be converted to float.\n",
      "2024-07-15 11:25:05,002:WARNING:matchms:add_precursor_mz:No precursor_mz found in metadata.\n",
      "2024-07-15 11:25:05,003:WARNING:matchms:add_retention:None can't be converted to float.\n",
      "2024-07-15 11:25:05,003:WARNING:matchms:add_retention:None can't be converted to float.\n",
      "2024-07-15 11:25:05,004:WARNING:matchms:add_precursor_mz:No precursor_mz found in metadata.\n",
      "2024-07-15 11:25:05,005:WARNING:matchms:add_retention:None can't be converted to float.\n",
      "2024-07-15 11:25:05,005:WARNING:matchms:add_retention:None can't be converted to float.\n",
      "2024-07-15 11:25:05,006:WARNING:matchms:add_precursor_mz:No precursor_mz found in metadata.\n",
      "2024-07-15 11:25:05,006:WARNING:matchms:add_retention:None can't be converted to float.\n",
      "2024-07-15 11:25:05,007:WARNING:matchms:add_retention:None can't be converted to float.\n",
      "2024-07-15 11:25:05,008:WARNING:matchms:add_precursor_mz:No precursor_mz found in metadata.\n",
      "2024-07-15 11:25:05,008:WARNING:matchms:add_retention:None can't be converted to float.\n",
      "2024-07-15 11:25:05,008:WARNING:matchms:add_retention:None can't be converted to float.\n",
      "2024-07-15 11:25:05,010:WARNING:matchms:add_precursor_mz:No precursor_mz found in metadata.\n",
      "2024-07-15 11:25:05,010:WARNING:matchms:add_retention:None can't be converted to float.\n",
      "2024-07-15 11:25:05,010:WARNING:matchms:add_retention:None can't be converted to float.\n",
      "2024-07-15 11:25:05,011:WARNING:matchms:add_precursor_mz:No precursor_mz found in metadata.\n",
      "2024-07-15 11:25:05,012:WARNING:matchms:add_retention:None can't be converted to float.\n",
      "2024-07-15 11:25:05,012:WARNING:matchms:add_retention:None can't be converted to float.\n",
      "2024-07-15 11:25:05,014:WARNING:matchms:add_precursor_mz:No precursor_mz found in metadata.\n",
      "2024-07-15 11:25:05,014:WARNING:matchms:add_retention:None can't be converted to float.\n",
      "2024-07-15 11:25:05,015:WARNING:matchms:add_retention:None can't be converted to float.\n",
      "2024-07-15 11:25:05,018:WARNING:matchms:add_precursor_mz:No precursor_mz found in metadata.\n",
      "2024-07-15 11:25:05,018:WARNING:matchms:add_retention:None can't be converted to float.\n",
      "2024-07-15 11:25:05,018:WARNING:matchms:add_retention:None can't be converted to float.\n",
      "2024-07-15 11:25:05,019:WARNING:matchms:add_precursor_mz:No precursor_mz found in metadata.\n",
      "2024-07-15 11:25:05,019:WARNING:matchms:add_retention:None can't be converted to float.\n",
      "2024-07-15 11:25:05,020:WARNING:matchms:add_retention:None can't be converted to float.\n",
      "2024-07-15 11:25:05,020:WARNING:matchms:add_precursor_mz:No precursor_mz found in metadata.\n",
      "2024-07-15 11:25:05,021:WARNING:matchms:add_retention:None can't be converted to float.\n",
      "2024-07-15 11:25:05,021:WARNING:matchms:add_retention:None can't be converted to float.\n",
      "2024-07-15 11:25:05,022:WARNING:matchms:add_precursor_mz:No precursor_mz found in metadata.\n",
      "2024-07-15 11:25:05,022:WARNING:matchms:add_retention:None can't be converted to float.\n",
      "2024-07-15 11:25:05,023:WARNING:matchms:add_retention:None can't be converted to float.\n",
      "2024-07-15 11:25:05,024:WARNING:matchms:add_precursor_mz:No precursor_mz found in metadata.\n",
      "2024-07-15 11:25:05,024:WARNING:matchms:add_retention:None can't be converted to float.\n",
      "2024-07-15 11:25:05,024:WARNING:matchms:add_retention:None can't be converted to float.\n",
      "2024-07-15 11:25:05,025:WARNING:matchms:add_precursor_mz:No precursor_mz found in metadata.\n",
      "2024-07-15 11:25:05,025:WARNING:matchms:add_retention:None can't be converted to float.\n",
      "2024-07-15 11:25:05,026:WARNING:matchms:add_retention:None can't be converted to float.\n",
      "2024-07-15 11:25:05,026:WARNING:matchms:add_precursor_mz:No precursor_mz found in metadata.\n",
      "2024-07-15 11:25:05,027:WARNING:matchms:add_retention:None can't be converted to float.\n",
      "2024-07-15 11:25:05,027:WARNING:matchms:add_retention:None can't be converted to float.\n",
      "2024-07-15 11:25:05,029:WARNING:matchms:add_precursor_mz:No precursor_mz found in metadata.\n",
      "2024-07-15 11:25:05,029:WARNING:matchms:add_retention:None can't be converted to float.\n",
      "2024-07-15 11:25:05,029:WARNING:matchms:add_retention:None can't be converted to float.\n",
      "2024-07-15 11:25:05,032:WARNING:matchms:add_precursor_mz:No precursor_mz found in metadata.\n",
      "2024-07-15 11:25:05,032:WARNING:matchms:add_retention:None can't be converted to float.\n",
      "2024-07-15 11:25:05,032:WARNING:matchms:add_retention:None can't be converted to float.\n",
      "2024-07-15 11:25:05,035:WARNING:matchms:add_precursor_mz:No precursor_mz found in metadata.\n",
      "2024-07-15 11:25:05,035:WARNING:matchms:add_retention:None can't be converted to float.\n",
      "2024-07-15 11:25:05,035:WARNING:matchms:add_retention:None can't be converted to float.\n",
      "2024-07-15 11:25:05,037:WARNING:matchms:add_precursor_mz:No precursor_mz found in metadata.\n",
      "2024-07-15 11:25:05,037:WARNING:matchms:add_retention:None can't be converted to float.\n",
      "2024-07-15 11:25:05,038:WARNING:matchms:add_retention:None can't be converted to float.\n",
      "2024-07-15 11:25:05,040:WARNING:matchms:add_precursor_mz:No precursor_mz found in metadata.\n",
      "2024-07-15 11:25:05,040:WARNING:matchms:add_retention:None can't be converted to float.\n",
      "2024-07-15 11:25:05,040:WARNING:matchms:add_retention:None can't be converted to float.\n",
      "2024-07-15 11:25:05,041:WARNING:matchms:add_precursor_mz:No precursor_mz found in metadata.\n",
      "2024-07-15 11:25:05,042:WARNING:matchms:add_retention:None can't be converted to float.\n",
      "2024-07-15 11:25:05,042:WARNING:matchms:add_retention:None can't be converted to float.\n",
      "2024-07-15 11:25:05,044:WARNING:matchms:add_precursor_mz:No precursor_mz found in metadata.\n",
      "2024-07-15 11:25:05,044:WARNING:matchms:add_retention:None can't be converted to float.\n",
      "2024-07-15 11:25:05,044:WARNING:matchms:add_retention:None can't be converted to float.\n",
      "2024-07-15 11:25:05,046:WARNING:matchms:add_precursor_mz:No precursor_mz found in metadata.\n",
      "2024-07-15 11:25:05,047:WARNING:matchms:add_retention:None can't be converted to float.\n",
      "2024-07-15 11:25:05,047:WARNING:matchms:add_retention:None can't be converted to float.\n",
      "2024-07-15 11:25:05,048:WARNING:matchms:add_precursor_mz:No precursor_mz found in metadata.\n",
      "2024-07-15 11:25:05,048:WARNING:matchms:add_retention:None can't be converted to float.\n",
      "2024-07-15 11:25:05,049:WARNING:matchms:add_retention:None can't be converted to float.\n",
      "2024-07-15 11:25:05,051:WARNING:matchms:add_precursor_mz:No precursor_mz found in metadata.\n",
      "2024-07-15 11:25:05,052:WARNING:matchms:add_retention:None can't be converted to float.\n",
      "2024-07-15 11:25:05,052:WARNING:matchms:add_retention:None can't be converted to float.\n",
      "2024-07-15 11:25:05,053:WARNING:matchms:add_precursor_mz:No precursor_mz found in metadata.\n",
      "2024-07-15 11:25:05,053:WARNING:matchms:add_retention:None can't be converted to float.\n",
      "2024-07-15 11:25:05,054:WARNING:matchms:add_retention:None can't be converted to float.\n",
      "2024-07-15 11:25:05,055:WARNING:matchms:add_precursor_mz:No precursor_mz found in metadata.\n",
      "2024-07-15 11:25:05,055:WARNING:matchms:add_retention:None can't be converted to float.\n",
      "2024-07-15 11:25:05,056:WARNING:matchms:add_retention:None can't be converted to float.\n",
      "2024-07-15 11:25:05,057:WARNING:matchms:add_precursor_mz:No precursor_mz found in metadata.\n",
      "2024-07-15 11:25:05,058:WARNING:matchms:add_retention:None can't be converted to float.\n",
      "2024-07-15 11:25:05,058:WARNING:matchms:add_retention:None can't be converted to float.\n",
      "2024-07-15 11:25:05,059:WARNING:matchms:add_precursor_mz:No precursor_mz found in metadata.\n",
      "2024-07-15 11:25:05,059:WARNING:matchms:add_retention:None can't be converted to float.\n",
      "2024-07-15 11:25:05,060:WARNING:matchms:add_retention:None can't be converted to float.\n",
      "2024-07-15 11:25:05,061:WARNING:matchms:add_precursor_mz:No precursor_mz found in metadata.\n",
      "2024-07-15 11:25:05,061:WARNING:matchms:add_retention:None can't be converted to float.\n",
      "2024-07-15 11:25:05,062:WARNING:matchms:add_retention:None can't be converted to float.\n",
      "2024-07-15 11:25:05,063:WARNING:matchms:add_precursor_mz:No precursor_mz found in metadata.\n",
      "2024-07-15 11:25:05,063:WARNING:matchms:add_retention:None can't be converted to float.\n",
      "2024-07-15 11:25:05,064:WARNING:matchms:add_retention:None can't be converted to float.\n",
      "2024-07-15 11:25:05,066:WARNING:matchms:add_precursor_mz:No precursor_mz found in metadata.\n",
      "2024-07-15 11:25:05,066:WARNING:matchms:add_retention:None can't be converted to float.\n",
      "2024-07-15 11:25:05,066:WARNING:matchms:add_retention:None can't be converted to float.\n",
      "2024-07-15 11:25:05,068:WARNING:matchms:add_precursor_mz:No precursor_mz found in metadata.\n",
      "2024-07-15 11:25:05,068:WARNING:matchms:add_retention:None can't be converted to float.\n",
      "2024-07-15 11:25:05,068:WARNING:matchms:add_retention:None can't be converted to float.\n",
      "2024-07-15 11:25:05,069:WARNING:matchms:add_precursor_mz:No precursor_mz found in metadata.\n",
      "2024-07-15 11:25:05,070:WARNING:matchms:add_retention:None can't be converted to float.\n",
      "2024-07-15 11:25:05,070:WARNING:matchms:add_retention:None can't be converted to float.\n",
      "2024-07-15 11:25:05,072:WARNING:matchms:add_precursor_mz:No precursor_mz found in metadata.\n",
      "2024-07-15 11:25:05,072:WARNING:matchms:add_retention:None can't be converted to float.\n",
      "2024-07-15 11:25:05,073:WARNING:matchms:add_retention:None can't be converted to float.\n",
      "2024-07-15 11:25:05,075:WARNING:matchms:add_precursor_mz:No precursor_mz found in metadata.\n",
      "2024-07-15 11:25:05,075:WARNING:matchms:add_retention:None can't be converted to float.\n",
      "2024-07-15 11:25:05,076:WARNING:matchms:add_retention:None can't be converted to float.\n",
      "2024-07-15 11:25:05,078:WARNING:matchms:add_precursor_mz:No precursor_mz found in metadata.\n",
      "2024-07-15 11:25:05,078:WARNING:matchms:add_retention:None can't be converted to float.\n",
      "2024-07-15 11:25:05,079:WARNING:matchms:add_retention:None can't be converted to float.\n",
      "2024-07-15 11:25:05,080:WARNING:matchms:add_precursor_mz:No precursor_mz found in metadata.\n",
      "2024-07-15 11:25:05,080:WARNING:matchms:add_retention:None can't be converted to float.\n",
      "2024-07-15 11:25:05,080:WARNING:matchms:add_retention:None can't be converted to float.\n",
      "2024-07-15 11:25:05,083:WARNING:matchms:add_precursor_mz:No precursor_mz found in metadata.\n",
      "2024-07-15 11:25:05,083:WARNING:matchms:add_retention:None can't be converted to float.\n",
      "2024-07-15 11:25:05,083:WARNING:matchms:add_retention:None can't be converted to float.\n",
      "2024-07-15 11:25:05,085:WARNING:matchms:add_precursor_mz:No precursor_mz found in metadata.\n",
      "2024-07-15 11:25:05,085:WARNING:matchms:add_retention:None can't be converted to float.\n",
      "2024-07-15 11:25:05,086:WARNING:matchms:add_retention:None can't be converted to float.\n",
      "2024-07-15 11:25:05,087:WARNING:matchms:add_precursor_mz:No precursor_mz found in metadata.\n",
      "2024-07-15 11:25:05,088:WARNING:matchms:add_retention:None can't be converted to float.\n",
      "2024-07-15 11:25:05,088:WARNING:matchms:add_retention:None can't be converted to float.\n",
      "2024-07-15 11:25:05,088:WARNING:matchms:add_precursor_mz:No precursor_mz found in metadata.\n",
      "2024-07-15 11:25:05,089:WARNING:matchms:add_retention:None can't be converted to float.\n",
      "2024-07-15 11:25:05,089:WARNING:matchms:add_retention:None can't be converted to float.\n",
      "2024-07-15 11:25:05,090:WARNING:matchms:add_precursor_mz:No precursor_mz found in metadata.\n",
      "2024-07-15 11:25:05,090:WARNING:matchms:add_retention:None can't be converted to float.\n",
      "2024-07-15 11:25:05,091:WARNING:matchms:add_retention:None can't be converted to float.\n",
      "2024-07-15 11:25:05,091:WARNING:matchms:add_precursor_mz:No precursor_mz found in metadata.\n",
      "2024-07-15 11:25:05,092:WARNING:matchms:add_retention:None can't be converted to float.\n",
      "2024-07-15 11:25:05,092:WARNING:matchms:add_retention:None can't be converted to float.\n",
      "2024-07-15 11:25:05,093:WARNING:matchms:add_precursor_mz:No precursor_mz found in metadata.\n",
      "2024-07-15 11:25:05,093:WARNING:matchms:add_retention:None can't be converted to float.\n",
      "2024-07-15 11:25:05,093:WARNING:matchms:add_retention:None can't be converted to float.\n",
      "2024-07-15 11:25:05,094:WARNING:matchms:add_precursor_mz:No precursor_mz found in metadata.\n",
      "2024-07-15 11:25:05,095:WARNING:matchms:add_retention:None can't be converted to float.\n",
      "2024-07-15 11:25:05,095:WARNING:matchms:add_retention:None can't be converted to float.\n",
      "2024-07-15 11:25:05,096:WARNING:matchms:add_precursor_mz:No precursor_mz found in metadata.\n",
      "2024-07-15 11:25:05,096:WARNING:matchms:add_retention:None can't be converted to float.\n",
      "2024-07-15 11:25:05,097:WARNING:matchms:add_retention:None can't be converted to float.\n",
      "2024-07-15 11:25:05,098:WARNING:matchms:add_precursor_mz:No precursor_mz found in metadata.\n",
      "2024-07-15 11:25:05,098:WARNING:matchms:add_retention:None can't be converted to float.\n",
      "2024-07-15 11:25:05,099:WARNING:matchms:add_retention:None can't be converted to float.\n",
      "2024-07-15 11:25:05,100:WARNING:matchms:add_precursor_mz:No precursor_mz found in metadata.\n",
      "2024-07-15 11:25:05,100:WARNING:matchms:add_retention:None can't be converted to float.\n",
      "2024-07-15 11:25:05,100:WARNING:matchms:add_retention:None can't be converted to float.\n",
      "2024-07-15 11:25:05,101:WARNING:matchms:add_precursor_mz:No precursor_mz found in metadata.\n",
      "2024-07-15 11:25:05,102:WARNING:matchms:add_retention:None can't be converted to float.\n",
      "2024-07-15 11:25:05,102:WARNING:matchms:add_retention:None can't be converted to float.\n",
      "2024-07-15 11:25:05,103:WARNING:matchms:add_precursor_mz:No precursor_mz found in metadata.\n",
      "2024-07-15 11:25:05,104:WARNING:matchms:add_retention:None can't be converted to float.\n",
      "2024-07-15 11:25:05,104:WARNING:matchms:add_retention:None can't be converted to float.\n",
      "2024-07-15 11:25:05,105:WARNING:matchms:add_precursor_mz:No precursor_mz found in metadata.\n",
      "2024-07-15 11:25:05,105:WARNING:matchms:add_retention:None can't be converted to float.\n",
      "2024-07-15 11:25:05,106:WARNING:matchms:add_retention:None can't be converted to float.\n",
      "2024-07-15 11:25:05,107:WARNING:matchms:add_precursor_mz:No precursor_mz found in metadata.\n",
      "2024-07-15 11:25:05,107:WARNING:matchms:add_retention:None can't be converted to float.\n",
      "2024-07-15 11:25:05,107:WARNING:matchms:add_retention:None can't be converted to float.\n",
      "2024-07-15 11:25:05,108:WARNING:matchms:add_precursor_mz:No precursor_mz found in metadata.\n",
      "2024-07-15 11:25:05,109:WARNING:matchms:add_retention:None can't be converted to float.\n",
      "2024-07-15 11:25:05,109:WARNING:matchms:add_retention:None can't be converted to float.\n",
      "2024-07-15 11:25:05,110:WARNING:matchms:add_precursor_mz:No precursor_mz found in metadata.\n",
      "2024-07-15 11:25:05,111:WARNING:matchms:add_retention:None can't be converted to float.\n",
      "2024-07-15 11:25:05,111:WARNING:matchms:add_retention:None can't be converted to float.\n",
      "2024-07-15 11:25:05,112:WARNING:matchms:add_precursor_mz:No precursor_mz found in metadata.\n",
      "2024-07-15 11:25:05,113:WARNING:matchms:add_retention:None can't be converted to float.\n",
      "2024-07-15 11:25:05,113:WARNING:matchms:add_retention:None can't be converted to float.\n",
      "2024-07-15 11:25:05,114:WARNING:matchms:add_precursor_mz:No precursor_mz found in metadata.\n",
      "2024-07-15 11:25:05,114:WARNING:matchms:add_retention:None can't be converted to float.\n",
      "2024-07-15 11:25:05,115:WARNING:matchms:add_retention:None can't be converted to float.\n",
      "2024-07-15 11:25:05,116:WARNING:matchms:add_precursor_mz:No precursor_mz found in metadata.\n",
      "2024-07-15 11:25:05,116:WARNING:matchms:add_retention:None can't be converted to float.\n",
      "2024-07-15 11:25:05,116:WARNING:matchms:add_retention:None can't be converted to float.\n",
      "2024-07-15 11:25:05,117:WARNING:matchms:add_precursor_mz:No precursor_mz found in metadata.\n",
      "2024-07-15 11:25:05,118:WARNING:matchms:add_retention:None can't be converted to float.\n",
      "2024-07-15 11:25:05,118:WARNING:matchms:add_retention:None can't be converted to float.\n",
      "2024-07-15 11:25:05,119:WARNING:matchms:add_precursor_mz:No precursor_mz found in metadata.\n",
      "2024-07-15 11:25:05,119:WARNING:matchms:add_retention:None can't be converted to float.\n",
      "2024-07-15 11:25:05,119:WARNING:matchms:add_retention:None can't be converted to float.\n",
      "2024-07-15 11:25:05,120:WARNING:matchms:add_precursor_mz:No precursor_mz found in metadata.\n",
      "2024-07-15 11:25:05,121:WARNING:matchms:add_retention:None can't be converted to float.\n",
      "2024-07-15 11:25:05,121:WARNING:matchms:add_retention:None can't be converted to float.\n",
      "2024-07-15 11:25:05,126:WARNING:matchms:add_precursor_mz:No precursor_mz found in metadata.\n",
      "2024-07-15 11:25:05,127:WARNING:matchms:add_retention:None can't be converted to float.\n",
      "2024-07-15 11:25:05,127:WARNING:matchms:add_retention:None can't be converted to float.\n",
      "2024-07-15 11:25:05,128:WARNING:matchms:add_precursor_mz:No precursor_mz found in metadata.\n",
      "2024-07-15 11:25:05,128:WARNING:matchms:add_retention:None can't be converted to float.\n",
      "2024-07-15 11:25:05,129:WARNING:matchms:add_retention:None can't be converted to float.\n",
      "2024-07-15 11:25:05,129:WARNING:matchms:add_precursor_mz:No precursor_mz found in metadata.\n",
      "2024-07-15 11:25:05,130:WARNING:matchms:add_retention:None can't be converted to float.\n",
      "2024-07-15 11:25:05,130:WARNING:matchms:add_retention:None can't be converted to float.\n",
      "2024-07-15 11:25:05,131:WARNING:matchms:add_precursor_mz:No precursor_mz found in metadata.\n",
      "2024-07-15 11:25:05,131:WARNING:matchms:add_retention:None can't be converted to float.\n",
      "2024-07-15 11:25:05,131:WARNING:matchms:add_retention:None can't be converted to float.\n",
      "2024-07-15 11:25:05,132:WARNING:matchms:add_precursor_mz:No precursor_mz found in metadata.\n",
      "2024-07-15 11:25:05,132:WARNING:matchms:add_retention:None can't be converted to float.\n",
      "2024-07-15 11:25:05,133:WARNING:matchms:add_retention:None can't be converted to float.\n",
      "2024-07-15 11:25:05,133:WARNING:matchms:add_precursor_mz:No precursor_mz found in metadata.\n",
      "2024-07-15 11:25:05,134:WARNING:matchms:add_retention:None can't be converted to float.\n",
      "2024-07-15 11:25:05,134:WARNING:matchms:add_retention:None can't be converted to float.\n",
      "2024-07-15 11:25:05,134:WARNING:matchms:add_precursor_mz:No precursor_mz found in metadata.\n",
      "2024-07-15 11:25:05,135:WARNING:matchms:add_retention:None can't be converted to float.\n",
      "2024-07-15 11:25:05,135:WARNING:matchms:add_retention:None can't be converted to float.\n",
      "2024-07-15 11:25:05,136:WARNING:matchms:add_precursor_mz:No precursor_mz found in metadata.\n",
      "2024-07-15 11:25:05,137:WARNING:matchms:add_retention:None can't be converted to float.\n",
      "2024-07-15 11:25:05,137:WARNING:matchms:add_retention:None can't be converted to float.\n",
      "2024-07-15 11:25:05,138:WARNING:matchms:add_precursor_mz:No precursor_mz found in metadata.\n",
      "2024-07-15 11:25:05,138:WARNING:matchms:add_retention:None can't be converted to float.\n",
      "2024-07-15 11:25:05,138:WARNING:matchms:add_retention:None can't be converted to float.\n",
      "2024-07-15 11:25:05,140:WARNING:matchms:add_precursor_mz:No precursor_mz found in metadata.\n",
      "2024-07-15 11:25:05,140:WARNING:matchms:add_retention:None can't be converted to float.\n",
      "2024-07-15 11:25:05,140:WARNING:matchms:add_retention:None can't be converted to float.\n",
      "2024-07-15 11:25:05,141:WARNING:matchms:add_precursor_mz:No precursor_mz found in metadata.\n",
      "2024-07-15 11:25:05,142:WARNING:matchms:add_retention:None can't be converted to float.\n",
      "2024-07-15 11:25:05,142:WARNING:matchms:add_retention:None can't be converted to float.\n",
      "2024-07-15 11:25:05,143:WARNING:matchms:add_precursor_mz:No precursor_mz found in metadata.\n",
      "2024-07-15 11:25:05,143:WARNING:matchms:add_retention:None can't be converted to float.\n",
      "2024-07-15 11:25:05,144:WARNING:matchms:add_retention:None can't be converted to float.\n",
      "2024-07-15 11:25:05,144:WARNING:matchms:add_precursor_mz:No precursor_mz found in metadata.\n",
      "2024-07-15 11:25:05,144:WARNING:matchms:add_retention:None can't be converted to float.\n",
      "2024-07-15 11:25:05,145:WARNING:matchms:add_retention:None can't be converted to float.\n",
      "2024-07-15 11:25:05,146:WARNING:matchms:add_precursor_mz:No precursor_mz found in metadata.\n",
      "2024-07-15 11:25:05,146:WARNING:matchms:add_retention:None can't be converted to float.\n",
      "2024-07-15 11:25:05,146:WARNING:matchms:add_retention:None can't be converted to float.\n",
      "2024-07-15 11:25:05,147:WARNING:matchms:add_precursor_mz:No precursor_mz found in metadata.\n",
      "2024-07-15 11:25:05,147:WARNING:matchms:add_retention:None can't be converted to float.\n",
      "2024-07-15 11:25:05,148:WARNING:matchms:add_retention:None can't be converted to float.\n",
      "2024-07-15 11:25:05,148:WARNING:matchms:add_precursor_mz:No precursor_mz found in metadata.\n",
      "2024-07-15 11:25:05,148:WARNING:matchms:add_retention:None can't be converted to float.\n",
      "2024-07-15 11:25:05,149:WARNING:matchms:add_retention:None can't be converted to float.\n",
      "2024-07-15 11:25:05,149:WARNING:matchms:add_precursor_mz:No precursor_mz found in metadata.\n",
      "2024-07-15 11:25:05,150:WARNING:matchms:add_retention:None can't be converted to float.\n",
      "2024-07-15 11:25:05,150:WARNING:matchms:add_retention:None can't be converted to float.\n",
      "2024-07-15 11:25:05,153:WARNING:matchms:add_precursor_mz:No precursor_mz found in metadata.\n",
      "2024-07-15 11:25:05,153:WARNING:matchms:add_retention:None can't be converted to float.\n",
      "2024-07-15 11:25:05,154:WARNING:matchms:add_retention:None can't be converted to float.\n",
      "2024-07-15 11:25:05,154:WARNING:matchms:add_precursor_mz:No precursor_mz found in metadata.\n",
      "2024-07-15 11:25:05,154:WARNING:matchms:add_retention:None can't be converted to float.\n",
      "2024-07-15 11:25:05,155:WARNING:matchms:add_retention:None can't be converted to float.\n",
      "2024-07-15 11:25:05,155:WARNING:matchms:add_precursor_mz:No precursor_mz found in metadata.\n",
      "2024-07-15 11:25:05,156:WARNING:matchms:add_retention:None can't be converted to float.\n",
      "2024-07-15 11:25:05,156:WARNING:matchms:add_retention:None can't be converted to float.\n",
      "2024-07-15 11:25:05,157:WARNING:matchms:add_precursor_mz:No precursor_mz found in metadata.\n",
      "2024-07-15 11:25:05,157:WARNING:matchms:add_retention:None can't be converted to float.\n",
      "2024-07-15 11:25:05,158:WARNING:matchms:add_retention:None can't be converted to float.\n",
      "2024-07-15 11:25:05,158:WARNING:matchms:add_precursor_mz:No precursor_mz found in metadata.\n",
      "2024-07-15 11:25:05,159:WARNING:matchms:add_retention:None can't be converted to float.\n",
      "2024-07-15 11:25:05,159:WARNING:matchms:add_retention:None can't be converted to float.\n",
      "2024-07-15 11:25:05,161:WARNING:matchms:add_precursor_mz:No precursor_mz found in metadata.\n",
      "2024-07-15 11:25:05,161:WARNING:matchms:add_retention:None can't be converted to float.\n",
      "2024-07-15 11:25:05,162:WARNING:matchms:add_retention:None can't be converted to float.\n",
      "2024-07-15 11:25:05,167:WARNING:matchms:add_precursor_mz:No precursor_mz found in metadata.\n",
      "2024-07-15 11:25:05,168:WARNING:matchms:add_retention:None can't be converted to float.\n",
      "2024-07-15 11:25:05,168:WARNING:matchms:add_retention:None can't be converted to float.\n",
      "2024-07-15 11:25:05,169:WARNING:matchms:add_precursor_mz:No precursor_mz found in metadata.\n",
      "2024-07-15 11:25:05,169:WARNING:matchms:add_retention:None can't be converted to float.\n",
      "2024-07-15 11:25:05,169:WARNING:matchms:add_retention:None can't be converted to float.\n",
      "2024-07-15 11:25:05,171:WARNING:matchms:add_precursor_mz:No precursor_mz found in metadata.\n",
      "2024-07-15 11:25:05,172:WARNING:matchms:add_retention:None can't be converted to float.\n",
      "2024-07-15 11:25:05,172:WARNING:matchms:add_retention:None can't be converted to float.\n",
      "2024-07-15 11:25:05,173:WARNING:matchms:add_precursor_mz:No precursor_mz found in metadata.\n",
      "2024-07-15 11:25:05,173:WARNING:matchms:add_retention:None can't be converted to float.\n",
      "2024-07-15 11:25:05,174:WARNING:matchms:add_retention:None can't be converted to float.\n",
      "2024-07-15 11:25:05,175:WARNING:matchms:add_precursor_mz:No precursor_mz found in metadata.\n",
      "2024-07-15 11:25:05,175:WARNING:matchms:add_retention:None can't be converted to float.\n",
      "2024-07-15 11:25:05,176:WARNING:matchms:add_retention:None can't be converted to float.\n",
      "2024-07-15 11:25:05,176:WARNING:matchms:add_precursor_mz:No precursor_mz found in metadata.\n",
      "2024-07-15 11:25:05,176:WARNING:matchms:add_retention:None can't be converted to float.\n",
      "2024-07-15 11:25:05,177:WARNING:matchms:add_retention:None can't be converted to float.\n",
      "2024-07-15 11:25:05,178:WARNING:matchms:add_precursor_mz:No precursor_mz found in metadata.\n",
      "2024-07-15 11:25:05,178:WARNING:matchms:add_retention:None can't be converted to float.\n",
      "2024-07-15 11:25:05,178:WARNING:matchms:add_retention:None can't be converted to float.\n",
      "2024-07-15 11:25:05,181:WARNING:matchms:add_precursor_mz:No precursor_mz found in metadata.\n",
      "2024-07-15 11:25:05,182:WARNING:matchms:add_retention:None can't be converted to float.\n",
      "2024-07-15 11:25:05,182:WARNING:matchms:add_retention:None can't be converted to float.\n",
      "2024-07-15 11:25:05,184:WARNING:matchms:add_precursor_mz:No precursor_mz found in metadata.\n",
      "2024-07-15 11:25:05,184:WARNING:matchms:add_retention:None can't be converted to float.\n",
      "2024-07-15 11:25:05,184:WARNING:matchms:add_retention:None can't be converted to float.\n",
      "2024-07-15 11:25:05,186:WARNING:matchms:add_precursor_mz:No precursor_mz found in metadata.\n",
      "2024-07-15 11:25:05,186:WARNING:matchms:add_retention:None can't be converted to float.\n",
      "2024-07-15 11:25:05,186:WARNING:matchms:add_retention:None can't be converted to float.\n",
      "2024-07-15 11:25:05,188:WARNING:matchms:add_precursor_mz:No precursor_mz found in metadata.\n",
      "2024-07-15 11:25:05,188:WARNING:matchms:add_retention:None can't be converted to float.\n",
      "2024-07-15 11:25:05,188:WARNING:matchms:add_retention:None can't be converted to float.\n",
      "2024-07-15 11:25:05,189:WARNING:matchms:add_precursor_mz:No precursor_mz found in metadata.\n",
      "2024-07-15 11:25:05,190:WARNING:matchms:add_retention:None can't be converted to float.\n",
      "2024-07-15 11:25:05,190:WARNING:matchms:add_retention:None can't be converted to float.\n",
      "2024-07-15 11:25:05,192:WARNING:matchms:add_precursor_mz:No precursor_mz found in metadata.\n",
      "2024-07-15 11:25:05,192:WARNING:matchms:add_retention:None can't be converted to float.\n",
      "2024-07-15 11:25:05,192:WARNING:matchms:add_retention:None can't be converted to float.\n",
      "2024-07-15 11:25:05,193:WARNING:matchms:add_precursor_mz:No precursor_mz found in metadata.\n",
      "2024-07-15 11:25:05,194:WARNING:matchms:add_retention:None can't be converted to float.\n",
      "2024-07-15 11:25:05,194:WARNING:matchms:add_retention:None can't be converted to float.\n",
      "2024-07-15 11:25:05,196:WARNING:matchms:add_precursor_mz:No precursor_mz found in metadata.\n",
      "2024-07-15 11:25:05,196:WARNING:matchms:add_retention:None can't be converted to float.\n",
      "2024-07-15 11:25:05,197:WARNING:matchms:add_retention:None can't be converted to float.\n",
      "2024-07-15 11:25:05,198:WARNING:matchms:add_precursor_mz:No precursor_mz found in metadata.\n",
      "2024-07-15 11:25:05,198:WARNING:matchms:add_retention:None can't be converted to float.\n",
      "2024-07-15 11:25:05,198:WARNING:matchms:add_retention:None can't be converted to float.\n",
      "2024-07-15 11:25:05,200:WARNING:matchms:add_precursor_mz:No precursor_mz found in metadata.\n",
      "2024-07-15 11:25:05,200:WARNING:matchms:add_retention:None can't be converted to float.\n",
      "2024-07-15 11:25:05,200:WARNING:matchms:add_retention:None can't be converted to float.\n",
      "2024-07-15 11:25:05,202:WARNING:matchms:add_precursor_mz:No precursor_mz found in metadata.\n",
      "2024-07-15 11:25:05,202:WARNING:matchms:add_retention:None can't be converted to float.\n",
      "2024-07-15 11:25:05,202:WARNING:matchms:add_retention:None can't be converted to float.\n",
      "2024-07-15 11:25:05,203:WARNING:matchms:add_precursor_mz:No precursor_mz found in metadata.\n",
      "2024-07-15 11:25:05,204:WARNING:matchms:add_retention:None can't be converted to float.\n",
      "2024-07-15 11:25:05,204:WARNING:matchms:add_retention:None can't be converted to float.\n",
      "2024-07-15 11:25:05,205:WARNING:matchms:add_precursor_mz:No precursor_mz found in metadata.\n",
      "2024-07-15 11:25:05,206:WARNING:matchms:add_retention:None can't be converted to float.\n",
      "2024-07-15 11:25:05,206:WARNING:matchms:add_retention:None can't be converted to float.\n",
      "2024-07-15 11:25:05,207:WARNING:matchms:add_precursor_mz:No precursor_mz found in metadata.\n",
      "2024-07-15 11:25:05,207:WARNING:matchms:add_retention:None can't be converted to float.\n",
      "2024-07-15 11:25:05,208:WARNING:matchms:add_retention:None can't be converted to float.\n",
      "2024-07-15 11:25:05,210:WARNING:matchms:add_precursor_mz:No precursor_mz found in metadata.\n",
      "2024-07-15 11:25:05,210:WARNING:matchms:add_retention:None can't be converted to float.\n",
      "2024-07-15 11:25:05,210:WARNING:matchms:add_retention:None can't be converted to float.\n",
      "2024-07-15 11:25:05,211:WARNING:matchms:add_precursor_mz:No precursor_mz found in metadata.\n",
      "2024-07-15 11:25:05,211:WARNING:matchms:add_retention:None can't be converted to float.\n",
      "2024-07-15 11:25:05,212:WARNING:matchms:add_retention:None can't be converted to float.\n",
      "2024-07-15 11:25:05,213:WARNING:matchms:add_precursor_mz:No precursor_mz found in metadata.\n",
      "2024-07-15 11:25:05,214:WARNING:matchms:add_retention:None can't be converted to float.\n",
      "2024-07-15 11:25:05,214:WARNING:matchms:add_retention:None can't be converted to float.\n",
      "2024-07-15 11:25:05,215:WARNING:matchms:add_precursor_mz:No precursor_mz found in metadata.\n",
      "2024-07-15 11:25:05,216:WARNING:matchms:add_retention:None can't be converted to float.\n",
      "2024-07-15 11:25:05,216:WARNING:matchms:add_retention:None can't be converted to float.\n",
      "2024-07-15 11:25:05,218:WARNING:matchms:add_precursor_mz:No precursor_mz found in metadata.\n",
      "2024-07-15 11:25:05,218:WARNING:matchms:add_retention:None can't be converted to float.\n",
      "2024-07-15 11:25:05,218:WARNING:matchms:add_retention:None can't be converted to float.\n",
      "2024-07-15 11:25:05,220:WARNING:matchms:add_precursor_mz:No precursor_mz found in metadata.\n",
      "2024-07-15 11:25:05,220:WARNING:matchms:add_retention:None can't be converted to float.\n",
      "2024-07-15 11:25:05,220:WARNING:matchms:add_retention:None can't be converted to float.\n",
      "2024-07-15 11:25:05,221:WARNING:matchms:add_precursor_mz:No precursor_mz found in metadata.\n",
      "2024-07-15 11:25:05,222:WARNING:matchms:add_retention:None can't be converted to float.\n",
      "2024-07-15 11:25:05,222:WARNING:matchms:add_retention:None can't be converted to float.\n",
      "2024-07-15 11:25:05,223:WARNING:matchms:add_precursor_mz:No precursor_mz found in metadata.\n",
      "2024-07-15 11:25:05,224:WARNING:matchms:add_retention:None can't be converted to float.\n",
      "2024-07-15 11:25:05,224:WARNING:matchms:add_retention:None can't be converted to float.\n",
      "2024-07-15 11:25:05,225:WARNING:matchms:add_precursor_mz:No precursor_mz found in metadata.\n",
      "2024-07-15 11:25:05,225:WARNING:matchms:add_retention:None can't be converted to float.\n",
      "2024-07-15 11:25:05,225:WARNING:matchms:add_retention:None can't be converted to float.\n",
      "2024-07-15 11:25:05,229:WARNING:matchms:add_precursor_mz:No precursor_mz found in metadata.\n",
      "2024-07-15 11:25:05,229:WARNING:matchms:add_retention:None can't be converted to float.\n",
      "2024-07-15 11:25:05,230:WARNING:matchms:add_retention:None can't be converted to float.\n",
      "2024-07-15 11:25:05,231:WARNING:matchms:add_precursor_mz:No precursor_mz found in metadata.\n",
      "2024-07-15 11:25:05,231:WARNING:matchms:add_retention:None can't be converted to float.\n",
      "2024-07-15 11:25:05,231:WARNING:matchms:add_retention:None can't be converted to float.\n",
      "2024-07-15 11:25:05,235:WARNING:matchms:add_precursor_mz:No precursor_mz found in metadata.\n",
      "2024-07-15 11:25:05,235:WARNING:matchms:add_retention:None can't be converted to float.\n",
      "2024-07-15 11:25:05,235:WARNING:matchms:add_retention:None can't be converted to float.\n",
      "2024-07-15 11:25:05,237:WARNING:matchms:add_precursor_mz:No precursor_mz found in metadata.\n",
      "2024-07-15 11:25:05,238:WARNING:matchms:add_retention:None can't be converted to float.\n",
      "2024-07-15 11:25:05,238:WARNING:matchms:add_retention:None can't be converted to float.\n",
      "2024-07-15 11:25:05,240:WARNING:matchms:add_precursor_mz:No precursor_mz found in metadata.\n",
      "2024-07-15 11:25:05,240:WARNING:matchms:add_retention:None can't be converted to float.\n",
      "2024-07-15 11:25:05,241:WARNING:matchms:add_retention:None can't be converted to float.\n",
      "2024-07-15 11:25:05,244:WARNING:matchms:add_precursor_mz:No precursor_mz found in metadata.\n",
      "2024-07-15 11:25:05,245:WARNING:matchms:add_retention:None can't be converted to float.\n",
      "2024-07-15 11:25:05,245:WARNING:matchms:add_retention:None can't be converted to float.\n",
      "2024-07-15 11:25:05,247:WARNING:matchms:add_precursor_mz:No precursor_mz found in metadata.\n",
      "2024-07-15 11:25:05,248:WARNING:matchms:add_retention:None can't be converted to float.\n",
      "2024-07-15 11:25:05,248:WARNING:matchms:add_retention:None can't be converted to float.\n",
      "2024-07-15 11:25:05,250:WARNING:matchms:add_precursor_mz:No precursor_mz found in metadata.\n",
      "2024-07-15 11:25:05,251:WARNING:matchms:add_retention:None can't be converted to float.\n",
      "2024-07-15 11:25:05,251:WARNING:matchms:add_retention:None can't be converted to float.\n",
      "2024-07-15 11:25:05,252:WARNING:matchms:add_precursor_mz:No precursor_mz found in metadata.\n",
      "2024-07-15 11:25:05,253:WARNING:matchms:add_retention:None can't be converted to float.\n",
      "2024-07-15 11:25:05,253:WARNING:matchms:add_retention:None can't be converted to float.\n",
      "2024-07-15 11:25:05,255:WARNING:matchms:add_precursor_mz:No precursor_mz found in metadata.\n",
      "2024-07-15 11:25:05,255:WARNING:matchms:add_retention:None can't be converted to float.\n",
      "2024-07-15 11:25:05,255:WARNING:matchms:add_retention:None can't be converted to float.\n",
      "2024-07-15 11:25:05,256:WARNING:matchms:add_precursor_mz:No precursor_mz found in metadata.\n",
      "2024-07-15 11:25:05,256:WARNING:matchms:add_retention:None can't be converted to float.\n",
      "2024-07-15 11:25:05,257:WARNING:matchms:add_retention:None can't be converted to float.\n",
      "2024-07-15 11:25:05,258:WARNING:matchms:add_precursor_mz:No precursor_mz found in metadata.\n",
      "2024-07-15 11:25:05,258:WARNING:matchms:add_retention:None can't be converted to float.\n",
      "2024-07-15 11:25:05,259:WARNING:matchms:add_retention:None can't be converted to float.\n",
      "2024-07-15 11:25:05,259:WARNING:matchms:add_precursor_mz:No precursor_mz found in metadata.\n",
      "2024-07-15 11:25:05,260:WARNING:matchms:add_retention:None can't be converted to float.\n",
      "2024-07-15 11:25:05,260:WARNING:matchms:add_retention:None can't be converted to float.\n",
      "2024-07-15 11:25:05,261:WARNING:matchms:add_precursor_mz:No precursor_mz found in metadata.\n",
      "2024-07-15 11:25:05,261:WARNING:matchms:add_retention:None can't be converted to float.\n",
      "2024-07-15 11:25:05,262:WARNING:matchms:add_retention:None can't be converted to float.\n",
      "2024-07-15 11:25:05,264:WARNING:matchms:add_precursor_mz:No precursor_mz found in metadata.\n",
      "2024-07-15 11:25:05,264:WARNING:matchms:add_retention:None can't be converted to float.\n",
      "2024-07-15 11:25:05,265:WARNING:matchms:add_retention:None can't be converted to float.\n",
      "2024-07-15 11:25:05,266:WARNING:matchms:add_precursor_mz:No precursor_mz found in metadata.\n",
      "2024-07-15 11:25:05,266:WARNING:matchms:add_retention:None can't be converted to float.\n",
      "2024-07-15 11:25:05,267:WARNING:matchms:add_retention:None can't be converted to float.\n",
      "2024-07-15 11:25:05,268:WARNING:matchms:add_precursor_mz:No precursor_mz found in metadata.\n",
      "2024-07-15 11:25:05,269:WARNING:matchms:add_retention:None can't be converted to float.\n",
      "2024-07-15 11:25:05,269:WARNING:matchms:add_retention:None can't be converted to float.\n",
      "2024-07-15 11:25:05,271:WARNING:matchms:add_precursor_mz:No precursor_mz found in metadata.\n",
      "2024-07-15 11:25:05,271:WARNING:matchms:add_retention:None can't be converted to float.\n",
      "2024-07-15 11:25:05,271:WARNING:matchms:add_retention:None can't be converted to float.\n",
      "2024-07-15 11:25:05,273:WARNING:matchms:add_precursor_mz:No precursor_mz found in metadata.\n",
      "2024-07-15 11:25:05,273:WARNING:matchms:add_retention:None can't be converted to float.\n",
      "2024-07-15 11:25:05,274:WARNING:matchms:add_retention:None can't be converted to float.\n",
      "2024-07-15 11:25:05,275:WARNING:matchms:add_precursor_mz:No precursor_mz found in metadata.\n",
      "2024-07-15 11:25:05,275:WARNING:matchms:add_retention:None can't be converted to float.\n",
      "2024-07-15 11:25:05,276:WARNING:matchms:add_retention:None can't be converted to float.\n",
      "2024-07-15 11:25:05,277:WARNING:matchms:add_precursor_mz:No precursor_mz found in metadata.\n",
      "2024-07-15 11:25:05,278:WARNING:matchms:add_retention:None can't be converted to float.\n",
      "2024-07-15 11:25:05,278:WARNING:matchms:add_retention:None can't be converted to float.\n",
      "2024-07-15 11:25:05,279:WARNING:matchms:add_precursor_mz:No precursor_mz found in metadata.\n",
      "2024-07-15 11:25:05,280:WARNING:matchms:add_retention:None can't be converted to float.\n",
      "2024-07-15 11:25:05,280:WARNING:matchms:add_retention:None can't be converted to float.\n",
      "2024-07-15 11:25:05,281:WARNING:matchms:add_precursor_mz:No precursor_mz found in metadata.\n",
      "2024-07-15 11:25:05,281:WARNING:matchms:add_retention:None can't be converted to float.\n",
      "2024-07-15 11:25:05,282:WARNING:matchms:add_retention:None can't be converted to float.\n",
      "2024-07-15 11:25:05,284:WARNING:matchms:add_precursor_mz:No precursor_mz found in metadata.\n",
      "2024-07-15 11:25:05,285:WARNING:matchms:add_retention:None can't be converted to float.\n",
      "2024-07-15 11:25:05,285:WARNING:matchms:add_retention:None can't be converted to float.\n",
      "2024-07-15 11:25:05,286:WARNING:matchms:add_precursor_mz:No precursor_mz found in metadata.\n",
      "2024-07-15 11:25:05,287:WARNING:matchms:add_retention:None can't be converted to float.\n",
      "2024-07-15 11:25:05,287:WARNING:matchms:add_retention:None can't be converted to float.\n",
      "2024-07-15 11:25:05,289:WARNING:matchms:add_precursor_mz:No precursor_mz found in metadata.\n",
      "2024-07-15 11:25:05,289:WARNING:matchms:add_retention:None can't be converted to float.\n",
      "2024-07-15 11:25:05,289:WARNING:matchms:add_retention:None can't be converted to float.\n",
      "2024-07-15 11:25:05,292:WARNING:matchms:add_precursor_mz:No precursor_mz found in metadata.\n",
      "2024-07-15 11:25:05,292:WARNING:matchms:add_retention:None can't be converted to float.\n",
      "2024-07-15 11:25:05,292:WARNING:matchms:add_retention:None can't be converted to float.\n",
      "2024-07-15 11:25:05,294:WARNING:matchms:add_precursor_mz:No precursor_mz found in metadata.\n",
      "2024-07-15 11:25:05,295:WARNING:matchms:add_retention:None can't be converted to float.\n",
      "2024-07-15 11:25:05,295:WARNING:matchms:add_retention:None can't be converted to float.\n",
      "2024-07-15 11:25:05,297:WARNING:matchms:add_precursor_mz:No precursor_mz found in metadata.\n",
      "2024-07-15 11:25:05,297:WARNING:matchms:add_retention:None can't be converted to float.\n",
      "2024-07-15 11:25:05,297:WARNING:matchms:add_retention:None can't be converted to float.\n",
      "2024-07-15 11:25:05,298:WARNING:matchms:add_precursor_mz:No precursor_mz found in metadata.\n",
      "2024-07-15 11:25:05,298:WARNING:matchms:add_retention:None can't be converted to float.\n",
      "2024-07-15 11:25:05,298:WARNING:matchms:add_retention:None can't be converted to float.\n",
      "2024-07-15 11:25:05,300:WARNING:matchms:add_precursor_mz:No precursor_mz found in metadata.\n",
      "2024-07-15 11:25:05,300:WARNING:matchms:add_retention:None can't be converted to float.\n",
      "2024-07-15 11:25:05,300:WARNING:matchms:add_retention:None can't be converted to float.\n",
      "2024-07-15 11:25:05,301:WARNING:matchms:add_precursor_mz:No precursor_mz found in metadata.\n",
      "2024-07-15 11:25:05,302:WARNING:matchms:add_retention:None can't be converted to float.\n",
      "2024-07-15 11:25:05,302:WARNING:matchms:add_retention:None can't be converted to float.\n",
      "2024-07-15 11:25:05,302:WARNING:matchms:add_precursor_mz:No precursor_mz found in metadata.\n",
      "2024-07-15 11:25:05,303:WARNING:matchms:add_retention:None can't be converted to float.\n",
      "2024-07-15 11:25:05,303:WARNING:matchms:add_retention:None can't be converted to float.\n",
      "2024-07-15 11:25:05,303:WARNING:matchms:add_precursor_mz:No precursor_mz found in metadata.\n",
      "2024-07-15 11:25:05,304:WARNING:matchms:add_retention:None can't be converted to float.\n",
      "2024-07-15 11:25:05,304:WARNING:matchms:add_retention:None can't be converted to float.\n",
      "2024-07-15 11:25:05,305:WARNING:matchms:add_precursor_mz:No precursor_mz found in metadata.\n",
      "2024-07-15 11:25:05,306:WARNING:matchms:add_retention:None can't be converted to float.\n",
      "2024-07-15 11:25:05,306:WARNING:matchms:add_retention:None can't be converted to float.\n",
      "2024-07-15 11:25:05,307:WARNING:matchms:add_precursor_mz:No precursor_mz found in metadata.\n",
      "2024-07-15 11:25:05,307:WARNING:matchms:add_retention:None can't be converted to float.\n",
      "2024-07-15 11:25:05,308:WARNING:matchms:add_retention:None can't be converted to float.\n",
      "2024-07-15 11:25:05,308:WARNING:matchms:add_precursor_mz:No precursor_mz found in metadata.\n",
      "2024-07-15 11:25:05,308:WARNING:matchms:add_retention:None can't be converted to float.\n",
      "2024-07-15 11:25:05,309:WARNING:matchms:add_retention:None can't be converted to float.\n",
      "2024-07-15 11:25:05,309:WARNING:matchms:add_precursor_mz:No precursor_mz found in metadata.\n",
      "2024-07-15 11:25:05,310:WARNING:matchms:add_retention:None can't be converted to float.\n",
      "2024-07-15 11:25:05,310:WARNING:matchms:add_retention:None can't be converted to float.\n",
      "2024-07-15 11:25:05,311:WARNING:matchms:add_precursor_mz:No precursor_mz found in metadata.\n",
      "2024-07-15 11:25:05,311:WARNING:matchms:add_retention:None can't be converted to float.\n",
      "2024-07-15 11:25:05,311:WARNING:matchms:add_retention:None can't be converted to float.\n",
      "2024-07-15 11:25:05,312:WARNING:matchms:add_precursor_mz:No precursor_mz found in metadata.\n",
      "2024-07-15 11:25:05,312:WARNING:matchms:add_retention:None can't be converted to float.\n",
      "2024-07-15 11:25:05,313:WARNING:matchms:add_retention:None can't be converted to float.\n",
      "2024-07-15 11:25:05,313:WARNING:matchms:add_precursor_mz:No precursor_mz found in metadata.\n",
      "2024-07-15 11:25:05,314:WARNING:matchms:add_retention:None can't be converted to float.\n",
      "2024-07-15 11:25:05,314:WARNING:matchms:add_retention:None can't be converted to float.\n",
      "2024-07-15 11:25:05,315:WARNING:matchms:add_precursor_mz:No precursor_mz found in metadata.\n",
      "2024-07-15 11:25:05,315:WARNING:matchms:add_retention:None can't be converted to float.\n",
      "2024-07-15 11:25:05,316:WARNING:matchms:add_retention:None can't be converted to float.\n",
      "2024-07-15 11:25:05,317:WARNING:matchms:add_precursor_mz:No precursor_mz found in metadata.\n",
      "2024-07-15 11:25:05,317:WARNING:matchms:add_retention:None can't be converted to float.\n",
      "2024-07-15 11:25:05,317:WARNING:matchms:add_retention:None can't be converted to float.\n",
      "2024-07-15 11:25:05,322:WARNING:matchms:add_precursor_mz:No precursor_mz found in metadata.\n",
      "2024-07-15 11:25:05,323:WARNING:matchms:add_retention:None can't be converted to float.\n",
      "2024-07-15 11:25:05,323:WARNING:matchms:add_retention:None can't be converted to float.\n",
      "2024-07-15 11:25:05,327:WARNING:matchms:add_precursor_mz:No precursor_mz found in metadata.\n",
      "2024-07-15 11:25:05,328:WARNING:matchms:add_retention:None can't be converted to float.\n",
      "2024-07-15 11:25:05,328:WARNING:matchms:add_retention:None can't be converted to float.\n",
      "2024-07-15 11:25:05,331:WARNING:matchms:add_precursor_mz:No precursor_mz found in metadata.\n",
      "2024-07-15 11:25:05,332:WARNING:matchms:add_retention:None can't be converted to float.\n",
      "2024-07-15 11:25:05,332:WARNING:matchms:add_retention:None can't be converted to float.\n",
      "2024-07-15 11:25:05,335:WARNING:matchms:add_precursor_mz:No precursor_mz found in metadata.\n",
      "2024-07-15 11:25:05,335:WARNING:matchms:add_retention:None can't be converted to float.\n",
      "2024-07-15 11:25:05,335:WARNING:matchms:add_retention:None can't be converted to float.\n",
      "2024-07-15 11:25:05,345:WARNING:matchms:add_precursor_mz:No precursor_mz found in metadata.\n",
      "2024-07-15 11:25:05,345:WARNING:matchms:add_retention:None can't be converted to float.\n",
      "2024-07-15 11:25:05,346:WARNING:matchms:add_retention:None can't be converted to float.\n",
      "2024-07-15 11:25:05,349:WARNING:matchms:add_precursor_mz:No precursor_mz found in metadata.\n",
      "2024-07-15 11:25:05,350:WARNING:matchms:add_retention:None can't be converted to float.\n",
      "2024-07-15 11:25:05,350:WARNING:matchms:add_retention:None can't be converted to float.\n"
     ]
    }
   ],
   "source": [
    "query_spectra = list(load_from_msp(\"../data/filtered/simulated_matchms_filter_1%I_all_peaks.msp\"))\n",
    "query_lookup = { x.get(\"compound_name\"): x for x in query_spectra }"
   ]
  },
  {
   "cell_type": "code",
   "execution_count": 14,
   "metadata": {},
   "outputs": [],
   "source": [
    "reference_spectra = list(load_from_msp(\"../data/experimental/RECETOX_GC-EI_MS_20201028.msp\"))\n",
    "reference_lookup = { x.get(\"compound_name\"): x for x in reference_spectra }"
   ]
  },
  {
   "cell_type": "code",
   "execution_count": 16,
   "metadata": {},
   "outputs": [
    {
     "name": "stderr",
     "output_type": "stream",
     "text": [
      "/tmp/ipykernel_27250/3197618941.py:12: RuntimeWarning: More than 20 figures have been opened. Figures created through the pyplot interface (`matplotlib.pyplot.figure`) are retained until explicitly closed and may consume too much memory. (To control this warning, see the rcParam `figure.max_open_warning`). Consider using `matplotlib.pyplot.close()`.\n",
      "  fig, ax = plt.subplots(figsize=(4, 3))\n"
     ]
    },
    {
     "data": {
      "text/plain": [
       "<Figure size 400x300 with 0 Axes>"
      ]
     },
     "metadata": {},
     "output_type": "display_data"
    },
    {
     "data": {
      "text/plain": [
       "<Figure size 400x300 with 0 Axes>"
      ]
     },
     "metadata": {},
     "output_type": "display_data"
    },
    {
     "data": {
      "text/plain": [
       "<Figure size 400x300 with 0 Axes>"
      ]
     },
     "metadata": {},
     "output_type": "display_data"
    },
    {
     "data": {
      "text/plain": [
       "<Figure size 400x300 with 0 Axes>"
      ]
     },
     "metadata": {},
     "output_type": "display_data"
    },
    {
     "data": {
      "text/plain": [
       "<Figure size 400x300 with 0 Axes>"
      ]
     },
     "metadata": {},
     "output_type": "display_data"
    },
    {
     "data": {
      "text/plain": [
       "<Figure size 400x300 with 0 Axes>"
      ]
     },
     "metadata": {},
     "output_type": "display_data"
    },
    {
     "data": {
      "text/plain": [
       "<Figure size 400x300 with 0 Axes>"
      ]
     },
     "metadata": {},
     "output_type": "display_data"
    },
    {
     "data": {
      "text/plain": [
       "<Figure size 400x300 with 0 Axes>"
      ]
     },
     "metadata": {},
     "output_type": "display_data"
    },
    {
     "data": {
      "text/plain": [
       "<Figure size 400x300 with 0 Axes>"
      ]
     },
     "metadata": {},
     "output_type": "display_data"
    },
    {
     "data": {
      "text/plain": [
       "<Figure size 400x300 with 0 Axes>"
      ]
     },
     "metadata": {},
     "output_type": "display_data"
    },
    {
     "data": {
      "text/plain": [
       "<Figure size 400x300 with 0 Axes>"
      ]
     },
     "metadata": {},
     "output_type": "display_data"
    },
    {
     "data": {
      "text/plain": [
       "<Figure size 400x300 with 0 Axes>"
      ]
     },
     "metadata": {},
     "output_type": "display_data"
    },
    {
     "data": {
      "text/plain": [
       "<Figure size 400x300 with 0 Axes>"
      ]
     },
     "metadata": {},
     "output_type": "display_data"
    },
    {
     "data": {
      "text/plain": [
       "<Figure size 400x300 with 0 Axes>"
      ]
     },
     "metadata": {},
     "output_type": "display_data"
    },
    {
     "data": {
      "text/plain": [
       "<Figure size 400x300 with 0 Axes>"
      ]
     },
     "metadata": {},
     "output_type": "display_data"
    },
    {
     "data": {
      "text/plain": [
       "<Figure size 400x300 with 0 Axes>"
      ]
     },
     "metadata": {},
     "output_type": "display_data"
    },
    {
     "data": {
      "text/plain": [
       "<Figure size 400x300 with 0 Axes>"
      ]
     },
     "metadata": {},
     "output_type": "display_data"
    },
    {
     "data": {
      "text/plain": [
       "<Figure size 400x300 with 0 Axes>"
      ]
     },
     "metadata": {},
     "output_type": "display_data"
    },
    {
     "data": {
      "text/plain": [
       "<Figure size 400x300 with 0 Axes>"
      ]
     },
     "metadata": {},
     "output_type": "display_data"
    },
    {
     "data": {
      "text/plain": [
       "<Figure size 400x300 with 0 Axes>"
      ]
     },
     "metadata": {},
     "output_type": "display_data"
    },
    {
     "data": {
      "text/plain": [
       "<Figure size 400x300 with 0 Axes>"
      ]
     },
     "metadata": {},
     "output_type": "display_data"
    },
    {
     "data": {
      "text/plain": [
       "<Figure size 400x300 with 0 Axes>"
      ]
     },
     "metadata": {},
     "output_type": "display_data"
    },
    {
     "data": {
      "text/plain": [
       "<Figure size 400x300 with 0 Axes>"
      ]
     },
     "metadata": {},
     "output_type": "display_data"
    },
    {
     "data": {
      "text/plain": [
       "<Figure size 400x300 with 0 Axes>"
      ]
     },
     "metadata": {},
     "output_type": "display_data"
    },
    {
     "data": {
      "text/plain": [
       "<Figure size 400x300 with 0 Axes>"
      ]
     },
     "metadata": {},
     "output_type": "display_data"
    },
    {
     "data": {
      "text/plain": [
       "<Figure size 400x300 with 0 Axes>"
      ]
     },
     "metadata": {},
     "output_type": "display_data"
    },
    {
     "data": {
      "text/plain": [
       "<Figure size 400x300 with 0 Axes>"
      ]
     },
     "metadata": {},
     "output_type": "display_data"
    },
    {
     "data": {
      "text/plain": [
       "<Figure size 400x300 with 0 Axes>"
      ]
     },
     "metadata": {},
     "output_type": "display_data"
    },
    {
     "data": {
      "text/plain": [
       "<Figure size 400x300 with 0 Axes>"
      ]
     },
     "metadata": {},
     "output_type": "display_data"
    },
    {
     "data": {
      "text/plain": [
       "<Figure size 400x300 with 0 Axes>"
      ]
     },
     "metadata": {},
     "output_type": "display_data"
    },
    {
     "data": {
      "text/plain": [
       "<Figure size 400x300 with 0 Axes>"
      ]
     },
     "metadata": {},
     "output_type": "display_data"
    },
    {
     "data": {
      "text/plain": [
       "<Figure size 400x300 with 0 Axes>"
      ]
     },
     "metadata": {},
     "output_type": "display_data"
    },
    {
     "data": {
      "text/plain": [
       "<Figure size 400x300 with 0 Axes>"
      ]
     },
     "metadata": {},
     "output_type": "display_data"
    },
    {
     "data": {
      "text/plain": [
       "<Figure size 400x300 with 0 Axes>"
      ]
     },
     "metadata": {},
     "output_type": "display_data"
    },
    {
     "data": {
      "text/plain": [
       "<Figure size 400x300 with 0 Axes>"
      ]
     },
     "metadata": {},
     "output_type": "display_data"
    },
    {
     "data": {
      "text/plain": [
       "<Figure size 400x300 with 0 Axes>"
      ]
     },
     "metadata": {},
     "output_type": "display_data"
    },
    {
     "data": {
      "text/plain": [
       "<Figure size 400x300 with 0 Axes>"
      ]
     },
     "metadata": {},
     "output_type": "display_data"
    },
    {
     "data": {
      "text/plain": [
       "<Figure size 400x300 with 0 Axes>"
      ]
     },
     "metadata": {},
     "output_type": "display_data"
    },
    {
     "data": {
      "text/plain": [
       "<Figure size 400x300 with 0 Axes>"
      ]
     },
     "metadata": {},
     "output_type": "display_data"
    },
    {
     "data": {
      "text/plain": [
       "<Figure size 400x300 with 0 Axes>"
      ]
     },
     "metadata": {},
     "output_type": "display_data"
    },
    {
     "data": {
      "text/plain": [
       "<Figure size 400x300 with 0 Axes>"
      ]
     },
     "metadata": {},
     "output_type": "display_data"
    },
    {
     "data": {
      "text/plain": [
       "<Figure size 400x300 with 0 Axes>"
      ]
     },
     "metadata": {},
     "output_type": "display_data"
    },
    {
     "data": {
      "text/plain": [
       "<Figure size 400x300 with 0 Axes>"
      ]
     },
     "metadata": {},
     "output_type": "display_data"
    },
    {
     "data": {
      "text/plain": [
       "<Figure size 400x300 with 0 Axes>"
      ]
     },
     "metadata": {},
     "output_type": "display_data"
    },
    {
     "data": {
      "text/plain": [
       "<Figure size 400x300 with 0 Axes>"
      ]
     },
     "metadata": {},
     "output_type": "display_data"
    },
    {
     "data": {
      "text/plain": [
       "<Figure size 400x300 with 0 Axes>"
      ]
     },
     "metadata": {},
     "output_type": "display_data"
    },
    {
     "data": {
      "text/plain": [
       "<Figure size 400x300 with 0 Axes>"
      ]
     },
     "metadata": {},
     "output_type": "display_data"
    },
    {
     "data": {
      "text/plain": [
       "<Figure size 400x300 with 0 Axes>"
      ]
     },
     "metadata": {},
     "output_type": "display_data"
    },
    {
     "data": {
      "text/plain": [
       "<Figure size 400x300 with 0 Axes>"
      ]
     },
     "metadata": {},
     "output_type": "display_data"
    },
    {
     "data": {
      "text/plain": [
       "<Figure size 400x300 with 0 Axes>"
      ]
     },
     "metadata": {},
     "output_type": "display_data"
    },
    {
     "data": {
      "text/plain": [
       "<Figure size 400x300 with 0 Axes>"
      ]
     },
     "metadata": {},
     "output_type": "display_data"
    },
    {
     "data": {
      "text/plain": [
       "<Figure size 400x300 with 0 Axes>"
      ]
     },
     "metadata": {},
     "output_type": "display_data"
    },
    {
     "data": {
      "text/plain": [
       "<Figure size 400x300 with 0 Axes>"
      ]
     },
     "metadata": {},
     "output_type": "display_data"
    },
    {
     "data": {
      "text/plain": [
       "<Figure size 400x300 with 0 Axes>"
      ]
     },
     "metadata": {},
     "output_type": "display_data"
    },
    {
     "data": {
      "text/plain": [
       "<Figure size 400x300 with 0 Axes>"
      ]
     },
     "metadata": {},
     "output_type": "display_data"
    },
    {
     "data": {
      "text/plain": [
       "<Figure size 400x300 with 0 Axes>"
      ]
     },
     "metadata": {},
     "output_type": "display_data"
    },
    {
     "data": {
      "text/plain": [
       "<Figure size 400x300 with 0 Axes>"
      ]
     },
     "metadata": {},
     "output_type": "display_data"
    },
    {
     "data": {
      "text/plain": [
       "<Figure size 400x300 with 0 Axes>"
      ]
     },
     "metadata": {},
     "output_type": "display_data"
    },
    {
     "data": {
      "text/plain": [
       "<Figure size 400x300 with 0 Axes>"
      ]
     },
     "metadata": {},
     "output_type": "display_data"
    },
    {
     "data": {
      "text/plain": [
       "<Figure size 400x300 with 0 Axes>"
      ]
     },
     "metadata": {},
     "output_type": "display_data"
    },
    {
     "data": {
      "text/plain": [
       "<Figure size 400x300 with 0 Axes>"
      ]
     },
     "metadata": {},
     "output_type": "display_data"
    },
    {
     "data": {
      "text/plain": [
       "<Figure size 400x300 with 0 Axes>"
      ]
     },
     "metadata": {},
     "output_type": "display_data"
    },
    {
     "data": {
      "text/plain": [
       "<Figure size 400x300 with 0 Axes>"
      ]
     },
     "metadata": {},
     "output_type": "display_data"
    },
    {
     "data": {
      "text/plain": [
       "<Figure size 400x300 with 0 Axes>"
      ]
     },
     "metadata": {},
     "output_type": "display_data"
    },
    {
     "data": {
      "text/plain": [
       "<Figure size 400x300 with 0 Axes>"
      ]
     },
     "metadata": {},
     "output_type": "display_data"
    },
    {
     "data": {
      "text/plain": [
       "<Figure size 400x300 with 0 Axes>"
      ]
     },
     "metadata": {},
     "output_type": "display_data"
    },
    {
     "data": {
      "text/plain": [
       "<Figure size 400x300 with 0 Axes>"
      ]
     },
     "metadata": {},
     "output_type": "display_data"
    },
    {
     "data": {
      "text/plain": [
       "<Figure size 400x300 with 0 Axes>"
      ]
     },
     "metadata": {},
     "output_type": "display_data"
    },
    {
     "data": {
      "text/plain": [
       "<Figure size 400x300 with 0 Axes>"
      ]
     },
     "metadata": {},
     "output_type": "display_data"
    },
    {
     "data": {
      "text/plain": [
       "<Figure size 400x300 with 0 Axes>"
      ]
     },
     "metadata": {},
     "output_type": "display_data"
    },
    {
     "data": {
      "text/plain": [
       "<Figure size 400x300 with 0 Axes>"
      ]
     },
     "metadata": {},
     "output_type": "display_data"
    },
    {
     "data": {
      "text/plain": [
       "<Figure size 400x300 with 0 Axes>"
      ]
     },
     "metadata": {},
     "output_type": "display_data"
    },
    {
     "data": {
      "text/plain": [
       "<Figure size 400x300 with 0 Axes>"
      ]
     },
     "metadata": {},
     "output_type": "display_data"
    },
    {
     "data": {
      "text/plain": [
       "<Figure size 400x300 with 0 Axes>"
      ]
     },
     "metadata": {},
     "output_type": "display_data"
    },
    {
     "data": {
      "text/plain": [
       "<Figure size 400x300 with 0 Axes>"
      ]
     },
     "metadata": {},
     "output_type": "display_data"
    },
    {
     "data": {
      "text/plain": [
       "<Figure size 400x300 with 0 Axes>"
      ]
     },
     "metadata": {},
     "output_type": "display_data"
    },
    {
     "data": {
      "text/plain": [
       "<Figure size 400x300 with 0 Axes>"
      ]
     },
     "metadata": {},
     "output_type": "display_data"
    },
    {
     "data": {
      "text/plain": [
       "<Figure size 400x300 with 0 Axes>"
      ]
     },
     "metadata": {},
     "output_type": "display_data"
    },
    {
     "data": {
      "text/plain": [
       "<Figure size 400x300 with 0 Axes>"
      ]
     },
     "metadata": {},
     "output_type": "display_data"
    },
    {
     "data": {
      "text/plain": [
       "<Figure size 400x300 with 0 Axes>"
      ]
     },
     "metadata": {},
     "output_type": "display_data"
    },
    {
     "data": {
      "text/plain": [
       "<Figure size 400x300 with 0 Axes>"
      ]
     },
     "metadata": {},
     "output_type": "display_data"
    },
    {
     "data": {
      "text/plain": [
       "<Figure size 400x300 with 0 Axes>"
      ]
     },
     "metadata": {},
     "output_type": "display_data"
    },
    {
     "data": {
      "text/plain": [
       "<Figure size 400x300 with 0 Axes>"
      ]
     },
     "metadata": {},
     "output_type": "display_data"
    },
    {
     "data": {
      "text/plain": [
       "<Figure size 400x300 with 0 Axes>"
      ]
     },
     "metadata": {},
     "output_type": "display_data"
    },
    {
     "data": {
      "text/plain": [
       "<Figure size 400x300 with 0 Axes>"
      ]
     },
     "metadata": {},
     "output_type": "display_data"
    },
    {
     "data": {
      "text/plain": [
       "<Figure size 400x300 with 0 Axes>"
      ]
     },
     "metadata": {},
     "output_type": "display_data"
    },
    {
     "data": {
      "text/plain": [
       "<Figure size 400x300 with 0 Axes>"
      ]
     },
     "metadata": {},
     "output_type": "display_data"
    },
    {
     "data": {
      "text/plain": [
       "<Figure size 400x300 with 0 Axes>"
      ]
     },
     "metadata": {},
     "output_type": "display_data"
    },
    {
     "data": {
      "text/plain": [
       "<Figure size 400x300 with 0 Axes>"
      ]
     },
     "metadata": {},
     "output_type": "display_data"
    },
    {
     "data": {
      "text/plain": [
       "<Figure size 400x300 with 0 Axes>"
      ]
     },
     "metadata": {},
     "output_type": "display_data"
    },
    {
     "data": {
      "text/plain": [
       "<Figure size 400x300 with 0 Axes>"
      ]
     },
     "metadata": {},
     "output_type": "display_data"
    },
    {
     "data": {
      "text/plain": [
       "<Figure size 400x300 with 0 Axes>"
      ]
     },
     "metadata": {},
     "output_type": "display_data"
    },
    {
     "data": {
      "text/plain": [
       "<Figure size 400x300 with 0 Axes>"
      ]
     },
     "metadata": {},
     "output_type": "display_data"
    },
    {
     "data": {
      "text/plain": [
       "<Figure size 400x300 with 0 Axes>"
      ]
     },
     "metadata": {},
     "output_type": "display_data"
    },
    {
     "data": {
      "text/plain": [
       "<Figure size 400x300 with 0 Axes>"
      ]
     },
     "metadata": {},
     "output_type": "display_data"
    },
    {
     "data": {
      "text/plain": [
       "<Figure size 400x300 with 0 Axes>"
      ]
     },
     "metadata": {},
     "output_type": "display_data"
    },
    {
     "data": {
      "text/plain": [
       "<Figure size 400x300 with 0 Axes>"
      ]
     },
     "metadata": {},
     "output_type": "display_data"
    },
    {
     "data": {
      "text/plain": [
       "<Figure size 400x300 with 0 Axes>"
      ]
     },
     "metadata": {},
     "output_type": "display_data"
    },
    {
     "data": {
      "text/plain": [
       "<Figure size 400x300 with 0 Axes>"
      ]
     },
     "metadata": {},
     "output_type": "display_data"
    },
    {
     "data": {
      "text/plain": [
       "<Figure size 400x300 with 0 Axes>"
      ]
     },
     "metadata": {},
     "output_type": "display_data"
    },
    {
     "data": {
      "text/plain": [
       "<Figure size 400x300 with 0 Axes>"
      ]
     },
     "metadata": {},
     "output_type": "display_data"
    },
    {
     "data": {
      "text/plain": [
       "<Figure size 400x300 with 0 Axes>"
      ]
     },
     "metadata": {},
     "output_type": "display_data"
    },
    {
     "data": {
      "text/plain": [
       "<Figure size 400x300 with 0 Axes>"
      ]
     },
     "metadata": {},
     "output_type": "display_data"
    },
    {
     "data": {
      "text/plain": [
       "<Figure size 400x300 with 0 Axes>"
      ]
     },
     "metadata": {},
     "output_type": "display_data"
    },
    {
     "data": {
      "text/plain": [
       "<Figure size 400x300 with 0 Axes>"
      ]
     },
     "metadata": {},
     "output_type": "display_data"
    },
    {
     "data": {
      "text/plain": [
       "<Figure size 400x300 with 0 Axes>"
      ]
     },
     "metadata": {},
     "output_type": "display_data"
    },
    {
     "data": {
      "text/plain": [
       "<Figure size 400x300 with 0 Axes>"
      ]
     },
     "metadata": {},
     "output_type": "display_data"
    },
    {
     "data": {
      "text/plain": [
       "<Figure size 400x300 with 0 Axes>"
      ]
     },
     "metadata": {},
     "output_type": "display_data"
    },
    {
     "data": {
      "text/plain": [
       "<Figure size 400x300 with 0 Axes>"
      ]
     },
     "metadata": {},
     "output_type": "display_data"
    },
    {
     "data": {
      "text/plain": [
       "<Figure size 400x300 with 0 Axes>"
      ]
     },
     "metadata": {},
     "output_type": "display_data"
    },
    {
     "data": {
      "text/plain": [
       "<Figure size 400x300 with 0 Axes>"
      ]
     },
     "metadata": {},
     "output_type": "display_data"
    },
    {
     "data": {
      "text/plain": [
       "<Figure size 400x300 with 0 Axes>"
      ]
     },
     "metadata": {},
     "output_type": "display_data"
    },
    {
     "data": {
      "text/plain": [
       "<Figure size 400x300 with 0 Axes>"
      ]
     },
     "metadata": {},
     "output_type": "display_data"
    },
    {
     "data": {
      "text/plain": [
       "<Figure size 400x300 with 0 Axes>"
      ]
     },
     "metadata": {},
     "output_type": "display_data"
    },
    {
     "data": {
      "text/plain": [
       "<Figure size 400x300 with 0 Axes>"
      ]
     },
     "metadata": {},
     "output_type": "display_data"
    },
    {
     "data": {
      "text/plain": [
       "<Figure size 400x300 with 0 Axes>"
      ]
     },
     "metadata": {},
     "output_type": "display_data"
    },
    {
     "data": {
      "text/plain": [
       "<Figure size 400x300 with 0 Axes>"
      ]
     },
     "metadata": {},
     "output_type": "display_data"
    },
    {
     "data": {
      "text/plain": [
       "<Figure size 400x300 with 0 Axes>"
      ]
     },
     "metadata": {},
     "output_type": "display_data"
    },
    {
     "data": {
      "text/plain": [
       "<Figure size 400x300 with 0 Axes>"
      ]
     },
     "metadata": {},
     "output_type": "display_data"
    },
    {
     "data": {
      "text/plain": [
       "<Figure size 400x300 with 0 Axes>"
      ]
     },
     "metadata": {},
     "output_type": "display_data"
    },
    {
     "data": {
      "text/plain": [
       "<Figure size 400x300 with 0 Axes>"
      ]
     },
     "metadata": {},
     "output_type": "display_data"
    },
    {
     "data": {
      "text/plain": [
       "<Figure size 400x300 with 0 Axes>"
      ]
     },
     "metadata": {},
     "output_type": "display_data"
    },
    {
     "data": {
      "text/plain": [
       "<Figure size 400x300 with 0 Axes>"
      ]
     },
     "metadata": {},
     "output_type": "display_data"
    },
    {
     "data": {
      "text/plain": [
       "<Figure size 400x300 with 0 Axes>"
      ]
     },
     "metadata": {},
     "output_type": "display_data"
    },
    {
     "data": {
      "text/plain": [
       "<Figure size 400x300 with 0 Axes>"
      ]
     },
     "metadata": {},
     "output_type": "display_data"
    },
    {
     "data": {
      "text/plain": [
       "<Figure size 400x300 with 0 Axes>"
      ]
     },
     "metadata": {},
     "output_type": "display_data"
    },
    {
     "data": {
      "text/plain": [
       "<Figure size 400x300 with 0 Axes>"
      ]
     },
     "metadata": {},
     "output_type": "display_data"
    },
    {
     "data": {
      "text/plain": [
       "<Figure size 400x300 with 0 Axes>"
      ]
     },
     "metadata": {},
     "output_type": "display_data"
    },
    {
     "data": {
      "text/plain": [
       "<Figure size 400x300 with 0 Axes>"
      ]
     },
     "metadata": {},
     "output_type": "display_data"
    },
    {
     "data": {
      "text/plain": [
       "<Figure size 400x300 with 0 Axes>"
      ]
     },
     "metadata": {},
     "output_type": "display_data"
    },
    {
     "data": {
      "text/plain": [
       "<Figure size 400x300 with 0 Axes>"
      ]
     },
     "metadata": {},
     "output_type": "display_data"
    },
    {
     "data": {
      "text/plain": [
       "<Figure size 400x300 with 0 Axes>"
      ]
     },
     "metadata": {},
     "output_type": "display_data"
    },
    {
     "data": {
      "text/plain": [
       "<Figure size 400x300 with 0 Axes>"
      ]
     },
     "metadata": {},
     "output_type": "display_data"
    },
    {
     "data": {
      "text/plain": [
       "<Figure size 400x300 with 0 Axes>"
      ]
     },
     "metadata": {},
     "output_type": "display_data"
    },
    {
     "data": {
      "text/plain": [
       "<Figure size 400x300 with 0 Axes>"
      ]
     },
     "metadata": {},
     "output_type": "display_data"
    },
    {
     "data": {
      "text/plain": [
       "<Figure size 400x300 with 0 Axes>"
      ]
     },
     "metadata": {},
     "output_type": "display_data"
    },
    {
     "data": {
      "text/plain": [
       "<Figure size 400x300 with 0 Axes>"
      ]
     },
     "metadata": {},
     "output_type": "display_data"
    },
    {
     "data": {
      "text/plain": [
       "<Figure size 400x300 with 0 Axes>"
      ]
     },
     "metadata": {},
     "output_type": "display_data"
    },
    {
     "data": {
      "text/plain": [
       "<Figure size 400x300 with 0 Axes>"
      ]
     },
     "metadata": {},
     "output_type": "display_data"
    },
    {
     "data": {
      "text/plain": [
       "<Figure size 400x300 with 0 Axes>"
      ]
     },
     "metadata": {},
     "output_type": "display_data"
    },
    {
     "data": {
      "text/plain": [
       "<Figure size 400x300 with 0 Axes>"
      ]
     },
     "metadata": {},
     "output_type": "display_data"
    },
    {
     "data": {
      "text/plain": [
       "<Figure size 400x300 with 0 Axes>"
      ]
     },
     "metadata": {},
     "output_type": "display_data"
    },
    {
     "data": {
      "text/plain": [
       "<Figure size 400x300 with 0 Axes>"
      ]
     },
     "metadata": {},
     "output_type": "display_data"
    },
    {
     "data": {
      "text/plain": [
       "<Figure size 400x300 with 0 Axes>"
      ]
     },
     "metadata": {},
     "output_type": "display_data"
    },
    {
     "data": {
      "text/plain": [
       "<Figure size 400x300 with 0 Axes>"
      ]
     },
     "metadata": {},
     "output_type": "display_data"
    },
    {
     "data": {
      "text/plain": [
       "<Figure size 400x300 with 0 Axes>"
      ]
     },
     "metadata": {},
     "output_type": "display_data"
    },
    {
     "data": {
      "text/plain": [
       "<Figure size 400x300 with 0 Axes>"
      ]
     },
     "metadata": {},
     "output_type": "display_data"
    },
    {
     "data": {
      "text/plain": [
       "<Figure size 400x300 with 0 Axes>"
      ]
     },
     "metadata": {},
     "output_type": "display_data"
    },
    {
     "data": {
      "text/plain": [
       "<Figure size 400x300 with 0 Axes>"
      ]
     },
     "metadata": {},
     "output_type": "display_data"
    },
    {
     "data": {
      "text/plain": [
       "<Figure size 400x300 with 0 Axes>"
      ]
     },
     "metadata": {},
     "output_type": "display_data"
    },
    {
     "data": {
      "text/plain": [
       "<Figure size 400x300 with 0 Axes>"
      ]
     },
     "metadata": {},
     "output_type": "display_data"
    },
    {
     "data": {
      "text/plain": [
       "<Figure size 400x300 with 0 Axes>"
      ]
     },
     "metadata": {},
     "output_type": "display_data"
    },
    {
     "data": {
      "text/plain": [
       "<Figure size 400x300 with 0 Axes>"
      ]
     },
     "metadata": {},
     "output_type": "display_data"
    },
    {
     "data": {
      "text/plain": [
       "<Figure size 400x300 with 0 Axes>"
      ]
     },
     "metadata": {},
     "output_type": "display_data"
    },
    {
     "data": {
      "text/plain": [
       "<Figure size 400x300 with 0 Axes>"
      ]
     },
     "metadata": {},
     "output_type": "display_data"
    },
    {
     "data": {
      "text/plain": [
       "<Figure size 400x300 with 0 Axes>"
      ]
     },
     "metadata": {},
     "output_type": "display_data"
    },
    {
     "data": {
      "text/plain": [
       "<Figure size 400x300 with 0 Axes>"
      ]
     },
     "metadata": {},
     "output_type": "display_data"
    },
    {
     "data": {
      "text/plain": [
       "<Figure size 400x300 with 0 Axes>"
      ]
     },
     "metadata": {},
     "output_type": "display_data"
    },
    {
     "data": {
      "text/plain": [
       "<Figure size 400x300 with 0 Axes>"
      ]
     },
     "metadata": {},
     "output_type": "display_data"
    },
    {
     "data": {
      "text/plain": [
       "<Figure size 400x300 with 0 Axes>"
      ]
     },
     "metadata": {},
     "output_type": "display_data"
    },
    {
     "data": {
      "text/plain": [
       "<Figure size 400x300 with 0 Axes>"
      ]
     },
     "metadata": {},
     "output_type": "display_data"
    },
    {
     "data": {
      "text/plain": [
       "<Figure size 400x300 with 0 Axes>"
      ]
     },
     "metadata": {},
     "output_type": "display_data"
    },
    {
     "data": {
      "text/plain": [
       "<Figure size 400x300 with 0 Axes>"
      ]
     },
     "metadata": {},
     "output_type": "display_data"
    },
    {
     "data": {
      "text/plain": [
       "<Figure size 400x300 with 0 Axes>"
      ]
     },
     "metadata": {},
     "output_type": "display_data"
    },
    {
     "data": {
      "text/plain": [
       "<Figure size 400x300 with 0 Axes>"
      ]
     },
     "metadata": {},
     "output_type": "display_data"
    },
    {
     "data": {
      "text/plain": [
       "<Figure size 400x300 with 0 Axes>"
      ]
     },
     "metadata": {},
     "output_type": "display_data"
    },
    {
     "data": {
      "text/plain": [
       "<Figure size 400x300 with 0 Axes>"
      ]
     },
     "metadata": {},
     "output_type": "display_data"
    },
    {
     "data": {
      "text/plain": [
       "<Figure size 400x300 with 0 Axes>"
      ]
     },
     "metadata": {},
     "output_type": "display_data"
    },
    {
     "data": {
      "text/plain": [
       "<Figure size 400x300 with 0 Axes>"
      ]
     },
     "metadata": {},
     "output_type": "display_data"
    },
    {
     "data": {
      "text/plain": [
       "<Figure size 400x300 with 0 Axes>"
      ]
     },
     "metadata": {},
     "output_type": "display_data"
    },
    {
     "data": {
      "text/plain": [
       "<Figure size 400x300 with 0 Axes>"
      ]
     },
     "metadata": {},
     "output_type": "display_data"
    },
    {
     "data": {
      "text/plain": [
       "<Figure size 400x300 with 0 Axes>"
      ]
     },
     "metadata": {},
     "output_type": "display_data"
    },
    {
     "data": {
      "text/plain": [
       "<Figure size 400x300 with 0 Axes>"
      ]
     },
     "metadata": {},
     "output_type": "display_data"
    },
    {
     "data": {
      "text/plain": [
       "<Figure size 400x300 with 0 Axes>"
      ]
     },
     "metadata": {},
     "output_type": "display_data"
    },
    {
     "data": {
      "text/plain": [
       "<Figure size 400x300 with 0 Axes>"
      ]
     },
     "metadata": {},
     "output_type": "display_data"
    },
    {
     "data": {
      "text/plain": [
       "<Figure size 400x300 with 0 Axes>"
      ]
     },
     "metadata": {},
     "output_type": "display_data"
    },
    {
     "data": {
      "text/plain": [
       "<Figure size 400x300 with 0 Axes>"
      ]
     },
     "metadata": {},
     "output_type": "display_data"
    },
    {
     "data": {
      "text/plain": [
       "<Figure size 400x300 with 0 Axes>"
      ]
     },
     "metadata": {},
     "output_type": "display_data"
    },
    {
     "data": {
      "text/plain": [
       "<Figure size 400x300 with 0 Axes>"
      ]
     },
     "metadata": {},
     "output_type": "display_data"
    },
    {
     "data": {
      "text/plain": [
       "<Figure size 400x300 with 0 Axes>"
      ]
     },
     "metadata": {},
     "output_type": "display_data"
    },
    {
     "data": {
      "text/plain": [
       "<Figure size 400x300 with 0 Axes>"
      ]
     },
     "metadata": {},
     "output_type": "display_data"
    },
    {
     "data": {
      "text/plain": [
       "<Figure size 400x300 with 0 Axes>"
      ]
     },
     "metadata": {},
     "output_type": "display_data"
    },
    {
     "data": {
      "text/plain": [
       "<Figure size 400x300 with 0 Axes>"
      ]
     },
     "metadata": {},
     "output_type": "display_data"
    },
    {
     "data": {
      "text/plain": [
       "<Figure size 400x300 with 0 Axes>"
      ]
     },
     "metadata": {},
     "output_type": "display_data"
    },
    {
     "data": {
      "text/plain": [
       "<Figure size 400x300 with 0 Axes>"
      ]
     },
     "metadata": {},
     "output_type": "display_data"
    },
    {
     "data": {
      "text/plain": [
       "<Figure size 400x300 with 0 Axes>"
      ]
     },
     "metadata": {},
     "output_type": "display_data"
    },
    {
     "data": {
      "text/plain": [
       "<Figure size 400x300 with 0 Axes>"
      ]
     },
     "metadata": {},
     "output_type": "display_data"
    },
    {
     "data": {
      "text/plain": [
       "<Figure size 400x300 with 0 Axes>"
      ]
     },
     "metadata": {},
     "output_type": "display_data"
    },
    {
     "data": {
      "text/plain": [
       "<Figure size 400x300 with 0 Axes>"
      ]
     },
     "metadata": {},
     "output_type": "display_data"
    },
    {
     "data": {
      "text/plain": [
       "<Figure size 400x300 with 0 Axes>"
      ]
     },
     "metadata": {},
     "output_type": "display_data"
    },
    {
     "data": {
      "text/plain": [
       "<Figure size 400x300 with 0 Axes>"
      ]
     },
     "metadata": {},
     "output_type": "display_data"
    },
    {
     "data": {
      "text/plain": [
       "<Figure size 400x300 with 0 Axes>"
      ]
     },
     "metadata": {},
     "output_type": "display_data"
    },
    {
     "data": {
      "text/plain": [
       "<Figure size 400x300 with 0 Axes>"
      ]
     },
     "metadata": {},
     "output_type": "display_data"
    },
    {
     "data": {
      "text/plain": [
       "<Figure size 400x300 with 0 Axes>"
      ]
     },
     "metadata": {},
     "output_type": "display_data"
    },
    {
     "data": {
      "text/plain": [
       "<Figure size 400x300 with 0 Axes>"
      ]
     },
     "metadata": {},
     "output_type": "display_data"
    },
    {
     "data": {
      "text/plain": [
       "<Figure size 400x300 with 0 Axes>"
      ]
     },
     "metadata": {},
     "output_type": "display_data"
    },
    {
     "data": {
      "text/plain": [
       "<Figure size 400x300 with 0 Axes>"
      ]
     },
     "metadata": {},
     "output_type": "display_data"
    },
    {
     "data": {
      "text/plain": [
       "<Figure size 400x300 with 0 Axes>"
      ]
     },
     "metadata": {},
     "output_type": "display_data"
    },
    {
     "data": {
      "text/plain": [
       "<Figure size 400x300 with 0 Axes>"
      ]
     },
     "metadata": {},
     "output_type": "display_data"
    },
    {
     "data": {
      "text/plain": [
       "<Figure size 400x300 with 0 Axes>"
      ]
     },
     "metadata": {},
     "output_type": "display_data"
    },
    {
     "data": {
      "text/plain": [
       "<Figure size 400x300 with 0 Axes>"
      ]
     },
     "metadata": {},
     "output_type": "display_data"
    },
    {
     "data": {
      "text/plain": [
       "<Figure size 400x300 with 0 Axes>"
      ]
     },
     "metadata": {},
     "output_type": "display_data"
    },
    {
     "data": {
      "text/plain": [
       "<Figure size 400x300 with 0 Axes>"
      ]
     },
     "metadata": {},
     "output_type": "display_data"
    },
    {
     "data": {
      "text/plain": [
       "<Figure size 400x300 with 0 Axes>"
      ]
     },
     "metadata": {},
     "output_type": "display_data"
    },
    {
     "data": {
      "text/plain": [
       "<Figure size 400x300 with 0 Axes>"
      ]
     },
     "metadata": {},
     "output_type": "display_data"
    },
    {
     "data": {
      "text/plain": [
       "<Figure size 400x300 with 0 Axes>"
      ]
     },
     "metadata": {},
     "output_type": "display_data"
    },
    {
     "data": {
      "text/plain": [
       "<Figure size 400x300 with 0 Axes>"
      ]
     },
     "metadata": {},
     "output_type": "display_data"
    },
    {
     "data": {
      "text/plain": [
       "<Figure size 400x300 with 0 Axes>"
      ]
     },
     "metadata": {},
     "output_type": "display_data"
    },
    {
     "data": {
      "text/plain": [
       "<Figure size 400x300 with 0 Axes>"
      ]
     },
     "metadata": {},
     "output_type": "display_data"
    },
    {
     "data": {
      "text/plain": [
       "<Figure size 400x300 with 0 Axes>"
      ]
     },
     "metadata": {},
     "output_type": "display_data"
    },
    {
     "data": {
      "text/plain": [
       "<Figure size 400x300 with 0 Axes>"
      ]
     },
     "metadata": {},
     "output_type": "display_data"
    },
    {
     "data": {
      "text/plain": [
       "<Figure size 400x300 with 0 Axes>"
      ]
     },
     "metadata": {},
     "output_type": "display_data"
    },
    {
     "data": {
      "text/plain": [
       "<Figure size 400x300 with 0 Axes>"
      ]
     },
     "metadata": {},
     "output_type": "display_data"
    },
    {
     "data": {
      "text/plain": [
       "<Figure size 400x300 with 0 Axes>"
      ]
     },
     "metadata": {},
     "output_type": "display_data"
    },
    {
     "data": {
      "text/plain": [
       "<Figure size 400x300 with 0 Axes>"
      ]
     },
     "metadata": {},
     "output_type": "display_data"
    },
    {
     "data": {
      "text/plain": [
       "<Figure size 400x300 with 0 Axes>"
      ]
     },
     "metadata": {},
     "output_type": "display_data"
    },
    {
     "data": {
      "text/plain": [
       "<Figure size 400x300 with 0 Axes>"
      ]
     },
     "metadata": {},
     "output_type": "display_data"
    },
    {
     "data": {
      "text/plain": [
       "<Figure size 400x300 with 0 Axes>"
      ]
     },
     "metadata": {},
     "output_type": "display_data"
    },
    {
     "data": {
      "text/plain": [
       "<Figure size 400x300 with 0 Axes>"
      ]
     },
     "metadata": {},
     "output_type": "display_data"
    },
    {
     "data": {
      "text/plain": [
       "<Figure size 400x300 with 0 Axes>"
      ]
     },
     "metadata": {},
     "output_type": "display_data"
    },
    {
     "data": {
      "text/plain": [
       "<Figure size 400x300 with 0 Axes>"
      ]
     },
     "metadata": {},
     "output_type": "display_data"
    },
    {
     "data": {
      "text/plain": [
       "<Figure size 400x300 with 0 Axes>"
      ]
     },
     "metadata": {},
     "output_type": "display_data"
    },
    {
     "data": {
      "text/plain": [
       "<Figure size 400x300 with 0 Axes>"
      ]
     },
     "metadata": {},
     "output_type": "display_data"
    },
    {
     "data": {
      "text/plain": [
       "<Figure size 400x300 with 0 Axes>"
      ]
     },
     "metadata": {},
     "output_type": "display_data"
    },
    {
     "data": {
      "text/plain": [
       "<Figure size 400x300 with 0 Axes>"
      ]
     },
     "metadata": {},
     "output_type": "display_data"
    },
    {
     "data": {
      "text/plain": [
       "<Figure size 400x300 with 0 Axes>"
      ]
     },
     "metadata": {},
     "output_type": "display_data"
    },
    {
     "data": {
      "text/plain": [
       "<Figure size 400x300 with 0 Axes>"
      ]
     },
     "metadata": {},
     "output_type": "display_data"
    },
    {
     "data": {
      "text/plain": [
       "<Figure size 400x300 with 0 Axes>"
      ]
     },
     "metadata": {},
     "output_type": "display_data"
    },
    {
     "data": {
      "text/plain": [
       "<Figure size 400x300 with 0 Axes>"
      ]
     },
     "metadata": {},
     "output_type": "display_data"
    },
    {
     "data": {
      "text/plain": [
       "<Figure size 400x300 with 0 Axes>"
      ]
     },
     "metadata": {},
     "output_type": "display_data"
    },
    {
     "data": {
      "text/plain": [
       "<Figure size 400x300 with 0 Axes>"
      ]
     },
     "metadata": {},
     "output_type": "display_data"
    },
    {
     "data": {
      "text/plain": [
       "<Figure size 400x300 with 0 Axes>"
      ]
     },
     "metadata": {},
     "output_type": "display_data"
    },
    {
     "data": {
      "text/plain": [
       "<Figure size 400x300 with 0 Axes>"
      ]
     },
     "metadata": {},
     "output_type": "display_data"
    },
    {
     "data": {
      "text/plain": [
       "<Figure size 400x300 with 0 Axes>"
      ]
     },
     "metadata": {},
     "output_type": "display_data"
    },
    {
     "data": {
      "text/plain": [
       "<Figure size 400x300 with 0 Axes>"
      ]
     },
     "metadata": {},
     "output_type": "display_data"
    },
    {
     "data": {
      "text/plain": [
       "<Figure size 400x300 with 0 Axes>"
      ]
     },
     "metadata": {},
     "output_type": "display_data"
    },
    {
     "data": {
      "text/plain": [
       "<Figure size 400x300 with 0 Axes>"
      ]
     },
     "metadata": {},
     "output_type": "display_data"
    },
    {
     "data": {
      "text/plain": [
       "<Figure size 400x300 with 0 Axes>"
      ]
     },
     "metadata": {},
     "output_type": "display_data"
    },
    {
     "data": {
      "text/plain": [
       "<Figure size 400x300 with 0 Axes>"
      ]
     },
     "metadata": {},
     "output_type": "display_data"
    },
    {
     "data": {
      "text/plain": [
       "<Figure size 400x300 with 0 Axes>"
      ]
     },
     "metadata": {},
     "output_type": "display_data"
    },
    {
     "data": {
      "text/plain": [
       "<Figure size 400x300 with 0 Axes>"
      ]
     },
     "metadata": {},
     "output_type": "display_data"
    },
    {
     "data": {
      "text/plain": [
       "<Figure size 400x300 with 0 Axes>"
      ]
     },
     "metadata": {},
     "output_type": "display_data"
    },
    {
     "data": {
      "text/plain": [
       "<Figure size 400x300 with 0 Axes>"
      ]
     },
     "metadata": {},
     "output_type": "display_data"
    },
    {
     "data": {
      "text/plain": [
       "<Figure size 400x300 with 0 Axes>"
      ]
     },
     "metadata": {},
     "output_type": "display_data"
    },
    {
     "data": {
      "text/plain": [
       "<Figure size 400x300 with 0 Axes>"
      ]
     },
     "metadata": {},
     "output_type": "display_data"
    },
    {
     "data": {
      "text/plain": [
       "<Figure size 400x300 with 0 Axes>"
      ]
     },
     "metadata": {},
     "output_type": "display_data"
    },
    {
     "data": {
      "text/plain": [
       "<Figure size 400x300 with 0 Axes>"
      ]
     },
     "metadata": {},
     "output_type": "display_data"
    },
    {
     "data": {
      "text/plain": [
       "<Figure size 400x300 with 0 Axes>"
      ]
     },
     "metadata": {},
     "output_type": "display_data"
    },
    {
     "data": {
      "text/plain": [
       "<Figure size 400x300 with 0 Axes>"
      ]
     },
     "metadata": {},
     "output_type": "display_data"
    },
    {
     "data": {
      "text/plain": [
       "<Figure size 400x300 with 0 Axes>"
      ]
     },
     "metadata": {},
     "output_type": "display_data"
    },
    {
     "data": {
      "text/plain": [
       "<Figure size 400x300 with 0 Axes>"
      ]
     },
     "metadata": {},
     "output_type": "display_data"
    },
    {
     "data": {
      "text/plain": [
       "<Figure size 400x300 with 0 Axes>"
      ]
     },
     "metadata": {},
     "output_type": "display_data"
    },
    {
     "data": {
      "text/plain": [
       "<Figure size 400x300 with 0 Axes>"
      ]
     },
     "metadata": {},
     "output_type": "display_data"
    },
    {
     "data": {
      "text/plain": [
       "<Figure size 400x300 with 0 Axes>"
      ]
     },
     "metadata": {},
     "output_type": "display_data"
    },
    {
     "data": {
      "text/plain": [
       "<Figure size 400x300 with 0 Axes>"
      ]
     },
     "metadata": {},
     "output_type": "display_data"
    },
    {
     "data": {
      "text/plain": [
       "<Figure size 400x300 with 0 Axes>"
      ]
     },
     "metadata": {},
     "output_type": "display_data"
    },
    {
     "data": {
      "text/plain": [
       "<Figure size 400x300 with 0 Axes>"
      ]
     },
     "metadata": {},
     "output_type": "display_data"
    },
    {
     "data": {
      "text/plain": [
       "<Figure size 400x300 with 0 Axes>"
      ]
     },
     "metadata": {},
     "output_type": "display_data"
    },
    {
     "data": {
      "text/plain": [
       "<Figure size 400x300 with 0 Axes>"
      ]
     },
     "metadata": {},
     "output_type": "display_data"
    },
    {
     "data": {
      "text/plain": [
       "<Figure size 400x300 with 0 Axes>"
      ]
     },
     "metadata": {},
     "output_type": "display_data"
    },
    {
     "data": {
      "text/plain": [
       "<Figure size 400x300 with 0 Axes>"
      ]
     },
     "metadata": {},
     "output_type": "display_data"
    },
    {
     "data": {
      "text/plain": [
       "<Figure size 400x300 with 0 Axes>"
      ]
     },
     "metadata": {},
     "output_type": "display_data"
    },
    {
     "data": {
      "text/plain": [
       "<Figure size 400x300 with 0 Axes>"
      ]
     },
     "metadata": {},
     "output_type": "display_data"
    },
    {
     "data": {
      "text/plain": [
       "<Figure size 400x300 with 0 Axes>"
      ]
     },
     "metadata": {},
     "output_type": "display_data"
    },
    {
     "data": {
      "text/plain": [
       "<Figure size 400x300 with 0 Axes>"
      ]
     },
     "metadata": {},
     "output_type": "display_data"
    },
    {
     "data": {
      "text/plain": [
       "<Figure size 400x300 with 0 Axes>"
      ]
     },
     "metadata": {},
     "output_type": "display_data"
    },
    {
     "data": {
      "text/plain": [
       "<Figure size 400x300 with 0 Axes>"
      ]
     },
     "metadata": {},
     "output_type": "display_data"
    },
    {
     "data": {
      "text/plain": [
       "<Figure size 400x300 with 0 Axes>"
      ]
     },
     "metadata": {},
     "output_type": "display_data"
    },
    {
     "data": {
      "text/plain": [
       "<Figure size 400x300 with 0 Axes>"
      ]
     },
     "metadata": {},
     "output_type": "display_data"
    },
    {
     "data": {
      "text/plain": [
       "<Figure size 400x300 with 0 Axes>"
      ]
     },
     "metadata": {},
     "output_type": "display_data"
    },
    {
     "data": {
      "text/plain": [
       "<Figure size 400x300 with 0 Axes>"
      ]
     },
     "metadata": {},
     "output_type": "display_data"
    },
    {
     "data": {
      "text/plain": [
       "<Figure size 400x300 with 0 Axes>"
      ]
     },
     "metadata": {},
     "output_type": "display_data"
    },
    {
     "data": {
      "text/plain": [
       "<Figure size 400x300 with 0 Axes>"
      ]
     },
     "metadata": {},
     "output_type": "display_data"
    },
    {
     "data": {
      "text/plain": [
       "<Figure size 400x300 with 0 Axes>"
      ]
     },
     "metadata": {},
     "output_type": "display_data"
    },
    {
     "data": {
      "text/plain": [
       "<Figure size 400x300 with 0 Axes>"
      ]
     },
     "metadata": {},
     "output_type": "display_data"
    },
    {
     "data": {
      "text/plain": [
       "<Figure size 400x300 with 0 Axes>"
      ]
     },
     "metadata": {},
     "output_type": "display_data"
    },
    {
     "data": {
      "text/plain": [
       "<Figure size 400x300 with 0 Axes>"
      ]
     },
     "metadata": {},
     "output_type": "display_data"
    },
    {
     "data": {
      "text/plain": [
       "<Figure size 400x300 with 0 Axes>"
      ]
     },
     "metadata": {},
     "output_type": "display_data"
    },
    {
     "data": {
      "text/plain": [
       "<Figure size 400x300 with 0 Axes>"
      ]
     },
     "metadata": {},
     "output_type": "display_data"
    },
    {
     "data": {
      "text/plain": [
       "<Figure size 400x300 with 0 Axes>"
      ]
     },
     "metadata": {},
     "output_type": "display_data"
    },
    {
     "data": {
      "text/plain": [
       "<Figure size 400x300 with 0 Axes>"
      ]
     },
     "metadata": {},
     "output_type": "display_data"
    },
    {
     "data": {
      "text/plain": [
       "<Figure size 400x300 with 0 Axes>"
      ]
     },
     "metadata": {},
     "output_type": "display_data"
    },
    {
     "data": {
      "text/plain": [
       "<Figure size 400x300 with 0 Axes>"
      ]
     },
     "metadata": {},
     "output_type": "display_data"
    },
    {
     "data": {
      "text/plain": [
       "<Figure size 400x300 with 0 Axes>"
      ]
     },
     "metadata": {},
     "output_type": "display_data"
    },
    {
     "data": {
      "text/plain": [
       "<Figure size 400x300 with 0 Axes>"
      ]
     },
     "metadata": {},
     "output_type": "display_data"
    },
    {
     "data": {
      "text/plain": [
       "<Figure size 400x300 with 0 Axes>"
      ]
     },
     "metadata": {},
     "output_type": "display_data"
    },
    {
     "data": {
      "text/plain": [
       "<Figure size 400x300 with 0 Axes>"
      ]
     },
     "metadata": {},
     "output_type": "display_data"
    },
    {
     "data": {
      "text/plain": [
       "<Figure size 400x300 with 0 Axes>"
      ]
     },
     "metadata": {},
     "output_type": "display_data"
    },
    {
     "data": {
      "text/plain": [
       "<Figure size 400x300 with 0 Axes>"
      ]
     },
     "metadata": {},
     "output_type": "display_data"
    },
    {
     "data": {
      "text/plain": [
       "<Figure size 400x300 with 0 Axes>"
      ]
     },
     "metadata": {},
     "output_type": "display_data"
    },
    {
     "data": {
      "text/plain": [
       "<Figure size 400x300 with 0 Axes>"
      ]
     },
     "metadata": {},
     "output_type": "display_data"
    },
    {
     "data": {
      "text/plain": [
       "<Figure size 400x300 with 0 Axes>"
      ]
     },
     "metadata": {},
     "output_type": "display_data"
    },
    {
     "data": {
      "text/plain": [
       "<Figure size 400x300 with 0 Axes>"
      ]
     },
     "metadata": {},
     "output_type": "display_data"
    },
    {
     "data": {
      "text/plain": [
       "<Figure size 400x300 with 0 Axes>"
      ]
     },
     "metadata": {},
     "output_type": "display_data"
    },
    {
     "data": {
      "text/plain": [
       "<Figure size 400x300 with 0 Axes>"
      ]
     },
     "metadata": {},
     "output_type": "display_data"
    },
    {
     "data": {
      "text/plain": [
       "<Figure size 400x300 with 0 Axes>"
      ]
     },
     "metadata": {},
     "output_type": "display_data"
    },
    {
     "data": {
      "text/plain": [
       "<Figure size 400x300 with 0 Axes>"
      ]
     },
     "metadata": {},
     "output_type": "display_data"
    },
    {
     "data": {
      "text/plain": [
       "<Figure size 400x300 with 0 Axes>"
      ]
     },
     "metadata": {},
     "output_type": "display_data"
    },
    {
     "data": {
      "text/plain": [
       "<Figure size 400x300 with 0 Axes>"
      ]
     },
     "metadata": {},
     "output_type": "display_data"
    },
    {
     "data": {
      "text/plain": [
       "<Figure size 400x300 with 0 Axes>"
      ]
     },
     "metadata": {},
     "output_type": "display_data"
    },
    {
     "data": {
      "text/plain": [
       "<Figure size 400x300 with 0 Axes>"
      ]
     },
     "metadata": {},
     "output_type": "display_data"
    },
    {
     "data": {
      "text/plain": [
       "<Figure size 400x300 with 0 Axes>"
      ]
     },
     "metadata": {},
     "output_type": "display_data"
    },
    {
     "data": {
      "text/plain": [
       "<Figure size 400x300 with 0 Axes>"
      ]
     },
     "metadata": {},
     "output_type": "display_data"
    },
    {
     "data": {
      "text/plain": [
       "<Figure size 400x300 with 0 Axes>"
      ]
     },
     "metadata": {},
     "output_type": "display_data"
    },
    {
     "data": {
      "text/plain": [
       "<Figure size 400x300 with 0 Axes>"
      ]
     },
     "metadata": {},
     "output_type": "display_data"
    },
    {
     "data": {
      "text/plain": [
       "<Figure size 400x300 with 0 Axes>"
      ]
     },
     "metadata": {},
     "output_type": "display_data"
    },
    {
     "data": {
      "text/plain": [
       "<Figure size 400x300 with 0 Axes>"
      ]
     },
     "metadata": {},
     "output_type": "display_data"
    },
    {
     "data": {
      "text/plain": [
       "<Figure size 400x300 with 0 Axes>"
      ]
     },
     "metadata": {},
     "output_type": "display_data"
    },
    {
     "data": {
      "text/plain": [
       "<Figure size 400x300 with 0 Axes>"
      ]
     },
     "metadata": {},
     "output_type": "display_data"
    },
    {
     "data": {
      "text/plain": [
       "<Figure size 400x300 with 0 Axes>"
      ]
     },
     "metadata": {},
     "output_type": "display_data"
    },
    {
     "data": {
      "text/plain": [
       "<Figure size 400x300 with 0 Axes>"
      ]
     },
     "metadata": {},
     "output_type": "display_data"
    },
    {
     "data": {
      "text/plain": [
       "<Figure size 400x300 with 0 Axes>"
      ]
     },
     "metadata": {},
     "output_type": "display_data"
    },
    {
     "data": {
      "text/plain": [
       "<Figure size 400x300 with 0 Axes>"
      ]
     },
     "metadata": {},
     "output_type": "display_data"
    },
    {
     "data": {
      "text/plain": [
       "<Figure size 400x300 with 0 Axes>"
      ]
     },
     "metadata": {},
     "output_type": "display_data"
    },
    {
     "data": {
      "text/plain": [
       "<Figure size 400x300 with 0 Axes>"
      ]
     },
     "metadata": {},
     "output_type": "display_data"
    },
    {
     "data": {
      "text/plain": [
       "<Figure size 400x300 with 0 Axes>"
      ]
     },
     "metadata": {},
     "output_type": "display_data"
    },
    {
     "data": {
      "text/plain": [
       "<Figure size 400x300 with 0 Axes>"
      ]
     },
     "metadata": {},
     "output_type": "display_data"
    },
    {
     "data": {
      "text/plain": [
       "<Figure size 400x300 with 0 Axes>"
      ]
     },
     "metadata": {},
     "output_type": "display_data"
    },
    {
     "data": {
      "text/plain": [
       "<Figure size 400x300 with 0 Axes>"
      ]
     },
     "metadata": {},
     "output_type": "display_data"
    },
    {
     "data": {
      "text/plain": [
       "<Figure size 400x300 with 0 Axes>"
      ]
     },
     "metadata": {},
     "output_type": "display_data"
    },
    {
     "data": {
      "text/plain": [
       "<Figure size 400x300 with 0 Axes>"
      ]
     },
     "metadata": {},
     "output_type": "display_data"
    },
    {
     "data": {
      "text/plain": [
       "<Figure size 400x300 with 0 Axes>"
      ]
     },
     "metadata": {},
     "output_type": "display_data"
    },
    {
     "data": {
      "text/plain": [
       "<Figure size 400x300 with 0 Axes>"
      ]
     },
     "metadata": {},
     "output_type": "display_data"
    },
    {
     "data": {
      "text/plain": [
       "<Figure size 400x300 with 0 Axes>"
      ]
     },
     "metadata": {},
     "output_type": "display_data"
    },
    {
     "data": {
      "text/plain": [
       "<Figure size 400x300 with 0 Axes>"
      ]
     },
     "metadata": {},
     "output_type": "display_data"
    },
    {
     "data": {
      "text/plain": [
       "<Figure size 400x300 with 0 Axes>"
      ]
     },
     "metadata": {},
     "output_type": "display_data"
    },
    {
     "data": {
      "text/plain": [
       "<Figure size 400x300 with 0 Axes>"
      ]
     },
     "metadata": {},
     "output_type": "display_data"
    },
    {
     "data": {
      "text/plain": [
       "<Figure size 400x300 with 0 Axes>"
      ]
     },
     "metadata": {},
     "output_type": "display_data"
    },
    {
     "data": {
      "text/plain": [
       "<Figure size 400x300 with 0 Axes>"
      ]
     },
     "metadata": {},
     "output_type": "display_data"
    },
    {
     "data": {
      "text/plain": [
       "<Figure size 400x300 with 0 Axes>"
      ]
     },
     "metadata": {},
     "output_type": "display_data"
    },
    {
     "data": {
      "text/plain": [
       "<Figure size 400x300 with 0 Axes>"
      ]
     },
     "metadata": {},
     "output_type": "display_data"
    },
    {
     "data": {
      "text/plain": [
       "<Figure size 400x300 with 0 Axes>"
      ]
     },
     "metadata": {},
     "output_type": "display_data"
    },
    {
     "data": {
      "text/plain": [
       "<Figure size 400x300 with 0 Axes>"
      ]
     },
     "metadata": {},
     "output_type": "display_data"
    },
    {
     "data": {
      "text/plain": [
       "<Figure size 400x300 with 0 Axes>"
      ]
     },
     "metadata": {},
     "output_type": "display_data"
    },
    {
     "data": {
      "text/plain": [
       "<Figure size 400x300 with 0 Axes>"
      ]
     },
     "metadata": {},
     "output_type": "display_data"
    },
    {
     "data": {
      "text/plain": [
       "<Figure size 400x300 with 0 Axes>"
      ]
     },
     "metadata": {},
     "output_type": "display_data"
    },
    {
     "data": {
      "text/plain": [
       "<Figure size 400x300 with 0 Axes>"
      ]
     },
     "metadata": {},
     "output_type": "display_data"
    },
    {
     "data": {
      "text/plain": [
       "<Figure size 400x300 with 0 Axes>"
      ]
     },
     "metadata": {},
     "output_type": "display_data"
    },
    {
     "data": {
      "text/plain": [
       "<Figure size 400x300 with 0 Axes>"
      ]
     },
     "metadata": {},
     "output_type": "display_data"
    },
    {
     "data": {
      "text/plain": [
       "<Figure size 400x300 with 0 Axes>"
      ]
     },
     "metadata": {},
     "output_type": "display_data"
    },
    {
     "data": {
      "text/plain": [
       "<Figure size 400x300 with 0 Axes>"
      ]
     },
     "metadata": {},
     "output_type": "display_data"
    },
    {
     "data": {
      "text/plain": [
       "<Figure size 400x300 with 0 Axes>"
      ]
     },
     "metadata": {},
     "output_type": "display_data"
    },
    {
     "data": {
      "text/plain": [
       "<Figure size 400x300 with 0 Axes>"
      ]
     },
     "metadata": {},
     "output_type": "display_data"
    },
    {
     "data": {
      "text/plain": [
       "<Figure size 400x300 with 0 Axes>"
      ]
     },
     "metadata": {},
     "output_type": "display_data"
    },
    {
     "data": {
      "text/plain": [
       "<Figure size 400x300 with 0 Axes>"
      ]
     },
     "metadata": {},
     "output_type": "display_data"
    },
    {
     "data": {
      "text/plain": [
       "<Figure size 400x300 with 0 Axes>"
      ]
     },
     "metadata": {},
     "output_type": "display_data"
    },
    {
     "data": {
      "text/plain": [
       "<Figure size 400x300 with 0 Axes>"
      ]
     },
     "metadata": {},
     "output_type": "display_data"
    },
    {
     "data": {
      "text/plain": [
       "<Figure size 400x300 with 0 Axes>"
      ]
     },
     "metadata": {},
     "output_type": "display_data"
    },
    {
     "data": {
      "text/plain": [
       "<Figure size 400x300 with 0 Axes>"
      ]
     },
     "metadata": {},
     "output_type": "display_data"
    },
    {
     "data": {
      "text/plain": [
       "<Figure size 400x300 with 0 Axes>"
      ]
     },
     "metadata": {},
     "output_type": "display_data"
    },
    {
     "data": {
      "text/plain": [
       "<Figure size 400x300 with 0 Axes>"
      ]
     },
     "metadata": {},
     "output_type": "display_data"
    },
    {
     "data": {
      "text/plain": [
       "<Figure size 400x300 with 0 Axes>"
      ]
     },
     "metadata": {},
     "output_type": "display_data"
    },
    {
     "data": {
      "text/plain": [
       "<Figure size 400x300 with 0 Axes>"
      ]
     },
     "metadata": {},
     "output_type": "display_data"
    },
    {
     "data": {
      "text/plain": [
       "<Figure size 400x300 with 0 Axes>"
      ]
     },
     "metadata": {},
     "output_type": "display_data"
    },
    {
     "data": {
      "text/plain": [
       "<Figure size 400x300 with 0 Axes>"
      ]
     },
     "metadata": {},
     "output_type": "display_data"
    },
    {
     "data": {
      "text/plain": [
       "<Figure size 400x300 with 0 Axes>"
      ]
     },
     "metadata": {},
     "output_type": "display_data"
    },
    {
     "data": {
      "text/plain": [
       "<Figure size 400x300 with 0 Axes>"
      ]
     },
     "metadata": {},
     "output_type": "display_data"
    },
    {
     "data": {
      "text/plain": [
       "<Figure size 400x300 with 0 Axes>"
      ]
     },
     "metadata": {},
     "output_type": "display_data"
    },
    {
     "data": {
      "text/plain": [
       "<Figure size 400x300 with 0 Axes>"
      ]
     },
     "metadata": {},
     "output_type": "display_data"
    },
    {
     "data": {
      "text/plain": [
       "<Figure size 400x300 with 0 Axes>"
      ]
     },
     "metadata": {},
     "output_type": "display_data"
    },
    {
     "data": {
      "text/plain": [
       "<Figure size 400x300 with 0 Axes>"
      ]
     },
     "metadata": {},
     "output_type": "display_data"
    },
    {
     "data": {
      "text/plain": [
       "<Figure size 400x300 with 0 Axes>"
      ]
     },
     "metadata": {},
     "output_type": "display_data"
    },
    {
     "data": {
      "text/plain": [
       "<Figure size 400x300 with 0 Axes>"
      ]
     },
     "metadata": {},
     "output_type": "display_data"
    },
    {
     "data": {
      "text/plain": [
       "<Figure size 400x300 with 0 Axes>"
      ]
     },
     "metadata": {},
     "output_type": "display_data"
    },
    {
     "data": {
      "text/plain": [
       "<Figure size 400x300 with 0 Axes>"
      ]
     },
     "metadata": {},
     "output_type": "display_data"
    },
    {
     "data": {
      "text/plain": [
       "<Figure size 400x300 with 0 Axes>"
      ]
     },
     "metadata": {},
     "output_type": "display_data"
    },
    {
     "data": {
      "text/plain": [
       "<Figure size 400x300 with 0 Axes>"
      ]
     },
     "metadata": {},
     "output_type": "display_data"
    },
    {
     "data": {
      "text/plain": [
       "<Figure size 400x300 with 0 Axes>"
      ]
     },
     "metadata": {},
     "output_type": "display_data"
    },
    {
     "data": {
      "text/plain": [
       "<Figure size 400x300 with 0 Axes>"
      ]
     },
     "metadata": {},
     "output_type": "display_data"
    },
    {
     "data": {
      "text/plain": [
       "<Figure size 400x300 with 0 Axes>"
      ]
     },
     "metadata": {},
     "output_type": "display_data"
    },
    {
     "data": {
      "text/plain": [
       "<Figure size 400x300 with 0 Axes>"
      ]
     },
     "metadata": {},
     "output_type": "display_data"
    },
    {
     "data": {
      "text/plain": [
       "<Figure size 400x300 with 0 Axes>"
      ]
     },
     "metadata": {},
     "output_type": "display_data"
    },
    {
     "data": {
      "text/plain": [
       "<Figure size 400x300 with 0 Axes>"
      ]
     },
     "metadata": {},
     "output_type": "display_data"
    },
    {
     "data": {
      "text/plain": [
       "<Figure size 400x300 with 0 Axes>"
      ]
     },
     "metadata": {},
     "output_type": "display_data"
    },
    {
     "data": {
      "text/plain": [
       "<Figure size 400x300 with 0 Axes>"
      ]
     },
     "metadata": {},
     "output_type": "display_data"
    },
    {
     "data": {
      "text/plain": [
       "<Figure size 400x300 with 0 Axes>"
      ]
     },
     "metadata": {},
     "output_type": "display_data"
    },
    {
     "data": {
      "text/plain": [
       "<Figure size 400x300 with 0 Axes>"
      ]
     },
     "metadata": {},
     "output_type": "display_data"
    },
    {
     "data": {
      "text/plain": [
       "<Figure size 400x300 with 0 Axes>"
      ]
     },
     "metadata": {},
     "output_type": "display_data"
    },
    {
     "data": {
      "text/plain": [
       "<Figure size 400x300 with 0 Axes>"
      ]
     },
     "metadata": {},
     "output_type": "display_data"
    }
   ],
   "source": [
    "if not Path.exists(Path(\"mirrorplots\")):\n",
    "    Path.mkdir(\"mirrorplots\")\n",
    "\n",
    "for idx, row in scores.iterrows():\n",
    "    key_query = row[\"query\"]\n",
    "    key_ref = row[\"reference\"]\n",
    "\n",
    "    query_spectrum = query_lookup.get(key_query)\n",
    "    reference_spectrum = reference_lookup.get(key_ref)\n",
    "\n",
    "    if query_spectrum and reference_spectrum:\n",
    "        fig, ax = plt.subplots(figsize=(12, 4))\n",
    "        plot_spectra_mirror(query_spectrum, reference_spectrum, ax=ax)\n",
    "        fig.savefig(f\"mirrorplots/{idx}.png\", bbox_inches='tight')\n",
    "        plt.close()\n",
    "        plt.clf()"
   ]
  }
 ],
 "metadata": {
  "kernelspec": {
   "display_name": "Python 3",
   "language": "python",
   "name": "python3"
  },
  "language_info": {
   "codemirror_mode": {
    "name": "ipython",
    "version": 3
   },
   "file_extension": ".py",
   "mimetype": "text/x-python",
   "name": "python",
   "nbconvert_exporter": "python",
   "pygments_lexer": "ipython3",
   "version": "3.11.9"
  }
 },
 "nbformat": 4,
 "nbformat_minor": 2
}
