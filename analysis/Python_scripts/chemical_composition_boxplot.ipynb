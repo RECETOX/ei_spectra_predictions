{
 "cells": [
  {
   "cell_type": "code",
   "execution_count": null,
   "metadata": {},
   "outputs": [],
   "source": [
    "from utils import *\n",
    "from plotting import create_plot"
   ]
  },
  {
   "cell_type": "code",
   "execution_count": null,
   "metadata": {},
   "outputs": [],
   "source": [
    "top5_same = pd.read_csv(\"../data/output_matching/matchms/matchms_tol_0.0035_1%I_top5_with_0s_only_matching.tsv\", sep='\\t')\n",
    "top5_same.rename(columns={'CosineHungarian_0.0035_0.0_1.0_scores': 'scores'}, inplace=True)\n",
    "top5_same.rename(columns={'CosineHungarian_0.0035_0.0_1.0_matches': 'matches'}, inplace=True)\n",
    "merged_top5_same = normalize_df(append_classes(top5_same, 'query'), matches_norm_col=None)\n",
    "\n",
    "merged_top5_same_N = merged_top5_same.copy()\n",
    "\n",
    "# exclude nitrigen\n",
    "merged_top5_same = merged_top5_same[merged_top5_same['N'] != True]\n",
    "\n",
    "# Apply the function to each row of the DataFrame\n",
    "merged_top5_same_N['true_names'] = merged_top5_same_N.apply(lambda row: get_true_names(row, merged_top5_same_N), axis=1)\n",
    "merged_top5_same['true_names'] = merged_top5_same.apply(lambda row: get_true_names(row, merged_top5_same), axis=1)\n",
    "\n",
    "# Convert the list of names to a comma-separated string\n",
    "merged_top5_same_N['true_names'] = merged_top5_same_N['true_names'].apply(lambda lst: ', '.join(lst))\n",
    "merged_top5_same['true_names'] = merged_top5_same['true_names'].apply(lambda lst: ', '.join(lst))"
   ]
  },
  {
   "cell_type": "code",
   "execution_count": null,
   "metadata": {},
   "outputs": [],
   "source": [
    "mdf = preprocess_data(merged_top5_same, [\"true_names\"])\n",
    "mdf_N = preprocess_data(merged_top5_same_N, [\"true_names\"])"
   ]
  },
  {
   "cell_type": "code",
   "execution_count": null,
   "metadata": {},
   "outputs": [],
   "source": [
    "mdf = clean_chemical_composition_data(mdf)\n",
    "mdf_N = clean_chemical_composition_data(mdf_N)"
   ]
  },
  {
   "cell_type": "code",
   "execution_count": null,
   "metadata": {},
   "outputs": [],
   "source": [
    "# with Nitrogen plot 1\n",
    "mdf_N_p1 = split_and_add_rows(mdf_N, 'true_names', split_by=', ')\n",
    "mdf_N_p1 = mdf_N_p1.sort_values(by=['true_names'])\n",
    "\n",
    "create_plot(mdf_N_p1, \"true_names\", None, normalized_matches=False, hide_labels=True, showlegend=False).show()\n",
    "\n",
    "# without Nitrogen plot 1\n",
    "mdf_p1 = split_and_add_rows(mdf, 'true_names', split_by=', ')\n",
    "mdf_p1 = mdf_p1.sort_values(by=['true_names'])\n",
    "mdf_p1['true_names'].replace(to_replace=\"C,O,N,H\", value=\"C,O,H\", inplace=True)\n",
    "\n",
    "create_plot(mdf_p1, \"true_names\", None, normalized_matches=False, hide_labels=True, showlegend=False).show()"
   ]
  },
  {
   "cell_type": "code",
   "execution_count": null,
   "metadata": {},
   "outputs": [],
   "source": [
    "# without Nitrogen plot 2\n",
    "mdf_p2 = generate_combinations(mdf, 'true_names')\n",
    "mdf_p2 = mdf_p2.sort_values(by=['true_names'])\n",
    "\n",
    "create_plot(mdf_p2, \"true_names\", None, normalized_matches=None, nist_scale=True, hide_labels=True, showlegend=False).show()\n",
    "\n",
    "# with Nitrogen plot 2\n",
    "mdf_N_p2 = generate_combinations(mdf_N, 'true_names')\n",
    "mdf_N_p2 = mdf_N_p2.sort_values(by=['true_names'])\n",
    "\n",
    "create_plot(mdf_N_p2, \"true_names\", None, normalized_matches=None, nist_scale=True, hide_labels=True, showlegend=False).show()"
   ]
  },
  {
   "cell_type": "code",
   "execution_count": null,
   "metadata": {},
   "outputs": [],
   "source": [
    "\n",
    "all_same = pd.read_csv(\"../data/output_matching/matchms/matchms_tol_0.0035_1%I_all_peaks_with_0s_only_matching.tsv\", sep='\\t')\n",
    "all_same.rename(columns={'CosineHungarian_0.0035_0.0_1.0_scores': 'scores'}, inplace=True)\n",
    "all_same.rename(columns={'CosineHungarian_0.0035_0.0_1.0_matches': 'matches'}, inplace=True)\n",
    "merged_all_same = normalize_df(append_spectrum_metadata(append_classes(all_same, 'query')))\n",
    "\n",
    "merged_all_same_N = merged_all_same.copy()\n",
    "\n",
    "# exclude nitrigen\n",
    "merged_all_same = merged_all_same[merged_all_same['N'] != True]\n",
    "\n",
    "# Apply the function to each row of the DataFrame\n",
    "merged_all_same_N['true_names'] = merged_all_same_N.apply(lambda row: get_true_names(row, merged_all_same_N), axis=1)\n",
    "merged_all_same['true_names'] = merged_all_same.apply(lambda row: get_true_names(row, merged_all_same), axis=1)\n",
    "\n",
    "# Convert the list of names to a comma-separated string\n",
    "merged_all_same_N['true_names'] = merged_all_same_N['true_names'].apply(lambda lst: ', '.join(lst))\n",
    "merged_all_same['true_names'] = merged_all_same['true_names'].apply(lambda lst: ', '.join(lst))"
   ]
  },
  {
   "cell_type": "code",
   "execution_count": null,
   "metadata": {},
   "outputs": [],
   "source": [
    "mdf_all = preprocess_data(merged_all_same, [\"true_names\"])\n",
    "mdf_N_all = preprocess_data(merged_all_same_N, [\"true_names\"])\n",
    "mdf_all = clean_chemical_composition_data(mdf_all)\n",
    "mdf_N_all = clean_chemical_composition_data(mdf_N_all)"
   ]
  },
  {
   "cell_type": "code",
   "execution_count": null,
   "metadata": {},
   "outputs": [],
   "source": [
    "# with Nitrogen plot 1\n",
    "mdf_N_p1_all = split_and_add_rows(mdf_N_all, 'true_names', split_by=', ')\n",
    "mdf_N_p1_all = mdf_N_p1_all.sort_values(by=['true_names'])\n",
    "\n",
    "create_plot(mdf_N_p1_all, \"true_names\", None, showlegend=False, hide_labels=True).show()\n",
    "\n",
    "# without Nitrogen plot 1\n",
    "mdf_p1_all = split_and_add_rows(mdf_all, 'true_names', split_by=', ')\n",
    "mdf_p1_all = mdf_p1_all.sort_values(by=['true_names'])\n",
    "mdf_p1_all['true_names'].replace(to_replace=\"C,O,N,H\", value=\"C,O,H\", inplace=True)\n",
    "\n",
    "create_plot(mdf_p1_all, \"true_names\", None, showlegend=False, hide_labels=True).show()"
   ]
  },
  {
   "cell_type": "code",
   "execution_count": null,
   "metadata": {},
   "outputs": [],
   "source": [
    "# without Nitrogen plot 2\n",
    "mdf_p2_all = generate_combinations(mdf_all, 'true_names')\n",
    "mdf_p2_all = mdf_p2_all.sort_values(by=['true_names'])\n",
    "\n",
    "create_plot(mdf_p2_all, \"true_names\", None, showlegend=False, hide_labels=True).show()\n",
    "\n",
    "# with Nitrogen plot 2\n",
    "mdf_N_p2_all = generate_combinations(mdf_N_all, 'true_names')\n",
    "mdf_N_p2_all = mdf_N_p2_all.sort_values(by=['true_names'])\n",
    "\n",
    "create_plot(mdf_N_p2_all, \"true_names\", None, showlegend=False, hide_labels=True).show()"
   ]
  },
  {
   "cell_type": "code",
   "execution_count": null,
   "metadata": {},
   "outputs": [],
   "source": [
    "all_peaks_same = pd.read_csv(\"../data/output_matching/matchms/matchms_tol_0.0035_1%I_all_peaks_with_0s_only_matching.tsv\", sep='\\t')\n",
    "all_peaks_same.rename(columns={'CosineHungarian_0.0035_0.0_1.0_scores': 'scores'}, inplace=True)\n",
    "all_peaks_same.rename(columns={'CosineHungarian_0.0035_0.0_1.0_matches': 'matches'}, inplace=True)\n",
    "all_peaks_same = append_spectrum_metadata(all_peaks_same)\n",
    "merged_all_peaks_same = normalize_df(append_classes(all_peaks_same, 'query'))\n",
    "mdf_comp = preprocess_data(merged_all_peaks_same, [\"composition\"])"
   ]
  },
  {
   "cell_type": "code",
   "execution_count": null,
   "metadata": {},
   "outputs": [],
   "source": [
    "create_plot(mdf_comp, \"composition\").show()"
   ]
  },
  {
   "cell_type": "code",
   "execution_count": null,
   "metadata": {},
   "outputs": [],
   "source": [
    "baseline_cols= ['C,H', 'C,H,O', 'C,H,O,S', 'C,Cl,H,O', 'Br,C,H,O', 'C,Cl,H', 'C,Cl,H,O,S', 'C,Cl,F,H,O', 'C,H,O,P', 'C,H,O,P,S']\n",
    "mdf_comp_baseline = mdf_comp.loc[mdf_comp['composition'].isin(baseline_cols)]\n",
    "mdf_comp_baseline.sort_index(axis=1, inplace=True)\n",
    "create_plot(mdf_comp_baseline, \"composition\", order=baseline_cols).show()\n"
   ]
  },
  {
   "cell_type": "code",
   "execution_count": null,
   "metadata": {},
   "outputs": [],
   "source": [
    "nitrogen_cols = ['C,H,N', 'C,H,N,O','C,H,N,O,S', 'C,Cl,H,N,O', 'Br,C,H,N,O', 'C,Cl,H,N', 'C,Cl,H,N,O,S', 'C,Cl,F,H,N,O','C,H,N,O,P', 'C,H,N,O,P,S']\n",
    "mdf_comp_nitrogen = mdf_comp.loc[mdf_comp['composition'].isin(nitrogen_cols)]\n",
    "mdf_comp_nitrogen.sort_index(axis=1, inplace=True)\n",
    "create_plot(mdf_comp_nitrogen, \"composition\", order=nitrogen_cols).show()"
   ]
  },
  {
   "cell_type": "code",
   "execution_count": null,
   "metadata": {},
   "outputs": [],
   "source": [
    "mdf_comp_ps = mdf_comp[mdf_comp['composition'].str.contains('S|P')]\n",
    "mdf_comp_ps = mdf_comp_ps[mdf_comp_ps['composition'] != 'C,F,H,N,Si']\n",
    "mdf_comp_ps = mdf_comp_ps.groupby('composition').filter(lambda x: len(x) > 2)\n",
    "create_plot(mdf_comp_ps, \"composition\").show()\n"
   ]
  },
  {
   "cell_type": "code",
   "execution_count": null,
   "metadata": {},
   "outputs": [],
   "source": [
    "mdf_comp_halogen = mdf_comp[mdf_comp['composition'].str.contains('Cl|Br|F|I')]\n",
    "mdf_comp_chlorinated = mdf_comp[mdf_comp['composition'].str.contains('Cl')]\n",
    "mdf_comp_chlorinated = mdf_comp_chlorinated.groupby('composition').filter(lambda x: len(x) > 2)\n",
    "\n",
    "mdf_comp_brominated = mdf_comp[mdf_comp['composition'].str.contains('Br')]\n",
    "mdf_comp_organic = mdf_comp.loc[mdf_comp['composition'].isin(['C,H', 'C,H,O', 'C,H,N', 'C,H,N,O'])]\n",
    "\n",
    "# create_plot(mdf_comp_halogen, \"composition\", \"Halogen containing Molecules\").show()\n",
    "create_plot(mdf_comp_chlorinated, \"composition\", \"Chlorine containing Molecules\").show()\n",
    "create_plot(mdf_comp_brominated, \"composition\", \"Bromine containing Molecules\").show()\n",
    "# create_plot(mdf_comp_organic, \"composition\", \"Organic Molecules\", normalized_matches=False).show()\n",
    "create_plot(mdf_comp, \"composition\", normalized_matches=False).show()"
   ]
  },
  {
   "cell_type": "code",
   "execution_count": null,
   "metadata": {},
   "outputs": [],
   "source": [
    "mdf_comp_chlorinated = mdf_comp[mdf_comp['composition'].str.contains('Cl') & ~mdf_comp['composition'].str.contains('Br|F|I|P|S|Si')]\n",
    "create_plot(mdf_comp_chlorinated, \"composition\", \"Chlorine containing Molecules\", normalized_matches=False).show()"
   ]
  },
  {
   "cell_type": "code",
   "execution_count": null,
   "metadata": {},
   "outputs": [],
   "source": [
    "mdf_comp_brominated = mdf_comp[mdf_comp['composition'].str.contains('Br') & ~mdf_comp['composition'].str.contains('Cl|F|I|P|S|Si')]\n",
    "create_plot(mdf_comp_brominated, \"composition\", \"Bromine containing Molecules\", normalized_matches=False).show()"
   ]
  }
 ],
 "metadata": {
  "kernelspec": {
   "display_name": "base",
   "language": "python",
   "name": "python3"
  },
  "language_info": {
   "codemirror_mode": {
    "name": "ipython",
    "version": 3
   },
   "file_extension": ".py",
   "mimetype": "text/x-python",
   "name": "python",
   "nbconvert_exporter": "python",
   "pygments_lexer": "ipython3",
   "version": "3.10.0"
  },
  "orig_nbformat": 4
 },
 "nbformat": 4,
 "nbformat_minor": 2
}
