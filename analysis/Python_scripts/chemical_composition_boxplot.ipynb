{
 "cells": [
  {
   "cell_type": "code",
   "execution_count": null,
   "metadata": {},
   "outputs": [],
   "source": [
    "import pandas as pd\n",
    "import seaborn as sns\n",
    "from matplotlib import pyplot as plt\n",
    "from rdkit import Chem"
   ]
  },
  {
   "cell_type": "code",
   "execution_count": null,
   "metadata": {},
   "outputs": [],
   "source": [
    "molecules = Chem.SDMolSupplier(\"../../data/RECETOX_GC-EI-MS_20201028.sdf\")\n",
    "top5 = pd.read_csv(\"../data/matchms_top5_comparison.tsv\", sep='\\t')"
   ]
  },
  {
   "cell_type": "code",
   "execution_count": null,
   "metadata": {},
   "outputs": [],
   "source": [
    "def is_spectrum_for_compound(compund_name, spectrum_name):\n",
    "    options = [compund_name + x for x in [\"\", \"_isomer1\", \"_isomer2\", \" isomer 1\", \" isomer 2\"]]\n",
    "    return spectrum_name in options"
   ]
  },
  {
   "cell_type": "code",
   "execution_count": null,
   "metadata": {},
   "outputs": [],
   "source": [
    "def get_matching_rows(df, query_name, reference_name):\n",
    "    return df[df.apply(lambda x: is_spectrum_for_compound(x[query_name], x[reference_name]), axis=1)]"
   ]
  },
  {
   "cell_type": "code",
   "execution_count": null,
   "metadata": {},
   "outputs": [],
   "source": [
    "def has_halogen_atoms(mol):\n",
    "    # Check if the molecule contains any halogen atoms\n",
    "    for atom in mol.GetAtoms():\n",
    "        if atom.GetSymbol() in ['F', 'Cl', 'Br', 'I']:\n",
    "            return True\n",
    "\n",
    "    return False"
   ]
  },
  {
   "cell_type": "code",
   "execution_count": null,
   "metadata": {},
   "outputs": [],
   "source": [
    "def has_atom(mol, atom):\n",
    "    for mol_atom in mol.GetAtoms():\n",
    "        if mol_atom.GetSymbol() == atom:\n",
    "            return True\n",
    "\n",
    "    return False"
   ]
  },
  {
   "cell_type": "code",
   "execution_count": null,
   "metadata": {},
   "outputs": [],
   "source": [
    "# Define a function to map the true columns to a list of names\n",
    "def get_true_names(row, df):\n",
    "    return [col for col in df.columns[11:17] if row[col]]"
   ]
  },
  {
   "cell_type": "code",
   "execution_count": null,
   "metadata": {},
   "outputs": [],
   "source": [
    "def append_classes(df,molecules,left_on):\n",
    "    class_names = pd.DataFrame({\n",
    "        \"class\" : [m.GetProp(\"Class\") for m in molecules],\n",
    "        \"superclass\" : [m.GetProp(\"Superclass\") for m in molecules],\n",
    "        \"molname\" : [m.GetProp(\"NAME\") for m in molecules],\n",
    "        \"n_atoms\" : [m.GetNumAtoms() for m in molecules],\n",
    "        \"n_bonds\" : [m.GetNumBonds() for m in molecules],\n",
    "        \"has_halogen\": [has_halogen_atoms(m) for m in molecules],\n",
    "        \"smiles\" : [m.GetProp(\"SMILES\") for m in molecules],\n",
    "        \"Cl\": [has_atom(m, 'Cl') for m in molecules],\n",
    "        \"Br\": [has_atom(m, 'Br') for m in molecules],\n",
    "        \"F\": [has_atom(m, 'F') for m in molecules],\n",
    "        \"S\": [has_atom(m, 'S') for m in molecules],\n",
    "        \"P\": [has_atom(m, 'P') for m in molecules],\n",
    "        \"Si\": [has_atom(m, 'Si') for m in molecules],\n",
    "    })\n",
    "    merged_df = pd.merge(df, class_names, left_on=left_on, right_on='molname')\n",
    "    return merged_df"
   ]
  },
  {
   "cell_type": "code",
   "execution_count": null,
   "metadata": {},
   "outputs": [],
   "source": [
    "top5_same = get_matching_rows(top5, 'query', 'reference')\n",
    "merged_top5_same = append_classes(top5_same,molecules, 'query')\n",
    "# Apply the function to each row of the DataFrame\n",
    "merged_top5_same['true_names'] = merged_top5_same.apply(lambda row: get_true_names(row, merged_top5_same), axis=1)\n",
    "# Convert the list of names to a comma-separated string\n",
    "merged_top5_same['true_names'] = merged_top5_same['true_names'].apply(lambda lst: ', '.join(lst))"
   ]
  },
  {
   "cell_type": "code",
   "execution_count": null,
   "metadata": {},
   "outputs": [],
   "source": [
    "sns.set_style(style='white')\n",
    "plt.figure(figsize=(17, 5))\n",
    "\n",
    "# Concatenate the DataFrames in df1_list and add a 'value' column with the value 'matches'.\n",
    "df1 = merged_top5_same[['query', 'reference', 'true_names', 'CosineHungarian_0.01_0.0_1.0_matches']].copy()\n",
    "\n",
    "# Concatenate the DataFrames in df2_list and add a 'value' column with the value 'scores'.\n",
    "df2 = merged_top5_same[['query', 'reference', 'true_names', 'CosineHungarian_0.01_0.0_1.0_scores']].copy()\n",
    "\n",
    "# Concatenate df1 and df2 into a single DataFrame.\n",
    "df_cat = pd.concat([df1, df2])\n",
    "mdf = pd.melt(df_cat, id_vars=['query', 'reference', 'true_names'], var_name=['Number'])      # MELT\n",
    "\n",
    "# Set the color palette\n",
    "colors = ['yellow', 'deepskyblue']\n",
    "sns.set_palette(sns.color_palette(colors))\n",
    "\n",
    "ax = sns.boxplot(x=\"true_names\", y=\"value\", hue=\"Number\", \n",
    "                data=mdf, hue_order=['CosineHungarian_0.01_0.0_1.0_matches',np.nan],\n",
    "                medianprops={'color': 'darkgreen', 'linewidth': 4.0},\n",
    "                flierprops={'marker': 'o', 'markersize': 10, 'markerfacecolor': 'none'})  # RUN PLOT   \n",
    "ax2 = ax.twinx()\n",
    "\n",
    "sns.boxplot(ax=ax2,x='true_names', y='value', hue='Number',\n",
    "            data=mdf, hue_order=[np.nan, 'CosineHungarian_0.01_0.0_1.0_scores'], \n",
    "            medianprops={'color': 'b', 'linewidth': 4.0}, \n",
    "            flierprops={'marker': 'o', 'markersize': 10, 'markerfacecolor': 'none'})\n",
    "\n",
    "ax.legend_.remove()\n",
    "ax.set_ylim([0, 6])  # Set y-axis limits\n",
    "ax.yaxis.set_major_locator(plt.MultipleLocator(1))  # Set major tick marks\n",
    "ax.set_ylabel('Match values')  # Set y-axis label\n",
    "ax.yaxis.label.set_size(20)  # Set font size of y-axis label\n",
    "ax.set_xlabel('Chemical composition', fontsize=20)  # Set x-axis label and font size\n",
    "ax.tick_params(axis='x', labelsize=13)  # Set font size of x-axis tick labels\n",
    "ax.tick_params(axis='y', labelsize=13)  # Set font size of y-axis tick labels\n",
    "ax.yaxis.labelpad = 10\n",
    "ax.xaxis.labelpad = 10\n",
    "\n",
    "# Add x-axis labels with group sizes\n",
    "grouped_df = merged_top5_same.groupby('true_names')['query'].apply(list).reset_index(name='queries')\n",
    "xticklabels = [f\"{group} ({len(x)})\" for group, x in grouped_df.values]\n",
    "ax.set_xticklabels(xticklabels, rotation=90, ha='right')\n",
    "\n",
    "ax2.legend_.remove()\n",
    "ax2.set_ylim([0, 1.2])  # Set y-axis limits\n",
    "ax2.yaxis.set_major_locator(plt.MultipleLocator(0.2))  # Set major tick marks\n",
    "ax2.set_ylabel('Score values')  # Set y-axis label\n",
    "ax2.yaxis.label.set_size(20)  # Set font size of y-axis label\n",
    "ax2.tick_params(axis='y', labelsize=12)  # Set font size of y-axis tick labels\n",
    "ax2.yaxis.labelpad = 10\n",
    "\n",
    "# Change the legend labels\n",
    "handles, labels = ax.get_legend_handles_labels()\n",
    "labels[0] = 'Matches'\n",
    "labels[1] = 'Scores'\n",
    "ax.legend(handles, labels, loc='upper right', fontsize=14)\n",
    "\n",
    "plt.savefig('../Python_scripts/chemical_composition_boxplot.png', dpi=300, bbox_inches='tight')  # SAVE PLOT AS PNG FILE\n",
    "plt.show()\n",
    "plt.clf()\n",
    "plt.close()"
   ]
  }
 ],
 "metadata": {
  "kernelspec": {
   "display_name": "base",
   "language": "python",
   "name": "python3"
  },
  "language_info": {
   "codemirror_mode": {
    "name": "ipython",
    "version": 3
   },
   "file_extension": ".py",
   "mimetype": "text/x-python",
   "name": "python",
   "nbconvert_exporter": "python",
   "pygments_lexer": "ipython3",
   "version": "3.10.2"
  },
  "orig_nbformat": 4
 },
 "nbformat": 4,
 "nbformat_minor": 2
}
