{
 "cells": [
  {
   "cell_type": "code",
   "execution_count": 65,
   "metadata": {},
   "outputs": [],
   "source": [
    "import pandas as pd\n",
    "import os\n",
    "import numpy as np\n",
    "from matplotlib import pyplot as plt\n",
    "from rdkit import Chem\n",
    "import plotly.graph_objs as go"
   ]
  },
  {
   "cell_type": "code",
   "execution_count": 66,
   "metadata": {},
   "outputs": [],
   "source": [
    "base_path = \"../data/matching/matchspectra_R\"\n",
    "base_path_a = \"../data/matching/matchms\"\n",
    "file_path1 = os.path.join(base_path, \"match_1%\", \"match_ref_norm\", \"matchSpectra_results_source_1%_tp3_norm.tsv\")\n",
    "file_path2 = os.path.join(base_path, \"match_1%\", \"match_ref_norm\", \"matchSpectra_results_source_1%_tp5_norm.tsv\")\n",
    "file_path3 = os.path.join(base_path, \"match_1%\", \"match_ref_norm\", \"matchSpectra_results_source_1%_tp10_norm.tsv\")\n",
    "file_path4 = os.path.join(base_path, \"match_1%\", \"match_ref_norm\", \"matchSpectra_results_source_1%_tp20_norm.tsv\")\n",
    "file_path5 = os.path.join(base_path, \"match_10%\", \"match_ref_norm\", \"matchSpectra_results_source_10%_tp3_norm.tsv\")\n",
    "file_path6 = os.path.join(base_path, \"match_10%\", \"match_ref_norm\", \"matchSpectra_results_source_10%_tp5_norm.tsv\")\n",
    "file_path7 = os.path.join(base_path, \"match_10%\", \"match_ref_norm\", \"matchSpectra_results_source_10%_tp10_norm.tsv\")\n",
    "file_path8 = os.path.join(base_path, \"match_10%\", \"match_ref_norm\", \"matchSpectra_results_source_10%_tp20_norm.tsv\")\n",
    "file_path9 = os.path.join(base_path, \"match_1%\", \"match_ref_norm\", \"matchSpectra_results_source_1%_all_peaks_norm.tsv\")\n",
    "file_path10 = os.path.join(base_path, \"match_10%\", \"match_ref_norm\", \"matchSpectra_results_source_10%_all_peaks_norm.tsv\")\n",
    "file_path11 = os.path.join(base_path, \"match_1%\", \"matchSpectra_results_source_1%_all_peaks.tsv\")\n",
    "file_path12 = os.path.join(base_path_a, \"matchms_1%\", \"Galaxy34-[matchms_scores_formatter_on_data_33]_1%_all_peaks_ref_norm.tsv\")"
   ]
  },
  {
   "cell_type": "code",
   "execution_count": 67,
   "metadata": {},
   "outputs": [],
   "source": [
    "data1 = pd.read_csv(file_path1, sep=\"\\t\")\n",
    "data2 = pd.read_csv(file_path2, sep=\"\\t\")\n",
    "data3 = pd.read_csv(file_path3, sep=\"\\t\")\n",
    "data4 = pd.read_csv(file_path4, sep=\"\\t\")\n",
    "data5 = pd.read_csv(file_path5, sep=\"\\t\")\n",
    "data6 = pd.read_csv(file_path6, sep=\"\\t\")\n",
    "data7 = pd.read_csv(file_path7, sep=\"\\t\")\n",
    "data8 = pd.read_csv(file_path8, sep=\"\\t\")\n",
    "data9 = pd.read_csv(file_path9, sep=\"\\t\")\n",
    "data10 = pd.read_csv(file_path10, sep=\"\\t\")\n",
    "data11 = pd.read_csv(file_path11, sep=\"\\t\")\n",
    "data12 = pd.read_csv(file_path12, sep=\"\\t\")"
   ]
  },
  {
   "cell_type": "code",
   "execution_count": 68,
   "metadata": {},
   "outputs": [],
   "source": [
    "def is_spectrum_for_compound(compund_name, spectrum_name):\n",
    "    options = [compund_name + x for x in [\"\", \"_isomer1\", \"_isomer2\", \" isomer 1\", \" isomer 2\"]]\n",
    "    return spectrum_name in options\n",
    "\n",
    "def get_matching_rows(df, query_name, reference_name):\n",
    "    return df[df.apply(lambda x: is_spectrum_for_compound(x[query_name], x[reference_name]), axis=1)]"
   ]
  },
  {
   "cell_type": "code",
   "execution_count": 69,
   "metadata": {},
   "outputs": [],
   "source": [
    "#same_query_ref = results.loc[results['query'] == results['reference']]\n",
    "same_query_ref1 = get_matching_rows(data1, 'name', 'target_name')\n",
    "same_query_ref2 = get_matching_rows(data2, 'name', 'target_name')\n",
    "same_query_ref3 = get_matching_rows(data3, 'name', 'target_name')\n",
    "same_query_ref4 = get_matching_rows(data4, 'name', 'target_name')\n",
    "same_query_ref5 = get_matching_rows(data5, 'name', 'target_name')\n",
    "same_query_ref6 = get_matching_rows(data6, 'name', 'target_name')\n",
    "same_query_ref7 = get_matching_rows(data7, 'name', 'target_name')\n",
    "same_query_ref8 = get_matching_rows(data8, 'name', 'target_name')\n",
    "same_query_ref9 = get_matching_rows(data9, 'name', 'target_name')\n",
    "same_query_ref10 = get_matching_rows(data10, 'name', 'target_name')\n",
    "same_query_ref11 = get_matching_rows(data11, 'name', 'target_name')\n",
    "same_query_ref12 = get_matching_rows(data12, 'query', 'reference')\n",
    "\n",
    "#same_query_ref.to_csv(\"/home/wrojas/dev/RECETOX/ei_spectra_predictions/analysis/data/same_query_matchSpectra_results_source_0.1_int.tsv\", sep='\\t', index=False)"
   ]
  },
  {
   "cell_type": "code",
   "execution_count": 70,
   "metadata": {},
   "outputs": [],
   "source": [
    "def plot_histograms_sidebyside(same_query_ref1, same_query_ref2, same_query_ref3, same_query_ref4, same_query_ref5, column_name, xaxis_title='', title=''):\n",
    "    # Define number of bins\n",
    "    n_bins = 10\n",
    "\n",
    "    # Create data arrays\n",
    "    x1 = same_query_ref1[column_name]\n",
    "    x2 = same_query_ref2[column_name]\n",
    "    x3 = same_query_ref3[column_name]\n",
    "    x4 = same_query_ref4[column_name]\n",
    "    x5 = same_query_ref5[column_name]\n",
    "\n",
    "    # Create histogram traces\n",
    "    trace1 = go.Histogram(x=x1, nbinsx=n_bins, name='All peaks ({})'.format(len(x1)), xbins=dict(start=0, end=1))\n",
    "    trace2 = go.Histogram(x=x2, nbinsx=n_bins, name='Top 3 peaks ({})'.format(len(x2)), xbins=dict(start=0, end=1))\n",
    "    trace3 = go.Histogram(x=x3, nbinsx=n_bins, name='Top 5 peaks ({})'.format(len(x3)), xbins=dict(start=0, end=1))\n",
    "    trace4 = go.Histogram(x=x4, nbinsx=n_bins, name='Top 10 peaks ({})'.format(len(x4)), xbins=dict(start=0, end=1))\n",
    "    trace5 = go.Histogram(x=x5, nbinsx=n_bins, name='Top 20 peaks ({})'.format(len(x5)), xbins=dict(start=0, end=1))\n",
    "\n",
    "    # Create layout\n",
    "    layout = go.Layout(title=title,\n",
    "                       xaxis=dict(title=xaxis_title, range=[0, 1], dtick=0.1, tickfont=dict(size=15)),\n",
    "                       yaxis=dict(title='Frequency', range=[0, 140], tickfont=dict(size=15)),\n",
    "                       legend=dict(x=0.81, y=1.0),\n",
    "                       font=dict(size=17))\n",
    "\n",
    "    # Create figure\n",
    "    fig = go.Figure(data=[trace1, trace2, trace3, trace4, trace5], layout=layout)\n",
    "\n",
    "    # Display the plot\n",
    "    fig.show()"
   ]
  },
  {
   "cell_type": "code",
   "execution_count": 71,
   "metadata": {},
   "outputs": [
    {
     "data": {
      "application/vnd.plotly.v1+json": {
       "config": {
        "plotlyServerURL": "https://plot.ly"
       },
       "data": [
        {
         "name": "All peaks (330)",
         "nbinsx": 20,
         "type": "histogram",
         "x": [
          0.4940353292323322,
          0.5071089945788163,
          0.6306819802746728,
          0.4366989158670853,
          0.0836874412127453,
          0.4062292827749889,
          0.4439160594091295,
          0.3737133431768593,
          0.1861896051867452,
          0.4661848920419308,
          0.472325609595411,
          0.2944892109552584,
          0.5064101931604739,
          0.36047142709984,
          0.2900427774182962,
          0.3786848020873258,
          0.5729887895626942,
          0.565418140709986,
          0.5636097764539978,
          0.4477338318407765,
          0.3258449549652295,
          0.412762425485261,
          0.4066896278125051,
          0.425931307631809,
          0.3839281166846376,
          0.5578467658507694,
          0.2886291866491196,
          0.5020722376897474,
          0.6140684910531654,
          0.6596760353313516,
          0.630901842744104,
          0.6627887648598799,
          0.6353999629576605,
          0.6860882970079614,
          0.6462396186303485,
          0.6301738825924472,
          0.6431199463375482,
          0.6132141782853834,
          0.59583210112403,
          0.5976034475763301,
          0.6929675070272331,
          0.6800747514736483,
          0.6641701049396471,
          0.5874496557699713,
          0.6574531612187392,
          0.2334896476986933,
          0.1645011993530116,
          0.3940961210345458,
          0.4820676620627178,
          0.3220948269956496,
          0.2323871350781572,
          0.3707998610893424,
          0.2810043018110792,
          0.1670809083874091,
          0.4156740250487841,
          0.2548222780899083,
          0.3263791123017002,
          0.2482203863259651,
          0.0805189593859909,
          0.0478595665624923,
          0.3348996364004004,
          0.3333145618652804,
          0.3379625812855381,
          0.1853323497696768,
          0.2970131042482268,
          0.2702273373270351,
          0.1878611317406451,
          0.1863941589824667,
          0.1468675783323667,
          0.12313313352969,
          0.1657597057458303,
          0.2061489826309625,
          0.0632610591310326,
          0.0954247005001129,
          0.5545282081502676,
          0.5168791956087231,
          0.713321906957951,
          0.6023357470354949,
          0.7317574544682675,
          0.4207876922702542,
          0.5087595189326203,
          0.1057361418409441,
          0.3241602673267225,
          0.2178843359010351,
          0.2264298931796647,
          0.3768353821412607,
          0.4931533097414917,
          0.1795430026141442,
          0.4134824832927445,
          0.3731720220425659,
          0.0438394306889881,
          0.5001770785409978,
          0.4005898038702381,
          0.3640160796798363,
          0.3485077821288395,
          0.4962893469600999,
          0.6366519812313227,
          0.6616573335687449,
          0.477183468747072,
          0.666201484666203,
          0.423344546254853,
          0.4198649693043874,
          0.4296596702190277,
          0.4981748220593057,
          0.5666773163835418,
          0.5736380814040255,
          0.5248913504360848,
          0.4675582002244095,
          0.5725818538285004,
          0.6024000279638518,
          0.4985890382808786,
          0.5044653533172416,
          0.489044622235977,
          0.2678316952932794,
          0.5142971532355118,
          0.4776670899897558,
          0.2661192024436614,
          0.55864522877104,
          0.4881366718856475,
          0.4058037967667574,
          0.4129225077315992,
          0.544274525705052,
          0.5696433825454997,
          0.391003009036497,
          0.313572411083155,
          0.5708067217724381,
          0.49978286311058,
          0.4416359463726236,
          0.444739162679558,
          0.3656547720031396,
          0.0121188815396703,
          0.3169351424183532,
          0.465884326804137,
          0.389171501512461,
          0.1317470791482309,
          0.2568944510751097,
          0.4650394202281804,
          0.1432464795622464,
          0.249879644107747,
          0.1966466536081104,
          0.0938109042036214,
          0.4325328084067116,
          0.4551638207627713,
          0.2169343193888612,
          0.5871303390685136,
          0.5761275892173732,
          0.6969961413124046,
          0.4868688561166256,
          0.5374872509605991,
          0.626518599402058,
          0.5620447074036277,
          0.5565060501827099,
          0.6477908359999904,
          0.5256578087228267,
          0.555410625638646,
          0.5067707450963439,
          0.1020871052459545,
          0.4153707861027699,
          0.3472811637797578,
          0.2058291836474946,
          0.4394675693728272,
          0.4601210286711148,
          0.1679605443731821,
          0.324369478072666,
          0.412089292521703,
          0.3582654213169912,
          0.3814966010350037,
          0.2735027034523828,
          0.217808119542639,
          0.2357931895651458,
          0.4136093918636584,
          0.6219827304298545,
          0.4832882768921144,
          0.6233068675762933,
          0.5713367331011387,
          0.6540258559214251,
          0.6267806276480226,
          0.6647271259766702,
          0.6570272368776182,
          0.7113843150265311,
          0.6768069032844554,
          0.544063611633357,
          0.7035617087018087,
          0.6091217440320508,
          0.4642717154709386,
          0.4411438724318535,
          0.4214937580283969,
          0.6387644125983921,
          0.3371002874338448,
          0.4341408888084808,
          0.3550070870758812,
          0.3270579247409442,
          0.0202370517348872,
          0.4825775654096118,
          0.2883714920629618,
          0.269602089344512,
          0.0753671768185577,
          0.3098901241174513,
          0.3709240127504062,
          0.1284321281922181,
          0.306882171530588,
          0.0345832279414045,
          0.2714564070042328,
          0.3909958448272831,
          0.3000812261284031,
          0.2421819912310679,
          0.2095410209113813,
          0.3040240338907207,
          0.6507121004527088,
          0.1824065659059251,
          0.2622224075803303,
          0.4821480600293685,
          0.2990175386515136,
          0.3368936357657658,
          0.5011303983992776,
          0.4650487930462633,
          0.4882142528311982,
          0.2740176999680666,
          0.3374404761396075,
          0.515936659634382,
          0.3430256143127843,
          0.2054205375843095,
          0.4191935048194183,
          0.2185378816351702,
          0.2599520810480119,
          0.4867428234869002,
          0.3386711674162986,
          0.3133184983947327,
          0.363455200894198,
          0.3123888997470099,
          0.4892998821267794,
          0.4321173053865189,
          0.4571624036648085,
          0.0730349575066562,
          0.5669253123219714,
          0.4380035415560522,
          0.4464147978087665,
          0.2509784929271615,
          0.3109273791286632,
          0.4936679408364491,
          0.446353568622383,
          0.3780520612954022,
          0.3855449476846548,
          0.4644720591751667,
          0.3199627909650291,
          0.3754052627780124,
          0.3016860664979982,
          0.2820546505458999,
          0.2993516066163577,
          0.5426176751096784,
          0.3748515769310092,
          0.6298851451175624,
          0.3684461305739321,
          0.581941945039656,
          0.3831307299543442,
          0.3150954452504137,
          0.4554074377960219,
          0.5852919608322318,
          0.3907406846392784,
          0.1065961957260648,
          0.1154047314662102,
          0.5290434323224581,
          0.4974613905259519,
          0.4746795345387416,
          0.455629327446194,
          0.1754724279317879,
          0.3238789976590302,
          0.3706464925984672,
          0.2079341968862413,
          0.2934628443674582,
          0.4851515670222697,
          0.577331954958243,
          0.2297655197490534,
          0.3880681550120869,
          0.3584018189362307,
          0.367060017797281,
          0.3253128738060448,
          0.2477779206586191,
          0.5288838525205587,
          0.3573762382622646,
          0.3839363905763507,
          0.20529245958516,
          0.1536355428184442,
          0.5417835993699084,
          0.35034974993249,
          0.4772354636012323,
          0.4206800084923079,
          0.3076970275562329,
          0.3448176734916753,
          0.3341554311317183,
          0.2958604079917215,
          0.2949934821448765,
          0.3681844260039862,
          0.3705859746297801,
          0.3365496202975299,
          0.4048570959409703,
          0.3316520455999881,
          0.2657926202073599,
          0.1596862464576067,
          0.3935633939142784,
          0.5353580483102316,
          0.2557526686091035,
          0.2727474624664477,
          0.2284762036243875,
          0.3599736744579838,
          0.4844687122490591,
          0.4135247861616463,
          0.3237906474603035,
          0.2548091469986697,
          0.3729849010655184,
          0.3396809393262526,
          0.2925927865556886,
          0.2957989681454904,
          0.088361366537463,
          0.3157310670657005,
          0.3128788991176177,
          0.350431458190673,
          0.3538280502868259,
          0.2467021327264324,
          0.3385637956166136,
          0.0344895240921788,
          0.4044876369862488,
          0.2104483086061399,
          0.5237269916200553,
          0.3377330999269844,
          0.4478040619706573,
          0.6032675618827826,
          0.4922439864078944,
          0.4279812065928212,
          0.4231823294947878
         ],
         "xbins": {
          "end": 1,
          "start": 0
         }
        }
       ],
       "layout": {
        "font": {
         "size": 17
        },
        "legend": {
         "x": 0.81,
         "y": 1
        },
        "template": {
         "data": {
          "bar": [
           {
            "error_x": {
             "color": "#2a3f5f"
            },
            "error_y": {
             "color": "#2a3f5f"
            },
            "marker": {
             "line": {
              "color": "#E5ECF6",
              "width": 0.5
             },
             "pattern": {
              "fillmode": "overlay",
              "size": 10,
              "solidity": 0.2
             }
            },
            "type": "bar"
           }
          ],
          "barpolar": [
           {
            "marker": {
             "line": {
              "color": "#E5ECF6",
              "width": 0.5
             },
             "pattern": {
              "fillmode": "overlay",
              "size": 10,
              "solidity": 0.2
             }
            },
            "type": "barpolar"
           }
          ],
          "carpet": [
           {
            "aaxis": {
             "endlinecolor": "#2a3f5f",
             "gridcolor": "white",
             "linecolor": "white",
             "minorgridcolor": "white",
             "startlinecolor": "#2a3f5f"
            },
            "baxis": {
             "endlinecolor": "#2a3f5f",
             "gridcolor": "white",
             "linecolor": "white",
             "minorgridcolor": "white",
             "startlinecolor": "#2a3f5f"
            },
            "type": "carpet"
           }
          ],
          "choropleth": [
           {
            "colorbar": {
             "outlinewidth": 0,
             "ticks": ""
            },
            "type": "choropleth"
           }
          ],
          "contour": [
           {
            "colorbar": {
             "outlinewidth": 0,
             "ticks": ""
            },
            "colorscale": [
             [
              0,
              "#0d0887"
             ],
             [
              0.1111111111111111,
              "#46039f"
             ],
             [
              0.2222222222222222,
              "#7201a8"
             ],
             [
              0.3333333333333333,
              "#9c179e"
             ],
             [
              0.4444444444444444,
              "#bd3786"
             ],
             [
              0.5555555555555556,
              "#d8576b"
             ],
             [
              0.6666666666666666,
              "#ed7953"
             ],
             [
              0.7777777777777778,
              "#fb9f3a"
             ],
             [
              0.8888888888888888,
              "#fdca26"
             ],
             [
              1,
              "#f0f921"
             ]
            ],
            "type": "contour"
           }
          ],
          "contourcarpet": [
           {
            "colorbar": {
             "outlinewidth": 0,
             "ticks": ""
            },
            "type": "contourcarpet"
           }
          ],
          "heatmap": [
           {
            "colorbar": {
             "outlinewidth": 0,
             "ticks": ""
            },
            "colorscale": [
             [
              0,
              "#0d0887"
             ],
             [
              0.1111111111111111,
              "#46039f"
             ],
             [
              0.2222222222222222,
              "#7201a8"
             ],
             [
              0.3333333333333333,
              "#9c179e"
             ],
             [
              0.4444444444444444,
              "#bd3786"
             ],
             [
              0.5555555555555556,
              "#d8576b"
             ],
             [
              0.6666666666666666,
              "#ed7953"
             ],
             [
              0.7777777777777778,
              "#fb9f3a"
             ],
             [
              0.8888888888888888,
              "#fdca26"
             ],
             [
              1,
              "#f0f921"
             ]
            ],
            "type": "heatmap"
           }
          ],
          "heatmapgl": [
           {
            "colorbar": {
             "outlinewidth": 0,
             "ticks": ""
            },
            "colorscale": [
             [
              0,
              "#0d0887"
             ],
             [
              0.1111111111111111,
              "#46039f"
             ],
             [
              0.2222222222222222,
              "#7201a8"
             ],
             [
              0.3333333333333333,
              "#9c179e"
             ],
             [
              0.4444444444444444,
              "#bd3786"
             ],
             [
              0.5555555555555556,
              "#d8576b"
             ],
             [
              0.6666666666666666,
              "#ed7953"
             ],
             [
              0.7777777777777778,
              "#fb9f3a"
             ],
             [
              0.8888888888888888,
              "#fdca26"
             ],
             [
              1,
              "#f0f921"
             ]
            ],
            "type": "heatmapgl"
           }
          ],
          "histogram": [
           {
            "marker": {
             "pattern": {
              "fillmode": "overlay",
              "size": 10,
              "solidity": 0.2
             }
            },
            "type": "histogram"
           }
          ],
          "histogram2d": [
           {
            "colorbar": {
             "outlinewidth": 0,
             "ticks": ""
            },
            "colorscale": [
             [
              0,
              "#0d0887"
             ],
             [
              0.1111111111111111,
              "#46039f"
             ],
             [
              0.2222222222222222,
              "#7201a8"
             ],
             [
              0.3333333333333333,
              "#9c179e"
             ],
             [
              0.4444444444444444,
              "#bd3786"
             ],
             [
              0.5555555555555556,
              "#d8576b"
             ],
             [
              0.6666666666666666,
              "#ed7953"
             ],
             [
              0.7777777777777778,
              "#fb9f3a"
             ],
             [
              0.8888888888888888,
              "#fdca26"
             ],
             [
              1,
              "#f0f921"
             ]
            ],
            "type": "histogram2d"
           }
          ],
          "histogram2dcontour": [
           {
            "colorbar": {
             "outlinewidth": 0,
             "ticks": ""
            },
            "colorscale": [
             [
              0,
              "#0d0887"
             ],
             [
              0.1111111111111111,
              "#46039f"
             ],
             [
              0.2222222222222222,
              "#7201a8"
             ],
             [
              0.3333333333333333,
              "#9c179e"
             ],
             [
              0.4444444444444444,
              "#bd3786"
             ],
             [
              0.5555555555555556,
              "#d8576b"
             ],
             [
              0.6666666666666666,
              "#ed7953"
             ],
             [
              0.7777777777777778,
              "#fb9f3a"
             ],
             [
              0.8888888888888888,
              "#fdca26"
             ],
             [
              1,
              "#f0f921"
             ]
            ],
            "type": "histogram2dcontour"
           }
          ],
          "mesh3d": [
           {
            "colorbar": {
             "outlinewidth": 0,
             "ticks": ""
            },
            "type": "mesh3d"
           }
          ],
          "parcoords": [
           {
            "line": {
             "colorbar": {
              "outlinewidth": 0,
              "ticks": ""
             }
            },
            "type": "parcoords"
           }
          ],
          "pie": [
           {
            "automargin": true,
            "type": "pie"
           }
          ],
          "scatter": [
           {
            "fillpattern": {
             "fillmode": "overlay",
             "size": 10,
             "solidity": 0.2
            },
            "type": "scatter"
           }
          ],
          "scatter3d": [
           {
            "line": {
             "colorbar": {
              "outlinewidth": 0,
              "ticks": ""
             }
            },
            "marker": {
             "colorbar": {
              "outlinewidth": 0,
              "ticks": ""
             }
            },
            "type": "scatter3d"
           }
          ],
          "scattercarpet": [
           {
            "marker": {
             "colorbar": {
              "outlinewidth": 0,
              "ticks": ""
             }
            },
            "type": "scattercarpet"
           }
          ],
          "scattergeo": [
           {
            "marker": {
             "colorbar": {
              "outlinewidth": 0,
              "ticks": ""
             }
            },
            "type": "scattergeo"
           }
          ],
          "scattergl": [
           {
            "marker": {
             "colorbar": {
              "outlinewidth": 0,
              "ticks": ""
             }
            },
            "type": "scattergl"
           }
          ],
          "scattermapbox": [
           {
            "marker": {
             "colorbar": {
              "outlinewidth": 0,
              "ticks": ""
             }
            },
            "type": "scattermapbox"
           }
          ],
          "scatterpolar": [
           {
            "marker": {
             "colorbar": {
              "outlinewidth": 0,
              "ticks": ""
             }
            },
            "type": "scatterpolar"
           }
          ],
          "scatterpolargl": [
           {
            "marker": {
             "colorbar": {
              "outlinewidth": 0,
              "ticks": ""
             }
            },
            "type": "scatterpolargl"
           }
          ],
          "scatterternary": [
           {
            "marker": {
             "colorbar": {
              "outlinewidth": 0,
              "ticks": ""
             }
            },
            "type": "scatterternary"
           }
          ],
          "surface": [
           {
            "colorbar": {
             "outlinewidth": 0,
             "ticks": ""
            },
            "colorscale": [
             [
              0,
              "#0d0887"
             ],
             [
              0.1111111111111111,
              "#46039f"
             ],
             [
              0.2222222222222222,
              "#7201a8"
             ],
             [
              0.3333333333333333,
              "#9c179e"
             ],
             [
              0.4444444444444444,
              "#bd3786"
             ],
             [
              0.5555555555555556,
              "#d8576b"
             ],
             [
              0.6666666666666666,
              "#ed7953"
             ],
             [
              0.7777777777777778,
              "#fb9f3a"
             ],
             [
              0.8888888888888888,
              "#fdca26"
             ],
             [
              1,
              "#f0f921"
             ]
            ],
            "type": "surface"
           }
          ],
          "table": [
           {
            "cells": {
             "fill": {
              "color": "#EBF0F8"
             },
             "line": {
              "color": "white"
             }
            },
            "header": {
             "fill": {
              "color": "#C8D4E3"
             },
             "line": {
              "color": "white"
             }
            },
            "type": "table"
           }
          ]
         },
         "layout": {
          "annotationdefaults": {
           "arrowcolor": "#2a3f5f",
           "arrowhead": 0,
           "arrowwidth": 1
          },
          "autotypenumbers": "strict",
          "coloraxis": {
           "colorbar": {
            "outlinewidth": 0,
            "ticks": ""
           }
          },
          "colorscale": {
           "diverging": [
            [
             0,
             "#8e0152"
            ],
            [
             0.1,
             "#c51b7d"
            ],
            [
             0.2,
             "#de77ae"
            ],
            [
             0.3,
             "#f1b6da"
            ],
            [
             0.4,
             "#fde0ef"
            ],
            [
             0.5,
             "#f7f7f7"
            ],
            [
             0.6,
             "#e6f5d0"
            ],
            [
             0.7,
             "#b8e186"
            ],
            [
             0.8,
             "#7fbc41"
            ],
            [
             0.9,
             "#4d9221"
            ],
            [
             1,
             "#276419"
            ]
           ],
           "sequential": [
            [
             0,
             "#0d0887"
            ],
            [
             0.1111111111111111,
             "#46039f"
            ],
            [
             0.2222222222222222,
             "#7201a8"
            ],
            [
             0.3333333333333333,
             "#9c179e"
            ],
            [
             0.4444444444444444,
             "#bd3786"
            ],
            [
             0.5555555555555556,
             "#d8576b"
            ],
            [
             0.6666666666666666,
             "#ed7953"
            ],
            [
             0.7777777777777778,
             "#fb9f3a"
            ],
            [
             0.8888888888888888,
             "#fdca26"
            ],
            [
             1,
             "#f0f921"
            ]
           ],
           "sequentialminus": [
            [
             0,
             "#0d0887"
            ],
            [
             0.1111111111111111,
             "#46039f"
            ],
            [
             0.2222222222222222,
             "#7201a8"
            ],
            [
             0.3333333333333333,
             "#9c179e"
            ],
            [
             0.4444444444444444,
             "#bd3786"
            ],
            [
             0.5555555555555556,
             "#d8576b"
            ],
            [
             0.6666666666666666,
             "#ed7953"
            ],
            [
             0.7777777777777778,
             "#fb9f3a"
            ],
            [
             0.8888888888888888,
             "#fdca26"
            ],
            [
             1,
             "#f0f921"
            ]
           ]
          },
          "colorway": [
           "#636efa",
           "#EF553B",
           "#00cc96",
           "#ab63fa",
           "#FFA15A",
           "#19d3f3",
           "#FF6692",
           "#B6E880",
           "#FF97FF",
           "#FECB52"
          ],
          "font": {
           "color": "#2a3f5f"
          },
          "geo": {
           "bgcolor": "white",
           "lakecolor": "white",
           "landcolor": "#E5ECF6",
           "showlakes": true,
           "showland": true,
           "subunitcolor": "white"
          },
          "hoverlabel": {
           "align": "left"
          },
          "hovermode": "closest",
          "mapbox": {
           "style": "light"
          },
          "paper_bgcolor": "white",
          "plot_bgcolor": "#E5ECF6",
          "polar": {
           "angularaxis": {
            "gridcolor": "white",
            "linecolor": "white",
            "ticks": ""
           },
           "bgcolor": "#E5ECF6",
           "radialaxis": {
            "gridcolor": "white",
            "linecolor": "white",
            "ticks": ""
           }
          },
          "scene": {
           "xaxis": {
            "backgroundcolor": "#E5ECF6",
            "gridcolor": "white",
            "gridwidth": 2,
            "linecolor": "white",
            "showbackground": true,
            "ticks": "",
            "zerolinecolor": "white"
           },
           "yaxis": {
            "backgroundcolor": "#E5ECF6",
            "gridcolor": "white",
            "gridwidth": 2,
            "linecolor": "white",
            "showbackground": true,
            "ticks": "",
            "zerolinecolor": "white"
           },
           "zaxis": {
            "backgroundcolor": "#E5ECF6",
            "gridcolor": "white",
            "gridwidth": 2,
            "linecolor": "white",
            "showbackground": true,
            "ticks": "",
            "zerolinecolor": "white"
           }
          },
          "shapedefaults": {
           "line": {
            "color": "#2a3f5f"
           }
          },
          "ternary": {
           "aaxis": {
            "gridcolor": "white",
            "linecolor": "white",
            "ticks": ""
           },
           "baxis": {
            "gridcolor": "white",
            "linecolor": "white",
            "ticks": ""
           },
           "bgcolor": "#E5ECF6",
           "caxis": {
            "gridcolor": "white",
            "linecolor": "white",
            "ticks": ""
           }
          },
          "title": {
           "x": 0.05
          },
          "xaxis": {
           "automargin": true,
           "gridcolor": "white",
           "linecolor": "white",
           "ticks": "",
           "title": {
            "standoff": 15
           },
           "zerolinecolor": "white",
           "zerolinewidth": 2
          },
          "yaxis": {
           "automargin": true,
           "gridcolor": "white",
           "linecolor": "white",
           "ticks": "",
           "title": {
            "standoff": 15
           },
           "zerolinecolor": "white",
           "zerolinewidth": 2
          }
         }
        },
        "title": {
         "text": ""
        },
        "xaxis": {
         "dtick": 0.1,
         "range": [
          0,
          1
         ],
         "tickfont": {
          "size": 15
         },
         "title": {
          "text": ""
         }
        },
        "yaxis": {
         "range": [
          0,
          140
         ],
         "tickfont": {
          "size": 15
         },
         "title": {
          "text": "Frequency"
         }
        }
       }
      },
      "text/html": [
       "<div>                            <div id=\"6b5f536f-1474-4d6b-a33c-36b09ebb16d2\" class=\"plotly-graph-div\" style=\"height:525px; width:100%;\"></div>            <script type=\"text/javascript\">                require([\"plotly\"], function(Plotly) {                    window.PLOTLYENV=window.PLOTLYENV || {};                                    if (document.getElementById(\"6b5f536f-1474-4d6b-a33c-36b09ebb16d2\")) {                    Plotly.newPlot(                        \"6b5f536f-1474-4d6b-a33c-36b09ebb16d2\",                        [{\"name\":\"All peaks (330)\",\"nbinsx\":20,\"x\":[0.4940353292323322,0.5071089945788163,0.6306819802746728,0.4366989158670853,0.0836874412127453,0.4062292827749889,0.4439160594091295,0.3737133431768593,0.1861896051867452,0.4661848920419308,0.472325609595411,0.2944892109552584,0.5064101931604739,0.36047142709984,0.2900427774182962,0.3786848020873258,0.5729887895626942,0.565418140709986,0.5636097764539978,0.4477338318407765,0.3258449549652295,0.412762425485261,0.4066896278125051,0.425931307631809,0.3839281166846376,0.5578467658507694,0.2886291866491196,0.5020722376897474,0.6140684910531654,0.6596760353313516,0.630901842744104,0.6627887648598799,0.6353999629576605,0.6860882970079614,0.6462396186303485,0.6301738825924472,0.6431199463375482,0.6132141782853834,0.59583210112403,0.5976034475763301,0.6929675070272331,0.6800747514736483,0.6641701049396471,0.5874496557699713,0.6574531612187392,0.2334896476986933,0.1645011993530116,0.3940961210345458,0.4820676620627178,0.3220948269956496,0.2323871350781572,0.3707998610893424,0.2810043018110792,0.1670809083874091,0.4156740250487841,0.2548222780899083,0.3263791123017002,0.2482203863259651,0.0805189593859909,0.0478595665624923,0.3348996364004004,0.3333145618652804,0.3379625812855381,0.1853323497696768,0.2970131042482268,0.2702273373270351,0.1878611317406451,0.1863941589824667,0.1468675783323667,0.12313313352969,0.1657597057458303,0.2061489826309625,0.0632610591310326,0.0954247005001129,0.5545282081502676,0.5168791956087231,0.713321906957951,0.6023357470354949,0.7317574544682675,0.4207876922702542,0.5087595189326203,0.1057361418409441,0.3241602673267225,0.2178843359010351,0.2264298931796647,0.3768353821412607,0.4931533097414917,0.1795430026141442,0.4134824832927445,0.3731720220425659,0.0438394306889881,0.5001770785409978,0.4005898038702381,0.3640160796798363,0.3485077821288395,0.4962893469600999,0.6366519812313227,0.6616573335687449,0.477183468747072,0.666201484666203,0.423344546254853,0.4198649693043874,0.4296596702190277,0.4981748220593057,0.5666773163835418,0.5736380814040255,0.5248913504360848,0.4675582002244095,0.5725818538285004,0.6024000279638518,0.4985890382808786,0.5044653533172416,0.489044622235977,0.2678316952932794,0.5142971532355118,0.4776670899897558,0.2661192024436614,0.55864522877104,0.4881366718856475,0.4058037967667574,0.4129225077315992,0.544274525705052,0.5696433825454997,0.391003009036497,0.313572411083155,0.5708067217724381,0.49978286311058,0.4416359463726236,0.444739162679558,0.3656547720031396,0.0121188815396703,0.3169351424183532,0.465884326804137,0.389171501512461,0.1317470791482309,0.2568944510751097,0.4650394202281804,0.1432464795622464,0.249879644107747,0.1966466536081104,0.0938109042036214,0.4325328084067116,0.4551638207627713,0.2169343193888612,0.5871303390685136,0.5761275892173732,0.6969961413124046,0.4868688561166256,0.5374872509605991,0.626518599402058,0.5620447074036277,0.5565060501827099,0.6477908359999904,0.5256578087228267,0.555410625638646,0.5067707450963439,0.1020871052459545,0.4153707861027699,0.3472811637797578,0.2058291836474946,0.4394675693728272,0.4601210286711148,0.1679605443731821,0.324369478072666,0.412089292521703,0.3582654213169912,0.3814966010350037,0.2735027034523828,0.217808119542639,0.2357931895651458,0.4136093918636584,0.6219827304298545,0.4832882768921144,0.6233068675762933,0.5713367331011387,0.6540258559214251,0.6267806276480226,0.6647271259766702,0.6570272368776182,0.7113843150265311,0.6768069032844554,0.544063611633357,0.7035617087018087,0.6091217440320508,0.4642717154709386,0.4411438724318535,0.4214937580283969,0.6387644125983921,0.3371002874338448,0.4341408888084808,0.3550070870758812,0.3270579247409442,0.0202370517348872,0.4825775654096118,0.2883714920629618,0.269602089344512,0.0753671768185577,0.3098901241174513,0.3709240127504062,0.1284321281922181,0.306882171530588,0.0345832279414045,0.2714564070042328,0.3909958448272831,0.3000812261284031,0.2421819912310679,0.2095410209113813,0.3040240338907207,0.6507121004527088,0.1824065659059251,0.2622224075803303,0.4821480600293685,0.2990175386515136,0.3368936357657658,0.5011303983992776,0.4650487930462633,0.4882142528311982,0.2740176999680666,0.3374404761396075,0.515936659634382,0.3430256143127843,0.2054205375843095,0.4191935048194183,0.2185378816351702,0.2599520810480119,0.4867428234869002,0.3386711674162986,0.3133184983947327,0.363455200894198,0.3123888997470099,0.4892998821267794,0.4321173053865189,0.4571624036648085,0.0730349575066562,0.5669253123219714,0.4380035415560522,0.4464147978087665,0.2509784929271615,0.3109273791286632,0.4936679408364491,0.446353568622383,0.3780520612954022,0.3855449476846548,0.4644720591751667,0.3199627909650291,0.3754052627780124,0.3016860664979982,0.2820546505458999,0.2993516066163577,0.5426176751096784,0.3748515769310092,0.6298851451175624,0.3684461305739321,0.581941945039656,0.3831307299543442,0.3150954452504137,0.4554074377960219,0.5852919608322318,0.3907406846392784,0.1065961957260648,0.1154047314662102,0.5290434323224581,0.4974613905259519,0.4746795345387416,0.455629327446194,0.1754724279317879,0.3238789976590302,0.3706464925984672,0.2079341968862413,0.2934628443674582,0.4851515670222697,0.577331954958243,0.2297655197490534,0.3880681550120869,0.3584018189362307,0.367060017797281,0.3253128738060448,0.2477779206586191,0.5288838525205587,0.3573762382622646,0.3839363905763507,0.20529245958516,0.1536355428184442,0.5417835993699084,0.35034974993249,0.4772354636012323,0.4206800084923079,0.3076970275562329,0.3448176734916753,0.3341554311317183,0.2958604079917215,0.2949934821448765,0.3681844260039862,0.3705859746297801,0.3365496202975299,0.4048570959409703,0.3316520455999881,0.2657926202073599,0.1596862464576067,0.3935633939142784,0.5353580483102316,0.2557526686091035,0.2727474624664477,0.2284762036243875,0.3599736744579838,0.4844687122490591,0.4135247861616463,0.3237906474603035,0.2548091469986697,0.3729849010655184,0.3396809393262526,0.2925927865556886,0.2957989681454904,0.088361366537463,0.3157310670657005,0.3128788991176177,0.350431458190673,0.3538280502868259,0.2467021327264324,0.3385637956166136,0.0344895240921788,0.4044876369862488,0.2104483086061399,0.5237269916200553,0.3377330999269844,0.4478040619706573,0.6032675618827826,0.4922439864078944,0.4279812065928212,0.4231823294947878],\"xbins\":{\"end\":1,\"start\":0},\"type\":\"histogram\"}],                        {\"font\":{\"size\":17},\"legend\":{\"x\":0.81,\"y\":1.0},\"title\":{\"text\":\"\"},\"xaxis\":{\"dtick\":0.1,\"range\":[0,1],\"tickfont\":{\"size\":15},\"title\":{\"text\":\"\"}},\"yaxis\":{\"range\":[0,140],\"tickfont\":{\"size\":15},\"title\":{\"text\":\"Frequency\"}},\"template\":{\"data\":{\"histogram2dcontour\":[{\"type\":\"histogram2dcontour\",\"colorbar\":{\"outlinewidth\":0,\"ticks\":\"\"},\"colorscale\":[[0.0,\"#0d0887\"],[0.1111111111111111,\"#46039f\"],[0.2222222222222222,\"#7201a8\"],[0.3333333333333333,\"#9c179e\"],[0.4444444444444444,\"#bd3786\"],[0.5555555555555556,\"#d8576b\"],[0.6666666666666666,\"#ed7953\"],[0.7777777777777778,\"#fb9f3a\"],[0.8888888888888888,\"#fdca26\"],[1.0,\"#f0f921\"]]}],\"choropleth\":[{\"type\":\"choropleth\",\"colorbar\":{\"outlinewidth\":0,\"ticks\":\"\"}}],\"histogram2d\":[{\"type\":\"histogram2d\",\"colorbar\":{\"outlinewidth\":0,\"ticks\":\"\"},\"colorscale\":[[0.0,\"#0d0887\"],[0.1111111111111111,\"#46039f\"],[0.2222222222222222,\"#7201a8\"],[0.3333333333333333,\"#9c179e\"],[0.4444444444444444,\"#bd3786\"],[0.5555555555555556,\"#d8576b\"],[0.6666666666666666,\"#ed7953\"],[0.7777777777777778,\"#fb9f3a\"],[0.8888888888888888,\"#fdca26\"],[1.0,\"#f0f921\"]]}],\"heatmap\":[{\"type\":\"heatmap\",\"colorbar\":{\"outlinewidth\":0,\"ticks\":\"\"},\"colorscale\":[[0.0,\"#0d0887\"],[0.1111111111111111,\"#46039f\"],[0.2222222222222222,\"#7201a8\"],[0.3333333333333333,\"#9c179e\"],[0.4444444444444444,\"#bd3786\"],[0.5555555555555556,\"#d8576b\"],[0.6666666666666666,\"#ed7953\"],[0.7777777777777778,\"#fb9f3a\"],[0.8888888888888888,\"#fdca26\"],[1.0,\"#f0f921\"]]}],\"heatmapgl\":[{\"type\":\"heatmapgl\",\"colorbar\":{\"outlinewidth\":0,\"ticks\":\"\"},\"colorscale\":[[0.0,\"#0d0887\"],[0.1111111111111111,\"#46039f\"],[0.2222222222222222,\"#7201a8\"],[0.3333333333333333,\"#9c179e\"],[0.4444444444444444,\"#bd3786\"],[0.5555555555555556,\"#d8576b\"],[0.6666666666666666,\"#ed7953\"],[0.7777777777777778,\"#fb9f3a\"],[0.8888888888888888,\"#fdca26\"],[1.0,\"#f0f921\"]]}],\"contourcarpet\":[{\"type\":\"contourcarpet\",\"colorbar\":{\"outlinewidth\":0,\"ticks\":\"\"}}],\"contour\":[{\"type\":\"contour\",\"colorbar\":{\"outlinewidth\":0,\"ticks\":\"\"},\"colorscale\":[[0.0,\"#0d0887\"],[0.1111111111111111,\"#46039f\"],[0.2222222222222222,\"#7201a8\"],[0.3333333333333333,\"#9c179e\"],[0.4444444444444444,\"#bd3786\"],[0.5555555555555556,\"#d8576b\"],[0.6666666666666666,\"#ed7953\"],[0.7777777777777778,\"#fb9f3a\"],[0.8888888888888888,\"#fdca26\"],[1.0,\"#f0f921\"]]}],\"surface\":[{\"type\":\"surface\",\"colorbar\":{\"outlinewidth\":0,\"ticks\":\"\"},\"colorscale\":[[0.0,\"#0d0887\"],[0.1111111111111111,\"#46039f\"],[0.2222222222222222,\"#7201a8\"],[0.3333333333333333,\"#9c179e\"],[0.4444444444444444,\"#bd3786\"],[0.5555555555555556,\"#d8576b\"],[0.6666666666666666,\"#ed7953\"],[0.7777777777777778,\"#fb9f3a\"],[0.8888888888888888,\"#fdca26\"],[1.0,\"#f0f921\"]]}],\"mesh3d\":[{\"type\":\"mesh3d\",\"colorbar\":{\"outlinewidth\":0,\"ticks\":\"\"}}],\"scatter\":[{\"fillpattern\":{\"fillmode\":\"overlay\",\"size\":10,\"solidity\":0.2},\"type\":\"scatter\"}],\"parcoords\":[{\"type\":\"parcoords\",\"line\":{\"colorbar\":{\"outlinewidth\":0,\"ticks\":\"\"}}}],\"scatterpolargl\":[{\"type\":\"scatterpolargl\",\"marker\":{\"colorbar\":{\"outlinewidth\":0,\"ticks\":\"\"}}}],\"bar\":[{\"error_x\":{\"color\":\"#2a3f5f\"},\"error_y\":{\"color\":\"#2a3f5f\"},\"marker\":{\"line\":{\"color\":\"#E5ECF6\",\"width\":0.5},\"pattern\":{\"fillmode\":\"overlay\",\"size\":10,\"solidity\":0.2}},\"type\":\"bar\"}],\"scattergeo\":[{\"type\":\"scattergeo\",\"marker\":{\"colorbar\":{\"outlinewidth\":0,\"ticks\":\"\"}}}],\"scatterpolar\":[{\"type\":\"scatterpolar\",\"marker\":{\"colorbar\":{\"outlinewidth\":0,\"ticks\":\"\"}}}],\"histogram\":[{\"marker\":{\"pattern\":{\"fillmode\":\"overlay\",\"size\":10,\"solidity\":0.2}},\"type\":\"histogram\"}],\"scattergl\":[{\"type\":\"scattergl\",\"marker\":{\"colorbar\":{\"outlinewidth\":0,\"ticks\":\"\"}}}],\"scatter3d\":[{\"type\":\"scatter3d\",\"line\":{\"colorbar\":{\"outlinewidth\":0,\"ticks\":\"\"}},\"marker\":{\"colorbar\":{\"outlinewidth\":0,\"ticks\":\"\"}}}],\"scattermapbox\":[{\"type\":\"scattermapbox\",\"marker\":{\"colorbar\":{\"outlinewidth\":0,\"ticks\":\"\"}}}],\"scatterternary\":[{\"type\":\"scatterternary\",\"marker\":{\"colorbar\":{\"outlinewidth\":0,\"ticks\":\"\"}}}],\"scattercarpet\":[{\"type\":\"scattercarpet\",\"marker\":{\"colorbar\":{\"outlinewidth\":0,\"ticks\":\"\"}}}],\"carpet\":[{\"aaxis\":{\"endlinecolor\":\"#2a3f5f\",\"gridcolor\":\"white\",\"linecolor\":\"white\",\"minorgridcolor\":\"white\",\"startlinecolor\":\"#2a3f5f\"},\"baxis\":{\"endlinecolor\":\"#2a3f5f\",\"gridcolor\":\"white\",\"linecolor\":\"white\",\"minorgridcolor\":\"white\",\"startlinecolor\":\"#2a3f5f\"},\"type\":\"carpet\"}],\"table\":[{\"cells\":{\"fill\":{\"color\":\"#EBF0F8\"},\"line\":{\"color\":\"white\"}},\"header\":{\"fill\":{\"color\":\"#C8D4E3\"},\"line\":{\"color\":\"white\"}},\"type\":\"table\"}],\"barpolar\":[{\"marker\":{\"line\":{\"color\":\"#E5ECF6\",\"width\":0.5},\"pattern\":{\"fillmode\":\"overlay\",\"size\":10,\"solidity\":0.2}},\"type\":\"barpolar\"}],\"pie\":[{\"automargin\":true,\"type\":\"pie\"}]},\"layout\":{\"autotypenumbers\":\"strict\",\"colorway\":[\"#636efa\",\"#EF553B\",\"#00cc96\",\"#ab63fa\",\"#FFA15A\",\"#19d3f3\",\"#FF6692\",\"#B6E880\",\"#FF97FF\",\"#FECB52\"],\"font\":{\"color\":\"#2a3f5f\"},\"hovermode\":\"closest\",\"hoverlabel\":{\"align\":\"left\"},\"paper_bgcolor\":\"white\",\"plot_bgcolor\":\"#E5ECF6\",\"polar\":{\"bgcolor\":\"#E5ECF6\",\"angularaxis\":{\"gridcolor\":\"white\",\"linecolor\":\"white\",\"ticks\":\"\"},\"radialaxis\":{\"gridcolor\":\"white\",\"linecolor\":\"white\",\"ticks\":\"\"}},\"ternary\":{\"bgcolor\":\"#E5ECF6\",\"aaxis\":{\"gridcolor\":\"white\",\"linecolor\":\"white\",\"ticks\":\"\"},\"baxis\":{\"gridcolor\":\"white\",\"linecolor\":\"white\",\"ticks\":\"\"},\"caxis\":{\"gridcolor\":\"white\",\"linecolor\":\"white\",\"ticks\":\"\"}},\"coloraxis\":{\"colorbar\":{\"outlinewidth\":0,\"ticks\":\"\"}},\"colorscale\":{\"sequential\":[[0.0,\"#0d0887\"],[0.1111111111111111,\"#46039f\"],[0.2222222222222222,\"#7201a8\"],[0.3333333333333333,\"#9c179e\"],[0.4444444444444444,\"#bd3786\"],[0.5555555555555556,\"#d8576b\"],[0.6666666666666666,\"#ed7953\"],[0.7777777777777778,\"#fb9f3a\"],[0.8888888888888888,\"#fdca26\"],[1.0,\"#f0f921\"]],\"sequentialminus\":[[0.0,\"#0d0887\"],[0.1111111111111111,\"#46039f\"],[0.2222222222222222,\"#7201a8\"],[0.3333333333333333,\"#9c179e\"],[0.4444444444444444,\"#bd3786\"],[0.5555555555555556,\"#d8576b\"],[0.6666666666666666,\"#ed7953\"],[0.7777777777777778,\"#fb9f3a\"],[0.8888888888888888,\"#fdca26\"],[1.0,\"#f0f921\"]],\"diverging\":[[0,\"#8e0152\"],[0.1,\"#c51b7d\"],[0.2,\"#de77ae\"],[0.3,\"#f1b6da\"],[0.4,\"#fde0ef\"],[0.5,\"#f7f7f7\"],[0.6,\"#e6f5d0\"],[0.7,\"#b8e186\"],[0.8,\"#7fbc41\"],[0.9,\"#4d9221\"],[1,\"#276419\"]]},\"xaxis\":{\"gridcolor\":\"white\",\"linecolor\":\"white\",\"ticks\":\"\",\"title\":{\"standoff\":15},\"zerolinecolor\":\"white\",\"automargin\":true,\"zerolinewidth\":2},\"yaxis\":{\"gridcolor\":\"white\",\"linecolor\":\"white\",\"ticks\":\"\",\"title\":{\"standoff\":15},\"zerolinecolor\":\"white\",\"automargin\":true,\"zerolinewidth\":2},\"scene\":{\"xaxis\":{\"backgroundcolor\":\"#E5ECF6\",\"gridcolor\":\"white\",\"linecolor\":\"white\",\"showbackground\":true,\"ticks\":\"\",\"zerolinecolor\":\"white\",\"gridwidth\":2},\"yaxis\":{\"backgroundcolor\":\"#E5ECF6\",\"gridcolor\":\"white\",\"linecolor\":\"white\",\"showbackground\":true,\"ticks\":\"\",\"zerolinecolor\":\"white\",\"gridwidth\":2},\"zaxis\":{\"backgroundcolor\":\"#E5ECF6\",\"gridcolor\":\"white\",\"linecolor\":\"white\",\"showbackground\":true,\"ticks\":\"\",\"zerolinecolor\":\"white\",\"gridwidth\":2}},\"shapedefaults\":{\"line\":{\"color\":\"#2a3f5f\"}},\"annotationdefaults\":{\"arrowcolor\":\"#2a3f5f\",\"arrowhead\":0,\"arrowwidth\":1},\"geo\":{\"bgcolor\":\"white\",\"landcolor\":\"#E5ECF6\",\"subunitcolor\":\"white\",\"showland\":true,\"showlakes\":true,\"lakecolor\":\"white\"},\"title\":{\"x\":0.05},\"mapbox\":{\"style\":\"light\"}}}},                        {\"responsive\": true}                    ).then(function(){\n",
       "                            \n",
       "var gd = document.getElementById('6b5f536f-1474-4d6b-a33c-36b09ebb16d2');\n",
       "var x = new MutationObserver(function (mutations, observer) {{\n",
       "        var display = window.getComputedStyle(gd).display;\n",
       "        if (!display || display === 'none') {{\n",
       "            console.log([gd, 'removed!']);\n",
       "            Plotly.purge(gd);\n",
       "            observer.disconnect();\n",
       "        }}\n",
       "}});\n",
       "\n",
       "// Listen for the removal of the full notebook cells\n",
       "var notebookContainer = gd.closest('#notebook-container');\n",
       "if (notebookContainer) {{\n",
       "    x.observe(notebookContainer, {childList: true});\n",
       "}}\n",
       "\n",
       "// Listen for the clearing of the current output cell\n",
       "var outputEl = gd.closest('.output');\n",
       "if (outputEl) {{\n",
       "    x.observe(outputEl, {childList: true});\n",
       "}}\n",
       "\n",
       "                        })                };                });            </script>        </div>"
      ]
     },
     "metadata": {},
     "output_type": "display_data"
    }
   ],
   "source": [
    "mz_scoring = pd.read_csv(\"../data/filtered/matchms_mz_matching.tsv\", sep='\\t')\n",
    "same_query_mz_match = get_matching_rows(mz_scoring, 'query', 'reference')\n",
    "mz_data = same_query_mz_match['CosineHungarian_0.01_1.0_0.0_scores']\n",
    "\n",
    "def plot_histogram(x, xaxis_title='', title=''):\n",
    "    # Define number of bins\n",
    "    n_bins = 20\n",
    "  \n",
    "\n",
    "    # Create histogram traces\n",
    "    trace1 = go.Histogram(x=x, nbinsx=n_bins, name='All peaks ({})'.format(len(x)), xbins=dict(start=0, end=1))\n",
    "  \n",
    "\n",
    "    # Create layout\n",
    "    layout = go.Layout(title=title,\n",
    "                       xaxis=dict(title=xaxis_title, range=[0, 1], dtick=0.1, tickfont=dict(size=15)),\n",
    "                       yaxis=dict(title='Frequency', range=[0, 140], tickfont=dict(size=15)),\n",
    "                       legend=dict(x=0.81, y=1.0),\n",
    "                       font=dict(size=17))\n",
    "\n",
    "    # Create figure\n",
    "    fig = go.Figure(data=[trace1], layout=layout)\n",
    "\n",
    "    # Display the plot\n",
    "    fig.show()\n",
    "\n",
    "plot_histogram(mz_data)"
   ]
  },
  {
   "cell_type": "code",
   "execution_count": 72,
   "metadata": {},
   "outputs": [
    {
     "data": {
      "application/vnd.plotly.v1+json": {
       "config": {
        "plotlyServerURL": "https://plot.ly"
       },
       "data": [
        {
         "name": "All peaks (273)",
         "nbinsx": 10,
         "type": "histogram",
         "x": [
          0.0369969515557257,
          0.0681118957037871,
          0.0263525507660333,
          0.0256006992942614,
          0.0460027584403349,
          0.246706559559347,
          0.0398392599867763,
          0.0295134188133813,
          0.0527203584433902,
          0.151880297836503,
          0.0664133873887951,
          0.0478704552466439,
          0.252803378183077,
          0.15154218696848,
          0.0489723206557695,
          0.246718557027312,
          0.179802227231354,
          0.0007222927405253,
          0.0031529580477294,
          0.030272844682019,
          0.475886684781483,
          0.175414109818041,
          0.133527892648274,
          0.430207220249801,
          0.030872773708115,
          0.0933549574921879,
          0.449155761451388,
          0.0256620231182685,
          0.269929726889986,
          0.162237529142611,
          0.0045091111004879,
          0.0421172421097138,
          0.0003171662433586,
          0.211810273097868,
          0.002663643413113,
          0.0975389002378576,
          0.37562937071044,
          0.535743638598305,
          0.442972887369742,
          0.49355285057004,
          0.0058545704281422,
          0.304949246397232,
          0.108579223606815,
          0.0968282941185072,
          0.0106644331690516,
          0.147948866764021,
          0.0650585429864235,
          0.0584802719119174,
          0.0378338490585295,
          0.479356674898239,
          0.240664378507329,
          0.139490453407228,
          0.118050008928152,
          0.210887323893913,
          0.130003918822222,
          0.327120910251402,
          0.526520484386681,
          0.126247966091454,
          0.062744323961501,
          0.0027705096446486,
          0.0003601042841225,
          0.264090826484265,
          0.530354278667409,
          0.064945556619777,
          0.0716743139649342,
          0.0885759566446246,
          0.126749017502083,
          0.449323543635251,
          0.443412556899961,
          0.0459068631403565,
          0.297247010872355,
          0.246319818159826,
          0.0003217246919456,
          0.0849409004786107,
          0.358972452217758,
          0.131882768047159,
          0.001033557039999,
          0.568092751633514,
          0.070227098720553,
          0.415852628953651,
          0.124596747612048,
          0.422498682351247,
          0.105685128832418,
          0.0062133548997885,
          0.0224814516690982,
          0.163898485697835,
          0.259150519931835,
          0.0594113007919095,
          0.0241572945390083,
          0.504447639615898,
          0.0700318421696646,
          0.0001089559301928,
          0.0017320685958859,
          0.0042090860168586,
          0.249848804745937,
          0.119864714233072,
          0.283411710015804,
          0.003144645703825,
          0.383193185080228,
          0.465308216639668,
          0.158356416479788,
          0.177944961291202,
          0.0673489962339841,
          0.499929002899303,
          0.487131815199295,
          0.0004090828226931,
          0.118279259408481,
          0.0989205635978975,
          0.201437654991701,
          0.270976851859986,
          0.135106019488831,
          0.012690793681158,
          0.134558435289364,
          0.0626865501021194,
          0.0878687061456021,
          0.0929678641906078,
          0.175302068257046,
          0.0944814710876382,
          0.482328480391936,
          0.0487931510824626,
          0.0785111794852939,
          0.409171976409625,
          0.0508272486775189,
          0.0008836240914789,
          0.0207291421631291,
          0.394329731630529,
          0.0877521794309198,
          0.315133454179887,
          0.162547792955153,
          0.0163145355540577,
          0.0577052994069867,
          0.0377886719366234,
          0.222705078581481,
          0.388140772545573,
          0.430478350319439,
          0.0129613496768437,
          0.324018044959221,
          0.296600327862521,
          0.0861573663612359,
          0.240736034164224,
          0.0261228163845682,
          0.0264820424479007,
          0.162205340325552,
          0.0264457023143443,
          0.378874135567463,
          0.0402485983472174,
          0.298205209945477,
          0.269274921126272,
          0.0140339397048898,
          0.148649210076611,
          0.0559748182731028,
          0.349819314003661,
          0.0246898360863158,
          0.0032622372019143,
          0.0078033487456618,
          0.0044790877116616,
          0.0190883693755572,
          0.0375561111675,
          0.0978472154821694,
          0.0765702259573281,
          0.0493032711719127,
          0.0874425323783471,
          0.142125728199491,
          0.252248424237719,
          0.26824460375502,
          0.0968182616987448,
          0.0805945701082502,
          0.222823798874803,
          0.025833347960186,
          0.0856017973634041,
          0.132164611251685,
          0.0938638823361253,
          0.0450798125573624,
          0.0316439075586029,
          0.0454242245570422,
          0.0687853400658266,
          0.0614393198245728,
          0.043130420675113,
          0.0961744326667387,
          0.0974139318322506,
          0.0185563156001312,
          0.0185304620728438,
          0.0550167345108845,
          0.0278603334209832,
          0.0797549861392331,
          0.212590158101224,
          0.202300180742142,
          0.12594138479532,
          0.100561439803097,
          0.006310854709818,
          0.0702263705422782,
          0.0880213357652532,
          0.303115190988767,
          0.142227022718275,
          0.17775386100957,
          0.0949850734267257,
          0.175089719428112,
          0.0820905771945729,
          0.375785563769526,
          0.0096891515530217,
          0.001630273504167,
          0.0001438555182906,
          0.101707296258489,
          0.130402995428688,
          0.0028214952787487,
          0.0266994667253128,
          0.0051291681468817,
          0.0007899132203097,
          0.051820639749828,
          0.132953195756474,
          0.0253712603965636,
          0.107299507842556,
          0.0026960222626234,
          0.0304479414382985,
          0.0041774739762269,
          0.0126517771401125,
          0.0542766539956386,
          0.0006413367688966,
          0.133145976928469,
          0.0004220501711621,
          0.22446599890214,
          0.151078721839793,
          0.0955267255352674,
          0.0075513003751496,
          0.116556539258377,
          0.0001882578826823,
          0.361041518197687,
          0.192254441518801,
          0.0137724264780793,
          0.0041763673454463,
          0.0068465915700936,
          0.0005088477926016,
          0.0631842696768323,
          0.386077515900254,
          0.122173819204695,
          0.280414167908886,
          0.259491870393726,
          0.280858590437468,
          0.0121973857556947,
          0.308756621536413,
          0.16083818389207,
          0.234689187147953,
          0.0001562895606683,
          0.0689347731598455,
          0.120976273871959,
          0.393123536371047,
          0.0113194950591853,
          0.0160179011259891,
          0.0213361270624404,
          0.0735026097935487,
          0.0010682550157949,
          0.224863269870746,
          0.352341191589527,
          0.117782860432583,
          0.17879823156304,
          0.293670953826682,
          0.0054706542721085,
          0.0365934171330439,
          0.3014612341721,
          0.0016604660773503,
          0.0299780069158763,
          0.387308048468224,
          0.194527121354065,
          0.0636487393967776,
          0.216459047847578,
          0.320269486929621,
          0.309991530832543,
          0.378111529361856,
          0.273339990028185,
          0.0001143918813748,
          0.0001988430036925,
          0.0003583643957734,
          0.000595363990355
         ],
         "xbins": {
          "end": 1,
          "start": 0
         }
        },
        {
         "name": "Top 3 peaks (273)",
         "nbinsx": 10,
         "type": "histogram",
         "x": [
          0.0369969515557257,
          0.0681118957037871,
          0.0263525507660333,
          0.0256006992942614,
          0.0460027584403349,
          0.246706559559347,
          0.0398392599867763,
          0.0295134188133813,
          0.0527203584433902,
          0.151880297836503,
          0.0664133873887951,
          0.0478704552466439,
          0.252803378183077,
          0.15154218696848,
          0.0489723206557695,
          0.246718557027312,
          0.179802227231354,
          0.0007222927405253,
          0.0031529580477294,
          0.030272844682019,
          0.475886684781483,
          0.175414109818041,
          0.133527892648274,
          0.430207220249801,
          0.030872773708115,
          0.0933549574921879,
          0.449155761451388,
          0.0256620231182685,
          0.269929726889986,
          0.162237529142611,
          0.0045091111004879,
          0.0421172421097138,
          0.0003171662433586,
          0.211810273097868,
          0.002663643413113,
          0.0975389002378576,
          0.37562937071044,
          0.535743638598305,
          0.442972887369742,
          0.49355285057004,
          0.0058545704281422,
          0.304949246397232,
          0.108579223606815,
          0.0968282941185072,
          0.0106644331690516,
          0.147948866764021,
          0.0650585429864235,
          0.0584802719119174,
          0.0378338490585295,
          0.479356674898239,
          0.240664378507329,
          0.139490453407228,
          0.118050008928152,
          0.210887323893913,
          0.130003918822222,
          0.327120910251402,
          0.526520484386681,
          0.126247966091454,
          0.062744323961501,
          0.0027705096446486,
          0.0003601042841225,
          0.264090826484265,
          0.530354278667409,
          0.064945556619777,
          0.0716743139649342,
          0.0885759566446246,
          0.126749017502083,
          0.449323543635251,
          0.443412556899961,
          0.0459068631403565,
          0.297247010872355,
          0.246319818159826,
          0.0003217246919456,
          0.0849409004786107,
          0.358972452217758,
          0.131882768047159,
          0.001033557039999,
          0.568092751633514,
          0.070227098720553,
          0.415852628953651,
          0.124596747612048,
          0.422498682351247,
          0.105685128832418,
          0.0062133548997885,
          0.0224814516690982,
          0.163898485697835,
          0.259150519931835,
          0.0594113007919095,
          0.0241572945390083,
          0.504447639615898,
          0.0700318421696646,
          0.0001089559301928,
          0.0017320685958859,
          0.0042090860168586,
          0.249848804745937,
          0.119864714233072,
          0.283411710015804,
          0.003144645703825,
          0.383193185080228,
          0.465308216639668,
          0.158356416479788,
          0.177944961291202,
          0.0673489962339841,
          0.499929002899303,
          0.487131815199295,
          0.0004090828226931,
          0.118279259408481,
          0.0989205635978975,
          0.201437654991701,
          0.270976851859986,
          0.135106019488831,
          0.012690793681158,
          0.134558435289364,
          0.0626865501021194,
          0.0878687061456021,
          0.0929678641906078,
          0.175302068257046,
          0.0944814710876382,
          0.482328480391936,
          0.0487931510824626,
          0.0785111794852939,
          0.409171976409625,
          0.0508272486775189,
          0.0008836240914789,
          0.0207291421631291,
          0.394329731630529,
          0.0877521794309198,
          0.315133454179887,
          0.162547792955153,
          0.0163145355540577,
          0.0577052994069867,
          0.0377886719366234,
          0.222705078581481,
          0.388140772545573,
          0.430478350319439,
          0.0129613496768437,
          0.324018044959221,
          0.296600327862521,
          0.0861573663612359,
          0.240736034164224,
          0.0261228163845682,
          0.0264820424479007,
          0.162205340325552,
          0.0264457023143443,
          0.378874135567463,
          0.0402485983472174,
          0.298205209945477,
          0.269274921126272,
          0.0140339397048898,
          0.148649210076611,
          0.0559748182731028,
          0.349819314003661,
          0.0246898360863158,
          0.0032622372019143,
          0.0078033487456618,
          0.0044790877116616,
          0.0190883693755572,
          0.0375561111675,
          0.0978472154821694,
          0.0765702259573281,
          0.0493032711719127,
          0.0874425323783471,
          0.142125728199491,
          0.252248424237719,
          0.26824460375502,
          0.0968182616987448,
          0.0805945701082502,
          0.222823798874803,
          0.025833347960186,
          0.0856017973634041,
          0.132164611251685,
          0.0938638823361253,
          0.0450798125573624,
          0.0316439075586029,
          0.0454242245570422,
          0.0687853400658266,
          0.0614393198245728,
          0.043130420675113,
          0.0961744326667387,
          0.0974139318322506,
          0.0185563156001312,
          0.0185304620728438,
          0.0550167345108845,
          0.0278603334209832,
          0.0797549861392331,
          0.212590158101224,
          0.202300180742142,
          0.12594138479532,
          0.100561439803097,
          0.006310854709818,
          0.0702263705422782,
          0.0880213357652532,
          0.303115190988767,
          0.142227022718275,
          0.17775386100957,
          0.0949850734267257,
          0.175089719428112,
          0.0820905771945729,
          0.375785563769526,
          0.0096891515530217,
          0.001630273504167,
          0.0001438555182906,
          0.101707296258489,
          0.130402995428688,
          0.0028214952787487,
          0.0266994667253128,
          0.0051291681468817,
          0.0007899132203097,
          0.051820639749828,
          0.132953195756474,
          0.0253712603965636,
          0.107299507842556,
          0.0026960222626234,
          0.0304479414382985,
          0.0041774739762269,
          0.0126517771401125,
          0.0542766539956386,
          0.0006413367688966,
          0.133145976928469,
          0.0004220501711621,
          0.22446599890214,
          0.151078721839793,
          0.0955267255352674,
          0.0075513003751496,
          0.116556539258377,
          0.0001882578826823,
          0.361041518197687,
          0.192254441518801,
          0.0137724264780793,
          0.0041763673454463,
          0.0068465915700936,
          0.0005088477926016,
          0.0631842696768323,
          0.386077515900254,
          0.122173819204695,
          0.280414167908886,
          0.259491870393726,
          0.280858590437468,
          0.0121973857556947,
          0.308756621536413,
          0.16083818389207,
          0.234689187147953,
          0.0001562895606683,
          0.0689347731598455,
          0.120976273871959,
          0.393123536371047,
          0.0113194950591853,
          0.0160179011259891,
          0.0213361270624404,
          0.0735026097935487,
          0.0010682550157949,
          0.224863269870746,
          0.352341191589527,
          0.117782860432583,
          0.17879823156304,
          0.293670953826682,
          0.0054706542721085,
          0.0365934171330439,
          0.3014612341721,
          0.0016604660773503,
          0.0299780069158763,
          0.387308048468224,
          0.194527121354065,
          0.0636487393967776,
          0.216459047847578,
          0.320269486929621,
          0.309991530832543,
          0.378111529361856,
          0.273339990028185,
          0.0001143918813748,
          0.0001988430036925,
          0.0003583643957734,
          0.000595363990355
         ],
         "xbins": {
          "end": 1,
          "start": 0
         }
        },
        {
         "name": "Top 5 peaks (236)",
         "nbinsx": 10,
         "type": "histogram",
         "x": [
          0.0052606213013021,
          0.272361912864841,
          0.0457077584535173,
          0.0149944196085064,
          0.0015783607895314,
          0.267905821066631,
          0.016969076142043,
          0.0648197141290369,
          0.201683864364502,
          0.207324257776341,
          0.0539127015993937,
          0.301428729280874,
          0.279100109905966,
          0.0025290350071701,
          0.0248443842153615,
          0.372918718248176,
          0.0390067514606116,
          0.0309040293081289,
          0.443056884282767,
          0.0052239026876404,
          0.125170503028238,
          0.411053691919116,
          0.0084239729077195,
          0.163502144257617,
          0.118729020818678,
          0.0051571455989649,
          0.0013002362020941,
          0.0003234085564098,
          0.269007905001916,
          0.136005788146025,
          0.378941337344311,
          0.338448133381367,
          0.386187613363933,
          0.416234069992909,
          0.189496082882533,
          0.0132149514525295,
          0.0105104644980054,
          0.0444110995480162,
          0.0170346707676763,
          0.0112710454563951,
          0.0231801186075024,
          0.445524223963095,
          0.203508544367987,
          0.0290135110040614,
          0.111563360022253,
          0.304889478621351,
          0.0749297729659512,
          0.366019516694467,
          0.355650763389265,
          0.0509126428421001,
          0.080482481937762,
          0.0044015570556564,
          0.238795016839577,
          0.3454285878063,
          0.043833277910888,
          0.076264164544557,
          0.0078363434247664,
          0.160987887573255,
          0.236349417540264,
          0.330339930784202,
          0.0014189554046701,
          0.184941582495687,
          0.267119038226627,
          0.054791385378044,
          0.274183604642396,
          0.173758608554526,
          0.342453765504495,
          0.0392509727647561,
          0.507029785977849,
          0.0808143286480448,
          0.261628502305333,
          0.0188710373434734,
          0.0157437003498112,
          0.301662261801799,
          0.291967849365544,
          0.0230114202638505,
          0.330685356253773,
          0.0624623074516073,
          0.0038590780180564,
          0.0041860424296879,
          0.206338845983836,
          0.159367346253876,
          0.167655738825579,
          0.0036312703471305,
          0.40670323301005,
          0.313486510115716,
          0.0877087517459552,
          0.111389502346782,
          0.0090178367537323,
          0.328306976152904,
          0.423561863889377,
          0.0570008069748592,
          0.0654741927718264,
          0.275993885605959,
          0.208504732574689,
          0.0823272453294115,
          0.0008969949449223,
          0.0189989312773158,
          0.0559953164355131,
          0.0427980807336017,
          0.0410848526157135,
          0.0623916301614166,
          0.0929529458848859,
          0.292222779878579,
          0.0031142594981776,
          0.0004713019229237,
          0.414161306564456,
          0.0003251583240695,
          0.0166306873282479,
          0.413828109889027,
          0.0486712343822818,
          0.376146376904842,
          0.164838270023949,
          0.0056663442181039,
          0.0443441559868207,
          0.0286926795757453,
          0.111984591038549,
          0.478044273171876,
          0.402094288732722,
          0.0157804821960512,
          0.218260488537203,
          0.360224545666779,
          0.0764445712591236,
          0.207885675500293,
          0.0150687450215079,
          0.0195910201534488,
          0.102835252014867,
          0.465420889600556,
          0.0483359615553198,
          0.355243930837437,
          0.396211551072327,
          0.133722554216166,
          0.0158990134697123,
          0.425484394835389,
          0.0030872372615074,
          0.0033522890900655,
          0.0007890423514809,
          0.0108763084189912,
          0.0372552062695869,
          0.0425817157905564,
          0.0005429234007633,
          0.0269635019543487,
          0.0105978272861001,
          0.0824730258961513,
          0.202975683186866,
          0.254144450344462,
          0.0133496506493992,
          0.0052161129415949,
          0.222823798874803,
          0.0164392313871944,
          0.0718678599596194,
          0.0496576141625446,
          0.0297674017400478,
          0.0461870844731296,
          0.0100730767880828,
          0.0346229285457812,
          0.0454348393057788,
          0.045718257635038,
          0.0250321137719643,
          0.0144518758284866,
          0.0174881858735746,
          0.005325959121325,
          0.0310489727321612,
          0.0370337971842923,
          0.0059266640900821,
          0.0409713888240303,
          0.21984306239902,
          0.15961172917025,
          0.152355694046433,
          0.0741832692204043,
          0.001923368305923,
          0.0927341037055124,
          0.0674261748520306,
          0.486812142121789,
          0.187008206909305,
          0.206814133466163,
          0.142096975757598,
          0.201184603121827,
          0.0518886358802466,
          0.277211350779649,
          0.0090945587007008,
          0.113031417093463,
          0.0047999641167775,
          0.0002918972728978,
          0.0034629977685876,
          0.011858598117988,
          0.110167303515106,
          0.0013782649844725,
          0.0825333133830793,
          0.0378203165299267,
          0.005396293490884,
          0.0005603606066117,
          0.0435162865503314,
          0.133053694796514,
          0.24341257866183,
          0.18858458028283,
          0.102797506853917,
          0.0087476173587182,
          0.0801793507796602,
          0.478480886180628,
          0.219019152493355,
          0.0010935750889606,
          0.0324784550490225,
          0.448892172916765,
          0.190533355574254,
          0.322257607930235,
          0.197501840576915,
          0.290804396083767,
          0.0129277737473605,
          0.131556119166435,
          0.0528400240910193,
          0.0656469373529963,
          0.0998346802233409,
          0.0572045301510697,
          0.348946269976437,
          0.0008738067555778,
          0.0130945428579546,
          0.013417196785314,
          0.0705425700249428,
          0.0483342846039173,
          0.273437066116631,
          0.0276303752544908,
          0.016816366904224,
          0.213639222071615,
          0.0014800902837428,
          0.0080919615897452,
          0.343893059555948,
          0.0013960128270487,
          0.317865613703646,
          0.219239915169099,
          0.005610312649049,
          0.233524884920572,
          0.291260410427232,
          0.287269992147421,
          0.340636305641812,
          0.279798174967077
         ],
         "xbins": {
          "end": 1,
          "start": 0
         }
        },
        {
         "name": "Top 10 peaks (253)",
         "nbinsx": 10,
         "type": "histogram",
         "x": [
          0.0151384451627871,
          0.0102339127390992,
          0.280824385997604,
          0.0470104599488068,
          0.0128592059894402,
          0.0645487072083161,
          0.229551229692131,
          0.0455246789874178,
          0.0505786801396192,
          0.246158839859911,
          0.160887788510098,
          0.0486151860708342,
          0.347847971453868,
          0.298469101208636,
          0.0020919541736838,
          0.029217915503429,
          0.536463528404581,
          0.0789290547254318,
          0.0617979704110392,
          0.457848253699802,
          0.0044573195335863,
          0.0976128268807369,
          0.504389926612675,
          0.0262316392109308,
          0.116077098706839,
          0.108577236225002,
          0.0042632573647507,
          0.0217018422209144,
          0.0003171662433586,
          0.244964635339798,
          0.097348728384745,
          0.390254130035815,
          0.478489779953466,
          0.532989622768954,
          0.491287227107687,
          0.0057003866233707,
          0.264347523061581,
          0.046739626809636,
          0.0386668658371137,
          0.0039699608262114,
          0.080013380800668,
          0.016367097005556,
          0.0281252081996722,
          0.0165193773843557,
          0.548102770483425,
          0.236288083184846,
          0.0427206710907907,
          0.111140261095258,
          0.265709088735352,
          0.0941513468945162,
          0.320348638097961,
          0.479914553172336,
          0.0831997341399229,
          0.0781114539723864,
          0.0034444621383362,
          0.297222589419397,
          0.544341513221196,
          0.0562123801629654,
          0.0822803143816585,
          0.014311269200083,
          0.139737691473853,
          0.346764061676282,
          0.490997194148141,
          0.0116931215583679,
          0.328984485681633,
          0.283439067424682,
          0.0864662614351975,
          0.364124516216319,
          0.146684151466486,
          0.477794472348066,
          0.0457981585712789,
          0.454734137515373,
          0.117977023423274,
          0.440268036166085,
          0.0414017602559379,
          0.0057971892049643,
          0.0299833531984689,
          0.262934802548877,
          0.23929012146482,
          0.0381774840759795,
          0.0098089614768731,
          0.498695958787318,
          0.062678755186116,
          0.002776186638247,
          0.0030114019478382,
          0.257675911464507,
          0.142494230184513,
          0.155128826603015,
          0.0032994938279454,
          0.363801378697789,
          0.374555298746612,
          0.189281268266303,
          0.197494162863218,
          0.026909437561712,
          0.541548637282832,
          0.536830831233385,
          0.133564480469034,
          0.13906930183971,
          0.216632104129426,
          0.223709569476235,
          0.0621288932777068,
          0.0139115959434218,
          0.0535131548169789,
          0.0561731770091618,
          0.0465903795918118,
          0.0517926315395077,
          0.097046631896762,
          0.0944814710876382,
          0.349026248942621,
          0.0048090249230976,
          0.0033511188310616,
          0.376418361783619,
          0.0179055484836849,
          0.0009546916426751,
          0.0250821136631607,
          0.397073447309018,
          0.0527274846474092,
          0.31506846885624,
          0.147535797240959,
          0.0043085055290532,
          0.0444930994892239,
          0.0216126993150894,
          0.204182598356431,
          0.422001005563942,
          0.423598207430909,
          0.0141001572784285,
          0.317997725163404,
          0.358484928306194,
          0.0800295889864849,
          0.245623040798375,
          0.0146041125576712,
          0.0142349444391604,
          0.0868189591704307,
          0.466358318975283,
          0.0401860732683548,
          0.317899851865311,
          0.452073847803103,
          0.0082537386986574,
          0.158688688173306,
          0.061822226659658,
          0.38788345044289,
          0.0051578721274714,
          0.0008244461091402,
          0.0025210146425718,
          0.0006318470892286,
          0.0122348395136453,
          0.0387280253449855,
          0.105788871007562,
          0.0061509551067341,
          0.0356881935412572,
          0.062794513091906,
          0.138502434070248,
          0.238983392242909,
          0.271290487507344,
          0.109139602599504,
          0.0058865840233192,
          0.222823798874803,
          0.0136194075394309,
          0.0657242502647367,
          0.0467924318557668,
          0.0306558349338778,
          0.0413462144995164,
          0.016700895084528,
          0.0443965342341234,
          0.0641986573255321,
          0.065755985610667,
          0.0361298633837548,
          0.0472762884711011,
          0.0702593409449207,
          0.0125641831743707,
          0.0287231144809443,
          0.0534791914555942,
          0.0133905095308455,
          0.062515694035912,
          0.252233572108896,
          0.190752661099666,
          0.133724858633941,
          0.0611604290565,
          0.0064429820911895,
          0.0709668108954998,
          0.0612526706789852,
          0.389072951415912,
          0.186484977562486,
          0.187174771329276,
          0.111287724775463,
          0.183454234564145,
          0.0782679887242357,
          0.311958754432389,
          0.0077271622597039,
          0.001336207264937,
          0.0001438555182906,
          0.0187854264292013,
          0.129762681840733,
          0.0034961677326884,
          0.0142966374916303,
          0.0030655253326172,
          0.0091809047103469,
          0.139969659966009,
          0.0097721000423198,
          0.116642775088512,
          0.0028155264960047,
          0.0329748192512573,
          0.0043797124370432,
          0.0119778089382355,
          0.0338783759691781,
          0.13133389972515,
          0.22940121425794,
          0.148056632071528,
          0.110689969097876,
          0.0078477319240457,
          0.0926447054145795,
          0.387667868218833,
          0.191731365302496,
          0.0020444618088033,
          0.0074178085516563,
          0.0007929560172442,
          0.0417660536296314,
          0.456836004369418,
          0.163142356656214,
          0.333352125867879,
          0.22754923578204,
          0.274084236343546,
          0.0124893692310049,
          0.13431286923608,
          0.0481677649979225,
          0.0694355218784828,
          0.0959218589116504,
          0.042559228232689,
          0.296781144431807,
          0.0006467803085937,
          0.0106798185174243,
          0.010665601198334,
          0.0518234883770961,
          0.0001738515391366,
          0.0935262875536002,
          0.261688310675819,
          0.0377782308088382,
          0.0256765705163436,
          0.20458071565242,
          0.0010625213844153,
          0.0249150002600251,
          0.295490248247437,
          0.0011723062628936,
          0.0321754855078413,
          0.327118954335346,
          0.179417772786041,
          0.0080745467116802,
          0.196457675703418,
          0.281991772483522,
          0.324234146492739,
          0.322865600647792,
          0.251531601998738,
          0.0002131864418562
         ],
         "xbins": {
          "end": 1,
          "start": 0
         }
        },
        {
         "name": "Top 20 peaks (260)",
         "nbinsx": 10,
         "type": "histogram",
         "x": [
          0.0269411846662417,
          0.0253676066414482,
          0.0029178575576714,
          0.0064086900363674,
          0.252861977311683,
          0.0444377960629251,
          0.0106871051522672,
          0.0481292123445041,
          0.224560413742854,
          0.0527513752936736,
          0.039362361460931,
          0.242044244310349,
          0.189075364582812,
          0.0489723206557695,
          0.378576480833928,
          0.256098354810404,
          0.0018900169240337,
          0.0255888738252666,
          0.602301648400862,
          0.184325460162006,
          0.144550206744009,
          0.469354157281175,
          0.0214615390859544,
          0.103895984825808,
          0.54025607041891,
          0.026642979374599,
          0.170046122803163,
          0.141274560702057,
          0.0049885486848553,
          0.0223113500095425,
          0.0003171662433586,
          0.226359888827895,
          0.0008266178462279,
          0.0895429868769759,
          0.385328717397115,
          0.556992541958812,
          0.53372825997211,
          0.553474315158577,
          0.0046594783826047,
          0.313532731315417,
          0.0983621631878292,
          0.0794975815281698,
          0.0043242776245468,
          0.0873632548025122,
          0.0383989267553795,
          0.0627642094437834,
          0.019182511974904,
          0.517981646419492,
          0.241714568199056,
          0.0919101875492114,
          0.122227038206154,
          0.238505746692184,
          0.0815876517276903,
          0.333608452657264,
          0.538727542146113,
          0.0630984785072259,
          0.0674078619626542,
          0.0029934551551232,
          0.346998089534684,
          0.527771218080318,
          0.066890939577786,
          0.0716743139649342,
          0.0146280056424154,
          0.128817126879026,
          0.41481310516369,
          0.477391434284915,
          0.0474311020455599,
          0.323962009894421,
          0.290643810556995,
          0.0003286349496708,
          0.0867653284084934,
          0.396254391591997,
          0.123895973771526,
          0.591461617369312,
          0.0736748932415823,
          0.424442420735573,
          0.126866386445134,
          0.493403378964732,
          0.0769408566625809,
          0.0066260206343507,
          0.0295931610083742,
          0.254197029224499,
          0.272775859438032,
          0.0605972877911242,
          0.0192616616084058,
          0.553230906114456,
          0.0588670814824116,
          0.0021129754640453,
          0.0045788732627225,
          0.253149172654566,
          0.121667359447341,
          0.257660518515391,
          0.003144645703825,
          0.459358795237281,
          0.439525870787666,
          0.170765099042569,
          0.185739338723007,
          0.0379393535339576,
          0.533885257881435,
          0.553556503716386,
          0.142164689747264,
          0.12105705356162,
          0.238542456089994,
          0.247881188634153,
          0.0777922182583371,
          0.0129417455604576,
          0.0701207999712113,
          0.0497837387549552,
          0.100573856703176,
          0.0988293279916947,
          0.13140728371887,
          0.0944814710876382,
          0.500817431959981,
          0.0065271863811508,
          0.0549110309286188,
          0.345712262799435,
          0.0255193047311593,
          0.0008836240914789,
          0.022306257001114,
          0.430415575226089,
          0.0727288973007206,
          0.295789981796164,
          0.161801753920129,
          0.0077649230881386,
          0.0379296393779981,
          0.0338272946596801,
          0.195814005663698,
          0.388140772545573,
          0.487091014803664,
          0.0131172383179116,
          0.335456504305431,
          0.346895157003405,
          0.0705551718126406,
          0.217878350322063,
          0.016521666297881,
          0.0159560330039485,
          0.109254792472762,
          0.0013742273132467,
          0.45359569829699,
          0.040899870757732,
          0.261850205247706,
          0.403422290275803,
          0.0118685343440489,
          0.157189536056815,
          0.053021281500139,
          0.375925182638809,
          0.0099003075956276,
          0.0020956273897448,
          0.0035069586170035,
          0.0020410216357438,
          0.0138703139564689,
          0.0384482781088111,
          0.113872616011046,
          0.0377746093096634,
          0.0465040779016757,
          0.0548712275332884,
          0.139284925890282,
          0.231886666304969,
          0.268520745077487,
          0.0936893624307006,
          0.0433304405004972,
          0.222823798874803,
          0.0200367774342163,
          0.0683645385779661,
          0.0844093924912851,
          0.0596343425705668,
          0.0377487508958411,
          0.0158100675621174,
          0.0502660742229071,
          0.0619197026813144,
          0.0596006187155014,
          0.0387022305097385,
          0.0510914444528576,
          0.0714403057431412,
          0.0188771879571469,
          0.023850304098791,
          0.0435785144803354,
          0.0253962286597212,
          0.0568433353978161,
          0.228674042136966,
          0.197527252399292,
          0.106434851236848,
          0.0699016943103121,
          0.0052621664368743,
          0.0753478515527284,
          0.0655009269581159,
          0.356214420544871,
          0.195073794683858,
          0.163061890777507,
          0.086903192517375,
          0.185925631891012,
          0.0857375272262923,
          0.349025859040912,
          0.0109554080871108,
          0.0017184955268202,
          0.0001438555182906,
          0.0395473422440342,
          0.133873747454744,
          0.0028214952787487,
          0.0272969901395839,
          0.0052292189267092,
          0.0007981230335579,
          0.040347770739527,
          0.12511798687953,
          0.0097351488969249,
          0.100861479816755,
          0.0024213593244121,
          0.0290875318485601,
          0.0037801495871969,
          0.0126517771401125,
          0.0473930450321947,
          0.135964127340154,
          0.231728108353292,
          0.120049834669843,
          0.117787107469343,
          0.0069249877765939,
          0.116519564569448,
          0.354583550636728,
          0.230069548302889,
          0.0028115375645995,
          0.0068465915700936,
          0.000625082785293,
          0.0529365809785281,
          0.405312054571978,
          0.137533212521826,
          0.312681927663749,
          0.245880026271325,
          0.276626303562428,
          0.0140010674565209,
          0.19461583729515,
          0.0585941015873082,
          0.0636838753293075,
          0.0701714353091409,
          0.0504630855843921,
          0.359267470146128,
          0.0015986934255314,
          0.0163538401741595,
          0.0124162399609066,
          0.0510825787958364,
          0.0010682550157949,
          0.109309364927208,
          0.247204847216547,
          0.039559336534573,
          0.0545689705245391,
          0.213442823595427,
          0.0022486046773111,
          0.0368469681373469,
          0.262602600487409,
          0.0012967312221608,
          0.0278424591418645,
          0.387308048468224,
          0.198154790224277,
          0.047435465048775,
          0.204713266432311,
          0.320269486929621,
          0.296435690898114,
          0.34905708373038,
          0.228531384141478,
          0.0001062323639017,
          0.0001474373125846
         ],
         "xbins": {
          "end": 1,
          "start": 0
         }
        }
       ],
       "layout": {
        "font": {
         "size": 17
        },
        "legend": {
         "x": 0.81,
         "y": 1
        },
        "template": {
         "data": {
          "bar": [
           {
            "error_x": {
             "color": "#2a3f5f"
            },
            "error_y": {
             "color": "#2a3f5f"
            },
            "marker": {
             "line": {
              "color": "#E5ECF6",
              "width": 0.5
             },
             "pattern": {
              "fillmode": "overlay",
              "size": 10,
              "solidity": 0.2
             }
            },
            "type": "bar"
           }
          ],
          "barpolar": [
           {
            "marker": {
             "line": {
              "color": "#E5ECF6",
              "width": 0.5
             },
             "pattern": {
              "fillmode": "overlay",
              "size": 10,
              "solidity": 0.2
             }
            },
            "type": "barpolar"
           }
          ],
          "carpet": [
           {
            "aaxis": {
             "endlinecolor": "#2a3f5f",
             "gridcolor": "white",
             "linecolor": "white",
             "minorgridcolor": "white",
             "startlinecolor": "#2a3f5f"
            },
            "baxis": {
             "endlinecolor": "#2a3f5f",
             "gridcolor": "white",
             "linecolor": "white",
             "minorgridcolor": "white",
             "startlinecolor": "#2a3f5f"
            },
            "type": "carpet"
           }
          ],
          "choropleth": [
           {
            "colorbar": {
             "outlinewidth": 0,
             "ticks": ""
            },
            "type": "choropleth"
           }
          ],
          "contour": [
           {
            "colorbar": {
             "outlinewidth": 0,
             "ticks": ""
            },
            "colorscale": [
             [
              0,
              "#0d0887"
             ],
             [
              0.1111111111111111,
              "#46039f"
             ],
             [
              0.2222222222222222,
              "#7201a8"
             ],
             [
              0.3333333333333333,
              "#9c179e"
             ],
             [
              0.4444444444444444,
              "#bd3786"
             ],
             [
              0.5555555555555556,
              "#d8576b"
             ],
             [
              0.6666666666666666,
              "#ed7953"
             ],
             [
              0.7777777777777778,
              "#fb9f3a"
             ],
             [
              0.8888888888888888,
              "#fdca26"
             ],
             [
              1,
              "#f0f921"
             ]
            ],
            "type": "contour"
           }
          ],
          "contourcarpet": [
           {
            "colorbar": {
             "outlinewidth": 0,
             "ticks": ""
            },
            "type": "contourcarpet"
           }
          ],
          "heatmap": [
           {
            "colorbar": {
             "outlinewidth": 0,
             "ticks": ""
            },
            "colorscale": [
             [
              0,
              "#0d0887"
             ],
             [
              0.1111111111111111,
              "#46039f"
             ],
             [
              0.2222222222222222,
              "#7201a8"
             ],
             [
              0.3333333333333333,
              "#9c179e"
             ],
             [
              0.4444444444444444,
              "#bd3786"
             ],
             [
              0.5555555555555556,
              "#d8576b"
             ],
             [
              0.6666666666666666,
              "#ed7953"
             ],
             [
              0.7777777777777778,
              "#fb9f3a"
             ],
             [
              0.8888888888888888,
              "#fdca26"
             ],
             [
              1,
              "#f0f921"
             ]
            ],
            "type": "heatmap"
           }
          ],
          "heatmapgl": [
           {
            "colorbar": {
             "outlinewidth": 0,
             "ticks": ""
            },
            "colorscale": [
             [
              0,
              "#0d0887"
             ],
             [
              0.1111111111111111,
              "#46039f"
             ],
             [
              0.2222222222222222,
              "#7201a8"
             ],
             [
              0.3333333333333333,
              "#9c179e"
             ],
             [
              0.4444444444444444,
              "#bd3786"
             ],
             [
              0.5555555555555556,
              "#d8576b"
             ],
             [
              0.6666666666666666,
              "#ed7953"
             ],
             [
              0.7777777777777778,
              "#fb9f3a"
             ],
             [
              0.8888888888888888,
              "#fdca26"
             ],
             [
              1,
              "#f0f921"
             ]
            ],
            "type": "heatmapgl"
           }
          ],
          "histogram": [
           {
            "marker": {
             "pattern": {
              "fillmode": "overlay",
              "size": 10,
              "solidity": 0.2
             }
            },
            "type": "histogram"
           }
          ],
          "histogram2d": [
           {
            "colorbar": {
             "outlinewidth": 0,
             "ticks": ""
            },
            "colorscale": [
             [
              0,
              "#0d0887"
             ],
             [
              0.1111111111111111,
              "#46039f"
             ],
             [
              0.2222222222222222,
              "#7201a8"
             ],
             [
              0.3333333333333333,
              "#9c179e"
             ],
             [
              0.4444444444444444,
              "#bd3786"
             ],
             [
              0.5555555555555556,
              "#d8576b"
             ],
             [
              0.6666666666666666,
              "#ed7953"
             ],
             [
              0.7777777777777778,
              "#fb9f3a"
             ],
             [
              0.8888888888888888,
              "#fdca26"
             ],
             [
              1,
              "#f0f921"
             ]
            ],
            "type": "histogram2d"
           }
          ],
          "histogram2dcontour": [
           {
            "colorbar": {
             "outlinewidth": 0,
             "ticks": ""
            },
            "colorscale": [
             [
              0,
              "#0d0887"
             ],
             [
              0.1111111111111111,
              "#46039f"
             ],
             [
              0.2222222222222222,
              "#7201a8"
             ],
             [
              0.3333333333333333,
              "#9c179e"
             ],
             [
              0.4444444444444444,
              "#bd3786"
             ],
             [
              0.5555555555555556,
              "#d8576b"
             ],
             [
              0.6666666666666666,
              "#ed7953"
             ],
             [
              0.7777777777777778,
              "#fb9f3a"
             ],
             [
              0.8888888888888888,
              "#fdca26"
             ],
             [
              1,
              "#f0f921"
             ]
            ],
            "type": "histogram2dcontour"
           }
          ],
          "mesh3d": [
           {
            "colorbar": {
             "outlinewidth": 0,
             "ticks": ""
            },
            "type": "mesh3d"
           }
          ],
          "parcoords": [
           {
            "line": {
             "colorbar": {
              "outlinewidth": 0,
              "ticks": ""
             }
            },
            "type": "parcoords"
           }
          ],
          "pie": [
           {
            "automargin": true,
            "type": "pie"
           }
          ],
          "scatter": [
           {
            "fillpattern": {
             "fillmode": "overlay",
             "size": 10,
             "solidity": 0.2
            },
            "type": "scatter"
           }
          ],
          "scatter3d": [
           {
            "line": {
             "colorbar": {
              "outlinewidth": 0,
              "ticks": ""
             }
            },
            "marker": {
             "colorbar": {
              "outlinewidth": 0,
              "ticks": ""
             }
            },
            "type": "scatter3d"
           }
          ],
          "scattercarpet": [
           {
            "marker": {
             "colorbar": {
              "outlinewidth": 0,
              "ticks": ""
             }
            },
            "type": "scattercarpet"
           }
          ],
          "scattergeo": [
           {
            "marker": {
             "colorbar": {
              "outlinewidth": 0,
              "ticks": ""
             }
            },
            "type": "scattergeo"
           }
          ],
          "scattergl": [
           {
            "marker": {
             "colorbar": {
              "outlinewidth": 0,
              "ticks": ""
             }
            },
            "type": "scattergl"
           }
          ],
          "scattermapbox": [
           {
            "marker": {
             "colorbar": {
              "outlinewidth": 0,
              "ticks": ""
             }
            },
            "type": "scattermapbox"
           }
          ],
          "scatterpolar": [
           {
            "marker": {
             "colorbar": {
              "outlinewidth": 0,
              "ticks": ""
             }
            },
            "type": "scatterpolar"
           }
          ],
          "scatterpolargl": [
           {
            "marker": {
             "colorbar": {
              "outlinewidth": 0,
              "ticks": ""
             }
            },
            "type": "scatterpolargl"
           }
          ],
          "scatterternary": [
           {
            "marker": {
             "colorbar": {
              "outlinewidth": 0,
              "ticks": ""
             }
            },
            "type": "scatterternary"
           }
          ],
          "surface": [
           {
            "colorbar": {
             "outlinewidth": 0,
             "ticks": ""
            },
            "colorscale": [
             [
              0,
              "#0d0887"
             ],
             [
              0.1111111111111111,
              "#46039f"
             ],
             [
              0.2222222222222222,
              "#7201a8"
             ],
             [
              0.3333333333333333,
              "#9c179e"
             ],
             [
              0.4444444444444444,
              "#bd3786"
             ],
             [
              0.5555555555555556,
              "#d8576b"
             ],
             [
              0.6666666666666666,
              "#ed7953"
             ],
             [
              0.7777777777777778,
              "#fb9f3a"
             ],
             [
              0.8888888888888888,
              "#fdca26"
             ],
             [
              1,
              "#f0f921"
             ]
            ],
            "type": "surface"
           }
          ],
          "table": [
           {
            "cells": {
             "fill": {
              "color": "#EBF0F8"
             },
             "line": {
              "color": "white"
             }
            },
            "header": {
             "fill": {
              "color": "#C8D4E3"
             },
             "line": {
              "color": "white"
             }
            },
            "type": "table"
           }
          ]
         },
         "layout": {
          "annotationdefaults": {
           "arrowcolor": "#2a3f5f",
           "arrowhead": 0,
           "arrowwidth": 1
          },
          "autotypenumbers": "strict",
          "coloraxis": {
           "colorbar": {
            "outlinewidth": 0,
            "ticks": ""
           }
          },
          "colorscale": {
           "diverging": [
            [
             0,
             "#8e0152"
            ],
            [
             0.1,
             "#c51b7d"
            ],
            [
             0.2,
             "#de77ae"
            ],
            [
             0.3,
             "#f1b6da"
            ],
            [
             0.4,
             "#fde0ef"
            ],
            [
             0.5,
             "#f7f7f7"
            ],
            [
             0.6,
             "#e6f5d0"
            ],
            [
             0.7,
             "#b8e186"
            ],
            [
             0.8,
             "#7fbc41"
            ],
            [
             0.9,
             "#4d9221"
            ],
            [
             1,
             "#276419"
            ]
           ],
           "sequential": [
            [
             0,
             "#0d0887"
            ],
            [
             0.1111111111111111,
             "#46039f"
            ],
            [
             0.2222222222222222,
             "#7201a8"
            ],
            [
             0.3333333333333333,
             "#9c179e"
            ],
            [
             0.4444444444444444,
             "#bd3786"
            ],
            [
             0.5555555555555556,
             "#d8576b"
            ],
            [
             0.6666666666666666,
             "#ed7953"
            ],
            [
             0.7777777777777778,
             "#fb9f3a"
            ],
            [
             0.8888888888888888,
             "#fdca26"
            ],
            [
             1,
             "#f0f921"
            ]
           ],
           "sequentialminus": [
            [
             0,
             "#0d0887"
            ],
            [
             0.1111111111111111,
             "#46039f"
            ],
            [
             0.2222222222222222,
             "#7201a8"
            ],
            [
             0.3333333333333333,
             "#9c179e"
            ],
            [
             0.4444444444444444,
             "#bd3786"
            ],
            [
             0.5555555555555556,
             "#d8576b"
            ],
            [
             0.6666666666666666,
             "#ed7953"
            ],
            [
             0.7777777777777778,
             "#fb9f3a"
            ],
            [
             0.8888888888888888,
             "#fdca26"
            ],
            [
             1,
             "#f0f921"
            ]
           ]
          },
          "colorway": [
           "#636efa",
           "#EF553B",
           "#00cc96",
           "#ab63fa",
           "#FFA15A",
           "#19d3f3",
           "#FF6692",
           "#B6E880",
           "#FF97FF",
           "#FECB52"
          ],
          "font": {
           "color": "#2a3f5f"
          },
          "geo": {
           "bgcolor": "white",
           "lakecolor": "white",
           "landcolor": "#E5ECF6",
           "showlakes": true,
           "showland": true,
           "subunitcolor": "white"
          },
          "hoverlabel": {
           "align": "left"
          },
          "hovermode": "closest",
          "mapbox": {
           "style": "light"
          },
          "paper_bgcolor": "white",
          "plot_bgcolor": "#E5ECF6",
          "polar": {
           "angularaxis": {
            "gridcolor": "white",
            "linecolor": "white",
            "ticks": ""
           },
           "bgcolor": "#E5ECF6",
           "radialaxis": {
            "gridcolor": "white",
            "linecolor": "white",
            "ticks": ""
           }
          },
          "scene": {
           "xaxis": {
            "backgroundcolor": "#E5ECF6",
            "gridcolor": "white",
            "gridwidth": 2,
            "linecolor": "white",
            "showbackground": true,
            "ticks": "",
            "zerolinecolor": "white"
           },
           "yaxis": {
            "backgroundcolor": "#E5ECF6",
            "gridcolor": "white",
            "gridwidth": 2,
            "linecolor": "white",
            "showbackground": true,
            "ticks": "",
            "zerolinecolor": "white"
           },
           "zaxis": {
            "backgroundcolor": "#E5ECF6",
            "gridcolor": "white",
            "gridwidth": 2,
            "linecolor": "white",
            "showbackground": true,
            "ticks": "",
            "zerolinecolor": "white"
           }
          },
          "shapedefaults": {
           "line": {
            "color": "#2a3f5f"
           }
          },
          "ternary": {
           "aaxis": {
            "gridcolor": "white",
            "linecolor": "white",
            "ticks": ""
           },
           "baxis": {
            "gridcolor": "white",
            "linecolor": "white",
            "ticks": ""
           },
           "bgcolor": "#E5ECF6",
           "caxis": {
            "gridcolor": "white",
            "linecolor": "white",
            "ticks": ""
           }
          },
          "title": {
           "x": 0.05
          },
          "xaxis": {
           "automargin": true,
           "gridcolor": "white",
           "linecolor": "white",
           "ticks": "",
           "title": {
            "standoff": 15
           },
           "zerolinecolor": "white",
           "zerolinewidth": 2
          },
          "yaxis": {
           "automargin": true,
           "gridcolor": "white",
           "linecolor": "white",
           "ticks": "",
           "title": {
            "standoff": 15
           },
           "zerolinecolor": "white",
           "zerolinewidth": 2
          }
         }
        },
        "title": {
         "text": "MatchSpectra: filter -> 1%I"
        },
        "xaxis": {
         "dtick": 0.1,
         "range": [
          0,
          1
         ],
         "tickfont": {
          "size": 15
         },
         "title": {
          "text": "Score"
         }
        },
        "yaxis": {
         "range": [
          0,
          140
         ],
         "tickfont": {
          "size": 15
         },
         "title": {
          "text": "Frequency"
         }
        }
       }
      },
      "text/html": [
       "<div>                            <div id=\"ce915a90-c9a9-487d-9ac9-768fec46df80\" class=\"plotly-graph-div\" style=\"height:525px; width:100%;\"></div>            <script type=\"text/javascript\">                require([\"plotly\"], function(Plotly) {                    window.PLOTLYENV=window.PLOTLYENV || {};                                    if (document.getElementById(\"ce915a90-c9a9-487d-9ac9-768fec46df80\")) {                    Plotly.newPlot(                        \"ce915a90-c9a9-487d-9ac9-768fec46df80\",                        [{\"name\":\"All peaks (273)\",\"nbinsx\":10,\"x\":[0.0369969515557257,0.0681118957037871,0.0263525507660333,0.0256006992942614,0.0460027584403349,0.246706559559347,0.0398392599867763,0.0295134188133813,0.0527203584433902,0.151880297836503,0.0664133873887951,0.0478704552466439,0.252803378183077,0.15154218696848,0.0489723206557695,0.246718557027312,0.179802227231354,0.0007222927405253,0.0031529580477294,0.030272844682019,0.475886684781483,0.175414109818041,0.133527892648274,0.430207220249801,0.030872773708115,0.0933549574921879,0.449155761451388,0.0256620231182685,0.269929726889986,0.162237529142611,0.0045091111004879,0.0421172421097138,0.0003171662433586,0.211810273097868,0.002663643413113,0.0975389002378576,0.37562937071044,0.535743638598305,0.442972887369742,0.49355285057004,0.0058545704281422,0.304949246397232,0.108579223606815,0.0968282941185072,0.0106644331690516,0.147948866764021,0.0650585429864235,0.0584802719119174,0.0378338490585295,0.479356674898239,0.240664378507329,0.139490453407228,0.118050008928152,0.210887323893913,0.130003918822222,0.327120910251402,0.526520484386681,0.126247966091454,0.062744323961501,0.0027705096446486,0.0003601042841225,0.264090826484265,0.530354278667409,0.064945556619777,0.0716743139649342,0.0885759566446246,0.126749017502083,0.449323543635251,0.443412556899961,0.0459068631403565,0.297247010872355,0.246319818159826,0.0003217246919456,0.0849409004786107,0.358972452217758,0.131882768047159,0.001033557039999,0.568092751633514,0.070227098720553,0.415852628953651,0.124596747612048,0.422498682351247,0.105685128832418,0.0062133548997885,0.0224814516690982,0.163898485697835,0.259150519931835,0.0594113007919095,0.0241572945390083,0.504447639615898,0.0700318421696646,0.0001089559301928,0.0017320685958859,0.0042090860168586,0.249848804745937,0.119864714233072,0.283411710015804,0.003144645703825,0.383193185080228,0.465308216639668,0.158356416479788,0.177944961291202,0.0673489962339841,0.499929002899303,0.487131815199295,0.0004090828226931,0.118279259408481,0.0989205635978975,0.201437654991701,0.270976851859986,0.135106019488831,0.012690793681158,0.134558435289364,0.0626865501021194,0.0878687061456021,0.0929678641906078,0.175302068257046,0.0944814710876382,0.482328480391936,0.0487931510824626,0.0785111794852939,0.409171976409625,0.0508272486775189,0.0008836240914789,0.0207291421631291,0.394329731630529,0.0877521794309198,0.315133454179887,0.162547792955153,0.0163145355540577,0.0577052994069867,0.0377886719366234,0.222705078581481,0.388140772545573,0.430478350319439,0.0129613496768437,0.324018044959221,0.296600327862521,0.0861573663612359,0.240736034164224,0.0261228163845682,0.0264820424479007,0.162205340325552,0.0264457023143443,0.378874135567463,0.0402485983472174,0.298205209945477,0.269274921126272,0.0140339397048898,0.148649210076611,0.0559748182731028,0.349819314003661,0.0246898360863158,0.0032622372019143,0.0078033487456618,0.0044790877116616,0.0190883693755572,0.0375561111675,0.0978472154821694,0.0765702259573281,0.0493032711719127,0.0874425323783471,0.142125728199491,0.252248424237719,0.26824460375502,0.0968182616987448,0.0805945701082502,0.222823798874803,0.025833347960186,0.0856017973634041,0.132164611251685,0.0938638823361253,0.0450798125573624,0.0316439075586029,0.0454242245570422,0.0687853400658266,0.0614393198245728,0.043130420675113,0.0961744326667387,0.0974139318322506,0.0185563156001312,0.0185304620728438,0.0550167345108845,0.0278603334209832,0.0797549861392331,0.212590158101224,0.202300180742142,0.12594138479532,0.100561439803097,0.006310854709818,0.0702263705422782,0.0880213357652532,0.303115190988767,0.142227022718275,0.17775386100957,0.0949850734267257,0.175089719428112,0.0820905771945729,0.375785563769526,0.0096891515530217,0.001630273504167,0.0001438555182906,0.101707296258489,0.130402995428688,0.0028214952787487,0.0266994667253128,0.0051291681468817,0.0007899132203097,0.051820639749828,0.132953195756474,0.0253712603965636,0.107299507842556,0.0026960222626234,0.0304479414382985,0.0041774739762269,0.0126517771401125,0.0542766539956386,0.0006413367688966,0.133145976928469,0.0004220501711621,0.22446599890214,0.151078721839793,0.0955267255352674,0.0075513003751496,0.116556539258377,0.0001882578826823,0.361041518197687,0.192254441518801,0.0137724264780793,0.0041763673454463,0.0068465915700936,0.0005088477926016,0.0631842696768323,0.386077515900254,0.122173819204695,0.280414167908886,0.259491870393726,0.280858590437468,0.0121973857556947,0.308756621536413,0.16083818389207,0.234689187147953,0.0001562895606683,0.0689347731598455,0.120976273871959,0.393123536371047,0.0113194950591853,0.0160179011259891,0.0213361270624404,0.0735026097935487,0.0010682550157949,0.224863269870746,0.352341191589527,0.117782860432583,0.17879823156304,0.293670953826682,0.0054706542721085,0.0365934171330439,0.3014612341721,0.0016604660773503,0.0299780069158763,0.387308048468224,0.194527121354065,0.0636487393967776,0.216459047847578,0.320269486929621,0.309991530832543,0.378111529361856,0.273339990028185,0.0001143918813748,0.0001988430036925,0.0003583643957734,0.000595363990355],\"xbins\":{\"end\":1,\"start\":0},\"type\":\"histogram\"},{\"name\":\"Top 3 peaks (273)\",\"nbinsx\":10,\"x\":[0.0369969515557257,0.0681118957037871,0.0263525507660333,0.0256006992942614,0.0460027584403349,0.246706559559347,0.0398392599867763,0.0295134188133813,0.0527203584433902,0.151880297836503,0.0664133873887951,0.0478704552466439,0.252803378183077,0.15154218696848,0.0489723206557695,0.246718557027312,0.179802227231354,0.0007222927405253,0.0031529580477294,0.030272844682019,0.475886684781483,0.175414109818041,0.133527892648274,0.430207220249801,0.030872773708115,0.0933549574921879,0.449155761451388,0.0256620231182685,0.269929726889986,0.162237529142611,0.0045091111004879,0.0421172421097138,0.0003171662433586,0.211810273097868,0.002663643413113,0.0975389002378576,0.37562937071044,0.535743638598305,0.442972887369742,0.49355285057004,0.0058545704281422,0.304949246397232,0.108579223606815,0.0968282941185072,0.0106644331690516,0.147948866764021,0.0650585429864235,0.0584802719119174,0.0378338490585295,0.479356674898239,0.240664378507329,0.139490453407228,0.118050008928152,0.210887323893913,0.130003918822222,0.327120910251402,0.526520484386681,0.126247966091454,0.062744323961501,0.0027705096446486,0.0003601042841225,0.264090826484265,0.530354278667409,0.064945556619777,0.0716743139649342,0.0885759566446246,0.126749017502083,0.449323543635251,0.443412556899961,0.0459068631403565,0.297247010872355,0.246319818159826,0.0003217246919456,0.0849409004786107,0.358972452217758,0.131882768047159,0.001033557039999,0.568092751633514,0.070227098720553,0.415852628953651,0.124596747612048,0.422498682351247,0.105685128832418,0.0062133548997885,0.0224814516690982,0.163898485697835,0.259150519931835,0.0594113007919095,0.0241572945390083,0.504447639615898,0.0700318421696646,0.0001089559301928,0.0017320685958859,0.0042090860168586,0.249848804745937,0.119864714233072,0.283411710015804,0.003144645703825,0.383193185080228,0.465308216639668,0.158356416479788,0.177944961291202,0.0673489962339841,0.499929002899303,0.487131815199295,0.0004090828226931,0.118279259408481,0.0989205635978975,0.201437654991701,0.270976851859986,0.135106019488831,0.012690793681158,0.134558435289364,0.0626865501021194,0.0878687061456021,0.0929678641906078,0.175302068257046,0.0944814710876382,0.482328480391936,0.0487931510824626,0.0785111794852939,0.409171976409625,0.0508272486775189,0.0008836240914789,0.0207291421631291,0.394329731630529,0.0877521794309198,0.315133454179887,0.162547792955153,0.0163145355540577,0.0577052994069867,0.0377886719366234,0.222705078581481,0.388140772545573,0.430478350319439,0.0129613496768437,0.324018044959221,0.296600327862521,0.0861573663612359,0.240736034164224,0.0261228163845682,0.0264820424479007,0.162205340325552,0.0264457023143443,0.378874135567463,0.0402485983472174,0.298205209945477,0.269274921126272,0.0140339397048898,0.148649210076611,0.0559748182731028,0.349819314003661,0.0246898360863158,0.0032622372019143,0.0078033487456618,0.0044790877116616,0.0190883693755572,0.0375561111675,0.0978472154821694,0.0765702259573281,0.0493032711719127,0.0874425323783471,0.142125728199491,0.252248424237719,0.26824460375502,0.0968182616987448,0.0805945701082502,0.222823798874803,0.025833347960186,0.0856017973634041,0.132164611251685,0.0938638823361253,0.0450798125573624,0.0316439075586029,0.0454242245570422,0.0687853400658266,0.0614393198245728,0.043130420675113,0.0961744326667387,0.0974139318322506,0.0185563156001312,0.0185304620728438,0.0550167345108845,0.0278603334209832,0.0797549861392331,0.212590158101224,0.202300180742142,0.12594138479532,0.100561439803097,0.006310854709818,0.0702263705422782,0.0880213357652532,0.303115190988767,0.142227022718275,0.17775386100957,0.0949850734267257,0.175089719428112,0.0820905771945729,0.375785563769526,0.0096891515530217,0.001630273504167,0.0001438555182906,0.101707296258489,0.130402995428688,0.0028214952787487,0.0266994667253128,0.0051291681468817,0.0007899132203097,0.051820639749828,0.132953195756474,0.0253712603965636,0.107299507842556,0.0026960222626234,0.0304479414382985,0.0041774739762269,0.0126517771401125,0.0542766539956386,0.0006413367688966,0.133145976928469,0.0004220501711621,0.22446599890214,0.151078721839793,0.0955267255352674,0.0075513003751496,0.116556539258377,0.0001882578826823,0.361041518197687,0.192254441518801,0.0137724264780793,0.0041763673454463,0.0068465915700936,0.0005088477926016,0.0631842696768323,0.386077515900254,0.122173819204695,0.280414167908886,0.259491870393726,0.280858590437468,0.0121973857556947,0.308756621536413,0.16083818389207,0.234689187147953,0.0001562895606683,0.0689347731598455,0.120976273871959,0.393123536371047,0.0113194950591853,0.0160179011259891,0.0213361270624404,0.0735026097935487,0.0010682550157949,0.224863269870746,0.352341191589527,0.117782860432583,0.17879823156304,0.293670953826682,0.0054706542721085,0.0365934171330439,0.3014612341721,0.0016604660773503,0.0299780069158763,0.387308048468224,0.194527121354065,0.0636487393967776,0.216459047847578,0.320269486929621,0.309991530832543,0.378111529361856,0.273339990028185,0.0001143918813748,0.0001988430036925,0.0003583643957734,0.000595363990355],\"xbins\":{\"end\":1,\"start\":0},\"type\":\"histogram\"},{\"name\":\"Top 5 peaks (236)\",\"nbinsx\":10,\"x\":[0.0052606213013021,0.272361912864841,0.0457077584535173,0.0149944196085064,0.0015783607895314,0.267905821066631,0.016969076142043,0.0648197141290369,0.201683864364502,0.207324257776341,0.0539127015993937,0.301428729280874,0.279100109905966,0.0025290350071701,0.0248443842153615,0.372918718248176,0.0390067514606116,0.0309040293081289,0.443056884282767,0.0052239026876404,0.125170503028238,0.411053691919116,0.0084239729077195,0.163502144257617,0.118729020818678,0.0051571455989649,0.0013002362020941,0.0003234085564098,0.269007905001916,0.136005788146025,0.378941337344311,0.338448133381367,0.386187613363933,0.416234069992909,0.189496082882533,0.0132149514525295,0.0105104644980054,0.0444110995480162,0.0170346707676763,0.0112710454563951,0.0231801186075024,0.445524223963095,0.203508544367987,0.0290135110040614,0.111563360022253,0.304889478621351,0.0749297729659512,0.366019516694467,0.355650763389265,0.0509126428421001,0.080482481937762,0.0044015570556564,0.238795016839577,0.3454285878063,0.043833277910888,0.076264164544557,0.0078363434247664,0.160987887573255,0.236349417540264,0.330339930784202,0.0014189554046701,0.184941582495687,0.267119038226627,0.054791385378044,0.274183604642396,0.173758608554526,0.342453765504495,0.0392509727647561,0.507029785977849,0.0808143286480448,0.261628502305333,0.0188710373434734,0.0157437003498112,0.301662261801799,0.291967849365544,0.0230114202638505,0.330685356253773,0.0624623074516073,0.0038590780180564,0.0041860424296879,0.206338845983836,0.159367346253876,0.167655738825579,0.0036312703471305,0.40670323301005,0.313486510115716,0.0877087517459552,0.111389502346782,0.0090178367537323,0.328306976152904,0.423561863889377,0.0570008069748592,0.0654741927718264,0.275993885605959,0.208504732574689,0.0823272453294115,0.0008969949449223,0.0189989312773158,0.0559953164355131,0.0427980807336017,0.0410848526157135,0.0623916301614166,0.0929529458848859,0.292222779878579,0.0031142594981776,0.0004713019229237,0.414161306564456,0.0003251583240695,0.0166306873282479,0.413828109889027,0.0486712343822818,0.376146376904842,0.164838270023949,0.0056663442181039,0.0443441559868207,0.0286926795757453,0.111984591038549,0.478044273171876,0.402094288732722,0.0157804821960512,0.218260488537203,0.360224545666779,0.0764445712591236,0.207885675500293,0.0150687450215079,0.0195910201534488,0.102835252014867,0.465420889600556,0.0483359615553198,0.355243930837437,0.396211551072327,0.133722554216166,0.0158990134697123,0.425484394835389,0.0030872372615074,0.0033522890900655,0.0007890423514809,0.0108763084189912,0.0372552062695869,0.0425817157905564,0.0005429234007633,0.0269635019543487,0.0105978272861001,0.0824730258961513,0.202975683186866,0.254144450344462,0.0133496506493992,0.0052161129415949,0.222823798874803,0.0164392313871944,0.0718678599596194,0.0496576141625446,0.0297674017400478,0.0461870844731296,0.0100730767880828,0.0346229285457812,0.0454348393057788,0.045718257635038,0.0250321137719643,0.0144518758284866,0.0174881858735746,0.005325959121325,0.0310489727321612,0.0370337971842923,0.0059266640900821,0.0409713888240303,0.21984306239902,0.15961172917025,0.152355694046433,0.0741832692204043,0.001923368305923,0.0927341037055124,0.0674261748520306,0.486812142121789,0.187008206909305,0.206814133466163,0.142096975757598,0.201184603121827,0.0518886358802466,0.277211350779649,0.0090945587007008,0.113031417093463,0.0047999641167775,0.0002918972728978,0.0034629977685876,0.011858598117988,0.110167303515106,0.0013782649844725,0.0825333133830793,0.0378203165299267,0.005396293490884,0.0005603606066117,0.0435162865503314,0.133053694796514,0.24341257866183,0.18858458028283,0.102797506853917,0.0087476173587182,0.0801793507796602,0.478480886180628,0.219019152493355,0.0010935750889606,0.0324784550490225,0.448892172916765,0.190533355574254,0.322257607930235,0.197501840576915,0.290804396083767,0.0129277737473605,0.131556119166435,0.0528400240910193,0.0656469373529963,0.0998346802233409,0.0572045301510697,0.348946269976437,0.0008738067555778,0.0130945428579546,0.013417196785314,0.0705425700249428,0.0483342846039173,0.273437066116631,0.0276303752544908,0.016816366904224,0.213639222071615,0.0014800902837428,0.0080919615897452,0.343893059555948,0.0013960128270487,0.317865613703646,0.219239915169099,0.005610312649049,0.233524884920572,0.291260410427232,0.287269992147421,0.340636305641812,0.279798174967077],\"xbins\":{\"end\":1,\"start\":0},\"type\":\"histogram\"},{\"name\":\"Top 10 peaks (253)\",\"nbinsx\":10,\"x\":[0.0151384451627871,0.0102339127390992,0.280824385997604,0.0470104599488068,0.0128592059894402,0.0645487072083161,0.229551229692131,0.0455246789874178,0.0505786801396192,0.246158839859911,0.160887788510098,0.0486151860708342,0.347847971453868,0.298469101208636,0.0020919541736838,0.029217915503429,0.536463528404581,0.0789290547254318,0.0617979704110392,0.457848253699802,0.0044573195335863,0.0976128268807369,0.504389926612675,0.0262316392109308,0.116077098706839,0.108577236225002,0.0042632573647507,0.0217018422209144,0.0003171662433586,0.244964635339798,0.097348728384745,0.390254130035815,0.478489779953466,0.532989622768954,0.491287227107687,0.0057003866233707,0.264347523061581,0.046739626809636,0.0386668658371137,0.0039699608262114,0.080013380800668,0.016367097005556,0.0281252081996722,0.0165193773843557,0.548102770483425,0.236288083184846,0.0427206710907907,0.111140261095258,0.265709088735352,0.0941513468945162,0.320348638097961,0.479914553172336,0.0831997341399229,0.0781114539723864,0.0034444621383362,0.297222589419397,0.544341513221196,0.0562123801629654,0.0822803143816585,0.014311269200083,0.139737691473853,0.346764061676282,0.490997194148141,0.0116931215583679,0.328984485681633,0.283439067424682,0.0864662614351975,0.364124516216319,0.146684151466486,0.477794472348066,0.0457981585712789,0.454734137515373,0.117977023423274,0.440268036166085,0.0414017602559379,0.0057971892049643,0.0299833531984689,0.262934802548877,0.23929012146482,0.0381774840759795,0.0098089614768731,0.498695958787318,0.062678755186116,0.002776186638247,0.0030114019478382,0.257675911464507,0.142494230184513,0.155128826603015,0.0032994938279454,0.363801378697789,0.374555298746612,0.189281268266303,0.197494162863218,0.026909437561712,0.541548637282832,0.536830831233385,0.133564480469034,0.13906930183971,0.216632104129426,0.223709569476235,0.0621288932777068,0.0139115959434218,0.0535131548169789,0.0561731770091618,0.0465903795918118,0.0517926315395077,0.097046631896762,0.0944814710876382,0.349026248942621,0.0048090249230976,0.0033511188310616,0.376418361783619,0.0179055484836849,0.0009546916426751,0.0250821136631607,0.397073447309018,0.0527274846474092,0.31506846885624,0.147535797240959,0.0043085055290532,0.0444930994892239,0.0216126993150894,0.204182598356431,0.422001005563942,0.423598207430909,0.0141001572784285,0.317997725163404,0.358484928306194,0.0800295889864849,0.245623040798375,0.0146041125576712,0.0142349444391604,0.0868189591704307,0.466358318975283,0.0401860732683548,0.317899851865311,0.452073847803103,0.0082537386986574,0.158688688173306,0.061822226659658,0.38788345044289,0.0051578721274714,0.0008244461091402,0.0025210146425718,0.0006318470892286,0.0122348395136453,0.0387280253449855,0.105788871007562,0.0061509551067341,0.0356881935412572,0.062794513091906,0.138502434070248,0.238983392242909,0.271290487507344,0.109139602599504,0.0058865840233192,0.222823798874803,0.0136194075394309,0.0657242502647367,0.0467924318557668,0.0306558349338778,0.0413462144995164,0.016700895084528,0.0443965342341234,0.0641986573255321,0.065755985610667,0.0361298633837548,0.0472762884711011,0.0702593409449207,0.0125641831743707,0.0287231144809443,0.0534791914555942,0.0133905095308455,0.062515694035912,0.252233572108896,0.190752661099666,0.133724858633941,0.0611604290565,0.0064429820911895,0.0709668108954998,0.0612526706789852,0.389072951415912,0.186484977562486,0.187174771329276,0.111287724775463,0.183454234564145,0.0782679887242357,0.311958754432389,0.0077271622597039,0.001336207264937,0.0001438555182906,0.0187854264292013,0.129762681840733,0.0034961677326884,0.0142966374916303,0.0030655253326172,0.0091809047103469,0.139969659966009,0.0097721000423198,0.116642775088512,0.0028155264960047,0.0329748192512573,0.0043797124370432,0.0119778089382355,0.0338783759691781,0.13133389972515,0.22940121425794,0.148056632071528,0.110689969097876,0.0078477319240457,0.0926447054145795,0.387667868218833,0.191731365302496,0.0020444618088033,0.0074178085516563,0.0007929560172442,0.0417660536296314,0.456836004369418,0.163142356656214,0.333352125867879,0.22754923578204,0.274084236343546,0.0124893692310049,0.13431286923608,0.0481677649979225,0.0694355218784828,0.0959218589116504,0.042559228232689,0.296781144431807,0.0006467803085937,0.0106798185174243,0.010665601198334,0.0518234883770961,0.0001738515391366,0.0935262875536002,0.261688310675819,0.0377782308088382,0.0256765705163436,0.20458071565242,0.0010625213844153,0.0249150002600251,0.295490248247437,0.0011723062628936,0.0321754855078413,0.327118954335346,0.179417772786041,0.0080745467116802,0.196457675703418,0.281991772483522,0.324234146492739,0.322865600647792,0.251531601998738,0.0002131864418562],\"xbins\":{\"end\":1,\"start\":0},\"type\":\"histogram\"},{\"name\":\"Top 20 peaks (260)\",\"nbinsx\":10,\"x\":[0.0269411846662417,0.0253676066414482,0.0029178575576714,0.0064086900363674,0.252861977311683,0.0444377960629251,0.0106871051522672,0.0481292123445041,0.224560413742854,0.0527513752936736,0.039362361460931,0.242044244310349,0.189075364582812,0.0489723206557695,0.378576480833928,0.256098354810404,0.0018900169240337,0.0255888738252666,0.602301648400862,0.184325460162006,0.144550206744009,0.469354157281175,0.0214615390859544,0.103895984825808,0.54025607041891,0.026642979374599,0.170046122803163,0.141274560702057,0.0049885486848553,0.0223113500095425,0.0003171662433586,0.226359888827895,0.0008266178462279,0.0895429868769759,0.385328717397115,0.556992541958812,0.53372825997211,0.553474315158577,0.0046594783826047,0.313532731315417,0.0983621631878292,0.0794975815281698,0.0043242776245468,0.0873632548025122,0.0383989267553795,0.0627642094437834,0.019182511974904,0.517981646419492,0.241714568199056,0.0919101875492114,0.122227038206154,0.238505746692184,0.0815876517276903,0.333608452657264,0.538727542146113,0.0630984785072259,0.0674078619626542,0.0029934551551232,0.346998089534684,0.527771218080318,0.066890939577786,0.0716743139649342,0.0146280056424154,0.128817126879026,0.41481310516369,0.477391434284915,0.0474311020455599,0.323962009894421,0.290643810556995,0.0003286349496708,0.0867653284084934,0.396254391591997,0.123895973771526,0.591461617369312,0.0736748932415823,0.424442420735573,0.126866386445134,0.493403378964732,0.0769408566625809,0.0066260206343507,0.0295931610083742,0.254197029224499,0.272775859438032,0.0605972877911242,0.0192616616084058,0.553230906114456,0.0588670814824116,0.0021129754640453,0.0045788732627225,0.253149172654566,0.121667359447341,0.257660518515391,0.003144645703825,0.459358795237281,0.439525870787666,0.170765099042569,0.185739338723007,0.0379393535339576,0.533885257881435,0.553556503716386,0.142164689747264,0.12105705356162,0.238542456089994,0.247881188634153,0.0777922182583371,0.0129417455604576,0.0701207999712113,0.0497837387549552,0.100573856703176,0.0988293279916947,0.13140728371887,0.0944814710876382,0.500817431959981,0.0065271863811508,0.0549110309286188,0.345712262799435,0.0255193047311593,0.0008836240914789,0.022306257001114,0.430415575226089,0.0727288973007206,0.295789981796164,0.161801753920129,0.0077649230881386,0.0379296393779981,0.0338272946596801,0.195814005663698,0.388140772545573,0.487091014803664,0.0131172383179116,0.335456504305431,0.346895157003405,0.0705551718126406,0.217878350322063,0.016521666297881,0.0159560330039485,0.109254792472762,0.0013742273132467,0.45359569829699,0.040899870757732,0.261850205247706,0.403422290275803,0.0118685343440489,0.157189536056815,0.053021281500139,0.375925182638809,0.0099003075956276,0.0020956273897448,0.0035069586170035,0.0020410216357438,0.0138703139564689,0.0384482781088111,0.113872616011046,0.0377746093096634,0.0465040779016757,0.0548712275332884,0.139284925890282,0.231886666304969,0.268520745077487,0.0936893624307006,0.0433304405004972,0.222823798874803,0.0200367774342163,0.0683645385779661,0.0844093924912851,0.0596343425705668,0.0377487508958411,0.0158100675621174,0.0502660742229071,0.0619197026813144,0.0596006187155014,0.0387022305097385,0.0510914444528576,0.0714403057431412,0.0188771879571469,0.023850304098791,0.0435785144803354,0.0253962286597212,0.0568433353978161,0.228674042136966,0.197527252399292,0.106434851236848,0.0699016943103121,0.0052621664368743,0.0753478515527284,0.0655009269581159,0.356214420544871,0.195073794683858,0.163061890777507,0.086903192517375,0.185925631891012,0.0857375272262923,0.349025859040912,0.0109554080871108,0.0017184955268202,0.0001438555182906,0.0395473422440342,0.133873747454744,0.0028214952787487,0.0272969901395839,0.0052292189267092,0.0007981230335579,0.040347770739527,0.12511798687953,0.0097351488969249,0.100861479816755,0.0024213593244121,0.0290875318485601,0.0037801495871969,0.0126517771401125,0.0473930450321947,0.135964127340154,0.231728108353292,0.120049834669843,0.117787107469343,0.0069249877765939,0.116519564569448,0.354583550636728,0.230069548302889,0.0028115375645995,0.0068465915700936,0.000625082785293,0.0529365809785281,0.405312054571978,0.137533212521826,0.312681927663749,0.245880026271325,0.276626303562428,0.0140010674565209,0.19461583729515,0.0585941015873082,0.0636838753293075,0.0701714353091409,0.0504630855843921,0.359267470146128,0.0015986934255314,0.0163538401741595,0.0124162399609066,0.0510825787958364,0.0010682550157949,0.109309364927208,0.247204847216547,0.039559336534573,0.0545689705245391,0.213442823595427,0.0022486046773111,0.0368469681373469,0.262602600487409,0.0012967312221608,0.0278424591418645,0.387308048468224,0.198154790224277,0.047435465048775,0.204713266432311,0.320269486929621,0.296435690898114,0.34905708373038,0.228531384141478,0.0001062323639017,0.0001474373125846],\"xbins\":{\"end\":1,\"start\":0},\"type\":\"histogram\"}],                        {\"font\":{\"size\":17},\"legend\":{\"x\":0.81,\"y\":1.0},\"title\":{\"text\":\"MatchSpectra: filter -> 1%I\"},\"xaxis\":{\"dtick\":0.1,\"range\":[0,1],\"tickfont\":{\"size\":15},\"title\":{\"text\":\"Score\"}},\"yaxis\":{\"range\":[0,140],\"tickfont\":{\"size\":15},\"title\":{\"text\":\"Frequency\"}},\"template\":{\"data\":{\"histogram2dcontour\":[{\"type\":\"histogram2dcontour\",\"colorbar\":{\"outlinewidth\":0,\"ticks\":\"\"},\"colorscale\":[[0.0,\"#0d0887\"],[0.1111111111111111,\"#46039f\"],[0.2222222222222222,\"#7201a8\"],[0.3333333333333333,\"#9c179e\"],[0.4444444444444444,\"#bd3786\"],[0.5555555555555556,\"#d8576b\"],[0.6666666666666666,\"#ed7953\"],[0.7777777777777778,\"#fb9f3a\"],[0.8888888888888888,\"#fdca26\"],[1.0,\"#f0f921\"]]}],\"choropleth\":[{\"type\":\"choropleth\",\"colorbar\":{\"outlinewidth\":0,\"ticks\":\"\"}}],\"histogram2d\":[{\"type\":\"histogram2d\",\"colorbar\":{\"outlinewidth\":0,\"ticks\":\"\"},\"colorscale\":[[0.0,\"#0d0887\"],[0.1111111111111111,\"#46039f\"],[0.2222222222222222,\"#7201a8\"],[0.3333333333333333,\"#9c179e\"],[0.4444444444444444,\"#bd3786\"],[0.5555555555555556,\"#d8576b\"],[0.6666666666666666,\"#ed7953\"],[0.7777777777777778,\"#fb9f3a\"],[0.8888888888888888,\"#fdca26\"],[1.0,\"#f0f921\"]]}],\"heatmap\":[{\"type\":\"heatmap\",\"colorbar\":{\"outlinewidth\":0,\"ticks\":\"\"},\"colorscale\":[[0.0,\"#0d0887\"],[0.1111111111111111,\"#46039f\"],[0.2222222222222222,\"#7201a8\"],[0.3333333333333333,\"#9c179e\"],[0.4444444444444444,\"#bd3786\"],[0.5555555555555556,\"#d8576b\"],[0.6666666666666666,\"#ed7953\"],[0.7777777777777778,\"#fb9f3a\"],[0.8888888888888888,\"#fdca26\"],[1.0,\"#f0f921\"]]}],\"heatmapgl\":[{\"type\":\"heatmapgl\",\"colorbar\":{\"outlinewidth\":0,\"ticks\":\"\"},\"colorscale\":[[0.0,\"#0d0887\"],[0.1111111111111111,\"#46039f\"],[0.2222222222222222,\"#7201a8\"],[0.3333333333333333,\"#9c179e\"],[0.4444444444444444,\"#bd3786\"],[0.5555555555555556,\"#d8576b\"],[0.6666666666666666,\"#ed7953\"],[0.7777777777777778,\"#fb9f3a\"],[0.8888888888888888,\"#fdca26\"],[1.0,\"#f0f921\"]]}],\"contourcarpet\":[{\"type\":\"contourcarpet\",\"colorbar\":{\"outlinewidth\":0,\"ticks\":\"\"}}],\"contour\":[{\"type\":\"contour\",\"colorbar\":{\"outlinewidth\":0,\"ticks\":\"\"},\"colorscale\":[[0.0,\"#0d0887\"],[0.1111111111111111,\"#46039f\"],[0.2222222222222222,\"#7201a8\"],[0.3333333333333333,\"#9c179e\"],[0.4444444444444444,\"#bd3786\"],[0.5555555555555556,\"#d8576b\"],[0.6666666666666666,\"#ed7953\"],[0.7777777777777778,\"#fb9f3a\"],[0.8888888888888888,\"#fdca26\"],[1.0,\"#f0f921\"]]}],\"surface\":[{\"type\":\"surface\",\"colorbar\":{\"outlinewidth\":0,\"ticks\":\"\"},\"colorscale\":[[0.0,\"#0d0887\"],[0.1111111111111111,\"#46039f\"],[0.2222222222222222,\"#7201a8\"],[0.3333333333333333,\"#9c179e\"],[0.4444444444444444,\"#bd3786\"],[0.5555555555555556,\"#d8576b\"],[0.6666666666666666,\"#ed7953\"],[0.7777777777777778,\"#fb9f3a\"],[0.8888888888888888,\"#fdca26\"],[1.0,\"#f0f921\"]]}],\"mesh3d\":[{\"type\":\"mesh3d\",\"colorbar\":{\"outlinewidth\":0,\"ticks\":\"\"}}],\"scatter\":[{\"fillpattern\":{\"fillmode\":\"overlay\",\"size\":10,\"solidity\":0.2},\"type\":\"scatter\"}],\"parcoords\":[{\"type\":\"parcoords\",\"line\":{\"colorbar\":{\"outlinewidth\":0,\"ticks\":\"\"}}}],\"scatterpolargl\":[{\"type\":\"scatterpolargl\",\"marker\":{\"colorbar\":{\"outlinewidth\":0,\"ticks\":\"\"}}}],\"bar\":[{\"error_x\":{\"color\":\"#2a3f5f\"},\"error_y\":{\"color\":\"#2a3f5f\"},\"marker\":{\"line\":{\"color\":\"#E5ECF6\",\"width\":0.5},\"pattern\":{\"fillmode\":\"overlay\",\"size\":10,\"solidity\":0.2}},\"type\":\"bar\"}],\"scattergeo\":[{\"type\":\"scattergeo\",\"marker\":{\"colorbar\":{\"outlinewidth\":0,\"ticks\":\"\"}}}],\"scatterpolar\":[{\"type\":\"scatterpolar\",\"marker\":{\"colorbar\":{\"outlinewidth\":0,\"ticks\":\"\"}}}],\"histogram\":[{\"marker\":{\"pattern\":{\"fillmode\":\"overlay\",\"size\":10,\"solidity\":0.2}},\"type\":\"histogram\"}],\"scattergl\":[{\"type\":\"scattergl\",\"marker\":{\"colorbar\":{\"outlinewidth\":0,\"ticks\":\"\"}}}],\"scatter3d\":[{\"type\":\"scatter3d\",\"line\":{\"colorbar\":{\"outlinewidth\":0,\"ticks\":\"\"}},\"marker\":{\"colorbar\":{\"outlinewidth\":0,\"ticks\":\"\"}}}],\"scattermapbox\":[{\"type\":\"scattermapbox\",\"marker\":{\"colorbar\":{\"outlinewidth\":0,\"ticks\":\"\"}}}],\"scatterternary\":[{\"type\":\"scatterternary\",\"marker\":{\"colorbar\":{\"outlinewidth\":0,\"ticks\":\"\"}}}],\"scattercarpet\":[{\"type\":\"scattercarpet\",\"marker\":{\"colorbar\":{\"outlinewidth\":0,\"ticks\":\"\"}}}],\"carpet\":[{\"aaxis\":{\"endlinecolor\":\"#2a3f5f\",\"gridcolor\":\"white\",\"linecolor\":\"white\",\"minorgridcolor\":\"white\",\"startlinecolor\":\"#2a3f5f\"},\"baxis\":{\"endlinecolor\":\"#2a3f5f\",\"gridcolor\":\"white\",\"linecolor\":\"white\",\"minorgridcolor\":\"white\",\"startlinecolor\":\"#2a3f5f\"},\"type\":\"carpet\"}],\"table\":[{\"cells\":{\"fill\":{\"color\":\"#EBF0F8\"},\"line\":{\"color\":\"white\"}},\"header\":{\"fill\":{\"color\":\"#C8D4E3\"},\"line\":{\"color\":\"white\"}},\"type\":\"table\"}],\"barpolar\":[{\"marker\":{\"line\":{\"color\":\"#E5ECF6\",\"width\":0.5},\"pattern\":{\"fillmode\":\"overlay\",\"size\":10,\"solidity\":0.2}},\"type\":\"barpolar\"}],\"pie\":[{\"automargin\":true,\"type\":\"pie\"}]},\"layout\":{\"autotypenumbers\":\"strict\",\"colorway\":[\"#636efa\",\"#EF553B\",\"#00cc96\",\"#ab63fa\",\"#FFA15A\",\"#19d3f3\",\"#FF6692\",\"#B6E880\",\"#FF97FF\",\"#FECB52\"],\"font\":{\"color\":\"#2a3f5f\"},\"hovermode\":\"closest\",\"hoverlabel\":{\"align\":\"left\"},\"paper_bgcolor\":\"white\",\"plot_bgcolor\":\"#E5ECF6\",\"polar\":{\"bgcolor\":\"#E5ECF6\",\"angularaxis\":{\"gridcolor\":\"white\",\"linecolor\":\"white\",\"ticks\":\"\"},\"radialaxis\":{\"gridcolor\":\"white\",\"linecolor\":\"white\",\"ticks\":\"\"}},\"ternary\":{\"bgcolor\":\"#E5ECF6\",\"aaxis\":{\"gridcolor\":\"white\",\"linecolor\":\"white\",\"ticks\":\"\"},\"baxis\":{\"gridcolor\":\"white\",\"linecolor\":\"white\",\"ticks\":\"\"},\"caxis\":{\"gridcolor\":\"white\",\"linecolor\":\"white\",\"ticks\":\"\"}},\"coloraxis\":{\"colorbar\":{\"outlinewidth\":0,\"ticks\":\"\"}},\"colorscale\":{\"sequential\":[[0.0,\"#0d0887\"],[0.1111111111111111,\"#46039f\"],[0.2222222222222222,\"#7201a8\"],[0.3333333333333333,\"#9c179e\"],[0.4444444444444444,\"#bd3786\"],[0.5555555555555556,\"#d8576b\"],[0.6666666666666666,\"#ed7953\"],[0.7777777777777778,\"#fb9f3a\"],[0.8888888888888888,\"#fdca26\"],[1.0,\"#f0f921\"]],\"sequentialminus\":[[0.0,\"#0d0887\"],[0.1111111111111111,\"#46039f\"],[0.2222222222222222,\"#7201a8\"],[0.3333333333333333,\"#9c179e\"],[0.4444444444444444,\"#bd3786\"],[0.5555555555555556,\"#d8576b\"],[0.6666666666666666,\"#ed7953\"],[0.7777777777777778,\"#fb9f3a\"],[0.8888888888888888,\"#fdca26\"],[1.0,\"#f0f921\"]],\"diverging\":[[0,\"#8e0152\"],[0.1,\"#c51b7d\"],[0.2,\"#de77ae\"],[0.3,\"#f1b6da\"],[0.4,\"#fde0ef\"],[0.5,\"#f7f7f7\"],[0.6,\"#e6f5d0\"],[0.7,\"#b8e186\"],[0.8,\"#7fbc41\"],[0.9,\"#4d9221\"],[1,\"#276419\"]]},\"xaxis\":{\"gridcolor\":\"white\",\"linecolor\":\"white\",\"ticks\":\"\",\"title\":{\"standoff\":15},\"zerolinecolor\":\"white\",\"automargin\":true,\"zerolinewidth\":2},\"yaxis\":{\"gridcolor\":\"white\",\"linecolor\":\"white\",\"ticks\":\"\",\"title\":{\"standoff\":15},\"zerolinecolor\":\"white\",\"automargin\":true,\"zerolinewidth\":2},\"scene\":{\"xaxis\":{\"backgroundcolor\":\"#E5ECF6\",\"gridcolor\":\"white\",\"linecolor\":\"white\",\"showbackground\":true,\"ticks\":\"\",\"zerolinecolor\":\"white\",\"gridwidth\":2},\"yaxis\":{\"backgroundcolor\":\"#E5ECF6\",\"gridcolor\":\"white\",\"linecolor\":\"white\",\"showbackground\":true,\"ticks\":\"\",\"zerolinecolor\":\"white\",\"gridwidth\":2},\"zaxis\":{\"backgroundcolor\":\"#E5ECF6\",\"gridcolor\":\"white\",\"linecolor\":\"white\",\"showbackground\":true,\"ticks\":\"\",\"zerolinecolor\":\"white\",\"gridwidth\":2}},\"shapedefaults\":{\"line\":{\"color\":\"#2a3f5f\"}},\"annotationdefaults\":{\"arrowcolor\":\"#2a3f5f\",\"arrowhead\":0,\"arrowwidth\":1},\"geo\":{\"bgcolor\":\"white\",\"landcolor\":\"#E5ECF6\",\"subunitcolor\":\"white\",\"showland\":true,\"showlakes\":true,\"lakecolor\":\"white\"},\"title\":{\"x\":0.05},\"mapbox\":{\"style\":\"light\"}}}},                        {\"responsive\": true}                    ).then(function(){\n",
       "                            \n",
       "var gd = document.getElementById('ce915a90-c9a9-487d-9ac9-768fec46df80');\n",
       "var x = new MutationObserver(function (mutations, observer) {{\n",
       "        var display = window.getComputedStyle(gd).display;\n",
       "        if (!display || display === 'none') {{\n",
       "            console.log([gd, 'removed!']);\n",
       "            Plotly.purge(gd);\n",
       "            observer.disconnect();\n",
       "        }}\n",
       "}});\n",
       "\n",
       "// Listen for the removal of the full notebook cells\n",
       "var notebookContainer = gd.closest('#notebook-container');\n",
       "if (notebookContainer) {{\n",
       "    x.observe(notebookContainer, {childList: true});\n",
       "}}\n",
       "\n",
       "// Listen for the clearing of the current output cell\n",
       "var outputEl = gd.closest('.output');\n",
       "if (outputEl) {{\n",
       "    x.observe(outputEl, {childList: true});\n",
       "}}\n",
       "\n",
       "                        })                };                });            </script>        </div>"
      ]
     },
     "metadata": {},
     "output_type": "display_data"
    }
   ],
   "source": [
    "plot_histograms_sidebyside(same_query_ref9, same_query_ref11, same_query_ref2, same_query_ref3, same_query_ref4, 'score',  'Score', 'MatchSpectra: filter -> 1%I')"
   ]
  },
  {
   "cell_type": "code",
   "execution_count": 73,
   "metadata": {},
   "outputs": [
    {
     "data": {
      "application/vnd.plotly.v1+json": {
       "config": {
        "plotlyServerURL": "https://plot.ly"
       },
       "data": [
        {
         "name": "All peaks (273)",
         "nbinsx": 10,
         "type": "histogram",
         "x": [
          0.0369969515557257,
          0.0681118957037871,
          0.0263525507660333,
          0.0256006992942614,
          0.0460027584403349,
          0.246706559559347,
          0.0398392599867763,
          0.0295134188133813,
          0.0527203584433902,
          0.151880297836503,
          0.0664133873887951,
          0.0478704552466439,
          0.252803378183077,
          0.15154218696848,
          0.0489723206557695,
          0.246718557027312,
          0.179802227231354,
          0.0007222927405253,
          0.0031529580477294,
          0.030272844682019,
          0.475886684781483,
          0.175414109818041,
          0.133527892648274,
          0.430207220249801,
          0.030872773708115,
          0.0933549574921879,
          0.449155761451388,
          0.0256620231182685,
          0.269929726889986,
          0.162237529142611,
          0.0045091111004879,
          0.0421172421097138,
          0.0003171662433586,
          0.211810273097868,
          0.002663643413113,
          0.0975389002378576,
          0.37562937071044,
          0.535743638598305,
          0.442972887369742,
          0.49355285057004,
          0.0058545704281422,
          0.304949246397232,
          0.108579223606815,
          0.0968282941185072,
          0.0106644331690516,
          0.147948866764021,
          0.0650585429864235,
          0.0584802719119174,
          0.0378338490585295,
          0.479356674898239,
          0.240664378507329,
          0.139490453407228,
          0.118050008928152,
          0.210887323893913,
          0.130003918822222,
          0.327120910251402,
          0.526520484386681,
          0.126247966091454,
          0.062744323961501,
          0.0027705096446486,
          0.0003601042841225,
          0.264090826484265,
          0.530354278667409,
          0.064945556619777,
          0.0716743139649342,
          0.0885759566446246,
          0.126749017502083,
          0.449323543635251,
          0.443412556899961,
          0.0459068631403565,
          0.297247010872355,
          0.246319818159826,
          0.0003217246919456,
          0.0849409004786107,
          0.358972452217758,
          0.131882768047159,
          0.001033557039999,
          0.568092751633514,
          0.070227098720553,
          0.415852628953651,
          0.124596747612048,
          0.422498682351247,
          0.105685128832418,
          0.0062133548997885,
          0.0224814516690982,
          0.163898485697835,
          0.259150519931835,
          0.0594113007919095,
          0.0241572945390083,
          0.504447639615898,
          0.0700318421696646,
          0.0001089559301928,
          0.0017320685958859,
          0.0042090860168586,
          0.249848804745937,
          0.119864714233072,
          0.283411710015804,
          0.003144645703825,
          0.383193185080228,
          0.465308216639668,
          0.158356416479788,
          0.177944961291202,
          0.0673489962339841,
          0.499929002899303,
          0.487131815199295,
          0.0004090828226931,
          0.118279259408481,
          0.0989205635978975,
          0.201437654991701,
          0.270976851859986,
          0.135106019488831,
          0.012690793681158,
          0.134558435289364,
          0.0626865501021194,
          0.0878687061456021,
          0.0929678641906078,
          0.175302068257046,
          0.0944814710876382,
          0.482328480391936,
          0.0487931510824626,
          0.0785111794852939,
          0.409171976409625,
          0.0508272486775189,
          0.0008836240914789,
          0.0207291421631291,
          0.394329731630529,
          0.0877521794309198,
          0.315133454179887,
          0.162547792955153,
          0.0163145355540577,
          0.0577052994069867,
          0.0377886719366234,
          0.222705078581481,
          0.388140772545573,
          0.430478350319439,
          0.0129613496768437,
          0.324018044959221,
          0.296600327862521,
          0.0861573663612359,
          0.240736034164224,
          0.0261228163845682,
          0.0264820424479007,
          0.162205340325552,
          0.0264457023143443,
          0.378874135567463,
          0.0402485983472174,
          0.298205209945477,
          0.269274921126272,
          0.0140339397048898,
          0.148649210076611,
          0.0559748182731028,
          0.349819314003661,
          0.0246898360863158,
          0.0032622372019143,
          0.0078033487456618,
          0.0044790877116616,
          0.0190883693755572,
          0.0375561111675,
          0.0978472154821694,
          0.0765702259573281,
          0.0493032711719127,
          0.0874425323783471,
          0.142125728199491,
          0.252248424237719,
          0.26824460375502,
          0.0968182616987448,
          0.0805945701082502,
          0.222823798874803,
          0.025833347960186,
          0.0856017973634041,
          0.132164611251685,
          0.0938638823361253,
          0.0450798125573624,
          0.0316439075586029,
          0.0454242245570422,
          0.0687853400658266,
          0.0614393198245728,
          0.043130420675113,
          0.0961744326667387,
          0.0974139318322506,
          0.0185563156001312,
          0.0185304620728438,
          0.0550167345108845,
          0.0278603334209832,
          0.0797549861392331,
          0.212590158101224,
          0.202300180742142,
          0.12594138479532,
          0.100561439803097,
          0.006310854709818,
          0.0702263705422782,
          0.0880213357652532,
          0.303115190988767,
          0.142227022718275,
          0.17775386100957,
          0.0949850734267257,
          0.175089719428112,
          0.0820905771945729,
          0.375785563769526,
          0.0096891515530217,
          0.001630273504167,
          0.0001438555182906,
          0.101707296258489,
          0.130402995428688,
          0.0028214952787487,
          0.0266994667253128,
          0.0051291681468817,
          0.0007899132203097,
          0.051820639749828,
          0.132953195756474,
          0.0253712603965636,
          0.107299507842556,
          0.0026960222626234,
          0.0304479414382985,
          0.0041774739762269,
          0.0126517771401125,
          0.0542766539956386,
          0.0006413367688966,
          0.133145976928469,
          0.0004220501711621,
          0.22446599890214,
          0.151078721839793,
          0.0955267255352674,
          0.0075513003751496,
          0.116556539258377,
          0.0001882578826823,
          0.361041518197687,
          0.192254441518801,
          0.0137724264780793,
          0.0041763673454463,
          0.0068465915700936,
          0.0005088477926016,
          0.0631842696768323,
          0.386077515900254,
          0.122173819204695,
          0.280414167908886,
          0.259491870393726,
          0.280858590437468,
          0.0121973857556947,
          0.308756621536413,
          0.16083818389207,
          0.234689187147953,
          0.0001562895606683,
          0.0689347731598455,
          0.120976273871959,
          0.393123536371047,
          0.0113194950591853,
          0.0160179011259891,
          0.0213361270624404,
          0.0735026097935487,
          0.0010682550157949,
          0.224863269870746,
          0.352341191589527,
          0.117782860432583,
          0.17879823156304,
          0.293670953826682,
          0.0054706542721085,
          0.0365934171330439,
          0.3014612341721,
          0.0016604660773503,
          0.0299780069158763,
          0.387308048468224,
          0.194527121354065,
          0.0636487393967776,
          0.216459047847578,
          0.320269486929621,
          0.309991530832543,
          0.378111529361856,
          0.273339990028185,
          0.0001143918813748,
          0.0001988430036925,
          0.0003583643957734,
          0.000595363990355
         ],
         "xbins": {
          "end": 1,
          "start": 0
         }
        },
        {
         "name": "Top 3 peaks (213)",
         "nbinsx": 10,
         "type": "histogram",
         "x": [
          0.326825237457499,
          0.0249296165668705,
          0.0189335240356281,
          0.0022058126465026,
          0.238593667187667,
          0.0152415422604625,
          0.0276154640085391,
          0.204471158394578,
          0.0591668723204273,
          0.0419780423447848,
          0.343383411200838,
          0.257718357341456,
          0.0035174519948691,
          0.0281007677529446,
          0.399739996308636,
          0.491578660982816,
          0.00171848815656,
          0.159754031839499,
          0.398511903584579,
          0.232724603098829,
          0.114806819846579,
          0.0016468123363474,
          0.277893580786571,
          0.027324481831123,
          0.439562640229324,
          0.297215197296914,
          0.27425272704877,
          0.39663070307781,
          0.176207024991514,
          0.0585246738086586,
          0.008505385498861,
          0.0181775423924738,
          0.380549774193076,
          0.252283021076601,
          0.138920825980948,
          0.318027025851213,
          0.0610365089648734,
          0.192738741078996,
          0.276620257734531,
          0.0766143943050255,
          0.0828917749077474,
          0.0052362534577736,
          0.215239786313596,
          0.277760330635432,
          0.0353478689629864,
          0.0923665684026102,
          0.0043897630977587,
          0.142743860466057,
          0.222600538374743,
          0.419070889998638,
          0.153727323706866,
          0.279092397715855,
          0.0640864541744411,
          0.258717580577466,
          0.149620402210895,
          0.297725262768602,
          0.0406471754720518,
          0.426693623240851,
          0.102912916501197,
          0.189971971828903,
          0.0123445460114914,
          0.212926885815109,
          0.373039681618367,
          0.0115337055168785,
          0.265655540433131,
          0.0525463843901889,
          0.0052675365991947,
          0.005713834133695,
          0.107779773733526,
          0.0753840446703302,
          0.0517758439677291,
          0.442344400253545,
          0.272599485491395,
          0.0008643419972032,
          0.0133376260955271,
          0.23354300782779,
          0.421031770836459,
          0.0662501980963223,
          0.0758602496623223,
          0.328283305306783,
          0.165137436094444,
          0.0445380400403051,
          0.0011315907965004,
          0.0012711140251973,
          0.0484539973009175,
          0.0258775640625084,
          0.0254981992710242,
          0.0575765497704939,
          0.0442569746301908,
          0.193882460676344,
          0.003869342354695,
          0.0006629926782379,
          0.305713759340225,
          0.0209364054990751,
          0.275798588047909,
          0.016331445540439,
          0.322916576887725,
          0.152065770897738,
          0.0034735263416996,
          0.0229175083980108,
          0.119115204846153,
          0.545069055807463,
          0.361559614408479,
          0.019069817301703,
          0.0664067699493804,
          0.361633799675155,
          0.090855077190243,
          0.262202829446205,
          0.021180239737157,
          0.0193193592225416,
          0.0617730901116721,
          0.481102932434084,
          0.0054315210719916,
          0.317705916368825,
          0.501607802772848,
          0.147123763332496,
          0.0028096733738863,
          0.379246156178834,
          0.0010167934279514,
          0.0006257581660278,
          0.0010605842640013,
          0.0136421246850335,
          0.0496412100526467,
          0.0587324806248702,
          0.0006774622853615,
          0.0167113954208801,
          0.0135322774669835,
          0.0868251799742241,
          0.221190132551593,
          0.273230886512328,
          0.0180795687271533,
          0.0072439821443506,
          0.224980383048292,
          0.095001445656439,
          0.0525723781861896,
          0.0414309895288781,
          0.0514808267183159,
          0.0091839240698448,
          0.0274686573952542,
          0.0225830221069972,
          0.0232578632391882,
          0.0132384452388575,
          0.0130448980933051,
          0.0154352944661854,
          0.0070677213208112,
          0.0280575811365346,
          0.0203990455253583,
          0.0223376886574503,
          0.275348625975107,
          0.21571777386147,
          0.216598007176524,
          0.0250456368192855,
          0.0022614599992744,
          0.107548526400446,
          0.0580455002938595,
          0.593163450598013,
          0.229292594858696,
          0.239385165501949,
          0.172237827919178,
          0.0071557111248343,
          0.0602844476825367,
          0.208948939120663,
          0.0110486666734458,
          0.131152987696268,
          0.0060988636843901,
          0.0041977492810912,
          0.0012116048469452,
          0.132279158043839,
          0.0017843011419122,
          0.108881927435354,
          0.0514768106696083,
          0.0064060596163605,
          0.0174841632724616,
          0.090268102046579,
          0.25862202890341,
          0.197922613971406,
          0.056783249892068,
          0.0096675899808696,
          0.0927015925960465,
          0.549215762709661,
          0.215636165758713,
          0.346136719978574,
          0.157800741101859,
          0.266849513955819,
          0.236011054914886,
          0.28054114590149,
          0.0155855911946611,
          0.0374090872491891,
          0.0694170934794756,
          0.0444259496298593,
          0.025609746919178,
          0.0698598250824092,
          0.333224434142918,
          0.00111807999697,
          0.0031932041355975,
          0.0035751290987873,
          0.0877707675407191,
          0.0408718675754761,
          0.224658877298392,
          0.0259693747790061,
          0.0203827239410352,
          0.248405233298513,
          0.0034457953473616,
          0.364790433882766,
          0.0016491170551083,
          0.28076550973969,
          0.122196920360368,
          0.0062218862490483,
          0.13690829043335,
          0.228453476953365,
          0.365210341017778,
          0.323748201910478,
          0.142352758779436
         ],
         "xbins": {
          "end": 1,
          "start": 0
         }
        },
        {
         "name": "Top 5 peaks (236)",
         "nbinsx": 10,
         "type": "histogram",
         "x": [
          0.0052606213013021,
          0.272361912864841,
          0.0457077584535173,
          0.0149944196085064,
          0.0015783607895314,
          0.267905821066631,
          0.016969076142043,
          0.0648197141290369,
          0.201683864364502,
          0.207324257776341,
          0.0539127015993937,
          0.301428729280874,
          0.279100109905966,
          0.0025290350071701,
          0.0248443842153615,
          0.372918718248176,
          0.0390067514606116,
          0.0309040293081289,
          0.443056884282767,
          0.0052239026876404,
          0.125170503028238,
          0.411053691919116,
          0.0084239729077195,
          0.163502144257617,
          0.118729020818678,
          0.0051571455989649,
          0.0013002362020941,
          0.0003234085564098,
          0.269007905001916,
          0.136005788146025,
          0.378941337344311,
          0.338448133381367,
          0.386187613363933,
          0.416234069992909,
          0.189496082882533,
          0.0132149514525295,
          0.0105104644980054,
          0.0444110995480162,
          0.0170346707676763,
          0.0112710454563951,
          0.0231801186075024,
          0.445524223963095,
          0.203508544367987,
          0.0290135110040614,
          0.111563360022253,
          0.304889478621351,
          0.0749297729659512,
          0.366019516694467,
          0.355650763389265,
          0.0509126428421001,
          0.080482481937762,
          0.0044015570556564,
          0.238795016839577,
          0.3454285878063,
          0.043833277910888,
          0.076264164544557,
          0.0078363434247664,
          0.160987887573255,
          0.236349417540264,
          0.330339930784202,
          0.0014189554046701,
          0.184941582495687,
          0.267119038226627,
          0.054791385378044,
          0.274183604642396,
          0.173758608554526,
          0.342453765504495,
          0.0392509727647561,
          0.507029785977849,
          0.0808143286480448,
          0.261628502305333,
          0.0188710373434734,
          0.0157437003498112,
          0.301662261801799,
          0.291967849365544,
          0.0230114202638505,
          0.330685356253773,
          0.0624623074516073,
          0.0038590780180564,
          0.0041860424296879,
          0.206338845983836,
          0.159367346253876,
          0.167655738825579,
          0.0036312703471305,
          0.40670323301005,
          0.313486510115716,
          0.0877087517459552,
          0.111389502346782,
          0.0090178367537323,
          0.328306976152904,
          0.423561863889377,
          0.0570008069748592,
          0.0654741927718264,
          0.275993885605959,
          0.208504732574689,
          0.0823272453294115,
          0.0008969949449223,
          0.0189989312773158,
          0.0559953164355131,
          0.0427980807336017,
          0.0410848526157135,
          0.0623916301614166,
          0.0929529458848859,
          0.292222779878579,
          0.0031142594981776,
          0.0004713019229237,
          0.414161306564456,
          0.0003251583240695,
          0.0166306873282479,
          0.413828109889027,
          0.0486712343822818,
          0.376146376904842,
          0.164838270023949,
          0.0056663442181039,
          0.0443441559868207,
          0.0286926795757453,
          0.111984591038549,
          0.478044273171876,
          0.402094288732722,
          0.0157804821960512,
          0.218260488537203,
          0.360224545666779,
          0.0764445712591236,
          0.207885675500293,
          0.0150687450215079,
          0.0195910201534488,
          0.102835252014867,
          0.465420889600556,
          0.0483359615553198,
          0.355243930837437,
          0.396211551072327,
          0.133722554216166,
          0.0158990134697123,
          0.425484394835389,
          0.0030872372615074,
          0.0033522890900655,
          0.0007890423514809,
          0.0108763084189912,
          0.0372552062695869,
          0.0425817157905564,
          0.0005429234007633,
          0.0269635019543487,
          0.0105978272861001,
          0.0824730258961513,
          0.202975683186866,
          0.254144450344462,
          0.0133496506493992,
          0.0052161129415949,
          0.222823798874803,
          0.0164392313871944,
          0.0718678599596194,
          0.0496576141625446,
          0.0297674017400478,
          0.0461870844731296,
          0.0100730767880828,
          0.0346229285457812,
          0.0454348393057788,
          0.045718257635038,
          0.0250321137719643,
          0.0144518758284866,
          0.0174881858735746,
          0.005325959121325,
          0.0310489727321612,
          0.0370337971842923,
          0.0059266640900821,
          0.0409713888240303,
          0.21984306239902,
          0.15961172917025,
          0.152355694046433,
          0.0741832692204043,
          0.001923368305923,
          0.0927341037055124,
          0.0674261748520306,
          0.486812142121789,
          0.187008206909305,
          0.206814133466163,
          0.142096975757598,
          0.201184603121827,
          0.0518886358802466,
          0.277211350779649,
          0.0090945587007008,
          0.113031417093463,
          0.0047999641167775,
          0.0002918972728978,
          0.0034629977685876,
          0.011858598117988,
          0.110167303515106,
          0.0013782649844725,
          0.0825333133830793,
          0.0378203165299267,
          0.005396293490884,
          0.0005603606066117,
          0.0435162865503314,
          0.133053694796514,
          0.24341257866183,
          0.18858458028283,
          0.102797506853917,
          0.0087476173587182,
          0.0801793507796602,
          0.478480886180628,
          0.219019152493355,
          0.0010935750889606,
          0.0324784550490225,
          0.448892172916765,
          0.190533355574254,
          0.322257607930235,
          0.197501840576915,
          0.290804396083767,
          0.0129277737473605,
          0.131556119166435,
          0.0528400240910193,
          0.0656469373529963,
          0.0998346802233409,
          0.0572045301510697,
          0.348946269976437,
          0.0008738067555778,
          0.0130945428579546,
          0.013417196785314,
          0.0705425700249428,
          0.0483342846039173,
          0.273437066116631,
          0.0276303752544908,
          0.016816366904224,
          0.213639222071615,
          0.0014800902837428,
          0.0080919615897452,
          0.343893059555948,
          0.0013960128270487,
          0.317865613703646,
          0.219239915169099,
          0.005610312649049,
          0.233524884920572,
          0.291260410427232,
          0.287269992147421,
          0.340636305641812,
          0.279798174967077
         ],
         "xbins": {
          "end": 1,
          "start": 0
         }
        },
        {
         "name": "Top 10 peaks (253)",
         "nbinsx": 10,
         "type": "histogram",
         "x": [
          0.0151384451627871,
          0.0102339127390992,
          0.280824385997604,
          0.0470104599488068,
          0.0128592059894402,
          0.0645487072083161,
          0.229551229692131,
          0.0455246789874178,
          0.0505786801396192,
          0.246158839859911,
          0.160887788510098,
          0.0486151860708342,
          0.347847971453868,
          0.298469101208636,
          0.0020919541736838,
          0.029217915503429,
          0.536463528404581,
          0.0789290547254318,
          0.0617979704110392,
          0.457848253699802,
          0.0044573195335863,
          0.0976128268807369,
          0.504389926612675,
          0.0262316392109308,
          0.116077098706839,
          0.108577236225002,
          0.0042632573647507,
          0.0217018422209144,
          0.0003171662433586,
          0.244964635339798,
          0.097348728384745,
          0.390254130035815,
          0.478489779953466,
          0.532989622768954,
          0.491287227107687,
          0.0057003866233707,
          0.264347523061581,
          0.046739626809636,
          0.0386668658371137,
          0.0039699608262114,
          0.080013380800668,
          0.016367097005556,
          0.0281252081996722,
          0.0165193773843557,
          0.548102770483425,
          0.236288083184846,
          0.0427206710907907,
          0.111140261095258,
          0.265709088735352,
          0.0941513468945162,
          0.320348638097961,
          0.479914553172336,
          0.0831997341399229,
          0.0781114539723864,
          0.0034444621383362,
          0.297222589419397,
          0.544341513221196,
          0.0562123801629654,
          0.0822803143816585,
          0.014311269200083,
          0.139737691473853,
          0.346764061676282,
          0.490997194148141,
          0.0116931215583679,
          0.328984485681633,
          0.283439067424682,
          0.0864662614351975,
          0.364124516216319,
          0.146684151466486,
          0.477794472348066,
          0.0457981585712789,
          0.454734137515373,
          0.117977023423274,
          0.440268036166085,
          0.0414017602559379,
          0.0057971892049643,
          0.0299833531984689,
          0.262934802548877,
          0.23929012146482,
          0.0381774840759795,
          0.0098089614768731,
          0.498695958787318,
          0.062678755186116,
          0.002776186638247,
          0.0030114019478382,
          0.257675911464507,
          0.142494230184513,
          0.155128826603015,
          0.0032994938279454,
          0.363801378697789,
          0.374555298746612,
          0.189281268266303,
          0.197494162863218,
          0.026909437561712,
          0.541548637282832,
          0.536830831233385,
          0.133564480469034,
          0.13906930183971,
          0.216632104129426,
          0.223709569476235,
          0.0621288932777068,
          0.0139115959434218,
          0.0535131548169789,
          0.0561731770091618,
          0.0465903795918118,
          0.0517926315395077,
          0.097046631896762,
          0.0944814710876382,
          0.349026248942621,
          0.0048090249230976,
          0.0033511188310616,
          0.376418361783619,
          0.0179055484836849,
          0.0009546916426751,
          0.0250821136631607,
          0.397073447309018,
          0.0527274846474092,
          0.31506846885624,
          0.147535797240959,
          0.0043085055290532,
          0.0444930994892239,
          0.0216126993150894,
          0.204182598356431,
          0.422001005563942,
          0.423598207430909,
          0.0141001572784285,
          0.317997725163404,
          0.358484928306194,
          0.0800295889864849,
          0.245623040798375,
          0.0146041125576712,
          0.0142349444391604,
          0.0868189591704307,
          0.466358318975283,
          0.0401860732683548,
          0.317899851865311,
          0.452073847803103,
          0.0082537386986574,
          0.158688688173306,
          0.061822226659658,
          0.38788345044289,
          0.0051578721274714,
          0.0008244461091402,
          0.0025210146425718,
          0.0006318470892286,
          0.0122348395136453,
          0.0387280253449855,
          0.105788871007562,
          0.0061509551067341,
          0.0356881935412572,
          0.062794513091906,
          0.138502434070248,
          0.238983392242909,
          0.271290487507344,
          0.109139602599504,
          0.0058865840233192,
          0.222823798874803,
          0.0136194075394309,
          0.0657242502647367,
          0.0467924318557668,
          0.0306558349338778,
          0.0413462144995164,
          0.016700895084528,
          0.0443965342341234,
          0.0641986573255321,
          0.065755985610667,
          0.0361298633837548,
          0.0472762884711011,
          0.0702593409449207,
          0.0125641831743707,
          0.0287231144809443,
          0.0534791914555942,
          0.0133905095308455,
          0.062515694035912,
          0.252233572108896,
          0.190752661099666,
          0.133724858633941,
          0.0611604290565,
          0.0064429820911895,
          0.0709668108954998,
          0.0612526706789852,
          0.389072951415912,
          0.186484977562486,
          0.187174771329276,
          0.111287724775463,
          0.183454234564145,
          0.0782679887242357,
          0.311958754432389,
          0.0077271622597039,
          0.001336207264937,
          0.0001438555182906,
          0.0187854264292013,
          0.129762681840733,
          0.0034961677326884,
          0.0142966374916303,
          0.0030655253326172,
          0.0091809047103469,
          0.139969659966009,
          0.0097721000423198,
          0.116642775088512,
          0.0028155264960047,
          0.0329748192512573,
          0.0043797124370432,
          0.0119778089382355,
          0.0338783759691781,
          0.13133389972515,
          0.22940121425794,
          0.148056632071528,
          0.110689969097876,
          0.0078477319240457,
          0.0926447054145795,
          0.387667868218833,
          0.191731365302496,
          0.0020444618088033,
          0.0074178085516563,
          0.0007929560172442,
          0.0417660536296314,
          0.456836004369418,
          0.163142356656214,
          0.333352125867879,
          0.22754923578204,
          0.274084236343546,
          0.0124893692310049,
          0.13431286923608,
          0.0481677649979225,
          0.0694355218784828,
          0.0959218589116504,
          0.042559228232689,
          0.296781144431807,
          0.0006467803085937,
          0.0106798185174243,
          0.010665601198334,
          0.0518234883770961,
          0.0001738515391366,
          0.0935262875536002,
          0.261688310675819,
          0.0377782308088382,
          0.0256765705163436,
          0.20458071565242,
          0.0010625213844153,
          0.0249150002600251,
          0.295490248247437,
          0.0011723062628936,
          0.0321754855078413,
          0.327118954335346,
          0.179417772786041,
          0.0080745467116802,
          0.196457675703418,
          0.281991772483522,
          0.324234146492739,
          0.322865600647792,
          0.251531601998738,
          0.0002131864418562
         ],
         "xbins": {
          "end": 1,
          "start": 0
         }
        },
        {
         "name": "Top 20 peaks (260)",
         "nbinsx": 10,
         "type": "histogram",
         "x": [
          0.0269411846662417,
          0.0253676066414482,
          0.0029178575576714,
          0.0064086900363674,
          0.252861977311683,
          0.0444377960629251,
          0.0106871051522672,
          0.0481292123445041,
          0.224560413742854,
          0.0527513752936736,
          0.039362361460931,
          0.242044244310349,
          0.189075364582812,
          0.0489723206557695,
          0.378576480833928,
          0.256098354810404,
          0.0018900169240337,
          0.0255888738252666,
          0.602301648400862,
          0.184325460162006,
          0.144550206744009,
          0.469354157281175,
          0.0214615390859544,
          0.103895984825808,
          0.54025607041891,
          0.026642979374599,
          0.170046122803163,
          0.141274560702057,
          0.0049885486848553,
          0.0223113500095425,
          0.0003171662433586,
          0.226359888827895,
          0.0008266178462279,
          0.0895429868769759,
          0.385328717397115,
          0.556992541958812,
          0.53372825997211,
          0.553474315158577,
          0.0046594783826047,
          0.313532731315417,
          0.0983621631878292,
          0.0794975815281698,
          0.0043242776245468,
          0.0873632548025122,
          0.0383989267553795,
          0.0627642094437834,
          0.019182511974904,
          0.517981646419492,
          0.241714568199056,
          0.0919101875492114,
          0.122227038206154,
          0.238505746692184,
          0.0815876517276903,
          0.333608452657264,
          0.538727542146113,
          0.0630984785072259,
          0.0674078619626542,
          0.0029934551551232,
          0.346998089534684,
          0.527771218080318,
          0.066890939577786,
          0.0716743139649342,
          0.0146280056424154,
          0.128817126879026,
          0.41481310516369,
          0.477391434284915,
          0.0474311020455599,
          0.323962009894421,
          0.290643810556995,
          0.0003286349496708,
          0.0867653284084934,
          0.396254391591997,
          0.123895973771526,
          0.591461617369312,
          0.0736748932415823,
          0.424442420735573,
          0.126866386445134,
          0.493403378964732,
          0.0769408566625809,
          0.0066260206343507,
          0.0295931610083742,
          0.254197029224499,
          0.272775859438032,
          0.0605972877911242,
          0.0192616616084058,
          0.553230906114456,
          0.0588670814824116,
          0.0021129754640453,
          0.0045788732627225,
          0.253149172654566,
          0.121667359447341,
          0.257660518515391,
          0.003144645703825,
          0.459358795237281,
          0.439525870787666,
          0.170765099042569,
          0.185739338723007,
          0.0379393535339576,
          0.533885257881435,
          0.553556503716386,
          0.142164689747264,
          0.12105705356162,
          0.238542456089994,
          0.247881188634153,
          0.0777922182583371,
          0.0129417455604576,
          0.0701207999712113,
          0.0497837387549552,
          0.100573856703176,
          0.0988293279916947,
          0.13140728371887,
          0.0944814710876382,
          0.500817431959981,
          0.0065271863811508,
          0.0549110309286188,
          0.345712262799435,
          0.0255193047311593,
          0.0008836240914789,
          0.022306257001114,
          0.430415575226089,
          0.0727288973007206,
          0.295789981796164,
          0.161801753920129,
          0.0077649230881386,
          0.0379296393779981,
          0.0338272946596801,
          0.195814005663698,
          0.388140772545573,
          0.487091014803664,
          0.0131172383179116,
          0.335456504305431,
          0.346895157003405,
          0.0705551718126406,
          0.217878350322063,
          0.016521666297881,
          0.0159560330039485,
          0.109254792472762,
          0.0013742273132467,
          0.45359569829699,
          0.040899870757732,
          0.261850205247706,
          0.403422290275803,
          0.0118685343440489,
          0.157189536056815,
          0.053021281500139,
          0.375925182638809,
          0.0099003075956276,
          0.0020956273897448,
          0.0035069586170035,
          0.0020410216357438,
          0.0138703139564689,
          0.0384482781088111,
          0.113872616011046,
          0.0377746093096634,
          0.0465040779016757,
          0.0548712275332884,
          0.139284925890282,
          0.231886666304969,
          0.268520745077487,
          0.0936893624307006,
          0.0433304405004972,
          0.222823798874803,
          0.0200367774342163,
          0.0683645385779661,
          0.0844093924912851,
          0.0596343425705668,
          0.0377487508958411,
          0.0158100675621174,
          0.0502660742229071,
          0.0619197026813144,
          0.0596006187155014,
          0.0387022305097385,
          0.0510914444528576,
          0.0714403057431412,
          0.0188771879571469,
          0.023850304098791,
          0.0435785144803354,
          0.0253962286597212,
          0.0568433353978161,
          0.228674042136966,
          0.197527252399292,
          0.106434851236848,
          0.0699016943103121,
          0.0052621664368743,
          0.0753478515527284,
          0.0655009269581159,
          0.356214420544871,
          0.195073794683858,
          0.163061890777507,
          0.086903192517375,
          0.185925631891012,
          0.0857375272262923,
          0.349025859040912,
          0.0109554080871108,
          0.0017184955268202,
          0.0001438555182906,
          0.0395473422440342,
          0.133873747454744,
          0.0028214952787487,
          0.0272969901395839,
          0.0052292189267092,
          0.0007981230335579,
          0.040347770739527,
          0.12511798687953,
          0.0097351488969249,
          0.100861479816755,
          0.0024213593244121,
          0.0290875318485601,
          0.0037801495871969,
          0.0126517771401125,
          0.0473930450321947,
          0.135964127340154,
          0.231728108353292,
          0.120049834669843,
          0.117787107469343,
          0.0069249877765939,
          0.116519564569448,
          0.354583550636728,
          0.230069548302889,
          0.0028115375645995,
          0.0068465915700936,
          0.000625082785293,
          0.0529365809785281,
          0.405312054571978,
          0.137533212521826,
          0.312681927663749,
          0.245880026271325,
          0.276626303562428,
          0.0140010674565209,
          0.19461583729515,
          0.0585941015873082,
          0.0636838753293075,
          0.0701714353091409,
          0.0504630855843921,
          0.359267470146128,
          0.0015986934255314,
          0.0163538401741595,
          0.0124162399609066,
          0.0510825787958364,
          0.0010682550157949,
          0.109309364927208,
          0.247204847216547,
          0.039559336534573,
          0.0545689705245391,
          0.213442823595427,
          0.0022486046773111,
          0.0368469681373469,
          0.262602600487409,
          0.0012967312221608,
          0.0278424591418645,
          0.387308048468224,
          0.198154790224277,
          0.047435465048775,
          0.204713266432311,
          0.320269486929621,
          0.296435690898114,
          0.34905708373038,
          0.228531384141478,
          0.0001062323639017,
          0.0001474373125846
         ],
         "xbins": {
          "end": 1,
          "start": 0
         }
        }
       ],
       "layout": {
        "font": {
         "size": 17
        },
        "legend": {
         "x": 0.81,
         "y": 1
        },
        "template": {
         "data": {
          "bar": [
           {
            "error_x": {
             "color": "#2a3f5f"
            },
            "error_y": {
             "color": "#2a3f5f"
            },
            "marker": {
             "line": {
              "color": "#E5ECF6",
              "width": 0.5
             },
             "pattern": {
              "fillmode": "overlay",
              "size": 10,
              "solidity": 0.2
             }
            },
            "type": "bar"
           }
          ],
          "barpolar": [
           {
            "marker": {
             "line": {
              "color": "#E5ECF6",
              "width": 0.5
             },
             "pattern": {
              "fillmode": "overlay",
              "size": 10,
              "solidity": 0.2
             }
            },
            "type": "barpolar"
           }
          ],
          "carpet": [
           {
            "aaxis": {
             "endlinecolor": "#2a3f5f",
             "gridcolor": "white",
             "linecolor": "white",
             "minorgridcolor": "white",
             "startlinecolor": "#2a3f5f"
            },
            "baxis": {
             "endlinecolor": "#2a3f5f",
             "gridcolor": "white",
             "linecolor": "white",
             "minorgridcolor": "white",
             "startlinecolor": "#2a3f5f"
            },
            "type": "carpet"
           }
          ],
          "choropleth": [
           {
            "colorbar": {
             "outlinewidth": 0,
             "ticks": ""
            },
            "type": "choropleth"
           }
          ],
          "contour": [
           {
            "colorbar": {
             "outlinewidth": 0,
             "ticks": ""
            },
            "colorscale": [
             [
              0,
              "#0d0887"
             ],
             [
              0.1111111111111111,
              "#46039f"
             ],
             [
              0.2222222222222222,
              "#7201a8"
             ],
             [
              0.3333333333333333,
              "#9c179e"
             ],
             [
              0.4444444444444444,
              "#bd3786"
             ],
             [
              0.5555555555555556,
              "#d8576b"
             ],
             [
              0.6666666666666666,
              "#ed7953"
             ],
             [
              0.7777777777777778,
              "#fb9f3a"
             ],
             [
              0.8888888888888888,
              "#fdca26"
             ],
             [
              1,
              "#f0f921"
             ]
            ],
            "type": "contour"
           }
          ],
          "contourcarpet": [
           {
            "colorbar": {
             "outlinewidth": 0,
             "ticks": ""
            },
            "type": "contourcarpet"
           }
          ],
          "heatmap": [
           {
            "colorbar": {
             "outlinewidth": 0,
             "ticks": ""
            },
            "colorscale": [
             [
              0,
              "#0d0887"
             ],
             [
              0.1111111111111111,
              "#46039f"
             ],
             [
              0.2222222222222222,
              "#7201a8"
             ],
             [
              0.3333333333333333,
              "#9c179e"
             ],
             [
              0.4444444444444444,
              "#bd3786"
             ],
             [
              0.5555555555555556,
              "#d8576b"
             ],
             [
              0.6666666666666666,
              "#ed7953"
             ],
             [
              0.7777777777777778,
              "#fb9f3a"
             ],
             [
              0.8888888888888888,
              "#fdca26"
             ],
             [
              1,
              "#f0f921"
             ]
            ],
            "type": "heatmap"
           }
          ],
          "heatmapgl": [
           {
            "colorbar": {
             "outlinewidth": 0,
             "ticks": ""
            },
            "colorscale": [
             [
              0,
              "#0d0887"
             ],
             [
              0.1111111111111111,
              "#46039f"
             ],
             [
              0.2222222222222222,
              "#7201a8"
             ],
             [
              0.3333333333333333,
              "#9c179e"
             ],
             [
              0.4444444444444444,
              "#bd3786"
             ],
             [
              0.5555555555555556,
              "#d8576b"
             ],
             [
              0.6666666666666666,
              "#ed7953"
             ],
             [
              0.7777777777777778,
              "#fb9f3a"
             ],
             [
              0.8888888888888888,
              "#fdca26"
             ],
             [
              1,
              "#f0f921"
             ]
            ],
            "type": "heatmapgl"
           }
          ],
          "histogram": [
           {
            "marker": {
             "pattern": {
              "fillmode": "overlay",
              "size": 10,
              "solidity": 0.2
             }
            },
            "type": "histogram"
           }
          ],
          "histogram2d": [
           {
            "colorbar": {
             "outlinewidth": 0,
             "ticks": ""
            },
            "colorscale": [
             [
              0,
              "#0d0887"
             ],
             [
              0.1111111111111111,
              "#46039f"
             ],
             [
              0.2222222222222222,
              "#7201a8"
             ],
             [
              0.3333333333333333,
              "#9c179e"
             ],
             [
              0.4444444444444444,
              "#bd3786"
             ],
             [
              0.5555555555555556,
              "#d8576b"
             ],
             [
              0.6666666666666666,
              "#ed7953"
             ],
             [
              0.7777777777777778,
              "#fb9f3a"
             ],
             [
              0.8888888888888888,
              "#fdca26"
             ],
             [
              1,
              "#f0f921"
             ]
            ],
            "type": "histogram2d"
           }
          ],
          "histogram2dcontour": [
           {
            "colorbar": {
             "outlinewidth": 0,
             "ticks": ""
            },
            "colorscale": [
             [
              0,
              "#0d0887"
             ],
             [
              0.1111111111111111,
              "#46039f"
             ],
             [
              0.2222222222222222,
              "#7201a8"
             ],
             [
              0.3333333333333333,
              "#9c179e"
             ],
             [
              0.4444444444444444,
              "#bd3786"
             ],
             [
              0.5555555555555556,
              "#d8576b"
             ],
             [
              0.6666666666666666,
              "#ed7953"
             ],
             [
              0.7777777777777778,
              "#fb9f3a"
             ],
             [
              0.8888888888888888,
              "#fdca26"
             ],
             [
              1,
              "#f0f921"
             ]
            ],
            "type": "histogram2dcontour"
           }
          ],
          "mesh3d": [
           {
            "colorbar": {
             "outlinewidth": 0,
             "ticks": ""
            },
            "type": "mesh3d"
           }
          ],
          "parcoords": [
           {
            "line": {
             "colorbar": {
              "outlinewidth": 0,
              "ticks": ""
             }
            },
            "type": "parcoords"
           }
          ],
          "pie": [
           {
            "automargin": true,
            "type": "pie"
           }
          ],
          "scatter": [
           {
            "fillpattern": {
             "fillmode": "overlay",
             "size": 10,
             "solidity": 0.2
            },
            "type": "scatter"
           }
          ],
          "scatter3d": [
           {
            "line": {
             "colorbar": {
              "outlinewidth": 0,
              "ticks": ""
             }
            },
            "marker": {
             "colorbar": {
              "outlinewidth": 0,
              "ticks": ""
             }
            },
            "type": "scatter3d"
           }
          ],
          "scattercarpet": [
           {
            "marker": {
             "colorbar": {
              "outlinewidth": 0,
              "ticks": ""
             }
            },
            "type": "scattercarpet"
           }
          ],
          "scattergeo": [
           {
            "marker": {
             "colorbar": {
              "outlinewidth": 0,
              "ticks": ""
             }
            },
            "type": "scattergeo"
           }
          ],
          "scattergl": [
           {
            "marker": {
             "colorbar": {
              "outlinewidth": 0,
              "ticks": ""
             }
            },
            "type": "scattergl"
           }
          ],
          "scattermapbox": [
           {
            "marker": {
             "colorbar": {
              "outlinewidth": 0,
              "ticks": ""
             }
            },
            "type": "scattermapbox"
           }
          ],
          "scatterpolar": [
           {
            "marker": {
             "colorbar": {
              "outlinewidth": 0,
              "ticks": ""
             }
            },
            "type": "scatterpolar"
           }
          ],
          "scatterpolargl": [
           {
            "marker": {
             "colorbar": {
              "outlinewidth": 0,
              "ticks": ""
             }
            },
            "type": "scatterpolargl"
           }
          ],
          "scatterternary": [
           {
            "marker": {
             "colorbar": {
              "outlinewidth": 0,
              "ticks": ""
             }
            },
            "type": "scatterternary"
           }
          ],
          "surface": [
           {
            "colorbar": {
             "outlinewidth": 0,
             "ticks": ""
            },
            "colorscale": [
             [
              0,
              "#0d0887"
             ],
             [
              0.1111111111111111,
              "#46039f"
             ],
             [
              0.2222222222222222,
              "#7201a8"
             ],
             [
              0.3333333333333333,
              "#9c179e"
             ],
             [
              0.4444444444444444,
              "#bd3786"
             ],
             [
              0.5555555555555556,
              "#d8576b"
             ],
             [
              0.6666666666666666,
              "#ed7953"
             ],
             [
              0.7777777777777778,
              "#fb9f3a"
             ],
             [
              0.8888888888888888,
              "#fdca26"
             ],
             [
              1,
              "#f0f921"
             ]
            ],
            "type": "surface"
           }
          ],
          "table": [
           {
            "cells": {
             "fill": {
              "color": "#EBF0F8"
             },
             "line": {
              "color": "white"
             }
            },
            "header": {
             "fill": {
              "color": "#C8D4E3"
             },
             "line": {
              "color": "white"
             }
            },
            "type": "table"
           }
          ]
         },
         "layout": {
          "annotationdefaults": {
           "arrowcolor": "#2a3f5f",
           "arrowhead": 0,
           "arrowwidth": 1
          },
          "autotypenumbers": "strict",
          "coloraxis": {
           "colorbar": {
            "outlinewidth": 0,
            "ticks": ""
           }
          },
          "colorscale": {
           "diverging": [
            [
             0,
             "#8e0152"
            ],
            [
             0.1,
             "#c51b7d"
            ],
            [
             0.2,
             "#de77ae"
            ],
            [
             0.3,
             "#f1b6da"
            ],
            [
             0.4,
             "#fde0ef"
            ],
            [
             0.5,
             "#f7f7f7"
            ],
            [
             0.6,
             "#e6f5d0"
            ],
            [
             0.7,
             "#b8e186"
            ],
            [
             0.8,
             "#7fbc41"
            ],
            [
             0.9,
             "#4d9221"
            ],
            [
             1,
             "#276419"
            ]
           ],
           "sequential": [
            [
             0,
             "#0d0887"
            ],
            [
             0.1111111111111111,
             "#46039f"
            ],
            [
             0.2222222222222222,
             "#7201a8"
            ],
            [
             0.3333333333333333,
             "#9c179e"
            ],
            [
             0.4444444444444444,
             "#bd3786"
            ],
            [
             0.5555555555555556,
             "#d8576b"
            ],
            [
             0.6666666666666666,
             "#ed7953"
            ],
            [
             0.7777777777777778,
             "#fb9f3a"
            ],
            [
             0.8888888888888888,
             "#fdca26"
            ],
            [
             1,
             "#f0f921"
            ]
           ],
           "sequentialminus": [
            [
             0,
             "#0d0887"
            ],
            [
             0.1111111111111111,
             "#46039f"
            ],
            [
             0.2222222222222222,
             "#7201a8"
            ],
            [
             0.3333333333333333,
             "#9c179e"
            ],
            [
             0.4444444444444444,
             "#bd3786"
            ],
            [
             0.5555555555555556,
             "#d8576b"
            ],
            [
             0.6666666666666666,
             "#ed7953"
            ],
            [
             0.7777777777777778,
             "#fb9f3a"
            ],
            [
             0.8888888888888888,
             "#fdca26"
            ],
            [
             1,
             "#f0f921"
            ]
           ]
          },
          "colorway": [
           "#636efa",
           "#EF553B",
           "#00cc96",
           "#ab63fa",
           "#FFA15A",
           "#19d3f3",
           "#FF6692",
           "#B6E880",
           "#FF97FF",
           "#FECB52"
          ],
          "font": {
           "color": "#2a3f5f"
          },
          "geo": {
           "bgcolor": "white",
           "lakecolor": "white",
           "landcolor": "#E5ECF6",
           "showlakes": true,
           "showland": true,
           "subunitcolor": "white"
          },
          "hoverlabel": {
           "align": "left"
          },
          "hovermode": "closest",
          "mapbox": {
           "style": "light"
          },
          "paper_bgcolor": "white",
          "plot_bgcolor": "#E5ECF6",
          "polar": {
           "angularaxis": {
            "gridcolor": "white",
            "linecolor": "white",
            "ticks": ""
           },
           "bgcolor": "#E5ECF6",
           "radialaxis": {
            "gridcolor": "white",
            "linecolor": "white",
            "ticks": ""
           }
          },
          "scene": {
           "xaxis": {
            "backgroundcolor": "#E5ECF6",
            "gridcolor": "white",
            "gridwidth": 2,
            "linecolor": "white",
            "showbackground": true,
            "ticks": "",
            "zerolinecolor": "white"
           },
           "yaxis": {
            "backgroundcolor": "#E5ECF6",
            "gridcolor": "white",
            "gridwidth": 2,
            "linecolor": "white",
            "showbackground": true,
            "ticks": "",
            "zerolinecolor": "white"
           },
           "zaxis": {
            "backgroundcolor": "#E5ECF6",
            "gridcolor": "white",
            "gridwidth": 2,
            "linecolor": "white",
            "showbackground": true,
            "ticks": "",
            "zerolinecolor": "white"
           }
          },
          "shapedefaults": {
           "line": {
            "color": "#2a3f5f"
           }
          },
          "ternary": {
           "aaxis": {
            "gridcolor": "white",
            "linecolor": "white",
            "ticks": ""
           },
           "baxis": {
            "gridcolor": "white",
            "linecolor": "white",
            "ticks": ""
           },
           "bgcolor": "#E5ECF6",
           "caxis": {
            "gridcolor": "white",
            "linecolor": "white",
            "ticks": ""
           }
          },
          "title": {
           "x": 0.05
          },
          "xaxis": {
           "automargin": true,
           "gridcolor": "white",
           "linecolor": "white",
           "ticks": "",
           "title": {
            "standoff": 15
           },
           "zerolinecolor": "white",
           "zerolinewidth": 2
          },
          "yaxis": {
           "automargin": true,
           "gridcolor": "white",
           "linecolor": "white",
           "ticks": "",
           "title": {
            "standoff": 15
           },
           "zerolinecolor": "white",
           "zerolinewidth": 2
          }
         }
        },
        "title": {
         "text": "MatchSpectra: filter -> 1%I | match -> 5ppm & normalized"
        },
        "xaxis": {
         "dtick": 0.1,
         "range": [
          0,
          1
         ],
         "tickfont": {
          "size": 15
         },
         "title": {
          "text": "Score"
         }
        },
        "yaxis": {
         "range": [
          0,
          140
         ],
         "tickfont": {
          "size": 15
         },
         "title": {
          "text": "Frequency"
         }
        }
       }
      },
      "text/html": [
       "<div>                            <div id=\"43061978-5fac-4c25-8e42-6c3be850ecf2\" class=\"plotly-graph-div\" style=\"height:525px; width:100%;\"></div>            <script type=\"text/javascript\">                require([\"plotly\"], function(Plotly) {                    window.PLOTLYENV=window.PLOTLYENV || {};                                    if (document.getElementById(\"43061978-5fac-4c25-8e42-6c3be850ecf2\")) {                    Plotly.newPlot(                        \"43061978-5fac-4c25-8e42-6c3be850ecf2\",                        [{\"name\":\"All peaks (273)\",\"nbinsx\":10,\"x\":[0.0369969515557257,0.0681118957037871,0.0263525507660333,0.0256006992942614,0.0460027584403349,0.246706559559347,0.0398392599867763,0.0295134188133813,0.0527203584433902,0.151880297836503,0.0664133873887951,0.0478704552466439,0.252803378183077,0.15154218696848,0.0489723206557695,0.246718557027312,0.179802227231354,0.0007222927405253,0.0031529580477294,0.030272844682019,0.475886684781483,0.175414109818041,0.133527892648274,0.430207220249801,0.030872773708115,0.0933549574921879,0.449155761451388,0.0256620231182685,0.269929726889986,0.162237529142611,0.0045091111004879,0.0421172421097138,0.0003171662433586,0.211810273097868,0.002663643413113,0.0975389002378576,0.37562937071044,0.535743638598305,0.442972887369742,0.49355285057004,0.0058545704281422,0.304949246397232,0.108579223606815,0.0968282941185072,0.0106644331690516,0.147948866764021,0.0650585429864235,0.0584802719119174,0.0378338490585295,0.479356674898239,0.240664378507329,0.139490453407228,0.118050008928152,0.210887323893913,0.130003918822222,0.327120910251402,0.526520484386681,0.126247966091454,0.062744323961501,0.0027705096446486,0.0003601042841225,0.264090826484265,0.530354278667409,0.064945556619777,0.0716743139649342,0.0885759566446246,0.126749017502083,0.449323543635251,0.443412556899961,0.0459068631403565,0.297247010872355,0.246319818159826,0.0003217246919456,0.0849409004786107,0.358972452217758,0.131882768047159,0.001033557039999,0.568092751633514,0.070227098720553,0.415852628953651,0.124596747612048,0.422498682351247,0.105685128832418,0.0062133548997885,0.0224814516690982,0.163898485697835,0.259150519931835,0.0594113007919095,0.0241572945390083,0.504447639615898,0.0700318421696646,0.0001089559301928,0.0017320685958859,0.0042090860168586,0.249848804745937,0.119864714233072,0.283411710015804,0.003144645703825,0.383193185080228,0.465308216639668,0.158356416479788,0.177944961291202,0.0673489962339841,0.499929002899303,0.487131815199295,0.0004090828226931,0.118279259408481,0.0989205635978975,0.201437654991701,0.270976851859986,0.135106019488831,0.012690793681158,0.134558435289364,0.0626865501021194,0.0878687061456021,0.0929678641906078,0.175302068257046,0.0944814710876382,0.482328480391936,0.0487931510824626,0.0785111794852939,0.409171976409625,0.0508272486775189,0.0008836240914789,0.0207291421631291,0.394329731630529,0.0877521794309198,0.315133454179887,0.162547792955153,0.0163145355540577,0.0577052994069867,0.0377886719366234,0.222705078581481,0.388140772545573,0.430478350319439,0.0129613496768437,0.324018044959221,0.296600327862521,0.0861573663612359,0.240736034164224,0.0261228163845682,0.0264820424479007,0.162205340325552,0.0264457023143443,0.378874135567463,0.0402485983472174,0.298205209945477,0.269274921126272,0.0140339397048898,0.148649210076611,0.0559748182731028,0.349819314003661,0.0246898360863158,0.0032622372019143,0.0078033487456618,0.0044790877116616,0.0190883693755572,0.0375561111675,0.0978472154821694,0.0765702259573281,0.0493032711719127,0.0874425323783471,0.142125728199491,0.252248424237719,0.26824460375502,0.0968182616987448,0.0805945701082502,0.222823798874803,0.025833347960186,0.0856017973634041,0.132164611251685,0.0938638823361253,0.0450798125573624,0.0316439075586029,0.0454242245570422,0.0687853400658266,0.0614393198245728,0.043130420675113,0.0961744326667387,0.0974139318322506,0.0185563156001312,0.0185304620728438,0.0550167345108845,0.0278603334209832,0.0797549861392331,0.212590158101224,0.202300180742142,0.12594138479532,0.100561439803097,0.006310854709818,0.0702263705422782,0.0880213357652532,0.303115190988767,0.142227022718275,0.17775386100957,0.0949850734267257,0.175089719428112,0.0820905771945729,0.375785563769526,0.0096891515530217,0.001630273504167,0.0001438555182906,0.101707296258489,0.130402995428688,0.0028214952787487,0.0266994667253128,0.0051291681468817,0.0007899132203097,0.051820639749828,0.132953195756474,0.0253712603965636,0.107299507842556,0.0026960222626234,0.0304479414382985,0.0041774739762269,0.0126517771401125,0.0542766539956386,0.0006413367688966,0.133145976928469,0.0004220501711621,0.22446599890214,0.151078721839793,0.0955267255352674,0.0075513003751496,0.116556539258377,0.0001882578826823,0.361041518197687,0.192254441518801,0.0137724264780793,0.0041763673454463,0.0068465915700936,0.0005088477926016,0.0631842696768323,0.386077515900254,0.122173819204695,0.280414167908886,0.259491870393726,0.280858590437468,0.0121973857556947,0.308756621536413,0.16083818389207,0.234689187147953,0.0001562895606683,0.0689347731598455,0.120976273871959,0.393123536371047,0.0113194950591853,0.0160179011259891,0.0213361270624404,0.0735026097935487,0.0010682550157949,0.224863269870746,0.352341191589527,0.117782860432583,0.17879823156304,0.293670953826682,0.0054706542721085,0.0365934171330439,0.3014612341721,0.0016604660773503,0.0299780069158763,0.387308048468224,0.194527121354065,0.0636487393967776,0.216459047847578,0.320269486929621,0.309991530832543,0.378111529361856,0.273339990028185,0.0001143918813748,0.0001988430036925,0.0003583643957734,0.000595363990355],\"xbins\":{\"end\":1,\"start\":0},\"type\":\"histogram\"},{\"name\":\"Top 3 peaks (213)\",\"nbinsx\":10,\"x\":[0.326825237457499,0.0249296165668705,0.0189335240356281,0.0022058126465026,0.238593667187667,0.0152415422604625,0.0276154640085391,0.204471158394578,0.0591668723204273,0.0419780423447848,0.343383411200838,0.257718357341456,0.0035174519948691,0.0281007677529446,0.399739996308636,0.491578660982816,0.00171848815656,0.159754031839499,0.398511903584579,0.232724603098829,0.114806819846579,0.0016468123363474,0.277893580786571,0.027324481831123,0.439562640229324,0.297215197296914,0.27425272704877,0.39663070307781,0.176207024991514,0.0585246738086586,0.008505385498861,0.0181775423924738,0.380549774193076,0.252283021076601,0.138920825980948,0.318027025851213,0.0610365089648734,0.192738741078996,0.276620257734531,0.0766143943050255,0.0828917749077474,0.0052362534577736,0.215239786313596,0.277760330635432,0.0353478689629864,0.0923665684026102,0.0043897630977587,0.142743860466057,0.222600538374743,0.419070889998638,0.153727323706866,0.279092397715855,0.0640864541744411,0.258717580577466,0.149620402210895,0.297725262768602,0.0406471754720518,0.426693623240851,0.102912916501197,0.189971971828903,0.0123445460114914,0.212926885815109,0.373039681618367,0.0115337055168785,0.265655540433131,0.0525463843901889,0.0052675365991947,0.005713834133695,0.107779773733526,0.0753840446703302,0.0517758439677291,0.442344400253545,0.272599485491395,0.0008643419972032,0.0133376260955271,0.23354300782779,0.421031770836459,0.0662501980963223,0.0758602496623223,0.328283305306783,0.165137436094444,0.0445380400403051,0.0011315907965004,0.0012711140251973,0.0484539973009175,0.0258775640625084,0.0254981992710242,0.0575765497704939,0.0442569746301908,0.193882460676344,0.003869342354695,0.0006629926782379,0.305713759340225,0.0209364054990751,0.275798588047909,0.016331445540439,0.322916576887725,0.152065770897738,0.0034735263416996,0.0229175083980108,0.119115204846153,0.545069055807463,0.361559614408479,0.019069817301703,0.0664067699493804,0.361633799675155,0.090855077190243,0.262202829446205,0.021180239737157,0.0193193592225416,0.0617730901116721,0.481102932434084,0.0054315210719916,0.317705916368825,0.501607802772848,0.147123763332496,0.0028096733738863,0.379246156178834,0.0010167934279514,0.0006257581660278,0.0010605842640013,0.0136421246850335,0.0496412100526467,0.0587324806248702,0.0006774622853615,0.0167113954208801,0.0135322774669835,0.0868251799742241,0.221190132551593,0.273230886512328,0.0180795687271533,0.0072439821443506,0.224980383048292,0.095001445656439,0.0525723781861896,0.0414309895288781,0.0514808267183159,0.0091839240698448,0.0274686573952542,0.0225830221069972,0.0232578632391882,0.0132384452388575,0.0130448980933051,0.0154352944661854,0.0070677213208112,0.0280575811365346,0.0203990455253583,0.0223376886574503,0.275348625975107,0.21571777386147,0.216598007176524,0.0250456368192855,0.0022614599992744,0.107548526400446,0.0580455002938595,0.593163450598013,0.229292594858696,0.239385165501949,0.172237827919178,0.0071557111248343,0.0602844476825367,0.208948939120663,0.0110486666734458,0.131152987696268,0.0060988636843901,0.0041977492810912,0.0012116048469452,0.132279158043839,0.0017843011419122,0.108881927435354,0.0514768106696083,0.0064060596163605,0.0174841632724616,0.090268102046579,0.25862202890341,0.197922613971406,0.056783249892068,0.0096675899808696,0.0927015925960465,0.549215762709661,0.215636165758713,0.346136719978574,0.157800741101859,0.266849513955819,0.236011054914886,0.28054114590149,0.0155855911946611,0.0374090872491891,0.0694170934794756,0.0444259496298593,0.025609746919178,0.0698598250824092,0.333224434142918,0.00111807999697,0.0031932041355975,0.0035751290987873,0.0877707675407191,0.0408718675754761,0.224658877298392,0.0259693747790061,0.0203827239410352,0.248405233298513,0.0034457953473616,0.364790433882766,0.0016491170551083,0.28076550973969,0.122196920360368,0.0062218862490483,0.13690829043335,0.228453476953365,0.365210341017778,0.323748201910478,0.142352758779436],\"xbins\":{\"end\":1,\"start\":0},\"type\":\"histogram\"},{\"name\":\"Top 5 peaks (236)\",\"nbinsx\":10,\"x\":[0.0052606213013021,0.272361912864841,0.0457077584535173,0.0149944196085064,0.0015783607895314,0.267905821066631,0.016969076142043,0.0648197141290369,0.201683864364502,0.207324257776341,0.0539127015993937,0.301428729280874,0.279100109905966,0.0025290350071701,0.0248443842153615,0.372918718248176,0.0390067514606116,0.0309040293081289,0.443056884282767,0.0052239026876404,0.125170503028238,0.411053691919116,0.0084239729077195,0.163502144257617,0.118729020818678,0.0051571455989649,0.0013002362020941,0.0003234085564098,0.269007905001916,0.136005788146025,0.378941337344311,0.338448133381367,0.386187613363933,0.416234069992909,0.189496082882533,0.0132149514525295,0.0105104644980054,0.0444110995480162,0.0170346707676763,0.0112710454563951,0.0231801186075024,0.445524223963095,0.203508544367987,0.0290135110040614,0.111563360022253,0.304889478621351,0.0749297729659512,0.366019516694467,0.355650763389265,0.0509126428421001,0.080482481937762,0.0044015570556564,0.238795016839577,0.3454285878063,0.043833277910888,0.076264164544557,0.0078363434247664,0.160987887573255,0.236349417540264,0.330339930784202,0.0014189554046701,0.184941582495687,0.267119038226627,0.054791385378044,0.274183604642396,0.173758608554526,0.342453765504495,0.0392509727647561,0.507029785977849,0.0808143286480448,0.261628502305333,0.0188710373434734,0.0157437003498112,0.301662261801799,0.291967849365544,0.0230114202638505,0.330685356253773,0.0624623074516073,0.0038590780180564,0.0041860424296879,0.206338845983836,0.159367346253876,0.167655738825579,0.0036312703471305,0.40670323301005,0.313486510115716,0.0877087517459552,0.111389502346782,0.0090178367537323,0.328306976152904,0.423561863889377,0.0570008069748592,0.0654741927718264,0.275993885605959,0.208504732574689,0.0823272453294115,0.0008969949449223,0.0189989312773158,0.0559953164355131,0.0427980807336017,0.0410848526157135,0.0623916301614166,0.0929529458848859,0.292222779878579,0.0031142594981776,0.0004713019229237,0.414161306564456,0.0003251583240695,0.0166306873282479,0.413828109889027,0.0486712343822818,0.376146376904842,0.164838270023949,0.0056663442181039,0.0443441559868207,0.0286926795757453,0.111984591038549,0.478044273171876,0.402094288732722,0.0157804821960512,0.218260488537203,0.360224545666779,0.0764445712591236,0.207885675500293,0.0150687450215079,0.0195910201534488,0.102835252014867,0.465420889600556,0.0483359615553198,0.355243930837437,0.396211551072327,0.133722554216166,0.0158990134697123,0.425484394835389,0.0030872372615074,0.0033522890900655,0.0007890423514809,0.0108763084189912,0.0372552062695869,0.0425817157905564,0.0005429234007633,0.0269635019543487,0.0105978272861001,0.0824730258961513,0.202975683186866,0.254144450344462,0.0133496506493992,0.0052161129415949,0.222823798874803,0.0164392313871944,0.0718678599596194,0.0496576141625446,0.0297674017400478,0.0461870844731296,0.0100730767880828,0.0346229285457812,0.0454348393057788,0.045718257635038,0.0250321137719643,0.0144518758284866,0.0174881858735746,0.005325959121325,0.0310489727321612,0.0370337971842923,0.0059266640900821,0.0409713888240303,0.21984306239902,0.15961172917025,0.152355694046433,0.0741832692204043,0.001923368305923,0.0927341037055124,0.0674261748520306,0.486812142121789,0.187008206909305,0.206814133466163,0.142096975757598,0.201184603121827,0.0518886358802466,0.277211350779649,0.0090945587007008,0.113031417093463,0.0047999641167775,0.0002918972728978,0.0034629977685876,0.011858598117988,0.110167303515106,0.0013782649844725,0.0825333133830793,0.0378203165299267,0.005396293490884,0.0005603606066117,0.0435162865503314,0.133053694796514,0.24341257866183,0.18858458028283,0.102797506853917,0.0087476173587182,0.0801793507796602,0.478480886180628,0.219019152493355,0.0010935750889606,0.0324784550490225,0.448892172916765,0.190533355574254,0.322257607930235,0.197501840576915,0.290804396083767,0.0129277737473605,0.131556119166435,0.0528400240910193,0.0656469373529963,0.0998346802233409,0.0572045301510697,0.348946269976437,0.0008738067555778,0.0130945428579546,0.013417196785314,0.0705425700249428,0.0483342846039173,0.273437066116631,0.0276303752544908,0.016816366904224,0.213639222071615,0.0014800902837428,0.0080919615897452,0.343893059555948,0.0013960128270487,0.317865613703646,0.219239915169099,0.005610312649049,0.233524884920572,0.291260410427232,0.287269992147421,0.340636305641812,0.279798174967077],\"xbins\":{\"end\":1,\"start\":0},\"type\":\"histogram\"},{\"name\":\"Top 10 peaks (253)\",\"nbinsx\":10,\"x\":[0.0151384451627871,0.0102339127390992,0.280824385997604,0.0470104599488068,0.0128592059894402,0.0645487072083161,0.229551229692131,0.0455246789874178,0.0505786801396192,0.246158839859911,0.160887788510098,0.0486151860708342,0.347847971453868,0.298469101208636,0.0020919541736838,0.029217915503429,0.536463528404581,0.0789290547254318,0.0617979704110392,0.457848253699802,0.0044573195335863,0.0976128268807369,0.504389926612675,0.0262316392109308,0.116077098706839,0.108577236225002,0.0042632573647507,0.0217018422209144,0.0003171662433586,0.244964635339798,0.097348728384745,0.390254130035815,0.478489779953466,0.532989622768954,0.491287227107687,0.0057003866233707,0.264347523061581,0.046739626809636,0.0386668658371137,0.0039699608262114,0.080013380800668,0.016367097005556,0.0281252081996722,0.0165193773843557,0.548102770483425,0.236288083184846,0.0427206710907907,0.111140261095258,0.265709088735352,0.0941513468945162,0.320348638097961,0.479914553172336,0.0831997341399229,0.0781114539723864,0.0034444621383362,0.297222589419397,0.544341513221196,0.0562123801629654,0.0822803143816585,0.014311269200083,0.139737691473853,0.346764061676282,0.490997194148141,0.0116931215583679,0.328984485681633,0.283439067424682,0.0864662614351975,0.364124516216319,0.146684151466486,0.477794472348066,0.0457981585712789,0.454734137515373,0.117977023423274,0.440268036166085,0.0414017602559379,0.0057971892049643,0.0299833531984689,0.262934802548877,0.23929012146482,0.0381774840759795,0.0098089614768731,0.498695958787318,0.062678755186116,0.002776186638247,0.0030114019478382,0.257675911464507,0.142494230184513,0.155128826603015,0.0032994938279454,0.363801378697789,0.374555298746612,0.189281268266303,0.197494162863218,0.026909437561712,0.541548637282832,0.536830831233385,0.133564480469034,0.13906930183971,0.216632104129426,0.223709569476235,0.0621288932777068,0.0139115959434218,0.0535131548169789,0.0561731770091618,0.0465903795918118,0.0517926315395077,0.097046631896762,0.0944814710876382,0.349026248942621,0.0048090249230976,0.0033511188310616,0.376418361783619,0.0179055484836849,0.0009546916426751,0.0250821136631607,0.397073447309018,0.0527274846474092,0.31506846885624,0.147535797240959,0.0043085055290532,0.0444930994892239,0.0216126993150894,0.204182598356431,0.422001005563942,0.423598207430909,0.0141001572784285,0.317997725163404,0.358484928306194,0.0800295889864849,0.245623040798375,0.0146041125576712,0.0142349444391604,0.0868189591704307,0.466358318975283,0.0401860732683548,0.317899851865311,0.452073847803103,0.0082537386986574,0.158688688173306,0.061822226659658,0.38788345044289,0.0051578721274714,0.0008244461091402,0.0025210146425718,0.0006318470892286,0.0122348395136453,0.0387280253449855,0.105788871007562,0.0061509551067341,0.0356881935412572,0.062794513091906,0.138502434070248,0.238983392242909,0.271290487507344,0.109139602599504,0.0058865840233192,0.222823798874803,0.0136194075394309,0.0657242502647367,0.0467924318557668,0.0306558349338778,0.0413462144995164,0.016700895084528,0.0443965342341234,0.0641986573255321,0.065755985610667,0.0361298633837548,0.0472762884711011,0.0702593409449207,0.0125641831743707,0.0287231144809443,0.0534791914555942,0.0133905095308455,0.062515694035912,0.252233572108896,0.190752661099666,0.133724858633941,0.0611604290565,0.0064429820911895,0.0709668108954998,0.0612526706789852,0.389072951415912,0.186484977562486,0.187174771329276,0.111287724775463,0.183454234564145,0.0782679887242357,0.311958754432389,0.0077271622597039,0.001336207264937,0.0001438555182906,0.0187854264292013,0.129762681840733,0.0034961677326884,0.0142966374916303,0.0030655253326172,0.0091809047103469,0.139969659966009,0.0097721000423198,0.116642775088512,0.0028155264960047,0.0329748192512573,0.0043797124370432,0.0119778089382355,0.0338783759691781,0.13133389972515,0.22940121425794,0.148056632071528,0.110689969097876,0.0078477319240457,0.0926447054145795,0.387667868218833,0.191731365302496,0.0020444618088033,0.0074178085516563,0.0007929560172442,0.0417660536296314,0.456836004369418,0.163142356656214,0.333352125867879,0.22754923578204,0.274084236343546,0.0124893692310049,0.13431286923608,0.0481677649979225,0.0694355218784828,0.0959218589116504,0.042559228232689,0.296781144431807,0.0006467803085937,0.0106798185174243,0.010665601198334,0.0518234883770961,0.0001738515391366,0.0935262875536002,0.261688310675819,0.0377782308088382,0.0256765705163436,0.20458071565242,0.0010625213844153,0.0249150002600251,0.295490248247437,0.0011723062628936,0.0321754855078413,0.327118954335346,0.179417772786041,0.0080745467116802,0.196457675703418,0.281991772483522,0.324234146492739,0.322865600647792,0.251531601998738,0.0002131864418562],\"xbins\":{\"end\":1,\"start\":0},\"type\":\"histogram\"},{\"name\":\"Top 20 peaks (260)\",\"nbinsx\":10,\"x\":[0.0269411846662417,0.0253676066414482,0.0029178575576714,0.0064086900363674,0.252861977311683,0.0444377960629251,0.0106871051522672,0.0481292123445041,0.224560413742854,0.0527513752936736,0.039362361460931,0.242044244310349,0.189075364582812,0.0489723206557695,0.378576480833928,0.256098354810404,0.0018900169240337,0.0255888738252666,0.602301648400862,0.184325460162006,0.144550206744009,0.469354157281175,0.0214615390859544,0.103895984825808,0.54025607041891,0.026642979374599,0.170046122803163,0.141274560702057,0.0049885486848553,0.0223113500095425,0.0003171662433586,0.226359888827895,0.0008266178462279,0.0895429868769759,0.385328717397115,0.556992541958812,0.53372825997211,0.553474315158577,0.0046594783826047,0.313532731315417,0.0983621631878292,0.0794975815281698,0.0043242776245468,0.0873632548025122,0.0383989267553795,0.0627642094437834,0.019182511974904,0.517981646419492,0.241714568199056,0.0919101875492114,0.122227038206154,0.238505746692184,0.0815876517276903,0.333608452657264,0.538727542146113,0.0630984785072259,0.0674078619626542,0.0029934551551232,0.346998089534684,0.527771218080318,0.066890939577786,0.0716743139649342,0.0146280056424154,0.128817126879026,0.41481310516369,0.477391434284915,0.0474311020455599,0.323962009894421,0.290643810556995,0.0003286349496708,0.0867653284084934,0.396254391591997,0.123895973771526,0.591461617369312,0.0736748932415823,0.424442420735573,0.126866386445134,0.493403378964732,0.0769408566625809,0.0066260206343507,0.0295931610083742,0.254197029224499,0.272775859438032,0.0605972877911242,0.0192616616084058,0.553230906114456,0.0588670814824116,0.0021129754640453,0.0045788732627225,0.253149172654566,0.121667359447341,0.257660518515391,0.003144645703825,0.459358795237281,0.439525870787666,0.170765099042569,0.185739338723007,0.0379393535339576,0.533885257881435,0.553556503716386,0.142164689747264,0.12105705356162,0.238542456089994,0.247881188634153,0.0777922182583371,0.0129417455604576,0.0701207999712113,0.0497837387549552,0.100573856703176,0.0988293279916947,0.13140728371887,0.0944814710876382,0.500817431959981,0.0065271863811508,0.0549110309286188,0.345712262799435,0.0255193047311593,0.0008836240914789,0.022306257001114,0.430415575226089,0.0727288973007206,0.295789981796164,0.161801753920129,0.0077649230881386,0.0379296393779981,0.0338272946596801,0.195814005663698,0.388140772545573,0.487091014803664,0.0131172383179116,0.335456504305431,0.346895157003405,0.0705551718126406,0.217878350322063,0.016521666297881,0.0159560330039485,0.109254792472762,0.0013742273132467,0.45359569829699,0.040899870757732,0.261850205247706,0.403422290275803,0.0118685343440489,0.157189536056815,0.053021281500139,0.375925182638809,0.0099003075956276,0.0020956273897448,0.0035069586170035,0.0020410216357438,0.0138703139564689,0.0384482781088111,0.113872616011046,0.0377746093096634,0.0465040779016757,0.0548712275332884,0.139284925890282,0.231886666304969,0.268520745077487,0.0936893624307006,0.0433304405004972,0.222823798874803,0.0200367774342163,0.0683645385779661,0.0844093924912851,0.0596343425705668,0.0377487508958411,0.0158100675621174,0.0502660742229071,0.0619197026813144,0.0596006187155014,0.0387022305097385,0.0510914444528576,0.0714403057431412,0.0188771879571469,0.023850304098791,0.0435785144803354,0.0253962286597212,0.0568433353978161,0.228674042136966,0.197527252399292,0.106434851236848,0.0699016943103121,0.0052621664368743,0.0753478515527284,0.0655009269581159,0.356214420544871,0.195073794683858,0.163061890777507,0.086903192517375,0.185925631891012,0.0857375272262923,0.349025859040912,0.0109554080871108,0.0017184955268202,0.0001438555182906,0.0395473422440342,0.133873747454744,0.0028214952787487,0.0272969901395839,0.0052292189267092,0.0007981230335579,0.040347770739527,0.12511798687953,0.0097351488969249,0.100861479816755,0.0024213593244121,0.0290875318485601,0.0037801495871969,0.0126517771401125,0.0473930450321947,0.135964127340154,0.231728108353292,0.120049834669843,0.117787107469343,0.0069249877765939,0.116519564569448,0.354583550636728,0.230069548302889,0.0028115375645995,0.0068465915700936,0.000625082785293,0.0529365809785281,0.405312054571978,0.137533212521826,0.312681927663749,0.245880026271325,0.276626303562428,0.0140010674565209,0.19461583729515,0.0585941015873082,0.0636838753293075,0.0701714353091409,0.0504630855843921,0.359267470146128,0.0015986934255314,0.0163538401741595,0.0124162399609066,0.0510825787958364,0.0010682550157949,0.109309364927208,0.247204847216547,0.039559336534573,0.0545689705245391,0.213442823595427,0.0022486046773111,0.0368469681373469,0.262602600487409,0.0012967312221608,0.0278424591418645,0.387308048468224,0.198154790224277,0.047435465048775,0.204713266432311,0.320269486929621,0.296435690898114,0.34905708373038,0.228531384141478,0.0001062323639017,0.0001474373125846],\"xbins\":{\"end\":1,\"start\":0},\"type\":\"histogram\"}],                        {\"font\":{\"size\":17},\"legend\":{\"x\":0.81,\"y\":1.0},\"title\":{\"text\":\"MatchSpectra: filter -> 1%I | match -> 5ppm & normalized\"},\"xaxis\":{\"dtick\":0.1,\"range\":[0,1],\"tickfont\":{\"size\":15},\"title\":{\"text\":\"Score\"}},\"yaxis\":{\"range\":[0,140],\"tickfont\":{\"size\":15},\"title\":{\"text\":\"Frequency\"}},\"template\":{\"data\":{\"histogram2dcontour\":[{\"type\":\"histogram2dcontour\",\"colorbar\":{\"outlinewidth\":0,\"ticks\":\"\"},\"colorscale\":[[0.0,\"#0d0887\"],[0.1111111111111111,\"#46039f\"],[0.2222222222222222,\"#7201a8\"],[0.3333333333333333,\"#9c179e\"],[0.4444444444444444,\"#bd3786\"],[0.5555555555555556,\"#d8576b\"],[0.6666666666666666,\"#ed7953\"],[0.7777777777777778,\"#fb9f3a\"],[0.8888888888888888,\"#fdca26\"],[1.0,\"#f0f921\"]]}],\"choropleth\":[{\"type\":\"choropleth\",\"colorbar\":{\"outlinewidth\":0,\"ticks\":\"\"}}],\"histogram2d\":[{\"type\":\"histogram2d\",\"colorbar\":{\"outlinewidth\":0,\"ticks\":\"\"},\"colorscale\":[[0.0,\"#0d0887\"],[0.1111111111111111,\"#46039f\"],[0.2222222222222222,\"#7201a8\"],[0.3333333333333333,\"#9c179e\"],[0.4444444444444444,\"#bd3786\"],[0.5555555555555556,\"#d8576b\"],[0.6666666666666666,\"#ed7953\"],[0.7777777777777778,\"#fb9f3a\"],[0.8888888888888888,\"#fdca26\"],[1.0,\"#f0f921\"]]}],\"heatmap\":[{\"type\":\"heatmap\",\"colorbar\":{\"outlinewidth\":0,\"ticks\":\"\"},\"colorscale\":[[0.0,\"#0d0887\"],[0.1111111111111111,\"#46039f\"],[0.2222222222222222,\"#7201a8\"],[0.3333333333333333,\"#9c179e\"],[0.4444444444444444,\"#bd3786\"],[0.5555555555555556,\"#d8576b\"],[0.6666666666666666,\"#ed7953\"],[0.7777777777777778,\"#fb9f3a\"],[0.8888888888888888,\"#fdca26\"],[1.0,\"#f0f921\"]]}],\"heatmapgl\":[{\"type\":\"heatmapgl\",\"colorbar\":{\"outlinewidth\":0,\"ticks\":\"\"},\"colorscale\":[[0.0,\"#0d0887\"],[0.1111111111111111,\"#46039f\"],[0.2222222222222222,\"#7201a8\"],[0.3333333333333333,\"#9c179e\"],[0.4444444444444444,\"#bd3786\"],[0.5555555555555556,\"#d8576b\"],[0.6666666666666666,\"#ed7953\"],[0.7777777777777778,\"#fb9f3a\"],[0.8888888888888888,\"#fdca26\"],[1.0,\"#f0f921\"]]}],\"contourcarpet\":[{\"type\":\"contourcarpet\",\"colorbar\":{\"outlinewidth\":0,\"ticks\":\"\"}}],\"contour\":[{\"type\":\"contour\",\"colorbar\":{\"outlinewidth\":0,\"ticks\":\"\"},\"colorscale\":[[0.0,\"#0d0887\"],[0.1111111111111111,\"#46039f\"],[0.2222222222222222,\"#7201a8\"],[0.3333333333333333,\"#9c179e\"],[0.4444444444444444,\"#bd3786\"],[0.5555555555555556,\"#d8576b\"],[0.6666666666666666,\"#ed7953\"],[0.7777777777777778,\"#fb9f3a\"],[0.8888888888888888,\"#fdca26\"],[1.0,\"#f0f921\"]]}],\"surface\":[{\"type\":\"surface\",\"colorbar\":{\"outlinewidth\":0,\"ticks\":\"\"},\"colorscale\":[[0.0,\"#0d0887\"],[0.1111111111111111,\"#46039f\"],[0.2222222222222222,\"#7201a8\"],[0.3333333333333333,\"#9c179e\"],[0.4444444444444444,\"#bd3786\"],[0.5555555555555556,\"#d8576b\"],[0.6666666666666666,\"#ed7953\"],[0.7777777777777778,\"#fb9f3a\"],[0.8888888888888888,\"#fdca26\"],[1.0,\"#f0f921\"]]}],\"mesh3d\":[{\"type\":\"mesh3d\",\"colorbar\":{\"outlinewidth\":0,\"ticks\":\"\"}}],\"scatter\":[{\"fillpattern\":{\"fillmode\":\"overlay\",\"size\":10,\"solidity\":0.2},\"type\":\"scatter\"}],\"parcoords\":[{\"type\":\"parcoords\",\"line\":{\"colorbar\":{\"outlinewidth\":0,\"ticks\":\"\"}}}],\"scatterpolargl\":[{\"type\":\"scatterpolargl\",\"marker\":{\"colorbar\":{\"outlinewidth\":0,\"ticks\":\"\"}}}],\"bar\":[{\"error_x\":{\"color\":\"#2a3f5f\"},\"error_y\":{\"color\":\"#2a3f5f\"},\"marker\":{\"line\":{\"color\":\"#E5ECF6\",\"width\":0.5},\"pattern\":{\"fillmode\":\"overlay\",\"size\":10,\"solidity\":0.2}},\"type\":\"bar\"}],\"scattergeo\":[{\"type\":\"scattergeo\",\"marker\":{\"colorbar\":{\"outlinewidth\":0,\"ticks\":\"\"}}}],\"scatterpolar\":[{\"type\":\"scatterpolar\",\"marker\":{\"colorbar\":{\"outlinewidth\":0,\"ticks\":\"\"}}}],\"histogram\":[{\"marker\":{\"pattern\":{\"fillmode\":\"overlay\",\"size\":10,\"solidity\":0.2}},\"type\":\"histogram\"}],\"scattergl\":[{\"type\":\"scattergl\",\"marker\":{\"colorbar\":{\"outlinewidth\":0,\"ticks\":\"\"}}}],\"scatter3d\":[{\"type\":\"scatter3d\",\"line\":{\"colorbar\":{\"outlinewidth\":0,\"ticks\":\"\"}},\"marker\":{\"colorbar\":{\"outlinewidth\":0,\"ticks\":\"\"}}}],\"scattermapbox\":[{\"type\":\"scattermapbox\",\"marker\":{\"colorbar\":{\"outlinewidth\":0,\"ticks\":\"\"}}}],\"scatterternary\":[{\"type\":\"scatterternary\",\"marker\":{\"colorbar\":{\"outlinewidth\":0,\"ticks\":\"\"}}}],\"scattercarpet\":[{\"type\":\"scattercarpet\",\"marker\":{\"colorbar\":{\"outlinewidth\":0,\"ticks\":\"\"}}}],\"carpet\":[{\"aaxis\":{\"endlinecolor\":\"#2a3f5f\",\"gridcolor\":\"white\",\"linecolor\":\"white\",\"minorgridcolor\":\"white\",\"startlinecolor\":\"#2a3f5f\"},\"baxis\":{\"endlinecolor\":\"#2a3f5f\",\"gridcolor\":\"white\",\"linecolor\":\"white\",\"minorgridcolor\":\"white\",\"startlinecolor\":\"#2a3f5f\"},\"type\":\"carpet\"}],\"table\":[{\"cells\":{\"fill\":{\"color\":\"#EBF0F8\"},\"line\":{\"color\":\"white\"}},\"header\":{\"fill\":{\"color\":\"#C8D4E3\"},\"line\":{\"color\":\"white\"}},\"type\":\"table\"}],\"barpolar\":[{\"marker\":{\"line\":{\"color\":\"#E5ECF6\",\"width\":0.5},\"pattern\":{\"fillmode\":\"overlay\",\"size\":10,\"solidity\":0.2}},\"type\":\"barpolar\"}],\"pie\":[{\"automargin\":true,\"type\":\"pie\"}]},\"layout\":{\"autotypenumbers\":\"strict\",\"colorway\":[\"#636efa\",\"#EF553B\",\"#00cc96\",\"#ab63fa\",\"#FFA15A\",\"#19d3f3\",\"#FF6692\",\"#B6E880\",\"#FF97FF\",\"#FECB52\"],\"font\":{\"color\":\"#2a3f5f\"},\"hovermode\":\"closest\",\"hoverlabel\":{\"align\":\"left\"},\"paper_bgcolor\":\"white\",\"plot_bgcolor\":\"#E5ECF6\",\"polar\":{\"bgcolor\":\"#E5ECF6\",\"angularaxis\":{\"gridcolor\":\"white\",\"linecolor\":\"white\",\"ticks\":\"\"},\"radialaxis\":{\"gridcolor\":\"white\",\"linecolor\":\"white\",\"ticks\":\"\"}},\"ternary\":{\"bgcolor\":\"#E5ECF6\",\"aaxis\":{\"gridcolor\":\"white\",\"linecolor\":\"white\",\"ticks\":\"\"},\"baxis\":{\"gridcolor\":\"white\",\"linecolor\":\"white\",\"ticks\":\"\"},\"caxis\":{\"gridcolor\":\"white\",\"linecolor\":\"white\",\"ticks\":\"\"}},\"coloraxis\":{\"colorbar\":{\"outlinewidth\":0,\"ticks\":\"\"}},\"colorscale\":{\"sequential\":[[0.0,\"#0d0887\"],[0.1111111111111111,\"#46039f\"],[0.2222222222222222,\"#7201a8\"],[0.3333333333333333,\"#9c179e\"],[0.4444444444444444,\"#bd3786\"],[0.5555555555555556,\"#d8576b\"],[0.6666666666666666,\"#ed7953\"],[0.7777777777777778,\"#fb9f3a\"],[0.8888888888888888,\"#fdca26\"],[1.0,\"#f0f921\"]],\"sequentialminus\":[[0.0,\"#0d0887\"],[0.1111111111111111,\"#46039f\"],[0.2222222222222222,\"#7201a8\"],[0.3333333333333333,\"#9c179e\"],[0.4444444444444444,\"#bd3786\"],[0.5555555555555556,\"#d8576b\"],[0.6666666666666666,\"#ed7953\"],[0.7777777777777778,\"#fb9f3a\"],[0.8888888888888888,\"#fdca26\"],[1.0,\"#f0f921\"]],\"diverging\":[[0,\"#8e0152\"],[0.1,\"#c51b7d\"],[0.2,\"#de77ae\"],[0.3,\"#f1b6da\"],[0.4,\"#fde0ef\"],[0.5,\"#f7f7f7\"],[0.6,\"#e6f5d0\"],[0.7,\"#b8e186\"],[0.8,\"#7fbc41\"],[0.9,\"#4d9221\"],[1,\"#276419\"]]},\"xaxis\":{\"gridcolor\":\"white\",\"linecolor\":\"white\",\"ticks\":\"\",\"title\":{\"standoff\":15},\"zerolinecolor\":\"white\",\"automargin\":true,\"zerolinewidth\":2},\"yaxis\":{\"gridcolor\":\"white\",\"linecolor\":\"white\",\"ticks\":\"\",\"title\":{\"standoff\":15},\"zerolinecolor\":\"white\",\"automargin\":true,\"zerolinewidth\":2},\"scene\":{\"xaxis\":{\"backgroundcolor\":\"#E5ECF6\",\"gridcolor\":\"white\",\"linecolor\":\"white\",\"showbackground\":true,\"ticks\":\"\",\"zerolinecolor\":\"white\",\"gridwidth\":2},\"yaxis\":{\"backgroundcolor\":\"#E5ECF6\",\"gridcolor\":\"white\",\"linecolor\":\"white\",\"showbackground\":true,\"ticks\":\"\",\"zerolinecolor\":\"white\",\"gridwidth\":2},\"zaxis\":{\"backgroundcolor\":\"#E5ECF6\",\"gridcolor\":\"white\",\"linecolor\":\"white\",\"showbackground\":true,\"ticks\":\"\",\"zerolinecolor\":\"white\",\"gridwidth\":2}},\"shapedefaults\":{\"line\":{\"color\":\"#2a3f5f\"}},\"annotationdefaults\":{\"arrowcolor\":\"#2a3f5f\",\"arrowhead\":0,\"arrowwidth\":1},\"geo\":{\"bgcolor\":\"white\",\"landcolor\":\"#E5ECF6\",\"subunitcolor\":\"white\",\"showland\":true,\"showlakes\":true,\"lakecolor\":\"white\"},\"title\":{\"x\":0.05},\"mapbox\":{\"style\":\"light\"}}}},                        {\"responsive\": true}                    ).then(function(){\n",
       "                            \n",
       "var gd = document.getElementById('43061978-5fac-4c25-8e42-6c3be850ecf2');\n",
       "var x = new MutationObserver(function (mutations, observer) {{\n",
       "        var display = window.getComputedStyle(gd).display;\n",
       "        if (!display || display === 'none') {{\n",
       "            console.log([gd, 'removed!']);\n",
       "            Plotly.purge(gd);\n",
       "            observer.disconnect();\n",
       "        }}\n",
       "}});\n",
       "\n",
       "// Listen for the removal of the full notebook cells\n",
       "var notebookContainer = gd.closest('#notebook-container');\n",
       "if (notebookContainer) {{\n",
       "    x.observe(notebookContainer, {childList: true});\n",
       "}}\n",
       "\n",
       "// Listen for the clearing of the current output cell\n",
       "var outputEl = gd.closest('.output');\n",
       "if (outputEl) {{\n",
       "    x.observe(outputEl, {childList: true});\n",
       "}}\n",
       "\n",
       "                        })                };                });            </script>        </div>"
      ]
     },
     "metadata": {},
     "output_type": "display_data"
    }
   ],
   "source": [
    "plot_histograms_sidebyside(same_query_ref9, same_query_ref1, same_query_ref2, same_query_ref3, same_query_ref4, 'score',  'Score', 'MatchSpectra: filter -> 1%I | match -> 5ppm & normalized')"
   ]
  },
  {
   "cell_type": "code",
   "execution_count": 74,
   "metadata": {},
   "outputs": [
    {
     "data": {
      "application/vnd.plotly.v1+json": {
       "config": {
        "plotlyServerURL": "https://plot.ly"
       },
       "data": [
        {
         "name": "All peaks (273)",
         "nbinsx": 10,
         "type": "histogram",
         "x": [
          0.175880761269498,
          0.321387617106809,
          0.282113775903856,
          0.268692332254443,
          0.339223661222828,
          0.491122708707988,
          0.188899425729047,
          0.277940937215481,
          0.460148693572527,
          0.518320315407443,
          0.138155925413858,
          0.170086969685882,
          0.324008746073657,
          0.505713331236347,
          0.0631366034860698,
          0.597545645227685,
          0.415208728341587,
          0.0697687832099882,
          0.0192661252638501,
          0.133485544663261,
          0.762613715361616,
          0.524179502276408,
          0.624466136788348,
          0.728816948815106,
          0.120473464453323,
          0.725475919970472,
          0.728963772446862,
          0.119005748507143,
          0.67782153387133,
          0.402824359009688,
          0.0862359525682247,
          0.154233848083348,
          0.0311074325988737,
          0.350300057914784,
          0.038163046600333,
          0.331592579926666,
          0.727664544260436,
          0.721591709736466,
          0.731377117895433,
          0.74408283536776,
          0.141619423899139,
          0.434666287280773,
          0.636191278532405,
          0.617725225527626,
          0.109620746005914,
          0.40256841025085,
          0.186724735218631,
          0.301414939351566,
          0.161712843461247,
          0.750564094042754,
          0.405571688975832,
          0.368588954243618,
          0.25116229693109,
          0.5857259357049,
          0.278617438519777,
          0.628347375806063,
          0.749307600103233,
          0.679425893019839,
          0.172348030334002,
          0.0103376614328287,
          0.110471292077771,
          0.476286688309431,
          0.739059476089044,
          0.211795997833018,
          0.123073191246695,
          0.324382435855344,
          0.186617683276013,
          0.697495513161279,
          0.808505780928252,
          0.306793959826278,
          0.429135907020878,
          0.534927320298456,
          0.0194660612454928,
          0.212734635571831,
          0.735667129541028,
          0.421192130788774,
          0.0338496592310506,
          0.749425794702634,
          0.259912667207004,
          0.692638998749819,
          0.40071943084063,
          0.661308204205262,
          0.426224369464128,
          0.126178852916742,
          0.0741022645712041,
          0.576786727045641,
          0.793185174394693,
          0.205604442348102,
          0.238450863818689,
          0.711600692014388,
          0.254179359700496,
          0.0157590257475532,
          0.0128561047151851,
          0.0275464428494271,
          0.375972589406,
          0.419926110433444,
          0.518915429455707,
          0.0206584642596709,
          0.831080717635952,
          0.668784570939965,
          0.388474063502563,
          0.681884610117516,
          0.214666646913028,
          0.752401622257409,
          0.766740640041351,
          0.113305428562581,
          0.534329433573366,
          0.466462565432905,
          0.509031814411584,
          0.339699209819184,
          0.50148980400487,
          0.0353930472128708,
          0.372609988596962,
          0.15733765026116,
          0.298374812463853,
          0.280073120982583,
          0.348591309295932,
          0.247081075024603,
          0.68944171471565,
          0.17296995122863,
          0.374886245243467,
          0.586811931896278,
          0.42352141762222,
          0.0187529509057228,
          0.0714068852504958,
          0.586438006335781,
          0.379858483802619,
          0.766896651945996,
          0.285300621959186,
          0.0650613519230541,
          0.415032516854768,
          0.0921630944085852,
          0.372707732184196,
          0.62675642033606,
          0.692262194915056,
          0.0409211067060219,
          0.551231209127545,
          0.663245850361734,
          0.599568032566439,
          0.406131075451408,
          0.0992920422844082,
          0.0908236747956039,
          0.407687867680852,
          0.338803225838703,
          0.596647097226635,
          0.114650230815821,
          0.49732130409964,
          0.570126801652427,
          0.200000980205964,
          0.280690374188727,
          0.186131068097268,
          0.584562943751249,
          0.090811417537215,
          0.0679473295775126,
          0.0426740989642583,
          0.0222170095958208,
          0.105638797722407,
          0.104055946772555,
          0.308838015567019,
          0.354528316617602,
          0.10802985917391,
          0.214714490328648,
          0.323299208970342,
          0.319538578211404,
          0.364731689527486,
          0.479734044152866,
          0.286722856759641,
          0.224980383048292,
          0.261308853386207,
          0.267094642831648,
          0.269858171475201,
          0.356430165080336,
          0.115397773752351,
          0.0712308334527008,
          0.130103476009845,
          0.275530105621901,
          0.27004262219655,
          0.181868592806763,
          0.316520356639652,
          0.275204236861758,
          0.116740981634896,
          0.0975860915810375,
          0.277589330652256,
          0.157975522076008,
          0.290369085094566,
          0.502640746933265,
          0.514019662693968,
          0.399048996852981,
          0.466732860587478,
          0.0436596907517574,
          0.183709942691183,
          0.22765382772588,
          0.729790319152683,
          0.390999923746804,
          0.482299768295213,
          0.325991749612604,
          0.306055982659358,
          0.590481884723704,
          0.481957601316873,
          0.0246290067508538,
          0.0215350563111245,
          0.0138460679139078,
          0.399893324956347,
          0.210023391021701,
          0.0141111450405429,
          0.193232484400144,
          0.0379247956008077,
          0.038132857600205,
          0.0972285228218665,
          0.226226094949555,
          0.132579793534009,
          0.223259068713906,
          0.119003450788418,
          0.0563323101666391,
          0.0308304378968488,
          0.0760596030568198,
          0.149817126516661,
          0.0414958027687628,
          0.188887221400059,
          0.0217467897514424,
          0.56752693649084,
          0.356839334387365,
          0.216178627737538,
          0.0955857156173725,
          0.220472384834047,
          0.0529024957991516,
          0.71320413491919,
          0.384377240377744,
          0.116712941988469,
          0.0881696090207212,
          0.0986681126658468,
          0.0069663808750307,
          0.458600278782636,
          0.546464715809676,
          0.370208359207701,
          0.40346805447046,
          0.428088028461644,
          0.416869051377547,
          0.0421210561932625,
          0.57222038688476,
          0.343878625394405,
          0.423693805583716,
          0.0211159241537921,
          0.198304585068636,
          0.676830668963407,
          0.683727719480712,
          0.0565846622863882,
          0.0346207119510579,
          0.0480807365391956,
          0.222152825625327,
          0.0131937426733824,
          0.432132597789376,
          0.592783098083104,
          0.269730074959498,
          0.334579768033309,
          0.6226533281304,
          0.0747227337772308,
          0.264070810379241,
          0.581828706137543,
          0.0085300617690258,
          0.544569174636627,
          0.476876326706734,
          0.328716543453114,
          0.118048211459894,
          0.39046206341713,
          0.39698088346418,
          0.503414193767459,
          0.51634320710499,
          0.400238437570253,
          0.0068337480025101,
          0.0050057562388156,
          0.0301276366152278,
          0.107630465431331
         ],
         "xbins": {
          "end": 1,
          "start": 0
         }
        },
        {
         "name": "Top 3 peaks (213)",
         "nbinsx": 10,
         "type": "histogram",
         "x": [
          0.326825237457499,
          0.0795338597395544,
          0.10186317999239,
          0.0076762988386593,
          0.333654855347875,
          0.0152415422604625,
          0.0427757273829862,
          0.204471158394578,
          0.0795466348078505,
          0.0458608413824598,
          0.440200255305761,
          0.257718357341456,
          0.0118285769851824,
          0.0913476455222962,
          0.399739996308636,
          0.491578660982816,
          0.0068824906693399,
          0.621552883454563,
          0.398511903584579,
          0.332771035041225,
          0.227747188835519,
          0.00429878152165,
          0.277893580786571,
          0.0411315530368355,
          0.621313879052017,
          0.297215197296914,
          0.27425272704877,
          0.39663070307781,
          0.176207024991514,
          0.135857671945802,
          0.0144555100285543,
          0.0366774626233281,
          0.380549774193076,
          0.252283021076601,
          0.162858381049056,
          0.568664281204127,
          0.0610365089648734,
          0.225782470599442,
          0.276620257734531,
          0.230921236715728,
          0.148360735265721,
          0.0103376614328287,
          0.215239786313596,
          0.277760330635432,
          0.110041334761336,
          0.105285413645514,
          0.0154275869312517,
          0.170227602911965,
          0.222600538374743,
          0.419070889998638,
          0.153727323706866,
          0.313293798752896,
          0.110916473665765,
          0.321985838755167,
          0.254000375452073,
          0.297725262768602,
          0.100400467989864,
          0.475595361090613,
          0.179095428442881,
          0.189971971828903,
          0.0431304772971661,
          0.296016881606242,
          0.669362602717693,
          0.0334872457880994,
          0.265655540433131,
          0.179342066569164,
          0.0100172308664201,
          0.0108659512035293,
          0.107779773733526,
          0.257200293647848,
          0.0729166568391261,
          0.551872227847771,
          0.272599485491395,
          0.0032619870788809,
          0.0415496905168696,
          0.23354300782779,
          0.421031770836459,
          0.251261738762021,
          0.287708999833681,
          0.374962401664072,
          0.165137436094444,
          0.13086549858769,
          0.0024650985882554,
          0.005132717964995,
          0.0622200651838051,
          0.0453315338877905,
          0.0446669741224486,
          0.0575765497704939,
          0.1057807931481,
          0.193882460676344,
          0.0069435628937095,
          0.0027731650501326,
          0.305713759340225,
          0.0563608904601069,
          0.275798588047909,
          0.113458343223356,
          0.476581741611242,
          0.152065770897738,
          0.0134932787360214,
          0.0345283513165492,
          0.143828873509846,
          0.62675642033606,
          0.361559614408479,
          0.0409211067060219,
          0.0931947562572901,
          0.484423182833471,
          0.687170673206431,
          0.262202829446205,
          0.0307149601340746,
          0.028016365994915,
          0.093398378968893,
          0.481102932434084,
          0.0125100629763276,
          0.317705916368825,
          0.501607802772848,
          0.201071450398731,
          0.0148195310928857,
          0.437003435537959,
          0.0041241351278577,
          0.0024080364422466,
          0.0025226527485109,
          0.0589854690678666,
          0.0841538730055559,
          0.245599466962568,
          0.0029705936035888,
          0.0284026604999708,
          0.0231493639707484,
          0.144805833899722,
          0.221190132551593,
          0.273230886512328,
          0.0968097844976739,
          0.0112201723006082,
          0.224980383048292,
          0.16266136801645,
          0.0701958184183089,
          0.0936834152994462,
          0.0950311840337438,
          0.0118254675583929,
          0.0401628738613299,
          0.0655116755586484,
          0.0722673435680563,
          0.0411347878583883,
          0.0326669087260175,
          0.0350725020148432,
          0.0352022605172933,
          0.0865970507622262,
          0.0672321401113264,
          0.0612342762863103,
          0.361575027621649,
          0.317136260800573,
          0.298580028089068,
          0.153192172719658,
          0.0108338029765409,
          0.142297696341113,
          0.0869573803891138,
          0.593163450598013,
          0.229292594858696,
          0.335155467263058,
          0.240164348801019,
          0.0106249810969087,
          0.369366023629674,
          0.208948939120663,
          0.0154026736204125,
          0.157435026502332,
          0.0141111450405429,
          0.0224410526618755,
          0.0016055575994032,
          0.132279158043839,
          0.0083718839635916,
          0.137145978510623,
          0.0514768106696083,
          0.0283448903725322,
          0.0324943182181484,
          0.101213707851777,
          0.534625123381531,
          0.197922613971406,
          0.082506985361504,
          0.0884828109562657,
          0.122285766586157,
          0.549215762709661,
          0.215636165758713,
          0.346136719978574,
          0.250124834444247,
          0.266849513955819,
          0.274818986211873,
          0.28054114590149,
          0.0282446591184662,
          0.09556376385387,
          0.0694170934794756,
          0.0525520035535052,
          0.0291471961455192,
          0.471011515980097,
          0.333224434142918,
          0.0029024824127665,
          0.0046475650339672,
          0.0055024181988952,
          0.104559757747669,
          0.0473277021967883,
          0.224658877298392,
          0.0295464787614518,
          0.0246614404479807,
          0.248405233298513,
          0.0539098990195393,
          0.364790433882766,
          0.0046760395900459,
          0.28076550973969,
          0.143607903661748,
          0.006889960043543,
          0.175072447744746,
          0.228453476953365,
          0.365210341017778,
          0.323748201910478,
          0.142352758779436
         ],
         "xbins": {
          "end": 1,
          "start": 0
         }
        },
        {
         "name": "Top 5 peaks (236)",
         "nbinsx": 10,
         "type": "histogram",
         "x": [
          0.0491877084868524,
          0.326825237457499,
          0.127867169114783,
          0.10186317999239,
          0.0076762988386593,
          0.391120887488184,
          0.0186534862213091,
          0.0915150757287453,
          0.213026288925008,
          0.260326247263029,
          0.0608760122425285,
          0.425355476904794,
          0.31553375835743,
          0.0118285769851824,
          0.0913476455222962,
          0.372918718248176,
          0.108637689683509,
          0.177263672377826,
          0.475625439432458,
          0.0182015416927514,
          0.621552883454563,
          0.411053691919116,
          0.0608864636207,
          0.332771035041225,
          0.24599233172282,
          0.0909613967523526,
          0.00429878152165,
          0.0311074325988737,
          0.297521064107619,
          0.212725037435562,
          0.621313879052017,
          0.338448133381367,
          0.386187613363933,
          0.416234069992909,
          0.189496082882533,
          0.0862207767958263,
          0.0685753872617916,
          0.135857671945802,
          0.0301524796982434,
          0.098327475662711,
          0.0461417693156192,
          0.445524223963095,
          0.252283021076601,
          0.139580219032363,
          0.162858381049056,
          0.564732568107141,
          0.0749297729659512,
          0.473636066414445,
          0.355650763389265,
          0.230921236715728,
          0.152225781771009,
          0.0103376614328287,
          0.255540853903279,
          0.3454285878063,
          0.123058894380672,
          0.105285413645514,
          0.024436980702607,
          0.186617683276013,
          0.254531009793184,
          0.419070889998638,
          0.0158985130309031,
          0.184941582495687,
          0.322167554940337,
          0.110916473665765,
          0.364621642764534,
          0.30781474380418,
          0.342453765504495,
          0.0927173536701049,
          0.604233572333416,
          0.179095428442881,
          0.261628502305333,
          0.112920016110859,
          0.0418773248736082,
          0.390504532275448,
          0.669362602717693,
          0.0650035005128077,
          0.330685356253773,
          0.203216767892819,
          0.0100172308664201,
          0.0108659512035293,
          0.206338845983836,
          0.411157810739211,
          0.21700390010533,
          0.0206584642596709,
          0.574924849224026,
          0.313486510115716,
          0.175491737985766,
          0.348676077402911,
          0.0415496905168696,
          0.328306976152904,
          0.458912104334941,
          0.179011992407659,
          0.193988514307215,
          0.374962401664072,
          0.208504732574689,
          0.21393611416348,
          0.0024650985882554,
          0.060157619649539,
          0.076969190154255,
          0.0817473905989875,
          0.078475002544721,
          0.0696807125316509,
          0.236741675587884,
          0.292222779878579,
          0.0069435628937095,
          0.0027731650501326,
          0.414161306564456,
          0.0087101152383862,
          0.0563608904601069,
          0.413828109889027,
          0.220677304911148,
          0.570804752571838,
          0.195388437028458,
          0.0155566220836649,
          0.393329502312623,
          0.0465164707093866,
          0.149873135461577,
          0.62675642033606,
          0.402094288732722,
          0.0409211067060219,
          0.275089955925377,
          0.502868094130876,
          0.687170673206431,
          0.262202829446205,
          0.0307149601340746,
          0.0316057494193645,
          0.138398625318908,
          0.488569188295899,
          0.102799090463187,
          0.384559818556512,
          0.45573593928085,
          0.201071450398731,
          0.0437090725891356,
          0.484034196213882,
          0.0114103376219277,
          0.0107723158137929,
          0.0025226527485109,
          0.0589854690678666,
          0.0841538730055559,
          0.245599466962568,
          0.0029705936035888,
          0.0469760455920165,
          0.0231493639707484,
          0.140969979504996,
          0.218898503975472,
          0.254144450344462,
          0.0968097844976739,
          0.0112201723006082,
          0.224980383048292,
          0.170235339301515,
          0.16266136801645,
          0.069985489895605,
          0.0936834152994462,
          0.0950311840337438,
          0.0139863451907127,
          0.0528259656348944,
          0.11110740021911,
          0.116855765204881,
          0.0639820273307335,
          0.034570499121085,
          0.0383969539448733,
          0.0352022605172933,
          0.0820096045455235,
          0.100631161609668,
          0.0443885706466641,
          0.099359648693239,
          0.361575027621649,
          0.317136260800573,
          0.298580028089068,
          0.314371459769994,
          0.0108338029765409,
          0.142297696341113,
          0.109163279084477,
          0.593163450598013,
          0.229292594858696,
          0.335155467263058,
          0.240164348801019,
          0.270833735282796,
          0.369366023629674,
          0.291933904499048,
          0.0154026736204125,
          0.151942513141161,
          0.0141111450405429,
          0.0056772041682565,
          0.0224410526618755,
          0.0166080115272623,
          0.126449784055596,
          0.0083718839635916,
          0.137145978510623,
          0.0514768106696083,
          0.0283448903725322,
          0.0063221776688946,
          0.0876993379174612,
          0.14670437728028,
          0.506837147186119,
          0.201102641767462,
          0.157374558734791,
          0.0884828109562657,
          0.122285766586157,
          0.549215762709661,
          0.245213137779854,
          0.006323103009331,
          0.219460590726117,
          0.448892172916765,
          0.323555358598391,
          0.322257607930235,
          0.274818986211873,
          0.290804396083767,
          0.0282446591184662,
          0.221157220686925,
          0.0694170934794756,
          0.0750806596672012,
          0.122994773262864,
          0.471011515980097,
          0.348946269976437,
          0.0029024824127665,
          0.0197707571598468,
          0.0212198230427727,
          0.104559757747669,
          0.0606031537255412,
          0.273437066116631,
          0.0338596726262322,
          0.0246614404479807,
          0.248405233298513,
          0.0146965104834275,
          0.0871275994660422,
          0.369897825301988,
          0.0046760395900459,
          0.33855967676472,
          0.267112635719433,
          0.006889960043543,
          0.288965722152857,
          0.314417484421991,
          0.365210341017778,
          0.340636305641812,
          0.279798174967077
         ],
         "xbins": {
          "end": 1,
          "start": 0
         }
        },
        {
         "name": "Top 10 peaks (253)",
         "nbinsx": 10,
         "type": "histogram",
         "x": [
          0.0796647522742383,
          0.0562523884091108,
          0.3812892959854,
          0.14931543240248,
          0.10186317999239,
          0.298020867396724,
          0.397638583302715,
          0.0550403065656336,
          0.0915150757287453,
          0.26931963720879,
          0.260326247263029,
          0.0608760122425285,
          0.508737767591771,
          0.384016710463546,
          0.0118285769851824,
          0.107426197479155,
          0.561828055510294,
          0.176150504939243,
          0.231321824826592,
          0.52181441792597,
          0.0182015416927514,
          0.621552883454563,
          0.527504050498031,
          0.111261212176644,
          0.332771035041225,
          0.233310887678198,
          0.0909613967523526,
          0.0710277674654164,
          0.0311074325988737,
          0.301014030904917,
          0.212725037435562,
          0.673304157485701,
          0.478489779953466,
          0.560632810474933,
          0.530970914860208,
          0.132621483945402,
          0.264347523061581,
          0.180890568696234,
          0.149647565211935,
          0.0386398820041336,
          0.172833391407618,
          0.0348011019856656,
          0.148184343325266,
          0.0461417693156192,
          0.578790366682908,
          0.316581819444085,
          0.170219067721028,
          0.187198450656773,
          0.578320128512338,
          0.105794746516793,
          0.487163648557713,
          0.519181095871316,
          0.376634002058248,
          0.172348030334002,
          0.0103376614328287,
          0.325626710703848,
          0.544341513221196,
          0.157946440164003,
          0.123073191246695,
          0.0400243938319621,
          0.186617683276013,
          0.384450885801341,
          0.62128460280771,
          0.0648920622238907,
          0.350741696928382,
          0.359919280664296,
          0.195659910443361,
          0.540852205622334,
          0.30587079639851,
          0.477794472348066,
          0.12381817586853,
          0.59769212665695,
          0.311649693884898,
          0.440268036166085,
          0.185664159347062,
          0.138175526523888,
          0.0755641533698232,
          0.399030852443011,
          0.669362602717693,
          0.10156798462975,
          0.0911733430072681,
          0.498695958787318,
          0.212506568879106,
          0.0100172308664201,
          0.0108659512035293,
          0.269267047205337,
          0.403748248404729,
          0.230267329529097,
          0.0206584642596709,
          0.57912152176288,
          0.387043015601183,
          0.324293413451623,
          0.571974518709417,
          0.0605069548123801,
          0.541548637282832,
          0.598873826475594,
          0.4099192831992,
          0.4108870305664,
          0.374962401664072,
          0.243040884912203,
          0.21393611416348,
          0.0330620153520677,
          0.130558199217431,
          0.0862055717347389,
          0.107372180750421,
          0.107532052321258,
          0.122141334854938,
          0.247081075024603,
          0.349026248942621,
          0.0119181546346856,
          0.0157485387312169,
          0.435645149292814,
          0.167012967367557,
          0.0187529509057228,
          0.0714068852504958,
          0.469024380122234,
          0.247623902077482,
          0.571701063770399,
          0.204410250721297,
          0.0155566220836649,
          0.262941174976278,
          0.0465164707093866,
          0.285304442673619,
          0.62675642033606,
          0.459362111206254,
          0.0409211067060219,
          0.391165941706275,
          0.535510078865254,
          0.542012095319991,
          0.30735622395691,
          0.0362258007203229,
          0.0316057494193645,
          0.1523470850586,
          0.548634139620785,
          0.102799090463187,
          0.404987261111113,
          0.528159365928593,
          0.128488003014205,
          0.264091357023288,
          0.166669127877837,
          0.484034196213882,
          0.0195377190372525,
          0.0211083921974886,
          0.0107723158137929,
          0.0025226527485109,
          0.0682770786560723,
          0.0950549837099627,
          0.305690377749225,
          0.0348375159767781,
          0.0672185343966395,
          0.127257482665104,
          0.264807296640794,
          0.270526861966222,
          0.304181974971572,
          0.455593003346387,
          0.0150584162974621,
          0.224980383048292,
          0.170235339301515,
          0.166725754058763,
          0.0764685802317849,
          0.101568911387947,
          0.0950311840337438,
          0.026311905190151,
          0.0798104683589343,
          0.178056756698706,
          0.190084523222112,
          0.104442626653702,
          0.126589564328438,
          0.153423972564307,
          0.0558375633814766,
          0.0850279871008082,
          0.173564472691512,
          0.0771945057720859,
          0.170030079754313,
          0.434003069013113,
          0.38217102070373,
          0.298632558627935,
          0.314371459769994,
          0.0302785615538078,
          0.142297696341113,
          0.118262280378056,
          0.593163450598013,
          0.276103134433721,
          0.348327003866111,
          0.240164348801019,
          0.277148811799225,
          0.53792908952138,
          0.357940446302524,
          0.0154026736204125,
          0.0187965671364013,
          0.0138460679139078,
          0.0775820943661648,
          0.187642143275408,
          0.0141111450405429,
          0.11051344772306,
          0.0224410526618755,
          0.0166080115272623,
          0.180689816334412,
          0.0433621539682856,
          0.2019179897109,
          0.11114538461315,
          0.0514768106696083,
          0.0283448903725322,
          0.0711325699718224,
          0.0876993379174612,
          0.168889053343037,
          0.51443826717687,
          0.201102641767462,
          0.171204015287662,
          0.0884828109562657,
          0.152079748333563,
          0.549215762709661,
          0.256281916453588,
          0.0210334158861389,
          0.0986681126658468,
          0.006323103009331,
          0.289133403993252,
          0.499091627502628,
          0.331451014140572,
          0.366376063353276,
          0.318137413017193,
          0.329281596141509,
          0.0314045572228879,
          0.222774257718422,
          0.0759975554308357,
          0.0926846625130377,
          0.14863891551943,
          0.471011515980097,
          0.36604942420137,
          0.0029024824127665,
          0.0197707571598468,
          0.0212198230427727,
          0.104559757747669,
          0.0028226919957593,
          0.124996764092586,
          0.300652776744691,
          0.0533630877540858,
          0.042190236853958,
          0.288859635891821,
          0.0146965104834275,
          0.219024618500483,
          0.370594641431027,
          0.0046760395900459,
          0.482375117217008,
          0.374257956482503,
          0.267112635719433,
          0.0113356453489864,
          0.288965722152857,
          0.33820181299094,
          0.43221812152593,
          0.374426736461325,
          0.305462011715435,
          0.0028676020740966
         ],
         "xbins": {
          "end": 1,
          "start": 0
         }
        },
        {
         "name": "Top 20 peaks (260)",
         "nbinsx": 10,
         "type": "histogram",
         "x": [
          0.109788669035941,
          0.103024662259649,
          0.0402874249720275,
          0.0522732946326571,
          0.400443568158447,
          0.167028558110118,
          0.10186317999239,
          0.298020867396724,
          0.47342123212774,
          0.073720665648224,
          0.0915150757287453,
          0.289119467883147,
          0.345902359567076,
          0.0631366034860698,
          0.601656384241721,
          0.389590865158082,
          0.0118285769851824,
          0.107426197479155,
          0.657510129206091,
          0.396468514143626,
          0.495156791537144,
          0.613705739622695,
          0.075650895281913,
          0.708143785175866,
          0.623783307312616,
          0.119005748507143,
          0.414395719607994,
          0.312343021893747,
          0.0862359525682247,
          0.0799270571961821,
          0.0311074325988737,
          0.31654611428068,
          0.0121110240111344,
          0.228394066522923,
          0.704087687367284,
          0.565814987452925,
          0.618743738496656,
          0.649120617972205,
          0.132621483945402,
          0.318870142553897,
          0.401299518971354,
          0.361643262066688,
          0.0427492065429305,
          0.203618080622817,
          0.0869794694781478,
          0.301414939351566,
          0.0645837307583478,
          0.620988818334802,
          0.360635307126082,
          0.250129268943401,
          0.230908886110408,
          0.579601545373979,
          0.10999473742903,
          0.577057366608922,
          0.59954518238101,
          0.376634002058248,
          0.172348030334002,
          0.0103376614328287,
          0.415882179258899,
          0.574349428085409,
          0.198784458672969,
          0.123073191246695,
          0.0489042307267218,
          0.186617683276013,
          0.483008365387061,
          0.661970227550357,
          0.282708651314787,
          0.381321881403645,
          0.421258054557938,
          0.0194660612454928,
          0.212734635571831,
          0.657641728532835,
          0.301350626914379,
          0.591461617369312,
          0.176112787807477,
          0.637913666176161,
          0.333198842954048,
          0.545181521223433,
          0.317437998275393,
          0.126178852916742,
          0.0809838710094001,
          0.45505812770131,
          0.793185174394693,
          0.167295848147811,
          0.193230640264126,
          0.586682803557488,
          0.212506568879106,
          0.0100172308664201,
          0.0197754401241937,
          0.294284469267996,
          0.403748248404729,
          0.405225113972416,
          0.0206584642596709,
          0.77444526370745,
          0.483318659327864,
          0.329048001346618,
          0.582136670696608,
          0.0971450379034276,
          0.579460764317053,
          0.664870906571308,
          0.479880863588807,
          0.421363458699344,
          0.472588141293099,
          0.279027123621606,
          0.266164255759864,
          0.0353930472128708,
          0.172316461395541,
          0.0902051337465525,
          0.261453957145387,
          0.23415288134396,
          0.190193993875491,
          0.247081075024603,
          0.52064175130484,
          0.0192211300873725,
          0.239828125896335,
          0.453791261405742,
          0.230656335830814,
          0.0187529509057228,
          0.0714068852504958,
          0.543649930200143,
          0.312112591074982,
          0.615405181501063,
          0.234920175286425,
          0.0290164944861568,
          0.262941174976278,
          0.0795902257108595,
          0.305123107829511,
          0.62675642033606,
          0.555393029423873,
          0.0409211067060219,
          0.419879330734098,
          0.561067587638357,
          0.542012095319991,
          0.320300814633278,
          0.0482653238555973,
          0.0423828404236516,
          0.225366461038802,
          0.0276743863005608,
          0.58560095054044,
          0.114650230815821,
          0.404987261111113,
          0.547317039677455,
          0.175263910053014,
          0.280690374188727,
          0.166669127877837,
          0.511888508275116,
          0.0372507090441167,
          0.0421154235554993,
          0.0161197141205518,
          0.0093177916446197,
          0.074830072107289,
          0.10204663452869,
          0.310865023568922,
          0.167296439893904,
          0.0954194652962619,
          0.127257482665104,
          0.279046359066742,
          0.282631575065311,
          0.340483892612054,
          0.4274675737274,
          0.115958998284405,
          0.224980383048292,
          0.215737559956231,
          0.190070781519217,
          0.149555637507675,
          0.210980843665538,
          0.0950311840337438,
          0.0312694306760066,
          0.0974127445196995,
          0.186526248931576,
          0.197774371065101,
          0.12266134007351,
          0.163459572696803,
          0.186546537278466,
          0.0963714412514768,
          0.0850279871008082,
          0.173564472691512,
          0.131433069972023,
          0.176712051427427,
          0.449337834768189,
          0.43420118644245,
          0.298632558627935,
          0.359442336005521,
          0.0302785615538078,
          0.162811857358894,
          0.140635494275279,
          0.663105699240752,
          0.346233033755091,
          0.358820373722274,
          0.240164348801019,
          0.306055982659358,
          0.559962316377218,
          0.417439472271658,
          0.0246290067508538,
          0.0215350563111245,
          0.0138460679139078,
          0.124667608414942,
          0.210023391021701,
          0.0141111450405429,
          0.193232484400144,
          0.0379247956008077,
          0.038132857600205,
          0.0694331566873705,
          0.190199389029363,
          0.049564445790727,
          0.2019179897109,
          0.11114538461315,
          0.0514768106696083,
          0.0283448903725322,
          0.0760596030568198,
          0.123583896276343,
          0.188887221400059,
          0.559925046008114,
          0.207569805641479,
          0.20457293815511,
          0.0884828109562657,
          0.201437845327118,
          0.601150963619184,
          0.343005490091999,
          0.0261303272800876,
          0.0986681126658468,
          0.006323103009331,
          0.357786569595906,
          0.522036254292808,
          0.334756752596586,
          0.386238375241938,
          0.355325898721219,
          0.376530016682199,
          0.0396961111615742,
          0.295055760093687,
          0.0987200801061491,
          0.105896694067315,
          0.14863891551943,
          0.459233637774116,
          0.480322290555303,
          0.0075620538367399,
          0.0346207119510579,
          0.0269415267397959,
          0.119889343556764,
          0.0131937426733824,
          0.167001359556289,
          0.337058033242722,
          0.0698302095292496,
          0.0931245911911043,
          0.358874863675779,
          0.030299120540794,
          0.264070810379241,
          0.375487932827558,
          0.0056289533462861,
          0.482375117217008,
          0.476876326706734,
          0.324421251026844,
          0.0750910078765404,
          0.331091239361357,
          0.39698088346418,
          0.461409918366421,
          0.44166000670012,
          0.317929782340385,
          0.0047008219712842,
          0.0028676020740966
         ],
         "xbins": {
          "end": 1,
          "start": 0
         }
        }
       ],
       "layout": {
        "font": {
         "size": 17
        },
        "legend": {
         "x": 0.81,
         "y": 1
        },
        "template": {
         "data": {
          "bar": [
           {
            "error_x": {
             "color": "#2a3f5f"
            },
            "error_y": {
             "color": "#2a3f5f"
            },
            "marker": {
             "line": {
              "color": "#E5ECF6",
              "width": 0.5
             },
             "pattern": {
              "fillmode": "overlay",
              "size": 10,
              "solidity": 0.2
             }
            },
            "type": "bar"
           }
          ],
          "barpolar": [
           {
            "marker": {
             "line": {
              "color": "#E5ECF6",
              "width": 0.5
             },
             "pattern": {
              "fillmode": "overlay",
              "size": 10,
              "solidity": 0.2
             }
            },
            "type": "barpolar"
           }
          ],
          "carpet": [
           {
            "aaxis": {
             "endlinecolor": "#2a3f5f",
             "gridcolor": "white",
             "linecolor": "white",
             "minorgridcolor": "white",
             "startlinecolor": "#2a3f5f"
            },
            "baxis": {
             "endlinecolor": "#2a3f5f",
             "gridcolor": "white",
             "linecolor": "white",
             "minorgridcolor": "white",
             "startlinecolor": "#2a3f5f"
            },
            "type": "carpet"
           }
          ],
          "choropleth": [
           {
            "colorbar": {
             "outlinewidth": 0,
             "ticks": ""
            },
            "type": "choropleth"
           }
          ],
          "contour": [
           {
            "colorbar": {
             "outlinewidth": 0,
             "ticks": ""
            },
            "colorscale": [
             [
              0,
              "#0d0887"
             ],
             [
              0.1111111111111111,
              "#46039f"
             ],
             [
              0.2222222222222222,
              "#7201a8"
             ],
             [
              0.3333333333333333,
              "#9c179e"
             ],
             [
              0.4444444444444444,
              "#bd3786"
             ],
             [
              0.5555555555555556,
              "#d8576b"
             ],
             [
              0.6666666666666666,
              "#ed7953"
             ],
             [
              0.7777777777777778,
              "#fb9f3a"
             ],
             [
              0.8888888888888888,
              "#fdca26"
             ],
             [
              1,
              "#f0f921"
             ]
            ],
            "type": "contour"
           }
          ],
          "contourcarpet": [
           {
            "colorbar": {
             "outlinewidth": 0,
             "ticks": ""
            },
            "type": "contourcarpet"
           }
          ],
          "heatmap": [
           {
            "colorbar": {
             "outlinewidth": 0,
             "ticks": ""
            },
            "colorscale": [
             [
              0,
              "#0d0887"
             ],
             [
              0.1111111111111111,
              "#46039f"
             ],
             [
              0.2222222222222222,
              "#7201a8"
             ],
             [
              0.3333333333333333,
              "#9c179e"
             ],
             [
              0.4444444444444444,
              "#bd3786"
             ],
             [
              0.5555555555555556,
              "#d8576b"
             ],
             [
              0.6666666666666666,
              "#ed7953"
             ],
             [
              0.7777777777777778,
              "#fb9f3a"
             ],
             [
              0.8888888888888888,
              "#fdca26"
             ],
             [
              1,
              "#f0f921"
             ]
            ],
            "type": "heatmap"
           }
          ],
          "heatmapgl": [
           {
            "colorbar": {
             "outlinewidth": 0,
             "ticks": ""
            },
            "colorscale": [
             [
              0,
              "#0d0887"
             ],
             [
              0.1111111111111111,
              "#46039f"
             ],
             [
              0.2222222222222222,
              "#7201a8"
             ],
             [
              0.3333333333333333,
              "#9c179e"
             ],
             [
              0.4444444444444444,
              "#bd3786"
             ],
             [
              0.5555555555555556,
              "#d8576b"
             ],
             [
              0.6666666666666666,
              "#ed7953"
             ],
             [
              0.7777777777777778,
              "#fb9f3a"
             ],
             [
              0.8888888888888888,
              "#fdca26"
             ],
             [
              1,
              "#f0f921"
             ]
            ],
            "type": "heatmapgl"
           }
          ],
          "histogram": [
           {
            "marker": {
             "pattern": {
              "fillmode": "overlay",
              "size": 10,
              "solidity": 0.2
             }
            },
            "type": "histogram"
           }
          ],
          "histogram2d": [
           {
            "colorbar": {
             "outlinewidth": 0,
             "ticks": ""
            },
            "colorscale": [
             [
              0,
              "#0d0887"
             ],
             [
              0.1111111111111111,
              "#46039f"
             ],
             [
              0.2222222222222222,
              "#7201a8"
             ],
             [
              0.3333333333333333,
              "#9c179e"
             ],
             [
              0.4444444444444444,
              "#bd3786"
             ],
             [
              0.5555555555555556,
              "#d8576b"
             ],
             [
              0.6666666666666666,
              "#ed7953"
             ],
             [
              0.7777777777777778,
              "#fb9f3a"
             ],
             [
              0.8888888888888888,
              "#fdca26"
             ],
             [
              1,
              "#f0f921"
             ]
            ],
            "type": "histogram2d"
           }
          ],
          "histogram2dcontour": [
           {
            "colorbar": {
             "outlinewidth": 0,
             "ticks": ""
            },
            "colorscale": [
             [
              0,
              "#0d0887"
             ],
             [
              0.1111111111111111,
              "#46039f"
             ],
             [
              0.2222222222222222,
              "#7201a8"
             ],
             [
              0.3333333333333333,
              "#9c179e"
             ],
             [
              0.4444444444444444,
              "#bd3786"
             ],
             [
              0.5555555555555556,
              "#d8576b"
             ],
             [
              0.6666666666666666,
              "#ed7953"
             ],
             [
              0.7777777777777778,
              "#fb9f3a"
             ],
             [
              0.8888888888888888,
              "#fdca26"
             ],
             [
              1,
              "#f0f921"
             ]
            ],
            "type": "histogram2dcontour"
           }
          ],
          "mesh3d": [
           {
            "colorbar": {
             "outlinewidth": 0,
             "ticks": ""
            },
            "type": "mesh3d"
           }
          ],
          "parcoords": [
           {
            "line": {
             "colorbar": {
              "outlinewidth": 0,
              "ticks": ""
             }
            },
            "type": "parcoords"
           }
          ],
          "pie": [
           {
            "automargin": true,
            "type": "pie"
           }
          ],
          "scatter": [
           {
            "fillpattern": {
             "fillmode": "overlay",
             "size": 10,
             "solidity": 0.2
            },
            "type": "scatter"
           }
          ],
          "scatter3d": [
           {
            "line": {
             "colorbar": {
              "outlinewidth": 0,
              "ticks": ""
             }
            },
            "marker": {
             "colorbar": {
              "outlinewidth": 0,
              "ticks": ""
             }
            },
            "type": "scatter3d"
           }
          ],
          "scattercarpet": [
           {
            "marker": {
             "colorbar": {
              "outlinewidth": 0,
              "ticks": ""
             }
            },
            "type": "scattercarpet"
           }
          ],
          "scattergeo": [
           {
            "marker": {
             "colorbar": {
              "outlinewidth": 0,
              "ticks": ""
             }
            },
            "type": "scattergeo"
           }
          ],
          "scattergl": [
           {
            "marker": {
             "colorbar": {
              "outlinewidth": 0,
              "ticks": ""
             }
            },
            "type": "scattergl"
           }
          ],
          "scattermapbox": [
           {
            "marker": {
             "colorbar": {
              "outlinewidth": 0,
              "ticks": ""
             }
            },
            "type": "scattermapbox"
           }
          ],
          "scatterpolar": [
           {
            "marker": {
             "colorbar": {
              "outlinewidth": 0,
              "ticks": ""
             }
            },
            "type": "scatterpolar"
           }
          ],
          "scatterpolargl": [
           {
            "marker": {
             "colorbar": {
              "outlinewidth": 0,
              "ticks": ""
             }
            },
            "type": "scatterpolargl"
           }
          ],
          "scatterternary": [
           {
            "marker": {
             "colorbar": {
              "outlinewidth": 0,
              "ticks": ""
             }
            },
            "type": "scatterternary"
           }
          ],
          "surface": [
           {
            "colorbar": {
             "outlinewidth": 0,
             "ticks": ""
            },
            "colorscale": [
             [
              0,
              "#0d0887"
             ],
             [
              0.1111111111111111,
              "#46039f"
             ],
             [
              0.2222222222222222,
              "#7201a8"
             ],
             [
              0.3333333333333333,
              "#9c179e"
             ],
             [
              0.4444444444444444,
              "#bd3786"
             ],
             [
              0.5555555555555556,
              "#d8576b"
             ],
             [
              0.6666666666666666,
              "#ed7953"
             ],
             [
              0.7777777777777778,
              "#fb9f3a"
             ],
             [
              0.8888888888888888,
              "#fdca26"
             ],
             [
              1,
              "#f0f921"
             ]
            ],
            "type": "surface"
           }
          ],
          "table": [
           {
            "cells": {
             "fill": {
              "color": "#EBF0F8"
             },
             "line": {
              "color": "white"
             }
            },
            "header": {
             "fill": {
              "color": "#C8D4E3"
             },
             "line": {
              "color": "white"
             }
            },
            "type": "table"
           }
          ]
         },
         "layout": {
          "annotationdefaults": {
           "arrowcolor": "#2a3f5f",
           "arrowhead": 0,
           "arrowwidth": 1
          },
          "autotypenumbers": "strict",
          "coloraxis": {
           "colorbar": {
            "outlinewidth": 0,
            "ticks": ""
           }
          },
          "colorscale": {
           "diverging": [
            [
             0,
             "#8e0152"
            ],
            [
             0.1,
             "#c51b7d"
            ],
            [
             0.2,
             "#de77ae"
            ],
            [
             0.3,
             "#f1b6da"
            ],
            [
             0.4,
             "#fde0ef"
            ],
            [
             0.5,
             "#f7f7f7"
            ],
            [
             0.6,
             "#e6f5d0"
            ],
            [
             0.7,
             "#b8e186"
            ],
            [
             0.8,
             "#7fbc41"
            ],
            [
             0.9,
             "#4d9221"
            ],
            [
             1,
             "#276419"
            ]
           ],
           "sequential": [
            [
             0,
             "#0d0887"
            ],
            [
             0.1111111111111111,
             "#46039f"
            ],
            [
             0.2222222222222222,
             "#7201a8"
            ],
            [
             0.3333333333333333,
             "#9c179e"
            ],
            [
             0.4444444444444444,
             "#bd3786"
            ],
            [
             0.5555555555555556,
             "#d8576b"
            ],
            [
             0.6666666666666666,
             "#ed7953"
            ],
            [
             0.7777777777777778,
             "#fb9f3a"
            ],
            [
             0.8888888888888888,
             "#fdca26"
            ],
            [
             1,
             "#f0f921"
            ]
           ],
           "sequentialminus": [
            [
             0,
             "#0d0887"
            ],
            [
             0.1111111111111111,
             "#46039f"
            ],
            [
             0.2222222222222222,
             "#7201a8"
            ],
            [
             0.3333333333333333,
             "#9c179e"
            ],
            [
             0.4444444444444444,
             "#bd3786"
            ],
            [
             0.5555555555555556,
             "#d8576b"
            ],
            [
             0.6666666666666666,
             "#ed7953"
            ],
            [
             0.7777777777777778,
             "#fb9f3a"
            ],
            [
             0.8888888888888888,
             "#fdca26"
            ],
            [
             1,
             "#f0f921"
            ]
           ]
          },
          "colorway": [
           "#636efa",
           "#EF553B",
           "#00cc96",
           "#ab63fa",
           "#FFA15A",
           "#19d3f3",
           "#FF6692",
           "#B6E880",
           "#FF97FF",
           "#FECB52"
          ],
          "font": {
           "color": "#2a3f5f"
          },
          "geo": {
           "bgcolor": "white",
           "lakecolor": "white",
           "landcolor": "#E5ECF6",
           "showlakes": true,
           "showland": true,
           "subunitcolor": "white"
          },
          "hoverlabel": {
           "align": "left"
          },
          "hovermode": "closest",
          "mapbox": {
           "style": "light"
          },
          "paper_bgcolor": "white",
          "plot_bgcolor": "#E5ECF6",
          "polar": {
           "angularaxis": {
            "gridcolor": "white",
            "linecolor": "white",
            "ticks": ""
           },
           "bgcolor": "#E5ECF6",
           "radialaxis": {
            "gridcolor": "white",
            "linecolor": "white",
            "ticks": ""
           }
          },
          "scene": {
           "xaxis": {
            "backgroundcolor": "#E5ECF6",
            "gridcolor": "white",
            "gridwidth": 2,
            "linecolor": "white",
            "showbackground": true,
            "ticks": "",
            "zerolinecolor": "white"
           },
           "yaxis": {
            "backgroundcolor": "#E5ECF6",
            "gridcolor": "white",
            "gridwidth": 2,
            "linecolor": "white",
            "showbackground": true,
            "ticks": "",
            "zerolinecolor": "white"
           },
           "zaxis": {
            "backgroundcolor": "#E5ECF6",
            "gridcolor": "white",
            "gridwidth": 2,
            "linecolor": "white",
            "showbackground": true,
            "ticks": "",
            "zerolinecolor": "white"
           }
          },
          "shapedefaults": {
           "line": {
            "color": "#2a3f5f"
           }
          },
          "ternary": {
           "aaxis": {
            "gridcolor": "white",
            "linecolor": "white",
            "ticks": ""
           },
           "baxis": {
            "gridcolor": "white",
            "linecolor": "white",
            "ticks": ""
           },
           "bgcolor": "#E5ECF6",
           "caxis": {
            "gridcolor": "white",
            "linecolor": "white",
            "ticks": ""
           }
          },
          "title": {
           "x": 0.05
          },
          "xaxis": {
           "automargin": true,
           "gridcolor": "white",
           "linecolor": "white",
           "ticks": "",
           "title": {
            "standoff": 15
           },
           "zerolinecolor": "white",
           "zerolinewidth": 2
          },
          "yaxis": {
           "automargin": true,
           "gridcolor": "white",
           "linecolor": "white",
           "ticks": "",
           "title": {
            "standoff": 15
           },
           "zerolinecolor": "white",
           "zerolinewidth": 2
          }
         }
        },
        "title": {
         "text": "MatchSpectra: filter -> 1%I | match -> 5ppm & normalized"
        },
        "xaxis": {
         "dtick": 0.1,
         "range": [
          0,
          1
         ],
         "tickfont": {
          "size": 15
         },
         "title": {
          "text": "Reverse score"
         }
        },
        "yaxis": {
         "range": [
          0,
          140
         ],
         "tickfont": {
          "size": 15
         },
         "title": {
          "text": "Frequency"
         }
        }
       }
      },
      "text/html": [
       "<div>                            <div id=\"cc2289c8-46a9-4ee4-b81c-f7b4012c5d4b\" class=\"plotly-graph-div\" style=\"height:525px; width:100%;\"></div>            <script type=\"text/javascript\">                require([\"plotly\"], function(Plotly) {                    window.PLOTLYENV=window.PLOTLYENV || {};                                    if (document.getElementById(\"cc2289c8-46a9-4ee4-b81c-f7b4012c5d4b\")) {                    Plotly.newPlot(                        \"cc2289c8-46a9-4ee4-b81c-f7b4012c5d4b\",                        [{\"name\":\"All peaks (273)\",\"nbinsx\":10,\"x\":[0.175880761269498,0.321387617106809,0.282113775903856,0.268692332254443,0.339223661222828,0.491122708707988,0.188899425729047,0.277940937215481,0.460148693572527,0.518320315407443,0.138155925413858,0.170086969685882,0.324008746073657,0.505713331236347,0.0631366034860698,0.597545645227685,0.415208728341587,0.0697687832099882,0.0192661252638501,0.133485544663261,0.762613715361616,0.524179502276408,0.624466136788348,0.728816948815106,0.120473464453323,0.725475919970472,0.728963772446862,0.119005748507143,0.67782153387133,0.402824359009688,0.0862359525682247,0.154233848083348,0.0311074325988737,0.350300057914784,0.038163046600333,0.331592579926666,0.727664544260436,0.721591709736466,0.731377117895433,0.74408283536776,0.141619423899139,0.434666287280773,0.636191278532405,0.617725225527626,0.109620746005914,0.40256841025085,0.186724735218631,0.301414939351566,0.161712843461247,0.750564094042754,0.405571688975832,0.368588954243618,0.25116229693109,0.5857259357049,0.278617438519777,0.628347375806063,0.749307600103233,0.679425893019839,0.172348030334002,0.0103376614328287,0.110471292077771,0.476286688309431,0.739059476089044,0.211795997833018,0.123073191246695,0.324382435855344,0.186617683276013,0.697495513161279,0.808505780928252,0.306793959826278,0.429135907020878,0.534927320298456,0.0194660612454928,0.212734635571831,0.735667129541028,0.421192130788774,0.0338496592310506,0.749425794702634,0.259912667207004,0.692638998749819,0.40071943084063,0.661308204205262,0.426224369464128,0.126178852916742,0.0741022645712041,0.576786727045641,0.793185174394693,0.205604442348102,0.238450863818689,0.711600692014388,0.254179359700496,0.0157590257475532,0.0128561047151851,0.0275464428494271,0.375972589406,0.419926110433444,0.518915429455707,0.0206584642596709,0.831080717635952,0.668784570939965,0.388474063502563,0.681884610117516,0.214666646913028,0.752401622257409,0.766740640041351,0.113305428562581,0.534329433573366,0.466462565432905,0.509031814411584,0.339699209819184,0.50148980400487,0.0353930472128708,0.372609988596962,0.15733765026116,0.298374812463853,0.280073120982583,0.348591309295932,0.247081075024603,0.68944171471565,0.17296995122863,0.374886245243467,0.586811931896278,0.42352141762222,0.0187529509057228,0.0714068852504958,0.586438006335781,0.379858483802619,0.766896651945996,0.285300621959186,0.0650613519230541,0.415032516854768,0.0921630944085852,0.372707732184196,0.62675642033606,0.692262194915056,0.0409211067060219,0.551231209127545,0.663245850361734,0.599568032566439,0.406131075451408,0.0992920422844082,0.0908236747956039,0.407687867680852,0.338803225838703,0.596647097226635,0.114650230815821,0.49732130409964,0.570126801652427,0.200000980205964,0.280690374188727,0.186131068097268,0.584562943751249,0.090811417537215,0.0679473295775126,0.0426740989642583,0.0222170095958208,0.105638797722407,0.104055946772555,0.308838015567019,0.354528316617602,0.10802985917391,0.214714490328648,0.323299208970342,0.319538578211404,0.364731689527486,0.479734044152866,0.286722856759641,0.224980383048292,0.261308853386207,0.267094642831648,0.269858171475201,0.356430165080336,0.115397773752351,0.0712308334527008,0.130103476009845,0.275530105621901,0.27004262219655,0.181868592806763,0.316520356639652,0.275204236861758,0.116740981634896,0.0975860915810375,0.277589330652256,0.157975522076008,0.290369085094566,0.502640746933265,0.514019662693968,0.399048996852981,0.466732860587478,0.0436596907517574,0.183709942691183,0.22765382772588,0.729790319152683,0.390999923746804,0.482299768295213,0.325991749612604,0.306055982659358,0.590481884723704,0.481957601316873,0.0246290067508538,0.0215350563111245,0.0138460679139078,0.399893324956347,0.210023391021701,0.0141111450405429,0.193232484400144,0.0379247956008077,0.038132857600205,0.0972285228218665,0.226226094949555,0.132579793534009,0.223259068713906,0.119003450788418,0.0563323101666391,0.0308304378968488,0.0760596030568198,0.149817126516661,0.0414958027687628,0.188887221400059,0.0217467897514424,0.56752693649084,0.356839334387365,0.216178627737538,0.0955857156173725,0.220472384834047,0.0529024957991516,0.71320413491919,0.384377240377744,0.116712941988469,0.0881696090207212,0.0986681126658468,0.0069663808750307,0.458600278782636,0.546464715809676,0.370208359207701,0.40346805447046,0.428088028461644,0.416869051377547,0.0421210561932625,0.57222038688476,0.343878625394405,0.423693805583716,0.0211159241537921,0.198304585068636,0.676830668963407,0.683727719480712,0.0565846622863882,0.0346207119510579,0.0480807365391956,0.222152825625327,0.0131937426733824,0.432132597789376,0.592783098083104,0.269730074959498,0.334579768033309,0.6226533281304,0.0747227337772308,0.264070810379241,0.581828706137543,0.0085300617690258,0.544569174636627,0.476876326706734,0.328716543453114,0.118048211459894,0.39046206341713,0.39698088346418,0.503414193767459,0.51634320710499,0.400238437570253,0.0068337480025101,0.0050057562388156,0.0301276366152278,0.107630465431331],\"xbins\":{\"end\":1,\"start\":0},\"type\":\"histogram\"},{\"name\":\"Top 3 peaks (213)\",\"nbinsx\":10,\"x\":[0.326825237457499,0.0795338597395544,0.10186317999239,0.0076762988386593,0.333654855347875,0.0152415422604625,0.0427757273829862,0.204471158394578,0.0795466348078505,0.0458608413824598,0.440200255305761,0.257718357341456,0.0118285769851824,0.0913476455222962,0.399739996308636,0.491578660982816,0.0068824906693399,0.621552883454563,0.398511903584579,0.332771035041225,0.227747188835519,0.00429878152165,0.277893580786571,0.0411315530368355,0.621313879052017,0.297215197296914,0.27425272704877,0.39663070307781,0.176207024991514,0.135857671945802,0.0144555100285543,0.0366774626233281,0.380549774193076,0.252283021076601,0.162858381049056,0.568664281204127,0.0610365089648734,0.225782470599442,0.276620257734531,0.230921236715728,0.148360735265721,0.0103376614328287,0.215239786313596,0.277760330635432,0.110041334761336,0.105285413645514,0.0154275869312517,0.170227602911965,0.222600538374743,0.419070889998638,0.153727323706866,0.313293798752896,0.110916473665765,0.321985838755167,0.254000375452073,0.297725262768602,0.100400467989864,0.475595361090613,0.179095428442881,0.189971971828903,0.0431304772971661,0.296016881606242,0.669362602717693,0.0334872457880994,0.265655540433131,0.179342066569164,0.0100172308664201,0.0108659512035293,0.107779773733526,0.257200293647848,0.0729166568391261,0.551872227847771,0.272599485491395,0.0032619870788809,0.0415496905168696,0.23354300782779,0.421031770836459,0.251261738762021,0.287708999833681,0.374962401664072,0.165137436094444,0.13086549858769,0.0024650985882554,0.005132717964995,0.0622200651838051,0.0453315338877905,0.0446669741224486,0.0575765497704939,0.1057807931481,0.193882460676344,0.0069435628937095,0.0027731650501326,0.305713759340225,0.0563608904601069,0.275798588047909,0.113458343223356,0.476581741611242,0.152065770897738,0.0134932787360214,0.0345283513165492,0.143828873509846,0.62675642033606,0.361559614408479,0.0409211067060219,0.0931947562572901,0.484423182833471,0.687170673206431,0.262202829446205,0.0307149601340746,0.028016365994915,0.093398378968893,0.481102932434084,0.0125100629763276,0.317705916368825,0.501607802772848,0.201071450398731,0.0148195310928857,0.437003435537959,0.0041241351278577,0.0024080364422466,0.0025226527485109,0.0589854690678666,0.0841538730055559,0.245599466962568,0.0029705936035888,0.0284026604999708,0.0231493639707484,0.144805833899722,0.221190132551593,0.273230886512328,0.0968097844976739,0.0112201723006082,0.224980383048292,0.16266136801645,0.0701958184183089,0.0936834152994462,0.0950311840337438,0.0118254675583929,0.0401628738613299,0.0655116755586484,0.0722673435680563,0.0411347878583883,0.0326669087260175,0.0350725020148432,0.0352022605172933,0.0865970507622262,0.0672321401113264,0.0612342762863103,0.361575027621649,0.317136260800573,0.298580028089068,0.153192172719658,0.0108338029765409,0.142297696341113,0.0869573803891138,0.593163450598013,0.229292594858696,0.335155467263058,0.240164348801019,0.0106249810969087,0.369366023629674,0.208948939120663,0.0154026736204125,0.157435026502332,0.0141111450405429,0.0224410526618755,0.0016055575994032,0.132279158043839,0.0083718839635916,0.137145978510623,0.0514768106696083,0.0283448903725322,0.0324943182181484,0.101213707851777,0.534625123381531,0.197922613971406,0.082506985361504,0.0884828109562657,0.122285766586157,0.549215762709661,0.215636165758713,0.346136719978574,0.250124834444247,0.266849513955819,0.274818986211873,0.28054114590149,0.0282446591184662,0.09556376385387,0.0694170934794756,0.0525520035535052,0.0291471961455192,0.471011515980097,0.333224434142918,0.0029024824127665,0.0046475650339672,0.0055024181988952,0.104559757747669,0.0473277021967883,0.224658877298392,0.0295464787614518,0.0246614404479807,0.248405233298513,0.0539098990195393,0.364790433882766,0.0046760395900459,0.28076550973969,0.143607903661748,0.006889960043543,0.175072447744746,0.228453476953365,0.365210341017778,0.323748201910478,0.142352758779436],\"xbins\":{\"end\":1,\"start\":0},\"type\":\"histogram\"},{\"name\":\"Top 5 peaks (236)\",\"nbinsx\":10,\"x\":[0.0491877084868524,0.326825237457499,0.127867169114783,0.10186317999239,0.0076762988386593,0.391120887488184,0.0186534862213091,0.0915150757287453,0.213026288925008,0.260326247263029,0.0608760122425285,0.425355476904794,0.31553375835743,0.0118285769851824,0.0913476455222962,0.372918718248176,0.108637689683509,0.177263672377826,0.475625439432458,0.0182015416927514,0.621552883454563,0.411053691919116,0.0608864636207,0.332771035041225,0.24599233172282,0.0909613967523526,0.00429878152165,0.0311074325988737,0.297521064107619,0.212725037435562,0.621313879052017,0.338448133381367,0.386187613363933,0.416234069992909,0.189496082882533,0.0862207767958263,0.0685753872617916,0.135857671945802,0.0301524796982434,0.098327475662711,0.0461417693156192,0.445524223963095,0.252283021076601,0.139580219032363,0.162858381049056,0.564732568107141,0.0749297729659512,0.473636066414445,0.355650763389265,0.230921236715728,0.152225781771009,0.0103376614328287,0.255540853903279,0.3454285878063,0.123058894380672,0.105285413645514,0.024436980702607,0.186617683276013,0.254531009793184,0.419070889998638,0.0158985130309031,0.184941582495687,0.322167554940337,0.110916473665765,0.364621642764534,0.30781474380418,0.342453765504495,0.0927173536701049,0.604233572333416,0.179095428442881,0.261628502305333,0.112920016110859,0.0418773248736082,0.390504532275448,0.669362602717693,0.0650035005128077,0.330685356253773,0.203216767892819,0.0100172308664201,0.0108659512035293,0.206338845983836,0.411157810739211,0.21700390010533,0.0206584642596709,0.574924849224026,0.313486510115716,0.175491737985766,0.348676077402911,0.0415496905168696,0.328306976152904,0.458912104334941,0.179011992407659,0.193988514307215,0.374962401664072,0.208504732574689,0.21393611416348,0.0024650985882554,0.060157619649539,0.076969190154255,0.0817473905989875,0.078475002544721,0.0696807125316509,0.236741675587884,0.292222779878579,0.0069435628937095,0.0027731650501326,0.414161306564456,0.0087101152383862,0.0563608904601069,0.413828109889027,0.220677304911148,0.570804752571838,0.195388437028458,0.0155566220836649,0.393329502312623,0.0465164707093866,0.149873135461577,0.62675642033606,0.402094288732722,0.0409211067060219,0.275089955925377,0.502868094130876,0.687170673206431,0.262202829446205,0.0307149601340746,0.0316057494193645,0.138398625318908,0.488569188295899,0.102799090463187,0.384559818556512,0.45573593928085,0.201071450398731,0.0437090725891356,0.484034196213882,0.0114103376219277,0.0107723158137929,0.0025226527485109,0.0589854690678666,0.0841538730055559,0.245599466962568,0.0029705936035888,0.0469760455920165,0.0231493639707484,0.140969979504996,0.218898503975472,0.254144450344462,0.0968097844976739,0.0112201723006082,0.224980383048292,0.170235339301515,0.16266136801645,0.069985489895605,0.0936834152994462,0.0950311840337438,0.0139863451907127,0.0528259656348944,0.11110740021911,0.116855765204881,0.0639820273307335,0.034570499121085,0.0383969539448733,0.0352022605172933,0.0820096045455235,0.100631161609668,0.0443885706466641,0.099359648693239,0.361575027621649,0.317136260800573,0.298580028089068,0.314371459769994,0.0108338029765409,0.142297696341113,0.109163279084477,0.593163450598013,0.229292594858696,0.335155467263058,0.240164348801019,0.270833735282796,0.369366023629674,0.291933904499048,0.0154026736204125,0.151942513141161,0.0141111450405429,0.0056772041682565,0.0224410526618755,0.0166080115272623,0.126449784055596,0.0083718839635916,0.137145978510623,0.0514768106696083,0.0283448903725322,0.0063221776688946,0.0876993379174612,0.14670437728028,0.506837147186119,0.201102641767462,0.157374558734791,0.0884828109562657,0.122285766586157,0.549215762709661,0.245213137779854,0.006323103009331,0.219460590726117,0.448892172916765,0.323555358598391,0.322257607930235,0.274818986211873,0.290804396083767,0.0282446591184662,0.221157220686925,0.0694170934794756,0.0750806596672012,0.122994773262864,0.471011515980097,0.348946269976437,0.0029024824127665,0.0197707571598468,0.0212198230427727,0.104559757747669,0.0606031537255412,0.273437066116631,0.0338596726262322,0.0246614404479807,0.248405233298513,0.0146965104834275,0.0871275994660422,0.369897825301988,0.0046760395900459,0.33855967676472,0.267112635719433,0.006889960043543,0.288965722152857,0.314417484421991,0.365210341017778,0.340636305641812,0.279798174967077],\"xbins\":{\"end\":1,\"start\":0},\"type\":\"histogram\"},{\"name\":\"Top 10 peaks (253)\",\"nbinsx\":10,\"x\":[0.0796647522742383,0.0562523884091108,0.3812892959854,0.14931543240248,0.10186317999239,0.298020867396724,0.397638583302715,0.0550403065656336,0.0915150757287453,0.26931963720879,0.260326247263029,0.0608760122425285,0.508737767591771,0.384016710463546,0.0118285769851824,0.107426197479155,0.561828055510294,0.176150504939243,0.231321824826592,0.52181441792597,0.0182015416927514,0.621552883454563,0.527504050498031,0.111261212176644,0.332771035041225,0.233310887678198,0.0909613967523526,0.0710277674654164,0.0311074325988737,0.301014030904917,0.212725037435562,0.673304157485701,0.478489779953466,0.560632810474933,0.530970914860208,0.132621483945402,0.264347523061581,0.180890568696234,0.149647565211935,0.0386398820041336,0.172833391407618,0.0348011019856656,0.148184343325266,0.0461417693156192,0.578790366682908,0.316581819444085,0.170219067721028,0.187198450656773,0.578320128512338,0.105794746516793,0.487163648557713,0.519181095871316,0.376634002058248,0.172348030334002,0.0103376614328287,0.325626710703848,0.544341513221196,0.157946440164003,0.123073191246695,0.0400243938319621,0.186617683276013,0.384450885801341,0.62128460280771,0.0648920622238907,0.350741696928382,0.359919280664296,0.195659910443361,0.540852205622334,0.30587079639851,0.477794472348066,0.12381817586853,0.59769212665695,0.311649693884898,0.440268036166085,0.185664159347062,0.138175526523888,0.0755641533698232,0.399030852443011,0.669362602717693,0.10156798462975,0.0911733430072681,0.498695958787318,0.212506568879106,0.0100172308664201,0.0108659512035293,0.269267047205337,0.403748248404729,0.230267329529097,0.0206584642596709,0.57912152176288,0.387043015601183,0.324293413451623,0.571974518709417,0.0605069548123801,0.541548637282832,0.598873826475594,0.4099192831992,0.4108870305664,0.374962401664072,0.243040884912203,0.21393611416348,0.0330620153520677,0.130558199217431,0.0862055717347389,0.107372180750421,0.107532052321258,0.122141334854938,0.247081075024603,0.349026248942621,0.0119181546346856,0.0157485387312169,0.435645149292814,0.167012967367557,0.0187529509057228,0.0714068852504958,0.469024380122234,0.247623902077482,0.571701063770399,0.204410250721297,0.0155566220836649,0.262941174976278,0.0465164707093866,0.285304442673619,0.62675642033606,0.459362111206254,0.0409211067060219,0.391165941706275,0.535510078865254,0.542012095319991,0.30735622395691,0.0362258007203229,0.0316057494193645,0.1523470850586,0.548634139620785,0.102799090463187,0.404987261111113,0.528159365928593,0.128488003014205,0.264091357023288,0.166669127877837,0.484034196213882,0.0195377190372525,0.0211083921974886,0.0107723158137929,0.0025226527485109,0.0682770786560723,0.0950549837099627,0.305690377749225,0.0348375159767781,0.0672185343966395,0.127257482665104,0.264807296640794,0.270526861966222,0.304181974971572,0.455593003346387,0.0150584162974621,0.224980383048292,0.170235339301515,0.166725754058763,0.0764685802317849,0.101568911387947,0.0950311840337438,0.026311905190151,0.0798104683589343,0.178056756698706,0.190084523222112,0.104442626653702,0.126589564328438,0.153423972564307,0.0558375633814766,0.0850279871008082,0.173564472691512,0.0771945057720859,0.170030079754313,0.434003069013113,0.38217102070373,0.298632558627935,0.314371459769994,0.0302785615538078,0.142297696341113,0.118262280378056,0.593163450598013,0.276103134433721,0.348327003866111,0.240164348801019,0.277148811799225,0.53792908952138,0.357940446302524,0.0154026736204125,0.0187965671364013,0.0138460679139078,0.0775820943661648,0.187642143275408,0.0141111450405429,0.11051344772306,0.0224410526618755,0.0166080115272623,0.180689816334412,0.0433621539682856,0.2019179897109,0.11114538461315,0.0514768106696083,0.0283448903725322,0.0711325699718224,0.0876993379174612,0.168889053343037,0.51443826717687,0.201102641767462,0.171204015287662,0.0884828109562657,0.152079748333563,0.549215762709661,0.256281916453588,0.0210334158861389,0.0986681126658468,0.006323103009331,0.289133403993252,0.499091627502628,0.331451014140572,0.366376063353276,0.318137413017193,0.329281596141509,0.0314045572228879,0.222774257718422,0.0759975554308357,0.0926846625130377,0.14863891551943,0.471011515980097,0.36604942420137,0.0029024824127665,0.0197707571598468,0.0212198230427727,0.104559757747669,0.0028226919957593,0.124996764092586,0.300652776744691,0.0533630877540858,0.042190236853958,0.288859635891821,0.0146965104834275,0.219024618500483,0.370594641431027,0.0046760395900459,0.482375117217008,0.374257956482503,0.267112635719433,0.0113356453489864,0.288965722152857,0.33820181299094,0.43221812152593,0.374426736461325,0.305462011715435,0.0028676020740966],\"xbins\":{\"end\":1,\"start\":0},\"type\":\"histogram\"},{\"name\":\"Top 20 peaks (260)\",\"nbinsx\":10,\"x\":[0.109788669035941,0.103024662259649,0.0402874249720275,0.0522732946326571,0.400443568158447,0.167028558110118,0.10186317999239,0.298020867396724,0.47342123212774,0.073720665648224,0.0915150757287453,0.289119467883147,0.345902359567076,0.0631366034860698,0.601656384241721,0.389590865158082,0.0118285769851824,0.107426197479155,0.657510129206091,0.396468514143626,0.495156791537144,0.613705739622695,0.075650895281913,0.708143785175866,0.623783307312616,0.119005748507143,0.414395719607994,0.312343021893747,0.0862359525682247,0.0799270571961821,0.0311074325988737,0.31654611428068,0.0121110240111344,0.228394066522923,0.704087687367284,0.565814987452925,0.618743738496656,0.649120617972205,0.132621483945402,0.318870142553897,0.401299518971354,0.361643262066688,0.0427492065429305,0.203618080622817,0.0869794694781478,0.301414939351566,0.0645837307583478,0.620988818334802,0.360635307126082,0.250129268943401,0.230908886110408,0.579601545373979,0.10999473742903,0.577057366608922,0.59954518238101,0.376634002058248,0.172348030334002,0.0103376614328287,0.415882179258899,0.574349428085409,0.198784458672969,0.123073191246695,0.0489042307267218,0.186617683276013,0.483008365387061,0.661970227550357,0.282708651314787,0.381321881403645,0.421258054557938,0.0194660612454928,0.212734635571831,0.657641728532835,0.301350626914379,0.591461617369312,0.176112787807477,0.637913666176161,0.333198842954048,0.545181521223433,0.317437998275393,0.126178852916742,0.0809838710094001,0.45505812770131,0.793185174394693,0.167295848147811,0.193230640264126,0.586682803557488,0.212506568879106,0.0100172308664201,0.0197754401241937,0.294284469267996,0.403748248404729,0.405225113972416,0.0206584642596709,0.77444526370745,0.483318659327864,0.329048001346618,0.582136670696608,0.0971450379034276,0.579460764317053,0.664870906571308,0.479880863588807,0.421363458699344,0.472588141293099,0.279027123621606,0.266164255759864,0.0353930472128708,0.172316461395541,0.0902051337465525,0.261453957145387,0.23415288134396,0.190193993875491,0.247081075024603,0.52064175130484,0.0192211300873725,0.239828125896335,0.453791261405742,0.230656335830814,0.0187529509057228,0.0714068852504958,0.543649930200143,0.312112591074982,0.615405181501063,0.234920175286425,0.0290164944861568,0.262941174976278,0.0795902257108595,0.305123107829511,0.62675642033606,0.555393029423873,0.0409211067060219,0.419879330734098,0.561067587638357,0.542012095319991,0.320300814633278,0.0482653238555973,0.0423828404236516,0.225366461038802,0.0276743863005608,0.58560095054044,0.114650230815821,0.404987261111113,0.547317039677455,0.175263910053014,0.280690374188727,0.166669127877837,0.511888508275116,0.0372507090441167,0.0421154235554993,0.0161197141205518,0.0093177916446197,0.074830072107289,0.10204663452869,0.310865023568922,0.167296439893904,0.0954194652962619,0.127257482665104,0.279046359066742,0.282631575065311,0.340483892612054,0.4274675737274,0.115958998284405,0.224980383048292,0.215737559956231,0.190070781519217,0.149555637507675,0.210980843665538,0.0950311840337438,0.0312694306760066,0.0974127445196995,0.186526248931576,0.197774371065101,0.12266134007351,0.163459572696803,0.186546537278466,0.0963714412514768,0.0850279871008082,0.173564472691512,0.131433069972023,0.176712051427427,0.449337834768189,0.43420118644245,0.298632558627935,0.359442336005521,0.0302785615538078,0.162811857358894,0.140635494275279,0.663105699240752,0.346233033755091,0.358820373722274,0.240164348801019,0.306055982659358,0.559962316377218,0.417439472271658,0.0246290067508538,0.0215350563111245,0.0138460679139078,0.124667608414942,0.210023391021701,0.0141111450405429,0.193232484400144,0.0379247956008077,0.038132857600205,0.0694331566873705,0.190199389029363,0.049564445790727,0.2019179897109,0.11114538461315,0.0514768106696083,0.0283448903725322,0.0760596030568198,0.123583896276343,0.188887221400059,0.559925046008114,0.207569805641479,0.20457293815511,0.0884828109562657,0.201437845327118,0.601150963619184,0.343005490091999,0.0261303272800876,0.0986681126658468,0.006323103009331,0.357786569595906,0.522036254292808,0.334756752596586,0.386238375241938,0.355325898721219,0.376530016682199,0.0396961111615742,0.295055760093687,0.0987200801061491,0.105896694067315,0.14863891551943,0.459233637774116,0.480322290555303,0.0075620538367399,0.0346207119510579,0.0269415267397959,0.119889343556764,0.0131937426733824,0.167001359556289,0.337058033242722,0.0698302095292496,0.0931245911911043,0.358874863675779,0.030299120540794,0.264070810379241,0.375487932827558,0.0056289533462861,0.482375117217008,0.476876326706734,0.324421251026844,0.0750910078765404,0.331091239361357,0.39698088346418,0.461409918366421,0.44166000670012,0.317929782340385,0.0047008219712842,0.0028676020740966],\"xbins\":{\"end\":1,\"start\":0},\"type\":\"histogram\"}],                        {\"font\":{\"size\":17},\"legend\":{\"x\":0.81,\"y\":1.0},\"title\":{\"text\":\"MatchSpectra: filter -> 1%I | match -> 5ppm & normalized\"},\"xaxis\":{\"dtick\":0.1,\"range\":[0,1],\"tickfont\":{\"size\":15},\"title\":{\"text\":\"Reverse score\"}},\"yaxis\":{\"range\":[0,140],\"tickfont\":{\"size\":15},\"title\":{\"text\":\"Frequency\"}},\"template\":{\"data\":{\"histogram2dcontour\":[{\"type\":\"histogram2dcontour\",\"colorbar\":{\"outlinewidth\":0,\"ticks\":\"\"},\"colorscale\":[[0.0,\"#0d0887\"],[0.1111111111111111,\"#46039f\"],[0.2222222222222222,\"#7201a8\"],[0.3333333333333333,\"#9c179e\"],[0.4444444444444444,\"#bd3786\"],[0.5555555555555556,\"#d8576b\"],[0.6666666666666666,\"#ed7953\"],[0.7777777777777778,\"#fb9f3a\"],[0.8888888888888888,\"#fdca26\"],[1.0,\"#f0f921\"]]}],\"choropleth\":[{\"type\":\"choropleth\",\"colorbar\":{\"outlinewidth\":0,\"ticks\":\"\"}}],\"histogram2d\":[{\"type\":\"histogram2d\",\"colorbar\":{\"outlinewidth\":0,\"ticks\":\"\"},\"colorscale\":[[0.0,\"#0d0887\"],[0.1111111111111111,\"#46039f\"],[0.2222222222222222,\"#7201a8\"],[0.3333333333333333,\"#9c179e\"],[0.4444444444444444,\"#bd3786\"],[0.5555555555555556,\"#d8576b\"],[0.6666666666666666,\"#ed7953\"],[0.7777777777777778,\"#fb9f3a\"],[0.8888888888888888,\"#fdca26\"],[1.0,\"#f0f921\"]]}],\"heatmap\":[{\"type\":\"heatmap\",\"colorbar\":{\"outlinewidth\":0,\"ticks\":\"\"},\"colorscale\":[[0.0,\"#0d0887\"],[0.1111111111111111,\"#46039f\"],[0.2222222222222222,\"#7201a8\"],[0.3333333333333333,\"#9c179e\"],[0.4444444444444444,\"#bd3786\"],[0.5555555555555556,\"#d8576b\"],[0.6666666666666666,\"#ed7953\"],[0.7777777777777778,\"#fb9f3a\"],[0.8888888888888888,\"#fdca26\"],[1.0,\"#f0f921\"]]}],\"heatmapgl\":[{\"type\":\"heatmapgl\",\"colorbar\":{\"outlinewidth\":0,\"ticks\":\"\"},\"colorscale\":[[0.0,\"#0d0887\"],[0.1111111111111111,\"#46039f\"],[0.2222222222222222,\"#7201a8\"],[0.3333333333333333,\"#9c179e\"],[0.4444444444444444,\"#bd3786\"],[0.5555555555555556,\"#d8576b\"],[0.6666666666666666,\"#ed7953\"],[0.7777777777777778,\"#fb9f3a\"],[0.8888888888888888,\"#fdca26\"],[1.0,\"#f0f921\"]]}],\"contourcarpet\":[{\"type\":\"contourcarpet\",\"colorbar\":{\"outlinewidth\":0,\"ticks\":\"\"}}],\"contour\":[{\"type\":\"contour\",\"colorbar\":{\"outlinewidth\":0,\"ticks\":\"\"},\"colorscale\":[[0.0,\"#0d0887\"],[0.1111111111111111,\"#46039f\"],[0.2222222222222222,\"#7201a8\"],[0.3333333333333333,\"#9c179e\"],[0.4444444444444444,\"#bd3786\"],[0.5555555555555556,\"#d8576b\"],[0.6666666666666666,\"#ed7953\"],[0.7777777777777778,\"#fb9f3a\"],[0.8888888888888888,\"#fdca26\"],[1.0,\"#f0f921\"]]}],\"surface\":[{\"type\":\"surface\",\"colorbar\":{\"outlinewidth\":0,\"ticks\":\"\"},\"colorscale\":[[0.0,\"#0d0887\"],[0.1111111111111111,\"#46039f\"],[0.2222222222222222,\"#7201a8\"],[0.3333333333333333,\"#9c179e\"],[0.4444444444444444,\"#bd3786\"],[0.5555555555555556,\"#d8576b\"],[0.6666666666666666,\"#ed7953\"],[0.7777777777777778,\"#fb9f3a\"],[0.8888888888888888,\"#fdca26\"],[1.0,\"#f0f921\"]]}],\"mesh3d\":[{\"type\":\"mesh3d\",\"colorbar\":{\"outlinewidth\":0,\"ticks\":\"\"}}],\"scatter\":[{\"fillpattern\":{\"fillmode\":\"overlay\",\"size\":10,\"solidity\":0.2},\"type\":\"scatter\"}],\"parcoords\":[{\"type\":\"parcoords\",\"line\":{\"colorbar\":{\"outlinewidth\":0,\"ticks\":\"\"}}}],\"scatterpolargl\":[{\"type\":\"scatterpolargl\",\"marker\":{\"colorbar\":{\"outlinewidth\":0,\"ticks\":\"\"}}}],\"bar\":[{\"error_x\":{\"color\":\"#2a3f5f\"},\"error_y\":{\"color\":\"#2a3f5f\"},\"marker\":{\"line\":{\"color\":\"#E5ECF6\",\"width\":0.5},\"pattern\":{\"fillmode\":\"overlay\",\"size\":10,\"solidity\":0.2}},\"type\":\"bar\"}],\"scattergeo\":[{\"type\":\"scattergeo\",\"marker\":{\"colorbar\":{\"outlinewidth\":0,\"ticks\":\"\"}}}],\"scatterpolar\":[{\"type\":\"scatterpolar\",\"marker\":{\"colorbar\":{\"outlinewidth\":0,\"ticks\":\"\"}}}],\"histogram\":[{\"marker\":{\"pattern\":{\"fillmode\":\"overlay\",\"size\":10,\"solidity\":0.2}},\"type\":\"histogram\"}],\"scattergl\":[{\"type\":\"scattergl\",\"marker\":{\"colorbar\":{\"outlinewidth\":0,\"ticks\":\"\"}}}],\"scatter3d\":[{\"type\":\"scatter3d\",\"line\":{\"colorbar\":{\"outlinewidth\":0,\"ticks\":\"\"}},\"marker\":{\"colorbar\":{\"outlinewidth\":0,\"ticks\":\"\"}}}],\"scattermapbox\":[{\"type\":\"scattermapbox\",\"marker\":{\"colorbar\":{\"outlinewidth\":0,\"ticks\":\"\"}}}],\"scatterternary\":[{\"type\":\"scatterternary\",\"marker\":{\"colorbar\":{\"outlinewidth\":0,\"ticks\":\"\"}}}],\"scattercarpet\":[{\"type\":\"scattercarpet\",\"marker\":{\"colorbar\":{\"outlinewidth\":0,\"ticks\":\"\"}}}],\"carpet\":[{\"aaxis\":{\"endlinecolor\":\"#2a3f5f\",\"gridcolor\":\"white\",\"linecolor\":\"white\",\"minorgridcolor\":\"white\",\"startlinecolor\":\"#2a3f5f\"},\"baxis\":{\"endlinecolor\":\"#2a3f5f\",\"gridcolor\":\"white\",\"linecolor\":\"white\",\"minorgridcolor\":\"white\",\"startlinecolor\":\"#2a3f5f\"},\"type\":\"carpet\"}],\"table\":[{\"cells\":{\"fill\":{\"color\":\"#EBF0F8\"},\"line\":{\"color\":\"white\"}},\"header\":{\"fill\":{\"color\":\"#C8D4E3\"},\"line\":{\"color\":\"white\"}},\"type\":\"table\"}],\"barpolar\":[{\"marker\":{\"line\":{\"color\":\"#E5ECF6\",\"width\":0.5},\"pattern\":{\"fillmode\":\"overlay\",\"size\":10,\"solidity\":0.2}},\"type\":\"barpolar\"}],\"pie\":[{\"automargin\":true,\"type\":\"pie\"}]},\"layout\":{\"autotypenumbers\":\"strict\",\"colorway\":[\"#636efa\",\"#EF553B\",\"#00cc96\",\"#ab63fa\",\"#FFA15A\",\"#19d3f3\",\"#FF6692\",\"#B6E880\",\"#FF97FF\",\"#FECB52\"],\"font\":{\"color\":\"#2a3f5f\"},\"hovermode\":\"closest\",\"hoverlabel\":{\"align\":\"left\"},\"paper_bgcolor\":\"white\",\"plot_bgcolor\":\"#E5ECF6\",\"polar\":{\"bgcolor\":\"#E5ECF6\",\"angularaxis\":{\"gridcolor\":\"white\",\"linecolor\":\"white\",\"ticks\":\"\"},\"radialaxis\":{\"gridcolor\":\"white\",\"linecolor\":\"white\",\"ticks\":\"\"}},\"ternary\":{\"bgcolor\":\"#E5ECF6\",\"aaxis\":{\"gridcolor\":\"white\",\"linecolor\":\"white\",\"ticks\":\"\"},\"baxis\":{\"gridcolor\":\"white\",\"linecolor\":\"white\",\"ticks\":\"\"},\"caxis\":{\"gridcolor\":\"white\",\"linecolor\":\"white\",\"ticks\":\"\"}},\"coloraxis\":{\"colorbar\":{\"outlinewidth\":0,\"ticks\":\"\"}},\"colorscale\":{\"sequential\":[[0.0,\"#0d0887\"],[0.1111111111111111,\"#46039f\"],[0.2222222222222222,\"#7201a8\"],[0.3333333333333333,\"#9c179e\"],[0.4444444444444444,\"#bd3786\"],[0.5555555555555556,\"#d8576b\"],[0.6666666666666666,\"#ed7953\"],[0.7777777777777778,\"#fb9f3a\"],[0.8888888888888888,\"#fdca26\"],[1.0,\"#f0f921\"]],\"sequentialminus\":[[0.0,\"#0d0887\"],[0.1111111111111111,\"#46039f\"],[0.2222222222222222,\"#7201a8\"],[0.3333333333333333,\"#9c179e\"],[0.4444444444444444,\"#bd3786\"],[0.5555555555555556,\"#d8576b\"],[0.6666666666666666,\"#ed7953\"],[0.7777777777777778,\"#fb9f3a\"],[0.8888888888888888,\"#fdca26\"],[1.0,\"#f0f921\"]],\"diverging\":[[0,\"#8e0152\"],[0.1,\"#c51b7d\"],[0.2,\"#de77ae\"],[0.3,\"#f1b6da\"],[0.4,\"#fde0ef\"],[0.5,\"#f7f7f7\"],[0.6,\"#e6f5d0\"],[0.7,\"#b8e186\"],[0.8,\"#7fbc41\"],[0.9,\"#4d9221\"],[1,\"#276419\"]]},\"xaxis\":{\"gridcolor\":\"white\",\"linecolor\":\"white\",\"ticks\":\"\",\"title\":{\"standoff\":15},\"zerolinecolor\":\"white\",\"automargin\":true,\"zerolinewidth\":2},\"yaxis\":{\"gridcolor\":\"white\",\"linecolor\":\"white\",\"ticks\":\"\",\"title\":{\"standoff\":15},\"zerolinecolor\":\"white\",\"automargin\":true,\"zerolinewidth\":2},\"scene\":{\"xaxis\":{\"backgroundcolor\":\"#E5ECF6\",\"gridcolor\":\"white\",\"linecolor\":\"white\",\"showbackground\":true,\"ticks\":\"\",\"zerolinecolor\":\"white\",\"gridwidth\":2},\"yaxis\":{\"backgroundcolor\":\"#E5ECF6\",\"gridcolor\":\"white\",\"linecolor\":\"white\",\"showbackground\":true,\"ticks\":\"\",\"zerolinecolor\":\"white\",\"gridwidth\":2},\"zaxis\":{\"backgroundcolor\":\"#E5ECF6\",\"gridcolor\":\"white\",\"linecolor\":\"white\",\"showbackground\":true,\"ticks\":\"\",\"zerolinecolor\":\"white\",\"gridwidth\":2}},\"shapedefaults\":{\"line\":{\"color\":\"#2a3f5f\"}},\"annotationdefaults\":{\"arrowcolor\":\"#2a3f5f\",\"arrowhead\":0,\"arrowwidth\":1},\"geo\":{\"bgcolor\":\"white\",\"landcolor\":\"#E5ECF6\",\"subunitcolor\":\"white\",\"showland\":true,\"showlakes\":true,\"lakecolor\":\"white\"},\"title\":{\"x\":0.05},\"mapbox\":{\"style\":\"light\"}}}},                        {\"responsive\": true}                    ).then(function(){\n",
       "                            \n",
       "var gd = document.getElementById('cc2289c8-46a9-4ee4-b81c-f7b4012c5d4b');\n",
       "var x = new MutationObserver(function (mutations, observer) {{\n",
       "        var display = window.getComputedStyle(gd).display;\n",
       "        if (!display || display === 'none') {{\n",
       "            console.log([gd, 'removed!']);\n",
       "            Plotly.purge(gd);\n",
       "            observer.disconnect();\n",
       "        }}\n",
       "}});\n",
       "\n",
       "// Listen for the removal of the full notebook cells\n",
       "var notebookContainer = gd.closest('#notebook-container');\n",
       "if (notebookContainer) {{\n",
       "    x.observe(notebookContainer, {childList: true});\n",
       "}}\n",
       "\n",
       "// Listen for the clearing of the current output cell\n",
       "var outputEl = gd.closest('.output');\n",
       "if (outputEl) {{\n",
       "    x.observe(outputEl, {childList: true});\n",
       "}}\n",
       "\n",
       "                        })                };                });            </script>        </div>"
      ]
     },
     "metadata": {},
     "output_type": "display_data"
    }
   ],
   "source": [
    "plot_histograms_sidebyside(same_query_ref9, same_query_ref1, same_query_ref2, same_query_ref3, same_query_ref4, 'reverse_score',  'Reverse score', 'MatchSpectra: filter -> 1%I | match -> 5ppm & normalized')"
   ]
  },
  {
   "cell_type": "code",
   "execution_count": 75,
   "metadata": {},
   "outputs": [
    {
     "data": {
      "application/vnd.plotly.v1+json": {
       "config": {
        "plotlyServerURL": "https://plot.ly"
       },
       "data": [
        {
         "name": "All peaks (245)",
         "nbinsx": 10,
         "type": "histogram",
         "x": [
          0.0278137474542427,
          0.0295314844424085,
          0.0013942301835936,
          0.0020919350151797,
          0.0099355416584541,
          0.251510943967488,
          0.041374266260442,
          0.0149944196085064,
          0.0449925718436284,
          0.24857505497005,
          0.0152415422604625,
          0.0566875885231816,
          0.201159858397047,
          0.160887788510098,
          0.0419780423447848,
          0.375458215619226,
          0.27731631453082,
          0.0022395724405535,
          0.0330000657458018,
          0.532380325023442,
          0.17098251577071,
          0.134086511882537,
          0.44384173600428,
          0.0052239026876404,
          0.100542753160883,
          0.521700675181468,
          0.0140171646180106,
          0.16464695752393,
          0.108577236225002,
          0.0249137725997619,
          0.275326543093647,
          0.0007516505928008,
          0.0872428309285268,
          0.373717565909411,
          0.52629370866701,
          0.497851910484724,
          0.509033299449711,
          0.292406058175381,
          0.121226284615181,
          0.101768360851766,
          0.0038310725557305,
          0.080013380800668,
          0.0198466802647617,
          0.0112710454563951,
          0.0141763415753563,
          0.537951782458285,
          0.242747349555228,
          0.106203921199951,
          0.118156622433298,
          0.275503301589113,
          0.0999749808086408,
          0.34190880011334,
          0.535952994346639,
          0.0848263433307059,
          0.0781114539723864,
          0.0035420354124329,
          0.351106311996639,
          0.526425762394902,
          0.0603694132376349,
          0.103140528865242,
          0.0146280056424154,
          0.15198705121304,
          0.419144248206012,
          0.485799604109542,
          0.0516167842030731,
          0.319377045064832,
          0.267119038226627,
          0.0640864541744411,
          0.363455528394761,
          0.134091973522488,
          0.506323508239779,
          0.0634200993643346,
          0.507029785977849,
          0.113350504252465,
          0.494704176285473,
          0.0232723849024127,
          0.254621440673486,
          0.272991721619991,
          0.0440422511375586,
          0.0094877624231246,
          0.526779888284668,
          0.0501349079653982,
          0.00229357032418,
          0.0024878954630012,
          0.243946164904415,
          0.115084986289448,
          0.181367320876633,
          0.0037390456166022,
          0.437284859349017,
          0.382835855614369,
          0.17458510600309,
          0.184368055487216,
          0.0329612874507041,
          0.541548637282832,
          0.542218463051335,
          0.124293039868466,
          0.129415741500602,
          0.249335970436787,
          0.232583702316948,
          0.0688695365542333,
          0.0011315907965004,
          0.0715901666219236,
          0.056193276218985,
          0.0368421811729571,
          0.0353673706294019,
          0.0893633329800127,
          0.0539266620959968,
          0.504027576256421,
          0.0049722699590877,
          0.016439149442278,
          0.346147842254255,
          0.0239871534189847,
          0.0265409887104036,
          0.386890993774246,
          0.0537386172638468,
          0.314755437320171,
          0.14841155294622,
          0.007028826687145,
          0.0518433922962958,
          0.0199468800533522,
          0.186753163856185,
          0.499384081863569,
          0.431117230916666,
          0.0163227601938836,
          0.32805613650253,
          0.350597949400808,
          0.0868388765101962,
          0.228094283466572,
          0.0159318310967812,
          0.0153863913124899,
          0.109541052777143,
          0.457213950246607,
          0.0483359615553198,
          0.352267066331952,
          0.452073847803103,
          0.008935757515818,
          0.147123763332496,
          0.0606800506836737,
          0.379246156178834,
          0.0030872372615074,
          0.0007612141331404,
          0.0024577721566416,
          0.0008652672696412,
          0.0117799769524648,
          0.0357811900001827,
          0.014825557324349,
          0.0232572424689558,
          0.0564004549427863,
          0.13165973607008,
          0.203967769430042,
          0.272956797840121,
          0.0997708631351797,
          0.0405668153865465,
          0.197448751769449,
          0.0164392313871944,
          0.0657242502647367,
          0.0837507435177528,
          0.0617299202989973,
          0.0479070622558215,
          0.0091839240698448,
          0.0503370314468139,
          0.0616616233877825,
          0.0595815614368816,
          0.0327373037589466,
          0.0537422995560325,
          0.0714403057431412,
          0.0110917502648633,
          0.0261498152799398,
          0.0473392501580879,
          0.0140150196114324,
          0.0614220034962631,
          0.267909744836778,
          0.195620744598715,
          0.111969817643081,
          0.0652571972246894,
          0.0029719917094202,
          0.0709668108954998,
          0.0676137021856565,
          0.486812142121789,
          0.170824507356893,
          0.180448130473046,
          0.100661924996689,
          0.192830435305299,
          0.0518886358802466,
          0.277211350779649,
          0.0090945587007008,
          0.0005560169030211,
          0.0584868916746376,
          0.113031417093463,
          0.0072779882607384,
          0.0034629977685876,
          0.0110797189465151,
          0.139969659966009,
          0.0086092140807711,
          0.116642775088512,
          0.036501904951955,
          0.0064060596163605,
          0.0005603606066117,
          0.0338783759691781,
          0.133053694796514,
          0.24341257866183,
          0.169178858427196,
          0.107586896330995,
          0.0090492256959501,
          0.075871859758988,
          0.478480886180628,
          0.19257411877629,
          0.0020444618088033,
          0.0006342709008743,
          0.0395568154223621,
          0.434910903571125,
          0.145236482111547,
          0.357150299620085,
          0.208981410230661,
          0.259827124568546,
          0.0129530186906926,
          0.231960554056635,
          0.0504045506956615,
          0.0694355218784828,
          0.0836377180074802,
          0.042559228232689,
          0.307923264656125,
          0.0006063558221943,
          0.0031932041355975,
          0.0113598992019768,
          0.0468902892826423,
          0.107824818844628,
          0.261798369305318,
          0.0377782308088382,
          0.0256765705163436,
          0.22851504402018,
          0.000914586269613,
          0.300269182362417,
          0.0012592652134737,
          0.0345102236618038,
          0.28076550973969,
          0.122196920360368,
          0.0062218862490483,
          0.13690829043335,
          0.217793162310076,
          0.365210341017778,
          0.323748201910478,
          0.237397721117879,
          0.0001835631019443,
          0.0003254382162473
         ],
         "xbins": {
          "end": 1,
          "start": 0
         }
        },
        {
         "name": "Top 3 peaks (211)",
         "nbinsx": 10,
         "type": "histogram",
         "x": [
          0.326825237457499,
          0.0249296165668705,
          0.0189335240356281,
          0.0022058126465026,
          0.238593667187667,
          0.0152415422604625,
          0.0276154640085391,
          0.204471158394578,
          0.0591668723204273,
          0.0419780423447848,
          0.343383411200838,
          0.257718357341456,
          0.0035174519948691,
          0.0281007677529446,
          0.399739996308636,
          0.491578660982816,
          0.00171848815656,
          0.159754031839499,
          0.398511903584579,
          0.232724603098829,
          0.114806819846579,
          0.0016468123363474,
          0.277893580786571,
          0.027324481831123,
          0.439562640229324,
          0.297215197296914,
          0.27425272704877,
          0.39663070307781,
          0.176207024991514,
          0.0585246738086586,
          0.008505385498861,
          0.0181775423924738,
          0.380549774193076,
          0.252283021076601,
          0.138920825980948,
          0.318027025851213,
          0.0610365089648734,
          0.192738741078996,
          0.276620257734531,
          0.0766143943050255,
          0.0828917749077474,
          0.0052362534577736,
          0.215239786313596,
          0.277760330635432,
          0.0353478689629864,
          0.103140528865242,
          0.0043897630977587,
          0.142743860466057,
          0.222600538374743,
          0.419070889998638,
          0.153727323706866,
          0.279092397715855,
          0.0640864541744411,
          0.258717580577466,
          0.149620402210895,
          0.297725262768602,
          0.0406471754720518,
          0.426693623240851,
          0.102912916501197,
          0.189971971828903,
          0.0123445460114914,
          0.212926885815109,
          0.373039681618367,
          0.0115337055168785,
          0.265655540433131,
          0.0525463843901889,
          0.0052675365991947,
          0.005713834133695,
          0.107779773733526,
          0.0753840446703302,
          0.0517758439677291,
          0.442344400253545,
          0.272599485491395,
          0.0008643419972032,
          0.0133376260955271,
          0.23354300782779,
          0.421031770836459,
          0.0662501980963223,
          0.0758602496623223,
          0.328283305306783,
          0.165137436094444,
          0.0445380400403051,
          0.0011315907965004,
          0.0012711140251973,
          0.0484539973009175,
          0.0258775640625084,
          0.0254981992710242,
          0.0575765497704939,
          0.0539266620959968,
          0.193882460676344,
          0.003869342354695,
          0.0006629926782379,
          0.305713759340225,
          0.0209364054990751,
          0.275798588047909,
          0.016331445540439,
          0.322916576887725,
          0.152065770897738,
          0.0034735263416996,
          0.0229175083980108,
          0.119115204846153,
          0.545069055807463,
          0.361559614408479,
          0.019069817301703,
          0.0664067699493804,
          0.361633799675155,
          0.090855077190243,
          0.262202829446205,
          0.021180239737157,
          0.0193193592225416,
          0.0617730901116721,
          0.481102932434084,
          0.0054315210719916,
          0.317705916368825,
          0.501607802772848,
          0.147123763332496,
          0.0028096733738863,
          0.379246156178834,
          0.0010167934279514,
          0.0006257581660278,
          0.0010605842640013,
          0.0136421246850335,
          0.0496412100526467,
          0.0006774622853615,
          0.0167113954208801,
          0.0135322774669835,
          0.0868251799742241,
          0.221190132551593,
          0.273230886512328,
          0.0180795687271533,
          0.0072439821443506,
          0.197448751769449,
          0.095001445656439,
          0.0525723781861896,
          0.0414309895288781,
          0.0514808267183159,
          0.0091839240698448,
          0.0274686573952542,
          0.0225830221069972,
          0.0232578632391882,
          0.0132384452388575,
          0.0130448980933051,
          0.0154352944661854,
          0.0070677213208112,
          0.0280575811365346,
          0.0203990455253583,
          0.0223376886574503,
          0.275348625975107,
          0.21571777386147,
          0.216598007176524,
          0.0250456368192855,
          0.0022614599992744,
          0.107548526400446,
          0.0580455002938595,
          0.593163450598013,
          0.229292594858696,
          0.239385165501949,
          0.172237827919178,
          0.0071557111248343,
          0.0602844476825367,
          0.208948939120663,
          0.0110486666734458,
          0.131152987696268,
          0.0072779882607384,
          0.0041977492810912,
          0.0012116048469452,
          0.132279158043839,
          0.0017843011419122,
          0.108881927435354,
          0.0514768106696083,
          0.0064060596163605,
          0.0174841632724616,
          0.090268102046579,
          0.25862202890341,
          0.197922613971406,
          0.056783249892068,
          0.0096675899808696,
          0.0927015925960465,
          0.549215762709661,
          0.215636165758713,
          0.346136719978574,
          0.157800741101859,
          0.266849513955819,
          0.236011054914886,
          0.28054114590149,
          0.0155855911946611,
          0.0374090872491891,
          0.0694170934794756,
          0.0444259496298593,
          0.025609746919178,
          0.0698598250824092,
          0.333224434142918,
          0.00111807999697,
          0.0031932041355975,
          0.0035751290987873,
          0.0877707675407191,
          0.0408718675754761,
          0.224658877298392,
          0.0259693747790061,
          0.0203827239410352,
          0.248405233298513,
          0.364790433882766,
          0.0016491170551083,
          0.28076550973969,
          0.122196920360368,
          0.0062218862490483,
          0.13690829043335,
          0.217793162310076,
          0.365210341017778,
          0.323748201910478,
          0.142352758779436
         ],
         "xbins": {
          "end": 1,
          "start": 0
         }
        },
        {
         "name": "Top 5 peaks (229)",
         "nbinsx": 10,
         "type": "histogram",
         "x": [
          0.0052606213013021,
          0.272361912864841,
          0.0457077584535173,
          0.0149944196085064,
          0.0015783607895314,
          0.267905821066631,
          0.0152415422604625,
          0.0648197141290369,
          0.201683864364502,
          0.207324257776341,
          0.0419780423447848,
          0.301428729280874,
          0.279100109905966,
          0.0025290350071701,
          0.0248443842153615,
          0.372918718248176,
          0.0390067514606116,
          0.0309040293081289,
          0.443056884282767,
          0.0052239026876404,
          0.125170503028238,
          0.411053691919116,
          0.0084239729077195,
          0.163502144257617,
          0.118729020818678,
          0.0013002362020941,
          0.269007905001916,
          0.136005788146025,
          0.378941337344311,
          0.338448133381367,
          0.386187613363933,
          0.416234069992909,
          0.189496082882533,
          0.0132149514525295,
          0.0105104644980054,
          0.0444110995480162,
          0.0170346707676763,
          0.0112710454563951,
          0.0231801186075024,
          0.445524223963095,
          0.203508544367987,
          0.0290135110040614,
          0.111563360022253,
          0.304889478621351,
          0.0749297729659512,
          0.366019516694467,
          0.355650763389265,
          0.0509126428421001,
          0.080482481937762,
          0.0044015570556564,
          0.238795016839577,
          0.3454285878063,
          0.043833277910888,
          0.103140528865242,
          0.0078363434247664,
          0.15198705121304,
          0.236349417540264,
          0.330339930784202,
          0.0014189554046701,
          0.184941582495687,
          0.267119038226627,
          0.0640864541744411,
          0.274183604642396,
          0.173758608554526,
          0.342453765504495,
          0.0392509727647561,
          0.507029785977849,
          0.0808143286480448,
          0.261628502305333,
          0.0157437003498112,
          0.301662261801799,
          0.291967849365544,
          0.0230114202638505,
          0.330685356253773,
          0.0501349079653982,
          0.0038590780180564,
          0.0041860424296879,
          0.206338845983836,
          0.115084986289448,
          0.167655738825579,
          0.0037390456166022,
          0.40670323301005,
          0.313486510115716,
          0.0877087517459552,
          0.111389502346782,
          0.0090178367537323,
          0.328306976152904,
          0.423561863889377,
          0.0570008069748592,
          0.0654741927718264,
          0.275993885605959,
          0.208504732574689,
          0.0823272453294115,
          0.0011315907965004,
          0.0189989312773158,
          0.0559953164355131,
          0.0427980807336017,
          0.0410848526157135,
          0.0623916301614166,
          0.0539266620959968,
          0.292222779878579,
          0.0031142594981776,
          0.0004713019229237,
          0.414161306564456,
          0.0166306873282479,
          0.413828109889027,
          0.0486712343822818,
          0.376146376904842,
          0.164838270023949,
          0.0056663442181039,
          0.0443441559868207,
          0.0199468800533522,
          0.111984591038549,
          0.499384081863569,
          0.402094288732722,
          0.0163227601938836,
          0.218260488537203,
          0.360224545666779,
          0.0764445712591236,
          0.207885675500293,
          0.0150687450215079,
          0.0195910201534488,
          0.102835252014867,
          0.457213950246607,
          0.0483359615553198,
          0.355243930837437,
          0.396211551072327,
          0.147123763332496,
          0.0158990134697123,
          0.379246156178834,
          0.0030872372615074,
          0.0033522890900655,
          0.0008652672696412,
          0.0108763084189912,
          0.0372552062695869,
          0.0005429234007633,
          0.0269635019543487,
          0.0105978272861001,
          0.0824730258961513,
          0.203967769430042,
          0.254144450344462,
          0.0133496506493992,
          0.0052161129415949,
          0.197448751769449,
          0.0164392313871944,
          0.0718678599596194,
          0.0496576141625446,
          0.0297674017400478,
          0.0479070622558215,
          0.0091839240698448,
          0.0346229285457812,
          0.0454348393057788,
          0.045718257635038,
          0.0250321137719643,
          0.0144518758284866,
          0.0174881858735746,
          0.005325959121325,
          0.0310489727321612,
          0.0370337971842923,
          0.0059266640900821,
          0.0409713888240303,
          0.21984306239902,
          0.15961172917025,
          0.152355694046433,
          0.0741832692204043,
          0.001923368305923,
          0.0927341037055124,
          0.0674261748520306,
          0.486812142121789,
          0.187008206909305,
          0.206814133466163,
          0.142096975757598,
          0.201184603121827,
          0.0518886358802466,
          0.277211350779649,
          0.0090945587007008,
          0.113031417093463,
          0.0072779882607384,
          0.0034629977685876,
          0.011858598117988,
          0.110167303515106,
          0.0013782649844725,
          0.0825333133830793,
          0.0378203165299267,
          0.0064060596163605,
          0.0005603606066117,
          0.0435162865503314,
          0.133053694796514,
          0.24341257866183,
          0.18858458028283,
          0.102797506853917,
          0.0090492256959501,
          0.0801793507796602,
          0.478480886180628,
          0.219019152493355,
          0.0010935750889606,
          0.0324784550490225,
          0.448892172916765,
          0.190533355574254,
          0.322257607930235,
          0.197501840576915,
          0.290804396083767,
          0.0129277737473605,
          0.131556119166435,
          0.0528400240910193,
          0.0656469373529963,
          0.0998346802233409,
          0.0572045301510697,
          0.348946269976437,
          0.0008738067555778,
          0.0031932041355975,
          0.013417196785314,
          0.0705425700249428,
          0.0483342846039173,
          0.261798369305318,
          0.0276303752544908,
          0.016816366904224,
          0.22851504402018,
          0.0014800902837428,
          0.343893059555948,
          0.0013960128270487,
          0.28076550973969,
          0.122196920360368,
          0.0062218862490483,
          0.13690829043335,
          0.217793162310076,
          0.365210341017778,
          0.323748201910478,
          0.279798174967077
         ],
         "xbins": {
          "end": 1,
          "start": 0
         }
        },
        {
         "name": "Top 10 peaks (240)",
         "nbinsx": 10,
         "type": "histogram",
         "x": [
          0.0151384451627871,
          0.0102339127390992,
          0.251510943967488,
          0.041374266260442,
          0.0149944196085064,
          0.0645487072083161,
          0.229551229692131,
          0.0152415422604625,
          0.0566875885231816,
          0.201159858397047,
          0.160887788510098,
          0.0419780423447848,
          0.347847971453868,
          0.298469101208636,
          0.0022395724405535,
          0.0330000657458018,
          0.536463528404581,
          0.0789290547254318,
          0.0617979704110392,
          0.457848253699802,
          0.0052239026876404,
          0.100542753160883,
          0.504389926612675,
          0.0140171646180106,
          0.116077098706839,
          0.108577236225002,
          0.0249137725997619,
          0.275326543093647,
          0.097348728384745,
          0.373717565909411,
          0.478489779953466,
          0.532989622768954,
          0.491287227107687,
          0.264347523061581,
          0.046739626809636,
          0.0386668658371137,
          0.0039699608262114,
          0.080013380800668,
          0.016367097005556,
          0.0112710454563951,
          0.0165193773843557,
          0.548102770483425,
          0.242747349555228,
          0.0427206710907907,
          0.118156622433298,
          0.275503301589113,
          0.0999749808086408,
          0.34190880011334,
          0.479914553172336,
          0.0831997341399229,
          0.0781114539723864,
          0.0035420354124329,
          0.297222589419397,
          0.544341513221196,
          0.0603694132376349,
          0.103140528865242,
          0.014311269200083,
          0.15198705121304,
          0.346764061676282,
          0.490997194148141,
          0.0116931215583679,
          0.328984485681633,
          0.267119038226627,
          0.0640864541744411,
          0.363455528394761,
          0.146684151466486,
          0.477794472348066,
          0.0457981585712789,
          0.507029785977849,
          0.117977023423274,
          0.440268036166085,
          0.0232723849024127,
          0.262934802548877,
          0.272991721619991,
          0.0381774840759795,
          0.0098089614768731,
          0.498695958787318,
          0.0501349079653982,
          0.002776186638247,
          0.0030114019478382,
          0.257675911464507,
          0.115084986289448,
          0.155128826603015,
          0.0037390456166022,
          0.363801378697789,
          0.374555298746612,
          0.189281268266303,
          0.197494162863218,
          0.026909437561712,
          0.541548637282832,
          0.536830831233385,
          0.133564480469034,
          0.13906930183971,
          0.216632104129426,
          0.223709569476235,
          0.0688695365542333,
          0.0011315907965004,
          0.0535131548169789,
          0.0561731770091618,
          0.0368421811729571,
          0.0353673706294019,
          0.0893633329800127,
          0.0539266620959968,
          0.349026248942621,
          0.0049722699590877,
          0.0033511188310616,
          0.376418361783619,
          0.0179055484836849,
          0.0265409887104036,
          0.397073447309018,
          0.0537386172638468,
          0.314755437320171,
          0.147535797240959,
          0.0043085055290532,
          0.0518433922962958,
          0.0199468800533522,
          0.186753163856185,
          0.499384081863569,
          0.423598207430909,
          0.0163227601938836,
          0.317997725163404,
          0.350597949400808,
          0.0868388765101962,
          0.228094283466572,
          0.0146041125576712,
          0.0142349444391604,
          0.0868189591704307,
          0.457213950246607,
          0.0483359615553198,
          0.352267066331952,
          0.452073847803103,
          0.008935757515818,
          0.147123763332496,
          0.0606800506836737,
          0.379246156178834,
          0.0030872372615074,
          0.0008244461091402,
          0.0025210146425718,
          0.0008652672696412,
          0.0122348395136453,
          0.0357811900001827,
          0.0061509551067341,
          0.0232572424689558,
          0.0564004549427863,
          0.138502434070248,
          0.203967769430042,
          0.272956797840121,
          0.109139602599504,
          0.0058865840233192,
          0.197448751769449,
          0.0164392313871944,
          0.0657242502647367,
          0.0467924318557668,
          0.0306558349338778,
          0.0479070622558215,
          0.0091839240698448,
          0.0443965342341234,
          0.0641986573255321,
          0.065755985610667,
          0.0361298633837548,
          0.0472762884711011,
          0.0702593409449207,
          0.0125641831743707,
          0.0287231144809443,
          0.0534791914555942,
          0.0140150196114324,
          0.062515694035912,
          0.267909744836778,
          0.195620744598715,
          0.133724858633941,
          0.0652571972246894,
          0.0029719917094202,
          0.0709668108954998,
          0.0612526706789852,
          0.486812142121789,
          0.186484977562486,
          0.187174771329276,
          0.111287724775463,
          0.192830435305299,
          0.0518886358802466,
          0.277211350779649,
          0.0090945587007008,
          0.0005560169030211,
          0.0187854264292013,
          0.113031417093463,
          0.0072779882607384,
          0.0034629977685876,
          0.0110797189465151,
          0.139969659966009,
          0.0097721000423198,
          0.116642775088512,
          0.036501904951955,
          0.0064060596163605,
          0.0005603606066117,
          0.0338783759691781,
          0.133053694796514,
          0.24341257866183,
          0.169178858427196,
          0.110689969097876,
          0.0090492256959501,
          0.075871859758988,
          0.478480886180628,
          0.19257411877629,
          0.0020444618088033,
          0.0007929560172442,
          0.0417660536296314,
          0.434910903571125,
          0.163142356656214,
          0.357150299620085,
          0.208981410230661,
          0.259827124568546,
          0.0129530186906926,
          0.13431286923608,
          0.0481677649979225,
          0.0694355218784828,
          0.0959218589116504,
          0.042559228232689,
          0.307923264656125,
          0.0006467803085937,
          0.0031932041355975,
          0.0113598992019768,
          0.0518234883770961,
          0.0935262875536002,
          0.261798369305318,
          0.0377782308088382,
          0.0256765705163436,
          0.22851504402018,
          0.0010625213844153,
          0.300269182362417,
          0.0012592652134737,
          0.0345102236618038,
          0.28076550973969,
          0.122196920360368,
          0.0062218862490483,
          0.13690829043335,
          0.217793162310076,
          0.365210341017778,
          0.323748201910478,
          0.237397721117879,
          0.0002131864418562
         ],
         "xbins": {
          "end": 1,
          "start": 0
         }
        },
        {
         "name": "Top 20 peaks (244)",
         "nbinsx": 10,
         "type": "histogram",
         "x": [
          0.0278137474542427,
          0.0253676066414482,
          0.0013942301835936,
          0.0064086900363674,
          0.251510943967488,
          0.041374266260442,
          0.0149944196085064,
          0.0481292123445041,
          0.24857505497005,
          0.0152415422604625,
          0.0566875885231816,
          0.201159858397047,
          0.160887788510098,
          0.0419780423447848,
          0.375458215619226,
          0.27731631453082,
          0.0022395724405535,
          0.0330000657458018,
          0.532380325023442,
          0.184325460162006,
          0.144550206744009,
          0.44384173600428,
          0.0052239026876404,
          0.100542753160883,
          0.521700675181468,
          0.0140171646180106,
          0.16464695752393,
          0.108577236225002,
          0.0249137725997619,
          0.275326543093647,
          0.0008266178462279,
          0.0872428309285268,
          0.373717565909411,
          0.52629370866701,
          0.497851910484724,
          0.509033299449711,
          0.292406058175381,
          0.0983621631878292,
          0.0794975815281698,
          0.0038310725557305,
          0.080013380800668,
          0.0198466802647617,
          0.0112710454563951,
          0.0141763415753563,
          0.537951782458285,
          0.242747349555228,
          0.0919101875492114,
          0.118156622433298,
          0.275503301589113,
          0.0999749808086408,
          0.34190880011334,
          0.535952994346639,
          0.0630984785072259,
          0.0781114539723864,
          0.0035420354124329,
          0.351106311996639,
          0.526425762394902,
          0.0603694132376349,
          0.103140528865242,
          0.0146280056424154,
          0.15198705121304,
          0.419144248206012,
          0.485799604109542,
          0.0516167842030731,
          0.319377045064832,
          0.267119038226627,
          0.0640864541744411,
          0.363455528394761,
          0.134091973522488,
          0.506323508239779,
          0.0634200993643346,
          0.507029785977849,
          0.113350504252465,
          0.494704176285473,
          0.0232723849024127,
          0.254621440673486,
          0.272991721619991,
          0.0440422511375586,
          0.0094877624231246,
          0.526779888284668,
          0.0501349079653982,
          0.00229357032418,
          0.0024878954630012,
          0.243946164904415,
          0.115084986289448,
          0.181367320876633,
          0.0037390456166022,
          0.437284859349017,
          0.382835855614369,
          0.17458510600309,
          0.184368055487216,
          0.0329612874507041,
          0.541548637282832,
          0.542218463051335,
          0.124293039868466,
          0.129415741500602,
          0.249335970436787,
          0.232583702316948,
          0.0688695365542333,
          0.0011315907965004,
          0.0715901666219236,
          0.056193276218985,
          0.0368421811729571,
          0.0353673706294019,
          0.0893633329800127,
          0.0539266620959968,
          0.504027576256421,
          0.0049722699590877,
          0.016439149442278,
          0.346147842254255,
          0.0255193047311593,
          0.0265409887104036,
          0.386890993774246,
          0.0537386172638468,
          0.314755437320171,
          0.14841155294622,
          0.007028826687145,
          0.0518433922962958,
          0.0199468800533522,
          0.186753163856185,
          0.499384081863569,
          0.431117230916666,
          0.0163227601938836,
          0.32805613650253,
          0.350597949400808,
          0.0868388765101962,
          0.228094283466572,
          0.016521666297881,
          0.0159560330039485,
          0.109541052777143,
          0.457213950246607,
          0.0483359615553198,
          0.352267066331952,
          0.452073847803103,
          0.008935757515818,
          0.147123763332496,
          0.0606800506836737,
          0.379246156178834,
          0.0030872372615074,
          0.0007612141331404,
          0.0024577721566416,
          0.0008652672696412,
          0.0117799769524648,
          0.0357811900001827,
          0.014825557324349,
          0.0232572424689558,
          0.0564004549427863,
          0.13165973607008,
          0.203967769430042,
          0.272956797840121,
          0.0936893624307006,
          0.0433304405004972,
          0.197448751769449,
          0.0164392313871944,
          0.0657242502647367,
          0.0837507435177528,
          0.0617299202989973,
          0.0479070622558215,
          0.0091839240698448,
          0.0503370314468139,
          0.0616616233877825,
          0.0595815614368816,
          0.0327373037589466,
          0.0510914444528576,
          0.0714403057431412,
          0.0110917502648633,
          0.0261498152799398,
          0.0473392501580879,
          0.0140150196114324,
          0.0614220034962631,
          0.267909744836778,
          0.195620744598715,
          0.111969817643081,
          0.0652571972246894,
          0.0029719917094202,
          0.0709668108954998,
          0.0676137021856565,
          0.486812142121789,
          0.170824507356893,
          0.180448130473046,
          0.100661924996689,
          0.192830435305299,
          0.0518886358802466,
          0.277211350779649,
          0.0090945587007008,
          0.0005560169030211,
          0.0395473422440342,
          0.113031417093463,
          0.0072779882607384,
          0.0034629977685876,
          0.0110797189465151,
          0.139969659966009,
          0.0086092140807711,
          0.116642775088512,
          0.036501904951955,
          0.0064060596163605,
          0.0005603606066117,
          0.0338783759691781,
          0.133053694796514,
          0.24341257866183,
          0.169178858427196,
          0.107586896330995,
          0.0090492256959501,
          0.075871859758988,
          0.478480886180628,
          0.19257411877629,
          0.0020444618088033,
          0.0006342709008743,
          0.0395568154223621,
          0.434910903571125,
          0.145236482111547,
          0.357150299620085,
          0.208981410230661,
          0.259827124568546,
          0.0129530186906926,
          0.19461583729515,
          0.0504045506956615,
          0.0694355218784828,
          0.0836377180074802,
          0.042559228232689,
          0.307923264656125,
          0.0006063558221943,
          0.0031932041355975,
          0.0113598992019768,
          0.0468902892826423,
          0.107824818844628,
          0.261798369305318,
          0.0377782308088382,
          0.0256765705163436,
          0.22851504402018,
          0.000914586269613,
          0.300269182362417,
          0.0012592652134737,
          0.0345102236618038,
          0.28076550973969,
          0.122196920360368,
          0.0062218862490483,
          0.13690829043335,
          0.217793162310076,
          0.365210341017778,
          0.323748201910478,
          0.237397721117879,
          0.0001062323639017,
          0.0001474373125846
         ],
         "xbins": {
          "end": 1,
          "start": 0
         }
        }
       ],
       "layout": {
        "font": {
         "size": 17
        },
        "legend": {
         "x": 0.81,
         "y": 1
        },
        "template": {
         "data": {
          "bar": [
           {
            "error_x": {
             "color": "#2a3f5f"
            },
            "error_y": {
             "color": "#2a3f5f"
            },
            "marker": {
             "line": {
              "color": "#E5ECF6",
              "width": 0.5
             },
             "pattern": {
              "fillmode": "overlay",
              "size": 10,
              "solidity": 0.2
             }
            },
            "type": "bar"
           }
          ],
          "barpolar": [
           {
            "marker": {
             "line": {
              "color": "#E5ECF6",
              "width": 0.5
             },
             "pattern": {
              "fillmode": "overlay",
              "size": 10,
              "solidity": 0.2
             }
            },
            "type": "barpolar"
           }
          ],
          "carpet": [
           {
            "aaxis": {
             "endlinecolor": "#2a3f5f",
             "gridcolor": "white",
             "linecolor": "white",
             "minorgridcolor": "white",
             "startlinecolor": "#2a3f5f"
            },
            "baxis": {
             "endlinecolor": "#2a3f5f",
             "gridcolor": "white",
             "linecolor": "white",
             "minorgridcolor": "white",
             "startlinecolor": "#2a3f5f"
            },
            "type": "carpet"
           }
          ],
          "choropleth": [
           {
            "colorbar": {
             "outlinewidth": 0,
             "ticks": ""
            },
            "type": "choropleth"
           }
          ],
          "contour": [
           {
            "colorbar": {
             "outlinewidth": 0,
             "ticks": ""
            },
            "colorscale": [
             [
              0,
              "#0d0887"
             ],
             [
              0.1111111111111111,
              "#46039f"
             ],
             [
              0.2222222222222222,
              "#7201a8"
             ],
             [
              0.3333333333333333,
              "#9c179e"
             ],
             [
              0.4444444444444444,
              "#bd3786"
             ],
             [
              0.5555555555555556,
              "#d8576b"
             ],
             [
              0.6666666666666666,
              "#ed7953"
             ],
             [
              0.7777777777777778,
              "#fb9f3a"
             ],
             [
              0.8888888888888888,
              "#fdca26"
             ],
             [
              1,
              "#f0f921"
             ]
            ],
            "type": "contour"
           }
          ],
          "contourcarpet": [
           {
            "colorbar": {
             "outlinewidth": 0,
             "ticks": ""
            },
            "type": "contourcarpet"
           }
          ],
          "heatmap": [
           {
            "colorbar": {
             "outlinewidth": 0,
             "ticks": ""
            },
            "colorscale": [
             [
              0,
              "#0d0887"
             ],
             [
              0.1111111111111111,
              "#46039f"
             ],
             [
              0.2222222222222222,
              "#7201a8"
             ],
             [
              0.3333333333333333,
              "#9c179e"
             ],
             [
              0.4444444444444444,
              "#bd3786"
             ],
             [
              0.5555555555555556,
              "#d8576b"
             ],
             [
              0.6666666666666666,
              "#ed7953"
             ],
             [
              0.7777777777777778,
              "#fb9f3a"
             ],
             [
              0.8888888888888888,
              "#fdca26"
             ],
             [
              1,
              "#f0f921"
             ]
            ],
            "type": "heatmap"
           }
          ],
          "heatmapgl": [
           {
            "colorbar": {
             "outlinewidth": 0,
             "ticks": ""
            },
            "colorscale": [
             [
              0,
              "#0d0887"
             ],
             [
              0.1111111111111111,
              "#46039f"
             ],
             [
              0.2222222222222222,
              "#7201a8"
             ],
             [
              0.3333333333333333,
              "#9c179e"
             ],
             [
              0.4444444444444444,
              "#bd3786"
             ],
             [
              0.5555555555555556,
              "#d8576b"
             ],
             [
              0.6666666666666666,
              "#ed7953"
             ],
             [
              0.7777777777777778,
              "#fb9f3a"
             ],
             [
              0.8888888888888888,
              "#fdca26"
             ],
             [
              1,
              "#f0f921"
             ]
            ],
            "type": "heatmapgl"
           }
          ],
          "histogram": [
           {
            "marker": {
             "pattern": {
              "fillmode": "overlay",
              "size": 10,
              "solidity": 0.2
             }
            },
            "type": "histogram"
           }
          ],
          "histogram2d": [
           {
            "colorbar": {
             "outlinewidth": 0,
             "ticks": ""
            },
            "colorscale": [
             [
              0,
              "#0d0887"
             ],
             [
              0.1111111111111111,
              "#46039f"
             ],
             [
              0.2222222222222222,
              "#7201a8"
             ],
             [
              0.3333333333333333,
              "#9c179e"
             ],
             [
              0.4444444444444444,
              "#bd3786"
             ],
             [
              0.5555555555555556,
              "#d8576b"
             ],
             [
              0.6666666666666666,
              "#ed7953"
             ],
             [
              0.7777777777777778,
              "#fb9f3a"
             ],
             [
              0.8888888888888888,
              "#fdca26"
             ],
             [
              1,
              "#f0f921"
             ]
            ],
            "type": "histogram2d"
           }
          ],
          "histogram2dcontour": [
           {
            "colorbar": {
             "outlinewidth": 0,
             "ticks": ""
            },
            "colorscale": [
             [
              0,
              "#0d0887"
             ],
             [
              0.1111111111111111,
              "#46039f"
             ],
             [
              0.2222222222222222,
              "#7201a8"
             ],
             [
              0.3333333333333333,
              "#9c179e"
             ],
             [
              0.4444444444444444,
              "#bd3786"
             ],
             [
              0.5555555555555556,
              "#d8576b"
             ],
             [
              0.6666666666666666,
              "#ed7953"
             ],
             [
              0.7777777777777778,
              "#fb9f3a"
             ],
             [
              0.8888888888888888,
              "#fdca26"
             ],
             [
              1,
              "#f0f921"
             ]
            ],
            "type": "histogram2dcontour"
           }
          ],
          "mesh3d": [
           {
            "colorbar": {
             "outlinewidth": 0,
             "ticks": ""
            },
            "type": "mesh3d"
           }
          ],
          "parcoords": [
           {
            "line": {
             "colorbar": {
              "outlinewidth": 0,
              "ticks": ""
             }
            },
            "type": "parcoords"
           }
          ],
          "pie": [
           {
            "automargin": true,
            "type": "pie"
           }
          ],
          "scatter": [
           {
            "fillpattern": {
             "fillmode": "overlay",
             "size": 10,
             "solidity": 0.2
            },
            "type": "scatter"
           }
          ],
          "scatter3d": [
           {
            "line": {
             "colorbar": {
              "outlinewidth": 0,
              "ticks": ""
             }
            },
            "marker": {
             "colorbar": {
              "outlinewidth": 0,
              "ticks": ""
             }
            },
            "type": "scatter3d"
           }
          ],
          "scattercarpet": [
           {
            "marker": {
             "colorbar": {
              "outlinewidth": 0,
              "ticks": ""
             }
            },
            "type": "scattercarpet"
           }
          ],
          "scattergeo": [
           {
            "marker": {
             "colorbar": {
              "outlinewidth": 0,
              "ticks": ""
             }
            },
            "type": "scattergeo"
           }
          ],
          "scattergl": [
           {
            "marker": {
             "colorbar": {
              "outlinewidth": 0,
              "ticks": ""
             }
            },
            "type": "scattergl"
           }
          ],
          "scattermapbox": [
           {
            "marker": {
             "colorbar": {
              "outlinewidth": 0,
              "ticks": ""
             }
            },
            "type": "scattermapbox"
           }
          ],
          "scatterpolar": [
           {
            "marker": {
             "colorbar": {
              "outlinewidth": 0,
              "ticks": ""
             }
            },
            "type": "scatterpolar"
           }
          ],
          "scatterpolargl": [
           {
            "marker": {
             "colorbar": {
              "outlinewidth": 0,
              "ticks": ""
             }
            },
            "type": "scatterpolargl"
           }
          ],
          "scatterternary": [
           {
            "marker": {
             "colorbar": {
              "outlinewidth": 0,
              "ticks": ""
             }
            },
            "type": "scatterternary"
           }
          ],
          "surface": [
           {
            "colorbar": {
             "outlinewidth": 0,
             "ticks": ""
            },
            "colorscale": [
             [
              0,
              "#0d0887"
             ],
             [
              0.1111111111111111,
              "#46039f"
             ],
             [
              0.2222222222222222,
              "#7201a8"
             ],
             [
              0.3333333333333333,
              "#9c179e"
             ],
             [
              0.4444444444444444,
              "#bd3786"
             ],
             [
              0.5555555555555556,
              "#d8576b"
             ],
             [
              0.6666666666666666,
              "#ed7953"
             ],
             [
              0.7777777777777778,
              "#fb9f3a"
             ],
             [
              0.8888888888888888,
              "#fdca26"
             ],
             [
              1,
              "#f0f921"
             ]
            ],
            "type": "surface"
           }
          ],
          "table": [
           {
            "cells": {
             "fill": {
              "color": "#EBF0F8"
             },
             "line": {
              "color": "white"
             }
            },
            "header": {
             "fill": {
              "color": "#C8D4E3"
             },
             "line": {
              "color": "white"
             }
            },
            "type": "table"
           }
          ]
         },
         "layout": {
          "annotationdefaults": {
           "arrowcolor": "#2a3f5f",
           "arrowhead": 0,
           "arrowwidth": 1
          },
          "autotypenumbers": "strict",
          "coloraxis": {
           "colorbar": {
            "outlinewidth": 0,
            "ticks": ""
           }
          },
          "colorscale": {
           "diverging": [
            [
             0,
             "#8e0152"
            ],
            [
             0.1,
             "#c51b7d"
            ],
            [
             0.2,
             "#de77ae"
            ],
            [
             0.3,
             "#f1b6da"
            ],
            [
             0.4,
             "#fde0ef"
            ],
            [
             0.5,
             "#f7f7f7"
            ],
            [
             0.6,
             "#e6f5d0"
            ],
            [
             0.7,
             "#b8e186"
            ],
            [
             0.8,
             "#7fbc41"
            ],
            [
             0.9,
             "#4d9221"
            ],
            [
             1,
             "#276419"
            ]
           ],
           "sequential": [
            [
             0,
             "#0d0887"
            ],
            [
             0.1111111111111111,
             "#46039f"
            ],
            [
             0.2222222222222222,
             "#7201a8"
            ],
            [
             0.3333333333333333,
             "#9c179e"
            ],
            [
             0.4444444444444444,
             "#bd3786"
            ],
            [
             0.5555555555555556,
             "#d8576b"
            ],
            [
             0.6666666666666666,
             "#ed7953"
            ],
            [
             0.7777777777777778,
             "#fb9f3a"
            ],
            [
             0.8888888888888888,
             "#fdca26"
            ],
            [
             1,
             "#f0f921"
            ]
           ],
           "sequentialminus": [
            [
             0,
             "#0d0887"
            ],
            [
             0.1111111111111111,
             "#46039f"
            ],
            [
             0.2222222222222222,
             "#7201a8"
            ],
            [
             0.3333333333333333,
             "#9c179e"
            ],
            [
             0.4444444444444444,
             "#bd3786"
            ],
            [
             0.5555555555555556,
             "#d8576b"
            ],
            [
             0.6666666666666666,
             "#ed7953"
            ],
            [
             0.7777777777777778,
             "#fb9f3a"
            ],
            [
             0.8888888888888888,
             "#fdca26"
            ],
            [
             1,
             "#f0f921"
            ]
           ]
          },
          "colorway": [
           "#636efa",
           "#EF553B",
           "#00cc96",
           "#ab63fa",
           "#FFA15A",
           "#19d3f3",
           "#FF6692",
           "#B6E880",
           "#FF97FF",
           "#FECB52"
          ],
          "font": {
           "color": "#2a3f5f"
          },
          "geo": {
           "bgcolor": "white",
           "lakecolor": "white",
           "landcolor": "#E5ECF6",
           "showlakes": true,
           "showland": true,
           "subunitcolor": "white"
          },
          "hoverlabel": {
           "align": "left"
          },
          "hovermode": "closest",
          "mapbox": {
           "style": "light"
          },
          "paper_bgcolor": "white",
          "plot_bgcolor": "#E5ECF6",
          "polar": {
           "angularaxis": {
            "gridcolor": "white",
            "linecolor": "white",
            "ticks": ""
           },
           "bgcolor": "#E5ECF6",
           "radialaxis": {
            "gridcolor": "white",
            "linecolor": "white",
            "ticks": ""
           }
          },
          "scene": {
           "xaxis": {
            "backgroundcolor": "#E5ECF6",
            "gridcolor": "white",
            "gridwidth": 2,
            "linecolor": "white",
            "showbackground": true,
            "ticks": "",
            "zerolinecolor": "white"
           },
           "yaxis": {
            "backgroundcolor": "#E5ECF6",
            "gridcolor": "white",
            "gridwidth": 2,
            "linecolor": "white",
            "showbackground": true,
            "ticks": "",
            "zerolinecolor": "white"
           },
           "zaxis": {
            "backgroundcolor": "#E5ECF6",
            "gridcolor": "white",
            "gridwidth": 2,
            "linecolor": "white",
            "showbackground": true,
            "ticks": "",
            "zerolinecolor": "white"
           }
          },
          "shapedefaults": {
           "line": {
            "color": "#2a3f5f"
           }
          },
          "ternary": {
           "aaxis": {
            "gridcolor": "white",
            "linecolor": "white",
            "ticks": ""
           },
           "baxis": {
            "gridcolor": "white",
            "linecolor": "white",
            "ticks": ""
           },
           "bgcolor": "#E5ECF6",
           "caxis": {
            "gridcolor": "white",
            "linecolor": "white",
            "ticks": ""
           }
          },
          "title": {
           "x": 0.05
          },
          "xaxis": {
           "automargin": true,
           "gridcolor": "white",
           "linecolor": "white",
           "ticks": "",
           "title": {
            "standoff": 15
           },
           "zerolinecolor": "white",
           "zerolinewidth": 2
          },
          "yaxis": {
           "automargin": true,
           "gridcolor": "white",
           "linecolor": "white",
           "ticks": "",
           "title": {
            "standoff": 15
           },
           "zerolinecolor": "white",
           "zerolinewidth": 2
          }
         }
        },
        "title": {
         "text": "MatchSpectra: filter -> 10%I | match -> 5ppm & normalized"
        },
        "xaxis": {
         "dtick": 0.1,
         "range": [
          0,
          1
         ],
         "tickfont": {
          "size": 15
         },
         "title": {
          "text": "Score"
         }
        },
        "yaxis": {
         "range": [
          0,
          140
         ],
         "tickfont": {
          "size": 15
         },
         "title": {
          "text": "Frequency"
         }
        }
       }
      },
      "text/html": [
       "<div>                            <div id=\"92071091-5c53-45a2-a0fd-61d05d3dfaa9\" class=\"plotly-graph-div\" style=\"height:525px; width:100%;\"></div>            <script type=\"text/javascript\">                require([\"plotly\"], function(Plotly) {                    window.PLOTLYENV=window.PLOTLYENV || {};                                    if (document.getElementById(\"92071091-5c53-45a2-a0fd-61d05d3dfaa9\")) {                    Plotly.newPlot(                        \"92071091-5c53-45a2-a0fd-61d05d3dfaa9\",                        [{\"name\":\"All peaks (245)\",\"nbinsx\":10,\"x\":[0.0278137474542427,0.0295314844424085,0.0013942301835936,0.0020919350151797,0.0099355416584541,0.251510943967488,0.041374266260442,0.0149944196085064,0.0449925718436284,0.24857505497005,0.0152415422604625,0.0566875885231816,0.201159858397047,0.160887788510098,0.0419780423447848,0.375458215619226,0.27731631453082,0.0022395724405535,0.0330000657458018,0.532380325023442,0.17098251577071,0.134086511882537,0.44384173600428,0.0052239026876404,0.100542753160883,0.521700675181468,0.0140171646180106,0.16464695752393,0.108577236225002,0.0249137725997619,0.275326543093647,0.0007516505928008,0.0872428309285268,0.373717565909411,0.52629370866701,0.497851910484724,0.509033299449711,0.292406058175381,0.121226284615181,0.101768360851766,0.0038310725557305,0.080013380800668,0.0198466802647617,0.0112710454563951,0.0141763415753563,0.537951782458285,0.242747349555228,0.106203921199951,0.118156622433298,0.275503301589113,0.0999749808086408,0.34190880011334,0.535952994346639,0.0848263433307059,0.0781114539723864,0.0035420354124329,0.351106311996639,0.526425762394902,0.0603694132376349,0.103140528865242,0.0146280056424154,0.15198705121304,0.419144248206012,0.485799604109542,0.0516167842030731,0.319377045064832,0.267119038226627,0.0640864541744411,0.363455528394761,0.134091973522488,0.506323508239779,0.0634200993643346,0.507029785977849,0.113350504252465,0.494704176285473,0.0232723849024127,0.254621440673486,0.272991721619991,0.0440422511375586,0.0094877624231246,0.526779888284668,0.0501349079653982,0.00229357032418,0.0024878954630012,0.243946164904415,0.115084986289448,0.181367320876633,0.0037390456166022,0.437284859349017,0.382835855614369,0.17458510600309,0.184368055487216,0.0329612874507041,0.541548637282832,0.542218463051335,0.124293039868466,0.129415741500602,0.249335970436787,0.232583702316948,0.0688695365542333,0.0011315907965004,0.0715901666219236,0.056193276218985,0.0368421811729571,0.0353673706294019,0.0893633329800127,0.0539266620959968,0.504027576256421,0.0049722699590877,0.016439149442278,0.346147842254255,0.0239871534189847,0.0265409887104036,0.386890993774246,0.0537386172638468,0.314755437320171,0.14841155294622,0.007028826687145,0.0518433922962958,0.0199468800533522,0.186753163856185,0.499384081863569,0.431117230916666,0.0163227601938836,0.32805613650253,0.350597949400808,0.0868388765101962,0.228094283466572,0.0159318310967812,0.0153863913124899,0.109541052777143,0.457213950246607,0.0483359615553198,0.352267066331952,0.452073847803103,0.008935757515818,0.147123763332496,0.0606800506836737,0.379246156178834,0.0030872372615074,0.0007612141331404,0.0024577721566416,0.0008652672696412,0.0117799769524648,0.0357811900001827,0.014825557324349,0.0232572424689558,0.0564004549427863,0.13165973607008,0.203967769430042,0.272956797840121,0.0997708631351797,0.0405668153865465,0.197448751769449,0.0164392313871944,0.0657242502647367,0.0837507435177528,0.0617299202989973,0.0479070622558215,0.0091839240698448,0.0503370314468139,0.0616616233877825,0.0595815614368816,0.0327373037589466,0.0537422995560325,0.0714403057431412,0.0110917502648633,0.0261498152799398,0.0473392501580879,0.0140150196114324,0.0614220034962631,0.267909744836778,0.195620744598715,0.111969817643081,0.0652571972246894,0.0029719917094202,0.0709668108954998,0.0676137021856565,0.486812142121789,0.170824507356893,0.180448130473046,0.100661924996689,0.192830435305299,0.0518886358802466,0.277211350779649,0.0090945587007008,0.0005560169030211,0.0584868916746376,0.113031417093463,0.0072779882607384,0.0034629977685876,0.0110797189465151,0.139969659966009,0.0086092140807711,0.116642775088512,0.036501904951955,0.0064060596163605,0.0005603606066117,0.0338783759691781,0.133053694796514,0.24341257866183,0.169178858427196,0.107586896330995,0.0090492256959501,0.075871859758988,0.478480886180628,0.19257411877629,0.0020444618088033,0.0006342709008743,0.0395568154223621,0.434910903571125,0.145236482111547,0.357150299620085,0.208981410230661,0.259827124568546,0.0129530186906926,0.231960554056635,0.0504045506956615,0.0694355218784828,0.0836377180074802,0.042559228232689,0.307923264656125,0.0006063558221943,0.0031932041355975,0.0113598992019768,0.0468902892826423,0.107824818844628,0.261798369305318,0.0377782308088382,0.0256765705163436,0.22851504402018,0.000914586269613,0.300269182362417,0.0012592652134737,0.0345102236618038,0.28076550973969,0.122196920360368,0.0062218862490483,0.13690829043335,0.217793162310076,0.365210341017778,0.323748201910478,0.237397721117879,0.0001835631019443,0.0003254382162473],\"xbins\":{\"end\":1,\"start\":0},\"type\":\"histogram\"},{\"name\":\"Top 3 peaks (211)\",\"nbinsx\":10,\"x\":[0.326825237457499,0.0249296165668705,0.0189335240356281,0.0022058126465026,0.238593667187667,0.0152415422604625,0.0276154640085391,0.204471158394578,0.0591668723204273,0.0419780423447848,0.343383411200838,0.257718357341456,0.0035174519948691,0.0281007677529446,0.399739996308636,0.491578660982816,0.00171848815656,0.159754031839499,0.398511903584579,0.232724603098829,0.114806819846579,0.0016468123363474,0.277893580786571,0.027324481831123,0.439562640229324,0.297215197296914,0.27425272704877,0.39663070307781,0.176207024991514,0.0585246738086586,0.008505385498861,0.0181775423924738,0.380549774193076,0.252283021076601,0.138920825980948,0.318027025851213,0.0610365089648734,0.192738741078996,0.276620257734531,0.0766143943050255,0.0828917749077474,0.0052362534577736,0.215239786313596,0.277760330635432,0.0353478689629864,0.103140528865242,0.0043897630977587,0.142743860466057,0.222600538374743,0.419070889998638,0.153727323706866,0.279092397715855,0.0640864541744411,0.258717580577466,0.149620402210895,0.297725262768602,0.0406471754720518,0.426693623240851,0.102912916501197,0.189971971828903,0.0123445460114914,0.212926885815109,0.373039681618367,0.0115337055168785,0.265655540433131,0.0525463843901889,0.0052675365991947,0.005713834133695,0.107779773733526,0.0753840446703302,0.0517758439677291,0.442344400253545,0.272599485491395,0.0008643419972032,0.0133376260955271,0.23354300782779,0.421031770836459,0.0662501980963223,0.0758602496623223,0.328283305306783,0.165137436094444,0.0445380400403051,0.0011315907965004,0.0012711140251973,0.0484539973009175,0.0258775640625084,0.0254981992710242,0.0575765497704939,0.0539266620959968,0.193882460676344,0.003869342354695,0.0006629926782379,0.305713759340225,0.0209364054990751,0.275798588047909,0.016331445540439,0.322916576887725,0.152065770897738,0.0034735263416996,0.0229175083980108,0.119115204846153,0.545069055807463,0.361559614408479,0.019069817301703,0.0664067699493804,0.361633799675155,0.090855077190243,0.262202829446205,0.021180239737157,0.0193193592225416,0.0617730901116721,0.481102932434084,0.0054315210719916,0.317705916368825,0.501607802772848,0.147123763332496,0.0028096733738863,0.379246156178834,0.0010167934279514,0.0006257581660278,0.0010605842640013,0.0136421246850335,0.0496412100526467,0.0006774622853615,0.0167113954208801,0.0135322774669835,0.0868251799742241,0.221190132551593,0.273230886512328,0.0180795687271533,0.0072439821443506,0.197448751769449,0.095001445656439,0.0525723781861896,0.0414309895288781,0.0514808267183159,0.0091839240698448,0.0274686573952542,0.0225830221069972,0.0232578632391882,0.0132384452388575,0.0130448980933051,0.0154352944661854,0.0070677213208112,0.0280575811365346,0.0203990455253583,0.0223376886574503,0.275348625975107,0.21571777386147,0.216598007176524,0.0250456368192855,0.0022614599992744,0.107548526400446,0.0580455002938595,0.593163450598013,0.229292594858696,0.239385165501949,0.172237827919178,0.0071557111248343,0.0602844476825367,0.208948939120663,0.0110486666734458,0.131152987696268,0.0072779882607384,0.0041977492810912,0.0012116048469452,0.132279158043839,0.0017843011419122,0.108881927435354,0.0514768106696083,0.0064060596163605,0.0174841632724616,0.090268102046579,0.25862202890341,0.197922613971406,0.056783249892068,0.0096675899808696,0.0927015925960465,0.549215762709661,0.215636165758713,0.346136719978574,0.157800741101859,0.266849513955819,0.236011054914886,0.28054114590149,0.0155855911946611,0.0374090872491891,0.0694170934794756,0.0444259496298593,0.025609746919178,0.0698598250824092,0.333224434142918,0.00111807999697,0.0031932041355975,0.0035751290987873,0.0877707675407191,0.0408718675754761,0.224658877298392,0.0259693747790061,0.0203827239410352,0.248405233298513,0.364790433882766,0.0016491170551083,0.28076550973969,0.122196920360368,0.0062218862490483,0.13690829043335,0.217793162310076,0.365210341017778,0.323748201910478,0.142352758779436],\"xbins\":{\"end\":1,\"start\":0},\"type\":\"histogram\"},{\"name\":\"Top 5 peaks (229)\",\"nbinsx\":10,\"x\":[0.0052606213013021,0.272361912864841,0.0457077584535173,0.0149944196085064,0.0015783607895314,0.267905821066631,0.0152415422604625,0.0648197141290369,0.201683864364502,0.207324257776341,0.0419780423447848,0.301428729280874,0.279100109905966,0.0025290350071701,0.0248443842153615,0.372918718248176,0.0390067514606116,0.0309040293081289,0.443056884282767,0.0052239026876404,0.125170503028238,0.411053691919116,0.0084239729077195,0.163502144257617,0.118729020818678,0.0013002362020941,0.269007905001916,0.136005788146025,0.378941337344311,0.338448133381367,0.386187613363933,0.416234069992909,0.189496082882533,0.0132149514525295,0.0105104644980054,0.0444110995480162,0.0170346707676763,0.0112710454563951,0.0231801186075024,0.445524223963095,0.203508544367987,0.0290135110040614,0.111563360022253,0.304889478621351,0.0749297729659512,0.366019516694467,0.355650763389265,0.0509126428421001,0.080482481937762,0.0044015570556564,0.238795016839577,0.3454285878063,0.043833277910888,0.103140528865242,0.0078363434247664,0.15198705121304,0.236349417540264,0.330339930784202,0.0014189554046701,0.184941582495687,0.267119038226627,0.0640864541744411,0.274183604642396,0.173758608554526,0.342453765504495,0.0392509727647561,0.507029785977849,0.0808143286480448,0.261628502305333,0.0157437003498112,0.301662261801799,0.291967849365544,0.0230114202638505,0.330685356253773,0.0501349079653982,0.0038590780180564,0.0041860424296879,0.206338845983836,0.115084986289448,0.167655738825579,0.0037390456166022,0.40670323301005,0.313486510115716,0.0877087517459552,0.111389502346782,0.0090178367537323,0.328306976152904,0.423561863889377,0.0570008069748592,0.0654741927718264,0.275993885605959,0.208504732574689,0.0823272453294115,0.0011315907965004,0.0189989312773158,0.0559953164355131,0.0427980807336017,0.0410848526157135,0.0623916301614166,0.0539266620959968,0.292222779878579,0.0031142594981776,0.0004713019229237,0.414161306564456,0.0166306873282479,0.413828109889027,0.0486712343822818,0.376146376904842,0.164838270023949,0.0056663442181039,0.0443441559868207,0.0199468800533522,0.111984591038549,0.499384081863569,0.402094288732722,0.0163227601938836,0.218260488537203,0.360224545666779,0.0764445712591236,0.207885675500293,0.0150687450215079,0.0195910201534488,0.102835252014867,0.457213950246607,0.0483359615553198,0.355243930837437,0.396211551072327,0.147123763332496,0.0158990134697123,0.379246156178834,0.0030872372615074,0.0033522890900655,0.0008652672696412,0.0108763084189912,0.0372552062695869,0.0005429234007633,0.0269635019543487,0.0105978272861001,0.0824730258961513,0.203967769430042,0.254144450344462,0.0133496506493992,0.0052161129415949,0.197448751769449,0.0164392313871944,0.0718678599596194,0.0496576141625446,0.0297674017400478,0.0479070622558215,0.0091839240698448,0.0346229285457812,0.0454348393057788,0.045718257635038,0.0250321137719643,0.0144518758284866,0.0174881858735746,0.005325959121325,0.0310489727321612,0.0370337971842923,0.0059266640900821,0.0409713888240303,0.21984306239902,0.15961172917025,0.152355694046433,0.0741832692204043,0.001923368305923,0.0927341037055124,0.0674261748520306,0.486812142121789,0.187008206909305,0.206814133466163,0.142096975757598,0.201184603121827,0.0518886358802466,0.277211350779649,0.0090945587007008,0.113031417093463,0.0072779882607384,0.0034629977685876,0.011858598117988,0.110167303515106,0.0013782649844725,0.0825333133830793,0.0378203165299267,0.0064060596163605,0.0005603606066117,0.0435162865503314,0.133053694796514,0.24341257866183,0.18858458028283,0.102797506853917,0.0090492256959501,0.0801793507796602,0.478480886180628,0.219019152493355,0.0010935750889606,0.0324784550490225,0.448892172916765,0.190533355574254,0.322257607930235,0.197501840576915,0.290804396083767,0.0129277737473605,0.131556119166435,0.0528400240910193,0.0656469373529963,0.0998346802233409,0.0572045301510697,0.348946269976437,0.0008738067555778,0.0031932041355975,0.013417196785314,0.0705425700249428,0.0483342846039173,0.261798369305318,0.0276303752544908,0.016816366904224,0.22851504402018,0.0014800902837428,0.343893059555948,0.0013960128270487,0.28076550973969,0.122196920360368,0.0062218862490483,0.13690829043335,0.217793162310076,0.365210341017778,0.323748201910478,0.279798174967077],\"xbins\":{\"end\":1,\"start\":0},\"type\":\"histogram\"},{\"name\":\"Top 10 peaks (240)\",\"nbinsx\":10,\"x\":[0.0151384451627871,0.0102339127390992,0.251510943967488,0.041374266260442,0.0149944196085064,0.0645487072083161,0.229551229692131,0.0152415422604625,0.0566875885231816,0.201159858397047,0.160887788510098,0.0419780423447848,0.347847971453868,0.298469101208636,0.0022395724405535,0.0330000657458018,0.536463528404581,0.0789290547254318,0.0617979704110392,0.457848253699802,0.0052239026876404,0.100542753160883,0.504389926612675,0.0140171646180106,0.116077098706839,0.108577236225002,0.0249137725997619,0.275326543093647,0.097348728384745,0.373717565909411,0.478489779953466,0.532989622768954,0.491287227107687,0.264347523061581,0.046739626809636,0.0386668658371137,0.0039699608262114,0.080013380800668,0.016367097005556,0.0112710454563951,0.0165193773843557,0.548102770483425,0.242747349555228,0.0427206710907907,0.118156622433298,0.275503301589113,0.0999749808086408,0.34190880011334,0.479914553172336,0.0831997341399229,0.0781114539723864,0.0035420354124329,0.297222589419397,0.544341513221196,0.0603694132376349,0.103140528865242,0.014311269200083,0.15198705121304,0.346764061676282,0.490997194148141,0.0116931215583679,0.328984485681633,0.267119038226627,0.0640864541744411,0.363455528394761,0.146684151466486,0.477794472348066,0.0457981585712789,0.507029785977849,0.117977023423274,0.440268036166085,0.0232723849024127,0.262934802548877,0.272991721619991,0.0381774840759795,0.0098089614768731,0.498695958787318,0.0501349079653982,0.002776186638247,0.0030114019478382,0.257675911464507,0.115084986289448,0.155128826603015,0.0037390456166022,0.363801378697789,0.374555298746612,0.189281268266303,0.197494162863218,0.026909437561712,0.541548637282832,0.536830831233385,0.133564480469034,0.13906930183971,0.216632104129426,0.223709569476235,0.0688695365542333,0.0011315907965004,0.0535131548169789,0.0561731770091618,0.0368421811729571,0.0353673706294019,0.0893633329800127,0.0539266620959968,0.349026248942621,0.0049722699590877,0.0033511188310616,0.376418361783619,0.0179055484836849,0.0265409887104036,0.397073447309018,0.0537386172638468,0.314755437320171,0.147535797240959,0.0043085055290532,0.0518433922962958,0.0199468800533522,0.186753163856185,0.499384081863569,0.423598207430909,0.0163227601938836,0.317997725163404,0.350597949400808,0.0868388765101962,0.228094283466572,0.0146041125576712,0.0142349444391604,0.0868189591704307,0.457213950246607,0.0483359615553198,0.352267066331952,0.452073847803103,0.008935757515818,0.147123763332496,0.0606800506836737,0.379246156178834,0.0030872372615074,0.0008244461091402,0.0025210146425718,0.0008652672696412,0.0122348395136453,0.0357811900001827,0.0061509551067341,0.0232572424689558,0.0564004549427863,0.138502434070248,0.203967769430042,0.272956797840121,0.109139602599504,0.0058865840233192,0.197448751769449,0.0164392313871944,0.0657242502647367,0.0467924318557668,0.0306558349338778,0.0479070622558215,0.0091839240698448,0.0443965342341234,0.0641986573255321,0.065755985610667,0.0361298633837548,0.0472762884711011,0.0702593409449207,0.0125641831743707,0.0287231144809443,0.0534791914555942,0.0140150196114324,0.062515694035912,0.267909744836778,0.195620744598715,0.133724858633941,0.0652571972246894,0.0029719917094202,0.0709668108954998,0.0612526706789852,0.486812142121789,0.186484977562486,0.187174771329276,0.111287724775463,0.192830435305299,0.0518886358802466,0.277211350779649,0.0090945587007008,0.0005560169030211,0.0187854264292013,0.113031417093463,0.0072779882607384,0.0034629977685876,0.0110797189465151,0.139969659966009,0.0097721000423198,0.116642775088512,0.036501904951955,0.0064060596163605,0.0005603606066117,0.0338783759691781,0.133053694796514,0.24341257866183,0.169178858427196,0.110689969097876,0.0090492256959501,0.075871859758988,0.478480886180628,0.19257411877629,0.0020444618088033,0.0007929560172442,0.0417660536296314,0.434910903571125,0.163142356656214,0.357150299620085,0.208981410230661,0.259827124568546,0.0129530186906926,0.13431286923608,0.0481677649979225,0.0694355218784828,0.0959218589116504,0.042559228232689,0.307923264656125,0.0006467803085937,0.0031932041355975,0.0113598992019768,0.0518234883770961,0.0935262875536002,0.261798369305318,0.0377782308088382,0.0256765705163436,0.22851504402018,0.0010625213844153,0.300269182362417,0.0012592652134737,0.0345102236618038,0.28076550973969,0.122196920360368,0.0062218862490483,0.13690829043335,0.217793162310076,0.365210341017778,0.323748201910478,0.237397721117879,0.0002131864418562],\"xbins\":{\"end\":1,\"start\":0},\"type\":\"histogram\"},{\"name\":\"Top 20 peaks (244)\",\"nbinsx\":10,\"x\":[0.0278137474542427,0.0253676066414482,0.0013942301835936,0.0064086900363674,0.251510943967488,0.041374266260442,0.0149944196085064,0.0481292123445041,0.24857505497005,0.0152415422604625,0.0566875885231816,0.201159858397047,0.160887788510098,0.0419780423447848,0.375458215619226,0.27731631453082,0.0022395724405535,0.0330000657458018,0.532380325023442,0.184325460162006,0.144550206744009,0.44384173600428,0.0052239026876404,0.100542753160883,0.521700675181468,0.0140171646180106,0.16464695752393,0.108577236225002,0.0249137725997619,0.275326543093647,0.0008266178462279,0.0872428309285268,0.373717565909411,0.52629370866701,0.497851910484724,0.509033299449711,0.292406058175381,0.0983621631878292,0.0794975815281698,0.0038310725557305,0.080013380800668,0.0198466802647617,0.0112710454563951,0.0141763415753563,0.537951782458285,0.242747349555228,0.0919101875492114,0.118156622433298,0.275503301589113,0.0999749808086408,0.34190880011334,0.535952994346639,0.0630984785072259,0.0781114539723864,0.0035420354124329,0.351106311996639,0.526425762394902,0.0603694132376349,0.103140528865242,0.0146280056424154,0.15198705121304,0.419144248206012,0.485799604109542,0.0516167842030731,0.319377045064832,0.267119038226627,0.0640864541744411,0.363455528394761,0.134091973522488,0.506323508239779,0.0634200993643346,0.507029785977849,0.113350504252465,0.494704176285473,0.0232723849024127,0.254621440673486,0.272991721619991,0.0440422511375586,0.0094877624231246,0.526779888284668,0.0501349079653982,0.00229357032418,0.0024878954630012,0.243946164904415,0.115084986289448,0.181367320876633,0.0037390456166022,0.437284859349017,0.382835855614369,0.17458510600309,0.184368055487216,0.0329612874507041,0.541548637282832,0.542218463051335,0.124293039868466,0.129415741500602,0.249335970436787,0.232583702316948,0.0688695365542333,0.0011315907965004,0.0715901666219236,0.056193276218985,0.0368421811729571,0.0353673706294019,0.0893633329800127,0.0539266620959968,0.504027576256421,0.0049722699590877,0.016439149442278,0.346147842254255,0.0255193047311593,0.0265409887104036,0.386890993774246,0.0537386172638468,0.314755437320171,0.14841155294622,0.007028826687145,0.0518433922962958,0.0199468800533522,0.186753163856185,0.499384081863569,0.431117230916666,0.0163227601938836,0.32805613650253,0.350597949400808,0.0868388765101962,0.228094283466572,0.016521666297881,0.0159560330039485,0.109541052777143,0.457213950246607,0.0483359615553198,0.352267066331952,0.452073847803103,0.008935757515818,0.147123763332496,0.0606800506836737,0.379246156178834,0.0030872372615074,0.0007612141331404,0.0024577721566416,0.0008652672696412,0.0117799769524648,0.0357811900001827,0.014825557324349,0.0232572424689558,0.0564004549427863,0.13165973607008,0.203967769430042,0.272956797840121,0.0936893624307006,0.0433304405004972,0.197448751769449,0.0164392313871944,0.0657242502647367,0.0837507435177528,0.0617299202989973,0.0479070622558215,0.0091839240698448,0.0503370314468139,0.0616616233877825,0.0595815614368816,0.0327373037589466,0.0510914444528576,0.0714403057431412,0.0110917502648633,0.0261498152799398,0.0473392501580879,0.0140150196114324,0.0614220034962631,0.267909744836778,0.195620744598715,0.111969817643081,0.0652571972246894,0.0029719917094202,0.0709668108954998,0.0676137021856565,0.486812142121789,0.170824507356893,0.180448130473046,0.100661924996689,0.192830435305299,0.0518886358802466,0.277211350779649,0.0090945587007008,0.0005560169030211,0.0395473422440342,0.113031417093463,0.0072779882607384,0.0034629977685876,0.0110797189465151,0.139969659966009,0.0086092140807711,0.116642775088512,0.036501904951955,0.0064060596163605,0.0005603606066117,0.0338783759691781,0.133053694796514,0.24341257866183,0.169178858427196,0.107586896330995,0.0090492256959501,0.075871859758988,0.478480886180628,0.19257411877629,0.0020444618088033,0.0006342709008743,0.0395568154223621,0.434910903571125,0.145236482111547,0.357150299620085,0.208981410230661,0.259827124568546,0.0129530186906926,0.19461583729515,0.0504045506956615,0.0694355218784828,0.0836377180074802,0.042559228232689,0.307923264656125,0.0006063558221943,0.0031932041355975,0.0113598992019768,0.0468902892826423,0.107824818844628,0.261798369305318,0.0377782308088382,0.0256765705163436,0.22851504402018,0.000914586269613,0.300269182362417,0.0012592652134737,0.0345102236618038,0.28076550973969,0.122196920360368,0.0062218862490483,0.13690829043335,0.217793162310076,0.365210341017778,0.323748201910478,0.237397721117879,0.0001062323639017,0.0001474373125846],\"xbins\":{\"end\":1,\"start\":0},\"type\":\"histogram\"}],                        {\"font\":{\"size\":17},\"legend\":{\"x\":0.81,\"y\":1.0},\"title\":{\"text\":\"MatchSpectra: filter -> 10%I | match -> 5ppm & normalized\"},\"xaxis\":{\"dtick\":0.1,\"range\":[0,1],\"tickfont\":{\"size\":15},\"title\":{\"text\":\"Score\"}},\"yaxis\":{\"range\":[0,140],\"tickfont\":{\"size\":15},\"title\":{\"text\":\"Frequency\"}},\"template\":{\"data\":{\"histogram2dcontour\":[{\"type\":\"histogram2dcontour\",\"colorbar\":{\"outlinewidth\":0,\"ticks\":\"\"},\"colorscale\":[[0.0,\"#0d0887\"],[0.1111111111111111,\"#46039f\"],[0.2222222222222222,\"#7201a8\"],[0.3333333333333333,\"#9c179e\"],[0.4444444444444444,\"#bd3786\"],[0.5555555555555556,\"#d8576b\"],[0.6666666666666666,\"#ed7953\"],[0.7777777777777778,\"#fb9f3a\"],[0.8888888888888888,\"#fdca26\"],[1.0,\"#f0f921\"]]}],\"choropleth\":[{\"type\":\"choropleth\",\"colorbar\":{\"outlinewidth\":0,\"ticks\":\"\"}}],\"histogram2d\":[{\"type\":\"histogram2d\",\"colorbar\":{\"outlinewidth\":0,\"ticks\":\"\"},\"colorscale\":[[0.0,\"#0d0887\"],[0.1111111111111111,\"#46039f\"],[0.2222222222222222,\"#7201a8\"],[0.3333333333333333,\"#9c179e\"],[0.4444444444444444,\"#bd3786\"],[0.5555555555555556,\"#d8576b\"],[0.6666666666666666,\"#ed7953\"],[0.7777777777777778,\"#fb9f3a\"],[0.8888888888888888,\"#fdca26\"],[1.0,\"#f0f921\"]]}],\"heatmap\":[{\"type\":\"heatmap\",\"colorbar\":{\"outlinewidth\":0,\"ticks\":\"\"},\"colorscale\":[[0.0,\"#0d0887\"],[0.1111111111111111,\"#46039f\"],[0.2222222222222222,\"#7201a8\"],[0.3333333333333333,\"#9c179e\"],[0.4444444444444444,\"#bd3786\"],[0.5555555555555556,\"#d8576b\"],[0.6666666666666666,\"#ed7953\"],[0.7777777777777778,\"#fb9f3a\"],[0.8888888888888888,\"#fdca26\"],[1.0,\"#f0f921\"]]}],\"heatmapgl\":[{\"type\":\"heatmapgl\",\"colorbar\":{\"outlinewidth\":0,\"ticks\":\"\"},\"colorscale\":[[0.0,\"#0d0887\"],[0.1111111111111111,\"#46039f\"],[0.2222222222222222,\"#7201a8\"],[0.3333333333333333,\"#9c179e\"],[0.4444444444444444,\"#bd3786\"],[0.5555555555555556,\"#d8576b\"],[0.6666666666666666,\"#ed7953\"],[0.7777777777777778,\"#fb9f3a\"],[0.8888888888888888,\"#fdca26\"],[1.0,\"#f0f921\"]]}],\"contourcarpet\":[{\"type\":\"contourcarpet\",\"colorbar\":{\"outlinewidth\":0,\"ticks\":\"\"}}],\"contour\":[{\"type\":\"contour\",\"colorbar\":{\"outlinewidth\":0,\"ticks\":\"\"},\"colorscale\":[[0.0,\"#0d0887\"],[0.1111111111111111,\"#46039f\"],[0.2222222222222222,\"#7201a8\"],[0.3333333333333333,\"#9c179e\"],[0.4444444444444444,\"#bd3786\"],[0.5555555555555556,\"#d8576b\"],[0.6666666666666666,\"#ed7953\"],[0.7777777777777778,\"#fb9f3a\"],[0.8888888888888888,\"#fdca26\"],[1.0,\"#f0f921\"]]}],\"surface\":[{\"type\":\"surface\",\"colorbar\":{\"outlinewidth\":0,\"ticks\":\"\"},\"colorscale\":[[0.0,\"#0d0887\"],[0.1111111111111111,\"#46039f\"],[0.2222222222222222,\"#7201a8\"],[0.3333333333333333,\"#9c179e\"],[0.4444444444444444,\"#bd3786\"],[0.5555555555555556,\"#d8576b\"],[0.6666666666666666,\"#ed7953\"],[0.7777777777777778,\"#fb9f3a\"],[0.8888888888888888,\"#fdca26\"],[1.0,\"#f0f921\"]]}],\"mesh3d\":[{\"type\":\"mesh3d\",\"colorbar\":{\"outlinewidth\":0,\"ticks\":\"\"}}],\"scatter\":[{\"fillpattern\":{\"fillmode\":\"overlay\",\"size\":10,\"solidity\":0.2},\"type\":\"scatter\"}],\"parcoords\":[{\"type\":\"parcoords\",\"line\":{\"colorbar\":{\"outlinewidth\":0,\"ticks\":\"\"}}}],\"scatterpolargl\":[{\"type\":\"scatterpolargl\",\"marker\":{\"colorbar\":{\"outlinewidth\":0,\"ticks\":\"\"}}}],\"bar\":[{\"error_x\":{\"color\":\"#2a3f5f\"},\"error_y\":{\"color\":\"#2a3f5f\"},\"marker\":{\"line\":{\"color\":\"#E5ECF6\",\"width\":0.5},\"pattern\":{\"fillmode\":\"overlay\",\"size\":10,\"solidity\":0.2}},\"type\":\"bar\"}],\"scattergeo\":[{\"type\":\"scattergeo\",\"marker\":{\"colorbar\":{\"outlinewidth\":0,\"ticks\":\"\"}}}],\"scatterpolar\":[{\"type\":\"scatterpolar\",\"marker\":{\"colorbar\":{\"outlinewidth\":0,\"ticks\":\"\"}}}],\"histogram\":[{\"marker\":{\"pattern\":{\"fillmode\":\"overlay\",\"size\":10,\"solidity\":0.2}},\"type\":\"histogram\"}],\"scattergl\":[{\"type\":\"scattergl\",\"marker\":{\"colorbar\":{\"outlinewidth\":0,\"ticks\":\"\"}}}],\"scatter3d\":[{\"type\":\"scatter3d\",\"line\":{\"colorbar\":{\"outlinewidth\":0,\"ticks\":\"\"}},\"marker\":{\"colorbar\":{\"outlinewidth\":0,\"ticks\":\"\"}}}],\"scattermapbox\":[{\"type\":\"scattermapbox\",\"marker\":{\"colorbar\":{\"outlinewidth\":0,\"ticks\":\"\"}}}],\"scatterternary\":[{\"type\":\"scatterternary\",\"marker\":{\"colorbar\":{\"outlinewidth\":0,\"ticks\":\"\"}}}],\"scattercarpet\":[{\"type\":\"scattercarpet\",\"marker\":{\"colorbar\":{\"outlinewidth\":0,\"ticks\":\"\"}}}],\"carpet\":[{\"aaxis\":{\"endlinecolor\":\"#2a3f5f\",\"gridcolor\":\"white\",\"linecolor\":\"white\",\"minorgridcolor\":\"white\",\"startlinecolor\":\"#2a3f5f\"},\"baxis\":{\"endlinecolor\":\"#2a3f5f\",\"gridcolor\":\"white\",\"linecolor\":\"white\",\"minorgridcolor\":\"white\",\"startlinecolor\":\"#2a3f5f\"},\"type\":\"carpet\"}],\"table\":[{\"cells\":{\"fill\":{\"color\":\"#EBF0F8\"},\"line\":{\"color\":\"white\"}},\"header\":{\"fill\":{\"color\":\"#C8D4E3\"},\"line\":{\"color\":\"white\"}},\"type\":\"table\"}],\"barpolar\":[{\"marker\":{\"line\":{\"color\":\"#E5ECF6\",\"width\":0.5},\"pattern\":{\"fillmode\":\"overlay\",\"size\":10,\"solidity\":0.2}},\"type\":\"barpolar\"}],\"pie\":[{\"automargin\":true,\"type\":\"pie\"}]},\"layout\":{\"autotypenumbers\":\"strict\",\"colorway\":[\"#636efa\",\"#EF553B\",\"#00cc96\",\"#ab63fa\",\"#FFA15A\",\"#19d3f3\",\"#FF6692\",\"#B6E880\",\"#FF97FF\",\"#FECB52\"],\"font\":{\"color\":\"#2a3f5f\"},\"hovermode\":\"closest\",\"hoverlabel\":{\"align\":\"left\"},\"paper_bgcolor\":\"white\",\"plot_bgcolor\":\"#E5ECF6\",\"polar\":{\"bgcolor\":\"#E5ECF6\",\"angularaxis\":{\"gridcolor\":\"white\",\"linecolor\":\"white\",\"ticks\":\"\"},\"radialaxis\":{\"gridcolor\":\"white\",\"linecolor\":\"white\",\"ticks\":\"\"}},\"ternary\":{\"bgcolor\":\"#E5ECF6\",\"aaxis\":{\"gridcolor\":\"white\",\"linecolor\":\"white\",\"ticks\":\"\"},\"baxis\":{\"gridcolor\":\"white\",\"linecolor\":\"white\",\"ticks\":\"\"},\"caxis\":{\"gridcolor\":\"white\",\"linecolor\":\"white\",\"ticks\":\"\"}},\"coloraxis\":{\"colorbar\":{\"outlinewidth\":0,\"ticks\":\"\"}},\"colorscale\":{\"sequential\":[[0.0,\"#0d0887\"],[0.1111111111111111,\"#46039f\"],[0.2222222222222222,\"#7201a8\"],[0.3333333333333333,\"#9c179e\"],[0.4444444444444444,\"#bd3786\"],[0.5555555555555556,\"#d8576b\"],[0.6666666666666666,\"#ed7953\"],[0.7777777777777778,\"#fb9f3a\"],[0.8888888888888888,\"#fdca26\"],[1.0,\"#f0f921\"]],\"sequentialminus\":[[0.0,\"#0d0887\"],[0.1111111111111111,\"#46039f\"],[0.2222222222222222,\"#7201a8\"],[0.3333333333333333,\"#9c179e\"],[0.4444444444444444,\"#bd3786\"],[0.5555555555555556,\"#d8576b\"],[0.6666666666666666,\"#ed7953\"],[0.7777777777777778,\"#fb9f3a\"],[0.8888888888888888,\"#fdca26\"],[1.0,\"#f0f921\"]],\"diverging\":[[0,\"#8e0152\"],[0.1,\"#c51b7d\"],[0.2,\"#de77ae\"],[0.3,\"#f1b6da\"],[0.4,\"#fde0ef\"],[0.5,\"#f7f7f7\"],[0.6,\"#e6f5d0\"],[0.7,\"#b8e186\"],[0.8,\"#7fbc41\"],[0.9,\"#4d9221\"],[1,\"#276419\"]]},\"xaxis\":{\"gridcolor\":\"white\",\"linecolor\":\"white\",\"ticks\":\"\",\"title\":{\"standoff\":15},\"zerolinecolor\":\"white\",\"automargin\":true,\"zerolinewidth\":2},\"yaxis\":{\"gridcolor\":\"white\",\"linecolor\":\"white\",\"ticks\":\"\",\"title\":{\"standoff\":15},\"zerolinecolor\":\"white\",\"automargin\":true,\"zerolinewidth\":2},\"scene\":{\"xaxis\":{\"backgroundcolor\":\"#E5ECF6\",\"gridcolor\":\"white\",\"linecolor\":\"white\",\"showbackground\":true,\"ticks\":\"\",\"zerolinecolor\":\"white\",\"gridwidth\":2},\"yaxis\":{\"backgroundcolor\":\"#E5ECF6\",\"gridcolor\":\"white\",\"linecolor\":\"white\",\"showbackground\":true,\"ticks\":\"\",\"zerolinecolor\":\"white\",\"gridwidth\":2},\"zaxis\":{\"backgroundcolor\":\"#E5ECF6\",\"gridcolor\":\"white\",\"linecolor\":\"white\",\"showbackground\":true,\"ticks\":\"\",\"zerolinecolor\":\"white\",\"gridwidth\":2}},\"shapedefaults\":{\"line\":{\"color\":\"#2a3f5f\"}},\"annotationdefaults\":{\"arrowcolor\":\"#2a3f5f\",\"arrowhead\":0,\"arrowwidth\":1},\"geo\":{\"bgcolor\":\"white\",\"landcolor\":\"#E5ECF6\",\"subunitcolor\":\"white\",\"showland\":true,\"showlakes\":true,\"lakecolor\":\"white\"},\"title\":{\"x\":0.05},\"mapbox\":{\"style\":\"light\"}}}},                        {\"responsive\": true}                    ).then(function(){\n",
       "                            \n",
       "var gd = document.getElementById('92071091-5c53-45a2-a0fd-61d05d3dfaa9');\n",
       "var x = new MutationObserver(function (mutations, observer) {{\n",
       "        var display = window.getComputedStyle(gd).display;\n",
       "        if (!display || display === 'none') {{\n",
       "            console.log([gd, 'removed!']);\n",
       "            Plotly.purge(gd);\n",
       "            observer.disconnect();\n",
       "        }}\n",
       "}});\n",
       "\n",
       "// Listen for the removal of the full notebook cells\n",
       "var notebookContainer = gd.closest('#notebook-container');\n",
       "if (notebookContainer) {{\n",
       "    x.observe(notebookContainer, {childList: true});\n",
       "}}\n",
       "\n",
       "// Listen for the clearing of the current output cell\n",
       "var outputEl = gd.closest('.output');\n",
       "if (outputEl) {{\n",
       "    x.observe(outputEl, {childList: true});\n",
       "}}\n",
       "\n",
       "                        })                };                });            </script>        </div>"
      ]
     },
     "metadata": {},
     "output_type": "display_data"
    }
   ],
   "source": [
    "plot_histograms_sidebyside(same_query_ref10, same_query_ref5, same_query_ref6, same_query_ref7, same_query_ref8, 'score',  'Score', 'MatchSpectra: filter -> 10%I | match -> 5ppm & normalized')"
   ]
  },
  {
   "cell_type": "code",
   "execution_count": 76,
   "metadata": {},
   "outputs": [
    {
     "data": {
      "application/vnd.plotly.v1+json": {
       "config": {
        "plotlyServerURL": "https://plot.ly"
       },
       "data": [
        {
         "name": "All peaks (245)",
         "nbinsx": 10,
         "type": "histogram",
         "x": [
          0.109788669035941,
          0.119978013750247,
          0.0237952194494667,
          0.0344966558203657,
          0.0752032771683874,
          0.332126044346626,
          0.127867169114783,
          0.10186317999239,
          0.298020867396724,
          0.47342123212774,
          0.0152415422604625,
          0.0915150757287453,
          0.222288159973681,
          0.260326247263029,
          0.0458608413824598,
          0.541570072224609,
          0.389590865158082,
          0.0118285769851824,
          0.107426197479155,
          0.576641636831932,
          0.396468514143626,
          0.495156791537144,
          0.52181441792597,
          0.0182015416927514,
          0.621552883454563,
          0.544858221032438,
          0.0734185345255909,
          0.410991684748986,
          0.233310887678198,
          0.0710277674654164,
          0.30235120050728,
          0.0121110240111344,
          0.212725037435562,
          0.643981074511301,
          0.52629370866701,
          0.582827496118593,
          0.562518045469152,
          0.292406058175381,
          0.539143031776723,
          0.496445166780956,
          0.0386398820041336,
          0.172833391407618,
          0.0421352149375505,
          0.098327475662711,
          0.0461417693156192,
          0.60262980977545,
          0.316581819444085,
          0.270112988849665,
          0.187198450656773,
          0.578320128512338,
          0.105794746516793,
          0.473636066414445,
          0.587515670553152,
          0.441236752971935,
          0.172348030334002,
          0.0103376614328287,
          0.381531978703678,
          0.544341513221196,
          0.157946440164003,
          0.103140528865242,
          0.0489042307267218,
          0.177703622533828,
          0.480711682261217,
          0.630428409205408,
          0.282708651314787,
          0.350741696928382,
          0.322167554940337,
          0.110916473665765,
          0.508367538763244,
          0.301350626914379,
          0.506323508239779,
          0.159871459579024,
          0.604233572333416,
          0.311649693884898,
          0.547602904231763,
          0.0560883455798691,
          0.444812613563826,
          0.669362602717693,
          0.115829007743974,
          0.0911733430072681,
          0.526779888284668,
          0.179342066569164,
          0.0100172308664201,
          0.0108659512035293,
          0.280175918757254,
          0.325969105961737,
          0.292065800826042,
          0.0206584642596709,
          0.691358551717847,
          0.394888266230748,
          0.324439662859994,
          0.565769587330347,
          0.0770241864032032,
          0.541548637282832,
          0.60287442574783,
          0.4099192831992,
          0.4108870305664,
          0.45019626106336,
          0.251617228495334,
          0.21393611416348,
          0.0024650985882554,
          0.172316461395541,
          0.0902051337465525,
          0.0817473905989875,
          0.078475002544721,
          0.113961079306131,
          0.1057807931481,
          0.504027576256421,
          0.0119181546346856,
          0.0786652317116668,
          0.435645149292814,
          0.230656335830814,
          0.0714068852504958,
          0.469024380122234,
          0.247623902077482,
          0.570804752571838,
          0.208781078386455,
          0.0242961755643373,
          0.262941174976278,
          0.0345283513165492,
          0.258675996628085,
          0.62675642033606,
          0.477346878429493,
          0.0409211067060219,
          0.406936127688261,
          0.50096024407934,
          0.542012095319991,
          0.279081330899693,
          0.0482653238555973,
          0.0423828404236516,
          0.213000096585348,
          0.481102932434084,
          0.102799090463187,
          0.404987261111113,
          0.528159365928593,
          0.128488003014205,
          0.201071450398731,
          0.155108187323406,
          0.437003435537959,
          0.0114103376219277,
          0.0211083921974886,
          0.0107723158137929,
          0.0025226527485109,
          0.0682770786560723,
          0.0841538730055559,
          0.0746076810909668,
          0.0469760455920165,
          0.113948117661206,
          0.264807296640794,
          0.221190132551593,
          0.272956797840121,
          0.442388019087777,
          0.115958998284405,
          0.197448751769449,
          0.170235339301515,
          0.166725754058763,
          0.147925539019954,
          0.210980843665538,
          0.0950311840337438,
          0.0118254675583929,
          0.0946294316544837,
          0.182716270762482,
          0.190084523222112,
          0.104442626653702,
          0.166352487072768,
          0.186546537278466,
          0.0558375633814766,
          0.0850279871008082,
          0.173564472691512,
          0.0771945057720859,
          0.176712051427427,
          0.434003069013113,
          0.38217102070373,
          0.298632558627935,
          0.314371459769994,
          0.0159485574420782,
          0.142297696341113,
          0.13127733331299,
          0.593163450598013,
          0.275056950361727,
          0.350035930022784,
          0.240164348801019,
          0.270833735282796,
          0.369366023629674,
          0.291933904499048,
          0.0154026736204125,
          0.011631543385673,
          0.17047660296438,
          0.151942513141161,
          0.0141111450405429,
          0.0224410526618755,
          0.0166080115272623,
          0.180689816334412,
          0.0433621539682856,
          0.2019179897109,
          0.0514768106696083,
          0.0283448903725322,
          0.0063221776688946,
          0.0876993379174612,
          0.14670437728028,
          0.506837147186119,
          0.201102641767462,
          0.171204015287662,
          0.0884828109562657,
          0.122746978430695,
          0.549215762709661,
          0.245213137779854,
          0.0210334158861389,
          0.006323103009331,
          0.289133403993252,
          0.462783234855717,
          0.331451014140572,
          0.357150299620085,
          0.285671901118435,
          0.290804396083767,
          0.0314045572228879,
          0.376122871136995,
          0.0800266006497172,
          0.0926846625130377,
          0.14863891551943,
          0.471011515980097,
          0.36604942420137,
          0.0029024824127665,
          0.0046475650339672,
          0.0212198230427727,
          0.104559757747669,
          0.14900240064252,
          0.261798369305318,
          0.0533630877540858,
          0.042190236853958,
          0.248405233298513,
          0.0146965104834275,
          0.369897825301988,
          0.0046760395900459,
          0.482375117217008,
          0.28076550973969,
          0.143607903661748,
          0.006889960043543,
          0.175072447744746,
          0.217793162310076,
          0.365210341017778,
          0.323748201910478,
          0.279798174967077,
          0.0068337480025101,
          0.0050057562388156
         ],
         "xbins": {
          "end": 1,
          "start": 0
         }
        },
        {
         "name": "Top 3 peaks (211)",
         "nbinsx": 10,
         "type": "histogram",
         "x": [
          0.326825237457499,
          0.0795338597395544,
          0.10186317999239,
          0.0076762988386593,
          0.333654855347875,
          0.0152415422604625,
          0.0427757273829862,
          0.204471158394578,
          0.0795466348078505,
          0.0458608413824598,
          0.440200255305761,
          0.257718357341456,
          0.0118285769851824,
          0.0913476455222962,
          0.399739996308636,
          0.491578660982816,
          0.0068824906693399,
          0.621552883454563,
          0.398511903584579,
          0.332771035041225,
          0.227747188835519,
          0.00429878152165,
          0.277893580786571,
          0.0411315530368355,
          0.621313879052017,
          0.297215197296914,
          0.27425272704877,
          0.39663070307781,
          0.176207024991514,
          0.135857671945802,
          0.0144555100285543,
          0.0366774626233281,
          0.380549774193076,
          0.252283021076601,
          0.162858381049056,
          0.568664281204127,
          0.0610365089648734,
          0.225782470599442,
          0.276620257734531,
          0.230921236715728,
          0.148360735265721,
          0.0103376614328287,
          0.215239786313596,
          0.277760330635432,
          0.110041334761336,
          0.103140528865242,
          0.0154275869312517,
          0.170227602911965,
          0.222600538374743,
          0.419070889998638,
          0.153727323706866,
          0.313293798752896,
          0.110916473665765,
          0.321985838755167,
          0.254000375452073,
          0.297725262768602,
          0.100400467989864,
          0.475595361090613,
          0.179095428442881,
          0.189971971828903,
          0.0431304772971661,
          0.296016881606242,
          0.669362602717693,
          0.0334872457880994,
          0.265655540433131,
          0.179342066569164,
          0.0100172308664201,
          0.0108659512035293,
          0.107779773733526,
          0.257200293647848,
          0.0729166568391261,
          0.551872227847771,
          0.272599485491395,
          0.0032619870788809,
          0.0415496905168696,
          0.23354300782779,
          0.421031770836459,
          0.251261738762021,
          0.287708999833681,
          0.374962401664072,
          0.165137436094444,
          0.13086549858769,
          0.0024650985882554,
          0.005132717964995,
          0.0622200651838051,
          0.0453315338877905,
          0.0446669741224486,
          0.0575765497704939,
          0.1057807931481,
          0.193882460676344,
          0.0069435628937095,
          0.0027731650501326,
          0.305713759340225,
          0.0563608904601069,
          0.275798588047909,
          0.113458343223356,
          0.476581741611242,
          0.152065770897738,
          0.0134932787360214,
          0.0345283513165492,
          0.143828873509846,
          0.62675642033606,
          0.361559614408479,
          0.0409211067060219,
          0.0931947562572901,
          0.484423182833471,
          0.687170673206431,
          0.262202829446205,
          0.0307149601340746,
          0.028016365994915,
          0.093398378968893,
          0.481102932434084,
          0.0125100629763276,
          0.317705916368825,
          0.501607802772848,
          0.201071450398731,
          0.0148195310928857,
          0.437003435537959,
          0.0041241351278577,
          0.0024080364422466,
          0.0025226527485109,
          0.0589854690678666,
          0.0841538730055559,
          0.0029705936035888,
          0.0284026604999708,
          0.0231493639707484,
          0.144805833899722,
          0.221190132551593,
          0.273230886512328,
          0.0968097844976739,
          0.0112201723006082,
          0.197448751769449,
          0.16266136801645,
          0.0701958184183089,
          0.0936834152994462,
          0.0950311840337438,
          0.0118254675583929,
          0.0401628738613299,
          0.0655116755586484,
          0.0722673435680563,
          0.0411347878583883,
          0.0326669087260175,
          0.0350725020148432,
          0.0352022605172933,
          0.0865970507622262,
          0.0672321401113264,
          0.0612342762863103,
          0.361575027621649,
          0.317136260800573,
          0.298580028089068,
          0.153192172719658,
          0.0108338029765409,
          0.142297696341113,
          0.0869573803891138,
          0.593163450598013,
          0.229292594858696,
          0.335155467263058,
          0.240164348801019,
          0.0106249810969087,
          0.369366023629674,
          0.208948939120663,
          0.0154026736204125,
          0.157435026502332,
          0.0141111450405429,
          0.0224410526618755,
          0.0016055575994032,
          0.132279158043839,
          0.0083718839635916,
          0.137145978510623,
          0.0514768106696083,
          0.0283448903725322,
          0.0324943182181484,
          0.101213707851777,
          0.534625123381531,
          0.197922613971406,
          0.082506985361504,
          0.0884828109562657,
          0.122285766586157,
          0.549215762709661,
          0.215636165758713,
          0.346136719978574,
          0.250124834444247,
          0.266849513955819,
          0.274818986211873,
          0.28054114590149,
          0.0282446591184662,
          0.09556376385387,
          0.0694170934794756,
          0.0525520035535052,
          0.0291471961455192,
          0.471011515980097,
          0.333224434142918,
          0.0029024824127665,
          0.0046475650339672,
          0.0055024181988952,
          0.104559757747669,
          0.0473277021967883,
          0.224658877298392,
          0.0295464787614518,
          0.0246614404479807,
          0.248405233298513,
          0.364790433882766,
          0.0046760395900459,
          0.28076550973969,
          0.143607903661748,
          0.006889960043543,
          0.175072447744746,
          0.217793162310076,
          0.365210341017778,
          0.323748201910478,
          0.142352758779436
         ],
         "xbins": {
          "end": 1,
          "start": 0
         }
        },
        {
         "name": "Top 5 peaks (229)",
         "nbinsx": 10,
         "type": "histogram",
         "x": [
          0.0491877084868524,
          0.326825237457499,
          0.127867169114783,
          0.10186317999239,
          0.0076762988386593,
          0.391120887488184,
          0.0152415422604625,
          0.0915150757287453,
          0.213026288925008,
          0.260326247263029,
          0.0458608413824598,
          0.425355476904794,
          0.31553375835743,
          0.0118285769851824,
          0.0913476455222962,
          0.372918718248176,
          0.108637689683509,
          0.177263672377826,
          0.475625439432458,
          0.0182015416927514,
          0.621552883454563,
          0.411053691919116,
          0.0608864636207,
          0.332771035041225,
          0.24599233172282,
          0.00429878152165,
          0.297521064107619,
          0.212725037435562,
          0.621313879052017,
          0.338448133381367,
          0.386187613363933,
          0.416234069992909,
          0.189496082882533,
          0.0862207767958263,
          0.0685753872617916,
          0.135857671945802,
          0.0301524796982434,
          0.098327475662711,
          0.0461417693156192,
          0.445524223963095,
          0.252283021076601,
          0.139580219032363,
          0.162858381049056,
          0.564732568107141,
          0.0749297729659512,
          0.473636066414445,
          0.355650763389265,
          0.230921236715728,
          0.152225781771009,
          0.0103376614328287,
          0.255540853903279,
          0.3454285878063,
          0.123058894380672,
          0.103140528865242,
          0.024436980702607,
          0.177703622533828,
          0.254531009793184,
          0.419070889998638,
          0.0158985130309031,
          0.184941582495687,
          0.322167554940337,
          0.110916473665765,
          0.364621642764534,
          0.30781474380418,
          0.342453765504495,
          0.0927173536701049,
          0.604233572333416,
          0.179095428442881,
          0.261628502305333,
          0.0418773248736082,
          0.390504532275448,
          0.669362602717693,
          0.0650035005128077,
          0.330685356253773,
          0.179342066569164,
          0.0100172308664201,
          0.0108659512035293,
          0.206338845983836,
          0.325969105961737,
          0.21700390010533,
          0.0206584642596709,
          0.574924849224026,
          0.313486510115716,
          0.175491737985766,
          0.348676077402911,
          0.0415496905168696,
          0.328306976152904,
          0.458912104334941,
          0.179011992407659,
          0.193988514307215,
          0.374962401664072,
          0.208504732574689,
          0.21393611416348,
          0.0024650985882554,
          0.060157619649539,
          0.076969190154255,
          0.0817473905989875,
          0.078475002544721,
          0.0696807125316509,
          0.1057807931481,
          0.292222779878579,
          0.0069435628937095,
          0.0027731650501326,
          0.414161306564456,
          0.0563608904601069,
          0.413828109889027,
          0.220677304911148,
          0.570804752571838,
          0.195388437028458,
          0.0155566220836649,
          0.393329502312623,
          0.0345283513165492,
          0.149873135461577,
          0.62675642033606,
          0.402094288732722,
          0.0409211067060219,
          0.275089955925377,
          0.502868094130876,
          0.687170673206431,
          0.262202829446205,
          0.0307149601340746,
          0.0316057494193645,
          0.138398625318908,
          0.481102932434084,
          0.102799090463187,
          0.384559818556512,
          0.45573593928085,
          0.201071450398731,
          0.0437090725891356,
          0.437003435537959,
          0.0114103376219277,
          0.0107723158137929,
          0.0025226527485109,
          0.0589854690678666,
          0.0841538730055559,
          0.0029705936035888,
          0.0469760455920165,
          0.0231493639707484,
          0.140969979504996,
          0.221190132551593,
          0.254144450344462,
          0.0968097844976739,
          0.0112201723006082,
          0.197448751769449,
          0.170235339301515,
          0.16266136801645,
          0.069985489895605,
          0.0936834152994462,
          0.0950311840337438,
          0.0118254675583929,
          0.0528259656348944,
          0.11110740021911,
          0.116855765204881,
          0.0639820273307335,
          0.034570499121085,
          0.0383969539448733,
          0.0352022605172933,
          0.0820096045455235,
          0.100631161609668,
          0.0443885706466641,
          0.099359648693239,
          0.361575027621649,
          0.317136260800573,
          0.298580028089068,
          0.314371459769994,
          0.0108338029765409,
          0.142297696341113,
          0.109163279084477,
          0.593163450598013,
          0.229292594858696,
          0.335155467263058,
          0.240164348801019,
          0.270833735282796,
          0.369366023629674,
          0.291933904499048,
          0.0154026736204125,
          0.151942513141161,
          0.0141111450405429,
          0.0224410526618755,
          0.0166080115272623,
          0.126449784055596,
          0.0083718839635916,
          0.137145978510623,
          0.0514768106696083,
          0.0283448903725322,
          0.0063221776688946,
          0.0876993379174612,
          0.14670437728028,
          0.506837147186119,
          0.201102641767462,
          0.157374558734791,
          0.0884828109562657,
          0.122285766586157,
          0.549215762709661,
          0.245213137779854,
          0.006323103009331,
          0.219460590726117,
          0.448892172916765,
          0.323555358598391,
          0.322257607930235,
          0.274818986211873,
          0.290804396083767,
          0.0282446591184662,
          0.221157220686925,
          0.0694170934794756,
          0.0750806596672012,
          0.122994773262864,
          0.471011515980097,
          0.348946269976437,
          0.0029024824127665,
          0.0046475650339672,
          0.0212198230427727,
          0.104559757747669,
          0.0606031537255412,
          0.261798369305318,
          0.0338596726262322,
          0.0246614404479807,
          0.248405233298513,
          0.0146965104834275,
          0.369897825301988,
          0.0046760395900459,
          0.28076550973969,
          0.143607903661748,
          0.006889960043543,
          0.175072447744746,
          0.217793162310076,
          0.365210341017778,
          0.323748201910478,
          0.279798174967077
         ],
         "xbins": {
          "end": 1,
          "start": 0
         }
        },
        {
         "name": "Top 10 peaks (240)",
         "nbinsx": 10,
         "type": "histogram",
         "x": [
          0.0796647522742383,
          0.0562523884091108,
          0.332126044346626,
          0.127867169114783,
          0.10186317999239,
          0.298020867396724,
          0.397638583302715,
          0.0152415422604625,
          0.0915150757287453,
          0.222288159973681,
          0.260326247263029,
          0.0458608413824598,
          0.508737767591771,
          0.384016710463546,
          0.0118285769851824,
          0.107426197479155,
          0.561828055510294,
          0.176150504939243,
          0.231321824826592,
          0.52181441792597,
          0.0182015416927514,
          0.621552883454563,
          0.527504050498031,
          0.0734185345255909,
          0.332771035041225,
          0.233310887678198,
          0.0710277674654164,
          0.30235120050728,
          0.212725037435562,
          0.643981074511301,
          0.478489779953466,
          0.560632810474933,
          0.530970914860208,
          0.264347523061581,
          0.180890568696234,
          0.149647565211935,
          0.0386398820041336,
          0.172833391407618,
          0.0348011019856656,
          0.098327475662711,
          0.0461417693156192,
          0.578790366682908,
          0.316581819444085,
          0.170219067721028,
          0.187198450656773,
          0.578320128512338,
          0.105794746516793,
          0.473636066414445,
          0.519181095871316,
          0.376634002058248,
          0.172348030334002,
          0.0103376614328287,
          0.325626710703848,
          0.544341513221196,
          0.157946440164003,
          0.103140528865242,
          0.0400243938319621,
          0.177703622533828,
          0.384450885801341,
          0.62128460280771,
          0.0648920622238907,
          0.350741696928382,
          0.322167554940337,
          0.110916473665765,
          0.508367538763244,
          0.30587079639851,
          0.477794472348066,
          0.12381817586853,
          0.604233572333416,
          0.311649693884898,
          0.440268036166085,
          0.0560883455798691,
          0.399030852443011,
          0.669362602717693,
          0.10156798462975,
          0.0911733430072681,
          0.498695958787318,
          0.179342066569164,
          0.0100172308664201,
          0.0108659512035293,
          0.269267047205337,
          0.325969105961737,
          0.230267329529097,
          0.0206584642596709,
          0.57912152176288,
          0.387043015601183,
          0.324293413451623,
          0.571974518709417,
          0.0605069548123801,
          0.541548637282832,
          0.598873826475594,
          0.4099192831992,
          0.4108870305664,
          0.374962401664072,
          0.243040884912203,
          0.21393611416348,
          0.0024650985882554,
          0.130558199217431,
          0.0862055717347389,
          0.0817473905989875,
          0.078475002544721,
          0.113961079306131,
          0.1057807931481,
          0.349026248942621,
          0.0119181546346856,
          0.0157485387312169,
          0.435645149292814,
          0.167012967367557,
          0.0714068852504958,
          0.469024380122234,
          0.247623902077482,
          0.570804752571838,
          0.204410250721297,
          0.0155566220836649,
          0.262941174976278,
          0.0345283513165492,
          0.258675996628085,
          0.62675642033606,
          0.459362111206254,
          0.0409211067060219,
          0.391165941706275,
          0.50096024407934,
          0.542012095319991,
          0.279081330899693,
          0.0362258007203229,
          0.0316057494193645,
          0.1523470850586,
          0.481102932434084,
          0.102799090463187,
          0.404987261111113,
          0.528159365928593,
          0.128488003014205,
          0.201071450398731,
          0.155108187323406,
          0.437003435537959,
          0.0114103376219277,
          0.0211083921974886,
          0.0107723158137929,
          0.0025226527485109,
          0.0682770786560723,
          0.0841538730055559,
          0.0348375159767781,
          0.0469760455920165,
          0.113948117661206,
          0.264807296640794,
          0.221190132551593,
          0.272956797840121,
          0.455593003346387,
          0.0150584162974621,
          0.197448751769449,
          0.170235339301515,
          0.166725754058763,
          0.0764685802317849,
          0.101568911387947,
          0.0950311840337438,
          0.0118254675583929,
          0.0798104683589343,
          0.178056756698706,
          0.190084523222112,
          0.104442626653702,
          0.126589564328438,
          0.153423972564307,
          0.0558375633814766,
          0.0850279871008082,
          0.173564472691512,
          0.0771945057720859,
          0.170030079754313,
          0.434003069013113,
          0.38217102070373,
          0.298632558627935,
          0.314371459769994,
          0.0159485574420782,
          0.142297696341113,
          0.118262280378056,
          0.593163450598013,
          0.276103134433721,
          0.348327003866111,
          0.240164348801019,
          0.270833735282796,
          0.369366023629674,
          0.291933904499048,
          0.0154026736204125,
          0.011631543385673,
          0.0775820943661648,
          0.151942513141161,
          0.0141111450405429,
          0.0224410526618755,
          0.0166080115272623,
          0.180689816334412,
          0.0433621539682856,
          0.2019179897109,
          0.0514768106696083,
          0.0283448903725322,
          0.0063221776688946,
          0.0876993379174612,
          0.14670437728028,
          0.506837147186119,
          0.201102641767462,
          0.171204015287662,
          0.0884828109562657,
          0.122746978430695,
          0.549215762709661,
          0.245213137779854,
          0.0210334158861389,
          0.006323103009331,
          0.289133403993252,
          0.462783234855717,
          0.331451014140572,
          0.357150299620085,
          0.285671901118435,
          0.290804396083767,
          0.0314045572228879,
          0.222774257718422,
          0.0759975554308357,
          0.0926846625130377,
          0.14863891551943,
          0.471011515980097,
          0.36604942420137,
          0.0029024824127665,
          0.0046475650339672,
          0.0212198230427727,
          0.104559757747669,
          0.124996764092586,
          0.261798369305318,
          0.0533630877540858,
          0.042190236853958,
          0.248405233298513,
          0.0146965104834275,
          0.369897825301988,
          0.0046760395900459,
          0.482375117217008,
          0.28076550973969,
          0.143607903661748,
          0.006889960043543,
          0.175072447744746,
          0.217793162310076,
          0.365210341017778,
          0.323748201910478,
          0.279798174967077,
          0.0028676020740966
         ],
         "xbins": {
          "end": 1,
          "start": 0
         }
        },
        {
         "name": "Top 20 peaks (244)",
         "nbinsx": 10,
         "type": "histogram",
         "x": [
          0.109788669035941,
          0.103024662259649,
          0.0237952194494667,
          0.0522732946326571,
          0.332126044346626,
          0.127867169114783,
          0.10186317999239,
          0.298020867396724,
          0.47342123212774,
          0.0152415422604625,
          0.0915150757287453,
          0.222288159973681,
          0.260326247263029,
          0.0458608413824598,
          0.541570072224609,
          0.389590865158082,
          0.0118285769851824,
          0.107426197479155,
          0.576641636831932,
          0.396468514143626,
          0.495156791537144,
          0.52181441792597,
          0.0182015416927514,
          0.621552883454563,
          0.544858221032438,
          0.0734185345255909,
          0.410991684748986,
          0.233310887678198,
          0.0710277674654164,
          0.30235120050728,
          0.0121110240111344,
          0.212725037435562,
          0.643981074511301,
          0.52629370866701,
          0.582827496118593,
          0.562518045469152,
          0.292406058175381,
          0.401299518971354,
          0.361643262066688,
          0.0386398820041336,
          0.172833391407618,
          0.0421352149375505,
          0.098327475662711,
          0.0461417693156192,
          0.60262980977545,
          0.316581819444085,
          0.250129268943401,
          0.187198450656773,
          0.578320128512338,
          0.105794746516793,
          0.473636066414445,
          0.587515670553152,
          0.376634002058248,
          0.172348030334002,
          0.0103376614328287,
          0.381531978703678,
          0.544341513221196,
          0.157946440164003,
          0.103140528865242,
          0.0489042307267218,
          0.177703622533828,
          0.480711682261217,
          0.630428409205408,
          0.282708651314787,
          0.350741696928382,
          0.322167554940337,
          0.110916473665765,
          0.508367538763244,
          0.301350626914379,
          0.506323508239779,
          0.159871459579024,
          0.604233572333416,
          0.311649693884898,
          0.547602904231763,
          0.0560883455798691,
          0.444812613563826,
          0.669362602717693,
          0.115829007743974,
          0.0911733430072681,
          0.526779888284668,
          0.179342066569164,
          0.0100172308664201,
          0.0108659512035293,
          0.280175918757254,
          0.325969105961737,
          0.292065800826042,
          0.0206584642596709,
          0.691358551717847,
          0.394888266230748,
          0.324439662859994,
          0.565769587330347,
          0.0770241864032032,
          0.541548637282832,
          0.60287442574783,
          0.4099192831992,
          0.4108870305664,
          0.45019626106336,
          0.251617228495334,
          0.21393611416348,
          0.0024650985882554,
          0.172316461395541,
          0.0902051337465525,
          0.0817473905989875,
          0.078475002544721,
          0.113961079306131,
          0.1057807931481,
          0.504027576256421,
          0.0119181546346856,
          0.0786652317116668,
          0.435645149292814,
          0.230656335830814,
          0.0714068852504958,
          0.469024380122234,
          0.247623902077482,
          0.570804752571838,
          0.208781078386455,
          0.0242961755643373,
          0.262941174976278,
          0.0345283513165492,
          0.258675996628085,
          0.62675642033606,
          0.477346878429493,
          0.0409211067060219,
          0.406936127688261,
          0.50096024407934,
          0.542012095319991,
          0.279081330899693,
          0.0482653238555973,
          0.0423828404236516,
          0.213000096585348,
          0.481102932434084,
          0.102799090463187,
          0.404987261111113,
          0.528159365928593,
          0.128488003014205,
          0.201071450398731,
          0.155108187323406,
          0.437003435537959,
          0.0114103376219277,
          0.0211083921974886,
          0.0107723158137929,
          0.0025226527485109,
          0.0682770786560723,
          0.0841538730055559,
          0.0746076810909668,
          0.0469760455920165,
          0.113948117661206,
          0.264807296640794,
          0.221190132551593,
          0.272956797840121,
          0.4274675737274,
          0.115958998284405,
          0.197448751769449,
          0.170235339301515,
          0.166725754058763,
          0.147925539019954,
          0.210980843665538,
          0.0950311840337438,
          0.0118254675583929,
          0.0946294316544837,
          0.182716270762482,
          0.190084523222112,
          0.104442626653702,
          0.163459572696803,
          0.186546537278466,
          0.0558375633814766,
          0.0850279871008082,
          0.173564472691512,
          0.0771945057720859,
          0.176712051427427,
          0.434003069013113,
          0.38217102070373,
          0.298632558627935,
          0.314371459769994,
          0.0159485574420782,
          0.142297696341113,
          0.13127733331299,
          0.593163450598013,
          0.275056950361727,
          0.350035930022784,
          0.240164348801019,
          0.270833735282796,
          0.369366023629674,
          0.291933904499048,
          0.0154026736204125,
          0.011631543385673,
          0.124667608414942,
          0.151942513141161,
          0.0141111450405429,
          0.0224410526618755,
          0.0166080115272623,
          0.180689816334412,
          0.0433621539682856,
          0.2019179897109,
          0.0514768106696083,
          0.0283448903725322,
          0.0063221776688946,
          0.0876993379174612,
          0.14670437728028,
          0.506837147186119,
          0.201102641767462,
          0.171204015287662,
          0.0884828109562657,
          0.122746978430695,
          0.549215762709661,
          0.245213137779854,
          0.0210334158861389,
          0.006323103009331,
          0.289133403993252,
          0.462783234855717,
          0.331451014140572,
          0.357150299620085,
          0.285671901118435,
          0.290804396083767,
          0.0314045572228879,
          0.295055760093687,
          0.0800266006497172,
          0.0926846625130377,
          0.14863891551943,
          0.471011515980097,
          0.36604942420137,
          0.0029024824127665,
          0.0046475650339672,
          0.0212198230427727,
          0.104559757747669,
          0.14900240064252,
          0.261798369305318,
          0.0533630877540858,
          0.042190236853958,
          0.248405233298513,
          0.0146965104834275,
          0.369897825301988,
          0.0046760395900459,
          0.482375117217008,
          0.28076550973969,
          0.143607903661748,
          0.006889960043543,
          0.175072447744746,
          0.217793162310076,
          0.365210341017778,
          0.323748201910478,
          0.279798174967077,
          0.0047008219712842,
          0.0028676020740966
         ],
         "xbins": {
          "end": 1,
          "start": 0
         }
        }
       ],
       "layout": {
        "font": {
         "size": 17
        },
        "legend": {
         "x": 0.81,
         "y": 1
        },
        "template": {
         "data": {
          "bar": [
           {
            "error_x": {
             "color": "#2a3f5f"
            },
            "error_y": {
             "color": "#2a3f5f"
            },
            "marker": {
             "line": {
              "color": "#E5ECF6",
              "width": 0.5
             },
             "pattern": {
              "fillmode": "overlay",
              "size": 10,
              "solidity": 0.2
             }
            },
            "type": "bar"
           }
          ],
          "barpolar": [
           {
            "marker": {
             "line": {
              "color": "#E5ECF6",
              "width": 0.5
             },
             "pattern": {
              "fillmode": "overlay",
              "size": 10,
              "solidity": 0.2
             }
            },
            "type": "barpolar"
           }
          ],
          "carpet": [
           {
            "aaxis": {
             "endlinecolor": "#2a3f5f",
             "gridcolor": "white",
             "linecolor": "white",
             "minorgridcolor": "white",
             "startlinecolor": "#2a3f5f"
            },
            "baxis": {
             "endlinecolor": "#2a3f5f",
             "gridcolor": "white",
             "linecolor": "white",
             "minorgridcolor": "white",
             "startlinecolor": "#2a3f5f"
            },
            "type": "carpet"
           }
          ],
          "choropleth": [
           {
            "colorbar": {
             "outlinewidth": 0,
             "ticks": ""
            },
            "type": "choropleth"
           }
          ],
          "contour": [
           {
            "colorbar": {
             "outlinewidth": 0,
             "ticks": ""
            },
            "colorscale": [
             [
              0,
              "#0d0887"
             ],
             [
              0.1111111111111111,
              "#46039f"
             ],
             [
              0.2222222222222222,
              "#7201a8"
             ],
             [
              0.3333333333333333,
              "#9c179e"
             ],
             [
              0.4444444444444444,
              "#bd3786"
             ],
             [
              0.5555555555555556,
              "#d8576b"
             ],
             [
              0.6666666666666666,
              "#ed7953"
             ],
             [
              0.7777777777777778,
              "#fb9f3a"
             ],
             [
              0.8888888888888888,
              "#fdca26"
             ],
             [
              1,
              "#f0f921"
             ]
            ],
            "type": "contour"
           }
          ],
          "contourcarpet": [
           {
            "colorbar": {
             "outlinewidth": 0,
             "ticks": ""
            },
            "type": "contourcarpet"
           }
          ],
          "heatmap": [
           {
            "colorbar": {
             "outlinewidth": 0,
             "ticks": ""
            },
            "colorscale": [
             [
              0,
              "#0d0887"
             ],
             [
              0.1111111111111111,
              "#46039f"
             ],
             [
              0.2222222222222222,
              "#7201a8"
             ],
             [
              0.3333333333333333,
              "#9c179e"
             ],
             [
              0.4444444444444444,
              "#bd3786"
             ],
             [
              0.5555555555555556,
              "#d8576b"
             ],
             [
              0.6666666666666666,
              "#ed7953"
             ],
             [
              0.7777777777777778,
              "#fb9f3a"
             ],
             [
              0.8888888888888888,
              "#fdca26"
             ],
             [
              1,
              "#f0f921"
             ]
            ],
            "type": "heatmap"
           }
          ],
          "heatmapgl": [
           {
            "colorbar": {
             "outlinewidth": 0,
             "ticks": ""
            },
            "colorscale": [
             [
              0,
              "#0d0887"
             ],
             [
              0.1111111111111111,
              "#46039f"
             ],
             [
              0.2222222222222222,
              "#7201a8"
             ],
             [
              0.3333333333333333,
              "#9c179e"
             ],
             [
              0.4444444444444444,
              "#bd3786"
             ],
             [
              0.5555555555555556,
              "#d8576b"
             ],
             [
              0.6666666666666666,
              "#ed7953"
             ],
             [
              0.7777777777777778,
              "#fb9f3a"
             ],
             [
              0.8888888888888888,
              "#fdca26"
             ],
             [
              1,
              "#f0f921"
             ]
            ],
            "type": "heatmapgl"
           }
          ],
          "histogram": [
           {
            "marker": {
             "pattern": {
              "fillmode": "overlay",
              "size": 10,
              "solidity": 0.2
             }
            },
            "type": "histogram"
           }
          ],
          "histogram2d": [
           {
            "colorbar": {
             "outlinewidth": 0,
             "ticks": ""
            },
            "colorscale": [
             [
              0,
              "#0d0887"
             ],
             [
              0.1111111111111111,
              "#46039f"
             ],
             [
              0.2222222222222222,
              "#7201a8"
             ],
             [
              0.3333333333333333,
              "#9c179e"
             ],
             [
              0.4444444444444444,
              "#bd3786"
             ],
             [
              0.5555555555555556,
              "#d8576b"
             ],
             [
              0.6666666666666666,
              "#ed7953"
             ],
             [
              0.7777777777777778,
              "#fb9f3a"
             ],
             [
              0.8888888888888888,
              "#fdca26"
             ],
             [
              1,
              "#f0f921"
             ]
            ],
            "type": "histogram2d"
           }
          ],
          "histogram2dcontour": [
           {
            "colorbar": {
             "outlinewidth": 0,
             "ticks": ""
            },
            "colorscale": [
             [
              0,
              "#0d0887"
             ],
             [
              0.1111111111111111,
              "#46039f"
             ],
             [
              0.2222222222222222,
              "#7201a8"
             ],
             [
              0.3333333333333333,
              "#9c179e"
             ],
             [
              0.4444444444444444,
              "#bd3786"
             ],
             [
              0.5555555555555556,
              "#d8576b"
             ],
             [
              0.6666666666666666,
              "#ed7953"
             ],
             [
              0.7777777777777778,
              "#fb9f3a"
             ],
             [
              0.8888888888888888,
              "#fdca26"
             ],
             [
              1,
              "#f0f921"
             ]
            ],
            "type": "histogram2dcontour"
           }
          ],
          "mesh3d": [
           {
            "colorbar": {
             "outlinewidth": 0,
             "ticks": ""
            },
            "type": "mesh3d"
           }
          ],
          "parcoords": [
           {
            "line": {
             "colorbar": {
              "outlinewidth": 0,
              "ticks": ""
             }
            },
            "type": "parcoords"
           }
          ],
          "pie": [
           {
            "automargin": true,
            "type": "pie"
           }
          ],
          "scatter": [
           {
            "fillpattern": {
             "fillmode": "overlay",
             "size": 10,
             "solidity": 0.2
            },
            "type": "scatter"
           }
          ],
          "scatter3d": [
           {
            "line": {
             "colorbar": {
              "outlinewidth": 0,
              "ticks": ""
             }
            },
            "marker": {
             "colorbar": {
              "outlinewidth": 0,
              "ticks": ""
             }
            },
            "type": "scatter3d"
           }
          ],
          "scattercarpet": [
           {
            "marker": {
             "colorbar": {
              "outlinewidth": 0,
              "ticks": ""
             }
            },
            "type": "scattercarpet"
           }
          ],
          "scattergeo": [
           {
            "marker": {
             "colorbar": {
              "outlinewidth": 0,
              "ticks": ""
             }
            },
            "type": "scattergeo"
           }
          ],
          "scattergl": [
           {
            "marker": {
             "colorbar": {
              "outlinewidth": 0,
              "ticks": ""
             }
            },
            "type": "scattergl"
           }
          ],
          "scattermapbox": [
           {
            "marker": {
             "colorbar": {
              "outlinewidth": 0,
              "ticks": ""
             }
            },
            "type": "scattermapbox"
           }
          ],
          "scatterpolar": [
           {
            "marker": {
             "colorbar": {
              "outlinewidth": 0,
              "ticks": ""
             }
            },
            "type": "scatterpolar"
           }
          ],
          "scatterpolargl": [
           {
            "marker": {
             "colorbar": {
              "outlinewidth": 0,
              "ticks": ""
             }
            },
            "type": "scatterpolargl"
           }
          ],
          "scatterternary": [
           {
            "marker": {
             "colorbar": {
              "outlinewidth": 0,
              "ticks": ""
             }
            },
            "type": "scatterternary"
           }
          ],
          "surface": [
           {
            "colorbar": {
             "outlinewidth": 0,
             "ticks": ""
            },
            "colorscale": [
             [
              0,
              "#0d0887"
             ],
             [
              0.1111111111111111,
              "#46039f"
             ],
             [
              0.2222222222222222,
              "#7201a8"
             ],
             [
              0.3333333333333333,
              "#9c179e"
             ],
             [
              0.4444444444444444,
              "#bd3786"
             ],
             [
              0.5555555555555556,
              "#d8576b"
             ],
             [
              0.6666666666666666,
              "#ed7953"
             ],
             [
              0.7777777777777778,
              "#fb9f3a"
             ],
             [
              0.8888888888888888,
              "#fdca26"
             ],
             [
              1,
              "#f0f921"
             ]
            ],
            "type": "surface"
           }
          ],
          "table": [
           {
            "cells": {
             "fill": {
              "color": "#EBF0F8"
             },
             "line": {
              "color": "white"
             }
            },
            "header": {
             "fill": {
              "color": "#C8D4E3"
             },
             "line": {
              "color": "white"
             }
            },
            "type": "table"
           }
          ]
         },
         "layout": {
          "annotationdefaults": {
           "arrowcolor": "#2a3f5f",
           "arrowhead": 0,
           "arrowwidth": 1
          },
          "autotypenumbers": "strict",
          "coloraxis": {
           "colorbar": {
            "outlinewidth": 0,
            "ticks": ""
           }
          },
          "colorscale": {
           "diverging": [
            [
             0,
             "#8e0152"
            ],
            [
             0.1,
             "#c51b7d"
            ],
            [
             0.2,
             "#de77ae"
            ],
            [
             0.3,
             "#f1b6da"
            ],
            [
             0.4,
             "#fde0ef"
            ],
            [
             0.5,
             "#f7f7f7"
            ],
            [
             0.6,
             "#e6f5d0"
            ],
            [
             0.7,
             "#b8e186"
            ],
            [
             0.8,
             "#7fbc41"
            ],
            [
             0.9,
             "#4d9221"
            ],
            [
             1,
             "#276419"
            ]
           ],
           "sequential": [
            [
             0,
             "#0d0887"
            ],
            [
             0.1111111111111111,
             "#46039f"
            ],
            [
             0.2222222222222222,
             "#7201a8"
            ],
            [
             0.3333333333333333,
             "#9c179e"
            ],
            [
             0.4444444444444444,
             "#bd3786"
            ],
            [
             0.5555555555555556,
             "#d8576b"
            ],
            [
             0.6666666666666666,
             "#ed7953"
            ],
            [
             0.7777777777777778,
             "#fb9f3a"
            ],
            [
             0.8888888888888888,
             "#fdca26"
            ],
            [
             1,
             "#f0f921"
            ]
           ],
           "sequentialminus": [
            [
             0,
             "#0d0887"
            ],
            [
             0.1111111111111111,
             "#46039f"
            ],
            [
             0.2222222222222222,
             "#7201a8"
            ],
            [
             0.3333333333333333,
             "#9c179e"
            ],
            [
             0.4444444444444444,
             "#bd3786"
            ],
            [
             0.5555555555555556,
             "#d8576b"
            ],
            [
             0.6666666666666666,
             "#ed7953"
            ],
            [
             0.7777777777777778,
             "#fb9f3a"
            ],
            [
             0.8888888888888888,
             "#fdca26"
            ],
            [
             1,
             "#f0f921"
            ]
           ]
          },
          "colorway": [
           "#636efa",
           "#EF553B",
           "#00cc96",
           "#ab63fa",
           "#FFA15A",
           "#19d3f3",
           "#FF6692",
           "#B6E880",
           "#FF97FF",
           "#FECB52"
          ],
          "font": {
           "color": "#2a3f5f"
          },
          "geo": {
           "bgcolor": "white",
           "lakecolor": "white",
           "landcolor": "#E5ECF6",
           "showlakes": true,
           "showland": true,
           "subunitcolor": "white"
          },
          "hoverlabel": {
           "align": "left"
          },
          "hovermode": "closest",
          "mapbox": {
           "style": "light"
          },
          "paper_bgcolor": "white",
          "plot_bgcolor": "#E5ECF6",
          "polar": {
           "angularaxis": {
            "gridcolor": "white",
            "linecolor": "white",
            "ticks": ""
           },
           "bgcolor": "#E5ECF6",
           "radialaxis": {
            "gridcolor": "white",
            "linecolor": "white",
            "ticks": ""
           }
          },
          "scene": {
           "xaxis": {
            "backgroundcolor": "#E5ECF6",
            "gridcolor": "white",
            "gridwidth": 2,
            "linecolor": "white",
            "showbackground": true,
            "ticks": "",
            "zerolinecolor": "white"
           },
           "yaxis": {
            "backgroundcolor": "#E5ECF6",
            "gridcolor": "white",
            "gridwidth": 2,
            "linecolor": "white",
            "showbackground": true,
            "ticks": "",
            "zerolinecolor": "white"
           },
           "zaxis": {
            "backgroundcolor": "#E5ECF6",
            "gridcolor": "white",
            "gridwidth": 2,
            "linecolor": "white",
            "showbackground": true,
            "ticks": "",
            "zerolinecolor": "white"
           }
          },
          "shapedefaults": {
           "line": {
            "color": "#2a3f5f"
           }
          },
          "ternary": {
           "aaxis": {
            "gridcolor": "white",
            "linecolor": "white",
            "ticks": ""
           },
           "baxis": {
            "gridcolor": "white",
            "linecolor": "white",
            "ticks": ""
           },
           "bgcolor": "#E5ECF6",
           "caxis": {
            "gridcolor": "white",
            "linecolor": "white",
            "ticks": ""
           }
          },
          "title": {
           "x": 0.05
          },
          "xaxis": {
           "automargin": true,
           "gridcolor": "white",
           "linecolor": "white",
           "ticks": "",
           "title": {
            "standoff": 15
           },
           "zerolinecolor": "white",
           "zerolinewidth": 2
          },
          "yaxis": {
           "automargin": true,
           "gridcolor": "white",
           "linecolor": "white",
           "ticks": "",
           "title": {
            "standoff": 15
           },
           "zerolinecolor": "white",
           "zerolinewidth": 2
          }
         }
        },
        "title": {
         "text": "MatchSpectra: filter -> 10%I | match -> 5ppm & normalized"
        },
        "xaxis": {
         "dtick": 0.1,
         "range": [
          0,
          1
         ],
         "tickfont": {
          "size": 15
         },
         "title": {
          "text": "Reverse score"
         }
        },
        "yaxis": {
         "range": [
          0,
          140
         ],
         "tickfont": {
          "size": 15
         },
         "title": {
          "text": "Frequency"
         }
        }
       }
      },
      "text/html": [
       "<div>                            <div id=\"741f7394-1a60-4d95-a74e-71ae4eb75826\" class=\"plotly-graph-div\" style=\"height:525px; width:100%;\"></div>            <script type=\"text/javascript\">                require([\"plotly\"], function(Plotly) {                    window.PLOTLYENV=window.PLOTLYENV || {};                                    if (document.getElementById(\"741f7394-1a60-4d95-a74e-71ae4eb75826\")) {                    Plotly.newPlot(                        \"741f7394-1a60-4d95-a74e-71ae4eb75826\",                        [{\"name\":\"All peaks (245)\",\"nbinsx\":10,\"x\":[0.109788669035941,0.119978013750247,0.0237952194494667,0.0344966558203657,0.0752032771683874,0.332126044346626,0.127867169114783,0.10186317999239,0.298020867396724,0.47342123212774,0.0152415422604625,0.0915150757287453,0.222288159973681,0.260326247263029,0.0458608413824598,0.541570072224609,0.389590865158082,0.0118285769851824,0.107426197479155,0.576641636831932,0.396468514143626,0.495156791537144,0.52181441792597,0.0182015416927514,0.621552883454563,0.544858221032438,0.0734185345255909,0.410991684748986,0.233310887678198,0.0710277674654164,0.30235120050728,0.0121110240111344,0.212725037435562,0.643981074511301,0.52629370866701,0.582827496118593,0.562518045469152,0.292406058175381,0.539143031776723,0.496445166780956,0.0386398820041336,0.172833391407618,0.0421352149375505,0.098327475662711,0.0461417693156192,0.60262980977545,0.316581819444085,0.270112988849665,0.187198450656773,0.578320128512338,0.105794746516793,0.473636066414445,0.587515670553152,0.441236752971935,0.172348030334002,0.0103376614328287,0.381531978703678,0.544341513221196,0.157946440164003,0.103140528865242,0.0489042307267218,0.177703622533828,0.480711682261217,0.630428409205408,0.282708651314787,0.350741696928382,0.322167554940337,0.110916473665765,0.508367538763244,0.301350626914379,0.506323508239779,0.159871459579024,0.604233572333416,0.311649693884898,0.547602904231763,0.0560883455798691,0.444812613563826,0.669362602717693,0.115829007743974,0.0911733430072681,0.526779888284668,0.179342066569164,0.0100172308664201,0.0108659512035293,0.280175918757254,0.325969105961737,0.292065800826042,0.0206584642596709,0.691358551717847,0.394888266230748,0.324439662859994,0.565769587330347,0.0770241864032032,0.541548637282832,0.60287442574783,0.4099192831992,0.4108870305664,0.45019626106336,0.251617228495334,0.21393611416348,0.0024650985882554,0.172316461395541,0.0902051337465525,0.0817473905989875,0.078475002544721,0.113961079306131,0.1057807931481,0.504027576256421,0.0119181546346856,0.0786652317116668,0.435645149292814,0.230656335830814,0.0714068852504958,0.469024380122234,0.247623902077482,0.570804752571838,0.208781078386455,0.0242961755643373,0.262941174976278,0.0345283513165492,0.258675996628085,0.62675642033606,0.477346878429493,0.0409211067060219,0.406936127688261,0.50096024407934,0.542012095319991,0.279081330899693,0.0482653238555973,0.0423828404236516,0.213000096585348,0.481102932434084,0.102799090463187,0.404987261111113,0.528159365928593,0.128488003014205,0.201071450398731,0.155108187323406,0.437003435537959,0.0114103376219277,0.0211083921974886,0.0107723158137929,0.0025226527485109,0.0682770786560723,0.0841538730055559,0.0746076810909668,0.0469760455920165,0.113948117661206,0.264807296640794,0.221190132551593,0.272956797840121,0.442388019087777,0.115958998284405,0.197448751769449,0.170235339301515,0.166725754058763,0.147925539019954,0.210980843665538,0.0950311840337438,0.0118254675583929,0.0946294316544837,0.182716270762482,0.190084523222112,0.104442626653702,0.166352487072768,0.186546537278466,0.0558375633814766,0.0850279871008082,0.173564472691512,0.0771945057720859,0.176712051427427,0.434003069013113,0.38217102070373,0.298632558627935,0.314371459769994,0.0159485574420782,0.142297696341113,0.13127733331299,0.593163450598013,0.275056950361727,0.350035930022784,0.240164348801019,0.270833735282796,0.369366023629674,0.291933904499048,0.0154026736204125,0.011631543385673,0.17047660296438,0.151942513141161,0.0141111450405429,0.0224410526618755,0.0166080115272623,0.180689816334412,0.0433621539682856,0.2019179897109,0.0514768106696083,0.0283448903725322,0.0063221776688946,0.0876993379174612,0.14670437728028,0.506837147186119,0.201102641767462,0.171204015287662,0.0884828109562657,0.122746978430695,0.549215762709661,0.245213137779854,0.0210334158861389,0.006323103009331,0.289133403993252,0.462783234855717,0.331451014140572,0.357150299620085,0.285671901118435,0.290804396083767,0.0314045572228879,0.376122871136995,0.0800266006497172,0.0926846625130377,0.14863891551943,0.471011515980097,0.36604942420137,0.0029024824127665,0.0046475650339672,0.0212198230427727,0.104559757747669,0.14900240064252,0.261798369305318,0.0533630877540858,0.042190236853958,0.248405233298513,0.0146965104834275,0.369897825301988,0.0046760395900459,0.482375117217008,0.28076550973969,0.143607903661748,0.006889960043543,0.175072447744746,0.217793162310076,0.365210341017778,0.323748201910478,0.279798174967077,0.0068337480025101,0.0050057562388156],\"xbins\":{\"end\":1,\"start\":0},\"type\":\"histogram\"},{\"name\":\"Top 3 peaks (211)\",\"nbinsx\":10,\"x\":[0.326825237457499,0.0795338597395544,0.10186317999239,0.0076762988386593,0.333654855347875,0.0152415422604625,0.0427757273829862,0.204471158394578,0.0795466348078505,0.0458608413824598,0.440200255305761,0.257718357341456,0.0118285769851824,0.0913476455222962,0.399739996308636,0.491578660982816,0.0068824906693399,0.621552883454563,0.398511903584579,0.332771035041225,0.227747188835519,0.00429878152165,0.277893580786571,0.0411315530368355,0.621313879052017,0.297215197296914,0.27425272704877,0.39663070307781,0.176207024991514,0.135857671945802,0.0144555100285543,0.0366774626233281,0.380549774193076,0.252283021076601,0.162858381049056,0.568664281204127,0.0610365089648734,0.225782470599442,0.276620257734531,0.230921236715728,0.148360735265721,0.0103376614328287,0.215239786313596,0.277760330635432,0.110041334761336,0.103140528865242,0.0154275869312517,0.170227602911965,0.222600538374743,0.419070889998638,0.153727323706866,0.313293798752896,0.110916473665765,0.321985838755167,0.254000375452073,0.297725262768602,0.100400467989864,0.475595361090613,0.179095428442881,0.189971971828903,0.0431304772971661,0.296016881606242,0.669362602717693,0.0334872457880994,0.265655540433131,0.179342066569164,0.0100172308664201,0.0108659512035293,0.107779773733526,0.257200293647848,0.0729166568391261,0.551872227847771,0.272599485491395,0.0032619870788809,0.0415496905168696,0.23354300782779,0.421031770836459,0.251261738762021,0.287708999833681,0.374962401664072,0.165137436094444,0.13086549858769,0.0024650985882554,0.005132717964995,0.0622200651838051,0.0453315338877905,0.0446669741224486,0.0575765497704939,0.1057807931481,0.193882460676344,0.0069435628937095,0.0027731650501326,0.305713759340225,0.0563608904601069,0.275798588047909,0.113458343223356,0.476581741611242,0.152065770897738,0.0134932787360214,0.0345283513165492,0.143828873509846,0.62675642033606,0.361559614408479,0.0409211067060219,0.0931947562572901,0.484423182833471,0.687170673206431,0.262202829446205,0.0307149601340746,0.028016365994915,0.093398378968893,0.481102932434084,0.0125100629763276,0.317705916368825,0.501607802772848,0.201071450398731,0.0148195310928857,0.437003435537959,0.0041241351278577,0.0024080364422466,0.0025226527485109,0.0589854690678666,0.0841538730055559,0.0029705936035888,0.0284026604999708,0.0231493639707484,0.144805833899722,0.221190132551593,0.273230886512328,0.0968097844976739,0.0112201723006082,0.197448751769449,0.16266136801645,0.0701958184183089,0.0936834152994462,0.0950311840337438,0.0118254675583929,0.0401628738613299,0.0655116755586484,0.0722673435680563,0.0411347878583883,0.0326669087260175,0.0350725020148432,0.0352022605172933,0.0865970507622262,0.0672321401113264,0.0612342762863103,0.361575027621649,0.317136260800573,0.298580028089068,0.153192172719658,0.0108338029765409,0.142297696341113,0.0869573803891138,0.593163450598013,0.229292594858696,0.335155467263058,0.240164348801019,0.0106249810969087,0.369366023629674,0.208948939120663,0.0154026736204125,0.157435026502332,0.0141111450405429,0.0224410526618755,0.0016055575994032,0.132279158043839,0.0083718839635916,0.137145978510623,0.0514768106696083,0.0283448903725322,0.0324943182181484,0.101213707851777,0.534625123381531,0.197922613971406,0.082506985361504,0.0884828109562657,0.122285766586157,0.549215762709661,0.215636165758713,0.346136719978574,0.250124834444247,0.266849513955819,0.274818986211873,0.28054114590149,0.0282446591184662,0.09556376385387,0.0694170934794756,0.0525520035535052,0.0291471961455192,0.471011515980097,0.333224434142918,0.0029024824127665,0.0046475650339672,0.0055024181988952,0.104559757747669,0.0473277021967883,0.224658877298392,0.0295464787614518,0.0246614404479807,0.248405233298513,0.364790433882766,0.0046760395900459,0.28076550973969,0.143607903661748,0.006889960043543,0.175072447744746,0.217793162310076,0.365210341017778,0.323748201910478,0.142352758779436],\"xbins\":{\"end\":1,\"start\":0},\"type\":\"histogram\"},{\"name\":\"Top 5 peaks (229)\",\"nbinsx\":10,\"x\":[0.0491877084868524,0.326825237457499,0.127867169114783,0.10186317999239,0.0076762988386593,0.391120887488184,0.0152415422604625,0.0915150757287453,0.213026288925008,0.260326247263029,0.0458608413824598,0.425355476904794,0.31553375835743,0.0118285769851824,0.0913476455222962,0.372918718248176,0.108637689683509,0.177263672377826,0.475625439432458,0.0182015416927514,0.621552883454563,0.411053691919116,0.0608864636207,0.332771035041225,0.24599233172282,0.00429878152165,0.297521064107619,0.212725037435562,0.621313879052017,0.338448133381367,0.386187613363933,0.416234069992909,0.189496082882533,0.0862207767958263,0.0685753872617916,0.135857671945802,0.0301524796982434,0.098327475662711,0.0461417693156192,0.445524223963095,0.252283021076601,0.139580219032363,0.162858381049056,0.564732568107141,0.0749297729659512,0.473636066414445,0.355650763389265,0.230921236715728,0.152225781771009,0.0103376614328287,0.255540853903279,0.3454285878063,0.123058894380672,0.103140528865242,0.024436980702607,0.177703622533828,0.254531009793184,0.419070889998638,0.0158985130309031,0.184941582495687,0.322167554940337,0.110916473665765,0.364621642764534,0.30781474380418,0.342453765504495,0.0927173536701049,0.604233572333416,0.179095428442881,0.261628502305333,0.0418773248736082,0.390504532275448,0.669362602717693,0.0650035005128077,0.330685356253773,0.179342066569164,0.0100172308664201,0.0108659512035293,0.206338845983836,0.325969105961737,0.21700390010533,0.0206584642596709,0.574924849224026,0.313486510115716,0.175491737985766,0.348676077402911,0.0415496905168696,0.328306976152904,0.458912104334941,0.179011992407659,0.193988514307215,0.374962401664072,0.208504732574689,0.21393611416348,0.0024650985882554,0.060157619649539,0.076969190154255,0.0817473905989875,0.078475002544721,0.0696807125316509,0.1057807931481,0.292222779878579,0.0069435628937095,0.0027731650501326,0.414161306564456,0.0563608904601069,0.413828109889027,0.220677304911148,0.570804752571838,0.195388437028458,0.0155566220836649,0.393329502312623,0.0345283513165492,0.149873135461577,0.62675642033606,0.402094288732722,0.0409211067060219,0.275089955925377,0.502868094130876,0.687170673206431,0.262202829446205,0.0307149601340746,0.0316057494193645,0.138398625318908,0.481102932434084,0.102799090463187,0.384559818556512,0.45573593928085,0.201071450398731,0.0437090725891356,0.437003435537959,0.0114103376219277,0.0107723158137929,0.0025226527485109,0.0589854690678666,0.0841538730055559,0.0029705936035888,0.0469760455920165,0.0231493639707484,0.140969979504996,0.221190132551593,0.254144450344462,0.0968097844976739,0.0112201723006082,0.197448751769449,0.170235339301515,0.16266136801645,0.069985489895605,0.0936834152994462,0.0950311840337438,0.0118254675583929,0.0528259656348944,0.11110740021911,0.116855765204881,0.0639820273307335,0.034570499121085,0.0383969539448733,0.0352022605172933,0.0820096045455235,0.100631161609668,0.0443885706466641,0.099359648693239,0.361575027621649,0.317136260800573,0.298580028089068,0.314371459769994,0.0108338029765409,0.142297696341113,0.109163279084477,0.593163450598013,0.229292594858696,0.335155467263058,0.240164348801019,0.270833735282796,0.369366023629674,0.291933904499048,0.0154026736204125,0.151942513141161,0.0141111450405429,0.0224410526618755,0.0166080115272623,0.126449784055596,0.0083718839635916,0.137145978510623,0.0514768106696083,0.0283448903725322,0.0063221776688946,0.0876993379174612,0.14670437728028,0.506837147186119,0.201102641767462,0.157374558734791,0.0884828109562657,0.122285766586157,0.549215762709661,0.245213137779854,0.006323103009331,0.219460590726117,0.448892172916765,0.323555358598391,0.322257607930235,0.274818986211873,0.290804396083767,0.0282446591184662,0.221157220686925,0.0694170934794756,0.0750806596672012,0.122994773262864,0.471011515980097,0.348946269976437,0.0029024824127665,0.0046475650339672,0.0212198230427727,0.104559757747669,0.0606031537255412,0.261798369305318,0.0338596726262322,0.0246614404479807,0.248405233298513,0.0146965104834275,0.369897825301988,0.0046760395900459,0.28076550973969,0.143607903661748,0.006889960043543,0.175072447744746,0.217793162310076,0.365210341017778,0.323748201910478,0.279798174967077],\"xbins\":{\"end\":1,\"start\":0},\"type\":\"histogram\"},{\"name\":\"Top 10 peaks (240)\",\"nbinsx\":10,\"x\":[0.0796647522742383,0.0562523884091108,0.332126044346626,0.127867169114783,0.10186317999239,0.298020867396724,0.397638583302715,0.0152415422604625,0.0915150757287453,0.222288159973681,0.260326247263029,0.0458608413824598,0.508737767591771,0.384016710463546,0.0118285769851824,0.107426197479155,0.561828055510294,0.176150504939243,0.231321824826592,0.52181441792597,0.0182015416927514,0.621552883454563,0.527504050498031,0.0734185345255909,0.332771035041225,0.233310887678198,0.0710277674654164,0.30235120050728,0.212725037435562,0.643981074511301,0.478489779953466,0.560632810474933,0.530970914860208,0.264347523061581,0.180890568696234,0.149647565211935,0.0386398820041336,0.172833391407618,0.0348011019856656,0.098327475662711,0.0461417693156192,0.578790366682908,0.316581819444085,0.170219067721028,0.187198450656773,0.578320128512338,0.105794746516793,0.473636066414445,0.519181095871316,0.376634002058248,0.172348030334002,0.0103376614328287,0.325626710703848,0.544341513221196,0.157946440164003,0.103140528865242,0.0400243938319621,0.177703622533828,0.384450885801341,0.62128460280771,0.0648920622238907,0.350741696928382,0.322167554940337,0.110916473665765,0.508367538763244,0.30587079639851,0.477794472348066,0.12381817586853,0.604233572333416,0.311649693884898,0.440268036166085,0.0560883455798691,0.399030852443011,0.669362602717693,0.10156798462975,0.0911733430072681,0.498695958787318,0.179342066569164,0.0100172308664201,0.0108659512035293,0.269267047205337,0.325969105961737,0.230267329529097,0.0206584642596709,0.57912152176288,0.387043015601183,0.324293413451623,0.571974518709417,0.0605069548123801,0.541548637282832,0.598873826475594,0.4099192831992,0.4108870305664,0.374962401664072,0.243040884912203,0.21393611416348,0.0024650985882554,0.130558199217431,0.0862055717347389,0.0817473905989875,0.078475002544721,0.113961079306131,0.1057807931481,0.349026248942621,0.0119181546346856,0.0157485387312169,0.435645149292814,0.167012967367557,0.0714068852504958,0.469024380122234,0.247623902077482,0.570804752571838,0.204410250721297,0.0155566220836649,0.262941174976278,0.0345283513165492,0.258675996628085,0.62675642033606,0.459362111206254,0.0409211067060219,0.391165941706275,0.50096024407934,0.542012095319991,0.279081330899693,0.0362258007203229,0.0316057494193645,0.1523470850586,0.481102932434084,0.102799090463187,0.404987261111113,0.528159365928593,0.128488003014205,0.201071450398731,0.155108187323406,0.437003435537959,0.0114103376219277,0.0211083921974886,0.0107723158137929,0.0025226527485109,0.0682770786560723,0.0841538730055559,0.0348375159767781,0.0469760455920165,0.113948117661206,0.264807296640794,0.221190132551593,0.272956797840121,0.455593003346387,0.0150584162974621,0.197448751769449,0.170235339301515,0.166725754058763,0.0764685802317849,0.101568911387947,0.0950311840337438,0.0118254675583929,0.0798104683589343,0.178056756698706,0.190084523222112,0.104442626653702,0.126589564328438,0.153423972564307,0.0558375633814766,0.0850279871008082,0.173564472691512,0.0771945057720859,0.170030079754313,0.434003069013113,0.38217102070373,0.298632558627935,0.314371459769994,0.0159485574420782,0.142297696341113,0.118262280378056,0.593163450598013,0.276103134433721,0.348327003866111,0.240164348801019,0.270833735282796,0.369366023629674,0.291933904499048,0.0154026736204125,0.011631543385673,0.0775820943661648,0.151942513141161,0.0141111450405429,0.0224410526618755,0.0166080115272623,0.180689816334412,0.0433621539682856,0.2019179897109,0.0514768106696083,0.0283448903725322,0.0063221776688946,0.0876993379174612,0.14670437728028,0.506837147186119,0.201102641767462,0.171204015287662,0.0884828109562657,0.122746978430695,0.549215762709661,0.245213137779854,0.0210334158861389,0.006323103009331,0.289133403993252,0.462783234855717,0.331451014140572,0.357150299620085,0.285671901118435,0.290804396083767,0.0314045572228879,0.222774257718422,0.0759975554308357,0.0926846625130377,0.14863891551943,0.471011515980097,0.36604942420137,0.0029024824127665,0.0046475650339672,0.0212198230427727,0.104559757747669,0.124996764092586,0.261798369305318,0.0533630877540858,0.042190236853958,0.248405233298513,0.0146965104834275,0.369897825301988,0.0046760395900459,0.482375117217008,0.28076550973969,0.143607903661748,0.006889960043543,0.175072447744746,0.217793162310076,0.365210341017778,0.323748201910478,0.279798174967077,0.0028676020740966],\"xbins\":{\"end\":1,\"start\":0},\"type\":\"histogram\"},{\"name\":\"Top 20 peaks (244)\",\"nbinsx\":10,\"x\":[0.109788669035941,0.103024662259649,0.0237952194494667,0.0522732946326571,0.332126044346626,0.127867169114783,0.10186317999239,0.298020867396724,0.47342123212774,0.0152415422604625,0.0915150757287453,0.222288159973681,0.260326247263029,0.0458608413824598,0.541570072224609,0.389590865158082,0.0118285769851824,0.107426197479155,0.576641636831932,0.396468514143626,0.495156791537144,0.52181441792597,0.0182015416927514,0.621552883454563,0.544858221032438,0.0734185345255909,0.410991684748986,0.233310887678198,0.0710277674654164,0.30235120050728,0.0121110240111344,0.212725037435562,0.643981074511301,0.52629370866701,0.582827496118593,0.562518045469152,0.292406058175381,0.401299518971354,0.361643262066688,0.0386398820041336,0.172833391407618,0.0421352149375505,0.098327475662711,0.0461417693156192,0.60262980977545,0.316581819444085,0.250129268943401,0.187198450656773,0.578320128512338,0.105794746516793,0.473636066414445,0.587515670553152,0.376634002058248,0.172348030334002,0.0103376614328287,0.381531978703678,0.544341513221196,0.157946440164003,0.103140528865242,0.0489042307267218,0.177703622533828,0.480711682261217,0.630428409205408,0.282708651314787,0.350741696928382,0.322167554940337,0.110916473665765,0.508367538763244,0.301350626914379,0.506323508239779,0.159871459579024,0.604233572333416,0.311649693884898,0.547602904231763,0.0560883455798691,0.444812613563826,0.669362602717693,0.115829007743974,0.0911733430072681,0.526779888284668,0.179342066569164,0.0100172308664201,0.0108659512035293,0.280175918757254,0.325969105961737,0.292065800826042,0.0206584642596709,0.691358551717847,0.394888266230748,0.324439662859994,0.565769587330347,0.0770241864032032,0.541548637282832,0.60287442574783,0.4099192831992,0.4108870305664,0.45019626106336,0.251617228495334,0.21393611416348,0.0024650985882554,0.172316461395541,0.0902051337465525,0.0817473905989875,0.078475002544721,0.113961079306131,0.1057807931481,0.504027576256421,0.0119181546346856,0.0786652317116668,0.435645149292814,0.230656335830814,0.0714068852504958,0.469024380122234,0.247623902077482,0.570804752571838,0.208781078386455,0.0242961755643373,0.262941174976278,0.0345283513165492,0.258675996628085,0.62675642033606,0.477346878429493,0.0409211067060219,0.406936127688261,0.50096024407934,0.542012095319991,0.279081330899693,0.0482653238555973,0.0423828404236516,0.213000096585348,0.481102932434084,0.102799090463187,0.404987261111113,0.528159365928593,0.128488003014205,0.201071450398731,0.155108187323406,0.437003435537959,0.0114103376219277,0.0211083921974886,0.0107723158137929,0.0025226527485109,0.0682770786560723,0.0841538730055559,0.0746076810909668,0.0469760455920165,0.113948117661206,0.264807296640794,0.221190132551593,0.272956797840121,0.4274675737274,0.115958998284405,0.197448751769449,0.170235339301515,0.166725754058763,0.147925539019954,0.210980843665538,0.0950311840337438,0.0118254675583929,0.0946294316544837,0.182716270762482,0.190084523222112,0.104442626653702,0.163459572696803,0.186546537278466,0.0558375633814766,0.0850279871008082,0.173564472691512,0.0771945057720859,0.176712051427427,0.434003069013113,0.38217102070373,0.298632558627935,0.314371459769994,0.0159485574420782,0.142297696341113,0.13127733331299,0.593163450598013,0.275056950361727,0.350035930022784,0.240164348801019,0.270833735282796,0.369366023629674,0.291933904499048,0.0154026736204125,0.011631543385673,0.124667608414942,0.151942513141161,0.0141111450405429,0.0224410526618755,0.0166080115272623,0.180689816334412,0.0433621539682856,0.2019179897109,0.0514768106696083,0.0283448903725322,0.0063221776688946,0.0876993379174612,0.14670437728028,0.506837147186119,0.201102641767462,0.171204015287662,0.0884828109562657,0.122746978430695,0.549215762709661,0.245213137779854,0.0210334158861389,0.006323103009331,0.289133403993252,0.462783234855717,0.331451014140572,0.357150299620085,0.285671901118435,0.290804396083767,0.0314045572228879,0.295055760093687,0.0800266006497172,0.0926846625130377,0.14863891551943,0.471011515980097,0.36604942420137,0.0029024824127665,0.0046475650339672,0.0212198230427727,0.104559757747669,0.14900240064252,0.261798369305318,0.0533630877540858,0.042190236853958,0.248405233298513,0.0146965104834275,0.369897825301988,0.0046760395900459,0.482375117217008,0.28076550973969,0.143607903661748,0.006889960043543,0.175072447744746,0.217793162310076,0.365210341017778,0.323748201910478,0.279798174967077,0.0047008219712842,0.0028676020740966],\"xbins\":{\"end\":1,\"start\":0},\"type\":\"histogram\"}],                        {\"font\":{\"size\":17},\"legend\":{\"x\":0.81,\"y\":1.0},\"title\":{\"text\":\"MatchSpectra: filter -> 10%I | match -> 5ppm & normalized\"},\"xaxis\":{\"dtick\":0.1,\"range\":[0,1],\"tickfont\":{\"size\":15},\"title\":{\"text\":\"Reverse score\"}},\"yaxis\":{\"range\":[0,140],\"tickfont\":{\"size\":15},\"title\":{\"text\":\"Frequency\"}},\"template\":{\"data\":{\"histogram2dcontour\":[{\"type\":\"histogram2dcontour\",\"colorbar\":{\"outlinewidth\":0,\"ticks\":\"\"},\"colorscale\":[[0.0,\"#0d0887\"],[0.1111111111111111,\"#46039f\"],[0.2222222222222222,\"#7201a8\"],[0.3333333333333333,\"#9c179e\"],[0.4444444444444444,\"#bd3786\"],[0.5555555555555556,\"#d8576b\"],[0.6666666666666666,\"#ed7953\"],[0.7777777777777778,\"#fb9f3a\"],[0.8888888888888888,\"#fdca26\"],[1.0,\"#f0f921\"]]}],\"choropleth\":[{\"type\":\"choropleth\",\"colorbar\":{\"outlinewidth\":0,\"ticks\":\"\"}}],\"histogram2d\":[{\"type\":\"histogram2d\",\"colorbar\":{\"outlinewidth\":0,\"ticks\":\"\"},\"colorscale\":[[0.0,\"#0d0887\"],[0.1111111111111111,\"#46039f\"],[0.2222222222222222,\"#7201a8\"],[0.3333333333333333,\"#9c179e\"],[0.4444444444444444,\"#bd3786\"],[0.5555555555555556,\"#d8576b\"],[0.6666666666666666,\"#ed7953\"],[0.7777777777777778,\"#fb9f3a\"],[0.8888888888888888,\"#fdca26\"],[1.0,\"#f0f921\"]]}],\"heatmap\":[{\"type\":\"heatmap\",\"colorbar\":{\"outlinewidth\":0,\"ticks\":\"\"},\"colorscale\":[[0.0,\"#0d0887\"],[0.1111111111111111,\"#46039f\"],[0.2222222222222222,\"#7201a8\"],[0.3333333333333333,\"#9c179e\"],[0.4444444444444444,\"#bd3786\"],[0.5555555555555556,\"#d8576b\"],[0.6666666666666666,\"#ed7953\"],[0.7777777777777778,\"#fb9f3a\"],[0.8888888888888888,\"#fdca26\"],[1.0,\"#f0f921\"]]}],\"heatmapgl\":[{\"type\":\"heatmapgl\",\"colorbar\":{\"outlinewidth\":0,\"ticks\":\"\"},\"colorscale\":[[0.0,\"#0d0887\"],[0.1111111111111111,\"#46039f\"],[0.2222222222222222,\"#7201a8\"],[0.3333333333333333,\"#9c179e\"],[0.4444444444444444,\"#bd3786\"],[0.5555555555555556,\"#d8576b\"],[0.6666666666666666,\"#ed7953\"],[0.7777777777777778,\"#fb9f3a\"],[0.8888888888888888,\"#fdca26\"],[1.0,\"#f0f921\"]]}],\"contourcarpet\":[{\"type\":\"contourcarpet\",\"colorbar\":{\"outlinewidth\":0,\"ticks\":\"\"}}],\"contour\":[{\"type\":\"contour\",\"colorbar\":{\"outlinewidth\":0,\"ticks\":\"\"},\"colorscale\":[[0.0,\"#0d0887\"],[0.1111111111111111,\"#46039f\"],[0.2222222222222222,\"#7201a8\"],[0.3333333333333333,\"#9c179e\"],[0.4444444444444444,\"#bd3786\"],[0.5555555555555556,\"#d8576b\"],[0.6666666666666666,\"#ed7953\"],[0.7777777777777778,\"#fb9f3a\"],[0.8888888888888888,\"#fdca26\"],[1.0,\"#f0f921\"]]}],\"surface\":[{\"type\":\"surface\",\"colorbar\":{\"outlinewidth\":0,\"ticks\":\"\"},\"colorscale\":[[0.0,\"#0d0887\"],[0.1111111111111111,\"#46039f\"],[0.2222222222222222,\"#7201a8\"],[0.3333333333333333,\"#9c179e\"],[0.4444444444444444,\"#bd3786\"],[0.5555555555555556,\"#d8576b\"],[0.6666666666666666,\"#ed7953\"],[0.7777777777777778,\"#fb9f3a\"],[0.8888888888888888,\"#fdca26\"],[1.0,\"#f0f921\"]]}],\"mesh3d\":[{\"type\":\"mesh3d\",\"colorbar\":{\"outlinewidth\":0,\"ticks\":\"\"}}],\"scatter\":[{\"fillpattern\":{\"fillmode\":\"overlay\",\"size\":10,\"solidity\":0.2},\"type\":\"scatter\"}],\"parcoords\":[{\"type\":\"parcoords\",\"line\":{\"colorbar\":{\"outlinewidth\":0,\"ticks\":\"\"}}}],\"scatterpolargl\":[{\"type\":\"scatterpolargl\",\"marker\":{\"colorbar\":{\"outlinewidth\":0,\"ticks\":\"\"}}}],\"bar\":[{\"error_x\":{\"color\":\"#2a3f5f\"},\"error_y\":{\"color\":\"#2a3f5f\"},\"marker\":{\"line\":{\"color\":\"#E5ECF6\",\"width\":0.5},\"pattern\":{\"fillmode\":\"overlay\",\"size\":10,\"solidity\":0.2}},\"type\":\"bar\"}],\"scattergeo\":[{\"type\":\"scattergeo\",\"marker\":{\"colorbar\":{\"outlinewidth\":0,\"ticks\":\"\"}}}],\"scatterpolar\":[{\"type\":\"scatterpolar\",\"marker\":{\"colorbar\":{\"outlinewidth\":0,\"ticks\":\"\"}}}],\"histogram\":[{\"marker\":{\"pattern\":{\"fillmode\":\"overlay\",\"size\":10,\"solidity\":0.2}},\"type\":\"histogram\"}],\"scattergl\":[{\"type\":\"scattergl\",\"marker\":{\"colorbar\":{\"outlinewidth\":0,\"ticks\":\"\"}}}],\"scatter3d\":[{\"type\":\"scatter3d\",\"line\":{\"colorbar\":{\"outlinewidth\":0,\"ticks\":\"\"}},\"marker\":{\"colorbar\":{\"outlinewidth\":0,\"ticks\":\"\"}}}],\"scattermapbox\":[{\"type\":\"scattermapbox\",\"marker\":{\"colorbar\":{\"outlinewidth\":0,\"ticks\":\"\"}}}],\"scatterternary\":[{\"type\":\"scatterternary\",\"marker\":{\"colorbar\":{\"outlinewidth\":0,\"ticks\":\"\"}}}],\"scattercarpet\":[{\"type\":\"scattercarpet\",\"marker\":{\"colorbar\":{\"outlinewidth\":0,\"ticks\":\"\"}}}],\"carpet\":[{\"aaxis\":{\"endlinecolor\":\"#2a3f5f\",\"gridcolor\":\"white\",\"linecolor\":\"white\",\"minorgridcolor\":\"white\",\"startlinecolor\":\"#2a3f5f\"},\"baxis\":{\"endlinecolor\":\"#2a3f5f\",\"gridcolor\":\"white\",\"linecolor\":\"white\",\"minorgridcolor\":\"white\",\"startlinecolor\":\"#2a3f5f\"},\"type\":\"carpet\"}],\"table\":[{\"cells\":{\"fill\":{\"color\":\"#EBF0F8\"},\"line\":{\"color\":\"white\"}},\"header\":{\"fill\":{\"color\":\"#C8D4E3\"},\"line\":{\"color\":\"white\"}},\"type\":\"table\"}],\"barpolar\":[{\"marker\":{\"line\":{\"color\":\"#E5ECF6\",\"width\":0.5},\"pattern\":{\"fillmode\":\"overlay\",\"size\":10,\"solidity\":0.2}},\"type\":\"barpolar\"}],\"pie\":[{\"automargin\":true,\"type\":\"pie\"}]},\"layout\":{\"autotypenumbers\":\"strict\",\"colorway\":[\"#636efa\",\"#EF553B\",\"#00cc96\",\"#ab63fa\",\"#FFA15A\",\"#19d3f3\",\"#FF6692\",\"#B6E880\",\"#FF97FF\",\"#FECB52\"],\"font\":{\"color\":\"#2a3f5f\"},\"hovermode\":\"closest\",\"hoverlabel\":{\"align\":\"left\"},\"paper_bgcolor\":\"white\",\"plot_bgcolor\":\"#E5ECF6\",\"polar\":{\"bgcolor\":\"#E5ECF6\",\"angularaxis\":{\"gridcolor\":\"white\",\"linecolor\":\"white\",\"ticks\":\"\"},\"radialaxis\":{\"gridcolor\":\"white\",\"linecolor\":\"white\",\"ticks\":\"\"}},\"ternary\":{\"bgcolor\":\"#E5ECF6\",\"aaxis\":{\"gridcolor\":\"white\",\"linecolor\":\"white\",\"ticks\":\"\"},\"baxis\":{\"gridcolor\":\"white\",\"linecolor\":\"white\",\"ticks\":\"\"},\"caxis\":{\"gridcolor\":\"white\",\"linecolor\":\"white\",\"ticks\":\"\"}},\"coloraxis\":{\"colorbar\":{\"outlinewidth\":0,\"ticks\":\"\"}},\"colorscale\":{\"sequential\":[[0.0,\"#0d0887\"],[0.1111111111111111,\"#46039f\"],[0.2222222222222222,\"#7201a8\"],[0.3333333333333333,\"#9c179e\"],[0.4444444444444444,\"#bd3786\"],[0.5555555555555556,\"#d8576b\"],[0.6666666666666666,\"#ed7953\"],[0.7777777777777778,\"#fb9f3a\"],[0.8888888888888888,\"#fdca26\"],[1.0,\"#f0f921\"]],\"sequentialminus\":[[0.0,\"#0d0887\"],[0.1111111111111111,\"#46039f\"],[0.2222222222222222,\"#7201a8\"],[0.3333333333333333,\"#9c179e\"],[0.4444444444444444,\"#bd3786\"],[0.5555555555555556,\"#d8576b\"],[0.6666666666666666,\"#ed7953\"],[0.7777777777777778,\"#fb9f3a\"],[0.8888888888888888,\"#fdca26\"],[1.0,\"#f0f921\"]],\"diverging\":[[0,\"#8e0152\"],[0.1,\"#c51b7d\"],[0.2,\"#de77ae\"],[0.3,\"#f1b6da\"],[0.4,\"#fde0ef\"],[0.5,\"#f7f7f7\"],[0.6,\"#e6f5d0\"],[0.7,\"#b8e186\"],[0.8,\"#7fbc41\"],[0.9,\"#4d9221\"],[1,\"#276419\"]]},\"xaxis\":{\"gridcolor\":\"white\",\"linecolor\":\"white\",\"ticks\":\"\",\"title\":{\"standoff\":15},\"zerolinecolor\":\"white\",\"automargin\":true,\"zerolinewidth\":2},\"yaxis\":{\"gridcolor\":\"white\",\"linecolor\":\"white\",\"ticks\":\"\",\"title\":{\"standoff\":15},\"zerolinecolor\":\"white\",\"automargin\":true,\"zerolinewidth\":2},\"scene\":{\"xaxis\":{\"backgroundcolor\":\"#E5ECF6\",\"gridcolor\":\"white\",\"linecolor\":\"white\",\"showbackground\":true,\"ticks\":\"\",\"zerolinecolor\":\"white\",\"gridwidth\":2},\"yaxis\":{\"backgroundcolor\":\"#E5ECF6\",\"gridcolor\":\"white\",\"linecolor\":\"white\",\"showbackground\":true,\"ticks\":\"\",\"zerolinecolor\":\"white\",\"gridwidth\":2},\"zaxis\":{\"backgroundcolor\":\"#E5ECF6\",\"gridcolor\":\"white\",\"linecolor\":\"white\",\"showbackground\":true,\"ticks\":\"\",\"zerolinecolor\":\"white\",\"gridwidth\":2}},\"shapedefaults\":{\"line\":{\"color\":\"#2a3f5f\"}},\"annotationdefaults\":{\"arrowcolor\":\"#2a3f5f\",\"arrowhead\":0,\"arrowwidth\":1},\"geo\":{\"bgcolor\":\"white\",\"landcolor\":\"#E5ECF6\",\"subunitcolor\":\"white\",\"showland\":true,\"showlakes\":true,\"lakecolor\":\"white\"},\"title\":{\"x\":0.05},\"mapbox\":{\"style\":\"light\"}}}},                        {\"responsive\": true}                    ).then(function(){\n",
       "                            \n",
       "var gd = document.getElementById('741f7394-1a60-4d95-a74e-71ae4eb75826');\n",
       "var x = new MutationObserver(function (mutations, observer) {{\n",
       "        var display = window.getComputedStyle(gd).display;\n",
       "        if (!display || display === 'none') {{\n",
       "            console.log([gd, 'removed!']);\n",
       "            Plotly.purge(gd);\n",
       "            observer.disconnect();\n",
       "        }}\n",
       "}});\n",
       "\n",
       "// Listen for the removal of the full notebook cells\n",
       "var notebookContainer = gd.closest('#notebook-container');\n",
       "if (notebookContainer) {{\n",
       "    x.observe(notebookContainer, {childList: true});\n",
       "}}\n",
       "\n",
       "// Listen for the clearing of the current output cell\n",
       "var outputEl = gd.closest('.output');\n",
       "if (outputEl) {{\n",
       "    x.observe(outputEl, {childList: true});\n",
       "}}\n",
       "\n",
       "                        })                };                });            </script>        </div>"
      ]
     },
     "metadata": {},
     "output_type": "display_data"
    }
   ],
   "source": [
    "plot_histograms_sidebyside(same_query_ref10, same_query_ref5, same_query_ref6, same_query_ref7, same_query_ref8, 'reverse_score',  'Reverse score', 'MatchSpectra: filter -> 10%I | match -> 5ppm & normalized')"
   ]
  },
  {
   "cell_type": "code",
   "execution_count": 77,
   "metadata": {},
   "outputs": [],
   "source": [
    "# def plot_histogram(data, xaxis_title, title, yaxis_title='Number of molecules', nbinsx=40, tick0=0, dtick=0.05, tickfont_size=16, yaxis_max=None, yaxis_step=None):\n",
    "#     histogram = go.Histogram(x=data, nbinsx=nbinsx)\n",
    "#     layout = go.Layout(title=title, xaxis_title=xaxis_title, yaxis_title=yaxis_title,\n",
    "#                        xaxis=dict(tickmode='linear', tick0=tick0, dtick=dtick, tickfont=dict(size=tickfont_size)),\n",
    "#                        yaxis=dict(tickmode='linear', tick0=0, dtick=yaxis_step, tickfont=dict(size=tickfont_size), range=[0, yaxis_max]))\n",
    "#     figure = go.Figure(data=[histogram], layout=layout)\n",
    "#     figure.show()"
   ]
  },
  {
   "cell_type": "code",
   "execution_count": 78,
   "metadata": {},
   "outputs": [],
   "source": [
    "# plot_histogram(same_query_ref1['score'], xaxis_title='Score', title='matchSpectra_results_source_1%_tp3.tsv', tickfont_size=16, yaxis_max=70, yaxis_step=15)"
   ]
  },
  {
   "cell_type": "code",
   "execution_count": 79,
   "metadata": {},
   "outputs": [],
   "source": [
    "def make_boxplot(grouped_df: pd.DataFrame, colname: str, legend: str):\n",
    "    #Create the plot with a width of 10 inches\n",
    "    fig, ax = plt.subplots(figsize=(17, 5))\n",
    "\n",
    "    # Create a list of DataFrames, one for each group\n",
    "    grouped_dfs = [grouped_df.get_group(group) for group in grouped_df.groups]\n",
    "\n",
    "    # Create a boxplot for each DataFrame\n",
    "    ax.boxplot([df[colname] for df in grouped_dfs])\n",
    "    \n",
    "\n",
    "    labels = [f\"{group} ({len(x)})\" for group, x in grouped_df]\n",
    "    # Set the x-axis tick labels and increase the distance between ticks to 0.5 inches\n",
    "    ax.set_xticklabels(labels, rotation=90)\n",
    "    ax.tick_params(axis='x', which='major', pad=0.5)\n",
    "    \n",
    "    # Set the x-axis label, y-axis label, and plot title\n",
    "    #ax.set_ylim([0, 1])\n",
    "    ax.set_xlabel('Class', fontsize=16)\n",
    "    ax.set_ylabel(colname, fontsize=16)\n",
    "    ax.legend([legend], fontsize=14)\n",
    "    \n",
    "    # Show the plot\n",
    "    plt.show()\n",
    "\t"
   ]
  },
  {
   "cell_type": "code",
   "execution_count": 80,
   "metadata": {},
   "outputs": [],
   "source": [
    "def has_halogen_atoms(mol):\n",
    "    # Check if the molecule contains any halogen atoms\n",
    "    for atom in mol.GetAtoms():\n",
    "        if atom.GetSymbol() in ['F', 'Cl', 'Br', 'I']:\n",
    "            return True\n",
    "\n",
    "    return False"
   ]
  },
  {
   "cell_type": "code",
   "execution_count": 81,
   "metadata": {},
   "outputs": [],
   "source": [
    "def has_atom(mol, atom):\n",
    "    for mol_atom in mol.GetAtoms():\n",
    "        if mol_atom.GetSymbol() == atom:\n",
    "            return True\n",
    "\n",
    "    return False"
   ]
  },
  {
   "cell_type": "code",
   "execution_count": 82,
   "metadata": {},
   "outputs": [],
   "source": [
    "def append_classes(df, left_on):\n",
    "    molecules = Chem.SDMolSupplier(\"../../data/RECETOX_GC-EI-MS_20201028.sdf\")\n",
    "    class_names = pd.DataFrame({\n",
    "        \"class\" : [m.GetProp(\"Class\") for m in molecules],\n",
    "        \"superclass\" : [m.GetProp(\"Superclass\") for m in molecules],\n",
    "        \"molname\" : [m.GetProp(\"NAME\") for m in molecules],\n",
    "        \"n_atoms\" : [m.GetNumAtoms() for m in molecules],\n",
    "        \"n_bonds\" : [m.GetNumBonds() for m in molecules],\n",
    "        \"has_halogen\": [has_halogen_atoms(m) for m in molecules],\n",
    "        \"smiles\" : [m.GetProp(\"SMILES\") for m in molecules],\n",
    "        \"Cl\": [has_atom(m, 'Cl') for m in molecules],\n",
    "        \"Br\": [has_atom(m, 'Br') for m in molecules],\n",
    "        \"F\": [has_atom(m, 'F') for m in molecules],\n",
    "        \"S\": [has_atom(m, 'S') for m in molecules],\n",
    "        \"P\": [has_atom(m, 'P') for m in molecules],\n",
    "        \"Si\": [has_atom(m, 'Si') for m in molecules],\n",
    "    })\n",
    "    merged_df = pd.merge(df, class_names, left_on=left_on, right_on='molname')\n",
    "    return merged_df"
   ]
  },
  {
   "cell_type": "code",
   "execution_count": 83,
   "metadata": {},
   "outputs": [
    {
     "name": "stderr",
     "output_type": "stream",
     "text": [
      "[12:47:05] Skipping unrecognized collection type at line 48576: MDLV30/STERAC1 BONDS=(1 7)\n"
     ]
    }
   ],
   "source": [
    "molecules = Chem.SDMolSupplier(\"../../data/RECETOX_GC-EI-MS_20201028.sdf\")\n",
    "unique_atoms = set([atom.GetSymbol() for m in molecules for atom in m.GetAtoms()])"
   ]
  },
  {
   "cell_type": "code",
   "execution_count": null,
   "metadata": {},
   "outputs": [],
   "source": []
  },
  {
   "cell_type": "code",
   "execution_count": 84,
   "metadata": {},
   "outputs": [],
   "source": [
    "# Define a function to map the true columns to a list of names\n",
    "def get_true_names(row, df):\n",
    "    return [col for col in df.columns[11:17] if row[col]]"
   ]
  },
  {
   "cell_type": "code",
   "execution_count": 85,
   "metadata": {},
   "outputs": [],
   "source": [
    "# make_boxplot(merged_df.groupby('class'), 'CosineHungarian_0.1_0.0_1.0_scores', 'MatchMS 1%I & 1%tol All peaks norm')"
   ]
  },
  {
   "cell_type": "code",
   "execution_count": 86,
   "metadata": {},
   "outputs": [],
   "source": [
    "# make_boxplot(merged_df.groupby('class'), 'score', 'MatchSpectra 1% All peaks norm')"
   ]
  },
  {
   "cell_type": "code",
   "execution_count": 87,
   "metadata": {},
   "outputs": [],
   "source": [
    "# make_boxplot(merged_df.groupby('class'), 'reverse_score', 'MatchSpectra 1% All peaks norm')"
   ]
  },
  {
   "cell_type": "code",
   "execution_count": 88,
   "metadata": {},
   "outputs": [
    {
     "name": "stderr",
     "output_type": "stream",
     "text": [
      "[12:47:05] Skipping unrecognized collection type at line 48576: MDLV30/STERAC1 BONDS=(1 7)\n",
      "[12:47:06] Skipping unrecognized collection type at line 48576: MDLV30/STERAC1 BONDS=(1 7)\n",
      "[12:47:06] Skipping unrecognized collection type at line 48576: MDLV30/STERAC1 BONDS=(1 7)\n",
      "[12:47:06] Skipping unrecognized collection type at line 48576: MDLV30/STERAC1 BONDS=(1 7)\n",
      "[12:47:06] Skipping unrecognized collection type at line 48576: MDLV30/STERAC1 BONDS=(1 7)\n",
      "[12:47:06] Skipping unrecognized collection type at line 48576: MDLV30/STERAC1 BONDS=(1 7)\n"
     ]
    },
    {
     "name": "stderr",
     "output_type": "stream",
     "text": [
      "[12:47:06] Skipping unrecognized collection type at line 48576: MDLV30/STERAC1 BONDS=(1 7)\n",
      "[12:47:06] Skipping unrecognized collection type at line 48576: MDLV30/STERAC1 BONDS=(1 7)\n",
      "[12:47:06] Skipping unrecognized collection type at line 48576: MDLV30/STERAC1 BONDS=(1 7)\n",
      "[12:47:07] Skipping unrecognized collection type at line 48576: MDLV30/STERAC1 BONDS=(1 7)\n",
      "[12:47:07] Skipping unrecognized collection type at line 48576: MDLV30/STERAC1 BONDS=(1 7)\n",
      "[12:47:07] Skipping unrecognized collection type at line 48576: MDLV30/STERAC1 BONDS=(1 7)\n",
      "[12:47:07] Skipping unrecognized collection type at line 48576: MDLV30/STERAC1 BONDS=(1 7)\n"
     ]
    }
   ],
   "source": [
    "top5 = pd.read_csv(\"../data/matchms_top5_comparison.tsv\", sep='\\t')\n",
    "top5_same = get_matching_rows(top5, 'query', 'reference')\n",
    "merged_top5_same = append_classes(top5_same, 'query')"
   ]
  },
  {
   "cell_type": "code",
   "execution_count": 89,
   "metadata": {},
   "outputs": [],
   "source": [
    "# Apply the function to each row of the DataFrame\n",
    "merged_top5_same['true_names'] = merged_top5_same.apply(lambda row: get_true_names(row, merged_top5_same), axis=1)\n",
    "# Convert the list of names to a comma-separated string\n",
    "merged_top5_same['true_names'] = merged_top5_same['true_names'].apply(lambda lst: ', '.join(lst))"
   ]
  },
  {
   "cell_type": "code",
   "execution_count": 90,
   "metadata": {},
   "outputs": [
    {
     "data": {
      "image/png": "[encoded data removed]",
      "text/plain": [
       "<Figure size 1700x500 with 1 Axes>"
      ]
     },
     "metadata": {},
     "output_type": "display_data"
    }
   ],
   "source": [
    "make_boxplot(merged_top5_same.groupby('class'), 'CosineHungarian_0.01_0.0_1.0_matches', 'Top5 ions comparison')"
   ]
  },
  {
   "cell_type": "code",
   "execution_count": 91,
   "metadata": {},
   "outputs": [
    {
     "data": {
      "image/png": "[encoded data removed]",
      "text/plain": [
       "<Figure size 1700x500 with 1 Axes>"
      ]
     },
     "metadata": {},
     "output_type": "display_data"
    },
    {
     "data": {
      "image/png": "[encoded data removed]",
      "text/plain": [
       "<Figure size 1700x500 with 1 Axes>"
      ]
     },
     "metadata": {},
     "output_type": "display_data"
    }
   ],
   "source": [
    "make_boxplot(merged_top5_same.groupby('true_names'), 'CosineHungarian_0.01_0.0_1.0_matches', 'Top5 ions comparison')\n",
    "make_boxplot(merged_top5_same.groupby('true_names'), 'CosineHungarian_0.01_0.0_1.0_scores', 'Top5 ions comparison')"
   ]
  },
  {
   "cell_type": "code",
   "execution_count": 92,
   "metadata": {},
   "outputs": [],
   "source": [
    "count = len(top5_same[top5_same['CosineHungarian_0.01_0.0_1.0_scores']>0.65])"
   ]
  },
  {
   "cell_type": "code",
   "execution_count": 93,
   "metadata": {},
   "outputs": [
    {
     "data": {
      "image/png": "[encoded data removed]",
      "text/plain": [
       "<Figure size 1700x500 with 1 Axes>"
      ]
     },
     "metadata": {},
     "output_type": "display_data"
    }
   ],
   "source": [
    "make_boxplot(merged_top5_same.groupby('has_halogen'), 'CosineHungarian_0.01_0.0_1.0_scores', 'Top5 ions comparison')"
   ]
  },
  {
   "cell_type": "code",
   "execution_count": 94,
   "metadata": {},
   "outputs": [
    {
     "ename": "NameError",
     "evalue": "name 'merged_df' is not defined",
     "output_type": "error",
     "traceback": [
      "\u001b[0;31m---------------------------------------------------------------------------\u001b[0m",
      "\u001b[0;31mNameError\u001b[0m                                 Traceback (most recent call last)",
      "\u001b[1;32m/home/hechth/dev/git/RECETOX/ei_spectra_predictions/analysis/Python_scripts/scores_matches_histogram.ipynb Cell 31\u001b[0m line \u001b[0;36m2\n\u001b[1;32m      <a href='vscode-notebook-cell://wsl%2Bubuntu-20.04/home/hechth/dev/git/RECETOX/ei_spectra_predictions/analysis/Python_scripts/scores_matches_histogram.ipynb#X41sdnNjb2RlLXJlbW90ZQ%3D%3D?line=0'>1</a>\u001b[0m \u001b[39m# group the DataFrame by the 'class' column\u001b[39;00m\n\u001b[0;32m----> <a href='vscode-notebook-cell://wsl%2Bubuntu-20.04/home/hechth/dev/git/RECETOX/ei_spectra_predictions/analysis/Python_scripts/scores_matches_histogram.ipynb#X41sdnNjb2RlLXJlbW90ZQ%3D%3D?line=1'>2</a>\u001b[0m grouped_df \u001b[39m=\u001b[39m merged_df\u001b[39m.\u001b[39mgroupby(\u001b[39m'\u001b[39m\u001b[39mclass\u001b[39m\u001b[39m'\u001b[39m)\n\u001b[1;32m      <a href='vscode-notebook-cell://wsl%2Bubuntu-20.04/home/hechth/dev/git/RECETOX/ei_spectra_predictions/analysis/Python_scripts/scores_matches_histogram.ipynb#X41sdnNjb2RlLXJlbW90ZQ%3D%3D?line=3'>4</a>\u001b[0m \u001b[39m# create a figure with one subplot\u001b[39;00m\n\u001b[1;32m      <a href='vscode-notebook-cell://wsl%2Bubuntu-20.04/home/hechth/dev/git/RECETOX/ei_spectra_predictions/analysis/Python_scripts/scores_matches_histogram.ipynb#X41sdnNjb2RlLXJlbW90ZQ%3D%3D?line=4'>5</a>\u001b[0m fig, ax1 \u001b[39m=\u001b[39m plt\u001b[39m.\u001b[39msubplots(\u001b[39m1\u001b[39m, figsize\u001b[39m=\u001b[39m(\u001b[39m16\u001b[39m, \u001b[39m6\u001b[39m))\n",
      "\u001b[0;31mNameError\u001b[0m: name 'merged_df' is not defined"
     ]
    }
   ],
   "source": [
    "# group the DataFrame by the 'class' column\n",
    "grouped_df = merged_df.groupby('class')\n",
    "\n",
    "# create a figure with one subplot\n",
    "fig, ax1 = plt.subplots(1, figsize=(16, 6))\n",
    "\n",
    "# plot a histogram of the 'CosineHungarian_score' column for each group\n",
    "for group_name, group_df in grouped_df:\n",
    "    freq = len(group_df)\n",
    "    if freq > 1:\n",
    "        ax1.hist(group_df['CosineHungarian_0.1_0.0_1.0_scores'], alpha=0.5, label=group_name)\n",
    "    else:\n",
    "        ax1.hist(group_df['CosineHungarian_0.1_0.0_1.0_scores'], alpha=0.5)\n",
    "\n",
    "# set the x-axis label, y-axis label, and title\n",
    "ax1.set_xlabel('Score')\n",
    "ax1.set_ylabel('Frequency')\n",
    "ax1.set_title('Histogram')\n",
    "\n",
    "# set the x-axis ticks and tick labels\n",
    "x_min = merged_df['CosineHungarian_0.1_0.0_1.0_scores'].min()\n",
    "x_max = merged_df['CosineHungarian_0.1_0.0_1.0_scores'].max()\n",
    "x_range = x_max - x_min\n",
    "x_ticks = np.arange(x_min-0.5, x_max+1.0, x_range/10)\n",
    "x_tick_labels = [str(round(x, 1)) for x in x_ticks]\n",
    "ax1.set_xticks(x_ticks)\n",
    "ax1.set_xticklabels(x_tick_labels)\n",
    "\n",
    "# set the x-axis range\n",
    "ax1.set_xlim([-0.5, 1.0])\n",
    "\n",
    "# set the y-axis ticks and tick labels\n",
    "y_max = ax1.get_ylim()[1]\n",
    "y_ticks = np.arange(0, y_max+1, 2)\n",
    "ax1.set_yticks(y_ticks)\n",
    "\n",
    "# add a legend to the plot for groups with frequency greater than 1\n",
    "handles, labels = ax1.get_legend_handles_labels()\n",
    "handles_filtered = []\n",
    "labels_filtered = []\n",
    "for handle, label in zip(handles, labels):\n",
    "    if label != '' and label not in labels_filtered:\n",
    "        labels_filtered.append(label)\n",
    "        handles_filtered.append(handle)\n",
    "ax1.legend(handles_filtered, labels_filtered)\n",
    "\n",
    "# display the plot\n",
    "plt.show()"
   ]
  }
 ],
 "metadata": {
  "kernelspec": {
   "display_name": "base",
   "language": "python",
   "name": "python3"
  },
  "language_info": {
   "codemirror_mode": {
    "name": "ipython",
    "version": 3
   },
   "file_extension": ".py",
   "mimetype": "text/x-python",
   "name": "python",
   "nbconvert_exporter": "python",
   "pygments_lexer": "ipython3",
   "version": "3.9.18"
  },
  "orig_nbformat": 4
 },
 "nbformat": 4,
 "nbformat_minor": 2
}
