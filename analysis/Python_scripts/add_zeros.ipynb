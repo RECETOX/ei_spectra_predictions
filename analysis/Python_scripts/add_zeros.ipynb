{
 "cells": [
  {
   "cell_type": "code",
   "execution_count": 25,
   "metadata": {},
   "outputs": [],
   "source": [
    "import pandas as pd\n",
    "from matchms.importing import load_from_msp\n",
    "from matchms.logging_functions import set_matchms_logger_level\n",
    "import itertools\n",
    "from utils import load_spectra_metadata\n",
    "\n",
    "set_matchms_logger_level(\"ERROR\")"
   ]
  },
  {
   "cell_type": "code",
   "execution_count": 26,
   "metadata": {},
   "outputs": [],
   "source": [
    "predicted_spectra, predicted_spectra_metadata, predicted_spectra_names = load_spectra_metadata(\"../data/filtered/simulated_matchms_filter_1%I_all_peaks.msp\", 'query')"
   ]
  },
  {
   "cell_type": "code",
   "execution_count": 27,
   "metadata": {},
   "outputs": [],
   "source": [
    "experimental_spectra, experimental_spectra_metadata, experimental_spectra_names = load_spectra_metadata(\"../data/experimental/RECETOX_GC-EI_MS_20201028.msp\", 'reference')"
   ]
  },
  {
   "cell_type": "code",
   "execution_count": 28,
   "metadata": {},
   "outputs": [],
   "source": [
    "all_combinations = set(itertools.product(predicted_spectra_names, experimental_spectra_names))"
   ]
  },
  {
   "cell_type": "code",
   "execution_count": 29,
   "metadata": {},
   "outputs": [],
   "source": [
    "matches = pd.read_csv(\"../data/output_matching/matchms/matchms_tol_0.01_1%I_top5.tsv\", sep=\"\\t\")\n",
    "matches.set_index(['query', 'reference'], inplace=True)"
   ]
  },
  {
   "cell_type": "code",
   "execution_count": 30,
   "metadata": {},
   "outputs": [],
   "source": [
    "existing_rows = set(matches.index.to_list())\n",
    "rows_to_add = list(all_combinations - existing_rows)"
   ]
  },
  {
   "cell_type": "code",
   "execution_count": 31,
   "metadata": {},
   "outputs": [],
   "source": [
    "all_zeros = pd.DataFrame(0, index=rows_to_add, columns=matches.columns)\n",
    "merged = pd.concat([matches, all_zeros]).reset_index(names=['query', 'reference'])"
   ]
  },
  {
   "cell_type": "code",
   "execution_count": 32,
   "metadata": {},
   "outputs": [],
   "source": [
    "merged.to_csv(\"../data/output_matching/matchms/matchms_tol_0.01_1%I_top5_with_0s.tsv\", sep=\"\\t\", index=False)"
   ]
  }
 ],
 "metadata": {
  "kernelspec": {
   "display_name": "Python 3",
   "language": "python",
   "name": "python3"
  },
  "language_info": {
   "codemirror_mode": {
    "name": "ipython",
    "version": 3
   },
   "file_extension": ".py",
   "mimetype": "text/x-python",
   "name": "python",
   "nbconvert_exporter": "python",
   "pygments_lexer": "ipython3",
   "version": "3.10.0"
  }
 },
 "nbformat": 4,
 "nbformat_minor": 2
}
