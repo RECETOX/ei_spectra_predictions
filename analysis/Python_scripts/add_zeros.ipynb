{
 "cells": [
  {
   "cell_type": "code",
   "execution_count": 1,
   "metadata": {},
   "outputs": [],
   "source": [
    "import pandas as pd\n",
    "from matchms.importing import load_from_msp\n",
    "from matchms.logging_functions import set_matchms_logger_level\n",
    "import itertools\n",
    "from utils import load_spectra_metadata, get_matching_rows\n",
    "\n",
    "set_matchms_logger_level(\"ERROR\")"
   ]
  },
  {
   "cell_type": "code",
   "execution_count": 8,
   "metadata": {},
   "outputs": [],
   "source": [
    "matches = pd.read_csv(\"../data/output_matching/matchms/matchms_tol_0.01_1%I_top5.tsv\", sep=\"\\t\")"
   ]
  },
  {
   "cell_type": "code",
   "execution_count": 2,
   "metadata": {},
   "outputs": [],
   "source": [
    "def compute_combinations():\n",
    "    predicted_spectra, predicted_spectra_metadata, predicted_spectra_names = load_spectra_metadata(\"../data/filtered/simulated_matchms_filter_1%I_all_peaks.msp\", 'query')\n",
    "    experimental_spectra, experimental_spectra_metadata, experimental_spectra_names = load_spectra_metadata(\"../data/experimental/RECETOX_GC-EI_MS_20201028.msp\", 'reference')\n",
    "    all_combinations = set(itertools.product(predicted_spectra_names, experimental_spectra_names))\n",
    "    return all_combinations"
   ]
  },
  {
   "cell_type": "code",
   "execution_count": 3,
   "metadata": {},
   "outputs": [],
   "source": [
    "def add_zeros(matches: pd.DataFrame, keys: list[str]) -> pd.DataFrame:\n",
    "    all_combinations = compute_combinations()\n",
    "    matches.set_index(keys, inplace=True)\n",
    "    existing_rows = set(matches.index.to_list())\n",
    "    rows_to_add = list(all_combinations - existing_rows)\n",
    "    all_zeros = pd.DataFrame(0, index=rows_to_add, columns=matches.columns)\n",
    "    merged = pd.concat([matches, all_zeros]).reset_index(names=keys)\n",
    "    return merged"
   ]
  },
  {
   "cell_type": "code",
   "execution_count": 12,
   "metadata": {},
   "outputs": [],
   "source": [
    "merged = add_zeros(matches, ['query', 'reference'])"
   ]
  },
  {
   "cell_type": "code",
   "execution_count": 13,
   "metadata": {},
   "outputs": [],
   "source": [
    "merged.to_csv(\"../data/output_matching/matchms/matchms_tol_0.01_1%I_top5_with_0s_test.tsv\", sep=\"\\t\", index=False)\n"
   ]
  },
  {
   "cell_type": "code",
   "execution_count": 14,
   "metadata": {},
   "outputs": [],
   "source": [
    "matches_R = pd.read_csv(\"../data/output_matching/metaboannotation/metaboannotation_NA_to_zeros_all_peaks_filterNA.tsv\", sep=\"\\t\")\n",
    "merged_r = add_zeros(matches_R, [\"name\", \"target_name\"])\n",
    "merged_r.to_csv(\"../data/output_matching/metaboannotation/metaboannotation_all_peaks_with_0s.tsv\", sep=\"\\t\", index=False)"
   ]
  },
  {
   "cell_type": "code",
   "execution_count": 18,
   "metadata": {},
   "outputs": [],
   "source": [
    "only_matching = get_matching_rows(merged_r, \"name\", \"target_name\")\n",
    "only_matching.to_csv(\"../data/output_matching/metaboannotation/metaboannotation_all_peaks_with_0s_only_matching.tsv\", sep=\"\\t\", index=False)"
   ]
  },
  {
   "cell_type": "code",
   "execution_count": 6,
   "metadata": {},
   "outputs": [],
   "source": [
    "matches_matchms_top5 = pd.read_csv(\"../data/output_matching/matchms/matchms_tol_0.01_1%I_top5_with_0s.tsv\", sep=\"\\t\")\n",
    "only_matching_matchms_top5 = get_matching_rows(matches_matchms_top5, \"query\", \"reference\")\n",
    "only_matching_matchms_top5.to_csv(\"../data/output_matching/matchms/matchms_tol_0.01_1%I_top5_with_0s_only_matching.tsv\", sep=\"\\t\", index=False)\n"
   ]
  },
  {
   "cell_type": "code",
   "execution_count": 7,
   "metadata": {},
   "outputs": [],
   "source": [
    "matches_matchms_all_peaks = pd.read_csv(\"../data/output_matching/matchms/matchms_tol_0.01_1%I_all_peaks_with_0s.tsv\", sep=\"\\t\")\n",
    "only_matching_matchms_all_peaks = get_matching_rows(matches_matchms_all_peaks, \"query\", \"reference\")\n",
    "only_matching_matchms_all_peaks.to_csv(\"../data/output_matching/matchms/matchms_tol_0.01_1%I_all_peaks_with_0s_only_matching.tsv\", sep=\"\\t\", index=False)\n"
   ]
  }
 ],
 "metadata": {
  "kernelspec": {
   "display_name": "Python 3",
   "language": "python",
   "name": "python3"
  },
  "language_info": {
   "codemirror_mode": {
    "name": "ipython",
    "version": 3
   },
   "file_extension": ".py",
   "mimetype": "text/x-python",
   "name": "python",
   "nbconvert_exporter": "python",
   "pygments_lexer": "ipython3",
   "version": "3.10.0"
  }
 },
 "nbformat": 4,
 "nbformat_minor": 2
}
