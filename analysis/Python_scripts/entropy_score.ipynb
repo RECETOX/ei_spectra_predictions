{
 "cells": [
  {
   "cell_type": "code",
   "execution_count": 10,
   "metadata": {},
   "outputs": [],
   "source": [
    "import ms_entropy as me\n",
    "import pandas as pd\n",
    "\n",
    "from matchms.importing import load_from_msp\n",
    "from utils import generate_compound_name_options\n",
    "\n",
    "from matchms import Spectrum\n",
    "from matchms.filtering import select_by_mz"
   ]
  },
  {
   "cell_type": "code",
   "execution_count": 3,
   "metadata": {},
   "outputs": [],
   "source": [
    "query = list(load_from_msp(\"../data/filtered/simulated_matchms_filter_1%I_all_peaks.msp\"))\n",
    "reference = list(load_from_msp(\"../data/experimental/RECETOX_GC-EI_MS_20201028.msp\"))"
   ]
  },
  {
   "cell_type": "code",
   "execution_count": 3,
   "metadata": {},
   "outputs": [],
   "source": [
    "peaks_query = {}\n",
    "for x in query:\n",
    "    peaks_query[x.get(\"compound_name\")] = x.peaks.to_numpy"
   ]
  },
  {
   "cell_type": "code",
   "execution_count": 4,
   "metadata": {},
   "outputs": [],
   "source": [
    "peaks_references = {}\n",
    "for x in reference:\n",
    "    peaks_references[x.get(\"compound_name\")] = x.peaks.to_numpy"
   ]
  },
  {
   "cell_type": "code",
   "execution_count": 5,
   "metadata": {},
   "outputs": [],
   "source": [
    "results = {\n",
    "    \"query\": list(),\n",
    "    \"reference\": list(),\n",
    "    \"scores\": list()\n",
    "}\n",
    "\n",
    "for query_key, query_value in peaks_query.items():\n",
    "    ref_options = generate_compound_name_options(query_key)\n",
    "    for opt in ref_options:\n",
    "        ref_value = peaks_references.get(opt)\n",
    "\n",
    "        if ref_value is not None:\n",
    "            entropy = me.calculate_entropy_similarity(query_value, ref_value, ms2_tolerance_in_da=0.0035)\n",
    "            results[\"query\"].append(query_key)\n",
    "            results[\"reference\"].append(opt)\n",
    "            results[\"scores\"].append(entropy)"
   ]
  },
  {
   "cell_type": "code",
   "execution_count": 6,
   "metadata": {},
   "outputs": [],
   "source": [
    "results_df = pd.DataFrame(results)\n",
    "results_df.to_csv(\"../data/output_matching/entropy/entropy_tol_0.0035da.tsv\", sep=\"\\t\", index=False)"
   ]
  },
  {
   "cell_type": "code",
   "execution_count": 9,
   "metadata": {},
   "outputs": [],
   "source": [
    "query_entropy = [me.calculate_spectral_entropy(x) for x in peaks_query.values()]\n",
    "reference_entropy = [me.calculate_spectral_entropy(x) for x in peaks_references.values()]"
   ]
  },
  {
   "cell_type": "code",
   "execution_count": 11,
   "metadata": {},
   "outputs": [
    {
     "data": {
      "text/plain": [
       "(array([  6.,  10.,  39.,  39.,  66., 106.,  54.,  34.,  24.,   6.]),\n",
       " array([0.67526078, 1.10719573, 1.53913069, 1.97106564, 2.40300059,\n",
       "        2.83493567, 3.2668705 , 3.69880533, 4.13074017, 4.56267548,\n",
       "        4.99461031]),\n",
       " <BarContainer object of 10 artists>)"
      ]
     },
     "execution_count": 11,
     "metadata": {},
     "output_type": "execute_result"
    },
    {
     "data": {
      "image/png": "[encoded data removed]",
      "text/plain": [
       "<Figure size 640x480 with 1 Axes>"
      ]
     },
     "metadata": {},
     "output_type": "display_data"
    }
   ],
   "source": [
    "from matplotlib import pyplot as plt\n",
    "\n",
    "plt.hist(reference_entropy)"
   ]
  },
  {
   "cell_type": "code",
   "execution_count": 14,
   "metadata": {},
   "outputs": [
    {
     "data": {
      "text/plain": [
       "compound  filtering   weighting \n",
       "Acephate  unfiltered  weighted      0.092818\n",
       "                      unweighted    0.089549\n",
       "          filtered    weighted      0.124301\n",
       "                      unweighted    0.119223\n",
       "dtype: float64"
      ]
     },
     "execution_count": 14,
     "metadata": {},
     "output_type": "execute_result"
    }
   ],
   "source": [
    "spectrum_name = \"Acephate\"\n",
    "exp_mz_upper_limit = 200\n",
    "da_tol = 0.0035\n",
    "\n",
    "def entropy_similarity_comparison(spectrum_name, exp_mz_upper_limit, da_tol):\n",
    "    exp = get_spectrum_by_name(reference, spectrum_name)\n",
    "    sim = get_spectrum_by_name(query, spectrum_name)\n",
    "\n",
    "    exp_filtered = select_by_mz(exp, 0, exp_mz_upper_limit)\n",
    "\n",
    "    unfiltered_entropy = entropy_similarity(sim, exp, da_tol)\n",
    "    unfiltered_unweighted_entropy = entropy_similarity(sim, exp, da_tol, weighted=False)\n",
    "    filtered_entropy = entropy_similarity(sim, exp_filtered, da_tol)\n",
    "    filtered_unweighted_entropy = entropy_similarity(sim, exp_filtered, da_tol, weighted=False)\n",
    "\n",
    "    scores = [unfiltered_entropy, unfiltered_unweighted_entropy, filtered_entropy, filtered_unweighted_entropy]\n",
    "\n",
    "    tuples = [\n",
    "        (spectrum_name, \"unfiltered\", \"weighted\"),\n",
    "        (spectrum_name, \"unfiltered\", \"unweighted\"),\n",
    "        (spectrum_name, \"filtered\", \"weighted\"),\n",
    "        (spectrum_name, \"filtered\", \"unweighted\"),        \n",
    "    ]\n",
    "\n",
    "    index = pd.MultiIndex.from_tuples(tuples, names=[\"compound\", \"filtering\", \"weighting\"])\n",
    "    return pd.Series(scores, index=index)\n",
    "\n",
    "entropy_similarity_comparison(spectrum_name, exp_mz_upper_limit, da_tol)"
   ]
  },
  {
   "cell_type": "code",
   "execution_count": 16,
   "metadata": {},
   "outputs": [
    {
     "data": {
      "text/plain": [
       "compound  filtering   weighting \n",
       "Coronene  unfiltered  weighted      0.366884\n",
       "                      unweighted    0.386688\n",
       "          filtered    weighted      0.366435\n",
       "                      unweighted    0.394992\n",
       "dtype: float64"
      ]
     },
     "execution_count": 16,
     "metadata": {},
     "output_type": "execute_result"
    }
   ],
   "source": [
    "entropy_similarity_comparison(\"Coronene\", 310, 0.0035)"
   ]
  },
  {
   "cell_type": "code",
   "execution_count": 15,
   "metadata": {},
   "outputs": [],
   "source": [
    "from typing import List\n",
    "\n",
    "def get_spectrum_by_name(db: List[Spectrum], name: str) -> Spectrum:\n",
    "    return next((item for _, item in enumerate(db) if item.get(\"compound_name\") == name), None)\n",
    "\n",
    "def entropy_similarity(query: Spectrum, reference: Spectrum, da_tol: float, weighted: bool = True) -> float:\n",
    "    func = me.calculate_entropy_similarity if weighted else me.calculate_unweighted_entropy_similarity\n",
    "    return func(query.peaks.to_numpy, reference.peaks.to_numpy, ms2_tolerance_in_da=da_tol)\n",
    "\n",
    "def remove_peaks_above_precursor(spectrum: Spectrum) -> Spectrum:\n",
    "    cutoff = float(spectrum.get(\"precursor_mz\")) + 20\n",
    "    return select_by_mz(spectrum, 0, cutoff)"
   ]
  },
  {
   "cell_type": "code",
   "execution_count": 8,
   "metadata": {},
   "outputs": [],
   "source": []
  }
 ],
 "metadata": {
  "kernelspec": {
   "display_name": "Python 3",
   "language": "python",
   "name": "python3"
  },
  "language_info": {
   "codemirror_mode": {
    "name": "ipython",
    "version": 3
   },
   "file_extension": ".py",
   "mimetype": "text/x-python",
   "name": "python",
   "nbconvert_exporter": "python",
   "pygments_lexer": "ipython3",
   "version": "3.8.19"
  }
 },
 "nbformat": 4,
 "nbformat_minor": 2
}
