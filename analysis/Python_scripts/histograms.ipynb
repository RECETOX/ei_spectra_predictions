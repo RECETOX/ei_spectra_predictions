{
 "cells": [
  {
   "cell_type": "code",
   "execution_count": null,
   "metadata": {},
   "outputs": [],
   "source": [
    "import pandas as pd\n",
    "import numpy as np\n",
    "from matplotlib import pyplot as plt\n",
    "\n",
    "from utils import *\n",
    "from plotting import *"
   ]
  },
  {
   "cell_type": "code",
   "execution_count": null,
   "metadata": {},
   "outputs": [],
   "source": [
    "matchms_scores = pd.read_csv(\"../data/output_matching/matchms/matchms_tol_0.0035_1%I_all_peaks_with_0s_only_matching.tsv\", sep=\"\\t\")\n",
    "matchms_scores.rename(columns={'CosineHungarian_0.0035_0.0_1.0_scores': 'scores'}, inplace=True)\n",
    "matchms_scores.rename(columns={'CosineHungarian_0.0035_0.0_1.0_matches': 'matches'}, inplace=True)\n",
    "matchms_scores = append_classes(matchms_scores, 'query')\n",
    "merged = append_spectrum_metadata(matchms_scores)"
   ]
  },
  {
   "cell_type": "code",
   "execution_count": null,
   "metadata": {},
   "outputs": [],
   "source": [
    "plt.hist(merged['scores'], bins=20,color='#20afdf', cumulative=True)\n",
    "plt.xlabel('Scores')\n",
    "plt.ylabel('Frequency')\n",
    "plt.show()"
   ]
  },
  {
   "cell_type": "code",
   "execution_count": null,
   "metadata": {},
   "outputs": [],
   "source": [
    "matches_normalized = merged['matches'] / merged['n_peaks_reference']\n",
    "plt.hist(matches_normalized, bins=20,color='#dfdf20', cumulative=True)\n",
    "plt.xticks(np.arange(0, 1, 0.1))\n",
    "plt.xlabel('Matches')\n",
    "plt.ylabel('Frequency')\n",
    "plt.show()"
   ]
  },
  {
   "cell_type": "code",
   "execution_count": null,
   "metadata": {},
   "outputs": [],
   "source": [
    "#plt.figure(figsize=(10, 6))\n",
    "\n",
    "# Plot histogram of matches\n",
    "plt.hist(matches_normalized * 100, range=[0,100], bins=100, color='#dfdf20', alpha=0.7, label='ions matching reference (%)', cumulative=True, histtype=\"step\")\n",
    "\n",
    "# Plot histogram of scores\n",
    "plt.hist(merged['scores'] * 100, range=[0,100], bins=100, color='#20afdf', alpha=0.7, label='cosine scores (0-100)', cumulative=True, histtype=\"step\")\n",
    "\n",
    "plt.xlabel('matches / scores')\n",
    "plt.ylabel('molecules')\n",
    "plt.xlim(0, 100)\n",
    "plt.legend()\n",
    "plt.show()"
   ]
  },
  {
   "cell_type": "code",
   "execution_count": null,
   "metadata": {},
   "outputs": [],
   "source": [
    "matchms_scores_top5 = pd.read_csv(\"../data/output_matching/matchms/matchms_tol_0.0035_1%I_top5_with_0s_only_matching.tsv\", sep=\"\\t\")\n",
    "matchms_scores_top5.rename(columns={'CosineHungarian_0.0035_0.0_1.0_scores': 'scores'}, inplace=True)\n",
    "matchms_scores_top5.rename(columns={'CosineHungarian_0.0035_0.0_1.0_matches': 'matches'}, inplace=True)\n",
    "matchms_scores_top5 = append_classes(matchms_scores_top5, 'query')\n",
    "merged_top5 = append_spectrum_metadata(matchms_scores_top5)"
   ]
  },
  {
   "cell_type": "code",
   "execution_count": null,
   "metadata": {},
   "outputs": [],
   "source": [
    "merged_top5['matches'].value_counts()"
   ]
  },
  {
   "cell_type": "code",
   "execution_count": null,
   "metadata": {},
   "outputs": [],
   "source": [
    "plt.hist(merged_top5['matches'],color='#dfdf20', cumulative=True)\n",
    "plt.xlabel('Matches')\n",
    "plt.ylabel('Frequency')\n",
    "plt.show()\n",
    "res = plt.hist(merged_top5['matches'], bins=6,color='#dfdf20', cumulative=True)\n"
   ]
  },
  {
   "cell_type": "code",
   "execution_count": null,
   "metadata": {},
   "outputs": [],
   "source": [
    "plt.hist2d(matches_normalized * 100, merged['scores'] * 1000, bins=(5, 5), range=[[0, 100], [0, 1000]])\n",
    "plt.colorbar()\n",
    "plt.clim(0, 70)\n",
    "plt.xlabel('ions matching reference (%)', fontsize=20)\n",
    "plt.ylabel('scores', fontsize=20)\n",
    "plt.tick_params(labelsize=13)\n",
    "plt.show()"
   ]
  },
  {
   "cell_type": "code",
   "execution_count": null,
   "metadata": {},
   "outputs": [],
   "source": [
    "plt.hist2d(merged_top5['matches'], merged_top5['scores'] * 1000, bins=([0,1,2,3,4,5], 5))\n",
    "plt.colorbar()\n",
    "plt.clim(0, 70)\n",
    "\n",
    "plt.xlabel('ion matches', fontsize=20)\n",
    "plt.ylabel('scores', fontsize=20)\n",
    "plt.tick_params(labelsize=13)\n",
    "plt.show()"
   ]
  },
  {
   "cell_type": "code",
   "execution_count": null,
   "metadata": {},
   "outputs": [],
   "source": [
    "plt.hist(merged_top5['matches'], color='#dfdf20', alpha=0.7, label='ion matches', cumulative=True)\n",
    "\n",
    "# Plot histogram of scores\n",
    "plt.hist(merged_top5['scores'] * 5, color='#20afdf', alpha=0.7, label='cosine scores (0-100)', cumulative=True)\n",
    "\n",
    "plt.xlabel('Value')\n",
    "plt.ylabel('Frequency')\n",
    "plt.title('Histogram')\n",
    "plt.legend()\n",
    "plt.show()"
   ]
  }
 ],
 "metadata": {
  "kernelspec": {
   "display_name": "Python 3",
   "language": "python",
   "name": "python3"
  },
  "language_info": {
   "codemirror_mode": {
    "name": "ipython",
    "version": 3
   },
   "file_extension": ".py",
   "mimetype": "text/x-python",
   "name": "python",
   "nbconvert_exporter": "python",
   "pygments_lexer": "ipython3",
   "version": "3.10.0"
  }
 },
 "nbformat": 4,
 "nbformat_minor": 2
}
