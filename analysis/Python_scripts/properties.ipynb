{
 "cells": [
  {
   "cell_type": "code",
   "execution_count": null,
   "metadata": {},
   "outputs": [],
   "source": [
    "import pandas as pd\n",
    "import os\n",
    "import numpy as np\n",
    "import math\n",
    "from matplotlib import pyplot as plt\n",
    "from rdkit import Chem\n",
    "import plotly.graph_objs as go\n",
    "from plotly.subplots import make_subplots\n",
    "\n",
    "from utils import *\n",
    "from plotting import *"
   ]
  },
  {
   "cell_type": "code",
   "execution_count": null,
   "metadata": {},
   "outputs": [],
   "source": [
    "matchms_scores = pd.read_csv(\"../data/output_matching/matchms/matchms_tol_0.0035_1%I_all_peaks_with_0s_only_matching.tsv\", sep=\"\\t\")\n",
    "matchms_scores.rename(columns={'CosineHungarian_0.0035_0.0_1.0_scores': 'scores'}, inplace=True)\n",
    "matchms_scores.rename(columns={'CosineHungarian_0.0035_0.0_1.0_matches': 'matches'}, inplace=True)\n",
    "\n",
    "matchms_scores = append_classes(matchms_scores, 'query')\n",
    "df = normalize_df(append_spectrum_metadata(matchms_scores), matches_norm_col=None)\n",
    "del df['peak_comments']\n",
    "\n",
    "matches_col = 'matches'\n",
    "scores_col = 'scores'\n",
    "\n",
    "df['matches_norm_query'] = df[matches_col] / df['n_peaks_query']\n",
    "df['matches_norm_reference'] = df[matches_col] / df['n_peaks_reference']"
   ]
  },
  {
   "cell_type": "code",
   "execution_count": null,
   "metadata": {},
   "outputs": [],
   "source": [
    "plt.scatter(df['molecular_flexibility'], df[scores_col])\n",
    "plt.xlabel('Molecular Complexity')\n",
    "plt.ylabel('Cosine Score')\n",
    "plt.title('Cosine Score vs Molecular Complexity')\n",
    "plt.show()"
   ]
  },
  {
   "cell_type": "code",
   "execution_count": null,
   "metadata": {},
   "outputs": [],
   "source": [
    "plt.hist2d(df[scores_col], df['molecular_flexibility'], bins=10, cmap='plasma')\n",
    "plt.colorbar(label='')\n",
    "plt.xlabel('Scores')\n",
    "plt.ylabel('Molecular Flexibility')\n",
    "plt.title('2D Histogram of Scores and Molecular Flexibility')\n",
    "plt.show()"
   ]
  },
  {
   "cell_type": "code",
   "execution_count": null,
   "metadata": {},
   "outputs": [],
   "source": [
    "plt.hist2d(df[scores_col], df['molecular_complexity'], bins=10, cmap='plasma')\n",
    "plt.colorbar(label='Counts')\n",
    "plt.xlabel('Scores')\n",
    "plt.ylabel('Molecular Complexity')\n",
    "plt.title('2D Histogram of Scores and Molecular Complexity')\n",
    "plt.show()"
   ]
  },
  {
   "cell_type": "code",
   "execution_count": null,
   "metadata": {},
   "outputs": [],
   "source": [
    "plt.hist2d(df[scores_col], df['rotatable_bonds'], bins=22, cmap='plasma')\n",
    "plt.colorbar(label='Counts')\n",
    "plt.xlabel('Scores')\n",
    "plt.ylabel('Rotatable Bonds')\n",
    "plt.title('2D Histogram of Scores and Rotatable Bonds Count')\n",
    "plt.show()"
   ]
  },
  {
   "cell_type": "code",
   "execution_count": null,
   "metadata": {},
   "outputs": [],
   "source": [
    "plt.hist2d(df[scores_col], df['non_ch_atoms'], bins=10, cmap='plasma')\n",
    "plt.colorbar(label='Counts')\n",
    "plt.xlabel('Scores')\n",
    "plt.ylabel('Non-Carbon or Hydrogen Atoms')\n",
    "plt.title('2D Histogram of Scores and Atom Counts')\n",
    "plt.show()"
   ]
  },
  {
   "cell_type": "code",
   "execution_count": null,
   "metadata": {},
   "outputs": [],
   "source": [
    "plt.hist2d(df[scores_col], df['n_atoms'], bins=20, cmap='plasma')\n",
    "plt.colorbar(label='Counts')\n",
    "plt.xlabel('Scores')\n",
    "plt.ylabel('Atoms')\n",
    "plt.title('2D Histogram of Scores and Atom Counts')\n",
    "plt.show()"
   ]
  },
  {
   "cell_type": "code",
   "execution_count": null,
   "metadata": {},
   "outputs": [],
   "source": [
    "import scipy.stats as stats\n",
    "\n",
    "stats.pearsonr(df['molecular_flexibility'].astype(float), df[scores_col].astype(float))"
   ]
  },
  {
   "cell_type": "code",
   "execution_count": null,
   "metadata": {},
   "outputs": [],
   "source": [
    "properties = [\n",
    "    'scores',\n",
    "    'matches',\n",
    "    'matches_norm_query',\n",
    "    'matches_norm_reference',\n",
    "    'molecular_flexibility',\n",
    "    'rotatable_bonds',\n",
    "    'stereo_centers',\n",
    "    'molecular_complexity',\n",
    "    'n_atoms',\n",
    "    'precursor_mz',\n",
    "    'electronegative_atoms',\n",
    "    'aromatic_nitrogens',\n",
    "    'amines',\n",
    "    'amides',\n",
    "]\n",
    "\n",
    "# Assuming `df` is your DataFrame\n",
    "corr = df[properties].corr().round(2)\n",
    "\n",
    "plt.figure(figsize=(10, 8))\n",
    "sns.heatmap(corr, annot=True, cmap='coolwarm', center=0, vmin=-1, vmax=1)\n",
    "# plt.title('Pearson Correlations')\n",
    "plt.show()"
   ]
  },
  {
   "cell_type": "code",
   "execution_count": null,
   "metadata": {},
   "outputs": [],
   "source": [
    "means = df[properties + [\"class\"]].groupby('class').mean()\n",
    "medians = df[properties + [\"class\"]].groupby('class').median()\n",
    "medians_superclass = df[properties + [\"superclass\"]].groupby('superclass').median()\n",
    "p_means = df[properties + [\"P\"]].groupby('P').mean()"
   ]
  },
  {
   "cell_type": "code",
   "execution_count": null,
   "metadata": {},
   "outputs": [],
   "source": [
    "medians.to_csv(\"class_medians.csv\")\n",
    "means.to_csv(\"class_means.csv\")"
   ]
  },
  {
   "cell_type": "code",
   "execution_count": null,
   "metadata": {},
   "outputs": [],
   "source": [
    "wang_db = pd.read_csv(\"../data/reference/13321_2020_470_MOESM1_ESM.csv\")\n",
    "wang_props = [\"RBN\", \"Dot\", \"Mass\", \"Match\", \"number_of_atoms\", \"Cos\", \"R.match\", \"RBF\", \"PHI\"]\n",
    "# Assuming `df` is your DataFrame\n",
    "corr_wang = wang_db[wang_props].corr().round(2)\n",
    "\n",
    "plt.figure(figsize=(10, 8))\n",
    "sns.heatmap(corr_wang, annot=True, cmap='coolwarm', center=0, vmin=-1, vmax=1)\n",
    "# plt.title('Pearson Correlations')\n",
    "plt.show()"
   ]
  },
  {
   "cell_type": "code",
   "execution_count": null,
   "metadata": {},
   "outputs": [],
   "source": [
    "wang_colwise_means = wang_db[wang_props].mean()\n",
    "our_means = df[properties].mean()"
   ]
  }
 ],
 "metadata": {
  "kernelspec": {
   "display_name": "Python 3",
   "language": "python",
   "name": "python3"
  },
  "language_info": {
   "codemirror_mode": {
    "name": "ipython",
    "version": 3
   },
   "file_extension": ".py",
   "mimetype": "text/x-python",
   "name": "python",
   "nbconvert_exporter": "python",
   "pygments_lexer": "ipython3",
   "version": "3.10.0"
  }
 },
 "nbformat": 4,
 "nbformat_minor": 2
}
