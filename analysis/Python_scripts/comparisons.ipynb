{
 "cells": [
  {
   "cell_type": "code",
   "execution_count": null,
   "metadata": {},
   "outputs": [],
   "source": [
    "import pandas as pd\n",
    "import matplotlib.pyplot as plt\n",
    "import seaborn as sns\n",
    "from rdkit import Chem\n",
    "\n",
    "from utils import *"
   ]
  },
  {
   "cell_type": "code",
   "execution_count": null,
   "metadata": {},
   "outputs": [],
   "source": [
    "matchms_scores = pd.read_csv(\"../data/output_matching/matchms/matchms_tol_0.0035_1%I_all_peaks_with_0s_only_matching.tsv\", sep=\"\\t\")\n",
    "matchms_scores.rename(columns={'CosineHungarian_0.0035_0.0_1.0_scores': 'scores'}, inplace=True)\n",
    "matchms_scores.rename(columns={'CosineHungarian_0.0035_0.0_1.0_matches': 'matches'}, inplace=True)\n",
    "\n",
    "matchms_scores = append_classes(matchms_scores, 'query')\n",
    "df = normalize_df(append_spectrum_metadata(matchms_scores))\n",
    "del df['peak_comments']\n",
    "\n",
    "matches_col = 'matches'\n",
    "scores_col = 'scores'\n",
    "\n",
    "df['matches_norm_query'] = df[matches_col] / df['n_peaks_query']\n",
    "df['matches_norm_reference'] = df[matches_col] / df['n_peaks_reference']"
   ]
  },
  {
   "cell_type": "code",
   "execution_count": null,
   "metadata": {},
   "outputs": [],
   "source": [
    "wang_db = pd.read_csv(\"../data/reference/13321_2020_470_MOESM1_ESM.csv\")\n",
    "wang_props = [\"RBN\", \"Dot\", \"Mass\", \"Match\", \"number_of_atoms\", \"Cos\", \"R.match\", \"RBF\", \"PHI\"]\n",
    "# Assuming `df` is your DataFrame\n",
    "corr_wang = wang_db[wang_props].corr().round(2)\n",
    "\n",
    "plt.figure(figsize=(10, 8))\n",
    "sns.heatmap(corr_wang, annot=True, cmap='coolwarm', center=0, vmin=-1, vmax=1)\n",
    "# plt.title('Pearson Correlations')\n",
    "plt.show()"
   ]
  },
  {
   "cell_type": "code",
   "execution_count": null,
   "metadata": {},
   "outputs": [],
   "source": [
    "wang_db_tms = pd.read_csv(\"../data/reference/wang2022_TMS_annotated.tsv\", sep=\"\\t\")\n",
    "wang_props = [\"RBN\", \"Dot\", \"Mass\", \"Match\", \"number_of_atoms\", \"Cos\", \"R.match\", \"RBF\", \"PHI\"]\n",
    "# Assuming `df` is your DataFrame\n",
    "corr_wang = wang_db[wang_props].corr().round(2)\n",
    "\n",
    "plt.figure(figsize=(10, 8))\n",
    "sns.heatmap(corr_wang, annot=True, cmap='coolwarm', center=0, vmin=-1, vmax=1)\n",
    "# plt.title('Pearson Correlations')\n",
    "plt.show()"
   ]
  },
  {
   "cell_type": "code",
   "execution_count": null,
   "metadata": {},
   "outputs": [],
   "source": [
    "properties = [\n",
    "    'scores',\n",
    "    'matches',\n",
    "    'matches_norm_query',\n",
    "    'matches_norm_reference',\n",
    "    'molecular_flexibility',\n",
    "    'rotatable_bonds',\n",
    "    'stereo_centers',\n",
    "    'molecular_complexity',\n",
    "    'n_atoms',\n",
    "    'precursor_mz',\n",
    "    'electronegative_atoms',\n",
    "    'aromatic_nitrogens',\n",
    "    'amines',\n",
    "    'amides',\n",
    "]"
   ]
  },
  {
   "cell_type": "code",
   "execution_count": null,
   "metadata": {},
   "outputs": [],
   "source": [
    "wang_colwise_means = wang_db[wang_props].mean()\n",
    "our_means = df[properties].mean()"
   ]
  },
  {
   "cell_type": "code",
   "execution_count": null,
   "metadata": {},
   "outputs": [],
   "source": [
    "rcx_db = Chem.SDMolSupplier(\"../data/experimental/recetox_gc-ei-ms_20201028_properties.sdf\", sanitize=True)\n",
    "wang2020_db = Chem.SDMolSupplier(\"../data/reference/structure_databases/wang2020.sdf\", sanitize=True)\n",
    "wang2022_es_db = Chem.SDMolSupplier(\"../data/reference/structure_databases/wang2022_es.sdf\", sanitize=True)\n",
    "wang2022_tms_db = Chem.SDMolSupplier(\"../data/reference/structure_databases/wang2022_TMS.sdf\", sanitize=True)\n",
    "schreckenbach_db = Chem.SDMolSupplier(\"../data/reference/structure_databases/schreckenbach_db.sdf\", sanitize=True)\n",
    "asgeirsson_db = Chem.SDMolSupplier(\"../data/reference/structure_databases/asgeirsson.sdf\", sanitize=True)\n",
    "lee2022_db = Chem.SDMolSupplier(\"../data/reference/structure_databases/lee2022.sdf\", sanitize=True)"
   ]
  },
  {
   "cell_type": "code",
   "execution_count": null,
   "metadata": {},
   "outputs": [],
   "source": [
    "rcx_df = sdf_to_dataframe(rcx_db)\n",
    "wang2020_df = sdf_to_dataframe(wang2020_db)\n",
    "wang2022_es_df = sdf_to_dataframe(wang2022_es_db)\n",
    "wang2022_tms_df = sdf_to_dataframe(wang2022_tms_db)\n",
    "schreckenbach_df = sdf_to_dataframe(schreckenbach_db)\n",
    "asgeirsson_df = sdf_to_dataframe(asgeirsson_db)\n",
    "lee2022_df = sdf_to_dataframe(lee2022_db)"
   ]
  },
  {
   "cell_type": "code",
   "execution_count": null,
   "metadata": {},
   "outputs": [],
   "source": [
    "rcx_df_means = rcx_df.mean()\n",
    "wang2020_df_means = wang2020_df.mean()\n",
    "wang2022_es_df_means = wang2022_es_df.mean()\n",
    "wang2022_tms_df_means = wang2022_tms_df.mean()\n",
    "schreckenbach_df_means = schreckenbach_df.mean()\n",
    "asgeirsson_df_means = asgeirsson_df.mean()\n",
    "lee2022_df_means = lee2022_df.mean()"
   ]
  },
  {
   "cell_type": "code",
   "execution_count": null,
   "metadata": {},
   "outputs": [],
   "source": [
    "rcx_df_vals = rcx_df.agg(['mean', 'min', 'max']).stack()\n",
    "wang2020_df_vals = wang2020_df.agg(['mean', 'min', 'max']).stack()\n",
    "wang2022_es_df_vals = wang2022_es_df.agg(['mean', 'min', 'max']).stack()\n",
    "wang2022_tms_df_vals = wang2022_tms_df.agg(['mean', 'min', 'max']).stack()\n",
    "schreckenbach_df_vals = schreckenbach_df.agg(['mean', 'min', 'max']).stack()\n",
    "asgeirsson_df_vals = asgeirsson_df.agg(['mean', 'min', 'max']).stack()\n",
    "lee2022_df_vals = lee2022_df.agg(['mean', 'min', 'max']).stack()"
   ]
  },
  {
   "cell_type": "code",
   "execution_count": null,
   "metadata": {},
   "outputs": [],
   "source": [
    "df_vals = pd.DataFrame(\n",
    "    [\n",
    "        rcx_df_vals,\n",
    "        wang2020_df_vals,\n",
    "        wang2022_es_df_vals,\n",
    "        wang2022_tms_df_vals,\n",
    "        schreckenbach_df_vals,\n",
    "        asgeirsson_df_vals,\n",
    "        lee2022_df_vals\n",
    "    ],\n",
    "    index=[\n",
    "        'this',\n",
    "        'Wang2020',\n",
    "        'Wang2022_ES',\n",
    "        'Wang2022_TMS',\n",
    "        'Schreckenbach2021',\n",
    "        'Asgeirsson2017',\n",
    "        'Lee2022'\n",
    "    ]\n",
    ")\n",
    "df_vals = df_vals.reorder_levels([1, 0], axis=1)"
   ]
  },
  {
   "cell_type": "code",
   "execution_count": null,
   "metadata": {},
   "outputs": [],
   "source": [
    "df_vals.columns = df_vals.columns.map('_'.join)\n",
    "df_vals.columns = df_vals.columns.str.replace('_', '')"
   ]
  },
  {
   "cell_type": "code",
   "execution_count": null,
   "metadata": {},
   "outputs": [],
   "source": [
    "df_vals_transposed = df_vals.transpose()\n",
    "df_vals_transposed.head()"
   ]
  },
  {
   "cell_type": "code",
   "execution_count": null,
   "metadata": {},
   "outputs": [],
   "source": [
    "df_vals_transposed.to_csv(\"study_comparisons_t.csv\", float_format='%.2f')"
   ]
  },
  {
   "cell_type": "code",
   "execution_count": null,
   "metadata": {},
   "outputs": [],
   "source": [
    "df_vals.to_csv(\"study_comparisons.csv\", float_format='%.2f')"
   ]
  },
  {
   "cell_type": "code",
   "execution_count": null,
   "metadata": {},
   "outputs": [],
   "source": [
    "df_means = pd.DataFrame(\n",
    "    [\n",
    "        rcx_df_means,\n",
    "        wang2020_df_means,\n",
    "        wang2022_es_df_means,\n",
    "        wang2022_tms_df_means,\n",
    "        schreckenbach_df_means,\n",
    "        asgeirsson_df_means,\n",
    "        lee2022_df_means\n",
    "    ],\n",
    "    index=[\n",
    "        'RCX2024',\n",
    "        'Wang2020',\n",
    "        'Wang2022_ES',\n",
    "        'Wang2022_TMS',\n",
    "        'Schreckenbach2021',\n",
    "        'Asgeirsson2017',\n",
    "        'Lee2022'\n",
    "    ]\n",
    ")"
   ]
  },
  {
   "cell_type": "code",
   "execution_count": null,
   "metadata": {},
   "outputs": [],
   "source": [
    "df_means.to_csv(\"reference_datasets_means.csv\", float_format='%.3f')"
   ]
  }
 ],
 "metadata": {
  "kernelspec": {
   "display_name": "Python 3",
   "language": "python",
   "name": "python3"
  },
  "language_info": {
   "codemirror_mode": {
    "name": "ipython",
    "version": 3
   },
   "file_extension": ".py",
   "mimetype": "text/x-python",
   "name": "python",
   "nbconvert_exporter": "python",
   "pygments_lexer": "ipython3",
   "version": "3.10.0"
  }
 },
 "nbformat": 4,
 "nbformat_minor": 2
}
