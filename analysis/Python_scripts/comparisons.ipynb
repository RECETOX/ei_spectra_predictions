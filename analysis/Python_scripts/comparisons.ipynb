{
 "cells": [
  {
   "cell_type": "code",
   "execution_count": null,
   "metadata": {},
   "outputs": [],
   "source": [
    "import pandas as pd\n",
    "import matplotlib.pyplot as plt\n",
    "import seaborn as sns"
   ]
  },
  {
   "cell_type": "code",
   "execution_count": null,
   "metadata": {},
   "outputs": [],
   "source": [
    "wang_db = pd.read_csv(\"../data/reference/13321_2020_470_MOESM1_ESM.csv\")\n",
    "wang_props = [\"RBN\", \"Dot\", \"Mass\", \"Match\", \"number_of_atoms\", \"Cos\", \"R.match\", \"RBF\", \"PHI\"]\n",
    "# Assuming `df` is your DataFrame\n",
    "corr_wang = wang_db[wang_props].corr().round(2)\n",
    "\n",
    "plt.figure(figsize=(10, 8))\n",
    "sns.heatmap(corr_wang, annot=True, cmap='coolwarm', center=0, vmin=-1, vmax=1)\n",
    "# plt.title('Pearson Correlations')\n",
    "plt.show()"
   ]
  },
  {
   "cell_type": "code",
   "execution_count": null,
   "metadata": {},
   "outputs": [],
   "source": [
    "wang_colwise_means = wang_db[wang_props].mean()\n",
    "our_means = df[properties].mean()"
   ]
  }
 ],
 "metadata": {
  "language_info": {
   "name": "python"
  }
 },
 "nbformat": 4,
 "nbformat_minor": 2
}
