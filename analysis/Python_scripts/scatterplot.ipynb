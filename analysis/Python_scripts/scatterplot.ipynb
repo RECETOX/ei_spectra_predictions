{
 "cells": [
  {
   "cell_type": "code",
   "execution_count": 1,
   "metadata": {},
   "outputs": [],
   "source": [
    "import plotly.graph_objs as go\n",
    "import pandas as pd\n",
    "from matchms.importing import load_from_msp\n",
    "from matchms.logging_functions import set_matchms_logger_level\n",
    "\n",
    "from utils import is_spectrum_for_compound, append_classes, load_spectra_metadata, normalize_df\n",
    "from plotting import scatterplot_matplotlib\n",
    "\n",
    "set_matchms_logger_level('ERROR')"
   ]
  },
  {
   "cell_type": "code",
   "execution_count": 2,
   "metadata": {},
   "outputs": [],
   "source": [
    "matchms_scores = pd.read_csv(\"../data/output_matching/matchms/matchms_tol_0.01_1%I_all_peaks_with_0s.tsv\", sep=\"\\t\")\n",
    "matchms_scores = matchms_scores[matchms_scores.apply(lambda x: is_spectrum_for_compound(x['query'], x['reference']), axis=1)]\n",
    "\n",
    "_ , spectra_metadata, _ = load_spectra_metadata(\"../data/filtered/simulated_matchms_filter_1%I_all_peaks.msp\", 'query')\n",
    "_ , reference_spectra_metadata, _ = load_spectra_metadata(\"../data/experimental/RECETOX_GC-EI_MS_20201028.msp\", 'reference')"
   ]
  },
  {
   "cell_type": "code",
   "execution_count": 3,
   "metadata": {},
   "outputs": [],
   "source": [
    "merged = matchms_scores.merge(spectra_metadata, on=\"query\", how=\"inner\")\n",
    "merged.rename(columns={'num_peaks': 'n_peaks_query'}, inplace=True)\n",
    "\n",
    "merged = merged.merge(reference_spectra_metadata, on=\"reference\", how=\"inner\")\n",
    "merged.rename(columns={'num_peaks': 'n_peaks_reference'}, inplace=True)"
   ]
  },
  {
   "cell_type": "code",
   "execution_count": 4,
   "metadata": {},
   "outputs": [],
   "source": [
    "numeric_columns = ['CosineHungarian_0.01_0.0_1.0_matches', 'n_peaks_query', 'n_peaks_reference']\n",
    "merged[numeric_columns] = merged[numeric_columns].apply(pd.to_numeric, errors='coerce')\n",
    "\n",
    "merged['FractionQuery'] = merged['CosineHungarian_0.01_0.0_1.0_matches'] / merged['n_peaks_query']\n",
    "merged['FractionReference'] = merged['CosineHungarian_0.01_0.0_1.0_matches'] / merged['n_peaks_reference']"
   ]
  },
  {
   "cell_type": "code",
   "execution_count": 5,
   "metadata": {},
   "outputs": [],
   "source": [
    "merged = append_classes(merged, \"query\")"
   ]
  },
  {
   "cell_type": "code",
   "execution_count": 6,
   "metadata": {},
   "outputs": [],
   "source": [
    "# Create a scatter plot\n",
    "def scatterplot_plotly(df, title):\n",
    "    fig = go.Figure()\n",
    "    fig.add_trace(go.Scatter(\n",
    "        x=df['CosineHungarian_0.01_0.0_1.0_scores'],\n",
    "        y=df['CosineHungarian_0.01_0.0_1.0_matches'],\n",
    "        mode='markers+text',\n",
    "        marker=dict(\n",
    "            size=(df['FractionQuery'] * 20) + 2,  # Adjust the size scaling factor as needed\n",
    "            color=df['FractionReference'],\n",
    "            colorscale='Viridis',  # change the colorscale as needed\n",
    "            colorbar=dict(title='Reference Matched %'),\n",
    "            cmin=0,  # Set the minimum color limit\n",
    "            cmax=1,  # Set the maximum color limit\n",
    "            opacity=0.5\n",
    "        ),\n",
    "        text=df['reference'],\n",
    "        textposition='middle right',\n",
    "        # textposition=['top right' if i % 2 == 0 else 'bottom right' for i in range(len(df))],  # Make text positions alternating\n",
    "        name='Matched Ions'\n",
    "    ))\n",
    "    fig.update_layout(\n",
    "        xaxis_title='Score',\n",
    "        yaxis_title='Matches',\n",
    "        title_text=title,\n",
    "        xaxis=dict(range=[0, 1]),  # Set the x-axis limits\n",
    "        # yaxis=dict(\n",
    "        #     range=[0, 70],\n",
    "        #     type='linear',\n",
    "        # ),\n",
    "        width=800,\n",
    "        height=600\n",
    "    )\n",
    "    fig.show()\n",
    "    return fig"
   ]
  },
  {
   "cell_type": "code",
   "execution_count": 10,
   "metadata": {},
   "outputs": [],
   "source": [
    "# Create a scatter plot\n",
    "def scatterplot_plotly_with_legends(df, title):\n",
    "    fig = go.Figure()\n",
    "    fig.add_trace(go.Scatter(\n",
    "        x=df['CosineHungarian_0.01_0.0_1.0_scores'],\n",
    "        y=df['CosineHungarian_0.01_0.0_1.0_matches'],\n",
    "        mode='markers+text',\n",
    "        marker=dict(\n",
    "            size=(df['FractionQuery'] * 20) + 2,  # Adjust the size scaling factor as needed\n",
    "            color=df['FractionReference'],\n",
    "            colorscale='Viridis',  # change the colorscale as needed\n",
    "            colorbar=dict(title='Reference Matched %'),\n",
    "            cmin=0,  # Set the minimum color limit\n",
    "            cmax=1,  # Set the maximum color limit\n",
    "            opacity=0.5\n",
    "        ),\n",
    "        text=df['reference'],\n",
    "        textposition='middle right',\n",
    "        # textposition=['top right' if i % 2 == 0 else 'bottom right' for i in range(len(df))],  # Make text positions alternating\n",
    "        name='Matched Ions'\n",
    "    ))\n",
    "    fig.add_trace(go.Scatter(\n",
    "        x=[None],\n",
    "        y=[None],\n",
    "        mode='markers',\n",
    "        marker=dict(size=10, color='black'),\n",
    "        showlegend=True,\n",
    "        name='Size represents FractionQuery',\n",
    "    ))\n",
    "    fig.update_layout(\n",
    "        xaxis_title='Score',\n",
    "        yaxis_title='Matches',\n",
    "        title_text=title,\n",
    "        xaxis=dict(range=[0, 1]),  # Set the x-axis limits\n",
    "        # yaxis=dict(\n",
    "        #     range=[0, 70],\n",
    "        #     type='linear',\n",
    "        # ),\n",
    "        width=800,\n",
    "        height=600\n",
    "    )\n",
    "    fig.show()\n",
    "    return fig"
   ]
  },
  {
   "cell_type": "code",
   "execution_count": 11,
   "metadata": {},
   "outputs": [
    {
     "data": {
      "application/vnd.plotly.v1+json": {
       "config": {
        "plotlyServerURL": "https://plot.ly"
       },
       "data": [
        {
         "marker": {
          "cmax": 1,
          "cmin": 0,
          "color": [
           0.06060606060606061,
           0.631578947368421,
           0.058823529411764705,
           0.7894736842105263,
           0.7619047619047619,
           0.6842105263157895,
           0.7222222222222222,
           0.8823529411764706,
           0.8125,
           0.68,
           0.30434782608695654,
           0.47619047619047616,
           0.6666666666666666,
           0.7619047619047619,
           0.52,
           0.6875,
           0.8333333333333334,
           0.6086956521739131,
           0.5416666666666666,
           0.4090909090909091,
           0.55,
           0.208955223880597,
           0.7272727272727273,
           0.1702127659574468,
           0.1323529411764706,
           0.4230769230769231,
           0.3877551020408163,
           0.47619047619047616,
           0.56,
           0.27058823529411763,
           0.20212765957446807,
           0.4444444444444444,
           0.12903225806451613,
           0.5045045045045045,
           0.6481481481481481,
           0.3544973544973545,
           0.6730769230769231,
           0.78,
           0.6792452830188679,
           0.5777777777777777,
           0.6515151515151515,
           0.75,
           0.5925925925925926,
           0.6551724137931034,
           0.6170212765957447,
           0.6271186440677966,
           0.6147540983606558,
           0.7142857142857143,
           0.7213114754098361,
           0.7254901960784313,
           0.651685393258427,
           0.7241379310344828,
           0.711864406779661,
           0.6847826086956522,
           0.6153846153846154,
           0.6597938144329897,
           0.734375,
           0.6036036036036037,
           0.9047619047619048,
           0.34782608695652173,
           0.6923076923076923,
           0.43636363636363634,
           0.4818181818181818,
           0.6105263157894737,
           0.5178571428571429,
           0.7361111111111112,
           0.10119047619047619,
           0.3786407766990291,
           0.5,
           0.44954128440366975,
           0.07692307692307693,
           0.24561403508771928,
           0.6470588235294118,
           0.7105263157894737,
           0.35555555555555557,
           0.3023255813953488,
           0.44,
           0.5909090909090909,
           0.47058823529411764,
           0.7241379310344828,
           0.5,
           0.75,
           0.7857142857142857,
           0.825,
           0.7608695652173914,
           0.7647058823529411,
           0.5522388059701493,
           0.7560975609756098,
           0.6,
           0.5441176470588235,
           0.16058394160583941,
           0.225,
           0.5510204081632653,
           0.48,
           0.29411764705882354,
           0.8125,
           0.8461538461538461,
           0.5555555555555556,
           0.45454545454545453,
           0.76,
           0.5238095238095238,
           0.6875,
           0.6764705882352942,
           0.5,
           0.4507042253521127,
           0.6,
           0.2608695652173913,
           0.3037974683544304,
           0.36,
           0.6341463414634146,
           0.36046511627906974,
           0.19696969696969696,
           0.3118279569892473,
           0.7058823529411765,
           0.7209302325581395,
           0.6551724137931034,
           0.68,
           0.654320987654321,
           0.6349206349206349,
           0.546875,
           0.5461538461538461,
           0.6074074074074074,
           0.6436781609195402,
           0.6176470588235294,
           0.4861878453038674,
           0.5535714285714286,
           0.45989304812834225,
           0.40625,
           0.35365853658536583,
           0.5865384615384616,
           0.41025641025641024,
           0.3793103448275862,
           0.2708333333333333,
           0.8333333333333334,
           0.5918367346938775,
           0.5333333333333333,
           0.4,
           0.375,
           0.38235294117647056,
           0.5,
           0.2857142857142857,
           0.48148148148148145,
           0.5714285714285714,
           0.2463768115942029,
           0.45614035087719296,
           0.4107142857142857,
           0.2857142857142857,
           0.5606060606060606,
           0.18181818181818182,
           0.45454545454545453,
           0.4666666666666667,
           0.6071428571428571,
           0.45,
           0.3783783783783784,
           0.3262411347517731,
           0.4067796610169492,
           0.08571428571428572,
           0.6304347826086957,
           0.9166666666666666,
           0.5625,
           0.3829787234042553,
           0.5833333333333334,
           0.4878048780487805,
           0.6206896551724138,
           0.5833333333333334,
           0.6428571428571429,
           0.5,
           0.20754716981132076,
           0.6065573770491803,
           0.5,
           0.9230769230769231,
           0.5238095238095238,
           0.5490196078431373,
           0.574468085106383,
           0.7777777777777778,
           0.6904761904761905,
           0.5441176470588235,
           0.2631578947368421,
           0.65,
           0.3333333333333333,
           0.5681818181818182,
           0.6578947368421053,
           0.6923076923076923,
           0.7857142857142857,
           0.4642857142857143,
           0.8421052631578947,
           0.7560975609756098,
           0.5897435897435898,
           0.6388888888888888,
           0.4375,
           0.5319148936170213,
           0.39344262295081966,
           0.4027777777777778,
           0.4634146341463415,
           0.37777777777777777,
           0.4074074074074074,
           0.47435897435897434,
           0.5098039215686274,
           0.5,
           0.6875,
           0.2891566265060241,
           0.5909090909090909,
           0.42105263157894735,
           0.5531914893617021,
           0.4074074074074074,
           0.10344827586206896,
           0.265625,
           0.4838709677419355,
           0.6,
           0.8571428571428571,
           0.026785714285714284,
           0.08227848101265822,
           0.41379310344827586,
           0.9230769230769231
          ],
          "colorbar": {
           "title": {
            "text": "Reference Matched %"
           }
          },
          "colorscale": [
           [
            0,
            "#440154"
           ],
           [
            0.1111111111111111,
            "#482878"
           ],
           [
            0.2222222222222222,
            "#3e4989"
           ],
           [
            0.3333333333333333,
            "#31688e"
           ],
           [
            0.4444444444444444,
            "#26828e"
           ],
           [
            0.5555555555555556,
            "#1f9e89"
           ],
           [
            0.6666666666666666,
            "#35b779"
           ],
           [
            0.7777777777777778,
            "#6ece58"
           ],
           [
            0.8888888888888888,
            "#b5de2b"
           ],
           [
            1,
            "#fde725"
           ]
          ],
          "opacity": 0.5,
          "size": [
           2.7017543859649122,
           5.478260869565217,
           2.4347826086956523,
           9.692307692307693,
           9.11111111111111,
           9.878787878787879,
           9.027027027027028,
           8,
           7.306122448979592,
           7.483870967741935,
           4.333333333333334,
           4.9411764705882355,
           6.363636363636363,
           8.274509803921568,
           6.814814814814815,
           5.384615384615385,
           6.545454545454545,
           7.490196078431373,
           6.333333333333334,
           4.857142857142857,
           5.384615384615385,
           6.745762711864407,
           6.444444444444445,
           4.461538461538462,
           4.368421052631579,
           10.8,
           9.755102040816325,
           6.545454545454545,
           9.567567567567568,
           12.69767441860465,
           7.757575757575758,
           6.615384615384616,
           7.853658536585366,
           8.956521739130434,
           8.481481481481481,
           10.427672955974844,
           12.606060606060606,
           14,
           7,
           4.988505747126437,
           8.615384615384615,
           8.31578947368421,
           10.571428571428571,
           8.972477064220184,
           10.169014084507042,
           10.862275449101796,
           11.25925925925926,
           9.518796992481203,
           9.394957983193278,
           9.789473684210526,
           10.22695035460993,
           7.793103448275863,
           8.829268292682928,
           11.130434782608695,
           10.64864864864865,
           10.767123287671232,
           8.762589928057555,
           10.758169934640524,
           8.129032258064516,
           9.5,
           5.302752293577981,
           8.956521739130434,
           10.760330578512397,
           14.083333333333332,
           13.0828025477707,
           10.833333333333332,
           17.454545454545453,
           8.782608695652174,
           16.237288135593218,
           18.896551724137932,
           5.846153846153847,
           12.37037037037037,
           9.096774193548388,
           9.826086956521738,
           10,
           7.531914893617022,
           11.565217391304348,
           11.12280701754386,
           10.421052631578947,
           12.769230769230768,
           14.5,
           7.217391304347826,
           7.7894736842105265,
           7.238095238095238,
           7.785123966942148,
           3.870503597122302,
           7.522388059701493,
           7,
           6.675324675324675,
           7.362318840579711,
           7,
           5.2727272727272725,
           15.5,
           7.106382978723404,
           11.09090909090909,
           9.222222222222221,
           11.166666666666666,
           10.695652173913043,
           11.75609756097561,
           11.047619047619047,
           12.731707317073171,
           11.565217391304348,
           12.454545454545453,
           8.08695652173913,
           11.846153846153847,
           8.101694915254239,
           12.285714285714285,
           7.647058823529411,
           9.826086956521738,
           7.7142857142857135,
           8.813186813186814,
           9.222222222222221,
           9.78523489932886,
           12.434782608695652,
           7.344827586206896,
           9.835051546391753,
           8.601941747572816,
           11.298245614035087,
           10.24742268041237,
           11.333333333333334,
           11.102564102564102,
           11.479768786127167,
           10.484848484848484,
           7.217391304347826,
           13.503267973856207,
           9.79874213836478,
           8.615384615384615,
           8.070038910505836,
           7.742574257425742,
           10.714285714285715,
           8.808510638297872,
           6.888888888888888,
           10.125,
           8.25,
           4.056737588652482,
           6.324324324324325,
           5.636363636363637,
           12.434782608695652,
           13.304347826086955,
           17.555555555555557,
           4.5,
           9.878787878787879,
           6.848484848484849,
           9.727272727272727,
           10.666666666666668,
           11.787234042553191,
           4.285714285714286,
           9.872340425531915,
           12,
           5.225806451612903,
           6.242424242424242,
           12,
           8,
           6.666666666666667,
           9.022900763358777,
           6.528301886792453,
           6.285714285714286,
           9.733333333333334,
           6.583333333333333,
           8.206896551724139,
           5.529411764705882,
           5.783783783783784,
           11.09090909090909,
           6.235294117647059,
           4.545454545454545,
           7.142857142857142,
           7.511811023622047,
           12,
           9.047619047619047,
           7,
           7.454545454545454,
           5.492063492063492,
           7.894736842105263,
           6.576271186440678,
           6.827586206896552,
           9.25,
           8.727272727272727,
           9.5,
           8.842105263157894,
           14.857142857142858,
           6.854368932038835,
           6.854368932038835,
           10.571428571428571,
           5.384615384615385,
           6,
           4.490272373540856,
           4.412451361867705,
           6.6000000000000005,
           6.6000000000000005,
           7.957446808510638,
           4.617801047120419,
           4.513089005235602,
           10,
           11.26829268292683,
           4.344827586206897,
           8.470588235294118,
           6.933333333333334,
           9.878787878787879,
           9.027027027027028,
           6,
           5.66412213740458,
           5.969465648854962,
           9.058823529411764,
           5.768115942028985,
           8.76923076923077,
           5.6923076923076925,
           8.296296296296298,
           7.3097345132743365,
           3.2,
           4.4,
           10.571428571428571,
           11.62962962962963,
           6.067796610169491,
           6.8979591836734695
          ]
         },
         "mode": "markers+text",
         "name": "Matched Ions",
         "text": [
          "Perylene_2H12",
          "Perylene",
          "Phenanthrene_2H10",
          "Phenanthrene",
          "Anthracene",
          "Acenaphthylene",
          "Acenaphthene",
          "Fluoranthene",
          "Pyrene",
          "para-Terphenyl",
          "Benzo[b]naphtho[2,1-d]thiophene",
          "2,3-Benzofluorene",
          "Benzo[ghi]fluoranthene",
          "Triphenylene",
          "Benzanthracene/Benzophenanthrene",
          "Benzofluoranthene",
          "Benzo(k)fluoranthene",
          "Benzo[e]pyrene",
          "Benzo(a)pyrene",
          "Indeno[1,2,3-cd]pyrene",
          "Benzo(g,h,i)perylene",
          "Anthanthrene",
          "Dibenzanthracene",
          "Coronene",
          "Dicofol",
          "Benzophenone",
          "2-tert-Butyl-4-methoxyphenol",
          "Butylated hydroxytoluene",
          "4-Methylbenzophenone",
          "2,4,6-Tribromophenol",
          "2,6-Dichloro-4-nitroaniline",
          "1-Methylphenanthrene",
          "Triclosan",
          "2,2',3,4,5,5',6-Heptachlorobiphenyl",
          "2,4,6-Trichlorobiphenyl",
          "2,2',3,3',4,5',6,6'-Octachlorobiphenyl",
          "Pentachlorobenzene",
          "Hexachlorobenzene",
          "2,4'-Dichlorodiphenyldichloroethylene",
          "2,4'-Dichlorodiphenyldichloroethane",
          "2,4'-Dichlorodiphenyltrichloroethane",
          "2,4,4'-Trichlorobiphenyl",
          "2,2',4,5,5'-Pentachlorobiphenyl",
          "2,3',4,4',5-Pentachlorobiphenyl",
          "2,2',3,4,4',5'-Hexachlorobiphenyl",
          "2,2',4,4',5,5'-Hexachlorobiphenyl",
          "2,2',3,4,4',5,5'-Heptachlorobiphenyl",
          "2,2',5,5'-Tetrachlorobiphenyl",
          "2,3',4,6-Tetrachlorobiphenyl",
          "2,3',5',6-Tetrachlorobiphenyl",
          "2,2',3,4',5-Pentachlorobiphenyl",
          "2,3,3',4,5-Pentachlorobiphenyl",
          "3,3',4,5,5'-Pentachlorobiphenyl",
          "2,3',4,4',5',6-Hexachlorobiphenyl",
          "2,3,3',4,5,6-Hexachlorobiphenyl",
          "2,3,3',4',5',6-Hexachlorobiphenyl",
          "2,3,3',4',5,6-Hexachlorobiphenyl",
          "2,3,3',4',5,5',6-Heptachlorobiphenyl",
          "Bifenthrin",
          "Fenpropathrin",
          "Tefluthrin",
          "Transfluthrin",
          "2,3,4,5-Tetrabromo-6-chlorotoluene",
          "2,3,4,5,6-Pentabromotoluene",
          "2,3,4,5,6-Pentabromoethylbenzene",
          "2,3,5,6-Tetrabromo-p-xylene",
          "Allyl 2,4,6-tribromophenyl ether",
          "2-Bromoallyl(2,4,6-tribromophenyl) ether",
          "Pentabromobenzene",
          "Hexabromobenzene",
          "2,3,4,5,6-Pentabromobenzyl alcohol",
          "2-Ethylhexyl 2,3,4,5-Tetrabromobenzoate",
          "1-Fluronaphthalene",
          "Lilial",
          "Eugenol",
          "Isoeugenol",
          "4-Methoxybenzyl alcohol",
          "Methyleugenol",
          "Benzyl alcohol",
          "Estragole",
          "Benzyl benzoate",
          "Benzyl salicylate",
          "Celestolide",
          "Phantolide",
          "Tonalide",
          "Traseolide",
          "4,4'-Dichlorodiphenyldichloroethylene",
          "Methoxychlor",
          "4,4'-Dichlorodiphenyldichloroethane",
          "4,4'-Dichlorodiphenyltrichloroethane",
          "1,4-Chrysenequinone",
          "Hydroxychrysene",
          "1-Nitronaphthalene",
          "Hydroxyfluoren-9-one",
          "1,4-Naphthoquinone",
          "2-Methylnaphthalene",
          "1-Methylnaphthalene",
          "2,6-Dimethylnaphthalene",
          "1,3-Dimethylnaphthalene",
          "1,4-Dimethylnaphthalene",
          "1,5-Dimethylnaphthalene",
          "1,2-Dimethylnaphthalene",
          "1,8-Dimethylnaphthalene",
          "7,12-Dimethylbenz[a]anthracene",
          "2,4-D butyl ester",
          "Dimethachlor",
          "Alachlor",
          "Fenoxaprop-ethyl",
          "Metazachlor",
          "Metolachlor",
          "Pendimethalin",
          "Trifluralin",
          "2,2',3,4,4',5',6-Heptabromodiphenyl ether",
          "2-Chlorobiphenyl",
          "2,3-Dichlorobiphenyl",
          "2,2',5-Trichlorobiphenyl",
          "2,4',5-Trichlorobiphenyl",
          "2,2',3,5'-Tetrachlorobiphenyl",
          "2,3',4,4'-Tetrachlorobiphenyl",
          "2,2',3,4',5,5',6-Heptachlorobiphenyl",
          "2,2',3,4,4',5',6-Heptachlorobiphenyl",
          "2,2',3,3',4,4',5-Heptachlorobiphenyl",
          "2,2',3,4,5'-Pentachlorobiphenyl",
          "2,3,3',4',6-Pentachlorobiphenyl",
          "2,2',3,3',4,4',5,5',6-Nonachlorobiphenyl",
          "2,2',3,5,5',6-Hexachlorobiphenyl",
          "2,2',3,4',5,5',6-Heptachloro-4-methoxybiphenyl",
          "2,2',3',4,4',5-Hexachloro-3-methoxybiphenyl",
          "2,2',3,4',5,5'-Hexachloro-4-methoxybiphenyl",
          "2,2',3,4,5,5'-Hexachlorobiphenyl",
          "Mexacarbate",
          "Aminocarb",
          "Isocarbophos",
          "Carbaryl",
          "Dimethomorph_isomer2",
          "Ethiofencarb",
          "Methiocarb",
          "Iprovalicarb isomer 2",
          "Iprovalicarb isomer 1",
          "Propham",
          "Propoxur",
          "Thiobencarb",
          "Isoprocarb",
          "Linuron",
          "Metobromuron",
          "Monolinuron",
          "Siduron",
          "Bifenazate",
          "Diethofencarb",
          "Diflubenzuron",
          "Fenobucarb",
          "Dioxacarb",
          "Promecarb",
          "Fenoxycarb",
          "Indoxacarb",
          "Azoxystrobin",
          "Benzoximate",
          "Boscalid",
          "Butafenacil",
          "Carbetamide",
          "Fenhexamid",
          "Flutolanil",
          "Furalaxyl",
          "Kresoxim-methyl",
          "Mepanipyrim",
          "Mepronil",
          "Myclobutanil",
          "Oxadixyl",
          "Picoxystrobin",
          "Pyracarbolid",
          "Pyrimethanil",
          "Pyriproxyfen",
          "Triadimefon",
          "Trifloxystrobin",
          "Zoxamide",
          "Amitraz",
          "Tebufenpyrad",
          "Enilconazole",
          "Carboxin",
          "Flufenacet",
          "Propargite_isomer1",
          "Propargite_isomer2",
          "Pyridaben",
          "Bitertanol_isomer1",
          "Bitertanol_isomer2",
          "Bromuconazole_isomer1",
          "Bromuconazole_isomer2",
          "Cyproconazole_isomer1",
          "Cyproconazole_isomer2",
          "Diclobutrazol",
          "Difenoconazole_isomer1",
          "Difenoconazole_isomer2",
          "Etoxazole",
          "Fenarimol",
          "Flusilazole",
          "Flutriafol",
          "Hexaconazole",
          "Nuarimol",
          "Paclobutrazol",
          "Penconazole",
          "Propiconazole_isomer1",
          "Propiconazole_isomer2",
          "Tebuconazole",
          "Tetraconazole",
          "Triadimenol_isomer1",
          "Triadimenol_isomer2",
          "Triflumizole",
          "Triticonazole",
          "Fenpropimorph_isomer1",
          "Fenpropimorph_isomer2",
          "Spirodiclofen",
          "Spirotetramat",
          "Bisphenol A",
          "4-tert-Octylphenol"
         ],
         "textposition": "middle right",
         "type": "scatter",
         "x": [
          9.0065681789311,
          892.1650687160719,
          0.6333256204096,
          944.0450943644676,
          942.0729814235752,
          937.8857718781576,
          668.6826253068305,
          948.7740176821991,
          937.075996631993,
          889.1480656798412,
          958.9889194029564,
          704.865199182585,
          927.036972707218,
          909.2048795662075,
          880.58927099081,
          940.6410204929743,
          948.9121444797912,
          922.4799448827952,
          936.2855625100808,
          943.4474699006727,
          911.320331267288,
          913.0441739189382,
          910.767776499818,
          855.6352031788314,
          848.4925647408332,
          906.8416030069703,
          536.1664161984837,
          592.9706797659072,
          656.8811489638633,
          829.6648567056003,
          506.50242029161365,
          843.6073116340173,
          243.08070780460912,
          750.5131451183917,
          869.3785106504954,
          786.5305771086425,
          946.829271683286,
          932.7039170603883,
          506.75514704223843,
          416.5181481823979,
          629.799641529818,
          874.4627267157198,
          805.4739456488558,
          907.1642546098232,
          817.9186552452435,
          773.5840982090951,
          772.2145388709022,
          809.9517835414803,
          870.1459521896978,
          841.0059114468547,
          796.1212029300831,
          875.6548375190589,
          881.8947623834824,
          863.6929413285311,
          854.6841148919162,
          869.2233057547234,
          847.330235552079,
          819.7509934157268,
          724.1051652066511,
          247.53254234959422,
          761.8480838111637,
          694.0217906188888,
          876.3933740705494,
          917.6007539169196,
          633.4455096479583,
          826.2061880855275,
          383.3001270220684,
          311.3712576873396,
          756.8509014285203,
          907.4560073214673,
          19.5439342804553,
          207.0122052716335,
          980.008037915998,
          444.57220743662066,
          740.4369823575244,
          796.1969028982653,
          392.514352425526,
          692.2214551905403,
          438.81920390341736,
          709.8226494937314,
          723.2560284565584,
          834.0342419522866,
          674.9089435119099,
          508.07368254704954,
          793.1467542349322,
          408.0498525295504,
          663.0549193804035,
          820.5084248661963,
          609.5531107800552,
          590.6965052777083,
          770.5802424523864,
          741.61091321123,
          554.9186808916205,
          808.1428143103731,
          652.2547342981627,
          792.0419362659181,
          769.7709687769607,
          779.5745913163479,
          571.4391985343893,
          485.8363315071611,
          852.2024952078577,
          573.7592305828392,
          766.3676327514842,
          697.5873675879249,
          482.563393757889,
          95.9163038789531,
          164.91350064845358,
          404.61234834787257,
          557.1213997533517,
          75.4423884309527,
          197.3104191285521,
          51.801453688460896,
          315.5609518766191,
          902.6045506156012,
          767.0229899444669,
          785.0586617707937,
          877.0680388557616,
          783.9093019760144,
          902.3724959857605,
          784.3130227657011,
          834.4231952797093,
          808.0942930097825,
          841.8014876435003,
          874.7747041200051,
          774.1374882157087,
          845.3297004477413,
          711.1796693594158,
          681.8179973816345,
          729.7491448907699,
          825.5138416477084,
          445.6718001315433,
          477.49424365675367,
          230.11574547947,
          269.7203283976619,
          554.5260510015424,
          136.3925082266382,
          202.0410992916851,
          352.4206220081058,
          345.1908063562089,
          296.2198971438134,
          13.129285677445,
          675.7035675413729,
          66.0945772395713,
          650.6435051729295,
          856.2898953585471,
          791.9135503273661,
          138.8159224013895,
          360.6147321990129,
          341.7948518126384,
          795.0680292880509,
          69.4973007846138,
          456.3102503318951,
          94.78029419469989,
          78.2110915891292,
          328.7650685440487,
          83.6388745766982,
          3.3781364523796,
          810.190709694973,
          491.7339422075072,
          172.9153263120889,
          384.9743336109443,
          759.3706323828876,
          802.2554543103652,
          620.5659446800186,
          528.1096458962076,
          902.3114148088932,
          168.032126957623,
          176.0777470240858,
          225.6379009159605,
          909.6637541615196,
          408.05279849656927,
          145.801648271064,
          409.4852728715347,
          521.729860871398,
          849.3063473468353,
          476.4093021091061,
          414.42964572489336,
          152.735567361257,
          788.564852925477,
          235.4744611966732,
          114.5887159347208,
          114.85965981472961,
          525.2186185966889,
          125.1487909811919,
          136.0632458287571,
          316.0080567747421,
          310.0337811500698,
          483.4196009865932,
          475.674393718253,
          355.98438053530316,
          356.5786065559933,
          361.4636281243343,
          317.9443891775497,
          544.0792043341467,
          328.4279425050608,
          428.7167747925732,
          377.3532854383297,
          557.2890106231346,
          497.3447297640551,
          139.0023973321092,
          458.09569068459297,
          482.5194356392459,
          560.4044412574559,
          101.1430902262031,
          111.6437612381602,
          69.93985187436131,
          335.1469965921549,
          425.7416085296344,
          298.1490036201399,
          321.70130075400226,
          31.3439500583982,
          98.1978985801338,
          389.22260880054887,
          816.9404078532336
         ],
         "y": [
          2,
          12,
          1,
          15,
          16,
          13,
          13,
          15,
          13,
          17,
          7,
          10,
          12,
          16,
          13,
          11,
          15,
          14,
          13,
          9,
          11,
          14,
          16,
          8,
          9,
          11,
          19,
          20,
          14,
          23,
          19,
          12,
          12,
          56,
          35,
          67,
          35,
          39,
          36,
          26,
          43,
          30,
          48,
          38,
          58,
          74,
          75,
          50,
          44,
          37,
          58,
          42,
          42,
          63,
          64,
          64,
          47,
          67,
          19,
          24,
          18,
          24,
          53,
          58,
          87,
          53,
          17,
          39,
          42,
          49,
          15,
          28,
          11,
          27,
          16,
          13,
          11,
          26,
          8,
          21,
          10,
          6,
          33,
          33,
          35,
          13,
          37,
          31,
          36,
          37,
          22,
          9,
          27,
          12,
          15,
          13,
          11,
          20,
          20,
          19,
          22,
          22,
          23,
          28,
          32,
          18,
          18,
          24,
          18,
          26,
          31,
          13,
          58,
          24,
          31,
          38,
          34,
          53,
          40,
          70,
          71,
          82,
          56,
          42,
          88,
          62,
          86,
          78,
          58,
          61,
          16,
          11,
          13,
          10,
          29,
          8,
          8,
          12,
          13,
          7,
          2,
          13,
          8,
          34,
          26,
          23,
          4,
          37,
          8,
          5,
          7,
          17,
          9,
          14,
          46,
          24,
          3,
          29,
          11,
          9,
          18,
          7,
          20,
          18,
          7,
          9,
          35,
          11,
          37,
          5,
          12,
          11,
          28,
          27,
          21,
          29,
          37,
          15,
          13,
          18,
          25,
          25,
          18,
          11,
          13,
          32,
          31,
          23,
          23,
          28,
          25,
          24,
          58,
          38,
          17,
          11,
          37,
          52,
          26,
          33,
          24,
          26,
          24,
          26,
          22,
          12,
          34,
          60,
          6,
          12,
          3,
          13,
          12,
          12
         ]
        },
        {
         "marker": {
          "color": "black",
          "size": 10
         },
         "mode": "markers",
         "name": "Size represents FractionQuery",
         "showlegend": true,
         "type": "scatter",
         "x": [
          null
         ],
         "y": [
          null
         ]
        }
       ],
       "layout": {
        "height": 600,
        "template": {
         "data": {
          "bar": [
           {
            "error_x": {
             "color": "#2a3f5f"
            },
            "error_y": {
             "color": "#2a3f5f"
            },
            "marker": {
             "line": {
              "color": "#E5ECF6",
              "width": 0.5
             },
             "pattern": {
              "fillmode": "overlay",
              "size": 10,
              "solidity": 0.2
             }
            },
            "type": "bar"
           }
          ],
          "barpolar": [
           {
            "marker": {
             "line": {
              "color": "#E5ECF6",
              "width": 0.5
             },
             "pattern": {
              "fillmode": "overlay",
              "size": 10,
              "solidity": 0.2
             }
            },
            "type": "barpolar"
           }
          ],
          "carpet": [
           {
            "aaxis": {
             "endlinecolor": "#2a3f5f",
             "gridcolor": "white",
             "linecolor": "white",
             "minorgridcolor": "white",
             "startlinecolor": "#2a3f5f"
            },
            "baxis": {
             "endlinecolor": "#2a3f5f",
             "gridcolor": "white",
             "linecolor": "white",
             "minorgridcolor": "white",
             "startlinecolor": "#2a3f5f"
            },
            "type": "carpet"
           }
          ],
          "choropleth": [
           {
            "colorbar": {
             "outlinewidth": 0,
             "ticks": ""
            },
            "type": "choropleth"
           }
          ],
          "contour": [
           {
            "colorbar": {
             "outlinewidth": 0,
             "ticks": ""
            },
            "colorscale": [
             [
              0,
              "#0d0887"
             ],
             [
              0.1111111111111111,
              "#46039f"
             ],
             [
              0.2222222222222222,
              "#7201a8"
             ],
             [
              0.3333333333333333,
              "#9c179e"
             ],
             [
              0.4444444444444444,
              "#bd3786"
             ],
             [
              0.5555555555555556,
              "#d8576b"
             ],
             [
              0.6666666666666666,
              "#ed7953"
             ],
             [
              0.7777777777777778,
              "#fb9f3a"
             ],
             [
              0.8888888888888888,
              "#fdca26"
             ],
             [
              1,
              "#f0f921"
             ]
            ],
            "type": "contour"
           }
          ],
          "contourcarpet": [
           {
            "colorbar": {
             "outlinewidth": 0,
             "ticks": ""
            },
            "type": "contourcarpet"
           }
          ],
          "heatmap": [
           {
            "colorbar": {
             "outlinewidth": 0,
             "ticks": ""
            },
            "colorscale": [
             [
              0,
              "#0d0887"
             ],
             [
              0.1111111111111111,
              "#46039f"
             ],
             [
              0.2222222222222222,
              "#7201a8"
             ],
             [
              0.3333333333333333,
              "#9c179e"
             ],
             [
              0.4444444444444444,
              "#bd3786"
             ],
             [
              0.5555555555555556,
              "#d8576b"
             ],
             [
              0.6666666666666666,
              "#ed7953"
             ],
             [
              0.7777777777777778,
              "#fb9f3a"
             ],
             [
              0.8888888888888888,
              "#fdca26"
             ],
             [
              1,
              "#f0f921"
             ]
            ],
            "type": "heatmap"
           }
          ],
          "heatmapgl": [
           {
            "colorbar": {
             "outlinewidth": 0,
             "ticks": ""
            },
            "colorscale": [
             [
              0,
              "#0d0887"
             ],
             [
              0.1111111111111111,
              "#46039f"
             ],
             [
              0.2222222222222222,
              "#7201a8"
             ],
             [
              0.3333333333333333,
              "#9c179e"
             ],
             [
              0.4444444444444444,
              "#bd3786"
             ],
             [
              0.5555555555555556,
              "#d8576b"
             ],
             [
              0.6666666666666666,
              "#ed7953"
             ],
             [
              0.7777777777777778,
              "#fb9f3a"
             ],
             [
              0.8888888888888888,
              "#fdca26"
             ],
             [
              1,
              "#f0f921"
             ]
            ],
            "type": "heatmapgl"
           }
          ],
          "histogram": [
           {
            "marker": {
             "pattern": {
              "fillmode": "overlay",
              "size": 10,
              "solidity": 0.2
             }
            },
            "type": "histogram"
           }
          ],
          "histogram2d": [
           {
            "colorbar": {
             "outlinewidth": 0,
             "ticks": ""
            },
            "colorscale": [
             [
              0,
              "#0d0887"
             ],
             [
              0.1111111111111111,
              "#46039f"
             ],
             [
              0.2222222222222222,
              "#7201a8"
             ],
             [
              0.3333333333333333,
              "#9c179e"
             ],
             [
              0.4444444444444444,
              "#bd3786"
             ],
             [
              0.5555555555555556,
              "#d8576b"
             ],
             [
              0.6666666666666666,
              "#ed7953"
             ],
             [
              0.7777777777777778,
              "#fb9f3a"
             ],
             [
              0.8888888888888888,
              "#fdca26"
             ],
             [
              1,
              "#f0f921"
             ]
            ],
            "type": "histogram2d"
           }
          ],
          "histogram2dcontour": [
           {
            "colorbar": {
             "outlinewidth": 0,
             "ticks": ""
            },
            "colorscale": [
             [
              0,
              "#0d0887"
             ],
             [
              0.1111111111111111,
              "#46039f"
             ],
             [
              0.2222222222222222,
              "#7201a8"
             ],
             [
              0.3333333333333333,
              "#9c179e"
             ],
             [
              0.4444444444444444,
              "#bd3786"
             ],
             [
              0.5555555555555556,
              "#d8576b"
             ],
             [
              0.6666666666666666,
              "#ed7953"
             ],
             [
              0.7777777777777778,
              "#fb9f3a"
             ],
             [
              0.8888888888888888,
              "#fdca26"
             ],
             [
              1,
              "#f0f921"
             ]
            ],
            "type": "histogram2dcontour"
           }
          ],
          "mesh3d": [
           {
            "colorbar": {
             "outlinewidth": 0,
             "ticks": ""
            },
            "type": "mesh3d"
           }
          ],
          "parcoords": [
           {
            "line": {
             "colorbar": {
              "outlinewidth": 0,
              "ticks": ""
             }
            },
            "type": "parcoords"
           }
          ],
          "pie": [
           {
            "automargin": true,
            "type": "pie"
           }
          ],
          "scatter": [
           {
            "fillpattern": {
             "fillmode": "overlay",
             "size": 10,
             "solidity": 0.2
            },
            "type": "scatter"
           }
          ],
          "scatter3d": [
           {
            "line": {
             "colorbar": {
              "outlinewidth": 0,
              "ticks": ""
             }
            },
            "marker": {
             "colorbar": {
              "outlinewidth": 0,
              "ticks": ""
             }
            },
            "type": "scatter3d"
           }
          ],
          "scattercarpet": [
           {
            "marker": {
             "colorbar": {
              "outlinewidth": 0,
              "ticks": ""
             }
            },
            "type": "scattercarpet"
           }
          ],
          "scattergeo": [
           {
            "marker": {
             "colorbar": {
              "outlinewidth": 0,
              "ticks": ""
             }
            },
            "type": "scattergeo"
           }
          ],
          "scattergl": [
           {
            "marker": {
             "colorbar": {
              "outlinewidth": 0,
              "ticks": ""
             }
            },
            "type": "scattergl"
           }
          ],
          "scattermapbox": [
           {
            "marker": {
             "colorbar": {
              "outlinewidth": 0,
              "ticks": ""
             }
            },
            "type": "scattermapbox"
           }
          ],
          "scatterpolar": [
           {
            "marker": {
             "colorbar": {
              "outlinewidth": 0,
              "ticks": ""
             }
            },
            "type": "scatterpolar"
           }
          ],
          "scatterpolargl": [
           {
            "marker": {
             "colorbar": {
              "outlinewidth": 0,
              "ticks": ""
             }
            },
            "type": "scatterpolargl"
           }
          ],
          "scatterternary": [
           {
            "marker": {
             "colorbar": {
              "outlinewidth": 0,
              "ticks": ""
             }
            },
            "type": "scatterternary"
           }
          ],
          "surface": [
           {
            "colorbar": {
             "outlinewidth": 0,
             "ticks": ""
            },
            "colorscale": [
             [
              0,
              "#0d0887"
             ],
             [
              0.1111111111111111,
              "#46039f"
             ],
             [
              0.2222222222222222,
              "#7201a8"
             ],
             [
              0.3333333333333333,
              "#9c179e"
             ],
             [
              0.4444444444444444,
              "#bd3786"
             ],
             [
              0.5555555555555556,
              "#d8576b"
             ],
             [
              0.6666666666666666,
              "#ed7953"
             ],
             [
              0.7777777777777778,
              "#fb9f3a"
             ],
             [
              0.8888888888888888,
              "#fdca26"
             ],
             [
              1,
              "#f0f921"
             ]
            ],
            "type": "surface"
           }
          ],
          "table": [
           {
            "cells": {
             "fill": {
              "color": "#EBF0F8"
             },
             "line": {
              "color": "white"
             }
            },
            "header": {
             "fill": {
              "color": "#C8D4E3"
             },
             "line": {
              "color": "white"
             }
            },
            "type": "table"
           }
          ]
         },
         "layout": {
          "annotationdefaults": {
           "arrowcolor": "#2a3f5f",
           "arrowhead": 0,
           "arrowwidth": 1
          },
          "autotypenumbers": "strict",
          "coloraxis": {
           "colorbar": {
            "outlinewidth": 0,
            "ticks": ""
           }
          },
          "colorscale": {
           "diverging": [
            [
             0,
             "#8e0152"
            ],
            [
             0.1,
             "#c51b7d"
            ],
            [
             0.2,
             "#de77ae"
            ],
            [
             0.3,
             "#f1b6da"
            ],
            [
             0.4,
             "#fde0ef"
            ],
            [
             0.5,
             "#f7f7f7"
            ],
            [
             0.6,
             "#e6f5d0"
            ],
            [
             0.7,
             "#b8e186"
            ],
            [
             0.8,
             "#7fbc41"
            ],
            [
             0.9,
             "#4d9221"
            ],
            [
             1,
             "#276419"
            ]
           ],
           "sequential": [
            [
             0,
             "#0d0887"
            ],
            [
             0.1111111111111111,
             "#46039f"
            ],
            [
             0.2222222222222222,
             "#7201a8"
            ],
            [
             0.3333333333333333,
             "#9c179e"
            ],
            [
             0.4444444444444444,
             "#bd3786"
            ],
            [
             0.5555555555555556,
             "#d8576b"
            ],
            [
             0.6666666666666666,
             "#ed7953"
            ],
            [
             0.7777777777777778,
             "#fb9f3a"
            ],
            [
             0.8888888888888888,
             "#fdca26"
            ],
            [
             1,
             "#f0f921"
            ]
           ],
           "sequentialminus": [
            [
             0,
             "#0d0887"
            ],
            [
             0.1111111111111111,
             "#46039f"
            ],
            [
             0.2222222222222222,
             "#7201a8"
            ],
            [
             0.3333333333333333,
             "#9c179e"
            ],
            [
             0.4444444444444444,
             "#bd3786"
            ],
            [
             0.5555555555555556,
             "#d8576b"
            ],
            [
             0.6666666666666666,
             "#ed7953"
            ],
            [
             0.7777777777777778,
             "#fb9f3a"
            ],
            [
             0.8888888888888888,
             "#fdca26"
            ],
            [
             1,
             "#f0f921"
            ]
           ]
          },
          "colorway": [
           "#636efa",
           "#EF553B",
           "#00cc96",
           "#ab63fa",
           "#FFA15A",
           "#19d3f3",
           "#FF6692",
           "#B6E880",
           "#FF97FF",
           "#FECB52"
          ],
          "font": {
           "color": "#2a3f5f"
          },
          "geo": {
           "bgcolor": "white",
           "lakecolor": "white",
           "landcolor": "#E5ECF6",
           "showlakes": true,
           "showland": true,
           "subunitcolor": "white"
          },
          "hoverlabel": {
           "align": "left"
          },
          "hovermode": "closest",
          "mapbox": {
           "style": "light"
          },
          "paper_bgcolor": "white",
          "plot_bgcolor": "#E5ECF6",
          "polar": {
           "angularaxis": {
            "gridcolor": "white",
            "linecolor": "white",
            "ticks": ""
           },
           "bgcolor": "#E5ECF6",
           "radialaxis": {
            "gridcolor": "white",
            "linecolor": "white",
            "ticks": ""
           }
          },
          "scene": {
           "xaxis": {
            "backgroundcolor": "#E5ECF6",
            "gridcolor": "white",
            "gridwidth": 2,
            "linecolor": "white",
            "showbackground": true,
            "ticks": "",
            "zerolinecolor": "white"
           },
           "yaxis": {
            "backgroundcolor": "#E5ECF6",
            "gridcolor": "white",
            "gridwidth": 2,
            "linecolor": "white",
            "showbackground": true,
            "ticks": "",
            "zerolinecolor": "white"
           },
           "zaxis": {
            "backgroundcolor": "#E5ECF6",
            "gridcolor": "white",
            "gridwidth": 2,
            "linecolor": "white",
            "showbackground": true,
            "ticks": "",
            "zerolinecolor": "white"
           }
          },
          "shapedefaults": {
           "line": {
            "color": "#2a3f5f"
           }
          },
          "ternary": {
           "aaxis": {
            "gridcolor": "white",
            "linecolor": "white",
            "ticks": ""
           },
           "baxis": {
            "gridcolor": "white",
            "linecolor": "white",
            "ticks": ""
           },
           "bgcolor": "#E5ECF6",
           "caxis": {
            "gridcolor": "white",
            "linecolor": "white",
            "ticks": ""
           }
          },
          "title": {
           "x": 0.05
          },
          "xaxis": {
           "automargin": true,
           "gridcolor": "white",
           "linecolor": "white",
           "ticks": "",
           "title": {
            "standoff": 15
           },
           "zerolinecolor": "white",
           "zerolinewidth": 2
          },
          "yaxis": {
           "automargin": true,
           "gridcolor": "white",
           "linecolor": "white",
           "ticks": "",
           "title": {
            "standoff": 15
           },
           "zerolinecolor": "white",
           "zerolinewidth": 2
          }
         }
        },
        "title": {
         "text": "Benzenoids"
        },
        "width": 800,
        "xaxis": {
         "range": [
          0,
          1
         ],
         "title": {
          "text": "Score"
         }
        },
        "yaxis": {
         "title": {
          "text": "Matches"
         }
        }
       }
      },
      "text/html": [
       "<div>                            <div id=\"7f2ab010-2e3e-4064-b5e7-3a9c7f71a95f\" class=\"plotly-graph-div\" style=\"height:600px; width:800px;\"></div>            <script type=\"text/javascript\">                require([\"plotly\"], function(Plotly) {                    window.PLOTLYENV=window.PLOTLYENV || {};                                    if (document.getElementById(\"7f2ab010-2e3e-4064-b5e7-3a9c7f71a95f\")) {                    Plotly.newPlot(                        \"7f2ab010-2e3e-4064-b5e7-3a9c7f71a95f\",                        [{\"marker\":{\"cmax\":1,\"cmin\":0,\"color\":[0.06060606060606061,0.631578947368421,0.058823529411764705,0.7894736842105263,0.7619047619047619,0.6842105263157895,0.7222222222222222,0.8823529411764706,0.8125,0.68,0.30434782608695654,0.47619047619047616,0.6666666666666666,0.7619047619047619,0.52,0.6875,0.8333333333333334,0.6086956521739131,0.5416666666666666,0.4090909090909091,0.55,0.208955223880597,0.7272727272727273,0.1702127659574468,0.1323529411764706,0.4230769230769231,0.3877551020408163,0.47619047619047616,0.56,0.27058823529411763,0.20212765957446807,0.4444444444444444,0.12903225806451613,0.5045045045045045,0.6481481481481481,0.3544973544973545,0.6730769230769231,0.78,0.6792452830188679,0.5777777777777777,0.6515151515151515,0.75,0.5925925925925926,0.6551724137931034,0.6170212765957447,0.6271186440677966,0.6147540983606558,0.7142857142857143,0.7213114754098361,0.7254901960784313,0.651685393258427,0.7241379310344828,0.711864406779661,0.6847826086956522,0.6153846153846154,0.6597938144329897,0.734375,0.6036036036036037,0.9047619047619048,0.34782608695652173,0.6923076923076923,0.43636363636363634,0.4818181818181818,0.6105263157894737,0.5178571428571429,0.7361111111111112,0.10119047619047619,0.3786407766990291,0.5,0.44954128440366975,0.07692307692307693,0.24561403508771928,0.6470588235294118,0.7105263157894737,0.35555555555555557,0.3023255813953488,0.44,0.5909090909090909,0.47058823529411764,0.7241379310344828,0.5,0.75,0.7857142857142857,0.825,0.7608695652173914,0.7647058823529411,0.5522388059701493,0.7560975609756098,0.6,0.5441176470588235,0.16058394160583941,0.225,0.5510204081632653,0.48,0.29411764705882354,0.8125,0.8461538461538461,0.5555555555555556,0.45454545454545453,0.76,0.5238095238095238,0.6875,0.6764705882352942,0.5,0.4507042253521127,0.6,0.2608695652173913,0.3037974683544304,0.36,0.6341463414634146,0.36046511627906974,0.19696969696969696,0.3118279569892473,0.7058823529411765,0.7209302325581395,0.6551724137931034,0.68,0.654320987654321,0.6349206349206349,0.546875,0.5461538461538461,0.6074074074074074,0.6436781609195402,0.6176470588235294,0.4861878453038674,0.5535714285714286,0.45989304812834225,0.40625,0.35365853658536583,0.5865384615384616,0.41025641025641024,0.3793103448275862,0.2708333333333333,0.8333333333333334,0.5918367346938775,0.5333333333333333,0.4,0.375,0.38235294117647056,0.5,0.2857142857142857,0.48148148148148145,0.5714285714285714,0.2463768115942029,0.45614035087719296,0.4107142857142857,0.2857142857142857,0.5606060606060606,0.18181818181818182,0.45454545454545453,0.4666666666666667,0.6071428571428571,0.45,0.3783783783783784,0.3262411347517731,0.4067796610169492,0.08571428571428572,0.6304347826086957,0.9166666666666666,0.5625,0.3829787234042553,0.5833333333333334,0.4878048780487805,0.6206896551724138,0.5833333333333334,0.6428571428571429,0.5,0.20754716981132076,0.6065573770491803,0.5,0.9230769230769231,0.5238095238095238,0.5490196078431373,0.574468085106383,0.7777777777777778,0.6904761904761905,0.5441176470588235,0.2631578947368421,0.65,0.3333333333333333,0.5681818181818182,0.6578947368421053,0.6923076923076923,0.7857142857142857,0.4642857142857143,0.8421052631578947,0.7560975609756098,0.5897435897435898,0.6388888888888888,0.4375,0.5319148936170213,0.39344262295081966,0.4027777777777778,0.4634146341463415,0.37777777777777777,0.4074074074074074,0.47435897435897434,0.5098039215686274,0.5,0.6875,0.2891566265060241,0.5909090909090909,0.42105263157894735,0.5531914893617021,0.4074074074074074,0.10344827586206896,0.265625,0.4838709677419355,0.6,0.8571428571428571,0.026785714285714284,0.08227848101265822,0.41379310344827586,0.9230769230769231],\"colorbar\":{\"title\":{\"text\":\"Reference Matched %\"}},\"colorscale\":[[0.0,\"#440154\"],[0.1111111111111111,\"#482878\"],[0.2222222222222222,\"#3e4989\"],[0.3333333333333333,\"#31688e\"],[0.4444444444444444,\"#26828e\"],[0.5555555555555556,\"#1f9e89\"],[0.6666666666666666,\"#35b779\"],[0.7777777777777778,\"#6ece58\"],[0.8888888888888888,\"#b5de2b\"],[1.0,\"#fde725\"]],\"opacity\":0.5,\"size\":[2.7017543859649122,5.478260869565217,2.4347826086956523,9.692307692307693,9.11111111111111,9.878787878787879,9.027027027027028,8.0,7.306122448979592,7.483870967741935,4.333333333333334,4.9411764705882355,6.363636363636363,8.274509803921568,6.814814814814815,5.384615384615385,6.545454545454545,7.490196078431373,6.333333333333334,4.857142857142857,5.384615384615385,6.745762711864407,6.444444444444445,4.461538461538462,4.368421052631579,10.8,9.755102040816325,6.545454545454545,9.567567567567568,12.69767441860465,7.757575757575758,6.615384615384616,7.853658536585366,8.956521739130434,8.481481481481481,10.427672955974844,12.606060606060606,14.0,7.0,4.988505747126437,8.615384615384615,8.31578947368421,10.571428571428571,8.972477064220184,10.169014084507042,10.862275449101796,11.25925925925926,9.518796992481203,9.394957983193278,9.789473684210526,10.22695035460993,7.793103448275863,8.829268292682928,11.130434782608695,10.64864864864865,10.767123287671232,8.762589928057555,10.758169934640524,8.129032258064516,9.5,5.302752293577981,8.956521739130434,10.760330578512397,14.083333333333332,13.0828025477707,10.833333333333332,17.454545454545453,8.782608695652174,16.237288135593218,18.896551724137932,5.846153846153847,12.37037037037037,9.096774193548388,9.826086956521738,10.0,7.531914893617022,11.565217391304348,11.12280701754386,10.421052631578947,12.769230769230768,14.5,7.217391304347826,7.7894736842105265,7.238095238095238,7.785123966942148,3.870503597122302,7.522388059701493,7.0,6.675324675324675,7.362318840579711,7.0,5.2727272727272725,15.5,7.106382978723404,11.09090909090909,9.222222222222221,11.166666666666666,10.695652173913043,11.75609756097561,11.047619047619047,12.731707317073171,11.565217391304348,12.454545454545453,8.08695652173913,11.846153846153847,8.101694915254239,12.285714285714285,7.647058823529411,9.826086956521738,7.7142857142857135,8.813186813186814,9.222222222222221,9.78523489932886,12.434782608695652,7.344827586206896,9.835051546391753,8.601941747572816,11.298245614035087,10.24742268041237,11.333333333333334,11.102564102564102,11.479768786127167,10.484848484848484,7.217391304347826,13.503267973856207,9.79874213836478,8.615384615384615,8.070038910505836,7.742574257425742,10.714285714285715,8.808510638297872,6.888888888888888,10.125,8.25,4.056737588652482,6.324324324324325,5.636363636363637,12.434782608695652,13.304347826086955,17.555555555555557,4.5,9.878787878787879,6.848484848484849,9.727272727272727,10.666666666666668,11.787234042553191,4.285714285714286,9.872340425531915,12.0,5.225806451612903,6.242424242424242,12.0,8.0,6.666666666666667,9.022900763358777,6.528301886792453,6.285714285714286,9.733333333333334,6.583333333333333,8.206896551724139,5.529411764705882,5.783783783783784,11.09090909090909,6.235294117647059,4.545454545454545,7.142857142857142,7.511811023622047,12.0,9.047619047619047,7.0,7.454545454545454,5.492063492063492,7.894736842105263,6.576271186440678,6.827586206896552,9.25,8.727272727272727,9.5,8.842105263157894,14.857142857142858,6.854368932038835,6.854368932038835,10.571428571428571,5.384615384615385,6.0,4.490272373540856,4.412451361867705,6.6000000000000005,6.6000000000000005,7.957446808510638,4.617801047120419,4.513089005235602,10.0,11.26829268292683,4.344827586206897,8.470588235294118,6.933333333333334,9.878787878787879,9.027027027027028,6.0,5.66412213740458,5.969465648854962,9.058823529411764,5.768115942028985,8.76923076923077,5.6923076923076925,8.296296296296298,7.3097345132743365,3.2,4.4,10.571428571428571,11.62962962962963,6.067796610169491,6.8979591836734695]},\"mode\":\"markers+text\",\"name\":\"Matched Ions\",\"text\":[\"Perylene_2H12\",\"Perylene\",\"Phenanthrene_2H10\",\"Phenanthrene\",\"Anthracene\",\"Acenaphthylene\",\"Acenaphthene\",\"Fluoranthene\",\"Pyrene\",\"para-Terphenyl\",\"Benzo[b]naphtho[2,1-d]thiophene\",\"2,3-Benzofluorene\",\"Benzo[ghi]fluoranthene\",\"Triphenylene\",\"Benzanthracene/Benzophenanthrene\",\"Benzofluoranthene\",\"Benzo(k)fluoranthene\",\"Benzo[e]pyrene\",\"Benzo(a)pyrene\",\"Indeno[1,2,3-cd]pyrene\",\"Benzo(g,h,i)perylene\",\"Anthanthrene\",\"Dibenzanthracene\",\"Coronene\",\"Dicofol\",\"Benzophenone\",\"2-tert-Butyl-4-methoxyphenol\",\"Butylated hydroxytoluene\",\"4-Methylbenzophenone\",\"2,4,6-Tribromophenol\",\"2,6-Dichloro-4-nitroaniline\",\"1-Methylphenanthrene\",\"Triclosan\",\"2,2',3,4,5,5',6-Heptachlorobiphenyl\",\"2,4,6-Trichlorobiphenyl\",\"2,2',3,3',4,5',6,6'-Octachlorobiphenyl\",\"Pentachlorobenzene\",\"Hexachlorobenzene\",\"2,4'-Dichlorodiphenyldichloroethylene\",\"2,4'-Dichlorodiphenyldichloroethane\",\"2,4'-Dichlorodiphenyltrichloroethane\",\"2,4,4'-Trichlorobiphenyl\",\"2,2',4,5,5'-Pentachlorobiphenyl\",\"2,3',4,4',5-Pentachlorobiphenyl\",\"2,2',3,4,4',5'-Hexachlorobiphenyl\",\"2,2',4,4',5,5'-Hexachlorobiphenyl\",\"2,2',3,4,4',5,5'-Heptachlorobiphenyl\",\"2,2',5,5'-Tetrachlorobiphenyl\",\"2,3',4,6-Tetrachlorobiphenyl\",\"2,3',5',6-Tetrachlorobiphenyl\",\"2,2',3,4',5-Pentachlorobiphenyl\",\"2,3,3',4,5-Pentachlorobiphenyl\",\"3,3',4,5,5'-Pentachlorobiphenyl\",\"2,3',4,4',5',6-Hexachlorobiphenyl\",\"2,3,3',4,5,6-Hexachlorobiphenyl\",\"2,3,3',4',5',6-Hexachlorobiphenyl\",\"2,3,3',4',5,6-Hexachlorobiphenyl\",\"2,3,3',4',5,5',6-Heptachlorobiphenyl\",\"Bifenthrin\",\"Fenpropathrin\",\"Tefluthrin\",\"Transfluthrin\",\"2,3,4,5-Tetrabromo-6-chlorotoluene\",\"2,3,4,5,6-Pentabromotoluene\",\"2,3,4,5,6-Pentabromoethylbenzene\",\"2,3,5,6-Tetrabromo-p-xylene\",\"Allyl 2,4,6-tribromophenyl ether\",\"2-Bromoallyl(2,4,6-tribromophenyl) ether\",\"Pentabromobenzene\",\"Hexabromobenzene\",\"2,3,4,5,6-Pentabromobenzyl alcohol\",\"2-Ethylhexyl 2,3,4,5-Tetrabromobenzoate\",\"1-Fluronaphthalene\",\"Lilial\",\"Eugenol\",\"Isoeugenol\",\"4-Methoxybenzyl alcohol\",\"Methyleugenol\",\"Benzyl alcohol\",\"Estragole\",\"Benzyl benzoate\",\"Benzyl salicylate\",\"Celestolide\",\"Phantolide\",\"Tonalide\",\"Traseolide\",\"4,4'-Dichlorodiphenyldichloroethylene\",\"Methoxychlor\",\"4,4'-Dichlorodiphenyldichloroethane\",\"4,4'-Dichlorodiphenyltrichloroethane\",\"1,4-Chrysenequinone\",\"Hydroxychrysene\",\"1-Nitronaphthalene\",\"Hydroxyfluoren-9-one\",\"1,4-Naphthoquinone\",\"2-Methylnaphthalene\",\"1-Methylnaphthalene\",\"2,6-Dimethylnaphthalene\",\"1,3-Dimethylnaphthalene\",\"1,4-Dimethylnaphthalene\",\"1,5-Dimethylnaphthalene\",\"1,2-Dimethylnaphthalene\",\"1,8-Dimethylnaphthalene\",\"7,12-Dimethylbenz[a]anthracene\",\"2,4-D butyl ester\",\"Dimethachlor\",\"Alachlor\",\"Fenoxaprop-ethyl\",\"Metazachlor\",\"Metolachlor\",\"Pendimethalin\",\"Trifluralin\",\"2,2',3,4,4',5',6-Heptabromodiphenyl ether\",\"2-Chlorobiphenyl\",\"2,3-Dichlorobiphenyl\",\"2,2',5-Trichlorobiphenyl\",\"2,4',5-Trichlorobiphenyl\",\"2,2',3,5'-Tetrachlorobiphenyl\",\"2,3',4,4'-Tetrachlorobiphenyl\",\"2,2',3,4',5,5',6-Heptachlorobiphenyl\",\"2,2',3,4,4',5',6-Heptachlorobiphenyl\",\"2,2',3,3',4,4',5-Heptachlorobiphenyl\",\"2,2',3,4,5'-Pentachlorobiphenyl\",\"2,3,3',4',6-Pentachlorobiphenyl\",\"2,2',3,3',4,4',5,5',6-Nonachlorobiphenyl\",\"2,2',3,5,5',6-Hexachlorobiphenyl\",\"2,2',3,4',5,5',6-Heptachloro-4-methoxybiphenyl\",\"2,2',3',4,4',5-Hexachloro-3-methoxybiphenyl\",\"2,2',3,4',5,5'-Hexachloro-4-methoxybiphenyl\",\"2,2',3,4,5,5'-Hexachlorobiphenyl\",\"Mexacarbate\",\"Aminocarb\",\"Isocarbophos\",\"Carbaryl\",\"Dimethomorph_isomer2\",\"Ethiofencarb\",\"Methiocarb\",\"Iprovalicarb isomer 2\",\"Iprovalicarb isomer 1\",\"Propham\",\"Propoxur\",\"Thiobencarb\",\"Isoprocarb\",\"Linuron\",\"Metobromuron\",\"Monolinuron\",\"Siduron\",\"Bifenazate\",\"Diethofencarb\",\"Diflubenzuron\",\"Fenobucarb\",\"Dioxacarb\",\"Promecarb\",\"Fenoxycarb\",\"Indoxacarb\",\"Azoxystrobin\",\"Benzoximate\",\"Boscalid\",\"Butafenacil\",\"Carbetamide\",\"Fenhexamid\",\"Flutolanil\",\"Furalaxyl\",\"Kresoxim-methyl\",\"Mepanipyrim\",\"Mepronil\",\"Myclobutanil\",\"Oxadixyl\",\"Picoxystrobin\",\"Pyracarbolid\",\"Pyrimethanil\",\"Pyriproxyfen\",\"Triadimefon\",\"Trifloxystrobin\",\"Zoxamide\",\"Amitraz\",\"Tebufenpyrad\",\"Enilconazole\",\"Carboxin\",\"Flufenacet\",\"Propargite_isomer1\",\"Propargite_isomer2\",\"Pyridaben\",\"Bitertanol_isomer1\",\"Bitertanol_isomer2\",\"Bromuconazole_isomer1\",\"Bromuconazole_isomer2\",\"Cyproconazole_isomer1\",\"Cyproconazole_isomer2\",\"Diclobutrazol\",\"Difenoconazole_isomer1\",\"Difenoconazole_isomer2\",\"Etoxazole\",\"Fenarimol\",\"Flusilazole\",\"Flutriafol\",\"Hexaconazole\",\"Nuarimol\",\"Paclobutrazol\",\"Penconazole\",\"Propiconazole_isomer1\",\"Propiconazole_isomer2\",\"Tebuconazole\",\"Tetraconazole\",\"Triadimenol_isomer1\",\"Triadimenol_isomer2\",\"Triflumizole\",\"Triticonazole\",\"Fenpropimorph_isomer1\",\"Fenpropimorph_isomer2\",\"Spirodiclofen\",\"Spirotetramat\",\"Bisphenol A\",\"4-tert-Octylphenol\"],\"textposition\":\"middle right\",\"x\":[9.0065681789311,892.1650687160719,0.6333256204096,944.0450943644676,942.0729814235752,937.8857718781576,668.6826253068305,948.7740176821991,937.075996631993,889.1480656798412,958.9889194029564,704.865199182585,927.036972707218,909.2048795662075,880.58927099081,940.6410204929743,948.9121444797912,922.4799448827952,936.2855625100808,943.4474699006727,911.320331267288,913.0441739189382,910.767776499818,855.6352031788314,848.4925647408332,906.8416030069703,536.1664161984837,592.9706797659072,656.8811489638633,829.6648567056003,506.50242029161365,843.6073116340173,243.08070780460912,750.5131451183917,869.3785106504954,786.5305771086425,946.829271683286,932.7039170603883,506.75514704223843,416.5181481823979,629.799641529818,874.4627267157198,805.4739456488558,907.1642546098232,817.9186552452435,773.5840982090951,772.2145388709022,809.9517835414803,870.1459521896978,841.0059114468547,796.1212029300831,875.6548375190589,881.8947623834824,863.6929413285311,854.6841148919162,869.2233057547234,847.330235552079,819.7509934157268,724.1051652066511,247.53254234959422,761.8480838111637,694.0217906188888,876.3933740705494,917.6007539169196,633.4455096479583,826.2061880855275,383.3001270220684,311.3712576873396,756.8509014285203,907.4560073214673,19.5439342804553,207.0122052716335,980.008037915998,444.57220743662066,740.4369823575244,796.1969028982653,392.514352425526,692.2214551905403,438.81920390341736,709.8226494937314,723.2560284565584,834.0342419522866,674.9089435119099,508.07368254704954,793.1467542349322,408.0498525295504,663.0549193804035,820.5084248661963,609.5531107800552,590.6965052777083,770.5802424523864,741.61091321123,554.9186808916205,808.1428143103731,652.2547342981627,792.0419362659181,769.7709687769607,779.5745913163479,571.4391985343893,485.8363315071611,852.2024952078577,573.7592305828392,766.3676327514842,697.5873675879249,482.563393757889,95.9163038789531,164.91350064845358,404.61234834787257,557.1213997533517,75.4423884309527,197.3104191285521,51.801453688460896,315.5609518766191,902.6045506156012,767.0229899444669,785.0586617707937,877.0680388557616,783.9093019760144,902.3724959857605,784.3130227657011,834.4231952797093,808.0942930097825,841.8014876435003,874.7747041200051,774.1374882157087,845.3297004477413,711.1796693594158,681.8179973816345,729.7491448907699,825.5138416477084,445.6718001315433,477.49424365675367,230.11574547947,269.7203283976619,554.5260510015424,136.3925082266382,202.0410992916851,352.4206220081058,345.1908063562089,296.2198971438134,13.129285677445,675.7035675413729,66.0945772395713,650.6435051729295,856.2898953585471,791.9135503273661,138.8159224013895,360.6147321990129,341.7948518126384,795.0680292880509,69.4973007846138,456.3102503318951,94.78029419469989,78.2110915891292,328.7650685440487,83.6388745766982,3.3781364523796,810.190709694973,491.7339422075072,172.9153263120889,384.9743336109443,759.3706323828876,802.2554543103652,620.5659446800186,528.1096458962076,902.3114148088932,168.032126957623,176.0777470240858,225.6379009159605,909.6637541615196,408.05279849656927,145.801648271064,409.4852728715347,521.729860871398,849.3063473468353,476.4093021091061,414.42964572489336,152.735567361257,788.564852925477,235.4744611966732,114.5887159347208,114.85965981472961,525.2186185966889,125.1487909811919,136.0632458287571,316.0080567747421,310.0337811500698,483.4196009865932,475.674393718253,355.98438053530316,356.5786065559933,361.4636281243343,317.9443891775497,544.0792043341467,328.4279425050608,428.7167747925732,377.3532854383297,557.2890106231346,497.3447297640551,139.0023973321092,458.09569068459297,482.5194356392459,560.4044412574559,101.1430902262031,111.6437612381602,69.93985187436131,335.1469965921549,425.7416085296344,298.1490036201399,321.70130075400226,31.3439500583982,98.1978985801338,389.22260880054887,816.9404078532336],\"y\":[2,12,1,15,16,13,13,15,13,17,7,10,12,16,13,11,15,14,13,9,11,14,16,8,9,11,19,20,14,23,19,12,12,56,35,67,35,39,36,26,43,30,48,38,58,74,75,50,44,37,58,42,42,63,64,64,47,67,19,24,18,24,53,58,87,53,17,39,42,49,15,28,11,27,16,13,11,26,8,21,10,6,33,33,35,13,37,31,36,37,22,9,27,12,15,13,11,20,20,19,22,22,23,28,32,18,18,24,18,26,31,13,58,24,31,38,34,53,40,70,71,82,56,42,88,62,86,78,58,61,16,11,13,10,29,8,8,12,13,7,2,13,8,34,26,23,4,37,8,5,7,17,9,14,46,24,3,29,11,9,18,7,20,18,7,9,35,11,37,5,12,11,28,27,21,29,37,15,13,18,25,25,18,11,13,32,31,23,23,28,25,24,58,38,17,11,37,52,26,33,24,26,24,26,22,12,34,60,6,12,3,13,12,12],\"type\":\"scatter\"},{\"marker\":{\"color\":\"black\",\"size\":10},\"mode\":\"markers\",\"name\":\"Size represents FractionQuery\",\"showlegend\":true,\"x\":[null],\"y\":[null],\"type\":\"scatter\"}],                        {\"template\":{\"data\":{\"histogram2dcontour\":[{\"type\":\"histogram2dcontour\",\"colorbar\":{\"outlinewidth\":0,\"ticks\":\"\"},\"colorscale\":[[0.0,\"#0d0887\"],[0.1111111111111111,\"#46039f\"],[0.2222222222222222,\"#7201a8\"],[0.3333333333333333,\"#9c179e\"],[0.4444444444444444,\"#bd3786\"],[0.5555555555555556,\"#d8576b\"],[0.6666666666666666,\"#ed7953\"],[0.7777777777777778,\"#fb9f3a\"],[0.8888888888888888,\"#fdca26\"],[1.0,\"#f0f921\"]]}],\"choropleth\":[{\"type\":\"choropleth\",\"colorbar\":{\"outlinewidth\":0,\"ticks\":\"\"}}],\"histogram2d\":[{\"type\":\"histogram2d\",\"colorbar\":{\"outlinewidth\":0,\"ticks\":\"\"},\"colorscale\":[[0.0,\"#0d0887\"],[0.1111111111111111,\"#46039f\"],[0.2222222222222222,\"#7201a8\"],[0.3333333333333333,\"#9c179e\"],[0.4444444444444444,\"#bd3786\"],[0.5555555555555556,\"#d8576b\"],[0.6666666666666666,\"#ed7953\"],[0.7777777777777778,\"#fb9f3a\"],[0.8888888888888888,\"#fdca26\"],[1.0,\"#f0f921\"]]}],\"heatmap\":[{\"type\":\"heatmap\",\"colorbar\":{\"outlinewidth\":0,\"ticks\":\"\"},\"colorscale\":[[0.0,\"#0d0887\"],[0.1111111111111111,\"#46039f\"],[0.2222222222222222,\"#7201a8\"],[0.3333333333333333,\"#9c179e\"],[0.4444444444444444,\"#bd3786\"],[0.5555555555555556,\"#d8576b\"],[0.6666666666666666,\"#ed7953\"],[0.7777777777777778,\"#fb9f3a\"],[0.8888888888888888,\"#fdca26\"],[1.0,\"#f0f921\"]]}],\"heatmapgl\":[{\"type\":\"heatmapgl\",\"colorbar\":{\"outlinewidth\":0,\"ticks\":\"\"},\"colorscale\":[[0.0,\"#0d0887\"],[0.1111111111111111,\"#46039f\"],[0.2222222222222222,\"#7201a8\"],[0.3333333333333333,\"#9c179e\"],[0.4444444444444444,\"#bd3786\"],[0.5555555555555556,\"#d8576b\"],[0.6666666666666666,\"#ed7953\"],[0.7777777777777778,\"#fb9f3a\"],[0.8888888888888888,\"#fdca26\"],[1.0,\"#f0f921\"]]}],\"contourcarpet\":[{\"type\":\"contourcarpet\",\"colorbar\":{\"outlinewidth\":0,\"ticks\":\"\"}}],\"contour\":[{\"type\":\"contour\",\"colorbar\":{\"outlinewidth\":0,\"ticks\":\"\"},\"colorscale\":[[0.0,\"#0d0887\"],[0.1111111111111111,\"#46039f\"],[0.2222222222222222,\"#7201a8\"],[0.3333333333333333,\"#9c179e\"],[0.4444444444444444,\"#bd3786\"],[0.5555555555555556,\"#d8576b\"],[0.6666666666666666,\"#ed7953\"],[0.7777777777777778,\"#fb9f3a\"],[0.8888888888888888,\"#fdca26\"],[1.0,\"#f0f921\"]]}],\"surface\":[{\"type\":\"surface\",\"colorbar\":{\"outlinewidth\":0,\"ticks\":\"\"},\"colorscale\":[[0.0,\"#0d0887\"],[0.1111111111111111,\"#46039f\"],[0.2222222222222222,\"#7201a8\"],[0.3333333333333333,\"#9c179e\"],[0.4444444444444444,\"#bd3786\"],[0.5555555555555556,\"#d8576b\"],[0.6666666666666666,\"#ed7953\"],[0.7777777777777778,\"#fb9f3a\"],[0.8888888888888888,\"#fdca26\"],[1.0,\"#f0f921\"]]}],\"mesh3d\":[{\"type\":\"mesh3d\",\"colorbar\":{\"outlinewidth\":0,\"ticks\":\"\"}}],\"scatter\":[{\"fillpattern\":{\"fillmode\":\"overlay\",\"size\":10,\"solidity\":0.2},\"type\":\"scatter\"}],\"parcoords\":[{\"type\":\"parcoords\",\"line\":{\"colorbar\":{\"outlinewidth\":0,\"ticks\":\"\"}}}],\"scatterpolargl\":[{\"type\":\"scatterpolargl\",\"marker\":{\"colorbar\":{\"outlinewidth\":0,\"ticks\":\"\"}}}],\"bar\":[{\"error_x\":{\"color\":\"#2a3f5f\"},\"error_y\":{\"color\":\"#2a3f5f\"},\"marker\":{\"line\":{\"color\":\"#E5ECF6\",\"width\":0.5},\"pattern\":{\"fillmode\":\"overlay\",\"size\":10,\"solidity\":0.2}},\"type\":\"bar\"}],\"scattergeo\":[{\"type\":\"scattergeo\",\"marker\":{\"colorbar\":{\"outlinewidth\":0,\"ticks\":\"\"}}}],\"scatterpolar\":[{\"type\":\"scatterpolar\",\"marker\":{\"colorbar\":{\"outlinewidth\":0,\"ticks\":\"\"}}}],\"histogram\":[{\"marker\":{\"pattern\":{\"fillmode\":\"overlay\",\"size\":10,\"solidity\":0.2}},\"type\":\"histogram\"}],\"scattergl\":[{\"type\":\"scattergl\",\"marker\":{\"colorbar\":{\"outlinewidth\":0,\"ticks\":\"\"}}}],\"scatter3d\":[{\"type\":\"scatter3d\",\"line\":{\"colorbar\":{\"outlinewidth\":0,\"ticks\":\"\"}},\"marker\":{\"colorbar\":{\"outlinewidth\":0,\"ticks\":\"\"}}}],\"scattermapbox\":[{\"type\":\"scattermapbox\",\"marker\":{\"colorbar\":{\"outlinewidth\":0,\"ticks\":\"\"}}}],\"scatterternary\":[{\"type\":\"scatterternary\",\"marker\":{\"colorbar\":{\"outlinewidth\":0,\"ticks\":\"\"}}}],\"scattercarpet\":[{\"type\":\"scattercarpet\",\"marker\":{\"colorbar\":{\"outlinewidth\":0,\"ticks\":\"\"}}}],\"carpet\":[{\"aaxis\":{\"endlinecolor\":\"#2a3f5f\",\"gridcolor\":\"white\",\"linecolor\":\"white\",\"minorgridcolor\":\"white\",\"startlinecolor\":\"#2a3f5f\"},\"baxis\":{\"endlinecolor\":\"#2a3f5f\",\"gridcolor\":\"white\",\"linecolor\":\"white\",\"minorgridcolor\":\"white\",\"startlinecolor\":\"#2a3f5f\"},\"type\":\"carpet\"}],\"table\":[{\"cells\":{\"fill\":{\"color\":\"#EBF0F8\"},\"line\":{\"color\":\"white\"}},\"header\":{\"fill\":{\"color\":\"#C8D4E3\"},\"line\":{\"color\":\"white\"}},\"type\":\"table\"}],\"barpolar\":[{\"marker\":{\"line\":{\"color\":\"#E5ECF6\",\"width\":0.5},\"pattern\":{\"fillmode\":\"overlay\",\"size\":10,\"solidity\":0.2}},\"type\":\"barpolar\"}],\"pie\":[{\"automargin\":true,\"type\":\"pie\"}]},\"layout\":{\"autotypenumbers\":\"strict\",\"colorway\":[\"#636efa\",\"#EF553B\",\"#00cc96\",\"#ab63fa\",\"#FFA15A\",\"#19d3f3\",\"#FF6692\",\"#B6E880\",\"#FF97FF\",\"#FECB52\"],\"font\":{\"color\":\"#2a3f5f\"},\"hovermode\":\"closest\",\"hoverlabel\":{\"align\":\"left\"},\"paper_bgcolor\":\"white\",\"plot_bgcolor\":\"#E5ECF6\",\"polar\":{\"bgcolor\":\"#E5ECF6\",\"angularaxis\":{\"gridcolor\":\"white\",\"linecolor\":\"white\",\"ticks\":\"\"},\"radialaxis\":{\"gridcolor\":\"white\",\"linecolor\":\"white\",\"ticks\":\"\"}},\"ternary\":{\"bgcolor\":\"#E5ECF6\",\"aaxis\":{\"gridcolor\":\"white\",\"linecolor\":\"white\",\"ticks\":\"\"},\"baxis\":{\"gridcolor\":\"white\",\"linecolor\":\"white\",\"ticks\":\"\"},\"caxis\":{\"gridcolor\":\"white\",\"linecolor\":\"white\",\"ticks\":\"\"}},\"coloraxis\":{\"colorbar\":{\"outlinewidth\":0,\"ticks\":\"\"}},\"colorscale\":{\"sequential\":[[0.0,\"#0d0887\"],[0.1111111111111111,\"#46039f\"],[0.2222222222222222,\"#7201a8\"],[0.3333333333333333,\"#9c179e\"],[0.4444444444444444,\"#bd3786\"],[0.5555555555555556,\"#d8576b\"],[0.6666666666666666,\"#ed7953\"],[0.7777777777777778,\"#fb9f3a\"],[0.8888888888888888,\"#fdca26\"],[1.0,\"#f0f921\"]],\"sequentialminus\":[[0.0,\"#0d0887\"],[0.1111111111111111,\"#46039f\"],[0.2222222222222222,\"#7201a8\"],[0.3333333333333333,\"#9c179e\"],[0.4444444444444444,\"#bd3786\"],[0.5555555555555556,\"#d8576b\"],[0.6666666666666666,\"#ed7953\"],[0.7777777777777778,\"#fb9f3a\"],[0.8888888888888888,\"#fdca26\"],[1.0,\"#f0f921\"]],\"diverging\":[[0,\"#8e0152\"],[0.1,\"#c51b7d\"],[0.2,\"#de77ae\"],[0.3,\"#f1b6da\"],[0.4,\"#fde0ef\"],[0.5,\"#f7f7f7\"],[0.6,\"#e6f5d0\"],[0.7,\"#b8e186\"],[0.8,\"#7fbc41\"],[0.9,\"#4d9221\"],[1,\"#276419\"]]},\"xaxis\":{\"gridcolor\":\"white\",\"linecolor\":\"white\",\"ticks\":\"\",\"title\":{\"standoff\":15},\"zerolinecolor\":\"white\",\"automargin\":true,\"zerolinewidth\":2},\"yaxis\":{\"gridcolor\":\"white\",\"linecolor\":\"white\",\"ticks\":\"\",\"title\":{\"standoff\":15},\"zerolinecolor\":\"white\",\"automargin\":true,\"zerolinewidth\":2},\"scene\":{\"xaxis\":{\"backgroundcolor\":\"#E5ECF6\",\"gridcolor\":\"white\",\"linecolor\":\"white\",\"showbackground\":true,\"ticks\":\"\",\"zerolinecolor\":\"white\",\"gridwidth\":2},\"yaxis\":{\"backgroundcolor\":\"#E5ECF6\",\"gridcolor\":\"white\",\"linecolor\":\"white\",\"showbackground\":true,\"ticks\":\"\",\"zerolinecolor\":\"white\",\"gridwidth\":2},\"zaxis\":{\"backgroundcolor\":\"#E5ECF6\",\"gridcolor\":\"white\",\"linecolor\":\"white\",\"showbackground\":true,\"ticks\":\"\",\"zerolinecolor\":\"white\",\"gridwidth\":2}},\"shapedefaults\":{\"line\":{\"color\":\"#2a3f5f\"}},\"annotationdefaults\":{\"arrowcolor\":\"#2a3f5f\",\"arrowhead\":0,\"arrowwidth\":1},\"geo\":{\"bgcolor\":\"white\",\"landcolor\":\"#E5ECF6\",\"subunitcolor\":\"white\",\"showland\":true,\"showlakes\":true,\"lakecolor\":\"white\"},\"title\":{\"x\":0.05},\"mapbox\":{\"style\":\"light\"}}},\"title\":{\"text\":\"Benzenoids\"},\"xaxis\":{\"title\":{\"text\":\"Score\"},\"range\":[0,1]},\"yaxis\":{\"title\":{\"text\":\"Matches\"}},\"width\":800,\"height\":600},                        {\"responsive\": true}                    ).then(function(){\n",
       "                            \n",
       "var gd = document.getElementById('7f2ab010-2e3e-4064-b5e7-3a9c7f71a95f');\n",
       "var x = new MutationObserver(function (mutations, observer) {{\n",
       "        var display = window.getComputedStyle(gd).display;\n",
       "        if (!display || display === 'none') {{\n",
       "            console.log([gd, 'removed!']);\n",
       "            Plotly.purge(gd);\n",
       "            observer.disconnect();\n",
       "        }}\n",
       "}});\n",
       "\n",
       "// Listen for the removal of the full notebook cells\n",
       "var notebookContainer = gd.closest('#notebook-container');\n",
       "if (notebookContainer) {{\n",
       "    x.observe(notebookContainer, {childList: true});\n",
       "}}\n",
       "\n",
       "// Listen for the clearing of the current output cell\n",
       "var outputEl = gd.closest('.output');\n",
       "if (outputEl) {{\n",
       "    x.observe(outputEl, {childList: true});\n",
       "}}\n",
       "\n",
       "                        })                };                });            </script>        </div>"
      ]
     },
     "metadata": {},
     "output_type": "display_data"
    },
    {
     "data": {
      "application/vnd.plotly.v1+json": {
       "config": {
        "plotlyServerURL": "https://plot.ly"
       },
       "data": [
        {
         "marker": {
          "cmax": 1,
          "cmin": 0,
          "color": [
           0.7906976744186046,
           0.5084745762711864,
           0.7674418604651163,
           0.4909090909090909,
           0.40540540540540543,
           0.6440677966101694,
           0.4032258064516129,
           0.43636363636363634,
           0.43478260869565216,
           0.265625,
           0.4657534246575342,
           0.39344262295081966,
           0.5076923076923077,
           0.32926829268292684,
           0.1388888888888889,
           0.5853658536585366,
           0.42857142857142855,
           0.48717948717948717,
           0.49019607843137253,
           0.3375,
           0.29473684210526313,
           0.3472222222222222,
           0.18439716312056736,
           0.36363636363636365,
           0.36363636363636365,
           0.16853932584269662,
           0.1346153846153846,
           0.3111111111111111,
           0.8571428571428571,
           0.7083333333333334,
           0.875,
           0.7741935483870968,
           0.4188034188034188,
           0.33691756272401435,
           0.32388663967611336,
           0.14545454545454545,
           0.29411764705882354,
           0.3492063492063492,
           0.35507246376811596,
           0.3,
           0.5247524752475248,
           0.5568181818181818,
           0.5373134328358209,
           0.39285714285714285,
           0.4461538461538462
          ],
          "colorbar": {
           "title": {
            "text": "Reference Matched %"
           }
          },
          "colorscale": [
           [
            0,
            "#440154"
           ],
           [
            0.1111111111111111,
            "#482878"
           ],
           [
            0.2222222222222222,
            "#3e4989"
           ],
           [
            0.3333333333333333,
            "#31688e"
           ],
           [
            0.4444444444444444,
            "#26828e"
           ],
           [
            0.5555555555555556,
            "#1f9e89"
           ],
           [
            0.6666666666666666,
            "#35b779"
           ],
           [
            0.7777777777777778,
            "#6ece58"
           ],
           [
            0.8888888888888888,
            "#b5de2b"
           ],
           [
            1,
            "#fde725"
           ]
          ],
          "opacity": 0.5,
          "size": [
           9.23404255319149,
           12.434782608695652,
           9.586206896551724,
           10.181818181818182,
           10.823529411764707,
           11.5,
           8.849315068493151,
           12,
           10.450704225352112,
           10.292682926829269,
           9.391304347826086,
           7.217391304347826,
           8.226415094339622,
           8,
           6.040404040404041,
           6.660194174757281,
           6.477611940298508,
           7.588235294117647,
           10.620689655172413,
           5.552631578947368,
           5.684210526315789,
           5.7593984962406015,
           5.909774436090226,
           5.2,
           6.028776978417266,
           4.142857142857142,
           6.912280701754385,
           14.173913043478262,
           7.806451612903226,
           10.947368421052632,
           7.6000000000000005,
           6.948453608247423,
           9.313432835820896,
           10.468468468468469,
           9.88177339901478,
           12,
           5.846153846153847,
           8.76923076923077,
           10.305084745762713,
           13.48936170212766,
           11.13793103448276,
           12.425531914893618,
           8.857142857142858,
           12.909090909090908,
           11.43089430894309
          ]
         },
         "mode": "markers+text",
         "name": "Matched Ions",
         "text": [
          "Retene",
          "Enzacamene",
          "Mirex",
          "cis-Prallethrin",
          "cis-Resmethrin",
          "trans-Resmethrin",
          "cis-Phenothrin",
          "trans-Phenothrin",
          "cis-Cyphenothrin",
          "trans-Cyphenothrin",
          "Flucythrinate_isomer1",
          "Flucythrinate_isomer2",
          "cis-Fenvalerate",
          "trans-Fenvalerate",
          "Deltamethrin",
          "lambda-Cyhalothrin",
          "cis-Permethrin",
          "trans-Permethrin",
          "cis-Allethrin",
          "cis-Cypermethrin_isomer1",
          "cis-Cypermethrin_isomer2",
          "trans-Cypermethrin_isomer1",
          "trans-Cypermethrin_isomer2",
          "cis-Cyfluthrin_isomer1",
          "trans-Cyfluthrin_isomer1",
          "cis-Cyfluthrin_isomer2",
          "trans-Cyfluthrin_Isomer2",
          "Citral (Geranial)",
          "Camphor",
          "Limonene",
          "Isomethyl-alpha-ionone",
          "delta-Iraldeine",
          "Endrin ketone",
          "Endrin aldehyde",
          "Endrin",
          "Malathion",
          "Mevinphos",
          "Metconazole",
          "Ipconazole",
          "Spiromesifen",
          "17-alpha-Ethynylestradiol",
          "Estrone",
          "17-beta-Estradiol",
          "Progesterone",
          "Testosterone"
         ],
         "textposition": "middle right",
         "type": "scatter",
         "x": [
          647.5717890239174,
          418.7217729481738,
          437.3910460057382,
          637.5902591489319,
          279.5364079548856,
          336.4971403401969,
          693.0832132257273,
          293.291377392092,
          614.7827071849804,
          163.2458283012519,
          314.43832591052364,
          283.71881713782733,
          285.7436233829308,
          313.68072509020277,
          242.045459175661,
          195.50854270135002,
          835.7246825825758,
          705.2662101286639,
          593.0865437498253,
          202.461464373758,
          334.4167026061613,
          292.2945771793653,
          292.9942661169664,
          219.676521956546,
          288.26456680246037,
          223.9134866065928,
          103.1157097822858,
          186.6353654859706,
          378.3586649408125,
          129.5519580035435,
          287.29311655183557,
          226.1782989508215,
          127.6344389339892,
          443.67902828088415,
          191.97009578813302,
          380.016186715,
          105.0167267362857,
          726.2358402637565,
          669.577043515583,
          109.8725953711869,
          314.7749126279844,
          828.8448628679583,
          832.3772911117093,
          356.2542456636326,
          358.4753524266398
         ],
         "y": [
          34,
          60,
          66,
          27,
          30,
          38,
          25,
          24,
          30,
          17,
          34,
          24,
          33,
          27,
          20,
          24,
          15,
          19,
          25,
          27,
          28,
          25,
          26,
          24,
          28,
          15,
          14,
          14,
          18,
          17,
          28,
          24,
          98,
          94,
          80,
          8,
          5,
          44,
          49,
          27,
          53,
          49,
          36,
          66,
          58
         ]
        },
        {
         "marker": {
          "color": "black",
          "size": 10
         },
         "mode": "markers",
         "name": "Size represents FractionQuery",
         "showlegend": true,
         "type": "scatter",
         "x": [
          null
         ],
         "y": [
          null
         ]
        }
       ],
       "layout": {
        "height": 600,
        "template": {
         "data": {
          "bar": [
           {
            "error_x": {
             "color": "#2a3f5f"
            },
            "error_y": {
             "color": "#2a3f5f"
            },
            "marker": {
             "line": {
              "color": "#E5ECF6",
              "width": 0.5
             },
             "pattern": {
              "fillmode": "overlay",
              "size": 10,
              "solidity": 0.2
             }
            },
            "type": "bar"
           }
          ],
          "barpolar": [
           {
            "marker": {
             "line": {
              "color": "#E5ECF6",
              "width": 0.5
             },
             "pattern": {
              "fillmode": "overlay",
              "size": 10,
              "solidity": 0.2
             }
            },
            "type": "barpolar"
           }
          ],
          "carpet": [
           {
            "aaxis": {
             "endlinecolor": "#2a3f5f",
             "gridcolor": "white",
             "linecolor": "white",
             "minorgridcolor": "white",
             "startlinecolor": "#2a3f5f"
            },
            "baxis": {
             "endlinecolor": "#2a3f5f",
             "gridcolor": "white",
             "linecolor": "white",
             "minorgridcolor": "white",
             "startlinecolor": "#2a3f5f"
            },
            "type": "carpet"
           }
          ],
          "choropleth": [
           {
            "colorbar": {
             "outlinewidth": 0,
             "ticks": ""
            },
            "type": "choropleth"
           }
          ],
          "contour": [
           {
            "colorbar": {
             "outlinewidth": 0,
             "ticks": ""
            },
            "colorscale": [
             [
              0,
              "#0d0887"
             ],
             [
              0.1111111111111111,
              "#46039f"
             ],
             [
              0.2222222222222222,
              "#7201a8"
             ],
             [
              0.3333333333333333,
              "#9c179e"
             ],
             [
              0.4444444444444444,
              "#bd3786"
             ],
             [
              0.5555555555555556,
              "#d8576b"
             ],
             [
              0.6666666666666666,
              "#ed7953"
             ],
             [
              0.7777777777777778,
              "#fb9f3a"
             ],
             [
              0.8888888888888888,
              "#fdca26"
             ],
             [
              1,
              "#f0f921"
             ]
            ],
            "type": "contour"
           }
          ],
          "contourcarpet": [
           {
            "colorbar": {
             "outlinewidth": 0,
             "ticks": ""
            },
            "type": "contourcarpet"
           }
          ],
          "heatmap": [
           {
            "colorbar": {
             "outlinewidth": 0,
             "ticks": ""
            },
            "colorscale": [
             [
              0,
              "#0d0887"
             ],
             [
              0.1111111111111111,
              "#46039f"
             ],
             [
              0.2222222222222222,
              "#7201a8"
             ],
             [
              0.3333333333333333,
              "#9c179e"
             ],
             [
              0.4444444444444444,
              "#bd3786"
             ],
             [
              0.5555555555555556,
              "#d8576b"
             ],
             [
              0.6666666666666666,
              "#ed7953"
             ],
             [
              0.7777777777777778,
              "#fb9f3a"
             ],
             [
              0.8888888888888888,
              "#fdca26"
             ],
             [
              1,
              "#f0f921"
             ]
            ],
            "type": "heatmap"
           }
          ],
          "heatmapgl": [
           {
            "colorbar": {
             "outlinewidth": 0,
             "ticks": ""
            },
            "colorscale": [
             [
              0,
              "#0d0887"
             ],
             [
              0.1111111111111111,
              "#46039f"
             ],
             [
              0.2222222222222222,
              "#7201a8"
             ],
             [
              0.3333333333333333,
              "#9c179e"
             ],
             [
              0.4444444444444444,
              "#bd3786"
             ],
             [
              0.5555555555555556,
              "#d8576b"
             ],
             [
              0.6666666666666666,
              "#ed7953"
             ],
             [
              0.7777777777777778,
              "#fb9f3a"
             ],
             [
              0.8888888888888888,
              "#fdca26"
             ],
             [
              1,
              "#f0f921"
             ]
            ],
            "type": "heatmapgl"
           }
          ],
          "histogram": [
           {
            "marker": {
             "pattern": {
              "fillmode": "overlay",
              "size": 10,
              "solidity": 0.2
             }
            },
            "type": "histogram"
           }
          ],
          "histogram2d": [
           {
            "colorbar": {
             "outlinewidth": 0,
             "ticks": ""
            },
            "colorscale": [
             [
              0,
              "#0d0887"
             ],
             [
              0.1111111111111111,
              "#46039f"
             ],
             [
              0.2222222222222222,
              "#7201a8"
             ],
             [
              0.3333333333333333,
              "#9c179e"
             ],
             [
              0.4444444444444444,
              "#bd3786"
             ],
             [
              0.5555555555555556,
              "#d8576b"
             ],
             [
              0.6666666666666666,
              "#ed7953"
             ],
             [
              0.7777777777777778,
              "#fb9f3a"
             ],
             [
              0.8888888888888888,
              "#fdca26"
             ],
             [
              1,
              "#f0f921"
             ]
            ],
            "type": "histogram2d"
           }
          ],
          "histogram2dcontour": [
           {
            "colorbar": {
             "outlinewidth": 0,
             "ticks": ""
            },
            "colorscale": [
             [
              0,
              "#0d0887"
             ],
             [
              0.1111111111111111,
              "#46039f"
             ],
             [
              0.2222222222222222,
              "#7201a8"
             ],
             [
              0.3333333333333333,
              "#9c179e"
             ],
             [
              0.4444444444444444,
              "#bd3786"
             ],
             [
              0.5555555555555556,
              "#d8576b"
             ],
             [
              0.6666666666666666,
              "#ed7953"
             ],
             [
              0.7777777777777778,
              "#fb9f3a"
             ],
             [
              0.8888888888888888,
              "#fdca26"
             ],
             [
              1,
              "#f0f921"
             ]
            ],
            "type": "histogram2dcontour"
           }
          ],
          "mesh3d": [
           {
            "colorbar": {
             "outlinewidth": 0,
             "ticks": ""
            },
            "type": "mesh3d"
           }
          ],
          "parcoords": [
           {
            "line": {
             "colorbar": {
              "outlinewidth": 0,
              "ticks": ""
             }
            },
            "type": "parcoords"
           }
          ],
          "pie": [
           {
            "automargin": true,
            "type": "pie"
           }
          ],
          "scatter": [
           {
            "fillpattern": {
             "fillmode": "overlay",
             "size": 10,
             "solidity": 0.2
            },
            "type": "scatter"
           }
          ],
          "scatter3d": [
           {
            "line": {
             "colorbar": {
              "outlinewidth": 0,
              "ticks": ""
             }
            },
            "marker": {
             "colorbar": {
              "outlinewidth": 0,
              "ticks": ""
             }
            },
            "type": "scatter3d"
           }
          ],
          "scattercarpet": [
           {
            "marker": {
             "colorbar": {
              "outlinewidth": 0,
              "ticks": ""
             }
            },
            "type": "scattercarpet"
           }
          ],
          "scattergeo": [
           {
            "marker": {
             "colorbar": {
              "outlinewidth": 0,
              "ticks": ""
             }
            },
            "type": "scattergeo"
           }
          ],
          "scattergl": [
           {
            "marker": {
             "colorbar": {
              "outlinewidth": 0,
              "ticks": ""
             }
            },
            "type": "scattergl"
           }
          ],
          "scattermapbox": [
           {
            "marker": {
             "colorbar": {
              "outlinewidth": 0,
              "ticks": ""
             }
            },
            "type": "scattermapbox"
           }
          ],
          "scatterpolar": [
           {
            "marker": {
             "colorbar": {
              "outlinewidth": 0,
              "ticks": ""
             }
            },
            "type": "scatterpolar"
           }
          ],
          "scatterpolargl": [
           {
            "marker": {
             "colorbar": {
              "outlinewidth": 0,
              "ticks": ""
             }
            },
            "type": "scatterpolargl"
           }
          ],
          "scatterternary": [
           {
            "marker": {
             "colorbar": {
              "outlinewidth": 0,
              "ticks": ""
             }
            },
            "type": "scatterternary"
           }
          ],
          "surface": [
           {
            "colorbar": {
             "outlinewidth": 0,
             "ticks": ""
            },
            "colorscale": [
             [
              0,
              "#0d0887"
             ],
             [
              0.1111111111111111,
              "#46039f"
             ],
             [
              0.2222222222222222,
              "#7201a8"
             ],
             [
              0.3333333333333333,
              "#9c179e"
             ],
             [
              0.4444444444444444,
              "#bd3786"
             ],
             [
              0.5555555555555556,
              "#d8576b"
             ],
             [
              0.6666666666666666,
              "#ed7953"
             ],
             [
              0.7777777777777778,
              "#fb9f3a"
             ],
             [
              0.8888888888888888,
              "#fdca26"
             ],
             [
              1,
              "#f0f921"
             ]
            ],
            "type": "surface"
           }
          ],
          "table": [
           {
            "cells": {
             "fill": {
              "color": "#EBF0F8"
             },
             "line": {
              "color": "white"
             }
            },
            "header": {
             "fill": {
              "color": "#C8D4E3"
             },
             "line": {
              "color": "white"
             }
            },
            "type": "table"
           }
          ]
         },
         "layout": {
          "annotationdefaults": {
           "arrowcolor": "#2a3f5f",
           "arrowhead": 0,
           "arrowwidth": 1
          },
          "autotypenumbers": "strict",
          "coloraxis": {
           "colorbar": {
            "outlinewidth": 0,
            "ticks": ""
           }
          },
          "colorscale": {
           "diverging": [
            [
             0,
             "#8e0152"
            ],
            [
             0.1,
             "#c51b7d"
            ],
            [
             0.2,
             "#de77ae"
            ],
            [
             0.3,
             "#f1b6da"
            ],
            [
             0.4,
             "#fde0ef"
            ],
            [
             0.5,
             "#f7f7f7"
            ],
            [
             0.6,
             "#e6f5d0"
            ],
            [
             0.7,
             "#b8e186"
            ],
            [
             0.8,
             "#7fbc41"
            ],
            [
             0.9,
             "#4d9221"
            ],
            [
             1,
             "#276419"
            ]
           ],
           "sequential": [
            [
             0,
             "#0d0887"
            ],
            [
             0.1111111111111111,
             "#46039f"
            ],
            [
             0.2222222222222222,
             "#7201a8"
            ],
            [
             0.3333333333333333,
             "#9c179e"
            ],
            [
             0.4444444444444444,
             "#bd3786"
            ],
            [
             0.5555555555555556,
             "#d8576b"
            ],
            [
             0.6666666666666666,
             "#ed7953"
            ],
            [
             0.7777777777777778,
             "#fb9f3a"
            ],
            [
             0.8888888888888888,
             "#fdca26"
            ],
            [
             1,
             "#f0f921"
            ]
           ],
           "sequentialminus": [
            [
             0,
             "#0d0887"
            ],
            [
             0.1111111111111111,
             "#46039f"
            ],
            [
             0.2222222222222222,
             "#7201a8"
            ],
            [
             0.3333333333333333,
             "#9c179e"
            ],
            [
             0.4444444444444444,
             "#bd3786"
            ],
            [
             0.5555555555555556,
             "#d8576b"
            ],
            [
             0.6666666666666666,
             "#ed7953"
            ],
            [
             0.7777777777777778,
             "#fb9f3a"
            ],
            [
             0.8888888888888888,
             "#fdca26"
            ],
            [
             1,
             "#f0f921"
            ]
           ]
          },
          "colorway": [
           "#636efa",
           "#EF553B",
           "#00cc96",
           "#ab63fa",
           "#FFA15A",
           "#19d3f3",
           "#FF6692",
           "#B6E880",
           "#FF97FF",
           "#FECB52"
          ],
          "font": {
           "color": "#2a3f5f"
          },
          "geo": {
           "bgcolor": "white",
           "lakecolor": "white",
           "landcolor": "#E5ECF6",
           "showlakes": true,
           "showland": true,
           "subunitcolor": "white"
          },
          "hoverlabel": {
           "align": "left"
          },
          "hovermode": "closest",
          "mapbox": {
           "style": "light"
          },
          "paper_bgcolor": "white",
          "plot_bgcolor": "#E5ECF6",
          "polar": {
           "angularaxis": {
            "gridcolor": "white",
            "linecolor": "white",
            "ticks": ""
           },
           "bgcolor": "#E5ECF6",
           "radialaxis": {
            "gridcolor": "white",
            "linecolor": "white",
            "ticks": ""
           }
          },
          "scene": {
           "xaxis": {
            "backgroundcolor": "#E5ECF6",
            "gridcolor": "white",
            "gridwidth": 2,
            "linecolor": "white",
            "showbackground": true,
            "ticks": "",
            "zerolinecolor": "white"
           },
           "yaxis": {
            "backgroundcolor": "#E5ECF6",
            "gridcolor": "white",
            "gridwidth": 2,
            "linecolor": "white",
            "showbackground": true,
            "ticks": "",
            "zerolinecolor": "white"
           },
           "zaxis": {
            "backgroundcolor": "#E5ECF6",
            "gridcolor": "white",
            "gridwidth": 2,
            "linecolor": "white",
            "showbackground": true,
            "ticks": "",
            "zerolinecolor": "white"
           }
          },
          "shapedefaults": {
           "line": {
            "color": "#2a3f5f"
           }
          },
          "ternary": {
           "aaxis": {
            "gridcolor": "white",
            "linecolor": "white",
            "ticks": ""
           },
           "baxis": {
            "gridcolor": "white",
            "linecolor": "white",
            "ticks": ""
           },
           "bgcolor": "#E5ECF6",
           "caxis": {
            "gridcolor": "white",
            "linecolor": "white",
            "ticks": ""
           }
          },
          "title": {
           "x": 0.05
          },
          "xaxis": {
           "automargin": true,
           "gridcolor": "white",
           "linecolor": "white",
           "ticks": "",
           "title": {
            "standoff": 15
           },
           "zerolinecolor": "white",
           "zerolinewidth": 2
          },
          "yaxis": {
           "automargin": true,
           "gridcolor": "white",
           "linecolor": "white",
           "ticks": "",
           "title": {
            "standoff": 15
           },
           "zerolinecolor": "white",
           "zerolinewidth": 2
          }
         }
        },
        "title": {
         "text": "Lipids and lipid-like molecules"
        },
        "width": 800,
        "xaxis": {
         "range": [
          0,
          1
         ],
         "title": {
          "text": "Score"
         }
        },
        "yaxis": {
         "title": {
          "text": "Matches"
         }
        }
       }
      },
      "text/html": [
       "<div>                            <div id=\"0f38567b-106d-4f74-9e65-2c9fe1e488c1\" class=\"plotly-graph-div\" style=\"height:600px; width:800px;\"></div>            <script type=\"text/javascript\">                require([\"plotly\"], function(Plotly) {                    window.PLOTLYENV=window.PLOTLYENV || {};                                    if (document.getElementById(\"0f38567b-106d-4f74-9e65-2c9fe1e488c1\")) {                    Plotly.newPlot(                        \"0f38567b-106d-4f74-9e65-2c9fe1e488c1\",                        [{\"marker\":{\"cmax\":1,\"cmin\":0,\"color\":[0.7906976744186046,0.5084745762711864,0.7674418604651163,0.4909090909090909,0.40540540540540543,0.6440677966101694,0.4032258064516129,0.43636363636363634,0.43478260869565216,0.265625,0.4657534246575342,0.39344262295081966,0.5076923076923077,0.32926829268292684,0.1388888888888889,0.5853658536585366,0.42857142857142855,0.48717948717948717,0.49019607843137253,0.3375,0.29473684210526313,0.3472222222222222,0.18439716312056736,0.36363636363636365,0.36363636363636365,0.16853932584269662,0.1346153846153846,0.3111111111111111,0.8571428571428571,0.7083333333333334,0.875,0.7741935483870968,0.4188034188034188,0.33691756272401435,0.32388663967611336,0.14545454545454545,0.29411764705882354,0.3492063492063492,0.35507246376811596,0.3,0.5247524752475248,0.5568181818181818,0.5373134328358209,0.39285714285714285,0.4461538461538462],\"colorbar\":{\"title\":{\"text\":\"Reference Matched %\"}},\"colorscale\":[[0.0,\"#440154\"],[0.1111111111111111,\"#482878\"],[0.2222222222222222,\"#3e4989\"],[0.3333333333333333,\"#31688e\"],[0.4444444444444444,\"#26828e\"],[0.5555555555555556,\"#1f9e89\"],[0.6666666666666666,\"#35b779\"],[0.7777777777777778,\"#6ece58\"],[0.8888888888888888,\"#b5de2b\"],[1.0,\"#fde725\"]],\"opacity\":0.5,\"size\":[9.23404255319149,12.434782608695652,9.586206896551724,10.181818181818182,10.823529411764707,11.5,8.849315068493151,12.0,10.450704225352112,10.292682926829269,9.391304347826086,7.217391304347826,8.226415094339622,8.0,6.040404040404041,6.660194174757281,6.477611940298508,7.588235294117647,10.620689655172413,5.552631578947368,5.684210526315789,5.7593984962406015,5.909774436090226,5.2,6.028776978417266,4.142857142857142,6.912280701754385,14.173913043478262,7.806451612903226,10.947368421052632,7.6000000000000005,6.948453608247423,9.313432835820896,10.468468468468469,9.88177339901478,12.0,5.846153846153847,8.76923076923077,10.305084745762713,13.48936170212766,11.13793103448276,12.425531914893618,8.857142857142858,12.909090909090908,11.43089430894309]},\"mode\":\"markers+text\",\"name\":\"Matched Ions\",\"text\":[\"Retene\",\"Enzacamene\",\"Mirex\",\"cis-Prallethrin\",\"cis-Resmethrin\",\"trans-Resmethrin\",\"cis-Phenothrin\",\"trans-Phenothrin\",\"cis-Cyphenothrin\",\"trans-Cyphenothrin\",\"Flucythrinate_isomer1\",\"Flucythrinate_isomer2\",\"cis-Fenvalerate\",\"trans-Fenvalerate\",\"Deltamethrin\",\"lambda-Cyhalothrin\",\"cis-Permethrin\",\"trans-Permethrin\",\"cis-Allethrin\",\"cis-Cypermethrin_isomer1\",\"cis-Cypermethrin_isomer2\",\"trans-Cypermethrin_isomer1\",\"trans-Cypermethrin_isomer2\",\"cis-Cyfluthrin_isomer1\",\"trans-Cyfluthrin_isomer1\",\"cis-Cyfluthrin_isomer2\",\"trans-Cyfluthrin_Isomer2\",\"Citral (Geranial)\",\"Camphor\",\"Limonene\",\"Isomethyl-alpha-ionone\",\"delta-Iraldeine\",\"Endrin ketone\",\"Endrin aldehyde\",\"Endrin\",\"Malathion\",\"Mevinphos\",\"Metconazole\",\"Ipconazole\",\"Spiromesifen\",\"17-alpha-Ethynylestradiol\",\"Estrone\",\"17-beta-Estradiol\",\"Progesterone\",\"Testosterone\"],\"textposition\":\"middle right\",\"x\":[647.5717890239174,418.7217729481738,437.3910460057382,637.5902591489319,279.5364079548856,336.4971403401969,693.0832132257273,293.291377392092,614.7827071849804,163.2458283012519,314.43832591052364,283.71881713782733,285.7436233829308,313.68072509020277,242.045459175661,195.50854270135002,835.7246825825758,705.2662101286639,593.0865437498253,202.461464373758,334.4167026061613,292.2945771793653,292.9942661169664,219.676521956546,288.26456680246037,223.9134866065928,103.1157097822858,186.6353654859706,378.3586649408125,129.5519580035435,287.29311655183557,226.1782989508215,127.6344389339892,443.67902828088415,191.97009578813302,380.016186715,105.0167267362857,726.2358402637565,669.577043515583,109.8725953711869,314.7749126279844,828.8448628679583,832.3772911117093,356.2542456636326,358.4753524266398],\"y\":[34,60,66,27,30,38,25,24,30,17,34,24,33,27,20,24,15,19,25,27,28,25,26,24,28,15,14,14,18,17,28,24,98,94,80,8,5,44,49,27,53,49,36,66,58],\"type\":\"scatter\"},{\"marker\":{\"color\":\"black\",\"size\":10},\"mode\":\"markers\",\"name\":\"Size represents FractionQuery\",\"showlegend\":true,\"x\":[null],\"y\":[null],\"type\":\"scatter\"}],                        {\"template\":{\"data\":{\"histogram2dcontour\":[{\"type\":\"histogram2dcontour\",\"colorbar\":{\"outlinewidth\":0,\"ticks\":\"\"},\"colorscale\":[[0.0,\"#0d0887\"],[0.1111111111111111,\"#46039f\"],[0.2222222222222222,\"#7201a8\"],[0.3333333333333333,\"#9c179e\"],[0.4444444444444444,\"#bd3786\"],[0.5555555555555556,\"#d8576b\"],[0.6666666666666666,\"#ed7953\"],[0.7777777777777778,\"#fb9f3a\"],[0.8888888888888888,\"#fdca26\"],[1.0,\"#f0f921\"]]}],\"choropleth\":[{\"type\":\"choropleth\",\"colorbar\":{\"outlinewidth\":0,\"ticks\":\"\"}}],\"histogram2d\":[{\"type\":\"histogram2d\",\"colorbar\":{\"outlinewidth\":0,\"ticks\":\"\"},\"colorscale\":[[0.0,\"#0d0887\"],[0.1111111111111111,\"#46039f\"],[0.2222222222222222,\"#7201a8\"],[0.3333333333333333,\"#9c179e\"],[0.4444444444444444,\"#bd3786\"],[0.5555555555555556,\"#d8576b\"],[0.6666666666666666,\"#ed7953\"],[0.7777777777777778,\"#fb9f3a\"],[0.8888888888888888,\"#fdca26\"],[1.0,\"#f0f921\"]]}],\"heatmap\":[{\"type\":\"heatmap\",\"colorbar\":{\"outlinewidth\":0,\"ticks\":\"\"},\"colorscale\":[[0.0,\"#0d0887\"],[0.1111111111111111,\"#46039f\"],[0.2222222222222222,\"#7201a8\"],[0.3333333333333333,\"#9c179e\"],[0.4444444444444444,\"#bd3786\"],[0.5555555555555556,\"#d8576b\"],[0.6666666666666666,\"#ed7953\"],[0.7777777777777778,\"#fb9f3a\"],[0.8888888888888888,\"#fdca26\"],[1.0,\"#f0f921\"]]}],\"heatmapgl\":[{\"type\":\"heatmapgl\",\"colorbar\":{\"outlinewidth\":0,\"ticks\":\"\"},\"colorscale\":[[0.0,\"#0d0887\"],[0.1111111111111111,\"#46039f\"],[0.2222222222222222,\"#7201a8\"],[0.3333333333333333,\"#9c179e\"],[0.4444444444444444,\"#bd3786\"],[0.5555555555555556,\"#d8576b\"],[0.6666666666666666,\"#ed7953\"],[0.7777777777777778,\"#fb9f3a\"],[0.8888888888888888,\"#fdca26\"],[1.0,\"#f0f921\"]]}],\"contourcarpet\":[{\"type\":\"contourcarpet\",\"colorbar\":{\"outlinewidth\":0,\"ticks\":\"\"}}],\"contour\":[{\"type\":\"contour\",\"colorbar\":{\"outlinewidth\":0,\"ticks\":\"\"},\"colorscale\":[[0.0,\"#0d0887\"],[0.1111111111111111,\"#46039f\"],[0.2222222222222222,\"#7201a8\"],[0.3333333333333333,\"#9c179e\"],[0.4444444444444444,\"#bd3786\"],[0.5555555555555556,\"#d8576b\"],[0.6666666666666666,\"#ed7953\"],[0.7777777777777778,\"#fb9f3a\"],[0.8888888888888888,\"#fdca26\"],[1.0,\"#f0f921\"]]}],\"surface\":[{\"type\":\"surface\",\"colorbar\":{\"outlinewidth\":0,\"ticks\":\"\"},\"colorscale\":[[0.0,\"#0d0887\"],[0.1111111111111111,\"#46039f\"],[0.2222222222222222,\"#7201a8\"],[0.3333333333333333,\"#9c179e\"],[0.4444444444444444,\"#bd3786\"],[0.5555555555555556,\"#d8576b\"],[0.6666666666666666,\"#ed7953\"],[0.7777777777777778,\"#fb9f3a\"],[0.8888888888888888,\"#fdca26\"],[1.0,\"#f0f921\"]]}],\"mesh3d\":[{\"type\":\"mesh3d\",\"colorbar\":{\"outlinewidth\":0,\"ticks\":\"\"}}],\"scatter\":[{\"fillpattern\":{\"fillmode\":\"overlay\",\"size\":10,\"solidity\":0.2},\"type\":\"scatter\"}],\"parcoords\":[{\"type\":\"parcoords\",\"line\":{\"colorbar\":{\"outlinewidth\":0,\"ticks\":\"\"}}}],\"scatterpolargl\":[{\"type\":\"scatterpolargl\",\"marker\":{\"colorbar\":{\"outlinewidth\":0,\"ticks\":\"\"}}}],\"bar\":[{\"error_x\":{\"color\":\"#2a3f5f\"},\"error_y\":{\"color\":\"#2a3f5f\"},\"marker\":{\"line\":{\"color\":\"#E5ECF6\",\"width\":0.5},\"pattern\":{\"fillmode\":\"overlay\",\"size\":10,\"solidity\":0.2}},\"type\":\"bar\"}],\"scattergeo\":[{\"type\":\"scattergeo\",\"marker\":{\"colorbar\":{\"outlinewidth\":0,\"ticks\":\"\"}}}],\"scatterpolar\":[{\"type\":\"scatterpolar\",\"marker\":{\"colorbar\":{\"outlinewidth\":0,\"ticks\":\"\"}}}],\"histogram\":[{\"marker\":{\"pattern\":{\"fillmode\":\"overlay\",\"size\":10,\"solidity\":0.2}},\"type\":\"histogram\"}],\"scattergl\":[{\"type\":\"scattergl\",\"marker\":{\"colorbar\":{\"outlinewidth\":0,\"ticks\":\"\"}}}],\"scatter3d\":[{\"type\":\"scatter3d\",\"line\":{\"colorbar\":{\"outlinewidth\":0,\"ticks\":\"\"}},\"marker\":{\"colorbar\":{\"outlinewidth\":0,\"ticks\":\"\"}}}],\"scattermapbox\":[{\"type\":\"scattermapbox\",\"marker\":{\"colorbar\":{\"outlinewidth\":0,\"ticks\":\"\"}}}],\"scatterternary\":[{\"type\":\"scatterternary\",\"marker\":{\"colorbar\":{\"outlinewidth\":0,\"ticks\":\"\"}}}],\"scattercarpet\":[{\"type\":\"scattercarpet\",\"marker\":{\"colorbar\":{\"outlinewidth\":0,\"ticks\":\"\"}}}],\"carpet\":[{\"aaxis\":{\"endlinecolor\":\"#2a3f5f\",\"gridcolor\":\"white\",\"linecolor\":\"white\",\"minorgridcolor\":\"white\",\"startlinecolor\":\"#2a3f5f\"},\"baxis\":{\"endlinecolor\":\"#2a3f5f\",\"gridcolor\":\"white\",\"linecolor\":\"white\",\"minorgridcolor\":\"white\",\"startlinecolor\":\"#2a3f5f\"},\"type\":\"carpet\"}],\"table\":[{\"cells\":{\"fill\":{\"color\":\"#EBF0F8\"},\"line\":{\"color\":\"white\"}},\"header\":{\"fill\":{\"color\":\"#C8D4E3\"},\"line\":{\"color\":\"white\"}},\"type\":\"table\"}],\"barpolar\":[{\"marker\":{\"line\":{\"color\":\"#E5ECF6\",\"width\":0.5},\"pattern\":{\"fillmode\":\"overlay\",\"size\":10,\"solidity\":0.2}},\"type\":\"barpolar\"}],\"pie\":[{\"automargin\":true,\"type\":\"pie\"}]},\"layout\":{\"autotypenumbers\":\"strict\",\"colorway\":[\"#636efa\",\"#EF553B\",\"#00cc96\",\"#ab63fa\",\"#FFA15A\",\"#19d3f3\",\"#FF6692\",\"#B6E880\",\"#FF97FF\",\"#FECB52\"],\"font\":{\"color\":\"#2a3f5f\"},\"hovermode\":\"closest\",\"hoverlabel\":{\"align\":\"left\"},\"paper_bgcolor\":\"white\",\"plot_bgcolor\":\"#E5ECF6\",\"polar\":{\"bgcolor\":\"#E5ECF6\",\"angularaxis\":{\"gridcolor\":\"white\",\"linecolor\":\"white\",\"ticks\":\"\"},\"radialaxis\":{\"gridcolor\":\"white\",\"linecolor\":\"white\",\"ticks\":\"\"}},\"ternary\":{\"bgcolor\":\"#E5ECF6\",\"aaxis\":{\"gridcolor\":\"white\",\"linecolor\":\"white\",\"ticks\":\"\"},\"baxis\":{\"gridcolor\":\"white\",\"linecolor\":\"white\",\"ticks\":\"\"},\"caxis\":{\"gridcolor\":\"white\",\"linecolor\":\"white\",\"ticks\":\"\"}},\"coloraxis\":{\"colorbar\":{\"outlinewidth\":0,\"ticks\":\"\"}},\"colorscale\":{\"sequential\":[[0.0,\"#0d0887\"],[0.1111111111111111,\"#46039f\"],[0.2222222222222222,\"#7201a8\"],[0.3333333333333333,\"#9c179e\"],[0.4444444444444444,\"#bd3786\"],[0.5555555555555556,\"#d8576b\"],[0.6666666666666666,\"#ed7953\"],[0.7777777777777778,\"#fb9f3a\"],[0.8888888888888888,\"#fdca26\"],[1.0,\"#f0f921\"]],\"sequentialminus\":[[0.0,\"#0d0887\"],[0.1111111111111111,\"#46039f\"],[0.2222222222222222,\"#7201a8\"],[0.3333333333333333,\"#9c179e\"],[0.4444444444444444,\"#bd3786\"],[0.5555555555555556,\"#d8576b\"],[0.6666666666666666,\"#ed7953\"],[0.7777777777777778,\"#fb9f3a\"],[0.8888888888888888,\"#fdca26\"],[1.0,\"#f0f921\"]],\"diverging\":[[0,\"#8e0152\"],[0.1,\"#c51b7d\"],[0.2,\"#de77ae\"],[0.3,\"#f1b6da\"],[0.4,\"#fde0ef\"],[0.5,\"#f7f7f7\"],[0.6,\"#e6f5d0\"],[0.7,\"#b8e186\"],[0.8,\"#7fbc41\"],[0.9,\"#4d9221\"],[1,\"#276419\"]]},\"xaxis\":{\"gridcolor\":\"white\",\"linecolor\":\"white\",\"ticks\":\"\",\"title\":{\"standoff\":15},\"zerolinecolor\":\"white\",\"automargin\":true,\"zerolinewidth\":2},\"yaxis\":{\"gridcolor\":\"white\",\"linecolor\":\"white\",\"ticks\":\"\",\"title\":{\"standoff\":15},\"zerolinecolor\":\"white\",\"automargin\":true,\"zerolinewidth\":2},\"scene\":{\"xaxis\":{\"backgroundcolor\":\"#E5ECF6\",\"gridcolor\":\"white\",\"linecolor\":\"white\",\"showbackground\":true,\"ticks\":\"\",\"zerolinecolor\":\"white\",\"gridwidth\":2},\"yaxis\":{\"backgroundcolor\":\"#E5ECF6\",\"gridcolor\":\"white\",\"linecolor\":\"white\",\"showbackground\":true,\"ticks\":\"\",\"zerolinecolor\":\"white\",\"gridwidth\":2},\"zaxis\":{\"backgroundcolor\":\"#E5ECF6\",\"gridcolor\":\"white\",\"linecolor\":\"white\",\"showbackground\":true,\"ticks\":\"\",\"zerolinecolor\":\"white\",\"gridwidth\":2}},\"shapedefaults\":{\"line\":{\"color\":\"#2a3f5f\"}},\"annotationdefaults\":{\"arrowcolor\":\"#2a3f5f\",\"arrowhead\":0,\"arrowwidth\":1},\"geo\":{\"bgcolor\":\"white\",\"landcolor\":\"#E5ECF6\",\"subunitcolor\":\"white\",\"showland\":true,\"showlakes\":true,\"lakecolor\":\"white\"},\"title\":{\"x\":0.05},\"mapbox\":{\"style\":\"light\"}}},\"title\":{\"text\":\"Lipids and lipid-like molecules\"},\"xaxis\":{\"title\":{\"text\":\"Score\"},\"range\":[0,1]},\"yaxis\":{\"title\":{\"text\":\"Matches\"}},\"width\":800,\"height\":600},                        {\"responsive\": true}                    ).then(function(){\n",
       "                            \n",
       "var gd = document.getElementById('0f38567b-106d-4f74-9e65-2c9fe1e488c1');\n",
       "var x = new MutationObserver(function (mutations, observer) {{\n",
       "        var display = window.getComputedStyle(gd).display;\n",
       "        if (!display || display === 'none') {{\n",
       "            console.log([gd, 'removed!']);\n",
       "            Plotly.purge(gd);\n",
       "            observer.disconnect();\n",
       "        }}\n",
       "}});\n",
       "\n",
       "// Listen for the removal of the full notebook cells\n",
       "var notebookContainer = gd.closest('#notebook-container');\n",
       "if (notebookContainer) {{\n",
       "    x.observe(notebookContainer, {childList: true});\n",
       "}}\n",
       "\n",
       "// Listen for the clearing of the current output cell\n",
       "var outputEl = gd.closest('.output');\n",
       "if (outputEl) {{\n",
       "    x.observe(outputEl, {childList: true});\n",
       "}}\n",
       "\n",
       "                        })                };                });            </script>        </div>"
      ]
     },
     "metadata": {},
     "output_type": "display_data"
    },
    {
     "data": {
      "application/vnd.plotly.v1+json": {
       "config": {
        "plotlyServerURL": "https://plot.ly"
       },
       "data": [
        {
         "marker": {
          "cmax": 1,
          "cmin": 0,
          "color": [
           0.5149700598802395,
           0.4166666666666667,
           0.07692307692307693,
           0.2903225806451613,
           0.32,
           0.27450980392156865,
           0.21052631578947367,
           0.19753086419753085,
           0.38461538461538464,
           0.10256410256410256,
           0.14285714285714285,
           0.08823529411764706,
           0.3333333333333333,
           0.20512820512820512,
           0.022727272727272728,
           0.09345794392523364,
           0.189873417721519,
           0.08108108108108109,
           0.25925925925925924,
           0.03529411764705882,
           0.30303030303030304,
           0.2777777777777778,
           0.14516129032258066,
           0.02727272727272727,
           0.23076923076923078,
           0.48484848484848486,
           0.21649484536082475,
           0.375,
           0,
           0
          ],
          "colorbar": {
           "title": {
            "text": "Reference Matched %"
           }
          },
          "colorscale": [
           [
            0,
            "#440154"
           ],
           [
            0.1111111111111111,
            "#482878"
           ],
           [
            0.2222222222222222,
            "#3e4989"
           ],
           [
            0.3333333333333333,
            "#31688e"
           ],
           [
            0.4444444444444444,
            "#26828e"
           ],
           [
            0.5555555555555556,
            "#1f9e89"
           ],
           [
            0.6666666666666666,
            "#35b779"
           ],
           [
            0.7777777777777778,
            "#6ece58"
           ],
           [
            0.8888888888888888,
            "#b5de2b"
           ],
           [
            1,
            "#fde725"
           ]
          ],
          "opacity": 0.5,
          "size": [
           7.391849529780565,
           6.054054054054054,
           4.424242424242424,
           10,
           10.88888888888889,
           13.200000000000001,
           3.5384615384615383,
           10.421052631578947,
           9.843137254901961,
           5.2,
           7.217391304347826,
           4.727272727272727,
           4.105263157894736,
           13.428571428571427,
           10,
           10.695652173913043,
           12,
           8.666666666666666,
           6.242424242424242,
           4.4,
           8.25,
           5.636363636363637,
           9.5,
           5.333333333333333,
           4.926829268292683,
           9.619047619047619,
           14.352941176470589,
           6.5,
           2,
           2
          ]
         },
         "mode": "markers+text",
         "name": "Matched Ions",
         "text": [
          "Endosulfan sulphate",
          "Tris(4-tert-butylphenyl) phosphate",
          "Tris(1,3-dichloro-2-propyl)phosphate",
          "Tri-o-cresyl phosphate",
          "Tri-m-cresyl phosphate",
          "Tri-p-cresyl-phosphate",
          "Isodecyl diphenyl phosphate",
          "Tris(isopropylphenyl)phosphate",
          "Tris(3,5-xylenyl)phosphate",
          "Tris(2-butoxyethyl) phosphate",
          "Tris(2-chloroethyl) phosphate",
          "Tris(1-chloro-2-propyl) phosphate",
          "Tris(2-ethylhexyl) phosphate",
          "Triphenyl phosphate",
          "Diazinone",
          "Chlorpyrifos",
          "Methyl parathion",
          "Terbufos",
          "Dicrotophos",
          "Monocrotophos",
          "Dimethoate",
          "Vamidothion",
          "Temephos",
          "Methomyl",
          "Cycluron",
          "Benalaxyl",
          "Metalaxyl",
          "Fenamidone",
          "Thiofanox",
          "Tri-n-butyl-phosphate"
         ],
         "textposition": "middle right",
         "type": "scatter",
         "x": [
          359.57967934047133,
          37.5477366323797,
          50.7420297742214,
          273.1143209283503,
          387.9323735279671,
          358.28543563448403,
          26.8294422208669,
          99.6327003742391,
          334.64516963535016,
          35.316768312394,
          53.220142048320795,
          1.7715094965282,
          15.744051264399602,
          255.3272216278209,
          7.5482044136290005,
          23.6393125662979,
          203.1733061258092,
          233.4522750961613,
          61.234186019235295,
          71.5575123171377,
          541.6980196814281,
          101.99789264875899,
          278.8877617135263,
          586.6918253125762,
          184.6731495070747,
          198.5394137797033,
          163.0712252770651,
          120.4296134726448,
          0,
          0
         ],
         "y": [
          86,
          15,
          4,
          18,
          16,
          14,
          4,
          16,
          20,
          4,
          6,
          3,
          2,
          8,
          2,
          10,
          15,
          3,
          7,
          3,
          10,
          10,
          9,
          3,
          6,
          16,
          21,
          18,
          0,
          0
         ]
        },
        {
         "marker": {
          "color": "black",
          "size": 10
         },
         "mode": "markers",
         "name": "Size represents FractionQuery",
         "showlegend": true,
         "type": "scatter",
         "x": [
          null
         ],
         "y": [
          null
         ]
        }
       ],
       "layout": {
        "height": 600,
        "template": {
         "data": {
          "bar": [
           {
            "error_x": {
             "color": "#2a3f5f"
            },
            "error_y": {
             "color": "#2a3f5f"
            },
            "marker": {
             "line": {
              "color": "#E5ECF6",
              "width": 0.5
             },
             "pattern": {
              "fillmode": "overlay",
              "size": 10,
              "solidity": 0.2
             }
            },
            "type": "bar"
           }
          ],
          "barpolar": [
           {
            "marker": {
             "line": {
              "color": "#E5ECF6",
              "width": 0.5
             },
             "pattern": {
              "fillmode": "overlay",
              "size": 10,
              "solidity": 0.2
             }
            },
            "type": "barpolar"
           }
          ],
          "carpet": [
           {
            "aaxis": {
             "endlinecolor": "#2a3f5f",
             "gridcolor": "white",
             "linecolor": "white",
             "minorgridcolor": "white",
             "startlinecolor": "#2a3f5f"
            },
            "baxis": {
             "endlinecolor": "#2a3f5f",
             "gridcolor": "white",
             "linecolor": "white",
             "minorgridcolor": "white",
             "startlinecolor": "#2a3f5f"
            },
            "type": "carpet"
           }
          ],
          "choropleth": [
           {
            "colorbar": {
             "outlinewidth": 0,
             "ticks": ""
            },
            "type": "choropleth"
           }
          ],
          "contour": [
           {
            "colorbar": {
             "outlinewidth": 0,
             "ticks": ""
            },
            "colorscale": [
             [
              0,
              "#0d0887"
             ],
             [
              0.1111111111111111,
              "#46039f"
             ],
             [
              0.2222222222222222,
              "#7201a8"
             ],
             [
              0.3333333333333333,
              "#9c179e"
             ],
             [
              0.4444444444444444,
              "#bd3786"
             ],
             [
              0.5555555555555556,
              "#d8576b"
             ],
             [
              0.6666666666666666,
              "#ed7953"
             ],
             [
              0.7777777777777778,
              "#fb9f3a"
             ],
             [
              0.8888888888888888,
              "#fdca26"
             ],
             [
              1,
              "#f0f921"
             ]
            ],
            "type": "contour"
           }
          ],
          "contourcarpet": [
           {
            "colorbar": {
             "outlinewidth": 0,
             "ticks": ""
            },
            "type": "contourcarpet"
           }
          ],
          "heatmap": [
           {
            "colorbar": {
             "outlinewidth": 0,
             "ticks": ""
            },
            "colorscale": [
             [
              0,
              "#0d0887"
             ],
             [
              0.1111111111111111,
              "#46039f"
             ],
             [
              0.2222222222222222,
              "#7201a8"
             ],
             [
              0.3333333333333333,
              "#9c179e"
             ],
             [
              0.4444444444444444,
              "#bd3786"
             ],
             [
              0.5555555555555556,
              "#d8576b"
             ],
             [
              0.6666666666666666,
              "#ed7953"
             ],
             [
              0.7777777777777778,
              "#fb9f3a"
             ],
             [
              0.8888888888888888,
              "#fdca26"
             ],
             [
              1,
              "#f0f921"
             ]
            ],
            "type": "heatmap"
           }
          ],
          "heatmapgl": [
           {
            "colorbar": {
             "outlinewidth": 0,
             "ticks": ""
            },
            "colorscale": [
             [
              0,
              "#0d0887"
             ],
             [
              0.1111111111111111,
              "#46039f"
             ],
             [
              0.2222222222222222,
              "#7201a8"
             ],
             [
              0.3333333333333333,
              "#9c179e"
             ],
             [
              0.4444444444444444,
              "#bd3786"
             ],
             [
              0.5555555555555556,
              "#d8576b"
             ],
             [
              0.6666666666666666,
              "#ed7953"
             ],
             [
              0.7777777777777778,
              "#fb9f3a"
             ],
             [
              0.8888888888888888,
              "#fdca26"
             ],
             [
              1,
              "#f0f921"
             ]
            ],
            "type": "heatmapgl"
           }
          ],
          "histogram": [
           {
            "marker": {
             "pattern": {
              "fillmode": "overlay",
              "size": 10,
              "solidity": 0.2
             }
            },
            "type": "histogram"
           }
          ],
          "histogram2d": [
           {
            "colorbar": {
             "outlinewidth": 0,
             "ticks": ""
            },
            "colorscale": [
             [
              0,
              "#0d0887"
             ],
             [
              0.1111111111111111,
              "#46039f"
             ],
             [
              0.2222222222222222,
              "#7201a8"
             ],
             [
              0.3333333333333333,
              "#9c179e"
             ],
             [
              0.4444444444444444,
              "#bd3786"
             ],
             [
              0.5555555555555556,
              "#d8576b"
             ],
             [
              0.6666666666666666,
              "#ed7953"
             ],
             [
              0.7777777777777778,
              "#fb9f3a"
             ],
             [
              0.8888888888888888,
              "#fdca26"
             ],
             [
              1,
              "#f0f921"
             ]
            ],
            "type": "histogram2d"
           }
          ],
          "histogram2dcontour": [
           {
            "colorbar": {
             "outlinewidth": 0,
             "ticks": ""
            },
            "colorscale": [
             [
              0,
              "#0d0887"
             ],
             [
              0.1111111111111111,
              "#46039f"
             ],
             [
              0.2222222222222222,
              "#7201a8"
             ],
             [
              0.3333333333333333,
              "#9c179e"
             ],
             [
              0.4444444444444444,
              "#bd3786"
             ],
             [
              0.5555555555555556,
              "#d8576b"
             ],
             [
              0.6666666666666666,
              "#ed7953"
             ],
             [
              0.7777777777777778,
              "#fb9f3a"
             ],
             [
              0.8888888888888888,
              "#fdca26"
             ],
             [
              1,
              "#f0f921"
             ]
            ],
            "type": "histogram2dcontour"
           }
          ],
          "mesh3d": [
           {
            "colorbar": {
             "outlinewidth": 0,
             "ticks": ""
            },
            "type": "mesh3d"
           }
          ],
          "parcoords": [
           {
            "line": {
             "colorbar": {
              "outlinewidth": 0,
              "ticks": ""
             }
            },
            "type": "parcoords"
           }
          ],
          "pie": [
           {
            "automargin": true,
            "type": "pie"
           }
          ],
          "scatter": [
           {
            "fillpattern": {
             "fillmode": "overlay",
             "size": 10,
             "solidity": 0.2
            },
            "type": "scatter"
           }
          ],
          "scatter3d": [
           {
            "line": {
             "colorbar": {
              "outlinewidth": 0,
              "ticks": ""
             }
            },
            "marker": {
             "colorbar": {
              "outlinewidth": 0,
              "ticks": ""
             }
            },
            "type": "scatter3d"
           }
          ],
          "scattercarpet": [
           {
            "marker": {
             "colorbar": {
              "outlinewidth": 0,
              "ticks": ""
             }
            },
            "type": "scattercarpet"
           }
          ],
          "scattergeo": [
           {
            "marker": {
             "colorbar": {
              "outlinewidth": 0,
              "ticks": ""
             }
            },
            "type": "scattergeo"
           }
          ],
          "scattergl": [
           {
            "marker": {
             "colorbar": {
              "outlinewidth": 0,
              "ticks": ""
             }
            },
            "type": "scattergl"
           }
          ],
          "scattermapbox": [
           {
            "marker": {
             "colorbar": {
              "outlinewidth": 0,
              "ticks": ""
             }
            },
            "type": "scattermapbox"
           }
          ],
          "scatterpolar": [
           {
            "marker": {
             "colorbar": {
              "outlinewidth": 0,
              "ticks": ""
             }
            },
            "type": "scatterpolar"
           }
          ],
          "scatterpolargl": [
           {
            "marker": {
             "colorbar": {
              "outlinewidth": 0,
              "ticks": ""
             }
            },
            "type": "scatterpolargl"
           }
          ],
          "scatterternary": [
           {
            "marker": {
             "colorbar": {
              "outlinewidth": 0,
              "ticks": ""
             }
            },
            "type": "scatterternary"
           }
          ],
          "surface": [
           {
            "colorbar": {
             "outlinewidth": 0,
             "ticks": ""
            },
            "colorscale": [
             [
              0,
              "#0d0887"
             ],
             [
              0.1111111111111111,
              "#46039f"
             ],
             [
              0.2222222222222222,
              "#7201a8"
             ],
             [
              0.3333333333333333,
              "#9c179e"
             ],
             [
              0.4444444444444444,
              "#bd3786"
             ],
             [
              0.5555555555555556,
              "#d8576b"
             ],
             [
              0.6666666666666666,
              "#ed7953"
             ],
             [
              0.7777777777777778,
              "#fb9f3a"
             ],
             [
              0.8888888888888888,
              "#fdca26"
             ],
             [
              1,
              "#f0f921"
             ]
            ],
            "type": "surface"
           }
          ],
          "table": [
           {
            "cells": {
             "fill": {
              "color": "#EBF0F8"
             },
             "line": {
              "color": "white"
             }
            },
            "header": {
             "fill": {
              "color": "#C8D4E3"
             },
             "line": {
              "color": "white"
             }
            },
            "type": "table"
           }
          ]
         },
         "layout": {
          "annotationdefaults": {
           "arrowcolor": "#2a3f5f",
           "arrowhead": 0,
           "arrowwidth": 1
          },
          "autotypenumbers": "strict",
          "coloraxis": {
           "colorbar": {
            "outlinewidth": 0,
            "ticks": ""
           }
          },
          "colorscale": {
           "diverging": [
            [
             0,
             "#8e0152"
            ],
            [
             0.1,
             "#c51b7d"
            ],
            [
             0.2,
             "#de77ae"
            ],
            [
             0.3,
             "#f1b6da"
            ],
            [
             0.4,
             "#fde0ef"
            ],
            [
             0.5,
             "#f7f7f7"
            ],
            [
             0.6,
             "#e6f5d0"
            ],
            [
             0.7,
             "#b8e186"
            ],
            [
             0.8,
             "#7fbc41"
            ],
            [
             0.9,
             "#4d9221"
            ],
            [
             1,
             "#276419"
            ]
           ],
           "sequential": [
            [
             0,
             "#0d0887"
            ],
            [
             0.1111111111111111,
             "#46039f"
            ],
            [
             0.2222222222222222,
             "#7201a8"
            ],
            [
             0.3333333333333333,
             "#9c179e"
            ],
            [
             0.4444444444444444,
             "#bd3786"
            ],
            [
             0.5555555555555556,
             "#d8576b"
            ],
            [
             0.6666666666666666,
             "#ed7953"
            ],
            [
             0.7777777777777778,
             "#fb9f3a"
            ],
            [
             0.8888888888888888,
             "#fdca26"
            ],
            [
             1,
             "#f0f921"
            ]
           ],
           "sequentialminus": [
            [
             0,
             "#0d0887"
            ],
            [
             0.1111111111111111,
             "#46039f"
            ],
            [
             0.2222222222222222,
             "#7201a8"
            ],
            [
             0.3333333333333333,
             "#9c179e"
            ],
            [
             0.4444444444444444,
             "#bd3786"
            ],
            [
             0.5555555555555556,
             "#d8576b"
            ],
            [
             0.6666666666666666,
             "#ed7953"
            ],
            [
             0.7777777777777778,
             "#fb9f3a"
            ],
            [
             0.8888888888888888,
             "#fdca26"
            ],
            [
             1,
             "#f0f921"
            ]
           ]
          },
          "colorway": [
           "#636efa",
           "#EF553B",
           "#00cc96",
           "#ab63fa",
           "#FFA15A",
           "#19d3f3",
           "#FF6692",
           "#B6E880",
           "#FF97FF",
           "#FECB52"
          ],
          "font": {
           "color": "#2a3f5f"
          },
          "geo": {
           "bgcolor": "white",
           "lakecolor": "white",
           "landcolor": "#E5ECF6",
           "showlakes": true,
           "showland": true,
           "subunitcolor": "white"
          },
          "hoverlabel": {
           "align": "left"
          },
          "hovermode": "closest",
          "mapbox": {
           "style": "light"
          },
          "paper_bgcolor": "white",
          "plot_bgcolor": "#E5ECF6",
          "polar": {
           "angularaxis": {
            "gridcolor": "white",
            "linecolor": "white",
            "ticks": ""
           },
           "bgcolor": "#E5ECF6",
           "radialaxis": {
            "gridcolor": "white",
            "linecolor": "white",
            "ticks": ""
           }
          },
          "scene": {
           "xaxis": {
            "backgroundcolor": "#E5ECF6",
            "gridcolor": "white",
            "gridwidth": 2,
            "linecolor": "white",
            "showbackground": true,
            "ticks": "",
            "zerolinecolor": "white"
           },
           "yaxis": {
            "backgroundcolor": "#E5ECF6",
            "gridcolor": "white",
            "gridwidth": 2,
            "linecolor": "white",
            "showbackground": true,
            "ticks": "",
            "zerolinecolor": "white"
           },
           "zaxis": {
            "backgroundcolor": "#E5ECF6",
            "gridcolor": "white",
            "gridwidth": 2,
            "linecolor": "white",
            "showbackground": true,
            "ticks": "",
            "zerolinecolor": "white"
           }
          },
          "shapedefaults": {
           "line": {
            "color": "#2a3f5f"
           }
          },
          "ternary": {
           "aaxis": {
            "gridcolor": "white",
            "linecolor": "white",
            "ticks": ""
           },
           "baxis": {
            "gridcolor": "white",
            "linecolor": "white",
            "ticks": ""
           },
           "bgcolor": "#E5ECF6",
           "caxis": {
            "gridcolor": "white",
            "linecolor": "white",
            "ticks": ""
           }
          },
          "title": {
           "x": 0.05
          },
          "xaxis": {
           "automargin": true,
           "gridcolor": "white",
           "linecolor": "white",
           "ticks": "",
           "title": {
            "standoff": 15
           },
           "zerolinecolor": "white",
           "zerolinewidth": 2
          },
          "yaxis": {
           "automargin": true,
           "gridcolor": "white",
           "linecolor": "white",
           "ticks": "",
           "title": {
            "standoff": 15
           },
           "zerolinecolor": "white",
           "zerolinewidth": 2
          }
         }
        },
        "title": {
         "text": "Organic acids and derivatives"
        },
        "width": 800,
        "xaxis": {
         "range": [
          0,
          1
         ],
         "title": {
          "text": "Score"
         }
        },
        "yaxis": {
         "title": {
          "text": "Matches"
         }
        }
       }
      },
      "text/html": [
       "<div>                            <div id=\"99f3e1eb-de99-4d81-9933-0de6ee500b1c\" class=\"plotly-graph-div\" style=\"height:600px; width:800px;\"></div>            <script type=\"text/javascript\">                require([\"plotly\"], function(Plotly) {                    window.PLOTLYENV=window.PLOTLYENV || {};                                    if (document.getElementById(\"99f3e1eb-de99-4d81-9933-0de6ee500b1c\")) {                    Plotly.newPlot(                        \"99f3e1eb-de99-4d81-9933-0de6ee500b1c\",                        [{\"marker\":{\"cmax\":1,\"cmin\":0,\"color\":[0.5149700598802395,0.4166666666666667,0.07692307692307693,0.2903225806451613,0.32,0.27450980392156865,0.21052631578947367,0.19753086419753085,0.38461538461538464,0.10256410256410256,0.14285714285714285,0.08823529411764706,0.3333333333333333,0.20512820512820512,0.022727272727272728,0.09345794392523364,0.189873417721519,0.08108108108108109,0.25925925925925924,0.03529411764705882,0.30303030303030304,0.2777777777777778,0.14516129032258066,0.02727272727272727,0.23076923076923078,0.48484848484848486,0.21649484536082475,0.375,0.0,0.0],\"colorbar\":{\"title\":{\"text\":\"Reference Matched %\"}},\"colorscale\":[[0.0,\"#440154\"],[0.1111111111111111,\"#482878\"],[0.2222222222222222,\"#3e4989\"],[0.3333333333333333,\"#31688e\"],[0.4444444444444444,\"#26828e\"],[0.5555555555555556,\"#1f9e89\"],[0.6666666666666666,\"#35b779\"],[0.7777777777777778,\"#6ece58\"],[0.8888888888888888,\"#b5de2b\"],[1.0,\"#fde725\"]],\"opacity\":0.5,\"size\":[7.391849529780565,6.054054054054054,4.424242424242424,10.0,10.88888888888889,13.200000000000001,3.5384615384615383,10.421052631578947,9.843137254901961,5.2,7.217391304347826,4.727272727272727,4.105263157894736,13.428571428571427,10.0,10.695652173913043,12.0,8.666666666666666,6.242424242424242,4.4,8.25,5.636363636363637,9.5,5.333333333333333,4.926829268292683,9.619047619047619,14.352941176470589,6.5,2.0,2.0]},\"mode\":\"markers+text\",\"name\":\"Matched Ions\",\"text\":[\"Endosulfan sulphate\",\"Tris(4-tert-butylphenyl) phosphate\",\"Tris(1,3-dichloro-2-propyl)phosphate\",\"Tri-o-cresyl phosphate\",\"Tri-m-cresyl phosphate\",\"Tri-p-cresyl-phosphate\",\"Isodecyl diphenyl phosphate\",\"Tris(isopropylphenyl)phosphate\",\"Tris(3,5-xylenyl)phosphate\",\"Tris(2-butoxyethyl) phosphate\",\"Tris(2-chloroethyl) phosphate\",\"Tris(1-chloro-2-propyl) phosphate\",\"Tris(2-ethylhexyl) phosphate\",\"Triphenyl phosphate\",\"Diazinone\",\"Chlorpyrifos\",\"Methyl parathion\",\"Terbufos\",\"Dicrotophos\",\"Monocrotophos\",\"Dimethoate\",\"Vamidothion\",\"Temephos\",\"Methomyl\",\"Cycluron\",\"Benalaxyl\",\"Metalaxyl\",\"Fenamidone\",\"Thiofanox\",\"Tri-n-butyl-phosphate\"],\"textposition\":\"middle right\",\"x\":[359.57967934047133,37.5477366323797,50.7420297742214,273.1143209283503,387.9323735279671,358.28543563448403,26.8294422208669,99.6327003742391,334.64516963535016,35.316768312394,53.220142048320795,1.7715094965282,15.744051264399602,255.3272216278209,7.5482044136290005,23.6393125662979,203.1733061258092,233.4522750961613,61.234186019235295,71.5575123171377,541.6980196814281,101.99789264875899,278.8877617135263,586.6918253125762,184.6731495070747,198.5394137797033,163.0712252770651,120.4296134726448,0.0,0.0],\"y\":[86,15,4,18,16,14,4,16,20,4,6,3,2,8,2,10,15,3,7,3,10,10,9,3,6,16,21,18,0,0],\"type\":\"scatter\"},{\"marker\":{\"color\":\"black\",\"size\":10},\"mode\":\"markers\",\"name\":\"Size represents FractionQuery\",\"showlegend\":true,\"x\":[null],\"y\":[null],\"type\":\"scatter\"}],                        {\"template\":{\"data\":{\"histogram2dcontour\":[{\"type\":\"histogram2dcontour\",\"colorbar\":{\"outlinewidth\":0,\"ticks\":\"\"},\"colorscale\":[[0.0,\"#0d0887\"],[0.1111111111111111,\"#46039f\"],[0.2222222222222222,\"#7201a8\"],[0.3333333333333333,\"#9c179e\"],[0.4444444444444444,\"#bd3786\"],[0.5555555555555556,\"#d8576b\"],[0.6666666666666666,\"#ed7953\"],[0.7777777777777778,\"#fb9f3a\"],[0.8888888888888888,\"#fdca26\"],[1.0,\"#f0f921\"]]}],\"choropleth\":[{\"type\":\"choropleth\",\"colorbar\":{\"outlinewidth\":0,\"ticks\":\"\"}}],\"histogram2d\":[{\"type\":\"histogram2d\",\"colorbar\":{\"outlinewidth\":0,\"ticks\":\"\"},\"colorscale\":[[0.0,\"#0d0887\"],[0.1111111111111111,\"#46039f\"],[0.2222222222222222,\"#7201a8\"],[0.3333333333333333,\"#9c179e\"],[0.4444444444444444,\"#bd3786\"],[0.5555555555555556,\"#d8576b\"],[0.6666666666666666,\"#ed7953\"],[0.7777777777777778,\"#fb9f3a\"],[0.8888888888888888,\"#fdca26\"],[1.0,\"#f0f921\"]]}],\"heatmap\":[{\"type\":\"heatmap\",\"colorbar\":{\"outlinewidth\":0,\"ticks\":\"\"},\"colorscale\":[[0.0,\"#0d0887\"],[0.1111111111111111,\"#46039f\"],[0.2222222222222222,\"#7201a8\"],[0.3333333333333333,\"#9c179e\"],[0.4444444444444444,\"#bd3786\"],[0.5555555555555556,\"#d8576b\"],[0.6666666666666666,\"#ed7953\"],[0.7777777777777778,\"#fb9f3a\"],[0.8888888888888888,\"#fdca26\"],[1.0,\"#f0f921\"]]}],\"heatmapgl\":[{\"type\":\"heatmapgl\",\"colorbar\":{\"outlinewidth\":0,\"ticks\":\"\"},\"colorscale\":[[0.0,\"#0d0887\"],[0.1111111111111111,\"#46039f\"],[0.2222222222222222,\"#7201a8\"],[0.3333333333333333,\"#9c179e\"],[0.4444444444444444,\"#bd3786\"],[0.5555555555555556,\"#d8576b\"],[0.6666666666666666,\"#ed7953\"],[0.7777777777777778,\"#fb9f3a\"],[0.8888888888888888,\"#fdca26\"],[1.0,\"#f0f921\"]]}],\"contourcarpet\":[{\"type\":\"contourcarpet\",\"colorbar\":{\"outlinewidth\":0,\"ticks\":\"\"}}],\"contour\":[{\"type\":\"contour\",\"colorbar\":{\"outlinewidth\":0,\"ticks\":\"\"},\"colorscale\":[[0.0,\"#0d0887\"],[0.1111111111111111,\"#46039f\"],[0.2222222222222222,\"#7201a8\"],[0.3333333333333333,\"#9c179e\"],[0.4444444444444444,\"#bd3786\"],[0.5555555555555556,\"#d8576b\"],[0.6666666666666666,\"#ed7953\"],[0.7777777777777778,\"#fb9f3a\"],[0.8888888888888888,\"#fdca26\"],[1.0,\"#f0f921\"]]}],\"surface\":[{\"type\":\"surface\",\"colorbar\":{\"outlinewidth\":0,\"ticks\":\"\"},\"colorscale\":[[0.0,\"#0d0887\"],[0.1111111111111111,\"#46039f\"],[0.2222222222222222,\"#7201a8\"],[0.3333333333333333,\"#9c179e\"],[0.4444444444444444,\"#bd3786\"],[0.5555555555555556,\"#d8576b\"],[0.6666666666666666,\"#ed7953\"],[0.7777777777777778,\"#fb9f3a\"],[0.8888888888888888,\"#fdca26\"],[1.0,\"#f0f921\"]]}],\"mesh3d\":[{\"type\":\"mesh3d\",\"colorbar\":{\"outlinewidth\":0,\"ticks\":\"\"}}],\"scatter\":[{\"fillpattern\":{\"fillmode\":\"overlay\",\"size\":10,\"solidity\":0.2},\"type\":\"scatter\"}],\"parcoords\":[{\"type\":\"parcoords\",\"line\":{\"colorbar\":{\"outlinewidth\":0,\"ticks\":\"\"}}}],\"scatterpolargl\":[{\"type\":\"scatterpolargl\",\"marker\":{\"colorbar\":{\"outlinewidth\":0,\"ticks\":\"\"}}}],\"bar\":[{\"error_x\":{\"color\":\"#2a3f5f\"},\"error_y\":{\"color\":\"#2a3f5f\"},\"marker\":{\"line\":{\"color\":\"#E5ECF6\",\"width\":0.5},\"pattern\":{\"fillmode\":\"overlay\",\"size\":10,\"solidity\":0.2}},\"type\":\"bar\"}],\"scattergeo\":[{\"type\":\"scattergeo\",\"marker\":{\"colorbar\":{\"outlinewidth\":0,\"ticks\":\"\"}}}],\"scatterpolar\":[{\"type\":\"scatterpolar\",\"marker\":{\"colorbar\":{\"outlinewidth\":0,\"ticks\":\"\"}}}],\"histogram\":[{\"marker\":{\"pattern\":{\"fillmode\":\"overlay\",\"size\":10,\"solidity\":0.2}},\"type\":\"histogram\"}],\"scattergl\":[{\"type\":\"scattergl\",\"marker\":{\"colorbar\":{\"outlinewidth\":0,\"ticks\":\"\"}}}],\"scatter3d\":[{\"type\":\"scatter3d\",\"line\":{\"colorbar\":{\"outlinewidth\":0,\"ticks\":\"\"}},\"marker\":{\"colorbar\":{\"outlinewidth\":0,\"ticks\":\"\"}}}],\"scattermapbox\":[{\"type\":\"scattermapbox\",\"marker\":{\"colorbar\":{\"outlinewidth\":0,\"ticks\":\"\"}}}],\"scatterternary\":[{\"type\":\"scatterternary\",\"marker\":{\"colorbar\":{\"outlinewidth\":0,\"ticks\":\"\"}}}],\"scattercarpet\":[{\"type\":\"scattercarpet\",\"marker\":{\"colorbar\":{\"outlinewidth\":0,\"ticks\":\"\"}}}],\"carpet\":[{\"aaxis\":{\"endlinecolor\":\"#2a3f5f\",\"gridcolor\":\"white\",\"linecolor\":\"white\",\"minorgridcolor\":\"white\",\"startlinecolor\":\"#2a3f5f\"},\"baxis\":{\"endlinecolor\":\"#2a3f5f\",\"gridcolor\":\"white\",\"linecolor\":\"white\",\"minorgridcolor\":\"white\",\"startlinecolor\":\"#2a3f5f\"},\"type\":\"carpet\"}],\"table\":[{\"cells\":{\"fill\":{\"color\":\"#EBF0F8\"},\"line\":{\"color\":\"white\"}},\"header\":{\"fill\":{\"color\":\"#C8D4E3\"},\"line\":{\"color\":\"white\"}},\"type\":\"table\"}],\"barpolar\":[{\"marker\":{\"line\":{\"color\":\"#E5ECF6\",\"width\":0.5},\"pattern\":{\"fillmode\":\"overlay\",\"size\":10,\"solidity\":0.2}},\"type\":\"barpolar\"}],\"pie\":[{\"automargin\":true,\"type\":\"pie\"}]},\"layout\":{\"autotypenumbers\":\"strict\",\"colorway\":[\"#636efa\",\"#EF553B\",\"#00cc96\",\"#ab63fa\",\"#FFA15A\",\"#19d3f3\",\"#FF6692\",\"#B6E880\",\"#FF97FF\",\"#FECB52\"],\"font\":{\"color\":\"#2a3f5f\"},\"hovermode\":\"closest\",\"hoverlabel\":{\"align\":\"left\"},\"paper_bgcolor\":\"white\",\"plot_bgcolor\":\"#E5ECF6\",\"polar\":{\"bgcolor\":\"#E5ECF6\",\"angularaxis\":{\"gridcolor\":\"white\",\"linecolor\":\"white\",\"ticks\":\"\"},\"radialaxis\":{\"gridcolor\":\"white\",\"linecolor\":\"white\",\"ticks\":\"\"}},\"ternary\":{\"bgcolor\":\"#E5ECF6\",\"aaxis\":{\"gridcolor\":\"white\",\"linecolor\":\"white\",\"ticks\":\"\"},\"baxis\":{\"gridcolor\":\"white\",\"linecolor\":\"white\",\"ticks\":\"\"},\"caxis\":{\"gridcolor\":\"white\",\"linecolor\":\"white\",\"ticks\":\"\"}},\"coloraxis\":{\"colorbar\":{\"outlinewidth\":0,\"ticks\":\"\"}},\"colorscale\":{\"sequential\":[[0.0,\"#0d0887\"],[0.1111111111111111,\"#46039f\"],[0.2222222222222222,\"#7201a8\"],[0.3333333333333333,\"#9c179e\"],[0.4444444444444444,\"#bd3786\"],[0.5555555555555556,\"#d8576b\"],[0.6666666666666666,\"#ed7953\"],[0.7777777777777778,\"#fb9f3a\"],[0.8888888888888888,\"#fdca26\"],[1.0,\"#f0f921\"]],\"sequentialminus\":[[0.0,\"#0d0887\"],[0.1111111111111111,\"#46039f\"],[0.2222222222222222,\"#7201a8\"],[0.3333333333333333,\"#9c179e\"],[0.4444444444444444,\"#bd3786\"],[0.5555555555555556,\"#d8576b\"],[0.6666666666666666,\"#ed7953\"],[0.7777777777777778,\"#fb9f3a\"],[0.8888888888888888,\"#fdca26\"],[1.0,\"#f0f921\"]],\"diverging\":[[0,\"#8e0152\"],[0.1,\"#c51b7d\"],[0.2,\"#de77ae\"],[0.3,\"#f1b6da\"],[0.4,\"#fde0ef\"],[0.5,\"#f7f7f7\"],[0.6,\"#e6f5d0\"],[0.7,\"#b8e186\"],[0.8,\"#7fbc41\"],[0.9,\"#4d9221\"],[1,\"#276419\"]]},\"xaxis\":{\"gridcolor\":\"white\",\"linecolor\":\"white\",\"ticks\":\"\",\"title\":{\"standoff\":15},\"zerolinecolor\":\"white\",\"automargin\":true,\"zerolinewidth\":2},\"yaxis\":{\"gridcolor\":\"white\",\"linecolor\":\"white\",\"ticks\":\"\",\"title\":{\"standoff\":15},\"zerolinecolor\":\"white\",\"automargin\":true,\"zerolinewidth\":2},\"scene\":{\"xaxis\":{\"backgroundcolor\":\"#E5ECF6\",\"gridcolor\":\"white\",\"linecolor\":\"white\",\"showbackground\":true,\"ticks\":\"\",\"zerolinecolor\":\"white\",\"gridwidth\":2},\"yaxis\":{\"backgroundcolor\":\"#E5ECF6\",\"gridcolor\":\"white\",\"linecolor\":\"white\",\"showbackground\":true,\"ticks\":\"\",\"zerolinecolor\":\"white\",\"gridwidth\":2},\"zaxis\":{\"backgroundcolor\":\"#E5ECF6\",\"gridcolor\":\"white\",\"linecolor\":\"white\",\"showbackground\":true,\"ticks\":\"\",\"zerolinecolor\":\"white\",\"gridwidth\":2}},\"shapedefaults\":{\"line\":{\"color\":\"#2a3f5f\"}},\"annotationdefaults\":{\"arrowcolor\":\"#2a3f5f\",\"arrowhead\":0,\"arrowwidth\":1},\"geo\":{\"bgcolor\":\"white\",\"landcolor\":\"#E5ECF6\",\"subunitcolor\":\"white\",\"showland\":true,\"showlakes\":true,\"lakecolor\":\"white\"},\"title\":{\"x\":0.05},\"mapbox\":{\"style\":\"light\"}}},\"title\":{\"text\":\"Organic acids and derivatives\"},\"xaxis\":{\"title\":{\"text\":\"Score\"},\"range\":[0,1]},\"yaxis\":{\"title\":{\"text\":\"Matches\"}},\"width\":800,\"height\":600},                        {\"responsive\": true}                    ).then(function(){\n",
       "                            \n",
       "var gd = document.getElementById('99f3e1eb-de99-4d81-9933-0de6ee500b1c');\n",
       "var x = new MutationObserver(function (mutations, observer) {{\n",
       "        var display = window.getComputedStyle(gd).display;\n",
       "        if (!display || display === 'none') {{\n",
       "            console.log([gd, 'removed!']);\n",
       "            Plotly.purge(gd);\n",
       "            observer.disconnect();\n",
       "        }}\n",
       "}});\n",
       "\n",
       "// Listen for the removal of the full notebook cells\n",
       "var notebookContainer = gd.closest('#notebook-container');\n",
       "if (notebookContainer) {{\n",
       "    x.observe(notebookContainer, {childList: true});\n",
       "}}\n",
       "\n",
       "// Listen for the clearing of the current output cell\n",
       "var outputEl = gd.closest('.output');\n",
       "if (outputEl) {{\n",
       "    x.observe(outputEl, {childList: true});\n",
       "}}\n",
       "\n",
       "                        })                };                });            </script>        </div>"
      ]
     },
     "metadata": {},
     "output_type": "display_data"
    },
    {
     "data": {
      "application/vnd.plotly.v1+json": {
       "config": {
        "plotlyServerURL": "https://plot.ly"
       },
       "data": [
        {
         "marker": {
          "cmax": 1,
          "cmin": 0,
          "color": [
           0.5507246376811594,
           0.7096774193548387,
           0.5373134328358209,
           0.6875,
           0.6363636363636364,
           0.6832298136645962,
           0.48148148148148145,
           0.5476190476190477,
           0.6428571428571429,
           0.2247191011235955,
           0.5542168674698795,
           0.6,
           0.6785714285714286,
           0.6518987341772152
          ],
          "colorbar": {
           "title": {
            "text": "Reference Matched %"
           }
          },
          "colorscale": [
           [
            0,
            "#440154"
           ],
           [
            0.1111111111111111,
            "#482878"
           ],
           [
            0.2222222222222222,
            "#3e4989"
           ],
           [
            0.3333333333333333,
            "#31688e"
           ],
           [
            0.4444444444444444,
            "#26828e"
           ],
           [
            0.5555555555555556,
            "#1f9e89"
           ],
           [
            0.6666666666666666,
            "#35b779"
           ],
           [
            0.7777777777777778,
            "#6ece58"
           ],
           [
            0.8888888888888888,
            "#b5de2b"
           ],
           [
            1,
            "#fde725"
           ]
          ],
          "opacity": 0.5,
          "size": [
           8.72566371681416,
           7.7894736842105265,
           10.089887640449438,
           8.24113475177305,
           8.511627906976745,
           4.669902912621359,
           7.492957746478874,
           8.666666666666666,
           9.397260273972602,
           5.260869565217392,
           9.1875,
           9.751196172248804,
           8.810035842293907,
           9.803030303030303
          ]
         },
         "mode": "markers+text",
         "name": "Matched Ions",
         "text": [
          "beta-Hexachlorocyclohexane",
          "alpha-1,2,3,4,5,6-Hexachlorocyclohexane",
          "Lindane",
          "delta-Hexachlorocyclohexane",
          "epsilon-Hexachlorocyclohexane",
          "syn-Dechlorane plus",
          "anti-Dechlorane plus",
          "alpha-1,2-Dibromo-4-(1,2-dibromoethyl)cyclohexane",
          "1,2,5,6-Tetrabromocyclooctane",
          "1,1-Dibromo-2,3,3,4,4,5-hexachloro-2-cyclopenta-2,4-dien-1-ylcyclooctane",
          "Aldrin",
          "Heptachlor",
          "trans-Chlordane",
          "cis-Chlordane"
         ],
         "textposition": "middle right",
         "type": "scatter",
         "x": [
          97.25938103944499,
          159.1087339595496,
          93.1597595116204,
          128.52535615964288,
          139.5879006356688,
          317.2033901845038,
          73.4949687398235,
          187.05608742988588,
          252.8971455085083,
          68.3984148569975,
          444.6415493117289,
          334.657484486491,
          665.6880562982576,
          794.1997738537717
         ],
         "y": [
          38,
          44,
          36,
          44,
          42,
          110,
          78,
          23,
          27,
          60,
          92,
          81,
          95,
          103
         ]
        },
        {
         "marker": {
          "color": "black",
          "size": 10
         },
         "mode": "markers",
         "name": "Size represents FractionQuery",
         "showlegend": true,
         "type": "scatter",
         "x": [
          null
         ],
         "y": [
          null
         ]
        }
       ],
       "layout": {
        "height": 600,
        "template": {
         "data": {
          "bar": [
           {
            "error_x": {
             "color": "#2a3f5f"
            },
            "error_y": {
             "color": "#2a3f5f"
            },
            "marker": {
             "line": {
              "color": "#E5ECF6",
              "width": 0.5
             },
             "pattern": {
              "fillmode": "overlay",
              "size": 10,
              "solidity": 0.2
             }
            },
            "type": "bar"
           }
          ],
          "barpolar": [
           {
            "marker": {
             "line": {
              "color": "#E5ECF6",
              "width": 0.5
             },
             "pattern": {
              "fillmode": "overlay",
              "size": 10,
              "solidity": 0.2
             }
            },
            "type": "barpolar"
           }
          ],
          "carpet": [
           {
            "aaxis": {
             "endlinecolor": "#2a3f5f",
             "gridcolor": "white",
             "linecolor": "white",
             "minorgridcolor": "white",
             "startlinecolor": "#2a3f5f"
            },
            "baxis": {
             "endlinecolor": "#2a3f5f",
             "gridcolor": "white",
             "linecolor": "white",
             "minorgridcolor": "white",
             "startlinecolor": "#2a3f5f"
            },
            "type": "carpet"
           }
          ],
          "choropleth": [
           {
            "colorbar": {
             "outlinewidth": 0,
             "ticks": ""
            },
            "type": "choropleth"
           }
          ],
          "contour": [
           {
            "colorbar": {
             "outlinewidth": 0,
             "ticks": ""
            },
            "colorscale": [
             [
              0,
              "#0d0887"
             ],
             [
              0.1111111111111111,
              "#46039f"
             ],
             [
              0.2222222222222222,
              "#7201a8"
             ],
             [
              0.3333333333333333,
              "#9c179e"
             ],
             [
              0.4444444444444444,
              "#bd3786"
             ],
             [
              0.5555555555555556,
              "#d8576b"
             ],
             [
              0.6666666666666666,
              "#ed7953"
             ],
             [
              0.7777777777777778,
              "#fb9f3a"
             ],
             [
              0.8888888888888888,
              "#fdca26"
             ],
             [
              1,
              "#f0f921"
             ]
            ],
            "type": "contour"
           }
          ],
          "contourcarpet": [
           {
            "colorbar": {
             "outlinewidth": 0,
             "ticks": ""
            },
            "type": "contourcarpet"
           }
          ],
          "heatmap": [
           {
            "colorbar": {
             "outlinewidth": 0,
             "ticks": ""
            },
            "colorscale": [
             [
              0,
              "#0d0887"
             ],
             [
              0.1111111111111111,
              "#46039f"
             ],
             [
              0.2222222222222222,
              "#7201a8"
             ],
             [
              0.3333333333333333,
              "#9c179e"
             ],
             [
              0.4444444444444444,
              "#bd3786"
             ],
             [
              0.5555555555555556,
              "#d8576b"
             ],
             [
              0.6666666666666666,
              "#ed7953"
             ],
             [
              0.7777777777777778,
              "#fb9f3a"
             ],
             [
              0.8888888888888888,
              "#fdca26"
             ],
             [
              1,
              "#f0f921"
             ]
            ],
            "type": "heatmap"
           }
          ],
          "heatmapgl": [
           {
            "colorbar": {
             "outlinewidth": 0,
             "ticks": ""
            },
            "colorscale": [
             [
              0,
              "#0d0887"
             ],
             [
              0.1111111111111111,
              "#46039f"
             ],
             [
              0.2222222222222222,
              "#7201a8"
             ],
             [
              0.3333333333333333,
              "#9c179e"
             ],
             [
              0.4444444444444444,
              "#bd3786"
             ],
             [
              0.5555555555555556,
              "#d8576b"
             ],
             [
              0.6666666666666666,
              "#ed7953"
             ],
             [
              0.7777777777777778,
              "#fb9f3a"
             ],
             [
              0.8888888888888888,
              "#fdca26"
             ],
             [
              1,
              "#f0f921"
             ]
            ],
            "type": "heatmapgl"
           }
          ],
          "histogram": [
           {
            "marker": {
             "pattern": {
              "fillmode": "overlay",
              "size": 10,
              "solidity": 0.2
             }
            },
            "type": "histogram"
           }
          ],
          "histogram2d": [
           {
            "colorbar": {
             "outlinewidth": 0,
             "ticks": ""
            },
            "colorscale": [
             [
              0,
              "#0d0887"
             ],
             [
              0.1111111111111111,
              "#46039f"
             ],
             [
              0.2222222222222222,
              "#7201a8"
             ],
             [
              0.3333333333333333,
              "#9c179e"
             ],
             [
              0.4444444444444444,
              "#bd3786"
             ],
             [
              0.5555555555555556,
              "#d8576b"
             ],
             [
              0.6666666666666666,
              "#ed7953"
             ],
             [
              0.7777777777777778,
              "#fb9f3a"
             ],
             [
              0.8888888888888888,
              "#fdca26"
             ],
             [
              1,
              "#f0f921"
             ]
            ],
            "type": "histogram2d"
           }
          ],
          "histogram2dcontour": [
           {
            "colorbar": {
             "outlinewidth": 0,
             "ticks": ""
            },
            "colorscale": [
             [
              0,
              "#0d0887"
             ],
             [
              0.1111111111111111,
              "#46039f"
             ],
             [
              0.2222222222222222,
              "#7201a8"
             ],
             [
              0.3333333333333333,
              "#9c179e"
             ],
             [
              0.4444444444444444,
              "#bd3786"
             ],
             [
              0.5555555555555556,
              "#d8576b"
             ],
             [
              0.6666666666666666,
              "#ed7953"
             ],
             [
              0.7777777777777778,
              "#fb9f3a"
             ],
             [
              0.8888888888888888,
              "#fdca26"
             ],
             [
              1,
              "#f0f921"
             ]
            ],
            "type": "histogram2dcontour"
           }
          ],
          "mesh3d": [
           {
            "colorbar": {
             "outlinewidth": 0,
             "ticks": ""
            },
            "type": "mesh3d"
           }
          ],
          "parcoords": [
           {
            "line": {
             "colorbar": {
              "outlinewidth": 0,
              "ticks": ""
             }
            },
            "type": "parcoords"
           }
          ],
          "pie": [
           {
            "automargin": true,
            "type": "pie"
           }
          ],
          "scatter": [
           {
            "fillpattern": {
             "fillmode": "overlay",
             "size": 10,
             "solidity": 0.2
            },
            "type": "scatter"
           }
          ],
          "scatter3d": [
           {
            "line": {
             "colorbar": {
              "outlinewidth": 0,
              "ticks": ""
             }
            },
            "marker": {
             "colorbar": {
              "outlinewidth": 0,
              "ticks": ""
             }
            },
            "type": "scatter3d"
           }
          ],
          "scattercarpet": [
           {
            "marker": {
             "colorbar": {
              "outlinewidth": 0,
              "ticks": ""
             }
            },
            "type": "scattercarpet"
           }
          ],
          "scattergeo": [
           {
            "marker": {
             "colorbar": {
              "outlinewidth": 0,
              "ticks": ""
             }
            },
            "type": "scattergeo"
           }
          ],
          "scattergl": [
           {
            "marker": {
             "colorbar": {
              "outlinewidth": 0,
              "ticks": ""
             }
            },
            "type": "scattergl"
           }
          ],
          "scattermapbox": [
           {
            "marker": {
             "colorbar": {
              "outlinewidth": 0,
              "ticks": ""
             }
            },
            "type": "scattermapbox"
           }
          ],
          "scatterpolar": [
           {
            "marker": {
             "colorbar": {
              "outlinewidth": 0,
              "ticks": ""
             }
            },
            "type": "scatterpolar"
           }
          ],
          "scatterpolargl": [
           {
            "marker": {
             "colorbar": {
              "outlinewidth": 0,
              "ticks": ""
             }
            },
            "type": "scatterpolargl"
           }
          ],
          "scatterternary": [
           {
            "marker": {
             "colorbar": {
              "outlinewidth": 0,
              "ticks": ""
             }
            },
            "type": "scatterternary"
           }
          ],
          "surface": [
           {
            "colorbar": {
             "outlinewidth": 0,
             "ticks": ""
            },
            "colorscale": [
             [
              0,
              "#0d0887"
             ],
             [
              0.1111111111111111,
              "#46039f"
             ],
             [
              0.2222222222222222,
              "#7201a8"
             ],
             [
              0.3333333333333333,
              "#9c179e"
             ],
             [
              0.4444444444444444,
              "#bd3786"
             ],
             [
              0.5555555555555556,
              "#d8576b"
             ],
             [
              0.6666666666666666,
              "#ed7953"
             ],
             [
              0.7777777777777778,
              "#fb9f3a"
             ],
             [
              0.8888888888888888,
              "#fdca26"
             ],
             [
              1,
              "#f0f921"
             ]
            ],
            "type": "surface"
           }
          ],
          "table": [
           {
            "cells": {
             "fill": {
              "color": "#EBF0F8"
             },
             "line": {
              "color": "white"
             }
            },
            "header": {
             "fill": {
              "color": "#C8D4E3"
             },
             "line": {
              "color": "white"
             }
            },
            "type": "table"
           }
          ]
         },
         "layout": {
          "annotationdefaults": {
           "arrowcolor": "#2a3f5f",
           "arrowhead": 0,
           "arrowwidth": 1
          },
          "autotypenumbers": "strict",
          "coloraxis": {
           "colorbar": {
            "outlinewidth": 0,
            "ticks": ""
           }
          },
          "colorscale": {
           "diverging": [
            [
             0,
             "#8e0152"
            ],
            [
             0.1,
             "#c51b7d"
            ],
            [
             0.2,
             "#de77ae"
            ],
            [
             0.3,
             "#f1b6da"
            ],
            [
             0.4,
             "#fde0ef"
            ],
            [
             0.5,
             "#f7f7f7"
            ],
            [
             0.6,
             "#e6f5d0"
            ],
            [
             0.7,
             "#b8e186"
            ],
            [
             0.8,
             "#7fbc41"
            ],
            [
             0.9,
             "#4d9221"
            ],
            [
             1,
             "#276419"
            ]
           ],
           "sequential": [
            [
             0,
             "#0d0887"
            ],
            [
             0.1111111111111111,
             "#46039f"
            ],
            [
             0.2222222222222222,
             "#7201a8"
            ],
            [
             0.3333333333333333,
             "#9c179e"
            ],
            [
             0.4444444444444444,
             "#bd3786"
            ],
            [
             0.5555555555555556,
             "#d8576b"
            ],
            [
             0.6666666666666666,
             "#ed7953"
            ],
            [
             0.7777777777777778,
             "#fb9f3a"
            ],
            [
             0.8888888888888888,
             "#fdca26"
            ],
            [
             1,
             "#f0f921"
            ]
           ],
           "sequentialminus": [
            [
             0,
             "#0d0887"
            ],
            [
             0.1111111111111111,
             "#46039f"
            ],
            [
             0.2222222222222222,
             "#7201a8"
            ],
            [
             0.3333333333333333,
             "#9c179e"
            ],
            [
             0.4444444444444444,
             "#bd3786"
            ],
            [
             0.5555555555555556,
             "#d8576b"
            ],
            [
             0.6666666666666666,
             "#ed7953"
            ],
            [
             0.7777777777777778,
             "#fb9f3a"
            ],
            [
             0.8888888888888888,
             "#fdca26"
            ],
            [
             1,
             "#f0f921"
            ]
           ]
          },
          "colorway": [
           "#636efa",
           "#EF553B",
           "#00cc96",
           "#ab63fa",
           "#FFA15A",
           "#19d3f3",
           "#FF6692",
           "#B6E880",
           "#FF97FF",
           "#FECB52"
          ],
          "font": {
           "color": "#2a3f5f"
          },
          "geo": {
           "bgcolor": "white",
           "lakecolor": "white",
           "landcolor": "#E5ECF6",
           "showlakes": true,
           "showland": true,
           "subunitcolor": "white"
          },
          "hoverlabel": {
           "align": "left"
          },
          "hovermode": "closest",
          "mapbox": {
           "style": "light"
          },
          "paper_bgcolor": "white",
          "plot_bgcolor": "#E5ECF6",
          "polar": {
           "angularaxis": {
            "gridcolor": "white",
            "linecolor": "white",
            "ticks": ""
           },
           "bgcolor": "#E5ECF6",
           "radialaxis": {
            "gridcolor": "white",
            "linecolor": "white",
            "ticks": ""
           }
          },
          "scene": {
           "xaxis": {
            "backgroundcolor": "#E5ECF6",
            "gridcolor": "white",
            "gridwidth": 2,
            "linecolor": "white",
            "showbackground": true,
            "ticks": "",
            "zerolinecolor": "white"
           },
           "yaxis": {
            "backgroundcolor": "#E5ECF6",
            "gridcolor": "white",
            "gridwidth": 2,
            "linecolor": "white",
            "showbackground": true,
            "ticks": "",
            "zerolinecolor": "white"
           },
           "zaxis": {
            "backgroundcolor": "#E5ECF6",
            "gridcolor": "white",
            "gridwidth": 2,
            "linecolor": "white",
            "showbackground": true,
            "ticks": "",
            "zerolinecolor": "white"
           }
          },
          "shapedefaults": {
           "line": {
            "color": "#2a3f5f"
           }
          },
          "ternary": {
           "aaxis": {
            "gridcolor": "white",
            "linecolor": "white",
            "ticks": ""
           },
           "baxis": {
            "gridcolor": "white",
            "linecolor": "white",
            "ticks": ""
           },
           "bgcolor": "#E5ECF6",
           "caxis": {
            "gridcolor": "white",
            "linecolor": "white",
            "ticks": ""
           }
          },
          "title": {
           "x": 0.05
          },
          "xaxis": {
           "automargin": true,
           "gridcolor": "white",
           "linecolor": "white",
           "ticks": "",
           "title": {
            "standoff": 15
           },
           "zerolinecolor": "white",
           "zerolinewidth": 2
          },
          "yaxis": {
           "automargin": true,
           "gridcolor": "white",
           "linecolor": "white",
           "ticks": "",
           "title": {
            "standoff": 15
           },
           "zerolinecolor": "white",
           "zerolinewidth": 2
          }
         }
        },
        "title": {
         "text": "Organohalogen compounds"
        },
        "width": 800,
        "xaxis": {
         "range": [
          0,
          1
         ],
         "title": {
          "text": "Score"
         }
        },
        "yaxis": {
         "title": {
          "text": "Matches"
         }
        }
       }
      },
      "text/html": [
       "<div>                            <div id=\"31a9afc9-e465-4f6b-bcbc-8cf4a5d98147\" class=\"plotly-graph-div\" style=\"height:600px; width:800px;\"></div>            <script type=\"text/javascript\">                require([\"plotly\"], function(Plotly) {                    window.PLOTLYENV=window.PLOTLYENV || {};                                    if (document.getElementById(\"31a9afc9-e465-4f6b-bcbc-8cf4a5d98147\")) {                    Plotly.newPlot(                        \"31a9afc9-e465-4f6b-bcbc-8cf4a5d98147\",                        [{\"marker\":{\"cmax\":1,\"cmin\":0,\"color\":[0.5507246376811594,0.7096774193548387,0.5373134328358209,0.6875,0.6363636363636364,0.6832298136645962,0.48148148148148145,0.5476190476190477,0.6428571428571429,0.2247191011235955,0.5542168674698795,0.6,0.6785714285714286,0.6518987341772152],\"colorbar\":{\"title\":{\"text\":\"Reference Matched %\"}},\"colorscale\":[[0.0,\"#440154\"],[0.1111111111111111,\"#482878\"],[0.2222222222222222,\"#3e4989\"],[0.3333333333333333,\"#31688e\"],[0.4444444444444444,\"#26828e\"],[0.5555555555555556,\"#1f9e89\"],[0.6666666666666666,\"#35b779\"],[0.7777777777777778,\"#6ece58\"],[0.8888888888888888,\"#b5de2b\"],[1.0,\"#fde725\"]],\"opacity\":0.5,\"size\":[8.72566371681416,7.7894736842105265,10.089887640449438,8.24113475177305,8.511627906976745,4.669902912621359,7.492957746478874,8.666666666666666,9.397260273972602,5.260869565217392,9.1875,9.751196172248804,8.810035842293907,9.803030303030303]},\"mode\":\"markers+text\",\"name\":\"Matched Ions\",\"text\":[\"beta-Hexachlorocyclohexane\",\"alpha-1,2,3,4,5,6-Hexachlorocyclohexane\",\"Lindane\",\"delta-Hexachlorocyclohexane\",\"epsilon-Hexachlorocyclohexane\",\"syn-Dechlorane plus\",\"anti-Dechlorane plus\",\"alpha-1,2-Dibromo-4-(1,2-dibromoethyl)cyclohexane\",\"1,2,5,6-Tetrabromocyclooctane\",\"1,1-Dibromo-2,3,3,4,4,5-hexachloro-2-cyclopenta-2,4-dien-1-ylcyclooctane\",\"Aldrin\",\"Heptachlor\",\"trans-Chlordane\",\"cis-Chlordane\"],\"textposition\":\"middle right\",\"x\":[97.25938103944499,159.1087339595496,93.1597595116204,128.52535615964288,139.5879006356688,317.2033901845038,73.4949687398235,187.05608742988588,252.8971455085083,68.3984148569975,444.6415493117289,334.657484486491,665.6880562982576,794.1997738537717],\"y\":[38,44,36,44,42,110,78,23,27,60,92,81,95,103],\"type\":\"scatter\"},{\"marker\":{\"color\":\"black\",\"size\":10},\"mode\":\"markers\",\"name\":\"Size represents FractionQuery\",\"showlegend\":true,\"x\":[null],\"y\":[null],\"type\":\"scatter\"}],                        {\"template\":{\"data\":{\"histogram2dcontour\":[{\"type\":\"histogram2dcontour\",\"colorbar\":{\"outlinewidth\":0,\"ticks\":\"\"},\"colorscale\":[[0.0,\"#0d0887\"],[0.1111111111111111,\"#46039f\"],[0.2222222222222222,\"#7201a8\"],[0.3333333333333333,\"#9c179e\"],[0.4444444444444444,\"#bd3786\"],[0.5555555555555556,\"#d8576b\"],[0.6666666666666666,\"#ed7953\"],[0.7777777777777778,\"#fb9f3a\"],[0.8888888888888888,\"#fdca26\"],[1.0,\"#f0f921\"]]}],\"choropleth\":[{\"type\":\"choropleth\",\"colorbar\":{\"outlinewidth\":0,\"ticks\":\"\"}}],\"histogram2d\":[{\"type\":\"histogram2d\",\"colorbar\":{\"outlinewidth\":0,\"ticks\":\"\"},\"colorscale\":[[0.0,\"#0d0887\"],[0.1111111111111111,\"#46039f\"],[0.2222222222222222,\"#7201a8\"],[0.3333333333333333,\"#9c179e\"],[0.4444444444444444,\"#bd3786\"],[0.5555555555555556,\"#d8576b\"],[0.6666666666666666,\"#ed7953\"],[0.7777777777777778,\"#fb9f3a\"],[0.8888888888888888,\"#fdca26\"],[1.0,\"#f0f921\"]]}],\"heatmap\":[{\"type\":\"heatmap\",\"colorbar\":{\"outlinewidth\":0,\"ticks\":\"\"},\"colorscale\":[[0.0,\"#0d0887\"],[0.1111111111111111,\"#46039f\"],[0.2222222222222222,\"#7201a8\"],[0.3333333333333333,\"#9c179e\"],[0.4444444444444444,\"#bd3786\"],[0.5555555555555556,\"#d8576b\"],[0.6666666666666666,\"#ed7953\"],[0.7777777777777778,\"#fb9f3a\"],[0.8888888888888888,\"#fdca26\"],[1.0,\"#f0f921\"]]}],\"heatmapgl\":[{\"type\":\"heatmapgl\",\"colorbar\":{\"outlinewidth\":0,\"ticks\":\"\"},\"colorscale\":[[0.0,\"#0d0887\"],[0.1111111111111111,\"#46039f\"],[0.2222222222222222,\"#7201a8\"],[0.3333333333333333,\"#9c179e\"],[0.4444444444444444,\"#bd3786\"],[0.5555555555555556,\"#d8576b\"],[0.6666666666666666,\"#ed7953\"],[0.7777777777777778,\"#fb9f3a\"],[0.8888888888888888,\"#fdca26\"],[1.0,\"#f0f921\"]]}],\"contourcarpet\":[{\"type\":\"contourcarpet\",\"colorbar\":{\"outlinewidth\":0,\"ticks\":\"\"}}],\"contour\":[{\"type\":\"contour\",\"colorbar\":{\"outlinewidth\":0,\"ticks\":\"\"},\"colorscale\":[[0.0,\"#0d0887\"],[0.1111111111111111,\"#46039f\"],[0.2222222222222222,\"#7201a8\"],[0.3333333333333333,\"#9c179e\"],[0.4444444444444444,\"#bd3786\"],[0.5555555555555556,\"#d8576b\"],[0.6666666666666666,\"#ed7953\"],[0.7777777777777778,\"#fb9f3a\"],[0.8888888888888888,\"#fdca26\"],[1.0,\"#f0f921\"]]}],\"surface\":[{\"type\":\"surface\",\"colorbar\":{\"outlinewidth\":0,\"ticks\":\"\"},\"colorscale\":[[0.0,\"#0d0887\"],[0.1111111111111111,\"#46039f\"],[0.2222222222222222,\"#7201a8\"],[0.3333333333333333,\"#9c179e\"],[0.4444444444444444,\"#bd3786\"],[0.5555555555555556,\"#d8576b\"],[0.6666666666666666,\"#ed7953\"],[0.7777777777777778,\"#fb9f3a\"],[0.8888888888888888,\"#fdca26\"],[1.0,\"#f0f921\"]]}],\"mesh3d\":[{\"type\":\"mesh3d\",\"colorbar\":{\"outlinewidth\":0,\"ticks\":\"\"}}],\"scatter\":[{\"fillpattern\":{\"fillmode\":\"overlay\",\"size\":10,\"solidity\":0.2},\"type\":\"scatter\"}],\"parcoords\":[{\"type\":\"parcoords\",\"line\":{\"colorbar\":{\"outlinewidth\":0,\"ticks\":\"\"}}}],\"scatterpolargl\":[{\"type\":\"scatterpolargl\",\"marker\":{\"colorbar\":{\"outlinewidth\":0,\"ticks\":\"\"}}}],\"bar\":[{\"error_x\":{\"color\":\"#2a3f5f\"},\"error_y\":{\"color\":\"#2a3f5f\"},\"marker\":{\"line\":{\"color\":\"#E5ECF6\",\"width\":0.5},\"pattern\":{\"fillmode\":\"overlay\",\"size\":10,\"solidity\":0.2}},\"type\":\"bar\"}],\"scattergeo\":[{\"type\":\"scattergeo\",\"marker\":{\"colorbar\":{\"outlinewidth\":0,\"ticks\":\"\"}}}],\"scatterpolar\":[{\"type\":\"scatterpolar\",\"marker\":{\"colorbar\":{\"outlinewidth\":0,\"ticks\":\"\"}}}],\"histogram\":[{\"marker\":{\"pattern\":{\"fillmode\":\"overlay\",\"size\":10,\"solidity\":0.2}},\"type\":\"histogram\"}],\"scattergl\":[{\"type\":\"scattergl\",\"marker\":{\"colorbar\":{\"outlinewidth\":0,\"ticks\":\"\"}}}],\"scatter3d\":[{\"type\":\"scatter3d\",\"line\":{\"colorbar\":{\"outlinewidth\":0,\"ticks\":\"\"}},\"marker\":{\"colorbar\":{\"outlinewidth\":0,\"ticks\":\"\"}}}],\"scattermapbox\":[{\"type\":\"scattermapbox\",\"marker\":{\"colorbar\":{\"outlinewidth\":0,\"ticks\":\"\"}}}],\"scatterternary\":[{\"type\":\"scatterternary\",\"marker\":{\"colorbar\":{\"outlinewidth\":0,\"ticks\":\"\"}}}],\"scattercarpet\":[{\"type\":\"scattercarpet\",\"marker\":{\"colorbar\":{\"outlinewidth\":0,\"ticks\":\"\"}}}],\"carpet\":[{\"aaxis\":{\"endlinecolor\":\"#2a3f5f\",\"gridcolor\":\"white\",\"linecolor\":\"white\",\"minorgridcolor\":\"white\",\"startlinecolor\":\"#2a3f5f\"},\"baxis\":{\"endlinecolor\":\"#2a3f5f\",\"gridcolor\":\"white\",\"linecolor\":\"white\",\"minorgridcolor\":\"white\",\"startlinecolor\":\"#2a3f5f\"},\"type\":\"carpet\"}],\"table\":[{\"cells\":{\"fill\":{\"color\":\"#EBF0F8\"},\"line\":{\"color\":\"white\"}},\"header\":{\"fill\":{\"color\":\"#C8D4E3\"},\"line\":{\"color\":\"white\"}},\"type\":\"table\"}],\"barpolar\":[{\"marker\":{\"line\":{\"color\":\"#E5ECF6\",\"width\":0.5},\"pattern\":{\"fillmode\":\"overlay\",\"size\":10,\"solidity\":0.2}},\"type\":\"barpolar\"}],\"pie\":[{\"automargin\":true,\"type\":\"pie\"}]},\"layout\":{\"autotypenumbers\":\"strict\",\"colorway\":[\"#636efa\",\"#EF553B\",\"#00cc96\",\"#ab63fa\",\"#FFA15A\",\"#19d3f3\",\"#FF6692\",\"#B6E880\",\"#FF97FF\",\"#FECB52\"],\"font\":{\"color\":\"#2a3f5f\"},\"hovermode\":\"closest\",\"hoverlabel\":{\"align\":\"left\"},\"paper_bgcolor\":\"white\",\"plot_bgcolor\":\"#E5ECF6\",\"polar\":{\"bgcolor\":\"#E5ECF6\",\"angularaxis\":{\"gridcolor\":\"white\",\"linecolor\":\"white\",\"ticks\":\"\"},\"radialaxis\":{\"gridcolor\":\"white\",\"linecolor\":\"white\",\"ticks\":\"\"}},\"ternary\":{\"bgcolor\":\"#E5ECF6\",\"aaxis\":{\"gridcolor\":\"white\",\"linecolor\":\"white\",\"ticks\":\"\"},\"baxis\":{\"gridcolor\":\"white\",\"linecolor\":\"white\",\"ticks\":\"\"},\"caxis\":{\"gridcolor\":\"white\",\"linecolor\":\"white\",\"ticks\":\"\"}},\"coloraxis\":{\"colorbar\":{\"outlinewidth\":0,\"ticks\":\"\"}},\"colorscale\":{\"sequential\":[[0.0,\"#0d0887\"],[0.1111111111111111,\"#46039f\"],[0.2222222222222222,\"#7201a8\"],[0.3333333333333333,\"#9c179e\"],[0.4444444444444444,\"#bd3786\"],[0.5555555555555556,\"#d8576b\"],[0.6666666666666666,\"#ed7953\"],[0.7777777777777778,\"#fb9f3a\"],[0.8888888888888888,\"#fdca26\"],[1.0,\"#f0f921\"]],\"sequentialminus\":[[0.0,\"#0d0887\"],[0.1111111111111111,\"#46039f\"],[0.2222222222222222,\"#7201a8\"],[0.3333333333333333,\"#9c179e\"],[0.4444444444444444,\"#bd3786\"],[0.5555555555555556,\"#d8576b\"],[0.6666666666666666,\"#ed7953\"],[0.7777777777777778,\"#fb9f3a\"],[0.8888888888888888,\"#fdca26\"],[1.0,\"#f0f921\"]],\"diverging\":[[0,\"#8e0152\"],[0.1,\"#c51b7d\"],[0.2,\"#de77ae\"],[0.3,\"#f1b6da\"],[0.4,\"#fde0ef\"],[0.5,\"#f7f7f7\"],[0.6,\"#e6f5d0\"],[0.7,\"#b8e186\"],[0.8,\"#7fbc41\"],[0.9,\"#4d9221\"],[1,\"#276419\"]]},\"xaxis\":{\"gridcolor\":\"white\",\"linecolor\":\"white\",\"ticks\":\"\",\"title\":{\"standoff\":15},\"zerolinecolor\":\"white\",\"automargin\":true,\"zerolinewidth\":2},\"yaxis\":{\"gridcolor\":\"white\",\"linecolor\":\"white\",\"ticks\":\"\",\"title\":{\"standoff\":15},\"zerolinecolor\":\"white\",\"automargin\":true,\"zerolinewidth\":2},\"scene\":{\"xaxis\":{\"backgroundcolor\":\"#E5ECF6\",\"gridcolor\":\"white\",\"linecolor\":\"white\",\"showbackground\":true,\"ticks\":\"\",\"zerolinecolor\":\"white\",\"gridwidth\":2},\"yaxis\":{\"backgroundcolor\":\"#E5ECF6\",\"gridcolor\":\"white\",\"linecolor\":\"white\",\"showbackground\":true,\"ticks\":\"\",\"zerolinecolor\":\"white\",\"gridwidth\":2},\"zaxis\":{\"backgroundcolor\":\"#E5ECF6\",\"gridcolor\":\"white\",\"linecolor\":\"white\",\"showbackground\":true,\"ticks\":\"\",\"zerolinecolor\":\"white\",\"gridwidth\":2}},\"shapedefaults\":{\"line\":{\"color\":\"#2a3f5f\"}},\"annotationdefaults\":{\"arrowcolor\":\"#2a3f5f\",\"arrowhead\":0,\"arrowwidth\":1},\"geo\":{\"bgcolor\":\"white\",\"landcolor\":\"#E5ECF6\",\"subunitcolor\":\"white\",\"showland\":true,\"showlakes\":true,\"lakecolor\":\"white\"},\"title\":{\"x\":0.05},\"mapbox\":{\"style\":\"light\"}}},\"title\":{\"text\":\"Organohalogen compounds\"},\"xaxis\":{\"title\":{\"text\":\"Score\"},\"range\":[0,1]},\"yaxis\":{\"title\":{\"text\":\"Matches\"}},\"width\":800,\"height\":600},                        {\"responsive\": true}                    ).then(function(){\n",
       "                            \n",
       "var gd = document.getElementById('31a9afc9-e465-4f6b-bcbc-8cf4a5d98147');\n",
       "var x = new MutationObserver(function (mutations, observer) {{\n",
       "        var display = window.getComputedStyle(gd).display;\n",
       "        if (!display || display === 'none') {{\n",
       "            console.log([gd, 'removed!']);\n",
       "            Plotly.purge(gd);\n",
       "            observer.disconnect();\n",
       "        }}\n",
       "}});\n",
       "\n",
       "// Listen for the removal of the full notebook cells\n",
       "var notebookContainer = gd.closest('#notebook-container');\n",
       "if (notebookContainer) {{\n",
       "    x.observe(notebookContainer, {childList: true});\n",
       "}}\n",
       "\n",
       "// Listen for the clearing of the current output cell\n",
       "var outputEl = gd.closest('.output');\n",
       "if (outputEl) {{\n",
       "    x.observe(outputEl, {childList: true});\n",
       "}}\n",
       "\n",
       "                        })                };                });            </script>        </div>"
      ]
     },
     "metadata": {},
     "output_type": "display_data"
    },
    {
     "data": {
      "application/vnd.plotly.v1+json": {
       "config": {
        "plotlyServerURL": "https://plot.ly"
       },
       "data": [
        {
         "marker": {
          "cmax": 1,
          "cmin": 0,
          "color": [
           0.25274725274725274,
           0.3793103448275862,
           0.625,
           0.75,
           0.47058823529411764,
           0.2727272727272727,
           0.4146341463414634,
           0.8636363636363636,
           0.03225806451612903,
           0.5333333333333333,
           0.44642857142857145,
           0.5,
           0.37777777777777777,
           0.5636363636363636,
           0.4461538461538462,
           0.28888888888888886,
           0.48,
           0.46153846153846156,
           0.46153846153846156,
           0.6666666666666666,
           0.6428571428571429,
           0.7966101694915254,
           0.47150259067357514,
           0.4222222222222222,
           0.22666666666666666,
           0.4666666666666667,
           0.21052631578947367,
           0.39285714285714285,
           0.3076923076923077,
           0.2631578947368421,
           0.9375,
           0.38461538461538464,
           0.35294117647058826,
           0.3384615384615385,
           0.3373493975903614,
           0.4594594594594595,
           0.23404255319148937,
           0.5,
           0.8947368421052632,
           0.6666666666666666,
           0.2857142857142857,
           0.45714285714285713,
           0.05,
           0.24390243902439024,
           0.3333333333333333,
           0.3898305084745763,
           0.4411764705882353,
           0.26785714285714285,
           0.2545454545454545,
           0.1076923076923077,
           0.048507462686567165,
           0.5384615384615384,
           0.39473684210526316,
           0.32,
           0.2,
           0.2653061224489796,
           0.5555555555555556,
           0.3888888888888889
          ],
          "colorbar": {
           "title": {
            "text": "Reference Matched %"
           }
          },
          "colorscale": [
           [
            0,
            "#440154"
           ],
           [
            0.1111111111111111,
            "#482878"
           ],
           [
            0.2222222222222222,
            "#3e4989"
           ],
           [
            0.3333333333333333,
            "#31688e"
           ],
           [
            0.4444444444444444,
            "#26828e"
           ],
           [
            0.5555555555555556,
            "#1f9e89"
           ],
           [
            0.6666666666666666,
            "#35b779"
           ],
           [
            0.7777777777777778,
            "#6ece58"
           ],
           [
            0.8888888888888888,
            "#b5de2b"
           ],
           [
            1,
            "#fde725"
           ]
          ],
          "opacity": 0.5,
          "size": [
           5.801652892561984,
           5.013698630136986,
           4.28310502283105,
           3.935483870967742,
           5.116883116883117,
           6.044943820224719,
           6.657534246575342,
           7.671641791044776,
           6.615384615384616,
           8.4,
           8.802721088435373,
           10.169014084507042,
           7.76271186440678,
           5.803680981595092,
           5.27683615819209,
           5.48993288590604,
           5.428571428571429,
           6.615384615384616,
           6.316546762589928,
           11.777777777777777,
           10.372093023255815,
           8.962962962962962,
           9.309236947791165,
           11.743589743589743,
           11.444444444444445,
           5.333333333333333,
           13.428571428571427,
           8.666666666666666,
           7.517241379310345,
           5.125,
           3.694915254237288,
           6.3478260869565215,
           7.454545454545454,
           13.578947368421053,
           6.95575221238938,
           5.434343434343434,
           15.75,
           11.26829268292683,
           5.908045977011494,
           7,
           13.200000000000001,
           9.272727272727273,
           17,
           8.779661016949152,
           14.142857142857142,
           8.47887323943662,
           9.692307692307693,
           8.382978723404255,
           17.555555555555557,
           11.333333333333334,
           7.777777777777777,
           9.368421052631579,
           7.172413793103448,
           14.307692307692308,
           12.69767441860465,
           9.428571428571429,
           4.173913043478261,
           6.516129032258064
          ]
         },
         "mode": "markers+text",
         "name": "Matched Ions",
         "text": [
          "Bumetrizole",
          "Drometrizole",
          "2,4-Di-tert-butyl-6-(5-chloro-2H-benzotriazol-2-yl)phenol",
          "Octrizole",
          "1,2,7,9-Tetrachlorodibenzofuran",
          "1,2,7,9-Tetrachlorodibenzo-p-dioxin",
          "cis-Tetramethrin",
          "trans-Tetramethrin",
          "Chlorpyrifos oxon",
          "1,2,3,4,7,8-Hexachlorodibenzo-p-dioxin",
          "1,2,3,4,6,7,8-Heptachlorodibenzo-p-dioxin",
          "Octachlorodibenzo-p-dioxin",
          "Octachlorodibenzofuran",
          "1,2,3,7,8-Pentachlorodibenzofuran",
          "1,2,3,4,7,8-Hexachlorodibenzofuran",
          "1,2,3,4,6,7,8-Heptachlorodibenzofuran",
          "2,3,7,8-Tetrachlorodibenzofuran",
          "2,3,7,8-Tetrachlorodibenzo-p-dioxin",
          "1,2,3,7,8-Pentachlorodibenzo-p-dioxin",
          "Eucalyptol",
          "Safrole",
          "Galaxolide",
          "cis-Heptachlor epoxide",
          "Carbofuran phenol",
          "Atrazine",
          "Phosmet",
          "Praziquantel",
          "Furathiocarb",
          "Methabenzthiazuron",
          "Tebuthiuron",
          "Pyraclostrobin",
          "Bendiocarb",
          "Carbofuran",
          "Ametryn",
          "Carfentrazone-ethyl",
          "Piperonyl butoxide",
          "Prometon",
          "Secbumeton",
          "Fenazaquin",
          "Fludioxonil",
          "Terbumeton",
          "Acibenzolar-S-methyl",
          "Bupirimate",
          "Buprofezin",
          "Ethofumesate",
          "Fipronil",
          "Mefenacet",
          "Methoprotryne",
          "Prometryn",
          "Cyazofamid",
          "Ethiprole",
          "Thiabendazole",
          "Tricyclazole",
          "Simetryn",
          "Sulfentrazone",
          "Terbutryn",
          "Fluquinconazole",
          "Fuberidazole"
         ],
         "textposition": "middle right",
         "type": "scatter",
         "x": [
          266.77777256990146,
          763.8230354119236,
          336.65327734948204,
          459.279136577339,
          846.2278949688694,
          811.0538710571302,
          386.5169067296427,
          491.1735043103766,
          4.5497307462183,
          828.8640609774388,
          850.0345613094214,
          783.2816107919326,
          875.701706250824,
          869.638308391792,
          900.3751685235077,
          878.0335453353181,
          888.5581001579953,
          870.1172137120477,
          869.6184301649012,
          403.4852114945737,
          705.2344550963676,
          479.2146741213986,
          670.3885847663986,
          742.357048553449,
          473.4781831127778,
          656.8173952468887,
          66.50670962359199,
          427.93567383683467,
          297.8100578992844,
          83.3367618973463,
          272.8924526571132,
          102.55804430353909,
          154.8421227381506,
          815.353084805138,
          94.5667195810036,
          50.767146902799205,
          531.1353052434469,
          337.0449182302715,
          284.2552881045009,
          804.1874509650568,
          457.4693994954873,
          213.1081343362036,
          639.5685964565879,
          496.2474015045519,
          594.2364029366618,
          862.052072147914,
          194.0193151312568,
          76.7301357221437,
          659.7695396798161,
          156.1986635638219,
          451.055092996686,
          808.264544431294,
          867.1835699185604,
          878.4744046558178,
          630.5148286299343,
          387.3807064072352,
          124.21721707550459,
          909.8503190708163
         ],
         "y": [
          23,
          11,
          25,
          12,
          24,
          18,
          17,
          19,
          3,
          48,
          50,
          58,
          34,
          31,
          29,
          26,
          24,
          24,
          30,
          22,
          18,
          47,
          91,
          19,
          17,
          7,
          12,
          22,
          8,
          5,
          15,
          5,
          12,
          22,
          28,
          17,
          11,
          19,
          17,
          16,
          14,
          16,
          3,
          20,
          17,
          23,
          15,
          15,
          14,
          7,
          13,
          14,
          15,
          16,
          23,
          13,
          20,
          7
         ]
        },
        {
         "marker": {
          "color": "black",
          "size": 10
         },
         "mode": "markers",
         "name": "Size represents FractionQuery",
         "showlegend": true,
         "type": "scatter",
         "x": [
          null
         ],
         "y": [
          null
         ]
        }
       ],
       "layout": {
        "height": 600,
        "template": {
         "data": {
          "bar": [
           {
            "error_x": {
             "color": "#2a3f5f"
            },
            "error_y": {
             "color": "#2a3f5f"
            },
            "marker": {
             "line": {
              "color": "#E5ECF6",
              "width": 0.5
             },
             "pattern": {
              "fillmode": "overlay",
              "size": 10,
              "solidity": 0.2
             }
            },
            "type": "bar"
           }
          ],
          "barpolar": [
           {
            "marker": {
             "line": {
              "color": "#E5ECF6",
              "width": 0.5
             },
             "pattern": {
              "fillmode": "overlay",
              "size": 10,
              "solidity": 0.2
             }
            },
            "type": "barpolar"
           }
          ],
          "carpet": [
           {
            "aaxis": {
             "endlinecolor": "#2a3f5f",
             "gridcolor": "white",
             "linecolor": "white",
             "minorgridcolor": "white",
             "startlinecolor": "#2a3f5f"
            },
            "baxis": {
             "endlinecolor": "#2a3f5f",
             "gridcolor": "white",
             "linecolor": "white",
             "minorgridcolor": "white",
             "startlinecolor": "#2a3f5f"
            },
            "type": "carpet"
           }
          ],
          "choropleth": [
           {
            "colorbar": {
             "outlinewidth": 0,
             "ticks": ""
            },
            "type": "choropleth"
           }
          ],
          "contour": [
           {
            "colorbar": {
             "outlinewidth": 0,
             "ticks": ""
            },
            "colorscale": [
             [
              0,
              "#0d0887"
             ],
             [
              0.1111111111111111,
              "#46039f"
             ],
             [
              0.2222222222222222,
              "#7201a8"
             ],
             [
              0.3333333333333333,
              "#9c179e"
             ],
             [
              0.4444444444444444,
              "#bd3786"
             ],
             [
              0.5555555555555556,
              "#d8576b"
             ],
             [
              0.6666666666666666,
              "#ed7953"
             ],
             [
              0.7777777777777778,
              "#fb9f3a"
             ],
             [
              0.8888888888888888,
              "#fdca26"
             ],
             [
              1,
              "#f0f921"
             ]
            ],
            "type": "contour"
           }
          ],
          "contourcarpet": [
           {
            "colorbar": {
             "outlinewidth": 0,
             "ticks": ""
            },
            "type": "contourcarpet"
           }
          ],
          "heatmap": [
           {
            "colorbar": {
             "outlinewidth": 0,
             "ticks": ""
            },
            "colorscale": [
             [
              0,
              "#0d0887"
             ],
             [
              0.1111111111111111,
              "#46039f"
             ],
             [
              0.2222222222222222,
              "#7201a8"
             ],
             [
              0.3333333333333333,
              "#9c179e"
             ],
             [
              0.4444444444444444,
              "#bd3786"
             ],
             [
              0.5555555555555556,
              "#d8576b"
             ],
             [
              0.6666666666666666,
              "#ed7953"
             ],
             [
              0.7777777777777778,
              "#fb9f3a"
             ],
             [
              0.8888888888888888,
              "#fdca26"
             ],
             [
              1,
              "#f0f921"
             ]
            ],
            "type": "heatmap"
           }
          ],
          "heatmapgl": [
           {
            "colorbar": {
             "outlinewidth": 0,
             "ticks": ""
            },
            "colorscale": [
             [
              0,
              "#0d0887"
             ],
             [
              0.1111111111111111,
              "#46039f"
             ],
             [
              0.2222222222222222,
              "#7201a8"
             ],
             [
              0.3333333333333333,
              "#9c179e"
             ],
             [
              0.4444444444444444,
              "#bd3786"
             ],
             [
              0.5555555555555556,
              "#d8576b"
             ],
             [
              0.6666666666666666,
              "#ed7953"
             ],
             [
              0.7777777777777778,
              "#fb9f3a"
             ],
             [
              0.8888888888888888,
              "#fdca26"
             ],
             [
              1,
              "#f0f921"
             ]
            ],
            "type": "heatmapgl"
           }
          ],
          "histogram": [
           {
            "marker": {
             "pattern": {
              "fillmode": "overlay",
              "size": 10,
              "solidity": 0.2
             }
            },
            "type": "histogram"
           }
          ],
          "histogram2d": [
           {
            "colorbar": {
             "outlinewidth": 0,
             "ticks": ""
            },
            "colorscale": [
             [
              0,
              "#0d0887"
             ],
             [
              0.1111111111111111,
              "#46039f"
             ],
             [
              0.2222222222222222,
              "#7201a8"
             ],
             [
              0.3333333333333333,
              "#9c179e"
             ],
             [
              0.4444444444444444,
              "#bd3786"
             ],
             [
              0.5555555555555556,
              "#d8576b"
             ],
             [
              0.6666666666666666,
              "#ed7953"
             ],
             [
              0.7777777777777778,
              "#fb9f3a"
             ],
             [
              0.8888888888888888,
              "#fdca26"
             ],
             [
              1,
              "#f0f921"
             ]
            ],
            "type": "histogram2d"
           }
          ],
          "histogram2dcontour": [
           {
            "colorbar": {
             "outlinewidth": 0,
             "ticks": ""
            },
            "colorscale": [
             [
              0,
              "#0d0887"
             ],
             [
              0.1111111111111111,
              "#46039f"
             ],
             [
              0.2222222222222222,
              "#7201a8"
             ],
             [
              0.3333333333333333,
              "#9c179e"
             ],
             [
              0.4444444444444444,
              "#bd3786"
             ],
             [
              0.5555555555555556,
              "#d8576b"
             ],
             [
              0.6666666666666666,
              "#ed7953"
             ],
             [
              0.7777777777777778,
              "#fb9f3a"
             ],
             [
              0.8888888888888888,
              "#fdca26"
             ],
             [
              1,
              "#f0f921"
             ]
            ],
            "type": "histogram2dcontour"
           }
          ],
          "mesh3d": [
           {
            "colorbar": {
             "outlinewidth": 0,
             "ticks": ""
            },
            "type": "mesh3d"
           }
          ],
          "parcoords": [
           {
            "line": {
             "colorbar": {
              "outlinewidth": 0,
              "ticks": ""
             }
            },
            "type": "parcoords"
           }
          ],
          "pie": [
           {
            "automargin": true,
            "type": "pie"
           }
          ],
          "scatter": [
           {
            "fillpattern": {
             "fillmode": "overlay",
             "size": 10,
             "solidity": 0.2
            },
            "type": "scatter"
           }
          ],
          "scatter3d": [
           {
            "line": {
             "colorbar": {
              "outlinewidth": 0,
              "ticks": ""
             }
            },
            "marker": {
             "colorbar": {
              "outlinewidth": 0,
              "ticks": ""
             }
            },
            "type": "scatter3d"
           }
          ],
          "scattercarpet": [
           {
            "marker": {
             "colorbar": {
              "outlinewidth": 0,
              "ticks": ""
             }
            },
            "type": "scattercarpet"
           }
          ],
          "scattergeo": [
           {
            "marker": {
             "colorbar": {
              "outlinewidth": 0,
              "ticks": ""
             }
            },
            "type": "scattergeo"
           }
          ],
          "scattergl": [
           {
            "marker": {
             "colorbar": {
              "outlinewidth": 0,
              "ticks": ""
             }
            },
            "type": "scattergl"
           }
          ],
          "scattermapbox": [
           {
            "marker": {
             "colorbar": {
              "outlinewidth": 0,
              "ticks": ""
             }
            },
            "type": "scattermapbox"
           }
          ],
          "scatterpolar": [
           {
            "marker": {
             "colorbar": {
              "outlinewidth": 0,
              "ticks": ""
             }
            },
            "type": "scatterpolar"
           }
          ],
          "scatterpolargl": [
           {
            "marker": {
             "colorbar": {
              "outlinewidth": 0,
              "ticks": ""
             }
            },
            "type": "scatterpolargl"
           }
          ],
          "scatterternary": [
           {
            "marker": {
             "colorbar": {
              "outlinewidth": 0,
              "ticks": ""
             }
            },
            "type": "scatterternary"
           }
          ],
          "surface": [
           {
            "colorbar": {
             "outlinewidth": 0,
             "ticks": ""
            },
            "colorscale": [
             [
              0,
              "#0d0887"
             ],
             [
              0.1111111111111111,
              "#46039f"
             ],
             [
              0.2222222222222222,
              "#7201a8"
             ],
             [
              0.3333333333333333,
              "#9c179e"
             ],
             [
              0.4444444444444444,
              "#bd3786"
             ],
             [
              0.5555555555555556,
              "#d8576b"
             ],
             [
              0.6666666666666666,
              "#ed7953"
             ],
             [
              0.7777777777777778,
              "#fb9f3a"
             ],
             [
              0.8888888888888888,
              "#fdca26"
             ],
             [
              1,
              "#f0f921"
             ]
            ],
            "type": "surface"
           }
          ],
          "table": [
           {
            "cells": {
             "fill": {
              "color": "#EBF0F8"
             },
             "line": {
              "color": "white"
             }
            },
            "header": {
             "fill": {
              "color": "#C8D4E3"
             },
             "line": {
              "color": "white"
             }
            },
            "type": "table"
           }
          ]
         },
         "layout": {
          "annotationdefaults": {
           "arrowcolor": "#2a3f5f",
           "arrowhead": 0,
           "arrowwidth": 1
          },
          "autotypenumbers": "strict",
          "coloraxis": {
           "colorbar": {
            "outlinewidth": 0,
            "ticks": ""
           }
          },
          "colorscale": {
           "diverging": [
            [
             0,
             "#8e0152"
            ],
            [
             0.1,
             "#c51b7d"
            ],
            [
             0.2,
             "#de77ae"
            ],
            [
             0.3,
             "#f1b6da"
            ],
            [
             0.4,
             "#fde0ef"
            ],
            [
             0.5,
             "#f7f7f7"
            ],
            [
             0.6,
             "#e6f5d0"
            ],
            [
             0.7,
             "#b8e186"
            ],
            [
             0.8,
             "#7fbc41"
            ],
            [
             0.9,
             "#4d9221"
            ],
            [
             1,
             "#276419"
            ]
           ],
           "sequential": [
            [
             0,
             "#0d0887"
            ],
            [
             0.1111111111111111,
             "#46039f"
            ],
            [
             0.2222222222222222,
             "#7201a8"
            ],
            [
             0.3333333333333333,
             "#9c179e"
            ],
            [
             0.4444444444444444,
             "#bd3786"
            ],
            [
             0.5555555555555556,
             "#d8576b"
            ],
            [
             0.6666666666666666,
             "#ed7953"
            ],
            [
             0.7777777777777778,
             "#fb9f3a"
            ],
            [
             0.8888888888888888,
             "#fdca26"
            ],
            [
             1,
             "#f0f921"
            ]
           ],
           "sequentialminus": [
            [
             0,
             "#0d0887"
            ],
            [
             0.1111111111111111,
             "#46039f"
            ],
            [
             0.2222222222222222,
             "#7201a8"
            ],
            [
             0.3333333333333333,
             "#9c179e"
            ],
            [
             0.4444444444444444,
             "#bd3786"
            ],
            [
             0.5555555555555556,
             "#d8576b"
            ],
            [
             0.6666666666666666,
             "#ed7953"
            ],
            [
             0.7777777777777778,
             "#fb9f3a"
            ],
            [
             0.8888888888888888,
             "#fdca26"
            ],
            [
             1,
             "#f0f921"
            ]
           ]
          },
          "colorway": [
           "#636efa",
           "#EF553B",
           "#00cc96",
           "#ab63fa",
           "#FFA15A",
           "#19d3f3",
           "#FF6692",
           "#B6E880",
           "#FF97FF",
           "#FECB52"
          ],
          "font": {
           "color": "#2a3f5f"
          },
          "geo": {
           "bgcolor": "white",
           "lakecolor": "white",
           "landcolor": "#E5ECF6",
           "showlakes": true,
           "showland": true,
           "subunitcolor": "white"
          },
          "hoverlabel": {
           "align": "left"
          },
          "hovermode": "closest",
          "mapbox": {
           "style": "light"
          },
          "paper_bgcolor": "white",
          "plot_bgcolor": "#E5ECF6",
          "polar": {
           "angularaxis": {
            "gridcolor": "white",
            "linecolor": "white",
            "ticks": ""
           },
           "bgcolor": "#E5ECF6",
           "radialaxis": {
            "gridcolor": "white",
            "linecolor": "white",
            "ticks": ""
           }
          },
          "scene": {
           "xaxis": {
            "backgroundcolor": "#E5ECF6",
            "gridcolor": "white",
            "gridwidth": 2,
            "linecolor": "white",
            "showbackground": true,
            "ticks": "",
            "zerolinecolor": "white"
           },
           "yaxis": {
            "backgroundcolor": "#E5ECF6",
            "gridcolor": "white",
            "gridwidth": 2,
            "linecolor": "white",
            "showbackground": true,
            "ticks": "",
            "zerolinecolor": "white"
           },
           "zaxis": {
            "backgroundcolor": "#E5ECF6",
            "gridcolor": "white",
            "gridwidth": 2,
            "linecolor": "white",
            "showbackground": true,
            "ticks": "",
            "zerolinecolor": "white"
           }
          },
          "shapedefaults": {
           "line": {
            "color": "#2a3f5f"
           }
          },
          "ternary": {
           "aaxis": {
            "gridcolor": "white",
            "linecolor": "white",
            "ticks": ""
           },
           "baxis": {
            "gridcolor": "white",
            "linecolor": "white",
            "ticks": ""
           },
           "bgcolor": "#E5ECF6",
           "caxis": {
            "gridcolor": "white",
            "linecolor": "white",
            "ticks": ""
           }
          },
          "title": {
           "x": 0.05
          },
          "xaxis": {
           "automargin": true,
           "gridcolor": "white",
           "linecolor": "white",
           "ticks": "",
           "title": {
            "standoff": 15
           },
           "zerolinecolor": "white",
           "zerolinewidth": 2
          },
          "yaxis": {
           "automargin": true,
           "gridcolor": "white",
           "linecolor": "white",
           "ticks": "",
           "title": {
            "standoff": 15
           },
           "zerolinecolor": "white",
           "zerolinewidth": 2
          }
         }
        },
        "title": {
         "text": "Organoheterocyclic compounds"
        },
        "width": 800,
        "xaxis": {
         "range": [
          0,
          1
         ],
         "title": {
          "text": "Score"
         }
        },
        "yaxis": {
         "title": {
          "text": "Matches"
         }
        }
       }
      },
      "text/html": [
       "<div>                            <div id=\"41959ab7-7b1b-40a0-85ec-9335324f4faf\" class=\"plotly-graph-div\" style=\"height:600px; width:800px;\"></div>            <script type=\"text/javascript\">                require([\"plotly\"], function(Plotly) {                    window.PLOTLYENV=window.PLOTLYENV || {};                                    if (document.getElementById(\"41959ab7-7b1b-40a0-85ec-9335324f4faf\")) {                    Plotly.newPlot(                        \"41959ab7-7b1b-40a0-85ec-9335324f4faf\",                        [{\"marker\":{\"cmax\":1,\"cmin\":0,\"color\":[0.25274725274725274,0.3793103448275862,0.625,0.75,0.47058823529411764,0.2727272727272727,0.4146341463414634,0.8636363636363636,0.03225806451612903,0.5333333333333333,0.44642857142857145,0.5,0.37777777777777777,0.5636363636363636,0.4461538461538462,0.28888888888888886,0.48,0.46153846153846156,0.46153846153846156,0.6666666666666666,0.6428571428571429,0.7966101694915254,0.47150259067357514,0.4222222222222222,0.22666666666666666,0.4666666666666667,0.21052631578947367,0.39285714285714285,0.3076923076923077,0.2631578947368421,0.9375,0.38461538461538464,0.35294117647058826,0.3384615384615385,0.3373493975903614,0.4594594594594595,0.23404255319148937,0.5,0.8947368421052632,0.6666666666666666,0.2857142857142857,0.45714285714285713,0.05,0.24390243902439024,0.3333333333333333,0.3898305084745763,0.4411764705882353,0.26785714285714285,0.2545454545454545,0.1076923076923077,0.048507462686567165,0.5384615384615384,0.39473684210526316,0.32,0.2,0.2653061224489796,0.5555555555555556,0.3888888888888889],\"colorbar\":{\"title\":{\"text\":\"Reference Matched %\"}},\"colorscale\":[[0.0,\"#440154\"],[0.1111111111111111,\"#482878\"],[0.2222222222222222,\"#3e4989\"],[0.3333333333333333,\"#31688e\"],[0.4444444444444444,\"#26828e\"],[0.5555555555555556,\"#1f9e89\"],[0.6666666666666666,\"#35b779\"],[0.7777777777777778,\"#6ece58\"],[0.8888888888888888,\"#b5de2b\"],[1.0,\"#fde725\"]],\"opacity\":0.5,\"size\":[5.801652892561984,5.013698630136986,4.28310502283105,3.935483870967742,5.116883116883117,6.044943820224719,6.657534246575342,7.671641791044776,6.615384615384616,8.4,8.802721088435373,10.169014084507042,7.76271186440678,5.803680981595092,5.27683615819209,5.48993288590604,5.428571428571429,6.615384615384616,6.316546762589928,11.777777777777777,10.372093023255815,8.962962962962962,9.309236947791165,11.743589743589743,11.444444444444445,5.333333333333333,13.428571428571427,8.666666666666666,7.517241379310345,5.125,3.694915254237288,6.3478260869565215,7.454545454545454,13.578947368421053,6.95575221238938,5.434343434343434,15.75,11.26829268292683,5.908045977011494,7.0,13.200000000000001,9.272727272727273,17.0,8.779661016949152,14.142857142857142,8.47887323943662,9.692307692307693,8.382978723404255,17.555555555555557,11.333333333333334,7.777777777777777,9.368421052631579,7.172413793103448,14.307692307692308,12.69767441860465,9.428571428571429,4.173913043478261,6.516129032258064]},\"mode\":\"markers+text\",\"name\":\"Matched Ions\",\"text\":[\"Bumetrizole\",\"Drometrizole\",\"2,4-Di-tert-butyl-6-(5-chloro-2H-benzotriazol-2-yl)phenol\",\"Octrizole\",\"1,2,7,9-Tetrachlorodibenzofuran\",\"1,2,7,9-Tetrachlorodibenzo-p-dioxin\",\"cis-Tetramethrin\",\"trans-Tetramethrin\",\"Chlorpyrifos oxon\",\"1,2,3,4,7,8-Hexachlorodibenzo-p-dioxin\",\"1,2,3,4,6,7,8-Heptachlorodibenzo-p-dioxin\",\"Octachlorodibenzo-p-dioxin\",\"Octachlorodibenzofuran\",\"1,2,3,7,8-Pentachlorodibenzofuran\",\"1,2,3,4,7,8-Hexachlorodibenzofuran\",\"1,2,3,4,6,7,8-Heptachlorodibenzofuran\",\"2,3,7,8-Tetrachlorodibenzofuran\",\"2,3,7,8-Tetrachlorodibenzo-p-dioxin\",\"1,2,3,7,8-Pentachlorodibenzo-p-dioxin\",\"Eucalyptol\",\"Safrole\",\"Galaxolide\",\"cis-Heptachlor epoxide\",\"Carbofuran phenol\",\"Atrazine\",\"Phosmet\",\"Praziquantel\",\"Furathiocarb\",\"Methabenzthiazuron\",\"Tebuthiuron\",\"Pyraclostrobin\",\"Bendiocarb\",\"Carbofuran\",\"Ametryn\",\"Carfentrazone-ethyl\",\"Piperonyl butoxide\",\"Prometon\",\"Secbumeton\",\"Fenazaquin\",\"Fludioxonil\",\"Terbumeton\",\"Acibenzolar-S-methyl\",\"Bupirimate\",\"Buprofezin\",\"Ethofumesate\",\"Fipronil\",\"Mefenacet\",\"Methoprotryne\",\"Prometryn\",\"Cyazofamid\",\"Ethiprole\",\"Thiabendazole\",\"Tricyclazole\",\"Simetryn\",\"Sulfentrazone\",\"Terbutryn\",\"Fluquinconazole\",\"Fuberidazole\"],\"textposition\":\"middle right\",\"x\":[266.77777256990146,763.8230354119236,336.65327734948204,459.279136577339,846.2278949688694,811.0538710571302,386.5169067296427,491.1735043103766,4.5497307462183,828.8640609774388,850.0345613094214,783.2816107919326,875.701706250824,869.638308391792,900.3751685235077,878.0335453353181,888.5581001579953,870.1172137120477,869.6184301649012,403.4852114945737,705.2344550963676,479.2146741213986,670.3885847663986,742.357048553449,473.4781831127778,656.8173952468887,66.50670962359199,427.93567383683467,297.8100578992844,83.3367618973463,272.8924526571132,102.55804430353909,154.8421227381506,815.353084805138,94.5667195810036,50.767146902799205,531.1353052434469,337.0449182302715,284.2552881045009,804.1874509650568,457.4693994954873,213.1081343362036,639.5685964565879,496.2474015045519,594.2364029366618,862.052072147914,194.0193151312568,76.7301357221437,659.7695396798161,156.1986635638219,451.055092996686,808.264544431294,867.1835699185604,878.4744046558178,630.5148286299343,387.3807064072352,124.21721707550459,909.8503190708163],\"y\":[23,11,25,12,24,18,17,19,3,48,50,58,34,31,29,26,24,24,30,22,18,47,91,19,17,7,12,22,8,5,15,5,12,22,28,17,11,19,17,16,14,16,3,20,17,23,15,15,14,7,13,14,15,16,23,13,20,7],\"type\":\"scatter\"},{\"marker\":{\"color\":\"black\",\"size\":10},\"mode\":\"markers\",\"name\":\"Size represents FractionQuery\",\"showlegend\":true,\"x\":[null],\"y\":[null],\"type\":\"scatter\"}],                        {\"template\":{\"data\":{\"histogram2dcontour\":[{\"type\":\"histogram2dcontour\",\"colorbar\":{\"outlinewidth\":0,\"ticks\":\"\"},\"colorscale\":[[0.0,\"#0d0887\"],[0.1111111111111111,\"#46039f\"],[0.2222222222222222,\"#7201a8\"],[0.3333333333333333,\"#9c179e\"],[0.4444444444444444,\"#bd3786\"],[0.5555555555555556,\"#d8576b\"],[0.6666666666666666,\"#ed7953\"],[0.7777777777777778,\"#fb9f3a\"],[0.8888888888888888,\"#fdca26\"],[1.0,\"#f0f921\"]]}],\"choropleth\":[{\"type\":\"choropleth\",\"colorbar\":{\"outlinewidth\":0,\"ticks\":\"\"}}],\"histogram2d\":[{\"type\":\"histogram2d\",\"colorbar\":{\"outlinewidth\":0,\"ticks\":\"\"},\"colorscale\":[[0.0,\"#0d0887\"],[0.1111111111111111,\"#46039f\"],[0.2222222222222222,\"#7201a8\"],[0.3333333333333333,\"#9c179e\"],[0.4444444444444444,\"#bd3786\"],[0.5555555555555556,\"#d8576b\"],[0.6666666666666666,\"#ed7953\"],[0.7777777777777778,\"#fb9f3a\"],[0.8888888888888888,\"#fdca26\"],[1.0,\"#f0f921\"]]}],\"heatmap\":[{\"type\":\"heatmap\",\"colorbar\":{\"outlinewidth\":0,\"ticks\":\"\"},\"colorscale\":[[0.0,\"#0d0887\"],[0.1111111111111111,\"#46039f\"],[0.2222222222222222,\"#7201a8\"],[0.3333333333333333,\"#9c179e\"],[0.4444444444444444,\"#bd3786\"],[0.5555555555555556,\"#d8576b\"],[0.6666666666666666,\"#ed7953\"],[0.7777777777777778,\"#fb9f3a\"],[0.8888888888888888,\"#fdca26\"],[1.0,\"#f0f921\"]]}],\"heatmapgl\":[{\"type\":\"heatmapgl\",\"colorbar\":{\"outlinewidth\":0,\"ticks\":\"\"},\"colorscale\":[[0.0,\"#0d0887\"],[0.1111111111111111,\"#46039f\"],[0.2222222222222222,\"#7201a8\"],[0.3333333333333333,\"#9c179e\"],[0.4444444444444444,\"#bd3786\"],[0.5555555555555556,\"#d8576b\"],[0.6666666666666666,\"#ed7953\"],[0.7777777777777778,\"#fb9f3a\"],[0.8888888888888888,\"#fdca26\"],[1.0,\"#f0f921\"]]}],\"contourcarpet\":[{\"type\":\"contourcarpet\",\"colorbar\":{\"outlinewidth\":0,\"ticks\":\"\"}}],\"contour\":[{\"type\":\"contour\",\"colorbar\":{\"outlinewidth\":0,\"ticks\":\"\"},\"colorscale\":[[0.0,\"#0d0887\"],[0.1111111111111111,\"#46039f\"],[0.2222222222222222,\"#7201a8\"],[0.3333333333333333,\"#9c179e\"],[0.4444444444444444,\"#bd3786\"],[0.5555555555555556,\"#d8576b\"],[0.6666666666666666,\"#ed7953\"],[0.7777777777777778,\"#fb9f3a\"],[0.8888888888888888,\"#fdca26\"],[1.0,\"#f0f921\"]]}],\"surface\":[{\"type\":\"surface\",\"colorbar\":{\"outlinewidth\":0,\"ticks\":\"\"},\"colorscale\":[[0.0,\"#0d0887\"],[0.1111111111111111,\"#46039f\"],[0.2222222222222222,\"#7201a8\"],[0.3333333333333333,\"#9c179e\"],[0.4444444444444444,\"#bd3786\"],[0.5555555555555556,\"#d8576b\"],[0.6666666666666666,\"#ed7953\"],[0.7777777777777778,\"#fb9f3a\"],[0.8888888888888888,\"#fdca26\"],[1.0,\"#f0f921\"]]}],\"mesh3d\":[{\"type\":\"mesh3d\",\"colorbar\":{\"outlinewidth\":0,\"ticks\":\"\"}}],\"scatter\":[{\"fillpattern\":{\"fillmode\":\"overlay\",\"size\":10,\"solidity\":0.2},\"type\":\"scatter\"}],\"parcoords\":[{\"type\":\"parcoords\",\"line\":{\"colorbar\":{\"outlinewidth\":0,\"ticks\":\"\"}}}],\"scatterpolargl\":[{\"type\":\"scatterpolargl\",\"marker\":{\"colorbar\":{\"outlinewidth\":0,\"ticks\":\"\"}}}],\"bar\":[{\"error_x\":{\"color\":\"#2a3f5f\"},\"error_y\":{\"color\":\"#2a3f5f\"},\"marker\":{\"line\":{\"color\":\"#E5ECF6\",\"width\":0.5},\"pattern\":{\"fillmode\":\"overlay\",\"size\":10,\"solidity\":0.2}},\"type\":\"bar\"}],\"scattergeo\":[{\"type\":\"scattergeo\",\"marker\":{\"colorbar\":{\"outlinewidth\":0,\"ticks\":\"\"}}}],\"scatterpolar\":[{\"type\":\"scatterpolar\",\"marker\":{\"colorbar\":{\"outlinewidth\":0,\"ticks\":\"\"}}}],\"histogram\":[{\"marker\":{\"pattern\":{\"fillmode\":\"overlay\",\"size\":10,\"solidity\":0.2}},\"type\":\"histogram\"}],\"scattergl\":[{\"type\":\"scattergl\",\"marker\":{\"colorbar\":{\"outlinewidth\":0,\"ticks\":\"\"}}}],\"scatter3d\":[{\"type\":\"scatter3d\",\"line\":{\"colorbar\":{\"outlinewidth\":0,\"ticks\":\"\"}},\"marker\":{\"colorbar\":{\"outlinewidth\":0,\"ticks\":\"\"}}}],\"scattermapbox\":[{\"type\":\"scattermapbox\",\"marker\":{\"colorbar\":{\"outlinewidth\":0,\"ticks\":\"\"}}}],\"scatterternary\":[{\"type\":\"scatterternary\",\"marker\":{\"colorbar\":{\"outlinewidth\":0,\"ticks\":\"\"}}}],\"scattercarpet\":[{\"type\":\"scattercarpet\",\"marker\":{\"colorbar\":{\"outlinewidth\":0,\"ticks\":\"\"}}}],\"carpet\":[{\"aaxis\":{\"endlinecolor\":\"#2a3f5f\",\"gridcolor\":\"white\",\"linecolor\":\"white\",\"minorgridcolor\":\"white\",\"startlinecolor\":\"#2a3f5f\"},\"baxis\":{\"endlinecolor\":\"#2a3f5f\",\"gridcolor\":\"white\",\"linecolor\":\"white\",\"minorgridcolor\":\"white\",\"startlinecolor\":\"#2a3f5f\"},\"type\":\"carpet\"}],\"table\":[{\"cells\":{\"fill\":{\"color\":\"#EBF0F8\"},\"line\":{\"color\":\"white\"}},\"header\":{\"fill\":{\"color\":\"#C8D4E3\"},\"line\":{\"color\":\"white\"}},\"type\":\"table\"}],\"barpolar\":[{\"marker\":{\"line\":{\"color\":\"#E5ECF6\",\"width\":0.5},\"pattern\":{\"fillmode\":\"overlay\",\"size\":10,\"solidity\":0.2}},\"type\":\"barpolar\"}],\"pie\":[{\"automargin\":true,\"type\":\"pie\"}]},\"layout\":{\"autotypenumbers\":\"strict\",\"colorway\":[\"#636efa\",\"#EF553B\",\"#00cc96\",\"#ab63fa\",\"#FFA15A\",\"#19d3f3\",\"#FF6692\",\"#B6E880\",\"#FF97FF\",\"#FECB52\"],\"font\":{\"color\":\"#2a3f5f\"},\"hovermode\":\"closest\",\"hoverlabel\":{\"align\":\"left\"},\"paper_bgcolor\":\"white\",\"plot_bgcolor\":\"#E5ECF6\",\"polar\":{\"bgcolor\":\"#E5ECF6\",\"angularaxis\":{\"gridcolor\":\"white\",\"linecolor\":\"white\",\"ticks\":\"\"},\"radialaxis\":{\"gridcolor\":\"white\",\"linecolor\":\"white\",\"ticks\":\"\"}},\"ternary\":{\"bgcolor\":\"#E5ECF6\",\"aaxis\":{\"gridcolor\":\"white\",\"linecolor\":\"white\",\"ticks\":\"\"},\"baxis\":{\"gridcolor\":\"white\",\"linecolor\":\"white\",\"ticks\":\"\"},\"caxis\":{\"gridcolor\":\"white\",\"linecolor\":\"white\",\"ticks\":\"\"}},\"coloraxis\":{\"colorbar\":{\"outlinewidth\":0,\"ticks\":\"\"}},\"colorscale\":{\"sequential\":[[0.0,\"#0d0887\"],[0.1111111111111111,\"#46039f\"],[0.2222222222222222,\"#7201a8\"],[0.3333333333333333,\"#9c179e\"],[0.4444444444444444,\"#bd3786\"],[0.5555555555555556,\"#d8576b\"],[0.6666666666666666,\"#ed7953\"],[0.7777777777777778,\"#fb9f3a\"],[0.8888888888888888,\"#fdca26\"],[1.0,\"#f0f921\"]],\"sequentialminus\":[[0.0,\"#0d0887\"],[0.1111111111111111,\"#46039f\"],[0.2222222222222222,\"#7201a8\"],[0.3333333333333333,\"#9c179e\"],[0.4444444444444444,\"#bd3786\"],[0.5555555555555556,\"#d8576b\"],[0.6666666666666666,\"#ed7953\"],[0.7777777777777778,\"#fb9f3a\"],[0.8888888888888888,\"#fdca26\"],[1.0,\"#f0f921\"]],\"diverging\":[[0,\"#8e0152\"],[0.1,\"#c51b7d\"],[0.2,\"#de77ae\"],[0.3,\"#f1b6da\"],[0.4,\"#fde0ef\"],[0.5,\"#f7f7f7\"],[0.6,\"#e6f5d0\"],[0.7,\"#b8e186\"],[0.8,\"#7fbc41\"],[0.9,\"#4d9221\"],[1,\"#276419\"]]},\"xaxis\":{\"gridcolor\":\"white\",\"linecolor\":\"white\",\"ticks\":\"\",\"title\":{\"standoff\":15},\"zerolinecolor\":\"white\",\"automargin\":true,\"zerolinewidth\":2},\"yaxis\":{\"gridcolor\":\"white\",\"linecolor\":\"white\",\"ticks\":\"\",\"title\":{\"standoff\":15},\"zerolinecolor\":\"white\",\"automargin\":true,\"zerolinewidth\":2},\"scene\":{\"xaxis\":{\"backgroundcolor\":\"#E5ECF6\",\"gridcolor\":\"white\",\"linecolor\":\"white\",\"showbackground\":true,\"ticks\":\"\",\"zerolinecolor\":\"white\",\"gridwidth\":2},\"yaxis\":{\"backgroundcolor\":\"#E5ECF6\",\"gridcolor\":\"white\",\"linecolor\":\"white\",\"showbackground\":true,\"ticks\":\"\",\"zerolinecolor\":\"white\",\"gridwidth\":2},\"zaxis\":{\"backgroundcolor\":\"#E5ECF6\",\"gridcolor\":\"white\",\"linecolor\":\"white\",\"showbackground\":true,\"ticks\":\"\",\"zerolinecolor\":\"white\",\"gridwidth\":2}},\"shapedefaults\":{\"line\":{\"color\":\"#2a3f5f\"}},\"annotationdefaults\":{\"arrowcolor\":\"#2a3f5f\",\"arrowhead\":0,\"arrowwidth\":1},\"geo\":{\"bgcolor\":\"white\",\"landcolor\":\"#E5ECF6\",\"subunitcolor\":\"white\",\"showland\":true,\"showlakes\":true,\"lakecolor\":\"white\"},\"title\":{\"x\":0.05},\"mapbox\":{\"style\":\"light\"}}},\"title\":{\"text\":\"Organoheterocyclic compounds\"},\"xaxis\":{\"title\":{\"text\":\"Score\"},\"range\":[0,1]},\"yaxis\":{\"title\":{\"text\":\"Matches\"}},\"width\":800,\"height\":600},                        {\"responsive\": true}                    ).then(function(){\n",
       "                            \n",
       "var gd = document.getElementById('41959ab7-7b1b-40a0-85ec-9335324f4faf');\n",
       "var x = new MutationObserver(function (mutations, observer) {{\n",
       "        var display = window.getComputedStyle(gd).display;\n",
       "        if (!display || display === 'none') {{\n",
       "            console.log([gd, 'removed!']);\n",
       "            Plotly.purge(gd);\n",
       "            observer.disconnect();\n",
       "        }}\n",
       "}});\n",
       "\n",
       "// Listen for the removal of the full notebook cells\n",
       "var notebookContainer = gd.closest('#notebook-container');\n",
       "if (notebookContainer) {{\n",
       "    x.observe(notebookContainer, {childList: true});\n",
       "}}\n",
       "\n",
       "// Listen for the clearing of the current output cell\n",
       "var outputEl = gd.closest('.output');\n",
       "if (outputEl) {{\n",
       "    x.observe(outputEl, {childList: true});\n",
       "}}\n",
       "\n",
       "                        })                };                });            </script>        </div>"
      ]
     },
     "metadata": {},
     "output_type": "display_data"
    },
    {
     "data": {
      "application/vnd.plotly.v1+json": {
       "config": {
        "plotlyServerURL": "https://plot.ly"
       },
       "data": [
        {
         "marker": {
          "cmax": 1,
          "cmin": 0,
          "color": [
           0.54,
           0.7333333333333333,
           0.0425531914893617,
           0.65,
           0.7241379310344828,
           0.5555555555555556,
           0.9,
           0.5454545454545454,
           0.17333333333333334,
           0.20689655172413793,
           0.3488372093023256,
           0
          ],
          "colorbar": {
           "title": {
            "text": "Reference Matched %"
           }
          },
          "colorscale": [
           [
            0,
            "#440154"
           ],
           [
            0.1111111111111111,
            "#482878"
           ],
           [
            0.2222222222222222,
            "#3e4989"
           ],
           [
            0.3333333333333333,
            "#31688e"
           ],
           [
            0.4444444444444444,
            "#26828e"
           ],
           [
            0.5555555555555556,
            "#1f9e89"
           ],
           [
            0.6666666666666666,
            "#35b779"
           ],
           [
            0.7777777777777778,
            "#6ece58"
           ],
           [
            0.8888888888888888,
            "#b5de2b"
           ],
           [
            1,
            "#fde725"
           ]
          ],
          "opacity": 0.5,
          "size": [
           9.826086956521738,
           10.8,
           10,
           9.123287671232877,
           12.769230769230768,
           13.764705882352942,
           6.7368421052631575,
           8.233766233766234,
           4.113821138211382,
           8.857142857142858,
           7.172413793103448,
           2
          ]
         },
         "mode": "markers+text",
         "name": "Matched Ions",
         "text": [
          "alpha-Amylcinnamaldehyde",
          "trans-Cinnamaldehyde",
          "alpha-Hexylcinnamaldehyde",
          "alpha-Amylcinnamyl alcohol",
          "Cinnamyl alcohol",
          "Benzyl cinnamate",
          "Coumarin",
          "1,2-Benzanthraquinone",
          "Rotenone",
          "Diniconazole",
          "Epoxiconazole",
          "Chlorferone"
         ],
         "textposition": "middle right",
         "type": "scatter",
         "x": [
          229.91047301306511,
          374.9226886258283,
          31.7479555209143,
          187.1523527940859,
          242.80553685730462,
          631.0434772708114,
          641.0080875282068,
          721.2182573233509,
          513.0387366298046,
          355.2860479671341,
          118.7146558567485,
          0
         ],
         "y": [
          27,
          11,
          2,
          26,
          21,
          20,
          9,
          24,
          13,
          12,
          30,
          0
         ]
        },
        {
         "marker": {
          "color": "black",
          "size": 10
         },
         "mode": "markers",
         "name": "Size represents FractionQuery",
         "showlegend": true,
         "type": "scatter",
         "x": [
          null
         ],
         "y": [
          null
         ]
        }
       ],
       "layout": {
        "height": 600,
        "template": {
         "data": {
          "bar": [
           {
            "error_x": {
             "color": "#2a3f5f"
            },
            "error_y": {
             "color": "#2a3f5f"
            },
            "marker": {
             "line": {
              "color": "#E5ECF6",
              "width": 0.5
             },
             "pattern": {
              "fillmode": "overlay",
              "size": 10,
              "solidity": 0.2
             }
            },
            "type": "bar"
           }
          ],
          "barpolar": [
           {
            "marker": {
             "line": {
              "color": "#E5ECF6",
              "width": 0.5
             },
             "pattern": {
              "fillmode": "overlay",
              "size": 10,
              "solidity": 0.2
             }
            },
            "type": "barpolar"
           }
          ],
          "carpet": [
           {
            "aaxis": {
             "endlinecolor": "#2a3f5f",
             "gridcolor": "white",
             "linecolor": "white",
             "minorgridcolor": "white",
             "startlinecolor": "#2a3f5f"
            },
            "baxis": {
             "endlinecolor": "#2a3f5f",
             "gridcolor": "white",
             "linecolor": "white",
             "minorgridcolor": "white",
             "startlinecolor": "#2a3f5f"
            },
            "type": "carpet"
           }
          ],
          "choropleth": [
           {
            "colorbar": {
             "outlinewidth": 0,
             "ticks": ""
            },
            "type": "choropleth"
           }
          ],
          "contour": [
           {
            "colorbar": {
             "outlinewidth": 0,
             "ticks": ""
            },
            "colorscale": [
             [
              0,
              "#0d0887"
             ],
             [
              0.1111111111111111,
              "#46039f"
             ],
             [
              0.2222222222222222,
              "#7201a8"
             ],
             [
              0.3333333333333333,
              "#9c179e"
             ],
             [
              0.4444444444444444,
              "#bd3786"
             ],
             [
              0.5555555555555556,
              "#d8576b"
             ],
             [
              0.6666666666666666,
              "#ed7953"
             ],
             [
              0.7777777777777778,
              "#fb9f3a"
             ],
             [
              0.8888888888888888,
              "#fdca26"
             ],
             [
              1,
              "#f0f921"
             ]
            ],
            "type": "contour"
           }
          ],
          "contourcarpet": [
           {
            "colorbar": {
             "outlinewidth": 0,
             "ticks": ""
            },
            "type": "contourcarpet"
           }
          ],
          "heatmap": [
           {
            "colorbar": {
             "outlinewidth": 0,
             "ticks": ""
            },
            "colorscale": [
             [
              0,
              "#0d0887"
             ],
             [
              0.1111111111111111,
              "#46039f"
             ],
             [
              0.2222222222222222,
              "#7201a8"
             ],
             [
              0.3333333333333333,
              "#9c179e"
             ],
             [
              0.4444444444444444,
              "#bd3786"
             ],
             [
              0.5555555555555556,
              "#d8576b"
             ],
             [
              0.6666666666666666,
              "#ed7953"
             ],
             [
              0.7777777777777778,
              "#fb9f3a"
             ],
             [
              0.8888888888888888,
              "#fdca26"
             ],
             [
              1,
              "#f0f921"
             ]
            ],
            "type": "heatmap"
           }
          ],
          "heatmapgl": [
           {
            "colorbar": {
             "outlinewidth": 0,
             "ticks": ""
            },
            "colorscale": [
             [
              0,
              "#0d0887"
             ],
             [
              0.1111111111111111,
              "#46039f"
             ],
             [
              0.2222222222222222,
              "#7201a8"
             ],
             [
              0.3333333333333333,
              "#9c179e"
             ],
             [
              0.4444444444444444,
              "#bd3786"
             ],
             [
              0.5555555555555556,
              "#d8576b"
             ],
             [
              0.6666666666666666,
              "#ed7953"
             ],
             [
              0.7777777777777778,
              "#fb9f3a"
             ],
             [
              0.8888888888888888,
              "#fdca26"
             ],
             [
              1,
              "#f0f921"
             ]
            ],
            "type": "heatmapgl"
           }
          ],
          "histogram": [
           {
            "marker": {
             "pattern": {
              "fillmode": "overlay",
              "size": 10,
              "solidity": 0.2
             }
            },
            "type": "histogram"
           }
          ],
          "histogram2d": [
           {
            "colorbar": {
             "outlinewidth": 0,
             "ticks": ""
            },
            "colorscale": [
             [
              0,
              "#0d0887"
             ],
             [
              0.1111111111111111,
              "#46039f"
             ],
             [
              0.2222222222222222,
              "#7201a8"
             ],
             [
              0.3333333333333333,
              "#9c179e"
             ],
             [
              0.4444444444444444,
              "#bd3786"
             ],
             [
              0.5555555555555556,
              "#d8576b"
             ],
             [
              0.6666666666666666,
              "#ed7953"
             ],
             [
              0.7777777777777778,
              "#fb9f3a"
             ],
             [
              0.8888888888888888,
              "#fdca26"
             ],
             [
              1,
              "#f0f921"
             ]
            ],
            "type": "histogram2d"
           }
          ],
          "histogram2dcontour": [
           {
            "colorbar": {
             "outlinewidth": 0,
             "ticks": ""
            },
            "colorscale": [
             [
              0,
              "#0d0887"
             ],
             [
              0.1111111111111111,
              "#46039f"
             ],
             [
              0.2222222222222222,
              "#7201a8"
             ],
             [
              0.3333333333333333,
              "#9c179e"
             ],
             [
              0.4444444444444444,
              "#bd3786"
             ],
             [
              0.5555555555555556,
              "#d8576b"
             ],
             [
              0.6666666666666666,
              "#ed7953"
             ],
             [
              0.7777777777777778,
              "#fb9f3a"
             ],
             [
              0.8888888888888888,
              "#fdca26"
             ],
             [
              1,
              "#f0f921"
             ]
            ],
            "type": "histogram2dcontour"
           }
          ],
          "mesh3d": [
           {
            "colorbar": {
             "outlinewidth": 0,
             "ticks": ""
            },
            "type": "mesh3d"
           }
          ],
          "parcoords": [
           {
            "line": {
             "colorbar": {
              "outlinewidth": 0,
              "ticks": ""
             }
            },
            "type": "parcoords"
           }
          ],
          "pie": [
           {
            "automargin": true,
            "type": "pie"
           }
          ],
          "scatter": [
           {
            "fillpattern": {
             "fillmode": "overlay",
             "size": 10,
             "solidity": 0.2
            },
            "type": "scatter"
           }
          ],
          "scatter3d": [
           {
            "line": {
             "colorbar": {
              "outlinewidth": 0,
              "ticks": ""
             }
            },
            "marker": {
             "colorbar": {
              "outlinewidth": 0,
              "ticks": ""
             }
            },
            "type": "scatter3d"
           }
          ],
          "scattercarpet": [
           {
            "marker": {
             "colorbar": {
              "outlinewidth": 0,
              "ticks": ""
             }
            },
            "type": "scattercarpet"
           }
          ],
          "scattergeo": [
           {
            "marker": {
             "colorbar": {
              "outlinewidth": 0,
              "ticks": ""
             }
            },
            "type": "scattergeo"
           }
          ],
          "scattergl": [
           {
            "marker": {
             "colorbar": {
              "outlinewidth": 0,
              "ticks": ""
             }
            },
            "type": "scattergl"
           }
          ],
          "scattermapbox": [
           {
            "marker": {
             "colorbar": {
              "outlinewidth": 0,
              "ticks": ""
             }
            },
            "type": "scattermapbox"
           }
          ],
          "scatterpolar": [
           {
            "marker": {
             "colorbar": {
              "outlinewidth": 0,
              "ticks": ""
             }
            },
            "type": "scatterpolar"
           }
          ],
          "scatterpolargl": [
           {
            "marker": {
             "colorbar": {
              "outlinewidth": 0,
              "ticks": ""
             }
            },
            "type": "scatterpolargl"
           }
          ],
          "scatterternary": [
           {
            "marker": {
             "colorbar": {
              "outlinewidth": 0,
              "ticks": ""
             }
            },
            "type": "scatterternary"
           }
          ],
          "surface": [
           {
            "colorbar": {
             "outlinewidth": 0,
             "ticks": ""
            },
            "colorscale": [
             [
              0,
              "#0d0887"
             ],
             [
              0.1111111111111111,
              "#46039f"
             ],
             [
              0.2222222222222222,
              "#7201a8"
             ],
             [
              0.3333333333333333,
              "#9c179e"
             ],
             [
              0.4444444444444444,
              "#bd3786"
             ],
             [
              0.5555555555555556,
              "#d8576b"
             ],
             [
              0.6666666666666666,
              "#ed7953"
             ],
             [
              0.7777777777777778,
              "#fb9f3a"
             ],
             [
              0.8888888888888888,
              "#fdca26"
             ],
             [
              1,
              "#f0f921"
             ]
            ],
            "type": "surface"
           }
          ],
          "table": [
           {
            "cells": {
             "fill": {
              "color": "#EBF0F8"
             },
             "line": {
              "color": "white"
             }
            },
            "header": {
             "fill": {
              "color": "#C8D4E3"
             },
             "line": {
              "color": "white"
             }
            },
            "type": "table"
           }
          ]
         },
         "layout": {
          "annotationdefaults": {
           "arrowcolor": "#2a3f5f",
           "arrowhead": 0,
           "arrowwidth": 1
          },
          "autotypenumbers": "strict",
          "coloraxis": {
           "colorbar": {
            "outlinewidth": 0,
            "ticks": ""
           }
          },
          "colorscale": {
           "diverging": [
            [
             0,
             "#8e0152"
            ],
            [
             0.1,
             "#c51b7d"
            ],
            [
             0.2,
             "#de77ae"
            ],
            [
             0.3,
             "#f1b6da"
            ],
            [
             0.4,
             "#fde0ef"
            ],
            [
             0.5,
             "#f7f7f7"
            ],
            [
             0.6,
             "#e6f5d0"
            ],
            [
             0.7,
             "#b8e186"
            ],
            [
             0.8,
             "#7fbc41"
            ],
            [
             0.9,
             "#4d9221"
            ],
            [
             1,
             "#276419"
            ]
           ],
           "sequential": [
            [
             0,
             "#0d0887"
            ],
            [
             0.1111111111111111,
             "#46039f"
            ],
            [
             0.2222222222222222,
             "#7201a8"
            ],
            [
             0.3333333333333333,
             "#9c179e"
            ],
            [
             0.4444444444444444,
             "#bd3786"
            ],
            [
             0.5555555555555556,
             "#d8576b"
            ],
            [
             0.6666666666666666,
             "#ed7953"
            ],
            [
             0.7777777777777778,
             "#fb9f3a"
            ],
            [
             0.8888888888888888,
             "#fdca26"
            ],
            [
             1,
             "#f0f921"
            ]
           ],
           "sequentialminus": [
            [
             0,
             "#0d0887"
            ],
            [
             0.1111111111111111,
             "#46039f"
            ],
            [
             0.2222222222222222,
             "#7201a8"
            ],
            [
             0.3333333333333333,
             "#9c179e"
            ],
            [
             0.4444444444444444,
             "#bd3786"
            ],
            [
             0.5555555555555556,
             "#d8576b"
            ],
            [
             0.6666666666666666,
             "#ed7953"
            ],
            [
             0.7777777777777778,
             "#fb9f3a"
            ],
            [
             0.8888888888888888,
             "#fdca26"
            ],
            [
             1,
             "#f0f921"
            ]
           ]
          },
          "colorway": [
           "#636efa",
           "#EF553B",
           "#00cc96",
           "#ab63fa",
           "#FFA15A",
           "#19d3f3",
           "#FF6692",
           "#B6E880",
           "#FF97FF",
           "#FECB52"
          ],
          "font": {
           "color": "#2a3f5f"
          },
          "geo": {
           "bgcolor": "white",
           "lakecolor": "white",
           "landcolor": "#E5ECF6",
           "showlakes": true,
           "showland": true,
           "subunitcolor": "white"
          },
          "hoverlabel": {
           "align": "left"
          },
          "hovermode": "closest",
          "mapbox": {
           "style": "light"
          },
          "paper_bgcolor": "white",
          "plot_bgcolor": "#E5ECF6",
          "polar": {
           "angularaxis": {
            "gridcolor": "white",
            "linecolor": "white",
            "ticks": ""
           },
           "bgcolor": "#E5ECF6",
           "radialaxis": {
            "gridcolor": "white",
            "linecolor": "white",
            "ticks": ""
           }
          },
          "scene": {
           "xaxis": {
            "backgroundcolor": "#E5ECF6",
            "gridcolor": "white",
            "gridwidth": 2,
            "linecolor": "white",
            "showbackground": true,
            "ticks": "",
            "zerolinecolor": "white"
           },
           "yaxis": {
            "backgroundcolor": "#E5ECF6",
            "gridcolor": "white",
            "gridwidth": 2,
            "linecolor": "white",
            "showbackground": true,
            "ticks": "",
            "zerolinecolor": "white"
           },
           "zaxis": {
            "backgroundcolor": "#E5ECF6",
            "gridcolor": "white",
            "gridwidth": 2,
            "linecolor": "white",
            "showbackground": true,
            "ticks": "",
            "zerolinecolor": "white"
           }
          },
          "shapedefaults": {
           "line": {
            "color": "#2a3f5f"
           }
          },
          "ternary": {
           "aaxis": {
            "gridcolor": "white",
            "linecolor": "white",
            "ticks": ""
           },
           "baxis": {
            "gridcolor": "white",
            "linecolor": "white",
            "ticks": ""
           },
           "bgcolor": "#E5ECF6",
           "caxis": {
            "gridcolor": "white",
            "linecolor": "white",
            "ticks": ""
           }
          },
          "title": {
           "x": 0.05
          },
          "xaxis": {
           "automargin": true,
           "gridcolor": "white",
           "linecolor": "white",
           "ticks": "",
           "title": {
            "standoff": 15
           },
           "zerolinecolor": "white",
           "zerolinewidth": 2
          },
          "yaxis": {
           "automargin": true,
           "gridcolor": "white",
           "linecolor": "white",
           "ticks": "",
           "title": {
            "standoff": 15
           },
           "zerolinecolor": "white",
           "zerolinewidth": 2
          }
         }
        },
        "title": {
         "text": "Phenylpropanoids and polyketides"
        },
        "width": 800,
        "xaxis": {
         "range": [
          0,
          1
         ],
         "title": {
          "text": "Score"
         }
        },
        "yaxis": {
         "title": {
          "text": "Matches"
         }
        }
       }
      },
      "text/html": [
       "<div>                            <div id=\"55d3852d-a2df-42d4-8d0a-1bc2af30692b\" class=\"plotly-graph-div\" style=\"height:600px; width:800px;\"></div>            <script type=\"text/javascript\">                require([\"plotly\"], function(Plotly) {                    window.PLOTLYENV=window.PLOTLYENV || {};                                    if (document.getElementById(\"55d3852d-a2df-42d4-8d0a-1bc2af30692b\")) {                    Plotly.newPlot(                        \"55d3852d-a2df-42d4-8d0a-1bc2af30692b\",                        [{\"marker\":{\"cmax\":1,\"cmin\":0,\"color\":[0.54,0.7333333333333333,0.0425531914893617,0.65,0.7241379310344828,0.5555555555555556,0.9,0.5454545454545454,0.17333333333333334,0.20689655172413793,0.3488372093023256,0.0],\"colorbar\":{\"title\":{\"text\":\"Reference Matched %\"}},\"colorscale\":[[0.0,\"#440154\"],[0.1111111111111111,\"#482878\"],[0.2222222222222222,\"#3e4989\"],[0.3333333333333333,\"#31688e\"],[0.4444444444444444,\"#26828e\"],[0.5555555555555556,\"#1f9e89\"],[0.6666666666666666,\"#35b779\"],[0.7777777777777778,\"#6ece58\"],[0.8888888888888888,\"#b5de2b\"],[1.0,\"#fde725\"]],\"opacity\":0.5,\"size\":[9.826086956521738,10.8,10.0,9.123287671232877,12.769230769230768,13.764705882352942,6.7368421052631575,8.233766233766234,4.113821138211382,8.857142857142858,7.172413793103448,2.0]},\"mode\":\"markers+text\",\"name\":\"Matched Ions\",\"text\":[\"alpha-Amylcinnamaldehyde\",\"trans-Cinnamaldehyde\",\"alpha-Hexylcinnamaldehyde\",\"alpha-Amylcinnamyl alcohol\",\"Cinnamyl alcohol\",\"Benzyl cinnamate\",\"Coumarin\",\"1,2-Benzanthraquinone\",\"Rotenone\",\"Diniconazole\",\"Epoxiconazole\",\"Chlorferone\"],\"textposition\":\"middle right\",\"x\":[229.91047301306511,374.9226886258283,31.7479555209143,187.1523527940859,242.80553685730462,631.0434772708114,641.0080875282068,721.2182573233509,513.0387366298046,355.2860479671341,118.7146558567485,0.0],\"y\":[27,11,2,26,21,20,9,24,13,12,30,0],\"type\":\"scatter\"},{\"marker\":{\"color\":\"black\",\"size\":10},\"mode\":\"markers\",\"name\":\"Size represents FractionQuery\",\"showlegend\":true,\"x\":[null],\"y\":[null],\"type\":\"scatter\"}],                        {\"template\":{\"data\":{\"histogram2dcontour\":[{\"type\":\"histogram2dcontour\",\"colorbar\":{\"outlinewidth\":0,\"ticks\":\"\"},\"colorscale\":[[0.0,\"#0d0887\"],[0.1111111111111111,\"#46039f\"],[0.2222222222222222,\"#7201a8\"],[0.3333333333333333,\"#9c179e\"],[0.4444444444444444,\"#bd3786\"],[0.5555555555555556,\"#d8576b\"],[0.6666666666666666,\"#ed7953\"],[0.7777777777777778,\"#fb9f3a\"],[0.8888888888888888,\"#fdca26\"],[1.0,\"#f0f921\"]]}],\"choropleth\":[{\"type\":\"choropleth\",\"colorbar\":{\"outlinewidth\":0,\"ticks\":\"\"}}],\"histogram2d\":[{\"type\":\"histogram2d\",\"colorbar\":{\"outlinewidth\":0,\"ticks\":\"\"},\"colorscale\":[[0.0,\"#0d0887\"],[0.1111111111111111,\"#46039f\"],[0.2222222222222222,\"#7201a8\"],[0.3333333333333333,\"#9c179e\"],[0.4444444444444444,\"#bd3786\"],[0.5555555555555556,\"#d8576b\"],[0.6666666666666666,\"#ed7953\"],[0.7777777777777778,\"#fb9f3a\"],[0.8888888888888888,\"#fdca26\"],[1.0,\"#f0f921\"]]}],\"heatmap\":[{\"type\":\"heatmap\",\"colorbar\":{\"outlinewidth\":0,\"ticks\":\"\"},\"colorscale\":[[0.0,\"#0d0887\"],[0.1111111111111111,\"#46039f\"],[0.2222222222222222,\"#7201a8\"],[0.3333333333333333,\"#9c179e\"],[0.4444444444444444,\"#bd3786\"],[0.5555555555555556,\"#d8576b\"],[0.6666666666666666,\"#ed7953\"],[0.7777777777777778,\"#fb9f3a\"],[0.8888888888888888,\"#fdca26\"],[1.0,\"#f0f921\"]]}],\"heatmapgl\":[{\"type\":\"heatmapgl\",\"colorbar\":{\"outlinewidth\":0,\"ticks\":\"\"},\"colorscale\":[[0.0,\"#0d0887\"],[0.1111111111111111,\"#46039f\"],[0.2222222222222222,\"#7201a8\"],[0.3333333333333333,\"#9c179e\"],[0.4444444444444444,\"#bd3786\"],[0.5555555555555556,\"#d8576b\"],[0.6666666666666666,\"#ed7953\"],[0.7777777777777778,\"#fb9f3a\"],[0.8888888888888888,\"#fdca26\"],[1.0,\"#f0f921\"]]}],\"contourcarpet\":[{\"type\":\"contourcarpet\",\"colorbar\":{\"outlinewidth\":0,\"ticks\":\"\"}}],\"contour\":[{\"type\":\"contour\",\"colorbar\":{\"outlinewidth\":0,\"ticks\":\"\"},\"colorscale\":[[0.0,\"#0d0887\"],[0.1111111111111111,\"#46039f\"],[0.2222222222222222,\"#7201a8\"],[0.3333333333333333,\"#9c179e\"],[0.4444444444444444,\"#bd3786\"],[0.5555555555555556,\"#d8576b\"],[0.6666666666666666,\"#ed7953\"],[0.7777777777777778,\"#fb9f3a\"],[0.8888888888888888,\"#fdca26\"],[1.0,\"#f0f921\"]]}],\"surface\":[{\"type\":\"surface\",\"colorbar\":{\"outlinewidth\":0,\"ticks\":\"\"},\"colorscale\":[[0.0,\"#0d0887\"],[0.1111111111111111,\"#46039f\"],[0.2222222222222222,\"#7201a8\"],[0.3333333333333333,\"#9c179e\"],[0.4444444444444444,\"#bd3786\"],[0.5555555555555556,\"#d8576b\"],[0.6666666666666666,\"#ed7953\"],[0.7777777777777778,\"#fb9f3a\"],[0.8888888888888888,\"#fdca26\"],[1.0,\"#f0f921\"]]}],\"mesh3d\":[{\"type\":\"mesh3d\",\"colorbar\":{\"outlinewidth\":0,\"ticks\":\"\"}}],\"scatter\":[{\"fillpattern\":{\"fillmode\":\"overlay\",\"size\":10,\"solidity\":0.2},\"type\":\"scatter\"}],\"parcoords\":[{\"type\":\"parcoords\",\"line\":{\"colorbar\":{\"outlinewidth\":0,\"ticks\":\"\"}}}],\"scatterpolargl\":[{\"type\":\"scatterpolargl\",\"marker\":{\"colorbar\":{\"outlinewidth\":0,\"ticks\":\"\"}}}],\"bar\":[{\"error_x\":{\"color\":\"#2a3f5f\"},\"error_y\":{\"color\":\"#2a3f5f\"},\"marker\":{\"line\":{\"color\":\"#E5ECF6\",\"width\":0.5},\"pattern\":{\"fillmode\":\"overlay\",\"size\":10,\"solidity\":0.2}},\"type\":\"bar\"}],\"scattergeo\":[{\"type\":\"scattergeo\",\"marker\":{\"colorbar\":{\"outlinewidth\":0,\"ticks\":\"\"}}}],\"scatterpolar\":[{\"type\":\"scatterpolar\",\"marker\":{\"colorbar\":{\"outlinewidth\":0,\"ticks\":\"\"}}}],\"histogram\":[{\"marker\":{\"pattern\":{\"fillmode\":\"overlay\",\"size\":10,\"solidity\":0.2}},\"type\":\"histogram\"}],\"scattergl\":[{\"type\":\"scattergl\",\"marker\":{\"colorbar\":{\"outlinewidth\":0,\"ticks\":\"\"}}}],\"scatter3d\":[{\"type\":\"scatter3d\",\"line\":{\"colorbar\":{\"outlinewidth\":0,\"ticks\":\"\"}},\"marker\":{\"colorbar\":{\"outlinewidth\":0,\"ticks\":\"\"}}}],\"scattermapbox\":[{\"type\":\"scattermapbox\",\"marker\":{\"colorbar\":{\"outlinewidth\":0,\"ticks\":\"\"}}}],\"scatterternary\":[{\"type\":\"scatterternary\",\"marker\":{\"colorbar\":{\"outlinewidth\":0,\"ticks\":\"\"}}}],\"scattercarpet\":[{\"type\":\"scattercarpet\",\"marker\":{\"colorbar\":{\"outlinewidth\":0,\"ticks\":\"\"}}}],\"carpet\":[{\"aaxis\":{\"endlinecolor\":\"#2a3f5f\",\"gridcolor\":\"white\",\"linecolor\":\"white\",\"minorgridcolor\":\"white\",\"startlinecolor\":\"#2a3f5f\"},\"baxis\":{\"endlinecolor\":\"#2a3f5f\",\"gridcolor\":\"white\",\"linecolor\":\"white\",\"minorgridcolor\":\"white\",\"startlinecolor\":\"#2a3f5f\"},\"type\":\"carpet\"}],\"table\":[{\"cells\":{\"fill\":{\"color\":\"#EBF0F8\"},\"line\":{\"color\":\"white\"}},\"header\":{\"fill\":{\"color\":\"#C8D4E3\"},\"line\":{\"color\":\"white\"}},\"type\":\"table\"}],\"barpolar\":[{\"marker\":{\"line\":{\"color\":\"#E5ECF6\",\"width\":0.5},\"pattern\":{\"fillmode\":\"overlay\",\"size\":10,\"solidity\":0.2}},\"type\":\"barpolar\"}],\"pie\":[{\"automargin\":true,\"type\":\"pie\"}]},\"layout\":{\"autotypenumbers\":\"strict\",\"colorway\":[\"#636efa\",\"#EF553B\",\"#00cc96\",\"#ab63fa\",\"#FFA15A\",\"#19d3f3\",\"#FF6692\",\"#B6E880\",\"#FF97FF\",\"#FECB52\"],\"font\":{\"color\":\"#2a3f5f\"},\"hovermode\":\"closest\",\"hoverlabel\":{\"align\":\"left\"},\"paper_bgcolor\":\"white\",\"plot_bgcolor\":\"#E5ECF6\",\"polar\":{\"bgcolor\":\"#E5ECF6\",\"angularaxis\":{\"gridcolor\":\"white\",\"linecolor\":\"white\",\"ticks\":\"\"},\"radialaxis\":{\"gridcolor\":\"white\",\"linecolor\":\"white\",\"ticks\":\"\"}},\"ternary\":{\"bgcolor\":\"#E5ECF6\",\"aaxis\":{\"gridcolor\":\"white\",\"linecolor\":\"white\",\"ticks\":\"\"},\"baxis\":{\"gridcolor\":\"white\",\"linecolor\":\"white\",\"ticks\":\"\"},\"caxis\":{\"gridcolor\":\"white\",\"linecolor\":\"white\",\"ticks\":\"\"}},\"coloraxis\":{\"colorbar\":{\"outlinewidth\":0,\"ticks\":\"\"}},\"colorscale\":{\"sequential\":[[0.0,\"#0d0887\"],[0.1111111111111111,\"#46039f\"],[0.2222222222222222,\"#7201a8\"],[0.3333333333333333,\"#9c179e\"],[0.4444444444444444,\"#bd3786\"],[0.5555555555555556,\"#d8576b\"],[0.6666666666666666,\"#ed7953\"],[0.7777777777777778,\"#fb9f3a\"],[0.8888888888888888,\"#fdca26\"],[1.0,\"#f0f921\"]],\"sequentialminus\":[[0.0,\"#0d0887\"],[0.1111111111111111,\"#46039f\"],[0.2222222222222222,\"#7201a8\"],[0.3333333333333333,\"#9c179e\"],[0.4444444444444444,\"#bd3786\"],[0.5555555555555556,\"#d8576b\"],[0.6666666666666666,\"#ed7953\"],[0.7777777777777778,\"#fb9f3a\"],[0.8888888888888888,\"#fdca26\"],[1.0,\"#f0f921\"]],\"diverging\":[[0,\"#8e0152\"],[0.1,\"#c51b7d\"],[0.2,\"#de77ae\"],[0.3,\"#f1b6da\"],[0.4,\"#fde0ef\"],[0.5,\"#f7f7f7\"],[0.6,\"#e6f5d0\"],[0.7,\"#b8e186\"],[0.8,\"#7fbc41\"],[0.9,\"#4d9221\"],[1,\"#276419\"]]},\"xaxis\":{\"gridcolor\":\"white\",\"linecolor\":\"white\",\"ticks\":\"\",\"title\":{\"standoff\":15},\"zerolinecolor\":\"white\",\"automargin\":true,\"zerolinewidth\":2},\"yaxis\":{\"gridcolor\":\"white\",\"linecolor\":\"white\",\"ticks\":\"\",\"title\":{\"standoff\":15},\"zerolinecolor\":\"white\",\"automargin\":true,\"zerolinewidth\":2},\"scene\":{\"xaxis\":{\"backgroundcolor\":\"#E5ECF6\",\"gridcolor\":\"white\",\"linecolor\":\"white\",\"showbackground\":true,\"ticks\":\"\",\"zerolinecolor\":\"white\",\"gridwidth\":2},\"yaxis\":{\"backgroundcolor\":\"#E5ECF6\",\"gridcolor\":\"white\",\"linecolor\":\"white\",\"showbackground\":true,\"ticks\":\"\",\"zerolinecolor\":\"white\",\"gridwidth\":2},\"zaxis\":{\"backgroundcolor\":\"#E5ECF6\",\"gridcolor\":\"white\",\"linecolor\":\"white\",\"showbackground\":true,\"ticks\":\"\",\"zerolinecolor\":\"white\",\"gridwidth\":2}},\"shapedefaults\":{\"line\":{\"color\":\"#2a3f5f\"}},\"annotationdefaults\":{\"arrowcolor\":\"#2a3f5f\",\"arrowhead\":0,\"arrowwidth\":1},\"geo\":{\"bgcolor\":\"white\",\"landcolor\":\"#E5ECF6\",\"subunitcolor\":\"white\",\"showland\":true,\"showlakes\":true,\"lakecolor\":\"white\"},\"title\":{\"x\":0.05},\"mapbox\":{\"style\":\"light\"}}},\"title\":{\"text\":\"Phenylpropanoids and polyketides\"},\"xaxis\":{\"title\":{\"text\":\"Score\"},\"range\":[0,1]},\"yaxis\":{\"title\":{\"text\":\"Matches\"}},\"width\":800,\"height\":600},                        {\"responsive\": true}                    ).then(function(){\n",
       "                            \n",
       "var gd = document.getElementById('55d3852d-a2df-42d4-8d0a-1bc2af30692b');\n",
       "var x = new MutationObserver(function (mutations, observer) {{\n",
       "        var display = window.getComputedStyle(gd).display;\n",
       "        if (!display || display === 'none') {{\n",
       "            console.log([gd, 'removed!']);\n",
       "            Plotly.purge(gd);\n",
       "            observer.disconnect();\n",
       "        }}\n",
       "}});\n",
       "\n",
       "// Listen for the removal of the full notebook cells\n",
       "var notebookContainer = gd.closest('#notebook-container');\n",
       "if (notebookContainer) {{\n",
       "    x.observe(notebookContainer, {childList: true});\n",
       "}}\n",
       "\n",
       "// Listen for the clearing of the current output cell\n",
       "var outputEl = gd.closest('.output');\n",
       "if (outputEl) {{\n",
       "    x.observe(outputEl, {childList: true});\n",
       "}}\n",
       "\n",
       "                        })                };                });            </script>        </div>"
      ]
     },
     "metadata": {},
     "output_type": "display_data"
    }
   ],
   "source": [
    "grouped_df = merged.groupby('superclass')\n",
    "for group in grouped_df.groups:\n",
    "    subset = grouped_df.get_group(group)\n",
    "    if subset.shape[0] > 10:\n",
    "        scatterplot_plotly_with_legends(grouped_df.get_group(group), group).write_image(f\"scatterplot_{group}.png\")"
   ]
  },
  {
   "cell_type": "code",
   "execution_count": 8,
   "metadata": {},
   "outputs": [
    {
     "data": {
      "application/vnd.plotly.v1+json": {
       "config": {
        "plotlyServerURL": "https://plot.ly"
       },
       "data": [
        {
         "marker": {
          "cmax": 1,
          "cmin": 0,
          "color": [
           0.25274725274725274,
           0.3793103448275862,
           0.625,
           0.75,
           0.2631578947368421,
           0.9375,
           0.3373493975903614,
           0.3898305084745763,
           0.1076923076923077,
           0.048507462686567165,
           0.2
          ],
          "colorbar": {
           "title": {
            "text": "Reference Matched %"
           }
          },
          "colorscale": [
           [
            0,
            "#440154"
           ],
           [
            0.1111111111111111,
            "#482878"
           ],
           [
            0.2222222222222222,
            "#3e4989"
           ],
           [
            0.3333333333333333,
            "#31688e"
           ],
           [
            0.4444444444444444,
            "#26828e"
           ],
           [
            0.5555555555555556,
            "#1f9e89"
           ],
           [
            0.6666666666666666,
            "#35b779"
           ],
           [
            0.7777777777777778,
            "#6ece58"
           ],
           [
            0.8888888888888888,
            "#b5de2b"
           ],
           [
            1,
            "#fde725"
           ]
          ],
          "opacity": 0.5,
          "size": [
           5.801652892561984,
           5.013698630136986,
           4.28310502283105,
           3.935483870967742,
           5.125,
           3.694915254237288,
           6.95575221238938,
           8.47887323943662,
           11.333333333333334,
           7.777777777777777,
           12.69767441860465
          ]
         },
         "mode": "markers+text",
         "name": "Matched Ions",
         "text": [
          "Bumetrizole",
          "Drometrizole",
          "2,4-Di-tert-butyl-6-(5-chloro-2H-benzotriazol-2-yl)phenol",
          "Octrizole",
          "Tebuthiuron",
          "Pyraclostrobin",
          "Carfentrazone-ethyl",
          "Fipronil",
          "Cyazofamid",
          "Ethiprole",
          "Sulfentrazone"
         ],
         "textposition": "middle right",
         "type": "scatter",
         "x": [
          0.2667777725699015,
          0.7638230354119235,
          0.336653277349482,
          0.459279136577339,
          0.0833367618973463,
          0.2728924526571132,
          0.0945667195810036,
          0.862052072147914,
          0.1561986635638219,
          0.451055092996686,
          0.6305148286299342
         ],
         "y": [
          23,
          11,
          25,
          12,
          5,
          15,
          28,
          23,
          7,
          13,
          23
         ]
        }
       ],
       "layout": {
        "height": 600,
        "template": {
         "data": {
          "bar": [
           {
            "error_x": {
             "color": "#2a3f5f"
            },
            "error_y": {
             "color": "#2a3f5f"
            },
            "marker": {
             "line": {
              "color": "#E5ECF6",
              "width": 0.5
             },
             "pattern": {
              "fillmode": "overlay",
              "size": 10,
              "solidity": 0.2
             }
            },
            "type": "bar"
           }
          ],
          "barpolar": [
           {
            "marker": {
             "line": {
              "color": "#E5ECF6",
              "width": 0.5
             },
             "pattern": {
              "fillmode": "overlay",
              "size": 10,
              "solidity": 0.2
             }
            },
            "type": "barpolar"
           }
          ],
          "carpet": [
           {
            "aaxis": {
             "endlinecolor": "#2a3f5f",
             "gridcolor": "white",
             "linecolor": "white",
             "minorgridcolor": "white",
             "startlinecolor": "#2a3f5f"
            },
            "baxis": {
             "endlinecolor": "#2a3f5f",
             "gridcolor": "white",
             "linecolor": "white",
             "minorgridcolor": "white",
             "startlinecolor": "#2a3f5f"
            },
            "type": "carpet"
           }
          ],
          "choropleth": [
           {
            "colorbar": {
             "outlinewidth": 0,
             "ticks": ""
            },
            "type": "choropleth"
           }
          ],
          "contour": [
           {
            "colorbar": {
             "outlinewidth": 0,
             "ticks": ""
            },
            "colorscale": [
             [
              0,
              "#0d0887"
             ],
             [
              0.1111111111111111,
              "#46039f"
             ],
             [
              0.2222222222222222,
              "#7201a8"
             ],
             [
              0.3333333333333333,
              "#9c179e"
             ],
             [
              0.4444444444444444,
              "#bd3786"
             ],
             [
              0.5555555555555556,
              "#d8576b"
             ],
             [
              0.6666666666666666,
              "#ed7953"
             ],
             [
              0.7777777777777778,
              "#fb9f3a"
             ],
             [
              0.8888888888888888,
              "#fdca26"
             ],
             [
              1,
              "#f0f921"
             ]
            ],
            "type": "contour"
           }
          ],
          "contourcarpet": [
           {
            "colorbar": {
             "outlinewidth": 0,
             "ticks": ""
            },
            "type": "contourcarpet"
           }
          ],
          "heatmap": [
           {
            "colorbar": {
             "outlinewidth": 0,
             "ticks": ""
            },
            "colorscale": [
             [
              0,
              "#0d0887"
             ],
             [
              0.1111111111111111,
              "#46039f"
             ],
             [
              0.2222222222222222,
              "#7201a8"
             ],
             [
              0.3333333333333333,
              "#9c179e"
             ],
             [
              0.4444444444444444,
              "#bd3786"
             ],
             [
              0.5555555555555556,
              "#d8576b"
             ],
             [
              0.6666666666666666,
              "#ed7953"
             ],
             [
              0.7777777777777778,
              "#fb9f3a"
             ],
             [
              0.8888888888888888,
              "#fdca26"
             ],
             [
              1,
              "#f0f921"
             ]
            ],
            "type": "heatmap"
           }
          ],
          "heatmapgl": [
           {
            "colorbar": {
             "outlinewidth": 0,
             "ticks": ""
            },
            "colorscale": [
             [
              0,
              "#0d0887"
             ],
             [
              0.1111111111111111,
              "#46039f"
             ],
             [
              0.2222222222222222,
              "#7201a8"
             ],
             [
              0.3333333333333333,
              "#9c179e"
             ],
             [
              0.4444444444444444,
              "#bd3786"
             ],
             [
              0.5555555555555556,
              "#d8576b"
             ],
             [
              0.6666666666666666,
              "#ed7953"
             ],
             [
              0.7777777777777778,
              "#fb9f3a"
             ],
             [
              0.8888888888888888,
              "#fdca26"
             ],
             [
              1,
              "#f0f921"
             ]
            ],
            "type": "heatmapgl"
           }
          ],
          "histogram": [
           {
            "marker": {
             "pattern": {
              "fillmode": "overlay",
              "size": 10,
              "solidity": 0.2
             }
            },
            "type": "histogram"
           }
          ],
          "histogram2d": [
           {
            "colorbar": {
             "outlinewidth": 0,
             "ticks": ""
            },
            "colorscale": [
             [
              0,
              "#0d0887"
             ],
             [
              0.1111111111111111,
              "#46039f"
             ],
             [
              0.2222222222222222,
              "#7201a8"
             ],
             [
              0.3333333333333333,
              "#9c179e"
             ],
             [
              0.4444444444444444,
              "#bd3786"
             ],
             [
              0.5555555555555556,
              "#d8576b"
             ],
             [
              0.6666666666666666,
              "#ed7953"
             ],
             [
              0.7777777777777778,
              "#fb9f3a"
             ],
             [
              0.8888888888888888,
              "#fdca26"
             ],
             [
              1,
              "#f0f921"
             ]
            ],
            "type": "histogram2d"
           }
          ],
          "histogram2dcontour": [
           {
            "colorbar": {
             "outlinewidth": 0,
             "ticks": ""
            },
            "colorscale": [
             [
              0,
              "#0d0887"
             ],
             [
              0.1111111111111111,
              "#46039f"
             ],
             [
              0.2222222222222222,
              "#7201a8"
             ],
             [
              0.3333333333333333,
              "#9c179e"
             ],
             [
              0.4444444444444444,
              "#bd3786"
             ],
             [
              0.5555555555555556,
              "#d8576b"
             ],
             [
              0.6666666666666666,
              "#ed7953"
             ],
             [
              0.7777777777777778,
              "#fb9f3a"
             ],
             [
              0.8888888888888888,
              "#fdca26"
             ],
             [
              1,
              "#f0f921"
             ]
            ],
            "type": "histogram2dcontour"
           }
          ],
          "mesh3d": [
           {
            "colorbar": {
             "outlinewidth": 0,
             "ticks": ""
            },
            "type": "mesh3d"
           }
          ],
          "parcoords": [
           {
            "line": {
             "colorbar": {
              "outlinewidth": 0,
              "ticks": ""
             }
            },
            "type": "parcoords"
           }
          ],
          "pie": [
           {
            "automargin": true,
            "type": "pie"
           }
          ],
          "scatter": [
           {
            "fillpattern": {
             "fillmode": "overlay",
             "size": 10,
             "solidity": 0.2
            },
            "type": "scatter"
           }
          ],
          "scatter3d": [
           {
            "line": {
             "colorbar": {
              "outlinewidth": 0,
              "ticks": ""
             }
            },
            "marker": {
             "colorbar": {
              "outlinewidth": 0,
              "ticks": ""
             }
            },
            "type": "scatter3d"
           }
          ],
          "scattercarpet": [
           {
            "marker": {
             "colorbar": {
              "outlinewidth": 0,
              "ticks": ""
             }
            },
            "type": "scattercarpet"
           }
          ],
          "scattergeo": [
           {
            "marker": {
             "colorbar": {
              "outlinewidth": 0,
              "ticks": ""
             }
            },
            "type": "scattergeo"
           }
          ],
          "scattergl": [
           {
            "marker": {
             "colorbar": {
              "outlinewidth": 0,
              "ticks": ""
             }
            },
            "type": "scattergl"
           }
          ],
          "scattermapbox": [
           {
            "marker": {
             "colorbar": {
              "outlinewidth": 0,
              "ticks": ""
             }
            },
            "type": "scattermapbox"
           }
          ],
          "scatterpolar": [
           {
            "marker": {
             "colorbar": {
              "outlinewidth": 0,
              "ticks": ""
             }
            },
            "type": "scatterpolar"
           }
          ],
          "scatterpolargl": [
           {
            "marker": {
             "colorbar": {
              "outlinewidth": 0,
              "ticks": ""
             }
            },
            "type": "scatterpolargl"
           }
          ],
          "scatterternary": [
           {
            "marker": {
             "colorbar": {
              "outlinewidth": 0,
              "ticks": ""
             }
            },
            "type": "scatterternary"
           }
          ],
          "surface": [
           {
            "colorbar": {
             "outlinewidth": 0,
             "ticks": ""
            },
            "colorscale": [
             [
              0,
              "#0d0887"
             ],
             [
              0.1111111111111111,
              "#46039f"
             ],
             [
              0.2222222222222222,
              "#7201a8"
             ],
             [
              0.3333333333333333,
              "#9c179e"
             ],
             [
              0.4444444444444444,
              "#bd3786"
             ],
             [
              0.5555555555555556,
              "#d8576b"
             ],
             [
              0.6666666666666666,
              "#ed7953"
             ],
             [
              0.7777777777777778,
              "#fb9f3a"
             ],
             [
              0.8888888888888888,
              "#fdca26"
             ],
             [
              1,
              "#f0f921"
             ]
            ],
            "type": "surface"
           }
          ],
          "table": [
           {
            "cells": {
             "fill": {
              "color": "#EBF0F8"
             },
             "line": {
              "color": "white"
             }
            },
            "header": {
             "fill": {
              "color": "#C8D4E3"
             },
             "line": {
              "color": "white"
             }
            },
            "type": "table"
           }
          ]
         },
         "layout": {
          "annotationdefaults": {
           "arrowcolor": "#2a3f5f",
           "arrowhead": 0,
           "arrowwidth": 1
          },
          "autotypenumbers": "strict",
          "coloraxis": {
           "colorbar": {
            "outlinewidth": 0,
            "ticks": ""
           }
          },
          "colorscale": {
           "diverging": [
            [
             0,
             "#8e0152"
            ],
            [
             0.1,
             "#c51b7d"
            ],
            [
             0.2,
             "#de77ae"
            ],
            [
             0.3,
             "#f1b6da"
            ],
            [
             0.4,
             "#fde0ef"
            ],
            [
             0.5,
             "#f7f7f7"
            ],
            [
             0.6,
             "#e6f5d0"
            ],
            [
             0.7,
             "#b8e186"
            ],
            [
             0.8,
             "#7fbc41"
            ],
            [
             0.9,
             "#4d9221"
            ],
            [
             1,
             "#276419"
            ]
           ],
           "sequential": [
            [
             0,
             "#0d0887"
            ],
            [
             0.1111111111111111,
             "#46039f"
            ],
            [
             0.2222222222222222,
             "#7201a8"
            ],
            [
             0.3333333333333333,
             "#9c179e"
            ],
            [
             0.4444444444444444,
             "#bd3786"
            ],
            [
             0.5555555555555556,
             "#d8576b"
            ],
            [
             0.6666666666666666,
             "#ed7953"
            ],
            [
             0.7777777777777778,
             "#fb9f3a"
            ],
            [
             0.8888888888888888,
             "#fdca26"
            ],
            [
             1,
             "#f0f921"
            ]
           ],
           "sequentialminus": [
            [
             0,
             "#0d0887"
            ],
            [
             0.1111111111111111,
             "#46039f"
            ],
            [
             0.2222222222222222,
             "#7201a8"
            ],
            [
             0.3333333333333333,
             "#9c179e"
            ],
            [
             0.4444444444444444,
             "#bd3786"
            ],
            [
             0.5555555555555556,
             "#d8576b"
            ],
            [
             0.6666666666666666,
             "#ed7953"
            ],
            [
             0.7777777777777778,
             "#fb9f3a"
            ],
            [
             0.8888888888888888,
             "#fdca26"
            ],
            [
             1,
             "#f0f921"
            ]
           ]
          },
          "colorway": [
           "#636efa",
           "#EF553B",
           "#00cc96",
           "#ab63fa",
           "#FFA15A",
           "#19d3f3",
           "#FF6692",
           "#B6E880",
           "#FF97FF",
           "#FECB52"
          ],
          "font": {
           "color": "#2a3f5f"
          },
          "geo": {
           "bgcolor": "white",
           "lakecolor": "white",
           "landcolor": "#E5ECF6",
           "showlakes": true,
           "showland": true,
           "subunitcolor": "white"
          },
          "hoverlabel": {
           "align": "left"
          },
          "hovermode": "closest",
          "mapbox": {
           "style": "light"
          },
          "paper_bgcolor": "white",
          "plot_bgcolor": "#E5ECF6",
          "polar": {
           "angularaxis": {
            "gridcolor": "white",
            "linecolor": "white",
            "ticks": ""
           },
           "bgcolor": "#E5ECF6",
           "radialaxis": {
            "gridcolor": "white",
            "linecolor": "white",
            "ticks": ""
           }
          },
          "scene": {
           "xaxis": {
            "backgroundcolor": "#E5ECF6",
            "gridcolor": "white",
            "gridwidth": 2,
            "linecolor": "white",
            "showbackground": true,
            "ticks": "",
            "zerolinecolor": "white"
           },
           "yaxis": {
            "backgroundcolor": "#E5ECF6",
            "gridcolor": "white",
            "gridwidth": 2,
            "linecolor": "white",
            "showbackground": true,
            "ticks": "",
            "zerolinecolor": "white"
           },
           "zaxis": {
            "backgroundcolor": "#E5ECF6",
            "gridcolor": "white",
            "gridwidth": 2,
            "linecolor": "white",
            "showbackground": true,
            "ticks": "",
            "zerolinecolor": "white"
           }
          },
          "shapedefaults": {
           "line": {
            "color": "#2a3f5f"
           }
          },
          "ternary": {
           "aaxis": {
            "gridcolor": "white",
            "linecolor": "white",
            "ticks": ""
           },
           "baxis": {
            "gridcolor": "white",
            "linecolor": "white",
            "ticks": ""
           },
           "bgcolor": "#E5ECF6",
           "caxis": {
            "gridcolor": "white",
            "linecolor": "white",
            "ticks": ""
           }
          },
          "title": {
           "x": 0.05
          },
          "xaxis": {
           "automargin": true,
           "gridcolor": "white",
           "linecolor": "white",
           "ticks": "",
           "title": {
            "standoff": 15
           },
           "zerolinecolor": "white",
           "zerolinewidth": 2
          },
          "yaxis": {
           "automargin": true,
           "gridcolor": "white",
           "linecolor": "white",
           "ticks": "",
           "title": {
            "standoff": 15
           },
           "zerolinecolor": "white",
           "zerolinewidth": 2
          }
         }
        },
        "width": 800,
        "xaxis": {
         "range": [
          0,
          1
         ],
         "title": {
          "text": "Score"
         }
        },
        "yaxis": {
         "title": {
          "text": "Matches"
         }
        }
       }
      },
      "text/html": [
       "<div>                            <div id=\"789a6106-11dd-4e47-a6d9-d317d719c076\" class=\"plotly-graph-div\" style=\"height:600px; width:800px;\"></div>            <script type=\"text/javascript\">                require([\"plotly\"], function(Plotly) {                    window.PLOTLYENV=window.PLOTLYENV || {};                                    if (document.getElementById(\"789a6106-11dd-4e47-a6d9-d317d719c076\")) {                    Plotly.newPlot(                        \"789a6106-11dd-4e47-a6d9-d317d719c076\",                        [{\"marker\":{\"cmax\":1,\"cmin\":0,\"color\":[0.25274725274725274,0.3793103448275862,0.625,0.75,0.2631578947368421,0.9375,0.3373493975903614,0.3898305084745763,0.1076923076923077,0.048507462686567165,0.2],\"colorbar\":{\"title\":{\"text\":\"Reference Matched %\"}},\"colorscale\":[[0.0,\"#440154\"],[0.1111111111111111,\"#482878\"],[0.2222222222222222,\"#3e4989\"],[0.3333333333333333,\"#31688e\"],[0.4444444444444444,\"#26828e\"],[0.5555555555555556,\"#1f9e89\"],[0.6666666666666666,\"#35b779\"],[0.7777777777777778,\"#6ece58\"],[0.8888888888888888,\"#b5de2b\"],[1.0,\"#fde725\"]],\"opacity\":0.5,\"size\":[5.801652892561984,5.013698630136986,4.28310502283105,3.935483870967742,5.125,3.694915254237288,6.95575221238938,8.47887323943662,11.333333333333334,7.777777777777777,12.69767441860465]},\"mode\":\"markers+text\",\"name\":\"Matched Ions\",\"text\":[\"Bumetrizole\",\"Drometrizole\",\"2,4-Di-tert-butyl-6-(5-chloro-2H-benzotriazol-2-yl)phenol\",\"Octrizole\",\"Tebuthiuron\",\"Pyraclostrobin\",\"Carfentrazone-ethyl\",\"Fipronil\",\"Cyazofamid\",\"Ethiprole\",\"Sulfentrazone\"],\"textposition\":\"middle right\",\"x\":[0.2667777725699015,0.7638230354119235,0.336653277349482,0.459279136577339,0.0833367618973463,0.2728924526571132,0.0945667195810036,0.862052072147914,0.1561986635638219,0.451055092996686,0.6305148286299342],\"y\":[23,11,25,12,5,15,28,23,7,13,23],\"type\":\"scatter\"}],                        {\"template\":{\"data\":{\"histogram2dcontour\":[{\"type\":\"histogram2dcontour\",\"colorbar\":{\"outlinewidth\":0,\"ticks\":\"\"},\"colorscale\":[[0.0,\"#0d0887\"],[0.1111111111111111,\"#46039f\"],[0.2222222222222222,\"#7201a8\"],[0.3333333333333333,\"#9c179e\"],[0.4444444444444444,\"#bd3786\"],[0.5555555555555556,\"#d8576b\"],[0.6666666666666666,\"#ed7953\"],[0.7777777777777778,\"#fb9f3a\"],[0.8888888888888888,\"#fdca26\"],[1.0,\"#f0f921\"]]}],\"choropleth\":[{\"type\":\"choropleth\",\"colorbar\":{\"outlinewidth\":0,\"ticks\":\"\"}}],\"histogram2d\":[{\"type\":\"histogram2d\",\"colorbar\":{\"outlinewidth\":0,\"ticks\":\"\"},\"colorscale\":[[0.0,\"#0d0887\"],[0.1111111111111111,\"#46039f\"],[0.2222222222222222,\"#7201a8\"],[0.3333333333333333,\"#9c179e\"],[0.4444444444444444,\"#bd3786\"],[0.5555555555555556,\"#d8576b\"],[0.6666666666666666,\"#ed7953\"],[0.7777777777777778,\"#fb9f3a\"],[0.8888888888888888,\"#fdca26\"],[1.0,\"#f0f921\"]]}],\"heatmap\":[{\"type\":\"heatmap\",\"colorbar\":{\"outlinewidth\":0,\"ticks\":\"\"},\"colorscale\":[[0.0,\"#0d0887\"],[0.1111111111111111,\"#46039f\"],[0.2222222222222222,\"#7201a8\"],[0.3333333333333333,\"#9c179e\"],[0.4444444444444444,\"#bd3786\"],[0.5555555555555556,\"#d8576b\"],[0.6666666666666666,\"#ed7953\"],[0.7777777777777778,\"#fb9f3a\"],[0.8888888888888888,\"#fdca26\"],[1.0,\"#f0f921\"]]}],\"heatmapgl\":[{\"type\":\"heatmapgl\",\"colorbar\":{\"outlinewidth\":0,\"ticks\":\"\"},\"colorscale\":[[0.0,\"#0d0887\"],[0.1111111111111111,\"#46039f\"],[0.2222222222222222,\"#7201a8\"],[0.3333333333333333,\"#9c179e\"],[0.4444444444444444,\"#bd3786\"],[0.5555555555555556,\"#d8576b\"],[0.6666666666666666,\"#ed7953\"],[0.7777777777777778,\"#fb9f3a\"],[0.8888888888888888,\"#fdca26\"],[1.0,\"#f0f921\"]]}],\"contourcarpet\":[{\"type\":\"contourcarpet\",\"colorbar\":{\"outlinewidth\":0,\"ticks\":\"\"}}],\"contour\":[{\"type\":\"contour\",\"colorbar\":{\"outlinewidth\":0,\"ticks\":\"\"},\"colorscale\":[[0.0,\"#0d0887\"],[0.1111111111111111,\"#46039f\"],[0.2222222222222222,\"#7201a8\"],[0.3333333333333333,\"#9c179e\"],[0.4444444444444444,\"#bd3786\"],[0.5555555555555556,\"#d8576b\"],[0.6666666666666666,\"#ed7953\"],[0.7777777777777778,\"#fb9f3a\"],[0.8888888888888888,\"#fdca26\"],[1.0,\"#f0f921\"]]}],\"surface\":[{\"type\":\"surface\",\"colorbar\":{\"outlinewidth\":0,\"ticks\":\"\"},\"colorscale\":[[0.0,\"#0d0887\"],[0.1111111111111111,\"#46039f\"],[0.2222222222222222,\"#7201a8\"],[0.3333333333333333,\"#9c179e\"],[0.4444444444444444,\"#bd3786\"],[0.5555555555555556,\"#d8576b\"],[0.6666666666666666,\"#ed7953\"],[0.7777777777777778,\"#fb9f3a\"],[0.8888888888888888,\"#fdca26\"],[1.0,\"#f0f921\"]]}],\"mesh3d\":[{\"type\":\"mesh3d\",\"colorbar\":{\"outlinewidth\":0,\"ticks\":\"\"}}],\"scatter\":[{\"fillpattern\":{\"fillmode\":\"overlay\",\"size\":10,\"solidity\":0.2},\"type\":\"scatter\"}],\"parcoords\":[{\"type\":\"parcoords\",\"line\":{\"colorbar\":{\"outlinewidth\":0,\"ticks\":\"\"}}}],\"scatterpolargl\":[{\"type\":\"scatterpolargl\",\"marker\":{\"colorbar\":{\"outlinewidth\":0,\"ticks\":\"\"}}}],\"bar\":[{\"error_x\":{\"color\":\"#2a3f5f\"},\"error_y\":{\"color\":\"#2a3f5f\"},\"marker\":{\"line\":{\"color\":\"#E5ECF6\",\"width\":0.5},\"pattern\":{\"fillmode\":\"overlay\",\"size\":10,\"solidity\":0.2}},\"type\":\"bar\"}],\"scattergeo\":[{\"type\":\"scattergeo\",\"marker\":{\"colorbar\":{\"outlinewidth\":0,\"ticks\":\"\"}}}],\"scatterpolar\":[{\"type\":\"scatterpolar\",\"marker\":{\"colorbar\":{\"outlinewidth\":0,\"ticks\":\"\"}}}],\"histogram\":[{\"marker\":{\"pattern\":{\"fillmode\":\"overlay\",\"size\":10,\"solidity\":0.2}},\"type\":\"histogram\"}],\"scattergl\":[{\"type\":\"scattergl\",\"marker\":{\"colorbar\":{\"outlinewidth\":0,\"ticks\":\"\"}}}],\"scatter3d\":[{\"type\":\"scatter3d\",\"line\":{\"colorbar\":{\"outlinewidth\":0,\"ticks\":\"\"}},\"marker\":{\"colorbar\":{\"outlinewidth\":0,\"ticks\":\"\"}}}],\"scattermapbox\":[{\"type\":\"scattermapbox\",\"marker\":{\"colorbar\":{\"outlinewidth\":0,\"ticks\":\"\"}}}],\"scatterternary\":[{\"type\":\"scatterternary\",\"marker\":{\"colorbar\":{\"outlinewidth\":0,\"ticks\":\"\"}}}],\"scattercarpet\":[{\"type\":\"scattercarpet\",\"marker\":{\"colorbar\":{\"outlinewidth\":0,\"ticks\":\"\"}}}],\"carpet\":[{\"aaxis\":{\"endlinecolor\":\"#2a3f5f\",\"gridcolor\":\"white\",\"linecolor\":\"white\",\"minorgridcolor\":\"white\",\"startlinecolor\":\"#2a3f5f\"},\"baxis\":{\"endlinecolor\":\"#2a3f5f\",\"gridcolor\":\"white\",\"linecolor\":\"white\",\"minorgridcolor\":\"white\",\"startlinecolor\":\"#2a3f5f\"},\"type\":\"carpet\"}],\"table\":[{\"cells\":{\"fill\":{\"color\":\"#EBF0F8\"},\"line\":{\"color\":\"white\"}},\"header\":{\"fill\":{\"color\":\"#C8D4E3\"},\"line\":{\"color\":\"white\"}},\"type\":\"table\"}],\"barpolar\":[{\"marker\":{\"line\":{\"color\":\"#E5ECF6\",\"width\":0.5},\"pattern\":{\"fillmode\":\"overlay\",\"size\":10,\"solidity\":0.2}},\"type\":\"barpolar\"}],\"pie\":[{\"automargin\":true,\"type\":\"pie\"}]},\"layout\":{\"autotypenumbers\":\"strict\",\"colorway\":[\"#636efa\",\"#EF553B\",\"#00cc96\",\"#ab63fa\",\"#FFA15A\",\"#19d3f3\",\"#FF6692\",\"#B6E880\",\"#FF97FF\",\"#FECB52\"],\"font\":{\"color\":\"#2a3f5f\"},\"hovermode\":\"closest\",\"hoverlabel\":{\"align\":\"left\"},\"paper_bgcolor\":\"white\",\"plot_bgcolor\":\"#E5ECF6\",\"polar\":{\"bgcolor\":\"#E5ECF6\",\"angularaxis\":{\"gridcolor\":\"white\",\"linecolor\":\"white\",\"ticks\":\"\"},\"radialaxis\":{\"gridcolor\":\"white\",\"linecolor\":\"white\",\"ticks\":\"\"}},\"ternary\":{\"bgcolor\":\"#E5ECF6\",\"aaxis\":{\"gridcolor\":\"white\",\"linecolor\":\"white\",\"ticks\":\"\"},\"baxis\":{\"gridcolor\":\"white\",\"linecolor\":\"white\",\"ticks\":\"\"},\"caxis\":{\"gridcolor\":\"white\",\"linecolor\":\"white\",\"ticks\":\"\"}},\"coloraxis\":{\"colorbar\":{\"outlinewidth\":0,\"ticks\":\"\"}},\"colorscale\":{\"sequential\":[[0.0,\"#0d0887\"],[0.1111111111111111,\"#46039f\"],[0.2222222222222222,\"#7201a8\"],[0.3333333333333333,\"#9c179e\"],[0.4444444444444444,\"#bd3786\"],[0.5555555555555556,\"#d8576b\"],[0.6666666666666666,\"#ed7953\"],[0.7777777777777778,\"#fb9f3a\"],[0.8888888888888888,\"#fdca26\"],[1.0,\"#f0f921\"]],\"sequentialminus\":[[0.0,\"#0d0887\"],[0.1111111111111111,\"#46039f\"],[0.2222222222222222,\"#7201a8\"],[0.3333333333333333,\"#9c179e\"],[0.4444444444444444,\"#bd3786\"],[0.5555555555555556,\"#d8576b\"],[0.6666666666666666,\"#ed7953\"],[0.7777777777777778,\"#fb9f3a\"],[0.8888888888888888,\"#fdca26\"],[1.0,\"#f0f921\"]],\"diverging\":[[0,\"#8e0152\"],[0.1,\"#c51b7d\"],[0.2,\"#de77ae\"],[0.3,\"#f1b6da\"],[0.4,\"#fde0ef\"],[0.5,\"#f7f7f7\"],[0.6,\"#e6f5d0\"],[0.7,\"#b8e186\"],[0.8,\"#7fbc41\"],[0.9,\"#4d9221\"],[1,\"#276419\"]]},\"xaxis\":{\"gridcolor\":\"white\",\"linecolor\":\"white\",\"ticks\":\"\",\"title\":{\"standoff\":15},\"zerolinecolor\":\"white\",\"automargin\":true,\"zerolinewidth\":2},\"yaxis\":{\"gridcolor\":\"white\",\"linecolor\":\"white\",\"ticks\":\"\",\"title\":{\"standoff\":15},\"zerolinecolor\":\"white\",\"automargin\":true,\"zerolinewidth\":2},\"scene\":{\"xaxis\":{\"backgroundcolor\":\"#E5ECF6\",\"gridcolor\":\"white\",\"linecolor\":\"white\",\"showbackground\":true,\"ticks\":\"\",\"zerolinecolor\":\"white\",\"gridwidth\":2},\"yaxis\":{\"backgroundcolor\":\"#E5ECF6\",\"gridcolor\":\"white\",\"linecolor\":\"white\",\"showbackground\":true,\"ticks\":\"\",\"zerolinecolor\":\"white\",\"gridwidth\":2},\"zaxis\":{\"backgroundcolor\":\"#E5ECF6\",\"gridcolor\":\"white\",\"linecolor\":\"white\",\"showbackground\":true,\"ticks\":\"\",\"zerolinecolor\":\"white\",\"gridwidth\":2}},\"shapedefaults\":{\"line\":{\"color\":\"#2a3f5f\"}},\"annotationdefaults\":{\"arrowcolor\":\"#2a3f5f\",\"arrowhead\":0,\"arrowwidth\":1},\"geo\":{\"bgcolor\":\"white\",\"landcolor\":\"#E5ECF6\",\"subunitcolor\":\"white\",\"showland\":true,\"showlakes\":true,\"lakecolor\":\"white\"},\"title\":{\"x\":0.05},\"mapbox\":{\"style\":\"light\"}}},\"xaxis\":{\"title\":{\"text\":\"Score\"},\"range\":[0,1]},\"yaxis\":{\"title\":{\"text\":\"Matches\"}},\"width\":800,\"height\":600},                        {\"responsive\": true}                    ).then(function(){\n",
       "                            \n",
       "var gd = document.getElementById('789a6106-11dd-4e47-a6d9-d317d719c076');\n",
       "var x = new MutationObserver(function (mutations, observer) {{\n",
       "        var display = window.getComputedStyle(gd).display;\n",
       "        if (!display || display === 'none') {{\n",
       "            console.log([gd, 'removed!']);\n",
       "            Plotly.purge(gd);\n",
       "            observer.disconnect();\n",
       "        }}\n",
       "}});\n",
       "\n",
       "// Listen for the removal of the full notebook cells\n",
       "var notebookContainer = gd.closest('#notebook-container');\n",
       "if (notebookContainer) {{\n",
       "    x.observe(notebookContainer, {childList: true});\n",
       "}}\n",
       "\n",
       "// Listen for the clearing of the current output cell\n",
       "var outputEl = gd.closest('.output');\n",
       "if (outputEl) {{\n",
       "    x.observe(outputEl, {childList: true});\n",
       "}}\n",
       "\n",
       "                        })                };                });            </script>        </div>"
      ]
     },
     "metadata": {},
     "output_type": "display_data"
    }
   ],
   "source": [
    "azoles = merged[merged['class'] == 'Azoles']\n",
    "scatterplot_plotly(azoles, None).write_image(f\"scatterplot_azoles.png\")"
   ]
  },
  {
   "cell_type": "code",
   "execution_count": 9,
   "metadata": {},
   "outputs": [
    {
     "data": {
      "image/png": "[encoded data removed]",
      "text/plain": [
       "<Figure size 1800x600 with 2 Axes>"
      ]
     },
     "metadata": {},
     "output_type": "display_data"
    }
   ],
   "source": [
    "import matplotlib.pyplot as plt\n",
    "import numpy as np\n",
    "\n",
    "# Create a scatter plot\n",
    "fig = scatterplot_matplotlib(normalize_df(merged, matches_norm_col=None))\n",
    "fig.savefig(\"scatterplot_all.png\")"
   ]
  }
 ],
 "metadata": {
  "kernelspec": {
   "display_name": "Python 3",
   "language": "python",
   "name": "python3"
  },
  "language_info": {
   "codemirror_mode": {
    "name": "ipython",
    "version": 3
   },
   "file_extension": ".py",
   "mimetype": "text/x-python",
   "name": "python",
   "nbconvert_exporter": "python",
   "pygments_lexer": "ipython3",
   "version": "3.10.0"
  }
 },
 "nbformat": 4,
 "nbformat_minor": 2
}
