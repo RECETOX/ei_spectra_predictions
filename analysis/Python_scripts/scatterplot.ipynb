{
 "cells": [
  {
   "cell_type": "code",
   "execution_count": null,
   "metadata": {},
   "outputs": [],
   "source": [
    "import plotly.graph_objs as go\n",
    "import pandas as pd\n",
    "from matchms.importing import load_from_msp\n",
    "from matchms.logging_functions import set_matchms_logger_level\n",
    "\n",
    "from utils import is_spectrum_for_compound, append_classes, load_spectra_metadata, normalize_df\n",
    "from plotting import scatterplot_matplotlib\n",
    "\n",
    "set_matchms_logger_level('ERROR')"
   ]
  },
  {
   "cell_type": "code",
   "execution_count": null,
   "metadata": {},
   "outputs": [],
   "source": [
    "matchms_scores = pd.read_csv(\"../data/output_matching/matchms/matchms_tol_0.0035_1%I_all_peaks_with_0s_only_matching.tsv\", sep=\"\\t\")\n",
    "matchms_scores.rename(columns={'CosineHungarian_0.0035_0.0_1.0_scores': 'scores'}, inplace=True)\n",
    "matchms_scores.rename(columns={'CosineHungarian_0.0035_0.0_1.0_matches': 'matches'}, inplace=True)"
   ]
  },
  {
   "cell_type": "code",
   "execution_count": null,
   "metadata": {},
   "outputs": [],
   "source": [
    "_ , spectra_metadata, _ = load_spectra_metadata(\"../data/filtered/simulated_matchms_filter_1%I_all_peaks.msp\", 'query')\n",
    "_ , reference_spectra_metadata, _ = load_spectra_metadata(\"../data/experimental/RECETOX_GC-EI_MS_20201028.msp\", 'reference')"
   ]
  },
  {
   "cell_type": "code",
   "execution_count": null,
   "metadata": {},
   "outputs": [],
   "source": [
    "merged = matchms_scores.merge(spectra_metadata, on=\"query\", how=\"inner\")\n",
    "merged.rename(columns={'num_peaks': 'n_peaks_query'}, inplace=True)\n",
    "\n",
    "merged = merged.merge(reference_spectra_metadata, on=\"reference\", how=\"inner\")\n",
    "merged.rename(columns={'num_peaks': 'n_peaks_reference'}, inplace=True)\n",
    "\n",
    "numeric_columns = ['matches', 'n_peaks_query', 'n_peaks_reference']\n",
    "merged[numeric_columns] = merged[numeric_columns].apply(pd.to_numeric, errors='coerce')\n",
    "\n",
    "merged['FractionQuery'] = merged['matches'] / merged['n_peaks_query']\n",
    "merged['FractionReference'] = merged['matches'] / merged['n_peaks_reference']\n",
    "\n",
    "merged = append_classes(merged, \"query\")"
   ]
  },
  {
   "cell_type": "code",
   "execution_count": null,
   "metadata": {},
   "outputs": [],
   "source": [
    "# Create a scatter plot\n",
    "def scatterplot_plotly(df, title):\n",
    "    fig = go.Figure()\n",
    "    fig.add_trace(go.Scatter(\n",
    "        x=df['scores'],\n",
    "        y=df['matches'],\n",
    "        mode='markers',\n",
    "        marker=dict(\n",
    "            size= (df['FractionQuery'] * 100),  # Adjust the size scaling factor as needed\n",
    "            sizeref=5,\n",
    "            color=df['FractionReference'] * 100,\n",
    "            colorscale='Viridis',  # change the colorscale as needed\n",
    "            colorbar=dict(title='Reference Matched %'),\n",
    "            cmin=0,  # Set the minimum color limit\n",
    "            cmax=100,  # Set the maximum color limit\n",
    "            opacity=0.5\n",
    "        ),\n",
    "        #text=df['reference'],\n",
    "        textposition='middle right',\n",
    "        # textposition=['top right' if i % 2 == 0 else 'bottom right' for i in range(len(df))],  # Make text positions alternating\n",
    "        name='Matched Ions'\n",
    "    ))\n",
    "    fig.update_layout(\n",
    "        xaxis_title='Score',\n",
    "        yaxis_title='Matches',\n",
    "        title_text=title,\n",
    "        width=800,\n",
    "        height=600\n",
    "    )\n",
    "    fig.show()\n",
    "    return fig"
   ]
  },
  {
   "cell_type": "code",
   "execution_count": null,
   "metadata": {},
   "outputs": [],
   "source": [
    "# Create a scatter plot\n",
    "def scatterplot_plotly_with_legends(df, title):\n",
    "    fig = go.Figure()\n",
    "    fig.add_trace(go.Scatter(\n",
    "        x=df['scores'],\n",
    "        y=df['matches'],\n",
    "        mode='markers+text',\n",
    "        marker=dict(\n",
    "            size=(df['FractionQuery'] * 20) + 2,  # Adjust the size scaling factor as needed\n",
    "            color=df['FractionReference'],\n",
    "            colorscale='Viridis',  # change the colorscale as needed\n",
    "            colorbar=dict(title='Reference Matched %'),\n",
    "            cmin=0,  # Set the minimum color limit\n",
    "            cmax=1,  # Set the maximum color limit\n",
    "            opacity=0.5\n",
    "        ),\n",
    "        text=df['reference'],\n",
    "        textposition='middle right',\n",
    "        # textposition=['top right' if i % 2 == 0 else 'bottom right' for i in range(len(df))],  # Make text positions alternating\n",
    "        name='Matched Ions'\n",
    "    ))\n",
    "    fig.add_trace(go.Scatter(\n",
    "        x=[None],\n",
    "        y=[None],\n",
    "        mode='markers',\n",
    "        marker=dict(size=10, color='black'),\n",
    "        showlegend=True,\n",
    "        name='Size represents FractionQuery',\n",
    "    ))\n",
    "    fig.update_layout(\n",
    "        xaxis_title='Score',\n",
    "        yaxis_title='Matches',\n",
    "        title_text=title,\n",
    "        xaxis=dict(range=[0, 1]),  # Set the x-axis limits\n",
    "        # yaxis=dict(\n",
    "        #     range=[0, 70],\n",
    "        #     type='linear',\n",
    "        # ),\n",
    "        width=800,\n",
    "        height=600\n",
    "    )\n",
    "    fig.show()\n",
    "    return fig"
   ]
  },
  {
   "cell_type": "code",
   "execution_count": null,
   "metadata": {},
   "outputs": [],
   "source": [
    "grouped_df = merged.groupby('superclass')\n",
    "for group in grouped_df.groups:\n",
    "    subset = grouped_df.get_group(group)\n",
    "    if subset.shape[0] > 10:\n",
    "        scatterplot_plotly(grouped_df.get_group(group), group)"
   ]
  },
  {
   "cell_type": "code",
   "execution_count": null,
   "metadata": {},
   "outputs": [],
   "source": [
    "azoles = merged[merged['class'] == 'Azoles']\n",
    "scatterplot_plotly(azoles, None).show()"
   ]
  },
  {
   "cell_type": "code",
   "execution_count": null,
   "metadata": {},
   "outputs": [],
   "source": [
    "# Create a scatter plot\n",
    "scatterplot_matplotlib(normalize_df(merged, matches_norm_col=None)).show()\n"
   ]
  }
 ],
 "metadata": {
  "kernelspec": {
   "display_name": "Python 3",
   "language": "python",
   "name": "python3"
  },
  "language_info": {
   "codemirror_mode": {
    "name": "ipython",
    "version": 3
   },
   "file_extension": ".py",
   "mimetype": "text/x-python",
   "name": "python",
   "nbconvert_exporter": "python",
   "pygments_lexer": "ipython3",
   "version": "3.10.0"
  }
 },
 "nbformat": 4,
 "nbformat_minor": 2
}
