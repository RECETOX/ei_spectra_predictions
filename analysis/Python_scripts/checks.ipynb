{
 "cells": [
  {
   "cell_type": "code",
   "execution_count": 21,
   "metadata": {},
   "outputs": [],
   "source": [
    "from matchms.importing import load_from_msp\n",
    "from matchms import Spectrum\n",
    "\n",
    "from matchms.filtering import select_by_relative_intensity"
   ]
  },
  {
   "cell_type": "code",
   "execution_count": 22,
   "metadata": {},
   "outputs": [],
   "source": [
    "dataset = list(load_from_msp(\"../data/experimental/RECETOX_GC-EI_MS_20201028.msp\"))"
   ]
  },
  {
   "cell_type": "code",
   "execution_count": 33,
   "metadata": {},
   "outputs": [],
   "source": [
    "dataset_filtered = list(map(lambda x: select_by_relative_intensity(x, 0.1, 1), dataset))"
   ]
  },
  {
   "cell_type": "code",
   "execution_count": 37,
   "metadata": {},
   "outputs": [],
   "source": [
    "def has_peak_above_molecular_ion(spectrum: Spectrum, isotopes: int = 20) -> bool:\n",
    "    mol_ion = float(spectrum.get(\"precursor_mz\"))\n",
    "    highest_peak = spectrum.peaks.mz.max()\n",
    "    return highest_peak > mol_ion + isotopes"
   ]
  },
  {
   "cell_type": "code",
   "execution_count": 38,
   "metadata": {},
   "outputs": [],
   "source": [
    "spectra_with_mz_above_molecular_ion = list(filter(has_peak_above_molecular_ion, dataset_filtered))"
   ]
  },
  {
   "cell_type": "code",
   "execution_count": 39,
   "metadata": {},
   "outputs": [
    {
     "name": "stdout",
     "output_type": "stream",
     "text": [
      "Tris(1-chloro-2-propyl) phosphate\n",
      "Acephate\n",
      "Triadimenol_isomer2\n"
     ]
    }
   ],
   "source": [
    "for x in spectra_with_mz_above_molecular_ion:\n",
    "    print(x.get(\"compound_name\"))"
   ]
  }
 ],
 "metadata": {
  "kernelspec": {
   "display_name": "Python 3",
   "language": "python",
   "name": "python3"
  },
  "language_info": {
   "codemirror_mode": {
    "name": "ipython",
    "version": 3
   },
   "file_extension": ".py",
   "mimetype": "text/x-python",
   "name": "python",
   "nbconvert_exporter": "python",
   "pygments_lexer": "ipython3",
   "version": "3.11.9"
  }
 },
 "nbformat": 4,
 "nbformat_minor": 2
}
