{
 "cells": [
  {
   "cell_type": "code",
   "execution_count": 1,
   "metadata": {},
   "outputs": [],
   "source": [
    "import pandas as pd\n",
    "from utils import *\n",
    "from plotting import *\n",
    "\n",
    "import ms_entropy as mse "
   ]
  },
  {
   "cell_type": "code",
   "execution_count": null,
   "metadata": {},
   "outputs": [],
   "source": [
    "entropy_scores = pd.read_csv(\"../data/output_matching/entropy/entropy_tol_0.0035da.tsv\", sep=\"\\t\")\n",
    "entropy_scores = append_classes(entropy_scores, \"query\")"
   ]
  },
  {
   "cell_type": "code",
   "execution_count": null,
   "metadata": {},
   "outputs": [],
   "source": [
    "larger_superclasses = entropy_scores.groupby(\"superclass\").filter(lambda x: len(x) > 2)"
   ]
  },
  {
   "cell_type": "code",
   "execution_count": null,
   "metadata": {},
   "outputs": [],
   "source": [
    "order = [\n",
    "    \"Benzenoids\",\n",
    "    \"Lipids and lipid-like molecules\",\n",
    "    \"Organoheterocyclic compounds\",\n",
    "    \"Organohalogen compounds\",\n",
    "    \"Phenylpropanoids and polyketides\",\n",
    "    \"Organic oxygen compounds\",\n",
    "    \"Organic acids and derivatives\"\n",
    "]\n",
    "\n",
    "plot_width = calc_plot_width(entropy_scores, \"superclass\", 1)\n",
    "fig = plt.figure(figsize=(plot_width, 5))\n",
    "ax = sns.boxplot(\n",
    "    x=\"superclass\",\n",
    "    y='scores',\n",
    "    data=larger_superclasses,\n",
    "    order = order,\n",
    "    color=\"deepskyblue\",\n",
    "    medianprops={'color': \"blue\", 'linewidth': 4.0},\n",
    "    flierprops={'marker': 'o', 'markersize': 10, 'markerfacecolor': 'none'})\n",
    "\n",
    "count_data = entropy_scores[\"superclass\"].value_counts() * 2\n",
    "\n",
    "# # Add the count labels to the x-axis\n",
    "make_xticklabels(22, ax, count_data)"
   ]
  },
  {
   "cell_type": "code",
   "execution_count": null,
   "metadata": {},
   "outputs": [],
   "source": [
    "matchms_scores = load_matchms_scores()"
   ]
  },
  {
   "cell_type": "code",
   "execution_count": null,
   "metadata": {},
   "outputs": [],
   "source": [
    "merged = entropy_scores.set_index([\"query\", \"reference\"]).join(matchms_scores.set_index([\"query\", \"reference\"]), lsuffix='_entropy', rsuffix='_matchms').reset_index()\n",
    "results = merged[[\"query\", \"reference\", \"scores_entropy\", \"scores_matchms\", \"matches\"]]\n"
   ]
  },
  {
   "cell_type": "code",
   "execution_count": null,
   "metadata": {},
   "outputs": [],
   "source": [
    "# Assuming `df` is your DataFrame\n",
    "corr = results[[\"scores_entropy\", \"scores_matchms\", \"matches\"]].corr().round(2)"
   ]
  }
 ],
 "metadata": {
  "kernelspec": {
   "display_name": "Python 3",
   "language": "python",
   "name": "python3"
  },
  "language_info": {
   "codemirror_mode": {
    "name": "ipython",
    "version": 3
   },
   "file_extension": ".py",
   "mimetype": "text/x-python",
   "name": "python",
   "nbconvert_exporter": "python",
   "pygments_lexer": "ipython3",
   "version": "3.8.19"
  }
 },
 "nbformat": 4,
 "nbformat_minor": 2
}
