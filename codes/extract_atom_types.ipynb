{
 "cells": [
  {
   "cell_type": "code",
   "execution_count": 1,
   "metadata": {},
   "outputs": [
    {
     "ename": "ModuleNotFoundError",
     "evalue": "No module named 'matchms'",
     "output_type": "error",
     "traceback": [
      "\u001b[0;31m---------------------------------------------------------------------------\u001b[0m",
      "\u001b[0;31mModuleNotFoundError\u001b[0m                       Traceback (most recent call last)",
      "Cell \u001b[0;32mIn[1], line 1\u001b[0m\n\u001b[0;32m----> 1\u001b[0m \u001b[39mfrom\u001b[39;00m \u001b[39mmatchms\u001b[39;00m\u001b[39m.\u001b[39;00m\u001b[39mimporting\u001b[39;00m \u001b[39mimport\u001b[39;00m load_from_msp\n\u001b[1;32m      2\u001b[0m \u001b[39mfrom\u001b[39;00m \u001b[39mopenbabel\u001b[39;00m \u001b[39mimport\u001b[39;00m pybel\n\u001b[1;32m      3\u001b[0m \u001b[39mimport\u001b[39;00m \u001b[39mos\u001b[39;00m\n",
      "\u001b[0;31mModuleNotFoundError\u001b[0m: No module named 'matchms'"
     ]
    }
   ],
   "source": [
    "from matchms.importing import load_from_msp\n",
    "from openbabel import pybel\n",
    "import os"
   ]
  },
  {
   "cell_type": "code",
   "execution_count": null,
   "metadata": {},
   "outputs": [],
   "source": [
    "spectra = list(load_from_msp(os.path.join(os.getcwd(), \"..\", \"data\", \"RECETOX_GC-EI_MS_20201028.msp\")))"
   ]
  },
  {
   "cell_type": "code",
   "execution_count": null,
   "metadata": {},
   "outputs": [],
   "source": [
    "smiles = [x.get(\"smiles\") for x in spectra]\n",
    "molecules = [pybel.readstring(\"smi\", x) for x in smiles]\n",
    "\n",
    "atoms = set()\n",
    "\n",
    "for mol in molecules:\n",
    "    for atom in mol.atoms:\n",
    "        atoms.add(atom.atomicnum)\n",
    "[print(x) for x in  atoms]"
   ]
  }
 ],
 "metadata": {
  "kernelspec": {
   "display_name": "ei_spectra_predictions",
   "language": "python",
   "name": "python3"
  },
  "language_info": {
   "codemirror_mode": {
    "name": "ipython",
    "version": 3
   },
   "file_extension": ".py",
   "mimetype": "text/x-python",
   "name": "python",
   "nbconvert_exporter": "python",
   "pygments_lexer": "ipython3",
   "version": "3.11.0"
  },
  "orig_nbformat": 4,
  "vscode": {
   "interpreter": {
    "hash": "f2693fde551053fe4615620928f78caad296b12285f746bf8ad1b894000a6b21"
   }
  }
 },
 "nbformat": 4,
 "nbformat_minor": 2
}
