{
 "cells": [
  {
   "cell_type": "code",
   "execution_count": 6,
   "metadata": {},
   "outputs": [],
   "source": [
    "from matchms.importing import load_from_msp\n",
    "from openbabel import pybel\n",
    "import os"
   ]
  },
  {
   "cell_type": "code",
   "execution_count": 7,
   "metadata": {},
   "outputs": [],
   "source": [
    "spectra = list(load_from_msp(os.path.join(os.getcwd(), \"..\", \"data\", \"RECETOX_GC-EI_MS_20201028.msp\")))"
   ]
  },
  {
   "cell_type": "code",
   "execution_count": 11,
   "metadata": {},
   "outputs": [
    {
     "name": "stdout",
     "output_type": "stream",
     "text": [
      "1\n",
      "35\n",
      "6\n",
      "7\n",
      "8\n",
      "9\n",
      "14\n",
      "15\n",
      "16\n",
      "17\n"
     ]
    },
    {
     "data": {
      "text/plain": [
       "[None, None, None, None, None, None, None, None, None, None]"
      ]
     },
     "execution_count": 11,
     "metadata": {},
     "output_type": "execute_result"
    }
   ],
   "source": [
    "smiles = [x.get(\"smiles\") for x in spectra]\n",
    "molecules = [pybel.readstring(\"smi\", x) for x in smiles]\n",
    "\n",
    "atoms = set()\n",
    "\n",
    "for mol in molecules:\n",
    "    for atom in mol.atoms:\n",
    "        atoms.add(atom.atomicnum)\n",
    "[print(x) for x in  atoms]"
   ]
  }
 ],
 "metadata": {
  "kernelspec": {
   "display_name": "qcxms",
   "language": "python",
   "name": "python3"
  },
  "language_info": {
   "codemirror_mode": {
    "name": "ipython",
    "version": 3
   },
   "file_extension": ".py",
   "mimetype": "text/x-python",
   "name": "python",
   "nbconvert_exporter": "python",
   "pygments_lexer": "ipython3",
   "version": "3.10.9"
  },
  "orig_nbformat": 4,
  "vscode": {
   "interpreter": {
    "hash": "183becef28f485bea30fec5167544fe922715b8cddbb4a067c5d00ac8e8e49c5"
   }
  }
 },
 "nbformat": 4,
 "nbformat_minor": 2
}
