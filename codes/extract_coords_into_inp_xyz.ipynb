{
 "cells": [
  {
   "cell_type": "code",
   "execution_count": 7,
   "metadata": {},
   "outputs": [],
   "source": [
    "from jinja2 import Environment, FileSystemLoader\n",
    "import pandas as pd \n",
    "from rdkit import Chem\n",
    "from rdkit.Chem import AllChem\n",
    "from pathlib import Path\n",
    "import sys; sys.argv = ['']\n",
    "import os\n",
    "from write_dirs_files_for_gamess_qcxms import CalculateSpinMultiplicity, get_method, load_template, read_file\n",
    "from write_dirs_files_for_gamess_qcxms import read_file_rdkit, get_props"
   ]
  },
  {
   "cell_type": "code",
   "execution_count": 8,
   "metadata": {},
   "outputs": [],
   "source": [
    "molfile = read_file_rdkit(\"../data/sample_12_mols.sdf\")"
   ]
  },
  {
   "cell_type": "code",
   "execution_count": 9,
   "metadata": {},
   "outputs": [],
   "source": [
    "def read_parameters_gamess(param_file):   \n",
    "    mylist = [] \n",
    "    lines = read_file(param_file)\n",
    "    for line in lines:\n",
    "        if \"OPTTOL\" in line:\n",
    "            mylist.append(line.split()[2])\n",
    "        if \"NSTEP\" in line:\n",
    "            mylist.append(line.split()[2])\n",
    "        if \"GBASIS\" in line:\n",
    "            mylist.append(line.split()[2])\n",
    "        if \"NGAUSS\" in line:\n",
    "            mylist.append(line.split()[2])\n",
    "    return mylist"
   ]
  },
  {
   "cell_type": "code",
   "execution_count": 10,
   "metadata": {},
   "outputs": [],
   "source": [
    "def write_inp_from_template(mylist, multiplicity, molname, template_name,file, coord):\n",
    "    content = template_name.render(SCFTYP=get_method(multiplicity), \n",
    "                                   MULT=multiplicity, \n",
    "                                   OPTTOL= mylist[0], NSTEP=mylist[1],\n",
    "                                   GBASIS=mylist[2], NGAUSS=mylist[3], \n",
    "                                   MOLNAME=molname, COORDINATES=coord)\n",
    "    with open(file, 'w') as message:\n",
    "        message.write(content)"
   ]
  },
  {
   "cell_type": "code",
   "execution_count": 11,
   "metadata": {},
   "outputs": [],
   "source": [
    "def write_xyz_from_template(molname,n_atoms, template_name,file, coord):\n",
    "    content = template_name.render(N_ATOMS=n_atoms, MOLNAME=molname, COORDINATES=coord)\n",
    "    with open(file, 'w') as message:\n",
    "        message.write(content)\n"
   ]
  },
  {
   "cell_type": "code",
   "execution_count": 12,
   "metadata": {},
   "outputs": [
    {
     "name": "stdout",
     "output_type": "stream",
     "text": [
      "True\n",
      "Abnormal execution, check your input: /auto/brno2/home/wrojasv/MassSpec/QC_Spectra_Predictions/source_code_git/ei_spectra_predictions/classes/Phenanthrenes_and_derivatives/CSHWQDPOILHKBI-AQZSQYOVSA-N/Optimization/CSHWQDPOILHKBI-AQZSQYOVSA-N.log\n",
      "True\n",
      "Abnormal execution, check your input: /auto/brno2/home/wrojasv/MassSpec/QC_Spectra_Predictions/source_code_git/ei_spectra_predictions/classes/Phenanthrenes_and_derivatives/CSHWQDPOILHKBI-UHFFFAOYSA-N/Optimization/CSHWQDPOILHKBI-UHFFFAOYSA-N.log\n",
      "True\n",
      "Write XYZ file with optimized coordinates: /auto/brno2/home/wrojasv/MassSpec/QC_Spectra_Predictions/source_code_git/ei_spectra_predictions/classes/Steroids_and_steroid_derivatives/MUMGGOZAMZWBJJ-DYKIIFRCSA-N/Spectra/MUMGGOZAMZWBJJ-DYKIIFRCSA-N.xyz\n",
      "True\n",
      "Write XYZ file with optimized coordinates: /auto/brno2/home/wrojasv/MassSpec/QC_Spectra_Predictions/source_code_git/ei_spectra_predictions/classes/Benzene_and_substituted_derivatives/DTDSAWVUFPGDMX-UHFFFAOYSA-N/Spectra/DTDSAWVUFPGDMX-UHFFFAOYSA-N.xyz\n",
      "True\n",
      "Write XYZ file with optimized coordinates: /auto/brno2/home/wrojasv/MassSpec/QC_Spectra_Predictions/source_code_git/ei_spectra_predictions/classes/Fatty_Acyls/GOLXNESZZPUPJE-UHFFFAOYSA-N/Spectra/GOLXNESZZPUPJE-UHFFFAOYSA-N.xyz\n",
      "True\n",
      "Abnormal execution, check your input: /auto/brno2/home/wrojasv/MassSpec/QC_Spectra_Predictions/source_code_git/ei_spectra_predictions/classes/Benzene_and_substituted_derivatives/CLSVJBIHYWPGQY-UHFFFAOYSA-N/Optimization/CLSVJBIHYWPGQY-UHFFFAOYSA-N.log\n",
      "True\n",
      "Write XYZ file with optimized coordinates: /auto/brno2/home/wrojasv/MassSpec/QC_Spectra_Predictions/source_code_git/ei_spectra_predictions/classes/Steroids_and_steroid_derivatives/BFPYWIDHMRZLRN-SLHNCBLASA-N/Spectra/BFPYWIDHMRZLRN-SLHNCBLASA-N.xyz\n",
      "True\n",
      "Write XYZ file with optimized coordinates: /auto/brno2/home/wrojasv/MassSpec/QC_Spectra_Predictions/source_code_git/ei_spectra_predictions/classes/Benzene_and_substituted_derivatives/IISBACLAFKSPIT-UHFFFAOYSA-N/Spectra/IISBACLAFKSPIT-UHFFFAOYSA-N.xyz\n",
      "True\n",
      "Write XYZ file with optimized coordinates: /auto/brno2/home/wrojasv/MassSpec/QC_Spectra_Predictions/source_code_git/ei_spectra_predictions/classes/Benzene_and_substituted_derivatives/ISAVYTVYFVQUDY-UHFFFAOYSA-N/Spectra/ISAVYTVYFVQUDY-UHFFFAOYSA-N.xyz\n",
      "True\n",
      "Write XYZ file with optimized coordinates: /auto/brno2/home/wrojasv/MassSpec/QC_Spectra_Predictions/source_code_git/ei_spectra_predictions/classes/Steroids_and_steroid_derivatives/DNXHEGUUPJUMQT-CBZIJGRNSA-N/Spectra/DNXHEGUUPJUMQT-CBZIJGRNSA-N.xyz\n",
      "True\n",
      "Write XYZ file with optimized coordinates: /auto/brno2/home/wrojasv/MassSpec/QC_Spectra_Predictions/source_code_git/ei_spectra_predictions/classes/Steroids_and_steroid_derivatives/VOXZDWNPVJITMN-ZBRFXRBCSA-N/Spectra/VOXZDWNPVJITMN-ZBRFXRBCSA-N.xyz\n",
      "True\n",
      "Write XYZ file with optimized coordinates: /auto/brno2/home/wrojasv/MassSpec/QC_Spectra_Predictions/source_code_git/ei_spectra_predictions/classes/Steroids_and_steroid_derivatives/RJKFOVLPORLFTN-LEKSSAKUSA-N/Spectra/RJKFOVLPORLFTN-LEKSSAKUSA-N.xyz\n"
     ]
    }
   ],
   "source": [
    "for mol in molfile:\n",
    "    chem_class, inchikey, n_atoms, molname = get_props(mol)\n",
    "    multiplicity = CalculateSpinMultiplicity(mol)\n",
    "\n",
    "\n",
    "    moldir = Path(\"../classes\").resolve() / chem_class / inchikey / \"Optimization\"\n",
    "    log_file = moldir / (inchikey + \".log\")\n",
    "    mol_input_path = moldir / (inchikey + \".inp\")\n",
    "    \n",
    "    spectradir = Path(\"../classes\").resolve() / chem_class / inchikey / \"Spectra\"\n",
    "    mol_xyz_path = spectradir / (inchikey + \".xyz\")\n",
    "\n",
    "    message_1 = \"EXECUTION OF GAMESS TERMINATED -ABNORMALLY-\"\n",
    "    message_2 = \"EXECUTION OF GAMESS TERMINATED NORMALLY\"\n",
    "    message_3 = \"EQUILIBRIUM GEOMETRY LOCATED\"\n",
    "    message_4 = \"ALWAYS THE LAST POINT COMPUTED!\"\n",
    "    MOLNAME = inchikey\n",
    "\n",
    "\n",
    "    if Path(log_file).exists():\n",
    "        lines_log = read_file(log_file)\n",
    "\n",
    "        for num, line in enumerate(lines_log):\n",
    "            if message_1 in line:\n",
    "                print(f\"Abnormal execution, check your input: {log_file}\")\n",
    "            \n",
    "            if message_2 and message_4 in line:\n",
    "                data = []\n",
    "                start_coord_index = num + 4\n",
    "                end_coord_index = start_coord_index + n_atoms\n",
    "                for i in range(start_coord_index, end_coord_index):\n",
    "                    data.append(lines_log[i])\n",
    "\n",
    "                mylist = read_parameters_gamess(\"all_parameters.in\")\n",
    "                inp_template = load_template(\"../templates\", \"gamess_input_template.inp\")\n",
    "                \n",
    "                start_inp_file = moldir / (inchikey + \"_start.in\")\n",
    "\n",
    "                if not Path(start_inp_file).exists():\n",
    "                    Path(mol_input_path).rename(Path(start_inp_file))\n",
    "                \n",
    "                print(f\"Write INP file with least coordinates: {mol_input_path}\")\n",
    "                write_inp_from_template(mylist, multiplicity, inchikey, inp_template,mol_input_path, data)\n",
    "\n",
    "            if message_2 and message_3 in line:\n",
    "                data = []\n",
    "                start_coord_index = num + 4\n",
    "                end_coord_index = start_coord_index + n_atoms\n",
    "                for i in range(start_coord_index, end_coord_index):\n",
    "                    data.append(lines_log[i].split())\n",
    "                \n",
    "                atomic_number = []\n",
    "                element_symbol = []\n",
    "                x_coord = []\n",
    "                y_coord = []\n",
    "                z_coord = []\n",
    "                for line in data:\n",
    "                    element_symbol.append(line[0])\n",
    "                    atomic_number.append(line[1])\n",
    "                    x_coord.append(line[2])\n",
    "                    y_coord.append(line[3])\n",
    "                    z_coord.append(line[4])\n",
    "                    \n",
    "                df = pd.DataFrame([element_symbol, x_coord, y_coord, z_coord])\n",
    "                df = df.transpose()\n",
    "                df[0] = df[0].map(\"{0:<4s}\".format)\n",
    "                df[1] = pd.to_numeric(df[1], downcast=\"float\").map(\"{0:>16.10f}\".format)\n",
    "                df[2] = pd.to_numeric(df[2], downcast=\"float\").map(\"{0:>16.10f}\".format)\n",
    "                df[3] = pd.to_numeric(df[3], downcast=\"float\").map(\"{0:>16.10f}\".format)\n",
    "                \n",
    "                result = df[0] + df[1] + df[2] + df[3]\n",
    "                \n",
    "                xyz_template = load_template(\"../templates\", \"structure_input_template.xyz\")\n",
    "                \n",
    "                print(f\"Write XYZ file with optimized coordinates: {mol_xyz_path}\")\n",
    "                write_xyz_from_template(inchikey, n_atoms, xyz_template, mol_xyz_path, result)\n",
    "    else:\n",
    "        print(f\"LOG file does not exist:{log_file}\")"
   ]
  }
 ],
 "metadata": {
  "kernelspec": {
   "display_name": "Python 3",
   "language": "python",
   "name": "python3"
  },
  "language_info": {
   "codemirror_mode": {
    "name": "ipython",
    "version": 3
   },
   "file_extension": ".py",
   "mimetype": "text/x-python",
   "name": "python",
   "nbconvert_exporter": "python",
   "pygments_lexer": "ipython3",
   "version": "3.11.3"
  },
  "orig_nbformat": 4
 },
 "nbformat": 4,
 "nbformat_minor": 2
}
