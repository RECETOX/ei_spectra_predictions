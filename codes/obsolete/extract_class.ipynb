{
 "cells": [
  {
   "cell_type": "code",
   "execution_count": 32,
   "metadata": {},
   "outputs": [],
   "source": [
    "from openbabel import pybel\n",
    "import pandas as pd\n",
    "from pathlib import Path\n",
    "from extract_class_features import read_file, build_dataframe_of_extracted_metadata\n",
    "from extract_class_features import rearrange_dataframe, inputdata_reformatted\n",
    "from extract_class_features import grouped_by_item"
   ]
  },
  {
   "cell_type": "code",
   "execution_count": 33,
   "metadata": {},
   "outputs": [],
   "source": [
    "#file = Path(\"RECETOX_GC-EI-MS_20201028.sdf\")\n",
    "file = Path(\"sample.sdf\")\n",
    "format = file.suffix[1:]\n",
    "group_str = \"Class\"\n",
    "my_df = inputdata_reformatted(format, file.name, group_str)\n",
    "my_df = my_df.set_index(\"SMILE\")"
   ]
  },
  {
   "cell_type": "code",
   "execution_count": 34,
   "metadata": {},
   "outputs": [],
   "source": [
    "group_df = grouped_by_item(my_df,\"GROUP_TYPE\")"
   ]
  },
  {
   "cell_type": "code",
   "execution_count": 35,
   "metadata": {},
   "outputs": [],
   "source": [
    "dic_g = group_df.groups\n",
    "keys = list(dic_g.keys())\n",
    "vals = list(dic_g.values())"
   ]
  },
  {
   "cell_type": "code",
   "execution_count": 36,
   "metadata": {},
   "outputs": [],
   "source": [
    "for k in keys:\n",
    "    dic_val = dic_g[k].values\n",
    "    outfile = open(group_str + '_' + k +'.smi', 'w+')\n",
    "    for x in range(len(dic_val)):\n",
    "        outfile.write(dic_val[x] + '\\n')\n",
    "    outfile.close()"
   ]
  }
 ],
 "metadata": {
  "kernelspec": {
   "display_name": "ei_spectra_predictions",
   "language": "python",
   "name": "python3"
  },
  "language_info": {
   "codemirror_mode": {
    "name": "ipython",
    "version": 3
   },
   "file_extension": ".py",
   "mimetype": "text/x-python",
   "name": "python",
   "nbconvert_exporter": "python",
   "pygments_lexer": "ipython3",
   "version": "3.10.9"
  },
  "orig_nbformat": 4,
  "vscode": {
   "interpreter": {
    "hash": "f2693fde551053fe4615620928f78caad296b12285f746bf8ad1b894000a6b21"
   }
  }
 },
 "nbformat": 4,
 "nbformat_minor": 2
}
