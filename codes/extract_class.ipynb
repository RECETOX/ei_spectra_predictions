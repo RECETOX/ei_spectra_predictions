{
 "cells": [
  {
   "cell_type": "code",
   "execution_count": 54,
   "metadata": {},
   "outputs": [],
   "source": [
    "from openbabel import pybel\n",
    "import pandas as pd\n",
    "from pathlib import Path"
   ]
  },
  {
   "cell_type": "code",
   "execution_count": 55,
   "metadata": {},
   "outputs": [],
   "source": [
    "def read_file(format, filename):\n",
    "    pybel.ob.obErrorLog.SetOutputLevel(0)\n",
    "    mols = list(pybel.readfile(format, filename))\n",
    "    return (mols)"
   ]
  },
  {
   "cell_type": "code",
   "execution_count": 87,
   "metadata": {},
   "outputs": [],
   "source": [
    "def build_dataframe_of_extracted_metadata(mol_list, group_str):\n",
    "    data, mol_name, smile, GROUP_TYPE = [],[],[],[]\n",
    "    for line in mol_list:\n",
    "        data.append(line.data)\n",
    "        mol_name.append(line.data[\"NAME\"])\n",
    "        GROUP_TYPE.append(line.data[group_str])\n",
    "        smile.append(line.data[\"SMILES\"])\n",
    "    df = pd.DataFrame([mol_name, GROUP_TYPE, smile])\n",
    "    return (df)"
   ]
  },
  {
   "cell_type": "code",
   "execution_count": 58,
   "metadata": {},
   "outputs": [],
   "source": [
    "def rearrange_dataframe(df):\n",
    "    df = df.transpose()\n",
    "    df.columns = [\"NAME\", \"GROUP_TYPE\", \"SMILE\"] \n",
    "    return (df)"
   ]
  },
  {
   "cell_type": "code",
   "execution_count": 60,
   "metadata": {},
   "outputs": [],
   "source": [
    "def inputdata_reformatted(format, file, group_str):\n",
    "    mol_list = read_file(format, file)\n",
    "    df = build_dataframe_of_extracted_metadata(mol_list, group_str)\n",
    "    df = rearrange_dataframe(df) \n",
    "    return (df)"
   ]
  },
  {
   "cell_type": "code",
   "execution_count": 82,
   "metadata": {},
   "outputs": [],
   "source": [
    "#file = Path(\"RECETOX_GC-EI-MS_20201028.sdf\")\n",
    "file = Path(\"sample.sdf\")\n",
    "format = file.suffix[1:]\n",
    "group_str = \"Class\"\n",
    "my_df = inputdata_reformatted(format, file.name, group_str)\n",
    "my_df = my_df.set_index(\"SMILE\")"
   ]
  },
  {
   "cell_type": "code",
   "execution_count": 83,
   "metadata": {},
   "outputs": [],
   "source": [
    "group_df = my_df.groupby(\"GROUP_TYPE\")"
   ]
  },
  {
   "cell_type": "code",
   "execution_count": 84,
   "metadata": {},
   "outputs": [],
   "source": [
    "dic_g = group_df.groups\n",
    "keys = list(dic_g.keys())"
   ]
  },
  {
   "cell_type": "code",
   "execution_count": 86,
   "metadata": {},
   "outputs": [],
   "source": [
    "for k in keys:\n",
    "    dic_val = dic_g[k].values\n",
    "    outfile = open(group_str + '_' + k +'.smi', 'w+')\n",
    "    for x in range(len(dic_val)):\n",
    "        outfile.write(dic_val[x] + '\\n')\n",
    "    outfile.close()"
   ]
  }
 ],
 "metadata": {
  "kernelspec": {
   "display_name": "ei_spectra_predictions",
   "language": "python",
   "name": "python3"
  },
  "language_info": {
   "codemirror_mode": {
    "name": "ipython",
    "version": 3
   },
   "file_extension": ".py",
   "mimetype": "text/x-python",
   "name": "python",
   "nbconvert_exporter": "python",
   "pygments_lexer": "ipython3",
   "version": "3.11.0"
  },
  "orig_nbformat": 4,
  "vscode": {
   "interpreter": {
    "hash": "f2693fde551053fe4615620928f78caad296b12285f746bf8ad1b894000a6b21"
   }
  }
 },
 "nbformat": 4,
 "nbformat_minor": 2
}
