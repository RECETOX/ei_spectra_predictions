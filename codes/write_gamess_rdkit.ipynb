{
 "cells": [
  {
   "cell_type": "code",
   "execution_count": 42,
   "metadata": {},
   "outputs": [],
   "source": [
    "from rdkit import Chem\n",
    "from rdkit.Chem import AllChem\n",
    "from pathlib import Path\n",
    "import os"
   ]
  },
  {
   "cell_type": "code",
   "execution_count": 43,
   "metadata": {},
   "outputs": [],
   "source": [
    "def CalculateSpinMultiplicity(Mol):\n",
    " \"\"\"Calculate spin multiplicity of a molecule. The spin multiplicity is calculated\n",
    " from the number of free radical electrons using Hund's rule of maximum\n",
    " multiplicity defined as 2S + 1 where S is the total electron spin. The\n",
    " total spin is 1/2 the number of free radical electrons in a molecule.\n",
    "\n",
    " Arguments:\n",
    " Mol (object): RDKit molecule object.\n",
    "\n",
    " Returns:\n",
    " int : Spin multiplicity.\n",
    "\n",
    " \"\"\"\n",
    "\n",
    " # Calculate spin multiplicity using Hund's rule of maximum multiplicity...\n",
    " NumRadicalElectrons = 0\n",
    " for Atom in Mol.GetAtoms():\n",
    "    NumRadicalElectrons += Atom.GetNumRadicalElectrons()\n",
    "\n",
    " TotalElectronicSpin = NumRadicalElectrons/2\n",
    " SpinMultiplicity = 2 * TotalElectronicSpin + 1\n",
    "\n",
    " return int(SpinMultiplicity)"
   ]
  },
  {
   "cell_type": "code",
   "execution_count": 44,
   "metadata": {},
   "outputs": [],
   "source": [
    "def get_method(multiplicity):\n",
    "    if multiplicity % 2 == 0 :\n",
    "        method = 'ROHF'\n",
    "    else:\n",
    "        method = 'RHF'\n",
    "    return method"
   ]
  },
  {
   "cell_type": "code",
   "execution_count": 48,
   "metadata": {},
   "outputs": [
    {
     "ename": "SyntaxError",
     "evalue": "invalid decimal literal (887470282.py, line 28)",
     "output_type": "error",
     "traceback": [
      "\u001b[0;36m  Cell \u001b[0;32mIn[48], line 28\u001b[0;36m\u001b[0m\n\u001b[0;31m    outfile.write(f\"{a.GetSymbol()}\\t{a.GetAtomicNum()}\\t\"{0:>16.8f}\".format({pos.x})\\t{pos.y}\\t{pos.z}{os.linesep}\")\u001b[0m\n\u001b[0m                                                                 ^\u001b[0m\n\u001b[0;31mSyntaxError\u001b[0m\u001b[0;31m:\u001b[0m invalid decimal literal\n"
     ]
    }
   ],
   "source": [
    "molfile = Chem.SDMolSupplier(\"../data/sample.sdf\")\n",
    "\n",
    "for mol in molfile:\n",
    "    mol = Chem.AddHs(mol)\n",
    "    chem_class = mol.GetProp(\"Class\")\n",
    "    inchikey = mol.GetProp(\"InChIKey\")\n",
    "    name = mol.GetProp(\"NAME\")\n",
    "\n",
    "    moldir = Path.cwd() / \"classes\" / chem_class / inchikey / \"Optimization\"\n",
    "    Path.mkdir(moldir, parents=True, exist_ok=True)\n",
    "    mol_path = moldir  / (inchikey + \".inp\")\n",
    "    Path.touch(mol_path)\n",
    "\n",
    "    AllChem.EmbedMolecule(mol, maxAttempts=10000,useRandomCoords=False)\n",
    "    conf = mol.GetConformer()\n",
    "    multiplicity = CalculateSpinMultiplicity(mol)\n",
    "    opt = f''' $CONTRL SCFTYP={get_method(multiplicity)} MULT={multiplicity} NPRINT=-5 RUNTYP=OPTIMIZE $END\\n $STATPT OPTTOL=0.0005 NSTEP=100 NPRT=-2 $END\\n $BASIS  GBASIS=N31 NGAUSS=6 $END'''\n",
    "\n",
    "    with open(mol_path, 'w') as outfile:\n",
    "        outfile.write(f\"{opt}{os.linesep}\")\n",
    "        outfile.write(f\"{os.linesep}\")\n",
    "        outfile.write(f\" $DATA{os.linesep}\")\n",
    "        outfile.write(f\"{name}{os.linesep}\")\n",
    "        outfile.write(f\"C1{os.linesep}\")\n",
    "        \n",
    "        for (i, a) in enumerate(mol.GetAtoms()):\n",
    "            pos = conf.GetAtomPosition(i)\n",
    "            outfile.write(f\"{a.GetSymbol()}\\t{a.GetAtomicNum()}\\t{pos.x}\\t{pos.y}\\t{pos.z}{os.linesep}\")\n",
    "        \n",
    "        outfile.write(f\"$END{os.linesep}\")\n"
   ]
  }
 ],
 "metadata": {
  "kernelspec": {
   "display_name": "ei_spectra_predictions",
   "language": "python",
   "name": "python3"
  },
  "language_info": {
   "codemirror_mode": {
    "name": "ipython",
    "version": 3
   },
   "file_extension": ".py",
   "mimetype": "text/x-python",
   "name": "python",
   "nbconvert_exporter": "python",
   "pygments_lexer": "ipython3",
   "version": "3.10.9"
  },
  "orig_nbformat": 4
 },
 "nbformat": 4,
 "nbformat_minor": 2
}
