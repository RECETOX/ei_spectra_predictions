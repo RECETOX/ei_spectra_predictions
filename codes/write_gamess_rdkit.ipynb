{
 "cells": [
  {
   "cell_type": "code",
   "execution_count": null,
   "metadata": {},
   "outputs": [],
   "source": [
    "from rdkit import Chem\n",
    "from rdkit.Chem import AllChem\n",
    "from pathlib import Path\n",
    "import os\n",
    "from jinja2 import Environment, FileSystemLoader"
   ]
  },
  {
   "cell_type": "code",
   "execution_count": null,
   "metadata": {},
   "outputs": [],
   "source": [
    "def CalculateSpinMultiplicity(Mol):\n",
    " \"\"\"Calculate spin multiplicity of a molecule. The spin multiplicity is calculated\n",
    " from the number of free radical electrons using Hund's rule of maximum\n",
    " multiplicity defined as 2S + 1 where S is the total electron spin. The\n",
    " total spin is 1/2 the number of free radical electrons in a molecule.\n",
    "\n",
    " Arguments:\n",
    " Mol (object): RDKit molecule object.\n",
    "\n",
    " Returns:\n",
    " int : Spin multiplicity.\n",
    "\n",
    " \"\"\"\n",
    "\n",
    " # Calculate spin multiplicity using Hund's rule of maximum multiplicity...\n",
    " NumRadicalElectrons = 0\n",
    " for Atom in Mol.GetAtoms():\n",
    "    NumRadicalElectrons += Atom.GetNumRadicalElectrons()\n",
    "\n",
    " TotalElectronicSpin = NumRadicalElectrons/2\n",
    " SpinMultiplicity = 2 * TotalElectronicSpin + 1\n",
    "\n",
    " return int(SpinMultiplicity)"
   ]
  },
  {
   "cell_type": "code",
   "execution_count": null,
   "metadata": {},
   "outputs": [],
   "source": [
    "def get_method(multiplicity):\n",
    "    if multiplicity % 2 == 0 :\n",
    "        method = 'ROHF'\n",
    "    else:\n",
    "        method = 'RHF'\n",
    "    return method"
   ]
  },
  {
   "cell_type": "code",
   "execution_count": null,
   "metadata": {},
   "outputs": [],
   "source": [
    "def read_parameters(param_file):   \n",
    "    mylist = [] \n",
    "    with open(param_file, 'r') as f:\n",
    "            lines = f.readlines()\n",
    "            for line in lines:\n",
    "                if \"WALLTIME\" in line:\n",
    "                    mylist.append(line.split()[2])\n",
    "                if \"NCPUS\" in line:\n",
    "                    mylist.append(line.split()[2])\n",
    "                if \"MEM\" in line:\n",
    "                    mylist.append(line.split()[2])\n",
    "                if \"SCRATCH_LOCAL\" in line:\n",
    "                    mylist.append(line.split()[2])\n",
    "                if \"USER_EMAIL\" in line:\n",
    "                    mylist.append(line.split()[2])\n",
    "    return mylist"
   ]
  },
  {
   "cell_type": "code",
   "execution_count": null,
   "metadata": {},
   "outputs": [],
   "source": [
    "def write_pbs_from_template(mylist, molname,templatename,file):\n",
    "    content = templatename.render(MOLNAME=molname,\n",
    "        WALLTIME=mylist[0],\n",
    "        NCPUS=mylist[1],\n",
    "        MEM=mylist[2],\n",
    "        SCRATCH_LOCAL=mylist[3],\n",
    "        USER_EMAIL=mylist[4])\n",
    "    with open(file, 'w') as message:\n",
    "        message.write(content)"
   ]
  },
  {
   "cell_type": "code",
   "execution_count": null,
   "metadata": {},
   "outputs": [],
   "source": [
    "template_path=Path(\"../templates\").resolve()\n",
    "file_loader=FileSystemLoader(template_path)\n",
    "environment = Environment(loader=file_loader)"
   ]
  },
  {
   "cell_type": "code",
   "execution_count": null,
   "metadata": {},
   "outputs": [],
   "source": [
    "molfile = Chem.SDMolSupplier(\"../data/sample.sdf\")\n",
    "\n",
    "for mol in molfile:\n",
    "    mol = Chem.AddHs(mol)\n",
    "    chem_class = mol.GetProp(\"Class\").replace(\" \", \"_\")\n",
    "    inchikey = mol.GetProp(\"InChIKey\")\n",
    "    name = mol.GetProp(\"NAME\")\n",
    "\n",
    "    moldir = Path.cwd() / \"classes\" / chem_class / inchikey / \"Optimization\"\n",
    "    Path.mkdir(moldir, parents=True, exist_ok=True)\n",
    "    mol_input_path = moldir  / (inchikey + \".inp\")\n",
    "    Path.touch(mol_input_path)\n",
    "\n",
    "    spectradir = Path.cwd() / \"classes\" / chem_class / inchikey / \"Spectra\"\n",
    "    Path.mkdir(spectradir, parents=True, exist_ok=True)\n",
    "    spectrum_input_path = spectradir  / (\"qcxms\" + \".in\")\n",
    "    Path.touch(spectrum_input_path)\n",
    "\n",
    "    AllChem.EmbedMolecule(mol, maxAttempts=10000,useRandomCoords=False)\n",
    "    conf = mol.GetConformer()\n",
    "    multiplicity = CalculateSpinMultiplicity(mol)\n",
    "    opt = f''' $CONTRL SCFTYP={get_method(multiplicity)} MULT={multiplicity} NPRINT=-5 RUNTYP=OPTIMIZE $END\\n $STATPT OPTTOL=0.0005 NSTEP=100 NPRT=-2 $END\\n $BASIS  GBASIS=N31 NGAUSS=6 $END'''\n",
    "\n",
    "    with open(mol_input_path, 'w') as outfile:\n",
    "        outfile.write(f\"{opt}{os.linesep}\")\n",
    "        outfile.write(f\"{os.linesep}\")\n",
    "        outfile.write(f\" $DATA{os.linesep}\")\n",
    "        outfile.write(f\"{name}{os.linesep}\")\n",
    "        outfile.write(f\"C1{os.linesep}\")\n",
    "        \n",
    "        for (i, a) in enumerate(mol.GetAtoms()):\n",
    "            pos = conf.GetAtomPosition(i)\n",
    "            outfile.write(f\"{a.GetSymbol()}\\t{a.GetAtomicNum()}{pos.x:>16.10f}{pos.y:>16.10f}{pos.z:>16.10f}{os.linesep}\")\n",
    "        \n",
    "        outfile.write(f\"$END{os.linesep}\")\n",
    "\n",
    "    param_filename =  \"all_parameters.in\"\n",
    "    pbs_template = environment.get_template(\"optimization_gamess_template.pbs\")\n",
    "    mol_pbs_path = moldir  / (inchikey + \".pbs\")\n",
    "\n",
    "\n",
    "    write_pbs_from_template(read_parameters(param_filename), inchikey, pbs_template, mol_pbs_path)"
   ]
  }
 ],
 "metadata": {
  "kernelspec": {
   "display_name": "ei_spectra_predictions",
   "language": "python",
   "name": "python3"
  },
  "language_info": {
   "codemirror_mode": {
    "name": "ipython",
    "version": 3
   },
   "file_extension": ".py",
   "mimetype": "text/x-python",
   "name": "python",
   "nbconvert_exporter": "python",
   "pygments_lexer": "ipython3",
   "version": "3.11.3"
  },
  "orig_nbformat": 4
 },
 "nbformat": 4,
 "nbformat_minor": 2
}
